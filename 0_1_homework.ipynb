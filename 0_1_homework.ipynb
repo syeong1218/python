{
  "nbformat": 4,
  "nbformat_minor": 0,
  "metadata": {
    "colab": {
      "name": "0_1 homework.ipynb",
      "provenance": [],
      "collapsed_sections": [],
      "include_colab_link": true
    },
    "kernelspec": {
      "name": "python3",
      "display_name": "Python 3"
    }
  },
  "cells": [
    {
      "cell_type": "markdown",
      "metadata": {
        "id": "view-in-github",
        "colab_type": "text"
      },
      "source": [
        "<a href=\"https://colab.research.google.com/github/syeong1218/python/blob/master/0_1_homework.ipynb\" target=\"_parent\"><img src=\"https://colab.research.google.com/assets/colab-badge.svg\" alt=\"Open In Colab\"/></a>"
      ]
    },
    {
      "cell_type": "markdown",
      "metadata": {
        "id": "T44U5G0HgfZ9",
        "colab_type": "text"
      },
      "source": [
        "# 0.1을 이진수로 나타내면?\n",
        "\n",
        "\n",
        "이진수란 : 0과 1, 단 두개의 숫자만을 사용하는 수이다.\n",
        "\n",
        "예를 들어 십진수를 이진수로 표현하면 다음과 같다\n",
        "\n",
        "``` \n",
        "2 -> 10\n",
        "3 -> 11\n",
        "4 -> 100\n",
        "```\n",
        "\n",
        "컴퓨터는 전기 신호로 모든 데이터를 처리하기 때문에 이진수를 사용한다. 따라서 전기가 ON일 때는 1, 전기가 OFF일 때는 0을 나타낸다. \n",
        "\n",
        "따라서 컴퓨터는 데이터를 모두 이진수로 치환해 계산하지만, 이진수로 바꿀 수 없는 값이 존재한다. 그 대표적인 예가 **0.1**이다.\n",
        "\n",
        "1/10을 이진수로 나타내면 무한히 반복되는 소수로 다음과 같다.\n",
        "\n",
        "```0.0001100110011001100110011001100110011001100110011...```\n",
        "\n",
        "float는 이진 분수로 근사 되는 데, 최상위 비트로부터 시작하는 53비트를 분자로 사용하고, 2의 거듭제곱 수를 분모로 사용한다. 1/10의 경우, 이진 분수는 3602879701896397 / 2 ** 55 인데, 실제 값 1/10과 거의 같지만 정확히 같지는 않다.\n",
        "\n",
        "파이썬은 저장된 이진 근삿값의 진짜 십진 값에 대한 십진 근삿값을 인쇄한다. 만약 파이썬이 0.1로 저장된 이진 근삿값의 진짜 십진 값을 출력한다면 다음과 같이 표시한다.\n",
        "\n",
        "```0.1000000000000000055511151231257827021181583404541015625```"
      ]
    },
    {
      "cell_type": "code",
      "metadata": {
        "id": "R-Vw9eOprCiv",
        "colab_type": "code",
        "colab": {
          "base_uri": "https://localhost:8080/",
          "height": 35
        },
        "outputId": "468f0dac-6738-4b38-fc73-794ccde32505"
      },
      "source": [
        "1/10"
      ],
      "execution_count": 7,
      "outputs": [
        {
          "output_type": "execute_result",
          "data": {
            "text/plain": [
              "0.1"
            ]
          },
          "metadata": {
            "tags": []
          },
          "execution_count": 7
        }
      ]
    },
    {
      "cell_type": "markdown",
      "metadata": {
        "id": "Pd26KRY-rEHQ",
        "colab_type": "text"
      },
      "source": [
        "인쇄된 결과가 정확히 1/10인 것처럼 보여도, 실제 저장된 값은 가장 가까운 표현 가능한 이진 소수이다.\n",
        "\n",
        "0.1 과 0.10000000000000001 및 0.1000000000000000055511151231257827021181583404541015625 는 모두 3602879701896397 / 2 ** 55 로 근사된다."
      ]
    },
    {
      "cell_type": "code",
      "metadata": {
        "id": "Nm4dNuhIrT_l",
        "colab_type": "code",
        "colab": {
          "base_uri": "https://localhost:8080/",
          "height": 35
        },
        "outputId": "6ac9c46a-fbb4-41d3-cbd6-a58b0962b5ee"
      },
      "source": [
        "0.1==3602879701896397 / 2 ** 55"
      ],
      "execution_count": 8,
      "outputs": [
        {
          "output_type": "execute_result",
          "data": {
            "text/plain": [
              "True"
            ]
          },
          "metadata": {
            "tags": []
          },
          "execution_count": 8
        }
      ]
    },
    {
      "cell_type": "code",
      "metadata": {
        "id": "lsoBmYsXrVY-",
        "colab_type": "code",
        "colab": {
          "base_uri": "https://localhost:8080/",
          "height": 35
        },
        "outputId": "c065cc88-0252-467c-ccb0-2158180fe309"
      },
      "source": [
        "0.10000000000000001==3602879701896397 / 2 ** 55"
      ],
      "execution_count": 9,
      "outputs": [
        {
          "output_type": "execute_result",
          "data": {
            "text/plain": [
              "True"
            ]
          },
          "metadata": {
            "tags": []
          },
          "execution_count": 9
        }
      ]
    },
    {
      "cell_type": "code",
      "metadata": {
        "id": "Pboygz8_rZJ1",
        "colab_type": "code",
        "colab": {
          "base_uri": "https://localhost:8080/",
          "height": 35
        },
        "outputId": "5c1c6426-ce0a-437e-fe2c-5ad82ffa3f46"
      },
      "source": [
        "0.1000000000000000055511151231257827021181583404541015625==3602879701896397 / 2 ** 55"
      ],
      "execution_count": 10,
      "outputs": [
        {
          "output_type": "execute_result",
          "data": {
            "text/plain": [
              "True"
            ]
          },
          "metadata": {
            "tags": []
          },
          "execution_count": 10
        }
      ]
    },
    {
      "cell_type": "markdown",
      "metadata": {
        "id": "JJPB1j5osHrX",
        "colab_type": "text"
      },
      "source": [
        "### 따라서 0.1은 이진수로 나타낼 수 없다. 컴퓨터에서 출력하는 0.1은 0.1이 아니라 근삿값이다."
      ]
    }
  ]
}