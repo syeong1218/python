{
  "nbformat": 4,
  "nbformat_minor": 0,
  "metadata": {
    "colab": {
      "name": "2장 연습문제.ipynb",
      "provenance": [],
      "collapsed_sections": []
    },
    "kernelspec": {
      "name": "python3",
      "display_name": "Python 3"
    }
  },
  "cells": [
    {
      "cell_type": "markdown",
      "metadata": {
        "id": "DfMzU5LR6lh3",
        "colab_type": "text"
      },
      "source": [
        "## 1\n",
        "홍길동 씨의 과목별 점수는 다음과 같다. 총길동씨의 평균 점수를 구해 보자.\n",
        "\n",
        "| 과목 | 점수 | \n",
        "|:----:|----:|\n",
        "|국어|80|\n",
        "|영어|75|\n",
        "|수학|55|"
      ]
    },
    {
      "cell_type": "code",
      "metadata": {
        "id": "k4D0Npk_6i7m",
        "colab_type": "code",
        "outputId": "e711092c-ba88-40d1-ad50-0d4eef6aa169",
        "colab": {
          "base_uri": "https://localhost:8080/",
          "height": 34
        }
      },
      "source": [
        "a=80\n",
        "b=75\n",
        "c=55\n",
        "(a+b+c)/3"
      ],
      "execution_count": 0,
      "outputs": [
        {
          "output_type": "execute_result",
          "data": {
            "text/plain": [
              "70.0"
            ]
          },
          "metadata": {
            "tags": []
          },
          "execution_count": 1
        }
      ]
    },
    {
      "cell_type": "markdown",
      "metadata": {
        "id": "QhbSpE4A6m2u",
        "colab_type": "text"
      },
      "source": [
        "## 2 \n",
        "자연수 13이 홀수인지 짝수인지 판별할 수 있는 방법에 대해 말해 보자."
      ]
    },
    {
      "cell_type": "code",
      "metadata": {
        "id": "P2THrT417CiV",
        "colab_type": "code",
        "outputId": "01086cba-fed8-4139-a2cd-331c8b5ff094",
        "colab": {
          "base_uri": "https://localhost:8080/",
          "height": 34
        }
      },
      "source": [
        "13%2"
      ],
      "execution_count": 0,
      "outputs": [
        {
          "output_type": "execute_result",
          "data": {
            "text/plain": [
              "1"
            ]
          },
          "metadata": {
            "tags": []
          },
          "execution_count": 2
        }
      ]
    },
    {
      "cell_type": "markdown",
      "metadata": {
        "id": "xUB2NKIB7Lb1",
        "colab_type": "text"
      },
      "source": [
        "    자연수 2로 나누었을 때의 나머지 값이 1은 경우 홀수, 0인 경우 짝수이다. 13을 2로 나누었을 때 나머지 값이 1이 나와 13은 홀수이다."
      ]
    },
    {
      "cell_type": "markdown",
      "metadata": {
        "id": "cOtnZJfB7ccP",
        "colab_type": "text"
      },
      "source": [
        "## 3\n",
        "홍길동씨의 주민등록번호는 881120-1068234이다. 홍길동 씨의 주민등록번호를 연월일(YYYYMMDD) 부분과 그 뒤의 숫자 부분으로 나누어 출력해 보자."
      ]
    },
    {
      "cell_type": "code",
      "metadata": {
        "id": "3Ab430A37KRF",
        "colab_type": "code",
        "outputId": "8f8b0d0c-10f6-4cd2-efef-52d3783911de",
        "colab": {
          "base_uri": "https://localhost:8080/",
          "height": 52
        }
      },
      "source": [
        "pin = \"881120-1068234\"\n",
        "yyyymmdd = pin[:6]\n",
        "num = pin[7:]\n",
        "print(yyyymmdd)\n",
        "print(num)"
      ],
      "execution_count": 0,
      "outputs": [
        {
          "output_type": "stream",
          "text": [
            "881120\n",
            "1068234\n"
          ],
          "name": "stdout"
        }
      ]
    },
    {
      "cell_type": "markdown",
      "metadata": {
        "id": "Pnj7mTBz7z_d",
        "colab_type": "text"
      },
      "source": [
        "## 4 \n",
        "주민등록번호 뒷자리의 맨 첫 번째 숫자는 성별을 나타낸다. 주민등록번호에서 성별을 나타내는 숫자를 출력해 보자."
      ]
    },
    {
      "cell_type": "code",
      "metadata": {
        "id": "WYuVg2Q67yX0",
        "colab_type": "code",
        "outputId": "cd725ab2-6c74-4819-a659-7be16f4db0ee",
        "colab": {
          "base_uri": "https://localhost:8080/",
          "height": 34
        }
      },
      "source": [
        "pin = \"881120-1068234\"\n",
        "print(pin[7])"
      ],
      "execution_count": 0,
      "outputs": [
        {
          "output_type": "stream",
          "text": [
            "1\n"
          ],
          "name": "stdout"
        }
      ]
    },
    {
      "cell_type": "markdown",
      "metadata": {
        "id": "QWi8R7sNQYuF",
        "colab_type": "text"
      },
      "source": [
        "    성별을 나타내는 숫자는 8번째 자리이고, 1이면 남자 2이면 여자이다. 따라서 이 주민등록번호는 남자이다."
      ]
    },
    {
      "cell_type": "markdown",
      "metadata": {
        "id": "tppYKfuMQkg3",
        "colab_type": "text"
      },
      "source": [
        "## 5\n",
        "다음과 같은 문자열 a:b:c:d가 있다. 문자열의 replace 함수를 사용하여 a#b#c#d로 바꿔서 출력해 보자.\n",
        "\n",
        " **a = \"a:b:c:d\"**"
      ]
    },
    {
      "cell_type": "code",
      "metadata": {
        "id": "_UteK5wX7_8s",
        "colab_type": "code",
        "outputId": "963e06ae-210d-41ff-8bcc-d40738cf52eb",
        "colab": {
          "base_uri": "https://localhost:8080/",
          "height": 35
        }
      },
      "source": [
        "a = \"a:b:c:d\"\n",
        "b = a.replace(\":\", \"#\")\n",
        "print(b)"
      ],
      "execution_count": 0,
      "outputs": [
        {
          "output_type": "stream",
          "text": [
            "a#b#c#d\n"
          ],
          "name": "stdout"
        }
      ]
    },
    {
      "cell_type": "markdown",
      "metadata": {
        "id": "0IAY35KnQ2En",
        "colab_type": "text"
      },
      "source": [
        "## 6 \n",
        "[1, 3, 5, 4, 2] 리스트를 [5, 4, 3, 2, 1]로 만들어 보자."
      ]
    },
    {
      "cell_type": "code",
      "metadata": {
        "id": "GtByqfLAQwgp",
        "colab_type": "code",
        "outputId": "aa471c68-764b-4a77-904c-9a5f1bfccf3d",
        "colab": {
          "base_uri": "https://localhost:8080/",
          "height": 35
        }
      },
      "source": [
        "a = [1, 3, 5, 4, 2]\n",
        "a.sort( )\n",
        "a.reverse( )\n",
        "print(a)"
      ],
      "execution_count": 0,
      "outputs": [
        {
          "output_type": "stream",
          "text": [
            "[5, 4, 3, 2, 1]\n"
          ],
          "name": "stdout"
        }
      ]
    },
    {
      "cell_type": "markdown",
      "metadata": {
        "id": "3zW8ziC1Q95Y",
        "colab_type": "text"
      },
      "source": [
        "## 7 \n",
        "['Life', 'is', 'too', 'short'] 리스트를 Life is too short 문자열로 만들어 출력해 보자."
      ]
    },
    {
      "cell_type": "code",
      "metadata": {
        "id": "-eVg7fbJQ7YU",
        "colab_type": "code",
        "outputId": "fbc9567e-a3d1-4a47-bd8f-1dfc8e556b55",
        "colab": {
          "base_uri": "https://localhost:8080/",
          "height": 35
        }
      },
      "source": [
        "a = ['Life', 'is', 'too', 'short']\n",
        "result = \" \".join(a)\n",
        "print(result)"
      ],
      "execution_count": 0,
      "outputs": [
        {
          "output_type": "stream",
          "text": [
            "Life is too short\n"
          ],
          "name": "stdout"
        }
      ]
    },
    {
      "cell_type": "markdown",
      "metadata": {
        "id": "SEKcxnkwRdBX",
        "colab_type": "text"
      },
      "source": [
        "## 8\n",
        "(1,2,3) 튜플에 값 4를 추가하여 (1,2,3,4)를 만들어 출력해 보자."
      ]
    },
    {
      "cell_type": "code",
      "metadata": {
        "id": "Z7PY4bIeRDxg",
        "colab_type": "code",
        "outputId": "bbe0fd7d-57b5-4339-8aa1-260c346eb8a5",
        "colab": {
          "base_uri": "https://localhost:8080/",
          "height": 35
        }
      },
      "source": [
        "a = (1, 2, 3)\n",
        "a = a + (4,)\n",
        "print(a)"
      ],
      "execution_count": 0,
      "outputs": [
        {
          "output_type": "stream",
          "text": [
            "(1, 2, 3, 4)\n"
          ],
          "name": "stdout"
        }
      ]
    },
    {
      "cell_type": "markdown",
      "metadata": {
        "id": "dhpR5Wy6RsAG",
        "colab_type": "text"
      },
      "source": [
        "## 9\n",
        "다음과 같은 딕셔너리 a가 있다.\n",
        "\n",
        "```\n",
        "a = dict()\n",
        "a\n",
        "{}\n",
        "```\n",
        "\n",
        "다음 중 오류가 발생하는 경우를 고르고, 그 이유를 설명해 보자.\n",
        "\n",
        "1. a['name'] = 'python'\n",
        "2. a[('a',)] = 'python'\n",
        "3. a[[1]] = 'python'\n",
        "4. a[250] = 'python'"
      ]
    },
    {
      "cell_type": "code",
      "metadata": {
        "id": "cgmgxtVDWg3P",
        "colab_type": "code",
        "outputId": "2cdd055f-576f-45ff-901b-050034453ebd",
        "colab": {
          "base_uri": "https://localhost:8080/",
          "height": 35
        }
      },
      "source": [
        "# 1\n",
        "a={'name': 'python'}\n",
        "a"
      ],
      "execution_count": 0,
      "outputs": [
        {
          "output_type": "execute_result",
          "data": {
            "text/plain": [
              "{'name': 'python'}"
            ]
          },
          "metadata": {
            "tags": []
          },
          "execution_count": 18
        }
      ]
    },
    {
      "cell_type": "code",
      "metadata": {
        "id": "9Yjj08taXExE",
        "colab_type": "code",
        "outputId": "493cdc0e-ecf1-4edc-9c0c-4fa9399f0a55",
        "colab": {
          "base_uri": "https://localhost:8080/",
          "height": 35
        }
      },
      "source": [
        "# 2\n",
        "a={('a',): 'python'}\n",
        "a"
      ],
      "execution_count": 0,
      "outputs": [
        {
          "output_type": "execute_result",
          "data": {
            "text/plain": [
              "{('a',): 'python'}"
            ]
          },
          "metadata": {
            "tags": []
          },
          "execution_count": 19
        }
      ]
    },
    {
      "cell_type": "code",
      "metadata": {
        "id": "Jnai7IeyXKyU",
        "colab_type": "code",
        "outputId": "1f8b7354-3a73-4fb0-9427-714d72df7509",
        "colab": {
          "base_uri": "https://localhost:8080/",
          "height": 190
        }
      },
      "source": [
        "# 3\n",
        "a={[1]: 'python'}\n",
        "a"
      ],
      "execution_count": 0,
      "outputs": [
        {
          "output_type": "error",
          "ename": "TypeError",
          "evalue": "ignored",
          "traceback": [
            "\u001b[0;31m---------------------------------------------------------------------------\u001b[0m",
            "\u001b[0;31mTypeError\u001b[0m                                 Traceback (most recent call last)",
            "\u001b[0;32m<ipython-input-20-ddb4f7cddad8>\u001b[0m in \u001b[0;36m<module>\u001b[0;34m()\u001b[0m\n\u001b[0;32m----> 1\u001b[0;31m \u001b[0ma\u001b[0m\u001b[0;34m=\u001b[0m\u001b[0;34m{\u001b[0m\u001b[0;34m[\u001b[0m\u001b[0;36m1\u001b[0m\u001b[0;34m]\u001b[0m\u001b[0;34m:\u001b[0m \u001b[0;34m'python'\u001b[0m\u001b[0;34m}\u001b[0m\u001b[0;34m\u001b[0m\u001b[0;34m\u001b[0m\u001b[0m\n\u001b[0m\u001b[1;32m      2\u001b[0m \u001b[0ma\u001b[0m\u001b[0;34m\u001b[0m\u001b[0;34m\u001b[0m\u001b[0m\n",
            "\u001b[0;31mTypeError\u001b[0m: unhashable type: 'list'"
          ]
        }
      ]
    },
    {
      "cell_type": "code",
      "metadata": {
        "id": "rMZku1-_XQbG",
        "colab_type": "code",
        "outputId": "50d14a8a-50c3-450d-a2d0-f16fb011d4a5",
        "colab": {
          "base_uri": "https://localhost:8080/",
          "height": 35
        }
      },
      "source": [
        "# 4\n",
        "a={250: 'python'}\n",
        "a"
      ],
      "execution_count": 0,
      "outputs": [
        {
          "output_type": "execute_result",
          "data": {
            "text/plain": [
              "{250: 'python'}"
            ]
          },
          "metadata": {
            "tags": []
          },
          "execution_count": 21
        }
      ]
    },
    {
      "cell_type": "markdown",
      "metadata": {
        "id": "m9gqL1-KXUVO",
        "colab_type": "text"
      },
      "source": [
        "    3번을 실행하면 오류가 발생한다. 그 이유는 딕셔너리의 키로는 변하는 값을 사용할 수 없기 때문이다. 3번에서 키로 사용된 [1]은 리스트이므로 변하는 값이다. 다른 예에서 키로 사용된 문자열, 튜플, 숫자는 변하지 않는 값이므로 딕셔너리의 키로 사용이 가능하다."
      ]
    },
    {
      "cell_type": "markdown",
      "metadata": {
        "id": "YwIzjkTrSruU",
        "colab_type": "text"
      },
      "source": [
        "## 10\n",
        "딕셔너리 a에서 'B'에 해당되는 값을 추출해 보자.\n",
        "\n",
        "**a = {'A':90, 'B':80, 'C':70}**"
      ]
    },
    {
      "cell_type": "code",
      "metadata": {
        "id": "wr9yCgn2YNWi",
        "colab_type": "code",
        "outputId": "201e572b-203e-4ec1-e68a-d4863d19b471",
        "colab": {
          "base_uri": "https://localhost:8080/",
          "height": 53
        }
      },
      "source": [
        "a = {'A':90, 'B':80, 'C':70}\n",
        "result = a.pop('B')        \n",
        "print(result)\n",
        "print(a) "
      ],
      "execution_count": 0,
      "outputs": [
        {
          "output_type": "stream",
          "text": [
            "80\n",
            "{'A': 90, 'C': 70}\n"
          ],
          "name": "stdout"
        }
      ]
    },
    {
      "cell_type": "markdown",
      "metadata": {
        "id": "ZEdP4c57Sz28",
        "colab_type": "text"
      },
      "source": [
        "## 11\n",
        "a 리스트에서 중복 숫자를 제거해 보자.\n",
        "\n",
        "**a = [1, 1, 1, 2, 2, 3, 3, 3, 4, 4, 5]**"
      ]
    },
    {
      "cell_type": "code",
      "metadata": {
        "id": "z8xp_MJKYBHM",
        "colab_type": "code",
        "outputId": "cadc9210-bb00-4edb-8c19-13e5c1b78fbf",
        "colab": {
          "base_uri": "https://localhost:8080/",
          "height": 35
        }
      },
      "source": [
        "a = [1, 1, 1, 2, 2, 3, 3, 3, 4, 4, 5]\n",
        "aSet = set(a)    \n",
        "b = list(aSet)    \n",
        "print(b)"
      ],
      "execution_count": 0,
      "outputs": [
        {
          "output_type": "stream",
          "text": [
            "[1, 2, 3, 4, 5]\n"
          ],
          "name": "stdout"
        }
      ]
    },
    {
      "cell_type": "markdown",
      "metadata": {
        "id": "P1YFmWP3S4tT",
        "colab_type": "text"
      },
      "source": [
        "## 12\n",
        "\n",
        "파이썬은 다음처럼 동일한 값에 여러 개의 변수를 선언할 수 있다. 다음과 같이 a, b 변수를 선언한 후 a의 두 번째 요솟값을 변경하면 b 값은 어떻게 될까? 그리고 이런 결과가 오는 이유에 대해 설명해 보자.\n",
        "\n",
        "```\n",
        "a = b = [1, 2, 3]\n",
        "a[1] = 4\n",
        "print(b)\n",
        "```"
      ]
    },
    {
      "cell_type": "code",
      "metadata": {
        "id": "jnW-PaJcTCeC",
        "colab_type": "code",
        "outputId": "a7660010-70fa-45e0-cdd5-5a5edb42ae00",
        "colab": {
          "base_uri": "https://localhost:8080/",
          "height": 35
        }
      },
      "source": [
        "a = b = [1, 2, 3]\n",
        "a[1] = 4\n",
        "print(b)"
      ],
      "execution_count": 0,
      "outputs": [
        {
          "output_type": "stream",
          "text": [
            "[1, 4, 3]\n"
          ],
          "name": "stdout"
        }
      ]
    },
    {
      "cell_type": "markdown",
      "metadata": {
        "id": "4yAPDMCdYjVK",
        "colab_type": "text"
      },
      "source": [
        "a와 b 변수는 모두 동일한 [1, 2, 3]이라는 리스트 객체를 가리키고 있기 때문에 a가 변경되면 b도 변경된다."
      ]
    }
  ]
}