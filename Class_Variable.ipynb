{
  "nbformat": 4,
  "nbformat_minor": 0,
  "metadata": {
    "colab": {
      "name": "Class Variable.ipynb",
      "provenance": [],
      "collapsed_sections": [],
      "include_colab_link": true
    },
    "kernelspec": {
      "name": "python3",
      "display_name": "Python 3"
    }
  },
  "cells": [
    {
      "cell_type": "markdown",
      "metadata": {
        "id": "view-in-github",
        "colab_type": "text"
      },
      "source": [
        "<a href=\"https://colab.research.google.com/github/syeong1218/python/blob/master/Class_Variable.ipynb\" target=\"_parent\"><img src=\"https://colab.research.google.com/assets/colab-badge.svg\" alt=\"Open In Colab\"/></a>"
      ]
    },
    {
      "cell_type": "markdown",
      "metadata": {
        "id": "HbmqPr2eAHbv",
        "colab_type": "text"
      },
      "source": [
        "# 클래스 변수\n",
        "\n",
        "클래스가 있는 객체 지향 프로그래밍에서 클래스 변수는 클래스의 인스턴스가 얼마나 많이 존재하는지에 관계 없이, 하나의 사본이 존재하는 클래스에 정의된 변수이다.\n",
        "\n",
        "즉, 클래스 변수는 한 단체의 단체명과 같이 같은 클래스로 만들어진 모든 인스턴스가 공유하는 데이터이다.\n",
        "\n"
      ]
    },
    {
      "cell_type": "code",
      "metadata": {
        "id": "AdU-MeHfCasE",
        "colab_type": "code",
        "colab": {}
      },
      "source": [
        "class Family:\n",
        "  lastname = \"김\" # lastname = 클래스 변수"
      ],
      "execution_count": 0,
      "outputs": []
    },
    {
      "cell_type": "code",
      "metadata": {
        "id": "sHKsegR_Cj3s",
        "colab_type": "code",
        "outputId": "61e3901d-b86c-4cbd-eb11-d6b4fcf6ee7d",
        "colab": {
          "base_uri": "https://localhost:8080/",
          "height": 35
        }
      },
      "source": [
        "Family.lastname"
      ],
      "execution_count": 0,
      "outputs": [
        {
          "output_type": "execute_result",
          "data": {
            "text/plain": [
              "'김'"
            ]
          },
          "metadata": {
            "tags": []
          },
          "execution_count": 2
        }
      ]
    },
    {
      "cell_type": "code",
      "metadata": {
        "id": "wyXF_tnwCniY",
        "colab_type": "code",
        "colab": {}
      },
      "source": [
        "a=Family()\n",
        "b=Family()"
      ],
      "execution_count": 0,
      "outputs": []
    },
    {
      "cell_type": "code",
      "metadata": {
        "id": "katjMNUfCt15",
        "colab_type": "code",
        "outputId": "30cfb6fe-3765-4461-906f-77a512691c38",
        "colab": {
          "base_uri": "https://localhost:8080/",
          "height": 35
        }
      },
      "source": [
        "a.lastname"
      ],
      "execution_count": 0,
      "outputs": [
        {
          "output_type": "execute_result",
          "data": {
            "text/plain": [
              "'김'"
            ]
          },
          "metadata": {
            "tags": []
          },
          "execution_count": 4
        }
      ]
    },
    {
      "cell_type": "code",
      "metadata": {
        "id": "4Mvv5liTCv75",
        "colab_type": "code",
        "outputId": "35e98ab8-677f-48c0-ed4f-91c03b300135",
        "colab": {
          "base_uri": "https://localhost:8080/",
          "height": 35
        }
      },
      "source": [
        "b.lastname"
      ],
      "execution_count": 0,
      "outputs": [
        {
          "output_type": "execute_result",
          "data": {
            "text/plain": [
              "'김'"
            ]
          },
          "metadata": {
            "tags": []
          },
          "execution_count": 5
        }
      ]
    },
    {
      "cell_type": "code",
      "metadata": {
        "id": "Pb-XsCZSCxhc",
        "colab_type": "code",
        "outputId": "f19751fa-05ad-4d00-c83a-976f4a261eaf",
        "colab": {
          "base_uri": "https://localhost:8080/",
          "height": 35
        }
      },
      "source": [
        "id(Family.lastname)"
      ],
      "execution_count": 0,
      "outputs": [
        {
          "output_type": "execute_result",
          "data": {
            "text/plain": [
              "140300853121152"
            ]
          },
          "metadata": {
            "tags": []
          },
          "execution_count": 6
        }
      ]
    },
    {
      "cell_type": "code",
      "metadata": {
        "id": "sZNwhTVZCzkG",
        "colab_type": "code",
        "outputId": "02dd19b1-b436-4df3-f245-f608d33d2fcf",
        "colab": {
          "base_uri": "https://localhost:8080/",
          "height": 35
        }
      },
      "source": [
        "id(a.lastname)"
      ],
      "execution_count": 0,
      "outputs": [
        {
          "output_type": "execute_result",
          "data": {
            "text/plain": [
              "140300853121152"
            ]
          },
          "metadata": {
            "tags": []
          },
          "execution_count": 7
        }
      ]
    },
    {
      "cell_type": "code",
      "metadata": {
        "id": "v9jPMBqVC1ru",
        "colab_type": "code",
        "outputId": "22f8a3c1-16d5-45d7-d0e7-7f60c29bbfef",
        "colab": {
          "base_uri": "https://localhost:8080/",
          "height": 35
        }
      },
      "source": [
        "id(b.lastname)"
      ],
      "execution_count": 0,
      "outputs": [
        {
          "output_type": "execute_result",
          "data": {
            "text/plain": [
              "140300853121152"
            ]
          },
          "metadata": {
            "tags": []
          },
          "execution_count": 8
        }
      ]
    },
    {
      "cell_type": "markdown",
      "metadata": {
        "id": "LJ4YXvu9C6KL",
        "colab_type": "text"
      },
      "source": [
        "여기서 a와 b는 Family의 인스턴스로 lastname을 공유한다. 그래서 id의 주소는 같다.\n",
        "\n",
        "Family.lastname을 유로 바꿔보면 객체의 lastname 값도 모두 변경된다."
      ]
    },
    {
      "cell_type": "code",
      "metadata": {
        "id": "Sy-a_OfMC3wT",
        "colab_type": "code",
        "colab": {}
      },
      "source": [
        "Family.lastname =\"유\""
      ],
      "execution_count": 0,
      "outputs": []
    },
    {
      "cell_type": "code",
      "metadata": {
        "id": "s2sVe32ODN0k",
        "colab_type": "code",
        "outputId": "a1e53906-54a5-443f-af8d-f5529e098040",
        "colab": {
          "base_uri": "https://localhost:8080/",
          "height": 35
        }
      },
      "source": [
        "a.lastname"
      ],
      "execution_count": 0,
      "outputs": [
        {
          "output_type": "execute_result",
          "data": {
            "text/plain": [
              "'유'"
            ]
          },
          "metadata": {
            "tags": []
          },
          "execution_count": 10
        }
      ]
    },
    {
      "cell_type": "code",
      "metadata": {
        "id": "oFfxsZKGDQMi",
        "colab_type": "code",
        "outputId": "84d641a5-40c9-434e-90c0-8a4b31433184",
        "colab": {
          "base_uri": "https://localhost:8080/",
          "height": 35
        }
      },
      "source": [
        "b.lastname"
      ],
      "execution_count": 0,
      "outputs": [
        {
          "output_type": "execute_result",
          "data": {
            "text/plain": [
              "'유'"
            ]
          },
          "metadata": {
            "tags": []
          },
          "execution_count": 11
        }
      ]
    },
    {
      "cell_type": "code",
      "metadata": {
        "id": "3VCOgtYMDR1h",
        "colab_type": "code",
        "outputId": "82a21fcd-8d86-4fd4-8086-3f79224c37be",
        "colab": {
          "base_uri": "https://localhost:8080/",
          "height": 35
        }
      },
      "source": [
        "id(Family.lastname)"
      ],
      "execution_count": 0,
      "outputs": [
        {
          "output_type": "execute_result",
          "data": {
            "text/plain": [
              "140300853123152"
            ]
          },
          "metadata": {
            "tags": []
          },
          "execution_count": 12
        }
      ]
    },
    {
      "cell_type": "code",
      "metadata": {
        "id": "pqNDfrRQDTjY",
        "colab_type": "code",
        "outputId": "67c68b1a-b5e4-41be-fe64-d23596675433",
        "colab": {
          "base_uri": "https://localhost:8080/",
          "height": 35
        }
      },
      "source": [
        "id(a.lastname)"
      ],
      "execution_count": 0,
      "outputs": [
        {
          "output_type": "execute_result",
          "data": {
            "text/plain": [
              "140300853123152"
            ]
          },
          "metadata": {
            "tags": []
          },
          "execution_count": 13
        }
      ]
    },
    {
      "cell_type": "code",
      "metadata": {
        "id": "7vyR333BDV8V",
        "colab_type": "code",
        "outputId": "80dcefb3-3d3d-4baf-c4e8-7a90a8bfa7fe",
        "colab": {
          "base_uri": "https://localhost:8080/",
          "height": 35
        }
      },
      "source": [
        "id(b.lastname)"
      ],
      "execution_count": 0,
      "outputs": [
        {
          "output_type": "execute_result",
          "data": {
            "text/plain": [
              "140300853123152"
            ]
          },
          "metadata": {
            "tags": []
          },
          "execution_count": 14
        }
      ]
    },
    {
      "cell_type": "markdown",
      "metadata": {
        "id": "voOHLZLjDZje",
        "colab_type": "text"
      },
      "source": [
        "\"김\"일때의 주소와 \"유\"일때의 주소는 바뀌었지만 Family.lastname과 a.lastname, b.lastname의 주소는 동일하다.\n",
        "\n",
        "하지만 객체의 lastname을 따로 바꾸면 그 객체의 lastname값만 바뀌게 된다."
      ]
    },
    {
      "cell_type": "code",
      "metadata": {
        "id": "KFHFZeq6DXV3",
        "colab_type": "code",
        "colab": {}
      },
      "source": [
        "a.lastname = \"박\""
      ],
      "execution_count": 0,
      "outputs": []
    },
    {
      "cell_type": "code",
      "metadata": {
        "id": "tvjakDHMEBuI",
        "colab_type": "code",
        "outputId": "12c62244-f23f-4cc0-9002-ccdd7a2ce7af",
        "colab": {
          "base_uri": "https://localhost:8080/",
          "height": 35
        }
      },
      "source": [
        "Family.lastname"
      ],
      "execution_count": 0,
      "outputs": [
        {
          "output_type": "execute_result",
          "data": {
            "text/plain": [
              "'유'"
            ]
          },
          "metadata": {
            "tags": []
          },
          "execution_count": 16
        }
      ]
    },
    {
      "cell_type": "code",
      "metadata": {
        "id": "yJv47tjOEDzt",
        "colab_type": "code",
        "outputId": "228766c4-6b49-4758-9411-97cdf68ef472",
        "colab": {
          "base_uri": "https://localhost:8080/",
          "height": 35
        }
      },
      "source": [
        "a.lastname"
      ],
      "execution_count": 0,
      "outputs": [
        {
          "output_type": "execute_result",
          "data": {
            "text/plain": [
              "'박'"
            ]
          },
          "metadata": {
            "tags": []
          },
          "execution_count": 17
        }
      ]
    },
    {
      "cell_type": "code",
      "metadata": {
        "id": "hoHd_wyaEE1E",
        "colab_type": "code",
        "outputId": "636a9e4f-f380-4c9c-cd2a-685c6c651499",
        "colab": {
          "base_uri": "https://localhost:8080/",
          "height": 35
        }
      },
      "source": [
        "b.lastname"
      ],
      "execution_count": 0,
      "outputs": [
        {
          "output_type": "execute_result",
          "data": {
            "text/plain": [
              "'유'"
            ]
          },
          "metadata": {
            "tags": []
          },
          "execution_count": 18
        }
      ]
    },
    {
      "cell_type": "code",
      "metadata": {
        "id": "7gwZ_L_nEGJG",
        "colab_type": "code",
        "outputId": "3fd34286-68d9-4f97-df8d-ef12187b3163",
        "colab": {
          "base_uri": "https://localhost:8080/",
          "height": 35
        }
      },
      "source": [
        "id(Family.lastname)"
      ],
      "execution_count": 0,
      "outputs": [
        {
          "output_type": "execute_result",
          "data": {
            "text/plain": [
              "140300853123152"
            ]
          },
          "metadata": {
            "tags": []
          },
          "execution_count": 19
        }
      ]
    },
    {
      "cell_type": "code",
      "metadata": {
        "id": "Epv9zwz3EIes",
        "colab_type": "code",
        "outputId": "7ee22399-faa4-4a49-91a8-43cbdd6c08ad",
        "colab": {
          "base_uri": "https://localhost:8080/",
          "height": 35
        }
      },
      "source": [
        "id(a.lastname)"
      ],
      "execution_count": 0,
      "outputs": [
        {
          "output_type": "execute_result",
          "data": {
            "text/plain": [
              "140300853183552"
            ]
          },
          "metadata": {
            "tags": []
          },
          "execution_count": 20
        }
      ]
    },
    {
      "cell_type": "code",
      "metadata": {
        "id": "uucBBijHEJ_5",
        "colab_type": "code",
        "outputId": "0f061e31-da6c-4354-b73a-379478bcd891",
        "colab": {
          "base_uri": "https://localhost:8080/",
          "height": 35
        }
      },
      "source": [
        "id(b.lastname)"
      ],
      "execution_count": 0,
      "outputs": [
        {
          "output_type": "execute_result",
          "data": {
            "text/plain": [
              "140300853123152"
            ]
          },
          "metadata": {
            "tags": []
          },
          "execution_count": 21
        }
      ]
    },
    {
      "cell_type": "markdown",
      "metadata": {
        "id": "lffwJIDMEO0r",
        "colab_type": "text"
      },
      "source": [
        "Family,a,b가 모든 같은 id주소를 가지고 있다고 해서 항상 같이 움직인다는 것은 아니다.  Family가 더 큰 범위이므로 Family가 바뀌면 그의 인스턴스인 a,b 모두 바뀌지만, a,b가 바뀐다고 해서 Family가 바뀌는 것은 아니다.\n",
        "\n",
        "집합으로 생각해보면 Family라는 집합안에 a,b가 속해있는 것이다."
      ]
    },
    {
      "cell_type": "code",
      "metadata": {
        "id": "DV4WZrXjEL5d",
        "colab_type": "code",
        "colab": {}
      },
      "source": [
        ""
      ],
      "execution_count": 0,
      "outputs": []
    }
  ]
}