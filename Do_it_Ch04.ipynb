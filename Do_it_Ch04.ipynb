{
  "nbformat": 4,
  "nbformat_minor": 0,
  "metadata": {
    "kernelspec": {
      "display_name": "Python 3",
      "language": "python",
      "name": "python3"
    },
    "language_info": {
      "codemirror_mode": {
        "name": "ipython",
        "version": 3
      },
      "file_extension": ".py",
      "mimetype": "text/x-python",
      "name": "python",
      "nbconvert_exporter": "python",
      "pygments_lexer": "ipython3",
      "version": "3.7.3"
    },
    "colab": {
      "name": "Do-it Ch04.ipynb",
      "provenance": [],
      "collapsed_sections": [],
      "include_colab_link": true
    }
  },
  "cells": [
    {
      "cell_type": "markdown",
      "metadata": {
        "id": "view-in-github",
        "colab_type": "text"
      },
      "source": [
        "<a href=\"https://colab.research.google.com/github/syeong1218/python/blob/master/Do_it_Ch04.ipynb\" target=\"_parent\"><img src=\"https://colab.research.google.com/assets/colab-badge.svg\" alt=\"Open In Colab\"/></a>"
      ]
    },
    {
      "cell_type": "markdown",
      "metadata": {
        "id": "Wp7y8ASRK2hi",
        "colab_type": "text"
      },
      "source": [
        "# 04 분류하는 뉴런을 만듭니다 - 이진 분류"
      ]
    },
    {
      "cell_type": "code",
      "metadata": {
        "id": "czf6Tz9dK2h7",
        "colab_type": "code",
        "colab": {}
      },
      "source": [
        "import numpy as np\n",
        "import matplotlib.pyplot as plt\n",
        "np.random.seed(42)"
      ],
      "execution_count": 0,
      "outputs": []
    },
    {
      "cell_type": "markdown",
      "metadata": {
        "id": "R-oxffKULN_I",
        "colab_type": "text"
      },
      "source": [
        "## 04-1 초기 인공지능 알고리즘과 로지스틱 회귀를 알아봅시다"
      ]
    },
    {
      "cell_type": "markdown",
      "metadata": {
        "id": "aOKDN3t53MJu",
        "colab_type": "text"
      },
      "source": [
        "로지스틱 회귀를 제대로 이해하려면 인공지능 알고리즘들의 발전과정을 살펴보면 됩니다. 그 첫번째 알고리즘은 **퍼셉트론**입니다.\n",
        "\n",
        "\n"
      ]
    },
    {
      "cell_type": "markdown",
      "metadata": {
        "id": "oQxH6qPo4IFj",
        "colab_type": "text"
      },
      "source": [
        "### * 퍼셉트론에 대해 알아봅니다\n",
        "1957년 코넬 항공 연구소의 프랑크 로젠블라트가 이진 분류 문제에서 최적의 가중치를 학습하는 퍼셉트론 알고니즘을 발표하였습니다.\n",
        "* 이진 분류 : 임의의 샘플 데이터를 True나 False로 구분하는 문제 \n",
        "\n",
        "  ex) 과일이라는 샘플 데이터에서 사과가 True이면 사과인지(True), 아닌지(False)를 판단하는 것\n",
        "\n",
        "**퍼셉트론의 전체 구조를 훑어봅시다**\n",
        "\n",
        "퍼셉트론은 직선 방정식을 사용하기 때문에 선형 회귀와 유사한 구조를 가지고 있습니다. 하지만 퍼셉트론은 마지막 단계에서 샘플을 이진 분류하기 위하여 계단함수를 사용합니다. 그리고 계단 함수를 통과한 값을 다시 가중치와 절편을 업데이트(학습)하는데 사용합니다. 이를 그림으로 나타내면 다음과 같습니다.\n",
        "\n",
        "![대체 텍스트](https://github.com/syeong1218/python/blob/master/1.jpg?raw=true)\n",
        "\n",
        "왼쪽의 큰 동그라미는 뉴런으로 입력 신호들을 받아 z를 만듭니다. \n",
        "\n",
        "$$w_{1}x_{1}+w_{2}x_{2}+b=z$$\n",
        "\n",
        "이 수식을 지금부터 **선형 함수**라고 부르겠습니다.\n",
        "\n",
        "계단 함수는 z가 0보다 크거나 같으면 1로, 0보다 작으면 -1로 분류합니다.\n",
        "$$y=\\left\\{\\begin{matrix}\n",
        "1  (z\\geq 0)\\\\ \n",
        "-1  (z<0)\n",
        "\\end{matrix}\\right.$$\n",
        "이 때 1을 양성 클래스, -1을 음성 클래스라고 부르면 위 함수를 그래프로 그리면 다음그림처럼 계단 모양이 됩니다.\n",
        "\n",
        "![대체 텍스트](https://github.com/syeong1218/python/blob/master/2.jpg?raw=true)\n",
        "\n",
        "쉽게 말해 퍼셉트론은 선형 함수를 통과한 값 z를 계단 함수로 보내 0보다 큰지, 작은지 검사하여 1과 -1로 분류하는 간단한 알고니즘입니다. 퍼셉트론은 계단 함수의 결과를 사용하여 가중치와 절편을 업데이트합니다. \n",
        "\n",
        "**지금부터 여러 개의 특성을 사용하겠습니다.**\n",
        "\n",
        "![대체 텍스트](https://github.com/syeong1218/python/blob/master/3.jpg?raw=true)\n",
        "\n",
        "왼쪽 그림은 3장에서 본 특성이 1개짜리이고, 오른쪽 그림은 특성이 2개인 경우의 선형 함수 표기법입니다. 아래 첨자로 사용한 숫자는 n번째 특성의 가중치와 입력을 의미합니다. 따라서 특성이 n개인 선형 함수를 다음과 같이 표기할 수 있습니다.\n",
        "\n",
        "$$z=w_{1}x_{1}+w_{2}x_{2}+\\cdots+w_{n}x_{n} +b$$\n",
        "\n",
        "이식을 시그마기호를 사용하여 간단하게 표기합니다.\n",
        "$$z=b+\\sum_{i=1}^{n}w_{i}x_{i}$$\n",
        "퍼셉트론은 사이킷런 패키지에서 Perceptron이라는 이름으로 클래스를 제공합니다."
      ]
    },
    {
      "cell_type": "markdown",
      "metadata": {
        "id": "OCrJnUGOk_xn",
        "colab_type": "text"
      },
      "source": [
        "### * 아달린에 대해 알아봅니다\n",
        "퍼셉트론을 개선한 적응형 선형 뉴런을 아달린이라고 부릅니다. 아달린은 선형 함수의 결과를 학습에 사용하고, 계단 함수의 결과는 예측에만 활용합니다.\n",
        "\n",
        "![대체 텍스트](https://github.com/syeong1218/python/blob/master/4.jpg?raw=true)\n",
        "\n",
        "역방향 계산이 계단 함수 출력 이후에 일어나지 않고 선형 함수 출력 이후에 진행됩니다. **로지스틱 회귀는 아달린의 개선 버전입니다**"
      ]
    },
    {
      "cell_type": "markdown",
      "metadata": {
        "id": "_1Leoazqms5l",
        "colab_type": "text"
      },
      "source": [
        "### * 로지스틱 회귀에 대해 알아봅니다\n",
        "로지스틱 회귀는 아달린에서 조금 더 발전한 형태를 취하고 있습니다.\n",
        "\n",
        "![대체 텍스트](https://github.com/syeong1218/python/blob/master/5.jpg?raw=true)\n",
        "\n",
        "로지스틱 회귀는 선형 함수를 통과시켜 얻은 z를 임계 함수에 보내기 전에 변형시키는데, 이 함수를 활성화 함수라고 부릅니다. 활성화 함수를 통과한 값이 a로 표현되어 있는데 앞으로 a를 활성화 함수를 통과한 값이라고 이해하면 됩니다. 로지스틱 회귀는 마지막 단계에서 임계 함수를 사용하여 예측을 수행합니다. 임계 함수는 아달린이나 퍼셉트론의 계단 함수와 역할은 비슷하지만 활성화 함수의 출력값을 사용한다는 점이 다릅니다. \n",
        "\n",
        "**활성화 함수는 비선형 함수를 사용합니다**\n",
        "\n",
        "만약 활성화 함수가 선형 함수라면 어떻게 될까요? 선형 함수 $a=w_{1}x_{1}+w_{2}x_{2}+\\cdots+w_{n}x_{n}$과 활성화 함수 $y=ka$가 있다고 하고 결합하면 다음과 같습니다.\n",
        "$$y=k(w_{1}x_{1}+w_{2}x_{2}+\\cdots+w_{n}x_{n})$$\n",
        "두 식을 정리하면 다시 하나의 큰 선형 함수가 되기 때문에 임계 함수 앞에 뉴런을 여러 개 쌓아도 결국 선형 함수가 되므로 별 의미가 없습니다. 그래서 활성화 함수는 의무적으로 비선형 함수를 사용합니다. 다음은 비선형 함수의 한 예입니다.\n",
        "$$p=\\frac{1}{1+e^{-z}}$$\n",
        "**로지스틱 회귀의 활성화 함수는 시그모이드 함수입니다**"
      ]
    },
    {
      "cell_type": "markdown",
      "metadata": {
        "id": "VrWS-gI3K2iR",
        "colab_type": "text"
      },
      "source": [
        "## 04-2 시그모이드 함수를 알아봅니다"
      ]
    },
    {
      "cell_type": "markdown",
      "metadata": {
        "id": "jdmOj60epMFZ",
        "colab_type": "text"
      },
      "source": [
        "### * 시그모이드 함수의 역할을 알아봅니다\n",
        "![대체 텍스트](https://github.com/syeong1218/python/blob/master/6.jpg?raw=true)\n",
        "\n",
        "가장 왼쪽에 있는 뉴런이 선형 함수이고 출력값 $z=b+\\sum_{i=1}^{n}w_{i}x_{i}$입니다.\n",
        "\n",
        "출력값 z는 활성화 함수를 통과하여 a가 됩니다. 이 때 로지스틱 회귀에서 사용하는 활성화 함수인 시그모이드 함수는 z를 0~1사이의 확률값으로 변환시켜주는 역할을 합니다. 예를 들어 a를 암 종양 판정에 사용하면, 보통 a가 0.5보다 크면 양성 클래스, 그 이하면 음성 클래스라고 구분합니다."
      ]
    },
    {
      "cell_type": "markdown",
      "metadata": {
        "id": "M-tpHVRhqVuS",
        "colab_type": "text"
      },
      "source": [
        "### * 시그모이드 함수가 만들어지는 과정을 살펴봅니다\n",
        "\n",
        "시그모이드 함수는 다음과 같은 과정으로 만들어집니다.\n",
        "```\n",
        "오즈 비 -> 로짓 함수 -> 시그모이드 함수\n",
        "```\n",
        "**오즈 비에 대해 알아볼까요?**\n",
        "\n",
        "오즈 비는 성공 확률과 실패 확률의 비율을 나타내는 통계입니다.\n",
        "$$OR(odds ratio)=\\frac{p}{1-p}$$\n",
        "p=성공확률\n"
      ]
    },
    {
      "cell_type": "code",
      "metadata": {
        "id": "yVkcpWZfK2iY",
        "colab_type": "code",
        "outputId": "099b6b63-5744-410d-e7fc-5995cf94d003",
        "colab": {
          "base_uri": "https://localhost:8080/",
          "height": 279
        }
      },
      "source": [
        "probs = np.arange(0, 1, 0.01)\n",
        "odds = [p/(1-p) for p in probs]\n",
        "plt.plot(probs, odds)\n",
        "plt.xlabel('p')\n",
        "plt.ylabel('p/(1-p)')\n",
        "plt.show()"
      ],
      "execution_count": 0,
      "outputs": [
        {
          "output_type": "display_data",
          "data": {
            "image/png": "[encoded data removed]",
            "text/plain": [
              "<Figure size 432x288 with 1 Axes>"
            ]
          },
          "metadata": {
            "tags": []
          }
        }
      ]
    },
    {
      "cell_type": "markdown",
      "metadata": {
        "id": "AXQaSWZCrJY0",
        "colab_type": "text"
      },
      "source": [
        "p가 0부터 1까지 증가할 때 오즈 비의 값은 처음에는 천천히 증가하지만 p가 1에 가까워지면 급격히 증가합니다."
      ]
    },
    {
      "cell_type": "markdown",
      "metadata": {
        "id": "vw1tUOOZrN9e",
        "colab_type": "text"
      },
      "source": [
        "**로짓 함수에 대해 알아볼까요?**\n",
        "\n",
        "오즈 비에 로그 함수를 취하여 만든 함수를 로짓 함수라고 합니다.\n",
        "$$logit(p)=log(\\frac{p}{1-p})$$"
      ]
    },
    {
      "cell_type": "code",
      "metadata": {
        "id": "SyZrfyTqK2i1",
        "colab_type": "code",
        "outputId": "7e29d215-a10e-4d83-8f63-be890672e28a",
        "colab": {
          "base_uri": "https://localhost:8080/",
          "height": 279
        }
      },
      "source": [
        "probs  = np.arange(0.001, 0.999, 0.001)\n",
        "logit = [np.log(p/(1-p)) for p in probs]\n",
        "plt.plot(probs, logit)\n",
        "plt.xlabel('p')\n",
        "plt.ylabel('log(p/(1-p))')\n",
        "plt.show()"
      ],
      "execution_count": 0,
      "outputs": [
        {
          "output_type": "display_data",
          "data": {
            "image/png": "[encoded data removed]",
            "text/plain": [
              "<Figure size 432x288 with 1 Axes>"
            ]
          },
          "metadata": {
            "tags": []
          }
        }
      ]
    },
    {
      "cell_type": "markdown",
      "metadata": {
        "id": "l4EzdysWremG",
        "colab_type": "text"
      },
      "source": [
        "로짓 함수는 p가 0.5일 때 0이 되고 p가 0과 1일때 각각 무한 음수와 양수가 됩니다. 로짓 함수의 세로 축을 z로, 가로 축을 p로 놓으면 확률 p가 0에서 1까지 변할 때 z가 매우 큰 음수에서 매우 큰 양수까지 변하는 것으로 볼 수 있습니다. 따라서 다음과 같은 식을 쓸 수 있습니다.\n",
        "$$log(\\frac{p}{1-p})=z$$\n",
        "\n",
        "**로지스틱 함수에 대해 알아볼까요?**\n",
        "\n",
        "그래프에서 z를 가로 축에 놓기 위해 위의 식을 z에 대하여 정리합니다.\n",
        "$$p=\\frac{1}{1+e^{-z}}$$\n",
        "로지스틱 함수를 그래프로 그려보면 로짓 함수의 가로와 세로 축을 반대로 뒤집어 높은 모양이 됩니다."
      ]
    },
    {
      "cell_type": "code",
      "metadata": {
        "scrolled": true,
        "id": "gSiAkSjKK2jG",
        "colab_type": "code",
        "outputId": "93f64397-4fa8-458e-8c18-03c648dbfee9",
        "colab": {
          "base_uri": "https://localhost:8080/",
          "height": 279
        }
      },
      "source": [
        "zs = np.arange(-10., 10., 0.1)\n",
        "gs = [1/(1+np.exp(-z)) for z in zs]\n",
        "plt.plot(zs, gs)\n",
        "plt.xlabel('z')\n",
        "plt.ylabel('1/(1+e^-z)')\n",
        "plt.show()"
      ],
      "execution_count": 0,
      "outputs": [
        {
          "output_type": "display_data",
          "data": {
            "image/png": "[encoded data removed]",
            "text/plain": [
              "<Figure size 432x288 with 1 Axes>"
            ]
          },
          "metadata": {
            "tags": []
          }
        }
      ]
    },
    {
      "cell_type": "markdown",
      "metadata": {
        "id": "uqIcbJpksftP",
        "colab_type": "text"
      },
      "source": [
        "S자 모양에서 착안하여 로지스틱 함수를 시그모이드 함수라고도 부릅니다."
      ]
    },
    {
      "cell_type": "markdown",
      "metadata": {
        "id": "4SPp1tsbso1O",
        "colab_type": "text"
      },
      "source": [
        "### * 로지스틱 회귀 중간 정리하기\n",
        "![대체 텍스트](https://github.com/syeong1218/python/blob/master/7.jpg?raw=true)\n",
        "\n",
        "로지스틱 회귀는 이진 분류가 목표이므로 시그모이드 함수를 사용하여 $-\\infty$부터 $\\infty$의 범위를 가지는 z의 값을 조절합니다. 이는 시그모이드 함수를 통과하면 z를 확률처럼 해석할 수 있기 때문입니다. 그리고 시그모이드 함수의 확률인 a를 0과 1로 구분하기 위하여 마지막에 임계함수를 사용했습니다. 그 결과 입력 데이터(x)는 0 또는 1의 값으로 나누어져 이진 분류가 되었습니다. **따라서 로지스틱 회귀는 이진 분류를 하기 위한 알고리즘입니다.**"
      ]
    },
    {
      "cell_type": "markdown",
      "metadata": {
        "id": "8TZmauObubFX",
        "colab_type": "text"
      },
      "source": [
        "## 04-3 로지스틱 손실 함수를 경사 하강법에 적용합니다"
      ]
    },
    {
      "cell_type": "markdown",
      "metadata": {
        "id": "GoyzbPZMug5v",
        "colab_type": "text"
      },
      "source": [
        "선형 회귀는 정답과 예상값의 오차 제곱이 최소가 되는 가중치와 절편을 찾는 것이 목표였습니다. \n",
        "로지스틱 회귀의 목표는 올바르게 분류된 샘플 데이터의 비율 자체를 높이는 것입니다.\n",
        "\n",
        "예를 들면 사과, 배, 감을 분류하는 문제에서 사과, 배, 감으로 분류한 과일 중 진짜 사과, 배, 감으로 분류한 비율을 높이는 것이 분류의 목표입니다.\n",
        "\n",
        "올바르게 분류된 샘플의 비율은 미분 가능한 함수가 아니기 때문에 경사 하강법의 손실 함수를 사용할 수 없고 **로지스틱 손실 함수**을 사용합니다."
      ]
    },
    {
      "cell_type": "markdown",
      "metadata": {
        "id": "AGaASUguv-_l",
        "colab_type": "text"
      },
      "source": [
        "### * 로지스틱 손실 함수를 제대로 알아봅시다\n",
        "\n",
        "로지스틱 손실 함수는 다중 분류를 위한 손실 함수인 크로스 엔트로피 손실 함수를 이진 분류 버전으로 만든 것입니다. 크로스 엔트로피 손실 함수는 7장에서 다중 분류를 다룰 때 자세히 나오므로 여기서는 그냥 크로스 엔트로피 손실 함수를 이용하여 로지스틱 손실 함수를 만들었다 정도만 알아두면 됩니다. 로지스틱 손실 함수는 다음과 같습니다.\n",
        "$$L=-(ylog(a)+(1-y)log(1-a))$$\n",
        "a는 활성화 함수가 출력한 값이고 y는 타깃입니다.\n",
        "\n",
        "이지 분류는 그렇다(1), 아니다(0)로, 타깃의 값은 1 또는 0입니다.\n",
        "\n",
        "|-|L|\n",
        "|:--------:|:--------:|\n",
        "|y가 1인 경우(양성 클래스)| -log(a)|\n",
        "|y가 0인 경우(음성 클래스)| -log(1-a)|\n",
        "\n",
        "앞 두 식의 값을 최소로 만들다 보면 a의 값이 우리가 원하는 목표치가 된다는 것을 알 수 있습니다. 예를 들어 양성 클래스인 경우 로지스틱 손실 함수의 값을 최소로 만들려면 a는 1에 가까워집니다. 반대로 음성 클래스인 경우 로지스틱 손실 함수의 값을 최소로 만들면 a가 0에 가까워집니다. 즉, 로지스틱 손실 함수를 최소화하면 a의 값이 우리가 가장 이상적으로 생각하는 값이 됩니다."
      ]
    },
    {
      "cell_type": "markdown",
      "metadata": {
        "id": "H59upbMg10wE",
        "colab_type": "text"
      },
      "source": [
        "### * 로지스틱 손실 함수 미분하기\n",
        "가중치와 절편에 대한 로지스틱 손실 함수의 미분 결과는 다음과 같습니다.\n",
        "\n",
        "$$\\frac{\\partial }{\\partial w_{i}}L=1(y-a)x_{i}$$\n",
        "$$\\frac{\\partial }{\\partial b}L=1(y-a)1$$"
      ]
    },
    {
      "cell_type": "markdown",
      "metadata": {
        "id": "B_CcGnOJ3txN",
        "colab_type": "text"
      },
      "source": [
        "|-|제곱 오차의 미분|로지스틱 손실 함수의 미분|\n",
        "|:--------:|:--------:|:--------:|\n",
        "|가중치에 대한 미분| $\\frac{\\partial SE}{\\partial w}=1(y-\\hat{y})x$|$\\frac{\\partial }{\\partial w_{i}}L=1(y-a)x_{i}$|\n",
        "|절편에 대한 미분| $\\frac{\\partial SE}{\\partial b}=1(y-\\hat{y})1$|$\\frac{\\partial }{\\partial b}L=1(y-a)1$|"
      ]
    },
    {
      "cell_type": "markdown",
      "metadata": {
        "id": "lTTGVvXb4co3",
        "colab_type": "text"
      },
      "source": [
        "제곱 오차의 미분과 로지스틱 손실 함수의 미분을 비교해보면 $\\hat{y}$가 a로 바뀌었을 뿐 결과는 동일하다. 즉, 로지스틱 회귀의 구현이 3장에서 만든 Neuron 클래스와 크게 다르지 않습니다. 따라서 **로지스틱 손실 함수의 미분을 통해 로지스틱 손실 함수의 값을 최소로 하는 가중치와 절편을 찾아야 한다는 점이 중요합니다**\n",
        "\n",
        "**로지스틱 손실 함수와 연쇄 법칙**\n",
        "\n",
        "합성 함수의 도함수를 구하기 위해 연쇄 법칙을 사용합니다.\n",
        "연쇄법칙을 간단하게 설명하면 $y=f(u), u=g(x)$라면, $\\frac{\\partial y}{\\partial x}=\\frac{\\partial y}{\\partial u}\\frac{\\partial u}{\\partial x}$이다.\n",
        "\n",
        "로지스틱 손실 함수 (L)를 가중치(w)나 절편(b)에 대하여 바로 미분하면 너무 복잡하기 때문에 연쇄 법칙을 사용합니다.\n",
        "![대체 텍스트](https://github.com/syeong1218/python/blob/master/8.jpg?raw=true)\n",
        "\n",
        "그림을 보면 L를 a에 대하여 미분하고, a는 z에 대하여 미분하고, z는 w나 b에 대하여 미분한 다음 서로 곱하면 로지스틱 손실 함수를 가중치에 대하여 미분한 결과를 얻을 수 있습니다. 이 과정은 오른쪽부터 왼쪽까지 역방향으로 진행됩니다.\n",
        "$$\\frac{\\partial L}{\\partial w_{i}}=\\frac{\\partial L}{\\partial a}\\frac{\\partial a}{\\partial z}\\frac{\\partial z}{\\partial w_{i}}$$"
      ]
    },
    {
      "cell_type": "markdown",
      "metadata": {
        "id": "I6XKYmgn8aPu",
        "colab_type": "text"
      },
      "source": [
        "**로지스틱 손실 함수를 a에 대하여 미분하기**\n",
        "\n",
        "\n",
        "$$\\frac{\\partial L}{\\partial a}=\\frac{\\partial }{\\partial a}(-(ylog(a)+(1-y)log(1-a)=-(y\\frac{\\partial }{\\partial a}log(a)+(1-y)\\frac{\\partial }{\\partial a}log(1-a)$$\n",
        "간단하게 정리하면\n",
        "$$\\frac{\\partial L }{\\partial a}=-(y\\frac{1}{a}-(1-y)\\frac{1}{1-a})$$\n",
        "\n",
        "**a를 z에 대하여 미분하기**\n",
        "\n",
        "a는 시그모이드 함수로 z로 표현하면 $\\frac{1}{1+e^{-z}}$입니다.\n",
        "$$\\frac{\\partial a}{\\partial z}=\\frac{\\partial }{\\partial z}(\\frac{1}{1+e^{-z}})=\\frac{\\partial }{\\partial z}(1+e^{-z})^{-1}=-(1+e^{-z})^{-2}\\frac{\\partial }{\\partial z}(e^{-z})=-(1+e^{-z})^{-2}(e^{-z})=\\frac{e^{-z}}{(1+e^{-z})^{-2}}$$\n",
        "마지막 식을 정리하면 다음과 같습니다.\n",
        "$$\\frac{\\partial a}{\\partial z}=\\frac{1}{1+e^{-z}}\\frac{e^{-z}}{1+e^{-z}}=\\frac{1}{1+e^{-z}}(1-\\frac{1}{1+e^{-z}})=a(1-a)$$\n",
        "$$\\frac{\\partial a}{\\partial z}=a(1-a)$$"
      ]
    },
    {
      "cell_type": "markdown",
      "metadata": {
        "id": "Ovb80ebt_UyD",
        "colab_type": "text"
      },
      "source": [
        "**z를 w에 대하여 미분하기**\n",
        "\n",
        "z는 선형 함수이므로 $w_{i}$로 미분하면 다음과 같습니다.\n",
        "$$\\frac{\\partial z}{\\partial w_{i}}=x_{i}$$\n",
        "\n",
        "**로지스틱 손실 함수를 w에 대하여 미분하기**\n",
        "\n",
        "$$\\frac{\\partial L}{\\partial w_{i}}=\\frac{\\partial L}{\\partial a}\\frac{\\partial a}{\\partial z}\\frac{\\partial z}{\\partial w_{i}}=-(y\\frac{1}{a}-(1-y)\\frac{1}{1-a})a(1-a)x_{i}=-(y(1-a)-(1-y)a)x_{i}=-(y-ya-a+ya)x_{i}=-(y-a)x_{i}$$\n",
        "로지스틱 손실 함수를 $w_{i}$에 대해 미분한 결과는 제곱 오차를 미분한 결과와 일치합니다."
      ]
    },
    {
      "cell_type": "markdown",
      "metadata": {
        "id": "udwYizBJBWdP",
        "colab_type": "text"
      },
      "source": [
        "### * 로지스틱 손실 함수의 미분 과정 정리하고 역전파 이해하기\n",
        "\n",
        "![대체 텍스트](https://github.com/syeong1218/python/blob/master/9.jpg?raw=true)\n",
        "\n",
        "오른쪽부터 살펴보면 L은 a에 대하여 미분하고, a는 z에 대하여 미분하고, z는 w에 대하여 미분합니다. 그리고 각 도함수의 곱은 가중치 업데이트에 사용합니다. 이렇게 로지스틱 손실 함수에 대한 미분이 연쇄 법칙에 의해 진행되는 구조를 **그레이디언트가 역전파된다**라고 합니다.\n",
        "\n",
        "**가중치 업데이트 방법 정리하기**\n",
        "\n",
        "로지스틱 손실 함수를 가중치에 대해 미분한 식을 가중치에서 빼면 됩니다.\n",
        "$$w_{i}=w_{i}-\\frac{\\partial L}{\\partial w_{i}}=w_{i}+(y-a)x_{i}$$\n",
        "\n",
        "**절편 업데이트 방법 정리하기**\n",
        "\n",
        "연쇄 법칙을 적용하면 쉽게 구할 수 있습니다. \n",
        "\n",
        "$$\\frac{\\partial L}{\\partial b}=\\frac{\\partial L}{\\partial z}\\frac{\\partial z}{\\partial b}=-(y-a)\\frac{\\partial }{\\partial b}(b+\\sum_{i=1}^{n}w_{i}x_{i})=-(y-a)1$$\n",
        "\n",
        "절편 업데이트 역시 로지스틱 손실 함수를 절편에 대해 미분한 식을 절편에서 빼면 됩니다.\n",
        "$$b=b-\\frac{\\partial L}{\\partial b}=b+(y-a)1$$"
      ]
    },
    {
      "cell_type": "markdown",
      "metadata": {
        "id": "kY8hzKABK2jU",
        "colab_type": "text"
      },
      "source": [
        "## 04-4 분류용 데이터셋을 준비합니다"
      ]
    },
    {
      "cell_type": "markdown",
      "metadata": {
        "id": "9vqyGdvAEE_Q",
        "colab_type": "text"
      },
      "source": [
        "데이터 세트는 사이킷런에 포함된 위스콘신 유방암 데이터 세트를 사용합니다."
      ]
    },
    {
      "cell_type": "markdown",
      "metadata": {
        "id": "04zLJfKZEOT7",
        "colab_type": "text"
      },
      "source": [
        "### * 유방암 데이터 세트를 소개합니다\n",
        "유방암 데이터 세트에는 유방암 세포의 특징 10개에 대하여 평균, 표준 오차, 최대 이상치가 기록되어 있습니다. 여기서는 유방암 데이터 샘플이 악성 종양(True)인지, 정상 종양(False)인지를 구분하는 이진 분류를 수행합니다.\n",
        "\n",
        "![대체 텍스트](https://github.com/syeong1218/python/blob/master/10.jpg?raw=true)\n",
        "\n",
        "여기서 좋은 것을 음성 샘플, 나쁜 것을 양성 샘플이라 합니다. 따라서 해결해야하는 과제는 양성 샘플입니다.\n"
      ]
    },
    {
      "cell_type": "markdown",
      "metadata": {
        "id": "ZuZNtBsGFMhX",
        "colab_type": "text"
      },
      "source": [
        "### * 유방암 데이터 세트 준비하기\n",
        "**1. load_breast_cancer()함수 호출하기**\n",
        "\n",
        "사이킷런에서 위스콘신 유방암 데이터 세트를 불러옵니다. 사이킷런의 datasets 모듈 아래에 있는 load_breast_cancer()함수를 호출합니다."
      ]
    },
    {
      "cell_type": "code",
      "metadata": {
        "id": "FX2PmNBWK2jX",
        "colab_type": "code",
        "colab": {}
      },
      "source": [
        "from sklearn.datasets import load_breast_cancer\n",
        "cancer = load_breast_cancer()"
      ],
      "execution_count": 0,
      "outputs": []
    },
    {
      "cell_type": "markdown",
      "metadata": {
        "id": "BUFVoY42F5nL",
        "colab_type": "text"
      },
      "source": [
        "**2. 입력 데이터 확인하기**\n",
        "\n",
        "입력 데이터인 cancer의 크기를 알아봅니다."
      ]
    },
    {
      "cell_type": "code",
      "metadata": {
        "id": "w_1UUBCUK2jm",
        "colab_type": "code",
        "outputId": "aedc7a62-6ed0-4f3a-b1ae-41bce46bd891",
        "colab": {
          "base_uri": "https://localhost:8080/",
          "height": 34
        }
      },
      "source": [
        "print(cancer.data.shape, cancer.target.shape)"
      ],
      "execution_count": 0,
      "outputs": [
        {
          "output_type": "stream",
          "text": [
            "(569, 30) (569,)\n"
          ],
          "name": "stdout"
        }
      ]
    },
    {
      "cell_type": "markdown",
      "metadata": {
        "id": "6rGZ2kwiGHWo",
        "colab_type": "text"
      },
      "source": [
        "cancer에는 569개의 샘플과 30개의 특성이 있습니다. 이 중에서 처음 3개의 샘플을 출력해 보겠습니다."
      ]
    },
    {
      "cell_type": "code",
      "metadata": {
        "scrolled": true,
        "id": "T6YFWRNrK2j4",
        "colab_type": "code",
        "outputId": "02e9d73d-616c-4b5d-d71f-8553ba0853a4",
        "colab": {
          "base_uri": "https://localhost:8080/",
          "height": 281
        }
      },
      "source": [
        "cancer.data[:3]"
      ],
      "execution_count": 0,
      "outputs": [
        {
          "output_type": "execute_result",
          "data": {
            "text/plain": [
              "array([[1.799e+01, 1.038e+01, 1.228e+02, 1.001e+03, 1.184e-01, 2.776e-01,\n",
              "        3.001e-01, 1.471e-01, 2.419e-01, 7.871e-02, 1.095e+00, 9.053e-01,\n",
              "        8.589e+00, 1.534e+02, 6.399e-03, 4.904e-02, 5.373e-02, 1.587e-02,\n",
              "        3.003e-02, 6.193e-03, 2.538e+01, 1.733e+01, 1.846e+02, 2.019e+03,\n",
              "        1.622e-01, 6.656e-01, 7.119e-01, 2.654e-01, 4.601e-01, 1.189e-01],\n",
              "       [2.057e+01, 1.777e+01, 1.329e+02, 1.326e+03, 8.474e-02, 7.864e-02,\n",
              "        8.690e-02, 7.017e-02, 1.812e-01, 5.667e-02, 5.435e-01, 7.339e-01,\n",
              "        3.398e+00, 7.408e+01, 5.225e-03, 1.308e-02, 1.860e-02, 1.340e-02,\n",
              "        1.389e-02, 3.532e-03, 2.499e+01, 2.341e+01, 1.588e+02, 1.956e+03,\n",
              "        1.238e-01, 1.866e-01, 2.416e-01, 1.860e-01, 2.750e-01, 8.902e-02],\n",
              "       [1.969e+01, 2.125e+01, 1.300e+02, 1.203e+03, 1.096e-01, 1.599e-01,\n",
              "        1.974e-01, 1.279e-01, 2.069e-01, 5.999e-02, 7.456e-01, 7.869e-01,\n",
              "        4.585e+00, 9.403e+01, 6.150e-03, 4.006e-02, 3.832e-02, 2.058e-02,\n",
              "        2.250e-02, 4.571e-03, 2.357e+01, 2.553e+01, 1.525e+02, 1.709e+03,\n",
              "        1.444e-01, 4.245e-01, 4.504e-01, 2.430e-01, 3.613e-01, 8.758e-02]])"
            ]
          },
          "metadata": {
            "tags": []
          },
          "execution_count": 8
        }
      ]
    },
    {
      "cell_type": "markdown",
      "metadata": {
        "id": "vCdAke00GUsM",
        "colab_type": "text"
      },
      "source": [
        "특성 데이터를 살펴보면 실수 범위의 값이고 양수와 음수가 섞여 있습니다. 대괄호 1쌍으로 묶은 것이 1개의 샘플입니다. 특성이 30개이기 때문에 산점도가 아닌 박스 플롯을 이용하여 각 특성의 값을 나타내 보겠습니다.\n",
        "\n",
        "**3. 박스 플롯으로 특성의 사분위 관찰하기**\n",
        "\n",
        "박스 플롯은 1사분위와 3사분위 값으로 상자를 그린 다음 그 안에 2사분위(중간값)값을 표시합니다. 그런 다음 1사분위와 3사분위 사이 거리의 1.5배만큼 위아래 거리에서 각각 가장 큰 값과 가장 작은 값까지 수염을 그립니다. 박스 플롯을 사용하는 이유는 많은 데이터를 눈으로 확인하기 어려울 때 그림을 이용해 데이터 집합의 범위와 중앙값을 빠르게 확인할 수 있는 목적으로 사용합니다. 또한 통계적으로 이상치가 있는지도 확인이 가능힙니다.\n",
        "\n",
        "![대체 텍스트](https://github.com/syeong1218/python/blob/master/11.jpg?raw=true)\n"
      ]
    },
    {
      "cell_type": "code",
      "metadata": {
        "id": "IR39qDO4K2kH",
        "colab_type": "code",
        "outputId": "df7a3336-c640-487b-cf6f-7bf8693899c6",
        "colab": {
          "base_uri": "https://localhost:8080/",
          "height": 279
        }
      },
      "source": [
        "plt.boxplot(cancer.data)\n",
        "plt.xlabel('feature')\n",
        "plt.ylabel('value')\n",
        "plt.show()"
      ],
      "execution_count": 0,
      "outputs": [
        {
          "output_type": "display_data",
          "data": {
            "image/png": "[encoded data removed]",
            "text/plain": [
              "<Figure size 432x288 with 1 Axes>"
            ]
          },
          "metadata": {
            "tags": []
          }
        }
      ]
    },
    {
      "cell_type": "markdown",
      "metadata": {
        "id": "FEAaaORtH6B3",
        "colab_type": "text"
      },
      "source": [
        "**4. 눈에 띄는 특성 살펴보기**\n",
        "\n",
        "4, 14, 24번째 특성이 다른 특성보다 값의 분포가 휠씬 크다는 것을 알 수 있습니다. 각 특성을 확인해 보면,"
      ]
    },
    {
      "cell_type": "code",
      "metadata": {
        "id": "cL4VPt5uK2kY",
        "colab_type": "code",
        "outputId": "09a5df0e-b2ed-4fe3-a658-4b53400a6c66",
        "colab": {
          "base_uri": "https://localhost:8080/",
          "height": 34
        }
      },
      "source": [
        "cancer.feature_names[[3,13,23]]"
      ],
      "execution_count": 0,
      "outputs": [
        {
          "output_type": "execute_result",
          "data": {
            "text/plain": [
              "array(['mean area', 'area error', 'worst area'], dtype='<U23')"
            ]
          },
          "metadata": {
            "tags": []
          },
          "execution_count": 10
        }
      ]
    },
    {
      "cell_type": "markdown",
      "metadata": {
        "id": "5TahkXQEIZ7h",
        "colab_type": "text"
      },
      "source": [
        "모두 넓이와 관련된 특성임을 알 수 있습니다.\n",
        "\n",
        "\n",
        "**5. 타깃 데이터 확인하기**\n",
        "\n",
        "cancer.target 배열 안에는 0(음성 클래스)과 1(양성 클래스)만 들어 있습니다. 넘파이의 unique()함수를 사용하면 고유한 값을 찾아 반환합니다. 이 때 return_counts 매개변수를 True로 지정하면 고유한 값이 등장하는 횟수까지 세어 반환합니다."
      ]
    },
    {
      "cell_type": "code",
      "metadata": {
        "id": "pi9WqcveK2kp",
        "colab_type": "code",
        "outputId": "39a88fde-b9a0-4500-af55-b1d4768ddf43",
        "colab": {
          "base_uri": "https://localhost:8080/",
          "height": 34
        }
      },
      "source": [
        "np.unique(cancer.target, return_counts=True)"
      ],
      "execution_count": 0,
      "outputs": [
        {
          "output_type": "execute_result",
          "data": {
            "text/plain": [
              "(array([0, 1]), array([212, 357]))"
            ]
          },
          "metadata": {
            "tags": []
          },
          "execution_count": 11
        }
      ]
    },
    {
      "cell_type": "markdown",
      "metadata": {
        "id": "TVjzDcKOJBhq",
        "colab_type": "text"
      },
      "source": [
        "왼쪽의 값 (array([0,1]))은 cancer.target에 들어 있는 고유한 값(0,1)을 의미합니다. \n",
        "\n",
        "오른쪽 값 (array([212,357]))은 타깃 데이터의 고유한 값의 개수를 센 다음 반환한 것입니다. 즉, 타깃 데이터에는 212개의 음성 클래스와 357개의 양성 클래스가 들어 있습니다.\n",
        "\n",
        "**6. 훈련 데이터 세트 저장하기**\n",
        "\n",
        "데이터 세트를 x, y 변수에 저장합니다."
      ]
    },
    {
      "cell_type": "code",
      "metadata": {
        "id": "UDmYOjoFK2k7",
        "colab_type": "code",
        "colab": {}
      },
      "source": [
        "x = cancer.data\n",
        "y = cancer.target"
      ],
      "execution_count": 0,
      "outputs": []
    },
    {
      "cell_type": "markdown",
      "metadata": {
        "id": "CgFTauvZK2lM",
        "colab_type": "text"
      },
      "source": [
        "## 04-5 로지스틱 회귀로 모델을 만들어봅니다"
      ]
    },
    {
      "cell_type": "markdown",
      "metadata": {
        "id": "za-jWMXXVmzJ",
        "colab_type": "text"
      },
      "source": [
        "3장에서 훈련 데이터 세트 전체를 사용하여 모델을 훈련했습니다. 그러나 모델의 성능을 평가하지 않았고 따라서 모델이 맞는지 아닌지를 알수가 없습니다. 여기서는 모델의 성능을 평가하는 방법에 대해서 알아보도록 하겠습니다."
      ]
    },
    {
      "cell_type": "markdown",
      "metadata": {
        "id": "xJXMfQP5V0KG",
        "colab_type": "text"
      },
      "source": [
        "### *모델의 성능 평가를 위한 훈련 세트와 테스트 세트 \n",
        "훈련된 모델의 실전 성능을 일반화 성능(generalization performance)이라고 부릅니다. 그런데 모델에 학습시킨 훈련 데이터 세트로 다시 모델의 성능을 평가하면 그 모델은 당연히 좋은 성능이 나올 것입니다. 이런 성능 평가를 '과도하게 낙관적으로 일반화 성능을 추정한다'고 말합니다. 따라서 훈련 데이터 세트를 두 덩어리로 나누어 하나는 훈련에, 다른 하나는 테스트에 사용하면 됩니다.\n",
        "\n",
        "![대체 텍스트](https://github.com/syeong1218/python/blob/master/12.jpg?raw=true)"
      ]
    },
    {
      "cell_type": "markdown",
      "metadata": {
        "id": "7atmQ-ESVpe7",
        "colab_type": "text"
      },
      "source": [
        "### * 훈련 세트와 테스트 세트로 나누기\n",
        "* 훈련 데이터 세트를 나눌 때는 테스트 \n",
        "세트보다 훈련 세트가 더 많아야 합니다.  \n",
        "* 훈련 데이터 세트를 나눌 때는 양성, 음성 클래스가 훈련 세트와 테스트 세트에 고르게 분포하도록 만들어야 합니다.\n",
        "\n",
        "만약 훈련 세트에 양성 클래스가 많이 몰리거나 테스트 세트에 음성 클래스가 너무 많이 몰리면 모델이 데이터에 있는 패턴을 올바르게 학습하지 못하거나 성능을 잘못 측정할 수도 있습니다.\n",
        "\n",
        "![대체 텍스트](https://github.com/syeong1218/python/blob/master/13.jpg?raw=true)\n",
        "\n",
        "위 그림을 보면 위쪽의 경우에는 그대로 2대1로 나누어져 잘 나누어졌고 밑쪽의 경우에는 클래스 비율이 망가져 있습니다. 클래스의 비율이 망가지면 모델에 사용할 데이터가 올바르지 않으므로 결과도 좋지 않습니다."
      ]
    },
    {
      "cell_type": "markdown",
      "metadata": {
        "id": "rrrUJ0U-WRVI",
        "colab_type": "text"
      },
      "source": [
        "**1. train_test_split() 함수로 훈련 데이터 세트 나누기**\n",
        "\n",
        "사이킷런의 train_test_split() 함수는 기본적으로 입력된 훈련 데이터 세트를 훈련 세트 75%,테스트 세트 25% 비율로 나눠줍니다."
      ]
    },
    {
      "cell_type": "code",
      "metadata": {
        "id": "_ct6eJajK2lY",
        "colab_type": "code",
        "colab": {}
      },
      "source": [
        "from sklearn.model_selection import train_test_split # sklearn.model_selection 모듈에서 train_test_split()함수를 임포트"
      ],
      "execution_count": 0,
      "outputs": []
    },
    {
      "cell_type": "code",
      "metadata": {
        "id": "F6Erss4IK2lp",
        "colab_type": "code",
        "colab": {}
      },
      "source": [
        "x_train, x_test, y_train, y_test = train_test_split(x, y, stratify=y, \n",
        "                                                    test_size=0.2, random_state=42)"
      ],
      "execution_count": 0,
      "outputs": []
    },
    {
      "cell_type": "markdown",
      "metadata": {
        "id": "S-MZGEx8Wf7o",
        "colab_type": "text"
      },
      "source": [
        "* stratify는 훈련 데이터를 나눌 때 클래스 비율을 동일하게 만듭니다.\n",
        "* test_size는 기본적인 훈련 데이터 세트를 나누는 비율을 조절하고 싶을 때 사용합니다. 여기서는 test_size에 0.2를 전달하여 입력된 데이터 세트의 20%를 테스트 세트로 나눴습니다.\n",
        "* 무작위로 섞은 결과를 항상 일정하도록 하기 위해서 random_state에 난수 초깃값을 지정했습니다."
      ]
    },
    {
      "cell_type": "markdown",
      "metadata": {
        "id": "xHcMxJZNWjEn",
        "colab_type": "text"
      },
      "source": [
        "**2. 결과 확인하기**\n",
        "\n",
        "이제 훈련 데이터 세트가 잘 나누어졌는지 훈련 세트와 테스트 세트의 비율을 확인해 보겠습니다. shape속성을 이용해 확인해 보면 훈련 세트와 테스트 세트가 4:1의 비율로 잘 나누어진 것을 알 수 있습니다."
      ]
    },
    {
      "cell_type": "code",
      "metadata": {
        "id": "sOUKhJmMK2mB",
        "colab_type": "code",
        "outputId": "a5567b71-9240-4490-c6d0-aa799294539e",
        "colab": {
          "base_uri": "https://localhost:8080/",
          "height": 34
        }
      },
      "source": [
        "print(x_train.shape, x_test.shape)"
      ],
      "execution_count": 0,
      "outputs": [
        {
          "output_type": "stream",
          "text": [
            "(455, 30) (114, 30)\n"
          ],
          "name": "stdout"
        }
      ]
    },
    {
      "cell_type": "markdown",
      "metadata": {
        "id": "6ZZfrT6UWnNR",
        "colab_type": "text"
      },
      "source": [
        "**3. unique() 함수로 훈련 세트의 타깃 확인하기**\n",
        "\n",
        "넘파이의 unique() 함수로 훈련 세트의 타깃안에 있는 클래스의 개수를 확인해 보면 전체 훈련 데이터 세트의 클래스 비율과 거의 비슷한 구성인것을 알 수 있습니다."
      ]
    },
    {
      "cell_type": "code",
      "metadata": {
        "id": "-tgES7zbK2mb",
        "colab_type": "code",
        "outputId": "fe33223f-c1a2-4f3e-acbf-30aa939201bc",
        "colab": {
          "base_uri": "https://localhost:8080/",
          "height": 34
        }
      },
      "source": [
        "np.unique(y_train, return_counts=True) # y의 요소를 중복없이 알려주며 return_counts를 통해서 각각의 요소의 수를 알 수 있습니다."
      ],
      "execution_count": 0,
      "outputs": [
        {
          "output_type": "execute_result",
          "data": {
            "text/plain": [
              "(array([0, 1]), array([170, 285]))"
            ]
          },
          "metadata": {
            "tags": []
          },
          "execution_count": 16
        }
      ]
    },
    {
      "cell_type": "markdown",
      "metadata": {
        "id": "rdcrqElZWtub",
        "colab_type": "text"
      },
      "source": [
        "### 로지스틱 회귀 구현하기\n",
        "준비된 훈련 세트를 바탕으로 로지스틱 회귀를 구현해 보겠습니다. 로지스틱 회귀를 정방향으로 데이터가 흘러가는 과정(정방향 계산)부터 가중치를 업데이트하기 위해 역방향으로 데이터가 흘러가는 과정(역방향 계산)까지 순서대로 구현해 보겠습니다."
      ]
    },
    {
      "cell_type": "code",
      "metadata": {
        "id": "IX-84wDnW0mh",
        "colab_type": "code",
        "colab": {}
      },
      "source": [
        "class LogisticNeuron:\n",
        "    \n",
        "    def __init__(self):\n",
        "        self.w = None\n",
        "        self.b = None\n",
        "\n",
        "    def forpass(self, x):\n",
        "        z = np.sum(x * self.w) + self.b  # 직선 방정식을 계산합니다\n",
        "        return z\n",
        "\n",
        "    def backprop(self, x, err):\n",
        "        w_grad = x * err    # 가중치에 대한 그래디언트를 계산합니다\n",
        "        b_grad = 1 * err    # 절편에 대한 그래디언트를 계산합니다\n",
        "        return w_grad, b_grad"
      ],
      "execution_count": 0,
      "outputs": []
    },
    {
      "cell_type": "markdown",
      "metadata": {
        "id": "Va-A4jPJW2bx",
        "colab_type": "text"
      },
      "source": [
        "보면 3장에서 구현했던 Neuron클래스와는 다소 차이점이 있습니다. \n",
        "* 입력 데이터의 특성이 많아 `__init__()` 메서드는 가중치와 절편을 미리 초기화 하지 않습니다. 나중에 입력 데이터를 보고 특성 개수에 맞게 결정합니다.\n",
        "* forpass() 메서드를 보면 가중치와 입력 특성의 곱을 모두 더하기 위해 np.sum()함수를 사용한 것을 알 수 있습니다."
      ]
    },
    {
      "cell_type": "code",
      "metadata": {
        "id": "OsdPBX8PK2m3",
        "colab_type": "code",
        "outputId": "5d79dd58-eff6-413f-c7f9-473553431866",
        "colab": {
          "base_uri": "https://localhost:8080/",
          "height": 52
        }
      },
      "source": [
        "a = np.array([1,2,3])\n",
        "b = np.array([3,4,5])\n",
        "print(a + b)\n",
        "print(a * b)"
      ],
      "execution_count": 0,
      "outputs": [
        {
          "output_type": "stream",
          "text": [
            "[4 6 8]\n",
            "[ 3  8 15]\n"
          ],
          "name": "stdout"
        }
      ]
    },
    {
      "cell_type": "markdown",
      "metadata": {
        "id": "BPvLjcR2Ykp8",
        "colab_type": "text"
      },
      "source": [
        "넘파이 배열을 np.sum() 함수의 인자로 전달하면 각 요소를 모두 더한 값을 반환합니다."
      ]
    },
    {
      "cell_type": "code",
      "metadata": {
        "id": "s3caV8QNK2ni",
        "colab_type": "code",
        "outputId": "d0e7a461-52b8-4b0f-a120-c7c294ee8712",
        "colab": {
          "base_uri": "https://localhost:8080/",
          "height": 34
        }
      },
      "source": [
        "np.sum(a * b)"
      ],
      "execution_count": 0,
      "outputs": [
        {
          "output_type": "execute_result",
          "data": {
            "text/plain": [
              "26"
            ]
          },
          "metadata": {
            "tags": []
          },
          "execution_count": 21
        }
      ]
    },
    {
      "cell_type": "markdown",
      "metadata": {
        "id": "-YiQCgiFXS7J",
        "colab_type": "text"
      },
      "source": [
        "### 훈련하는 메서드 구현하기\n",
        "**1. fit() 메서드 구현하기**\n",
        "\n",
        "훈련을 수행하는 fit() 메서드를 구현해 보겠습니다. 기본 구조는 3장의 Neuron클래스와 같지만 활성화 함수가 추가되었고 역방향 계산에는 로지스틱 손실 함수의 도함수를 적용합니다. 앞에서 초기화하지 않은 가중치는 np.ones() 함수를 이용하여 간단히 1로 초기화하고 절편은 0으로 초기화합니다."
      ]
    },
    {
      "cell_type": "code",
      "metadata": {
        "id": "vrVU7NKPXZG0",
        "colab_type": "code",
        "colab": {}
      },
      "source": [
        "def fit(self, x, y, epochs=100):\n",
        "    self.w = np.ones(x.shape[1])      # 가중치를 초기화합니다.\n",
        "    self.b = 0                        # 절편을 초기화합니다.\n",
        "    for i in range(epochs):           # epochs만큼 반복합니다\n",
        "        for x_i, y_i in zip(x, y):    # 모든 샘플에 대해 반복합니다 , zip을 이용해서 자료를 묶어줍니다.\n",
        "            z = self.forpass(x_i)     # 정방향 계산\n",
        "            a = self.activation(z)    # 활성화 함수 적용\n",
        "            err = -(y_i - a)          # 오차 계산\n",
        "            w_grad, b_grad = self.backprop(x_i, err) # 역방향 계산\n",
        "            self.w -= w_grad          # 가중치 업데이트\n",
        "            self.b -= b_grad          # 절편 업데이트"
      ],
      "execution_count": 0,
      "outputs": []
    },
    {
      "cell_type": "markdown",
      "metadata": {
        "id": "kggvZ8CqjBcn",
        "colab_type": "text"
      },
      "source": [
        "잠시 넘파이에서 배열을 만들 때 특정 값으로 채우는 몇가지 함수를 보겠습니다. np.zeros() 함수는 배열의 요소를 전부 0으로 채웁니다. "
      ]
    },
    {
      "cell_type": "code",
      "metadata": {
        "id": "SJ18hb1LK2oK",
        "colab_type": "code",
        "outputId": "6d713fbd-d5c1-40e7-fc6e-2e5c33b936a9",
        "colab": {
          "base_uri": "https://localhost:8080/",
          "height": 52
        }
      },
      "source": [
        "np.zeros((2, 3))"
      ],
      "execution_count": 0,
      "outputs": [
        {
          "output_type": "execute_result",
          "data": {
            "text/plain": [
              "array([[0., 0., 0.],\n",
              "       [0., 0., 0.]])"
            ]
          },
          "metadata": {
            "tags": []
          },
          "execution_count": 24
        }
      ]
    },
    {
      "cell_type": "markdown",
      "metadata": {
        "id": "ZTQ3U4TIlhjT",
        "colab_type": "text"
      },
      "source": [
        "0과 1이 아닌 임의의 값으로 배열을 생성하고 싶을 때는 np.full() 함수를 사용해야 합니다."
      ]
    },
    {
      "cell_type": "code",
      "metadata": {
        "id": "CrRsxvjwK2ou",
        "colab_type": "code",
        "outputId": "afcde64e-ca97-4d1c-eaa8-7fc1b380eb4e",
        "colab": {
          "base_uri": "https://localhost:8080/",
          "height": 52
        }
      },
      "source": [
        "np.full((2,3), 7)"
      ],
      "execution_count": 0,
      "outputs": [
        {
          "output_type": "execute_result",
          "data": {
            "text/plain": [
              "array([[7, 7, 7],\n",
              "       [7, 7, 7]])"
            ]
          },
          "metadata": {
            "tags": []
          },
          "execution_count": 25
        }
      ]
    },
    {
      "cell_type": "markdown",
      "metadata": {
        "id": "y4XuMER6Xbh_",
        "colab_type": "text"
      },
      "source": [
        "**2. activation() 메서드 구현하기**\n",
        "\n",
        "시그모이드 함수가 사용되어야 합니다. 시그모이드 함수는 넘파이의 np.exp() 함수를 사용하여 간단히 만들 수 있습니다."
      ]
    },
    {
      "cell_type": "code",
      "metadata": {
        "id": "xU34CMeqXf4D",
        "colab_type": "code",
        "colab": {}
      },
      "source": [
        "def activation(self, z):\n",
        "    a = 1 / (1 + np.exp(-z))  # 시그모이드 계산\n",
        "    return a"
      ],
      "execution_count": 0,
      "outputs": []
    },
    {
      "cell_type": "markdown",
      "metadata": {
        "id": "w7RALqErXq5g",
        "colab_type": "text"
      },
      "source": [
        "### 예측하는 메서드 구현하기\n",
        "3장에서는 forpass() 메서드를 사용하여 새로운 샘플에 대한 예측값을 계산했으나 여러개의 샘플을 한꺼번에 예측할 때는 여러 번 호출해야하는 번거로움이 있습니다. 또한 분류에서는 활성화 함수와 임계 함수도 적용해야 하므로 새롭게 predict() 메서드를 만들어보겠습니다."
      ]
    },
    {
      "cell_type": "markdown",
      "metadata": {
        "id": "8_QMR4OzXulD",
        "colab_type": "text"
      },
      "source": [
        "**1. predict() 메서드 구현하기**\n",
        "\n",
        "predict() 메서드의 매개변수 값으로 입력값 x가 2차원 배열로 전달된다고 가정하고 구현하게습니다. 예측값은 입력값을 선형 함수, 활성화 함수, 임계 함수 순서로 통과시키면 구할 수 있습니다."
      ]
    },
    {
      "cell_type": "code",
      "metadata": {
        "id": "PXIBui-6Xx4_",
        "colab_type": "code",
        "colab": {}
      },
      "source": [
        "def predict(self, x):\n",
        "    z = [self.forpass(x_i) for x_i in x]    # 정방향 계산\n",
        "    a = self.activation(np.array(z))        # 활성화 함수 적용\n",
        "    return a > 0.5"
      ],
      "execution_count": 0,
      "outputs": []
    },
    {
      "cell_type": "markdown",
      "metadata": {
        "id": "H21QZn3-XzX6",
        "colab_type": "text"
      },
      "source": [
        "여기서 z의 계산에서 파이썬의 리스트 내포 문법을 사용했습니다. 리스트 내포란 대괄호([ ]) 안에 for문을 삽입하여 새 리스트를 만드는 문법입니다. x의 행을 하나씩 꺼내어 forpass() 메서드에 적용하고 그 결과를 이용하여 새 리스트(z)로 만드는 것입니다. z는 곧바로 넘파이 배열로 바꾸어 activation() 메서드로 전달됩니다."
      ]
    },
    {
      "cell_type": "markdown",
      "metadata": {
        "id": "UBE2rgOoX2LV",
        "colab_type": "text"
      },
      "source": [
        "### 구현 내용 한눈에 보기"
      ]
    },
    {
      "cell_type": "code",
      "metadata": {
        "id": "OSzgJ4hSX5PU",
        "colab_type": "code",
        "colab": {}
      },
      "source": [
        "class LogisticNeuron:\n",
        "    \n",
        "    def __init__(self):\n",
        "        self.w = None\n",
        "        self.b = None\n",
        "\n",
        "    def forpass(self, x):\n",
        "        z = np.sum(x * self.w) + self.b  # 직선 방정식을 계산합니다\n",
        "        return z\n",
        "\n",
        "    def backprop(self, x, err):\n",
        "        w_grad = x * err    # 가중치에 대한 그래디언트를 계산합니다\n",
        "        b_grad = 1 * err    # 절편에 대한 그래디언트를 계산합니다\n",
        "        return w_grad, b_grad\n",
        "\n",
        "    def activation(self, z):\n",
        "        a = 1 / (1 + np.exp(-z))  # 시그모이드 계산\n",
        "        return a\n",
        "        \n",
        "    def fit(self, x, y, epochs=100):\n",
        "        self.w = np.ones(x.shape[1])      # 가중치를 초기화합니다.\n",
        "        self.b = 0                        # 절편을 초기화합니다.\n",
        "        for i in range(epochs):           # epochs만큼 반복합니다\n",
        "            for x_i, y_i in zip(x, y):    # 모든 샘플에 대해 반복합니다\n",
        "                z = self.forpass(x_i)     # 정방향 계산\n",
        "                a = self.activation(z)    # 활성화 함수 적용\n",
        "                err = -(y_i - a)          # 오차 계산\n",
        "                w_grad, b_grad = self.backprop(x_i, err) # 역방향 계산\n",
        "                self.w -= w_grad          # 가중치 업데이트\n",
        "                self.b -= b_grad          # 절편 업데이트\n",
        "    \n",
        "    def predict(self, x):\n",
        "        z = [self.forpass(x_i) for x_i in x]    # 정방향 계산\n",
        "        a = self.activation(np.array(z))        # 활성화 함수 적용\n",
        "        return a > 0.5"
      ],
      "execution_count": 0,
      "outputs": []
    },
    {
      "cell_type": "markdown",
      "metadata": {
        "id": "0sdV3jW0X76P",
        "colab_type": "text"
      },
      "source": [
        "### 로지스틱 회귀 모델 훈련시키기\n",
        "준비한 데이터 세트를 바탕으로 로지스틱 회귀 모델을 훈련하고 정확도를 측정하겠습니다."
      ]
    },
    {
      "cell_type": "markdown",
      "metadata": {
        "id": "UoRnF1lOYAOS",
        "colab_type": "text"
      },
      "source": [
        "**1.모델 훈련하기**\n",
        "\n",
        "클래스의 객체를 만들고 훈련 세트와 함께 fit() 메서드를 호출하면 됩니다."
      ]
    },
    {
      "cell_type": "code",
      "metadata": {
        "id": "ydBUYQwNK2pL",
        "colab_type": "code",
        "outputId": "7ec460f9-ba05-46f5-ca86-3bc987bb83b3",
        "colab": {
          "base_uri": "https://localhost:8080/",
          "height": 34
        }
      },
      "source": [
        "neuron = LogisticNeuron()\n",
        "neuron.fit(x_train, y_train)"
      ],
      "execution_count": 0,
      "outputs": [
        {
          "output_type": "stream",
          "text": [
            "/usr/local/lib/python3.6/dist-packages/ipykernel_launcher.py:17: RuntimeWarning: overflow encountered in exp\n"
          ],
          "name": "stderr"
        }
      ]
    },
    {
      "cell_type": "markdown",
      "metadata": {
        "id": "ovSZyPVMYEG-",
        "colab_type": "text"
      },
      "source": [
        "**2. 테스트 세트 사용해 모델의 정확도 평가하기**\n",
        "\n",
        "훈련이 끝난 모델에 테스트 세트를 사용해 예측값을 넣고 예측한 값이 맞는지 비교합니다."
      ]
    },
    {
      "cell_type": "code",
      "metadata": {
        "id": "AOBnRmZvK2pc",
        "colab_type": "code",
        "outputId": "26adbe4f-c7f4-4c43-ce7e-c0de7f2c1ad2",
        "colab": {
          "base_uri": "https://localhost:8080/",
          "height": 52
        }
      },
      "source": [
        "np.mean(neuron.predict(x_test) == y_test)"
      ],
      "execution_count": 0,
      "outputs": [
        {
          "output_type": "stream",
          "text": [
            "/usr/local/lib/python3.6/dist-packages/ipykernel_launcher.py:17: RuntimeWarning: overflow encountered in exp\n"
          ],
          "name": "stderr"
        },
        {
          "output_type": "execute_result",
          "data": {
            "text/plain": [
              "0.8245614035087719"
            ]
          },
          "metadata": {
            "tags": []
          },
          "execution_count": 30
        }
      ]
    },
    {
      "cell_type": "markdown",
      "metadata": {
        "id": "gPnDl5cXYITS",
        "colab_type": "text"
      },
      "source": [
        "predict() 메서드의 반환값은 True나 False로 채워진 (m,) 크기의 배열이고 y_test는 0 또는 1로 채워진 (m,)크기의 배열이므로 바로 비교할 수 있습니다.np.mean() 함수는 매개변수 값으로 전달한 비교문 결과의 평균을 계산합니다. 즉, 계산 결과 0.82는 올바르게 예측한 샘플의 비율이 됩니다. 이를 정확도(accuracy)라고 합니다."
      ]
    },
    {
      "cell_type": "markdown",
      "metadata": {
        "id": "fmBoMDokK2po",
        "colab_type": "text"
      },
      "source": [
        "## 04-6 단일층 신경망을 만들어 봅니다"
      ]
    },
    {
      "cell_type": "markdown",
      "metadata": {
        "id": "Iz09KW4SYLuf",
        "colab_type": "text"
      },
      "source": [
        "### 일반적인 신경망의 모습을 알아봅니다.\n",
        "일반적으로 신경망은 다음과 같이 표현합니다. 가장 왼쪽이 입력층(input layer), 가장 오른쪽이 출력층(output layer) 그리고 가운데 층들을 은닉층(hidden layer)이라고 부릅니다. 작은 원으로 표시된 활성화 함수는 각 층의 한 부분으로 간주합니다.\n",
        "\n",
        "![대체 텍스트](https://github.com/syeong1218/python/blob/master/14.jpg?raw=true)"
      ]
    },
    {
      "cell_type": "markdown",
      "metadata": {
        "id": "ngBOsY_7YUMC",
        "colab_type": "text"
      },
      "source": [
        "**단일층 신경망의 모습을 알아봅니다**\n",
        "\n",
        "앞에서 배운 로지스틱 회귀는 은닉층이 없는 신경망이라고 볼 수 있습니다. 이런 입력층과 출력층만 가지는 신경망을 단일층 신경망이라고 부릅니다. 이거을 그림으로 나타내면 아래와 같습니다.\n",
        "\n",
        "![대체 텍스트](https://github.com/syeong1218/python/blob/master/15.jpg?raw=true)\n",
        "\n"
      ]
    },
    {
      "cell_type": "markdown",
      "metadata": {
        "id": "MNnp92aYYj9_",
        "colab_type": "text"
      },
      "source": [
        "### 단일층 신경망을 구현합니다\n",
        "\n",
        "여기서는 미리 구현한 LogisticNeuron 클래스에 몇 가지 유용한 기능을 추가하여 다시 구현해보겠습니다. "
      ]
    },
    {
      "cell_type": "markdown",
      "metadata": {
        "id": "rNE-IjbpYnOB",
        "colab_type": "text"
      },
      "source": [
        "**손실 함수의 결괏값을 조정해 저장 기능 추가하기**\n",
        "\n",
        "`__init__()` 메서드에 손실 함수의 결괏값을 저장할 리스트 self.losses를 만듭니다.그런 다음 샘플마다 손실 함수를 계산하고 그 결괏값을 모두 더한 다음 샘플 개수로 나눈 평균값을 self.losses 변수에 저장합니다. 그리고 self.activation() 메서드로 계산한 a는 np.log()의 계산을 위해 한 번 더 조정합니다. 왜냐하면 a가 0에 가까워지면 np.log() 함수의 값은 음의 무한대가 되고 a가 1에 가까워지면 np.log() 함수의 값은 0이 되기 떄문입니다. 손실값이 무한해지면 계산을 할 수 없으므로 a의 값이 $1\\times 10^{-10}\\sim 1-1\\times 10^{-10}$ 사이가 되도록 np.clip() 함수로 조정해야 합니다. np.clip() 함수는 주어진 범위 밖의 값을 범위 양 끝의 값으로 잘라 냅니다."
      ]
    },
    {
      "cell_type": "code",
      "metadata": {
        "id": "CWqzKg2jYrPK",
        "colab_type": "code",
        "colab": {}
      },
      "source": [
        "def __init__(self):\n",
        "    self.w = None\n",
        "    self.b = None\n",
        "    self.losses = []\n",
        "\n",
        "def fit(self, x, y, epochs=100):\n",
        "        for i in index:                      # 모든 샘플에 대해 반복합니다\n",
        "            z = self.forpass(x[i])             # 정방향 계산\n",
        "            a = self.activation(z)             # 활성화 함수 적용\n",
        "            err = -(y[i] - a)                  # 오차 계산\n",
        "            w_grad, b_grad = self.backprop(x[i], err) # 역방향 계산\n",
        "            self.w -= w_grad                   # 가중치 업데이트\n",
        "            self.b -= b_grad                   # 절편 업데이트\n",
        "            # 안전한 로그 계산을 위해 클리핑한 후 손실을 누적합니다\n",
        "            a = np.clip(a, 1e-10, 1-1e-10)\n",
        "            loss += -(y[i]*np.log(a)+(1-y[i])*np.log(1-a)) # 에포크마다 평균 손실을 저장합니다\n",
        "        \n",
        "        self.losses.append(loss/len(y))"
      ],
      "execution_count": 0,
      "outputs": []
    },
    {
      "cell_type": "markdown",
      "metadata": {
        "id": "o4PIZHE4YseQ",
        "colab_type": "text"
      },
      "source": [
        "### 여러 가지 경사 하강법에 대해 알아봅니다.\n",
        "지금까지 사용한 경사 하강법은 샘플 데이터 1개에 대한 그레디언트를 계산했습니다. 이를 확률적 경사 하강법(stochastic gradient descent)이라고 부릅니다.\n",
        "\n",
        "![대체 텍스트](https://github.com/syeong1218/python/blob/master/16.jpg?raw=true)\n",
        "\n",
        "또한 확률적 경사 하강법 외에 전체 훈련 세트를 사용하여 한 번에 그레디언트를 계산하는 방식인 배치 경사 하강법(batch gradient descent)과 배치(batch) 크기를 작게 하여(훈련 세트를 여러 번 나누어) 처리하는 방식인 미니 배치 경사 하강법(mini-batch gradient descent)이 있습니다.\n",
        "\n",
        "![대체 텍스트](https://github.com/syeong1218/python/blob/master/17.jpg?raw=true)\n",
        "![대체 텍스트](https://github.com/syeong1218/python/blob/master/18.jpg?raw=true)\n",
        "\n",
        "확률적 경사 하강법은 샘플 데이터 1개마다 그레디언트를 계산하여 가중치를 업데이트하므로 계산 비용은 적은 대신 가중치가 최적값에 수렴하는 과정이 불안정합니다. 반면에 배치 경사 하강법은 전체 훈련 데이터 세트를 사용하여 한 번에 그레디언트를 계산하므로 가중치가 최적값에 수렴하는 과정은 안정적이지만 그만큼 계산 비용이 많이 듭니다. 이 둘의 장점을 절충한 것이 미니 배치 경사 하강법입니다. 다음은 확률적 경사 하강법, 배치 경사 하강법이 최적의 가중치(w1,w2)에 수렴하는 과정을 나타낸 그래프입니다. 미니 배치 경사 하강법은 확률적 경사 하강법보다는 매끄럽고 배치 경사 하강법보다는 덜 매끄러운 그래프가 그려집니다.\n",
        "![대체 텍스트](https://github.com/syeong1218/python/blob/master/19.jpg?raw=true)"
      ]
    },
    {
      "cell_type": "markdown",
      "metadata": {
        "id": "s3ul3u3UZP8E",
        "colab_type": "text"
      },
      "source": [
        "**매 에포크마다 훈련 세트의 샘플 순서를 섞어 사용하기**\n",
        "\n",
        "훈련 세트의 샘플 순서를 섞으면 가중치 최적값의 탐색 과정이 다양해져 가중치 최적값을 제대로 찾을 수 있습니다. 다음 그림은 첫 번째 에포크에서 사용한 샘플의 순서와 두 번째 에포크에서 사용한 샘플의 순서를 나타낸 것입니다.\n",
        "\n",
        "![대체 텍스트](https://github.com/syeong1218/python/blob/master/20.jpg?raw=true)\n",
        "![대체 텍스트](https://github.com/syeong1218/python/blob/master/21.jpg?raw=true)\n",
        "\n",
        "훈련 세트의 샘플 순서를 섞는 전형적인 방법은 넘파이 배열의 인덱스를 섞은 후 인덱스 순서대로 샘플을 뽑는 것입니다. 이 방법이 훈련 세트 자체를 섞는 것보다 효율적이고 빠릅니다. np.random.permutation() 함수를 사용하면 이 방법을 구현할 수 있습니다."
      ]
    },
    {
      "cell_type": "code",
      "metadata": {
        "id": "3jir9_X6ZdnA",
        "colab_type": "code",
        "colab": {}
      },
      "source": [
        "def fit(self, x, y, epochs=100):\n",
        "    self.w = np.ones(x.shape[1])               # 가중치를 초기화합니다.\n",
        "    self.b = 0                                 # 절편을 초기화합니다.\n",
        "    for i in range(epochs):                    # epochs만큼 반복합니다\n",
        "        loss = 0\n",
        "        indexes = np.random.permutation(np.arange(len(x))) # 인덱스를 섞습니다\n",
        "        for i in indexes:                      # 모든 샘플에 대해 반복합니다\n",
        "            z = self.forpass(x[i])             # 정방향 계산\n",
        "            a = self.activation(z)             # 활성화 함수 적용\n",
        "            err = -(y[i] - a)                  # 오차 계산\n",
        "            w_grad, b_grad = self.backprop(x[i], err) # 역방향 계산\n",
        "            self.w -= w_grad                   # 가중치 업데이트\n",
        "            self.b -= b_grad                   # 절편 업데이트\n",
        "            a = np.clip(a, 1e-10, 1-1e-10)  # 안전한 로그 계산을 위해 클리핑한 후 손실을 누적합니다\n",
        "            loss += -(y[i]*np.log(a)+(1-y[i])*np.log(1-a))  # 에포크마다 평균 손실을 저장합니다\n",
        "        self.losses.append(loss/len(y))"
      ],
      "execution_count": 0,
      "outputs": []
    },
    {
      "cell_type": "markdown",
      "metadata": {
        "id": "-RynidtgZfpN",
        "colab_type": "text"
      },
      "source": [
        "**score() 메서드 추가하기**\n",
        "\n",
        "정확도를 계산해 주는 score() 메서드를 추가하고 predict() 메서드도 수정하겠습니다. score() 메서드에는 정확도를 계산할 때 사용했던 np.mean() 함수를 사용합니다."
      ]
    },
    {
      "cell_type": "code",
      "metadata": {
        "id": "UpMZxvWdZi0O",
        "colab_type": "code",
        "colab": {}
      },
      "source": [
        "def predict(self, x):\n",
        "    z = [self.forpass(x_i) for x_i in x]     # 정방향 계산\n",
        "    return np.array(z) > 0                   # 스텝 함수 적용\n",
        "    \n",
        "def score(self, x, y):\n",
        "    return np.mean(self.predict(x) == y)"
      ],
      "execution_count": 0,
      "outputs": []
    },
    {
      "cell_type": "markdown",
      "metadata": {
        "id": "YJFFne0QZj9H",
        "colab_type": "text"
      },
      "source": [
        "시그모이드 함수의 출력값은 0~1 사이의 확률값이고 양성 클래스를 판단하는 기준은 0.5이상입니다. 그런데 z가 0보다 크면 시그모이드 함수의 출력값은 0.5보다 크고 z가 0보다 작으면 시그모이드 함수의 출력값은 0.5보다 작습니다. 그래서 predict() 메서드에는 굳이 시그모이드 함수를 사용하지 않아도 됩니다. 그래서 predict() 메서드에는 로지스틱 함수를 적용하지 않고 z값의 크기만 비교하여 결과를 반환했습니다."
      ]
    },
    {
      "cell_type": "code",
      "metadata": {
        "id": "Zv7FWmN5K2pq",
        "colab_type": "code",
        "colab": {}
      },
      "source": [
        "class SingleLayer:\n",
        "    \n",
        "    def __init__(self):\n",
        "        self.w = None\n",
        "        self.b = None\n",
        "        self.losses = []\n",
        "\n",
        "    def forpass(self, x):\n",
        "        z = np.sum(x * self.w) + self.b  # 직선 방정식을 계산합니다\n",
        "        return z\n",
        "\n",
        "    def backprop(self, x, err):\n",
        "        w_grad = x * err    # 가중치에 대한 그래디언트를 계산합니다\n",
        "        b_grad = 1 * err    # 절편에 대한 그래디언트를 계산합니다\n",
        "        return w_grad, b_grad\n",
        "\n",
        "    def activation(self, z):\n",
        "        a = 1 / (1 + np.exp(-z))  # 시그모이드 계산\n",
        "        return a\n",
        "        \n",
        "    def fit(self, x, y, epochs=100):\n",
        "        self.w = np.ones(x.shape[1])               # 가중치를 초기화합니다.\n",
        "        self.b = 0                                 # 절편을 초기화합니다.\n",
        "        for i in range(epochs):                    # epochs만큼 반복합니다\n",
        "            loss = 0\n",
        "            # 인덱스를 섞습니다\n",
        "            indexes = np.random.permutation(np.arange(len(x)))\n",
        "            for i in indexes:                      # 모든 샘플에 대해 반복합니다\n",
        "                z = self.forpass(x[i])             # 정방향 계산\n",
        "                a = self.activation(z)             # 활성화 함수 적용\n",
        "                err = -(y[i] - a)                  # 오차 계산\n",
        "                w_grad, b_grad = self.backprop(x[i], err) # 역방향 계산\n",
        "                self.w -= w_grad                   # 가중치 업데이트\n",
        "                self.b -= b_grad                   # 절편 업데이트\n",
        "                a = np.clip(a, 1e-10, 1-1e-10) # 안전한 로그 계산을 위해 클리핑한 후 손실을 누적합니다\n",
        "                loss += -(y[i]*np.log(a)+(1-y[i])*np.log(1-a)) # 에포크마다 평균 손실을 저장합니다\n",
        "            \n",
        "            self.losses.append(loss/len(y))\n",
        "    \n",
        "    def predict(self, x):\n",
        "        z = [self.forpass(x_i) for x_i in x]     # 정방향 계산\n",
        "        return np.array(z) > 0                   # 스텝 함수 적용\n",
        "    \n",
        "    def score(self, x, y):\n",
        "        return np.mean(self.predict(x) == y)"
      ],
      "execution_count": 0,
      "outputs": []
    },
    {
      "cell_type": "markdown",
      "metadata": {
        "id": "hxIhDutZZ08w",
        "colab_type": "text"
      },
      "source": [
        "### 단일층 신경망 훈련하기\n",
        "**1. 단일층 신경망 훈련하고 정확도 출력하기**\n",
        "\n",
        "클래스의 객체를 만들고 훈련 세트로 신경망을 훈련한 다음 score() 메서드로 정확도를 출력해겠습니다."
      ]
    },
    {
      "cell_type": "code",
      "metadata": {
        "id": "STOFCy-mK2p4",
        "colab_type": "code",
        "outputId": "a4499ead-190c-4b1a-abac-945bcc73334d",
        "colab": {
          "base_uri": "https://localhost:8080/",
          "height": 52
        }
      },
      "source": [
        "layer = SingleLayer()\n",
        "layer.fit(x_train, y_train)\n",
        "layer.score(x_test, y_test)"
      ],
      "execution_count": 0,
      "outputs": [
        {
          "output_type": "stream",
          "text": [
            "/usr/local/lib/python3.6/dist-packages/ipykernel_launcher.py:18: RuntimeWarning: overflow encountered in exp\n"
          ],
          "name": "stderr"
        },
        {
          "output_type": "execute_result",
          "data": {
            "text/plain": [
              "0.9298245614035088"
            ]
          },
          "metadata": {
            "tags": []
          },
          "execution_count": 35
        }
      ]
    },
    {
      "cell_type": "markdown",
      "metadata": {
        "id": "Tlmnmb86Z5LI",
        "colab_type": "text"
      },
      "source": [
        "**2. 손실 함수 누적값 확인하기**\n",
        "\n",
        "성능이 에포크마다 훈련 세트를 무작위로 섞어 손실함수의 값을 줄였기 때문에 좋아졌습니다. 이를 확인하기 위해서 그래프를 그려보겠습니다."
      ]
    },
    {
      "cell_type": "code",
      "metadata": {
        "scrolled": true,
        "id": "TYyOsywMK2qH",
        "colab_type": "code",
        "outputId": "7223df31-000b-471c-d5e0-9dfe9731c4df",
        "colab": {
          "base_uri": "https://localhost:8080/",
          "height": 279
        }
      },
      "source": [
        "plt.plot(layer.losses)\n",
        "plt.xlabel('epoch')\n",
        "plt.ylabel('loss')\n",
        "plt.show()"
      ],
      "execution_count": 0,
      "outputs": [
        {
          "output_type": "display_data",
          "data": {
            "image/png": "[encoded data removed]",
            "text/plain": [
              "<Figure size 432x288 with 1 Axes>"
            ]
          },
          "metadata": {
            "tags": []
          }
        }
      ]
    },
    {
      "cell_type": "markdown",
      "metadata": {
        "id": "C1YFLQSmZ9dm",
        "colab_type": "text"
      },
      "source": [
        "로지스틱 손실 함수의 값이 에포크가 진행됨에 따라 감소하고 있음을 확인할 수 있습니다. 이로써 가장 기초적인 신경망 알고리즘이 구현되었습니다."
      ]
    },
    {
      "cell_type": "markdown",
      "metadata": {
        "id": "Q2jn5nkXK2qW",
        "colab_type": "text"
      },
      "source": [
        "## 04-7 사이킷런의 경사 하강법을 사용해 봅니다"
      ]
    },
    {
      "cell_type": "markdown",
      "metadata": {
        "id": "40h_7clMZ_Kp",
        "colab_type": "text"
      },
      "source": [
        "사이킷런의 경사 하강법이 구현된 SGDClassifier클래스를 이용하여 로지스틱 회귀 문제를 간단히 해결해 보겠습니다."
      ]
    },
    {
      "cell_type": "markdown",
      "metadata": {
        "id": "tszSEHIYaBFS",
        "colab_type": "text"
      },
      "source": [
        "### 사이킷런으로 경사 하강법 적용하기\n",
        "**1. 로지스틱 손실 함수 지정하기**\n",
        "\n",
        "SGDClassifier 클래스에 로지스틱 회귀를 적용하려면 loss 매개변수에 손실 함수로 log를 지정합니다."
      ]
    },
    {
      "cell_type": "code",
      "metadata": {
        "id": "yS_g6NWaK2qc",
        "colab_type": "code",
        "colab": {}
      },
      "source": [
        "from sklearn.linear_model import SGDClassifier"
      ],
      "execution_count": 0,
      "outputs": []
    },
    {
      "cell_type": "code",
      "metadata": {
        "id": "1cO5zT02aHst",
        "colab_type": "code",
        "colab": {}
      },
      "source": [
        "sgd = SGDClassifier(loss='log', max_iter=100, tol=1e-3, random_state=42)"
      ],
      "execution_count": 0,
      "outputs": []
    },
    {
      "cell_type": "markdown",
      "metadata": {
        "id": "TxokhGMgaI4d",
        "colab_type": "text"
      },
      "source": [
        "max_iter를 통해 반복 횟수를 100으로 지정합니다. 반복할 때마다 로지스틱 손실 함수의 값이 tol에 지정한 값만큼 감소되지 않으면 반복이 중단되도록 설정합니다. 만약 tol의 값을 설정하지 않으면 max_iter의 값을 늘리라는 경고가 발생합니다. 이는 모델의 로지스틱 손실 함수의 값이 최적값으로 수렴할 정도로 충분한 반복 횟수를 입력했는지 사용자에게 알려주므로 유용합니다."
      ]
    },
    {
      "cell_type": "markdown",
      "metadata": {
        "id": "7sfCZKG6aLkX",
        "colab_type": "text"
      },
      "source": [
        "**2. 사이킷런으로 훈련하고 평가하기**\n",
        "\n",
        "사이킷런의 SGDClassifier 클래스에는 지금까지 우리가 직접 구현한 메서드가 이미 준비되어 있습니다."
      ]
    },
    {
      "cell_type": "code",
      "metadata": {
        "id": "uXJn4Bt_K2qs",
        "colab_type": "code",
        "outputId": "8dd61871-fd80-4b2d-bc4c-6cd9f744fdc5",
        "colab": {
          "base_uri": "https://localhost:8080/",
          "height": 34
        }
      },
      "source": [
        "sgd.fit(x_train, y_train)\n",
        "sgd.score(x_test, y_test)"
      ],
      "execution_count": 0,
      "outputs": [
        {
          "output_type": "execute_result",
          "data": {
            "text/plain": [
              "0.8333333333333334"
            ]
          },
          "metadata": {
            "tags": []
          },
          "execution_count": 39
        }
      ]
    },
    {
      "cell_type": "markdown",
      "metadata": {
        "id": "eThn-RvKaQPd",
        "colab_type": "text"
      },
      "source": [
        "**3. 사이킷런으로 예측하기**\n",
        "\n",
        "예측을 위한 메서드도 구현되었습니다. 주의할 점은 사이킷런은 입력 데이터로 2차원 배열만 받아들입니다.즉, 샘플 하나를 주입하더라도 2차원 배열로 만들어야 합니다. 여기서는 배열의 슬라이싱을 사용해 테스트 세트에서 10개의 샘플만 뽑아 예측을 만들어 보겠습니다."
      ]
    },
    {
      "cell_type": "code",
      "metadata": {
        "id": "dSjYGc2fK2rA",
        "colab_type": "code",
        "outputId": "66bf3c64-2dff-43a0-b014-7e752d6485a6",
        "colab": {
          "base_uri": "https://localhost:8080/",
          "height": 34
        }
      },
      "source": [
        "sgd.predict(x_test[0:10])"
      ],
      "execution_count": 0,
      "outputs": [
        {
          "output_type": "execute_result",
          "data": {
            "text/plain": [
              "array([0, 1, 0, 0, 0, 0, 1, 0, 0, 0])"
            ]
          },
          "metadata": {
            "tags": []
          },
          "execution_count": 40
        }
      ]
    },
    {
      "cell_type": "code",
      "metadata": {
        "id": "I7ItcBeGT6sU",
        "colab_type": "code",
        "outputId": "953dbd85-40e9-4d0e-8835-dfa24553750f",
        "colab": {
          "base_uri": "https://localhost:8080/",
          "height": 34
        }
      },
      "source": [
        "y_test[0:10]"
      ],
      "execution_count": 0,
      "outputs": [
        {
          "output_type": "execute_result",
          "data": {
            "text/plain": [
              "array([0, 1, 0, 1, 0, 1, 1, 0, 0, 0])"
            ]
          },
          "metadata": {
            "tags": []
          },
          "execution_count": 41
        }
      ]
    }
  ]
}