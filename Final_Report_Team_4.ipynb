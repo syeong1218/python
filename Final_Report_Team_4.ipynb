{
  "nbformat": 4,
  "nbformat_minor": 0,
  "metadata": {
    "colab": {
      "name": "Final Report_Team 4",
      "provenance": [],
      "collapsed_sections": [
        "yCGO8kJ0wDf-",
        "_FejRWp-j5Pa",
        "NyTPVkKiJSb2",
        "Ei04ktBNIE-1"
      ],
      "machine_shape": "hm",
      "include_colab_link": true
    },
    "kernelspec": {
      "name": "python3",
      "display_name": "Python 3"
    },
    "accelerator": "GPU"
  },
  "cells": [
    {
      "cell_type": "markdown",
      "metadata": {
        "id": "view-in-github",
        "colab_type": "text"
      },
      "source": [
        "<a href=\"https://colab.research.google.com/github/syeong1218/python/blob/master/Final_Report_Team_4.ipynb\" target=\"_parent\"><img src=\"https://colab.research.google.com/assets/colab-badge.svg\" alt=\"Open In Colab\"/></a>"
      ]
    },
    {
      "cell_type": "markdown",
      "metadata": {
        "id": "um_YY3yt7jVg",
        "colab_type": "text"
      },
      "source": [
        "조원 : 17101595 유순영, 14108307 구교훈, 15108382 임영준"
      ]
    },
    {
      "cell_type": "markdown",
      "metadata": {
        "id": "yCGO8kJ0wDf-",
        "colab_type": "text"
      },
      "source": [
        "# **Ⅰ. SMILES(Simplified Molecular Input Line Entry System)**\n",
        "## **1. SMILES의 정의**\n",
        "SMILES(Simplified Molecular Input Line Entry System)은 화학물질의 구조를 짧은 ASCII를 이용하여 문자열로 나타내는 방법입니다. 즉, 화학정보학을 위해 2차원, 3차원의 구조를 가진 분자와 화학반응을 문자열로 표기한 간단한 화학 언어입니다. 그래서 적은 양의 데이터를 이용하여 화학물질을 나타낼 수 있습니다.\n",
        "\n",
        "RDkit는 화학정보학을 위한 Open-source module로 이를 다운받아야 SMILES를 사용할 수 있다. 코랩에서 아래 코드를 실행시키면 됩니다.\n",
        "\n"
      ]
    },
    {
      "cell_type": "markdown",
      "metadata": {
        "id": "_FejRWp-j5Pa",
        "colab_type": "text"
      },
      "source": [
        "#### RDkit 다운코드"
      ]
    },
    {
      "cell_type": "code",
      "metadata": {
        "id": "m8nEeLqdvBKQ",
        "colab_type": "code",
        "outputId": "9a360f9f-b338-49e1-970e-287075604202",
        "colab": {
          "base_uri": "https://localhost:8080/",
          "height": 1000
        }
      },
      "source": [
        "!wget -c https://repo.continuum.io/miniconda/Miniconda3-latest-Linux-x86_64.sh\n",
        "!chmod +x Miniconda3-latest-Linux-x86_64.sh\n",
        "!time bash ./Miniconda3-latest-Linux-x86_64.sh -b -f -p /usr/local\n",
        "!time conda install -q -y -c conda-forge rdkit"
      ],
      "execution_count": 0,
      "outputs": [
        {
          "output_type": "stream",
          "text": [
            "--2019-12-14 04:50:09--  https://repo.continuum.io/miniconda/Miniconda3-latest-Linux-x86_64.sh\n",
            "Resolving repo.continuum.io (repo.continuum.io)... 104.18.200.79, 104.18.201.79, 2606:4700::6812:c94f, ...\n",
            "Connecting to repo.continuum.io (repo.continuum.io)|104.18.200.79|:443... connected.\n",
            "HTTP request sent, awaiting response... 200 OK\n",
            "Length: 71785000 (68M) [application/x-sh]\n",
            "Saving to: ‘Miniconda3-latest-Linux-x86_64.sh’\n",
            "\n",
            "\r          Miniconda   0%[                    ]       0  --.-KB/s               \r         Miniconda3  64%[===========>        ]  43.93M   220MB/s               \rMiniconda3-latest-L 100%[===================>]  68.46M   210MB/s    in 0.3s    \n",
            "\n",
            "2019-12-14 04:50:09 (210 MB/s) - ‘Miniconda3-latest-Linux-x86_64.sh’ saved [71785000/71785000]\n",
            "\n",
            "PREFIX=/usr/local\n",
            "Unpacking payload ...\n",
            "Collecting package metadata (current_repodata.json): - \b\b\\ \b\bdone\n",
            "Solving environment: / \b\b- \b\bdone\n",
            "\n",
            "## Package Plan ##\n",
            "\n",
            "  environment location: /usr/local\n",
            "\n",
            "  added / updated specs:\n",
            "    - _libgcc_mutex==0.1=main\n",
            "    - asn1crypto==1.2.0=py37_0\n",
            "    - ca-certificates==2019.10.16=0\n",
            "    - certifi==2019.9.11=py37_0\n",
            "    - cffi==1.13.0=py37h2e261b9_0\n",
            "    - chardet==3.0.4=py37_1003\n",
            "    - conda-package-handling==1.6.0=py37h7b6447c_0\n",
            "    - conda==4.7.12=py37_0\n",
            "    - cryptography==2.8=py37h1ba5d50_0\n",
            "    - idna==2.8=py37_0\n",
            "    - libedit==3.1.20181209=hc058e9b_0\n",
            "    - libffi==3.2.1=hd88cf55_4\n",
            "    - libgcc-ng==9.1.0=hdf63c60_0\n",
            "    - libstdcxx-ng==9.1.0=hdf63c60_0\n",
            "    - ncurses==6.1=he6710b0_1\n",
            "    - openssl==1.1.1d=h7b6447c_3\n",
            "    - pip==19.3.1=py37_0\n",
            "    - pycosat==0.6.3=py37h14c3975_0\n",
            "    - pycparser==2.19=py37_0\n",
            "    - pyopenssl==19.0.0=py37_0\n",
            "    - pysocks==1.7.1=py37_0\n",
            "    - python==3.7.4=h265db76_1\n",
            "    - readline==7.0=h7b6447c_5\n",
            "    - requests==2.22.0=py37_0\n",
            "    - ruamel_yaml==0.15.46=py37h14c3975_0\n",
            "    - setuptools==41.4.0=py37_0\n",
            "    - six==1.12.0=py37_0\n",
            "    - sqlite==3.30.0=h7b6447c_0\n",
            "    - tk==8.6.8=hbc83047_0\n",
            "    - tqdm==4.36.1=py_0\n",
            "    - urllib3==1.24.2=py37_0\n",
            "    - wheel==0.33.6=py37_0\n",
            "    - xz==5.2.4=h14c3975_4\n",
            "    - yaml==0.1.7=had09818_2\n",
            "    - zlib==1.2.11=h7b6447c_3\n",
            "\n",
            "\n",
            "The following NEW packages will be INSTALLED:\n",
            "\n",
            "  _libgcc_mutex      pkgs/main/linux-64::_libgcc_mutex-0.1-main\n",
            "  asn1crypto         pkgs/main/linux-64::asn1crypto-1.2.0-py37_0\n",
            "  ca-certificates    pkgs/main/linux-64::ca-certificates-2019.10.16-0\n",
            "  certifi            pkgs/main/linux-64::certifi-2019.9.11-py37_0\n",
            "  cffi               pkgs/main/linux-64::cffi-1.13.0-py37h2e261b9_0\n",
            "  chardet            pkgs/main/linux-64::chardet-3.0.4-py37_1003\n",
            "  conda              pkgs/main/linux-64::conda-4.7.12-py37_0\n",
            "  conda-package-han~ pkgs/main/linux-64::conda-package-handling-1.6.0-py37h7b6447c_0\n",
            "  cryptography       pkgs/main/linux-64::cryptography-2.8-py37h1ba5d50_0\n",
            "  idna               pkgs/main/linux-64::idna-2.8-py37_0\n",
            "  libedit            pkgs/main/linux-64::libedit-3.1.20181209-hc058e9b_0\n",
            "  libffi             pkgs/main/linux-64::libffi-3.2.1-hd88cf55_4\n",
            "  libgcc-ng          pkgs/main/linux-64::libgcc-ng-9.1.0-hdf63c60_0\n",
            "  libstdcxx-ng       pkgs/main/linux-64::libstdcxx-ng-9.1.0-hdf63c60_0\n",
            "  ncurses            pkgs/main/linux-64::ncurses-6.1-he6710b0_1\n",
            "  openssl            pkgs/main/linux-64::openssl-1.1.1d-h7b6447c_3\n",
            "  pip                pkgs/main/linux-64::pip-19.3.1-py37_0\n",
            "  pycosat            pkgs/main/linux-64::pycosat-0.6.3-py37h14c3975_0\n",
            "  pycparser          pkgs/main/linux-64::pycparser-2.19-py37_0\n",
            "  pyopenssl          pkgs/main/linux-64::pyopenssl-19.0.0-py37_0\n",
            "  pysocks            pkgs/main/linux-64::pysocks-1.7.1-py37_0\n",
            "  python             pkgs/main/linux-64::python-3.7.4-h265db76_1\n",
            "  readline           pkgs/main/linux-64::readline-7.0-h7b6447c_5\n",
            "  requests           pkgs/main/linux-64::requests-2.22.0-py37_0\n",
            "  ruamel_yaml        pkgs/main/linux-64::ruamel_yaml-0.15.46-py37h14c3975_0\n",
            "  setuptools         pkgs/main/linux-64::setuptools-41.4.0-py37_0\n",
            "  six                pkgs/main/linux-64::six-1.12.0-py37_0\n",
            "  sqlite             pkgs/main/linux-64::sqlite-3.30.0-h7b6447c_0\n",
            "  tk                 pkgs/main/linux-64::tk-8.6.8-hbc83047_0\n",
            "  tqdm               pkgs/main/noarch::tqdm-4.36.1-py_0\n",
            "  urllib3            pkgs/main/linux-64::urllib3-1.24.2-py37_0\n",
            "  wheel              pkgs/main/linux-64::wheel-0.33.6-py37_0\n",
            "  xz                 pkgs/main/linux-64::xz-5.2.4-h14c3975_4\n",
            "  yaml               pkgs/main/linux-64::yaml-0.1.7-had09818_2\n",
            "  zlib               pkgs/main/linux-64::zlib-1.2.11-h7b6447c_3\n",
            "\n",
            "\n",
            "Preparing transaction: | \b\b/ \b\b- \b\b\\ \b\bdone\n",
            "Executing transaction: / \b\b- \b\b\\ \b\b| \b\b/ \b\b- \b\b\\ \b\b| \b\b/ \b\b- \b\b\\ \b\bdone\n",
            "installation finished.\n",
            "WARNING:\n",
            "    You currently have a PYTHONPATH environment variable set. This may cause\n",
            "    unexpected behavior when running the Python interpreter in Miniconda3.\n",
            "    For best results, please verify that your PYTHONPATH only points to\n",
            "    directories of packages that are compatible with the Python interpreter\n",
            "    in Miniconda3: /usr/local\n",
            "\n",
            "real\t0m14.534s\n",
            "user\t0m8.578s\n",
            "sys\t0m3.669s\n",
            "Collecting package metadata (current_repodata.json): ...working... done\n",
            "Solving environment: ...working... done\n",
            "\n",
            "## Package Plan ##\n",
            "\n",
            "  environment location: /usr/local\n",
            "\n",
            "  added / updated specs:\n",
            "    - rdkit\n",
            "\n",
            "\n",
            "The following packages will be downloaded:\n",
            "\n",
            "    package                    |            build\n",
            "    ---------------------------|-----------------\n",
            "    boost-1.70.0               |   py37h9de70de_1         337 KB  conda-forge\n",
            "    boost-cpp-1.70.0           |       h8e57a91_2        21.1 MB  conda-forge\n",
            "    bzip2-1.0.8                |       h516909a_2         396 KB  conda-forge\n",
            "    ca-certificates-2019.11.28 |       hecc5488_0         145 KB  conda-forge\n",
            "    cairo-1.16.0               |    hfb77d84_1002         1.5 MB  conda-forge\n",
            "    certifi-2019.11.28         |           py37_0         148 KB  conda-forge\n",
            "    conda-4.8.0                |           py37_0         3.0 MB  conda-forge\n",
            "    fontconfig-2.13.1          |    h86ecdb6_1001         340 KB  conda-forge\n",
            "    freetype-2.10.0            |       he983fc9_1         884 KB  conda-forge\n",
            "    gettext-0.19.8.1           |    hc5be6a0_1002         3.6 MB  conda-forge\n",
            "    glib-2.58.3                |py37h6f030ca_1002         3.3 MB  conda-forge\n",
            "    icu-64.2                   |       he1b5a44_1        12.6 MB  conda-forge\n",
            "    jpeg-9c                    |    h14c3975_1001         251 KB  conda-forge\n",
            "    libblas-3.8.0              |      14_openblas          10 KB  conda-forge\n",
            "    libcblas-3.8.0             |      14_openblas          10 KB  conda-forge\n",
            "    libgfortran-ng-7.3.0       |       hdf63c60_2         1.7 MB  conda-forge\n",
            "    libiconv-1.15              |    h516909a_1005         2.0 MB  conda-forge\n",
            "    liblapack-3.8.0            |      14_openblas          10 KB  conda-forge\n",
            "    libopenblas-0.3.7          |       h5ec1e0e_5         7.6 MB  conda-forge\n",
            "    libpng-1.6.37              |       hed695b0_0         343 KB  conda-forge\n",
            "    libtiff-4.1.0              |       hc3755c2_1         609 KB  conda-forge\n",
            "    libuuid-2.32.1             |    h14c3975_1000          26 KB  conda-forge\n",
            "    libxcb-1.13                |    h14c3975_1002         396 KB  conda-forge\n",
            "    libxml2-2.9.10             |       hee79883_0         1.3 MB  conda-forge\n",
            "    lz4-c-1.8.3                |    he1b5a44_1001         187 KB  conda-forge\n",
            "    numpy-1.17.3               |   py37h95a1406_0         5.1 MB  conda-forge\n",
            "    olefile-0.46               |             py_0          31 KB  conda-forge\n",
            "    openssl-1.1.1d             |       h516909a_0         2.1 MB  conda-forge\n",
            "    pandas-0.25.3              |   py37hb3f55d8_0        11.4 MB  conda-forge\n",
            "    pcre-8.43                  |       he1b5a44_0         257 KB  conda-forge\n",
            "    pillow-6.2.1               |   py37h34e0f95_0         643 KB\n",
            "    pixman-0.38.0              |    h516909a_1003         594 KB  conda-forge\n",
            "    pthread-stubs-0.4          |    h14c3975_1001           5 KB  conda-forge\n",
            "    pycairo-1.18.2             |   py37h438ddbb_0          77 KB  conda-forge\n",
            "    python-dateutil-2.8.1      |             py_0         220 KB  conda-forge\n",
            "    pytz-2019.3                |             py_0         237 KB  conda-forge\n",
            "    rdkit-2019.09.2            |   py37hb31dc5d_0        23.8 MB  conda-forge\n",
            "    xorg-kbproto-1.0.7         |    h14c3975_1002          26 KB  conda-forge\n",
            "    xorg-libice-1.0.10         |       h516909a_0          57 KB  conda-forge\n",
            "    xorg-libsm-1.2.3           |    h84519dc_1000          25 KB  conda-forge\n",
            "    xorg-libx11-1.6.9          |       h516909a_0         918 KB  conda-forge\n",
            "    xorg-libxau-1.0.9          |       h14c3975_0          13 KB  conda-forge\n",
            "    xorg-libxdmcp-1.1.3        |       h516909a_0          18 KB  conda-forge\n",
            "    xorg-libxext-1.3.4         |       h516909a_0          51 KB  conda-forge\n",
            "    xorg-libxrender-0.9.10     |    h516909a_1002          31 KB  conda-forge\n",
            "    xorg-renderproto-0.11.1    |    h14c3975_1002           8 KB  conda-forge\n",
            "    xorg-xextproto-7.3.0       |    h14c3975_1002          27 KB  conda-forge\n",
            "    xorg-xproto-7.0.31         |    h14c3975_1007          72 KB  conda-forge\n",
            "    zstd-1.4.4                 |       h3b9ef0a_1         989 KB  conda-forge\n",
            "    ------------------------------------------------------------\n",
            "                                           Total:       108.4 MB\n",
            "\n",
            "The following NEW packages will be INSTALLED:\n",
            "\n",
            "  boost              conda-forge/linux-64::boost-1.70.0-py37h9de70de_1\n",
            "  boost-cpp          conda-forge/linux-64::boost-cpp-1.70.0-h8e57a91_2\n",
            "  bzip2              conda-forge/linux-64::bzip2-1.0.8-h516909a_2\n",
            "  cairo              conda-forge/linux-64::cairo-1.16.0-hfb77d84_1002\n",
            "  fontconfig         conda-forge/linux-64::fontconfig-2.13.1-h86ecdb6_1001\n",
            "  freetype           conda-forge/linux-64::freetype-2.10.0-he983fc9_1\n",
            "  gettext            conda-forge/linux-64::gettext-0.19.8.1-hc5be6a0_1002\n",
            "  glib               conda-forge/linux-64::glib-2.58.3-py37h6f030ca_1002\n",
            "  icu                conda-forge/linux-64::icu-64.2-he1b5a44_1\n",
            "  jpeg               conda-forge/linux-64::jpeg-9c-h14c3975_1001\n",
            "  libblas            conda-forge/linux-64::libblas-3.8.0-14_openblas\n",
            "  libcblas           conda-forge/linux-64::libcblas-3.8.0-14_openblas\n",
            "  libgfortran-ng     conda-forge/linux-64::libgfortran-ng-7.3.0-hdf63c60_2\n",
            "  libiconv           conda-forge/linux-64::libiconv-1.15-h516909a_1005\n",
            "  liblapack          conda-forge/linux-64::liblapack-3.8.0-14_openblas\n",
            "  libopenblas        conda-forge/linux-64::libopenblas-0.3.7-h5ec1e0e_5\n",
            "  libpng             conda-forge/linux-64::libpng-1.6.37-hed695b0_0\n",
            "  libtiff            conda-forge/linux-64::libtiff-4.1.0-hc3755c2_1\n",
            "  libuuid            conda-forge/linux-64::libuuid-2.32.1-h14c3975_1000\n",
            "  libxcb             conda-forge/linux-64::libxcb-1.13-h14c3975_1002\n",
            "  libxml2            conda-forge/linux-64::libxml2-2.9.10-hee79883_0\n",
            "  lz4-c              conda-forge/linux-64::lz4-c-1.8.3-he1b5a44_1001\n",
            "  numpy              conda-forge/linux-64::numpy-1.17.3-py37h95a1406_0\n",
            "  olefile            conda-forge/noarch::olefile-0.46-py_0\n",
            "  pandas             conda-forge/linux-64::pandas-0.25.3-py37hb3f55d8_0\n",
            "  pcre               conda-forge/linux-64::pcre-8.43-he1b5a44_0\n",
            "  pillow             pkgs/main/linux-64::pillow-6.2.1-py37h34e0f95_0\n",
            "  pixman             conda-forge/linux-64::pixman-0.38.0-h516909a_1003\n",
            "  pthread-stubs      conda-forge/linux-64::pthread-stubs-0.4-h14c3975_1001\n",
            "  pycairo            conda-forge/linux-64::pycairo-1.18.2-py37h438ddbb_0\n",
            "  python-dateutil    conda-forge/noarch::python-dateutil-2.8.1-py_0\n",
            "  pytz               conda-forge/noarch::pytz-2019.3-py_0\n",
            "  rdkit              conda-forge/linux-64::rdkit-2019.09.2-py37hb31dc5d_0\n",
            "  xorg-kbproto       conda-forge/linux-64::xorg-kbproto-1.0.7-h14c3975_1002\n",
            "  xorg-libice        conda-forge/linux-64::xorg-libice-1.0.10-h516909a_0\n",
            "  xorg-libsm         conda-forge/linux-64::xorg-libsm-1.2.3-h84519dc_1000\n",
            "  xorg-libx11        conda-forge/linux-64::xorg-libx11-1.6.9-h516909a_0\n",
            "  xorg-libxau        conda-forge/linux-64::xorg-libxau-1.0.9-h14c3975_0\n",
            "  xorg-libxdmcp      conda-forge/linux-64::xorg-libxdmcp-1.1.3-h516909a_0\n",
            "  xorg-libxext       conda-forge/linux-64::xorg-libxext-1.3.4-h516909a_0\n",
            "  xorg-libxrender    conda-forge/linux-64::xorg-libxrender-0.9.10-h516909a_1002\n",
            "  xorg-renderproto   conda-forge/linux-64::xorg-renderproto-0.11.1-h14c3975_1002\n",
            "  xorg-xextproto     conda-forge/linux-64::xorg-xextproto-7.3.0-h14c3975_1002\n",
            "  xorg-xproto        conda-forge/linux-64::xorg-xproto-7.0.31-h14c3975_1007\n",
            "  zstd               conda-forge/linux-64::zstd-1.4.4-h3b9ef0a_1\n",
            "\n",
            "The following packages will be UPDATED:\n",
            "\n",
            "  ca-certificates    pkgs/main::ca-certificates-2019.10.16~ --> conda-forge::ca-certificates-2019.11.28-hecc5488_0\n",
            "  certifi               pkgs/main::certifi-2019.9.11-py37_0 --> conda-forge::certifi-2019.11.28-py37_0\n",
            "  conda                      pkgs/main::conda-4.7.12-py37_0 --> conda-forge::conda-4.8.0-py37_0\n",
            "\n",
            "The following packages will be SUPERSEDED by a higher-priority channel:\n",
            "\n",
            "  openssl              pkgs/main::openssl-1.1.1d-h7b6447c_3 --> conda-forge::openssl-1.1.1d-h516909a_0\n",
            "\n",
            "\n",
            "Preparing transaction: ...working... done\n",
            "Verifying transaction: ...working... done\n",
            "Executing transaction: ...working... done\n",
            "\n",
            "real\t0m42.050s\n",
            "user\t0m36.220s\n",
            "sys\t0m4.399s\n"
          ],
          "name": "stdout"
        }
      ]
    },
    {
      "cell_type": "code",
      "metadata": {
        "id": "9ujtZMyN42fI",
        "colab_type": "code",
        "colab": {}
      },
      "source": [
        "%matplotlib inline\n",
        "import matplotlib.pyplot as plt\n",
        "import sys\n",
        "import os\n",
        "sys.path.append('/usr/local/lib/python3.7/site-packages/')"
      ],
      "execution_count": 0,
      "outputs": []
    },
    {
      "cell_type": "markdown",
      "metadata": {
        "id": "BfmSL4xRkKvK",
        "colab_type": "text"
      },
      "source": [
        "#### RDkit import"
      ]
    },
    {
      "cell_type": "code",
      "metadata": {
        "id": "3DKV9kv95B_M",
        "colab_type": "code",
        "colab": {}
      },
      "source": [
        "from __future__ import print_function\n",
        "from rdkit import Chem\n",
        "from rdkit.Chem import AllChem\n",
        "from rdkit.Chem.Draw import IPythonConsole\n",
        "from rdkit.Chem import Draw"
      ],
      "execution_count": 0,
      "outputs": []
    },
    {
      "cell_type": "markdown",
      "metadata": {
        "id": "0AiTV3WMwAwx",
        "colab_type": "text"
      },
      "source": [
        "위의 Draw는 Python에서 SMILES로 표현한 화학물질을 Output에서 그림으로 출력하게 하는 함수입니다. Draw 함수를 import하지 않으면 SMILES의 저장 위치가 출력됩니다. 그래서 \n",
        "밑에서 두 번째까지의 코드를 default 하겠습니다. 또한 화학적으로 불가능한 화합물의 경우 출력이 되지 않습니다.\n",
        "\n",
        "**SMILES의 활용 분야**\n",
        "  - 데이터베이스 접근의 키\n",
        "  - 연구자들의 화학정보 변환 메커니즘\n",
        "  - 화학 데이터 입력 시스템\n",
        "  - 화학 시스템이나 AI를 위한 언어"
      ]
    },
    {
      "cell_type": "markdown",
      "metadata": {
        "id": "s4uKWDRf7rk4",
        "colab_type": "text"
      },
      "source": [
        "## **2. 정규화(Canonicalization)**\n",
        "분자를 묘사하기 위한 2차원의 그림입니다. 원자와 결합에 대해서만  나타낸 SMILES을 'generic SMILES'라고 합니다. 일반적으로 하나의 화학물질에 대해 결과값은 동일하지만 다양한 SMILES로 입력할 수 있습니다."
      ]
    },
    {
      "cell_type": "code",
      "metadata": {
        "id": "c4gt08Oz6rwH",
        "colab_type": "code",
        "colab": {}
      },
      "source": [
        "a = Chem.MolFromSmiles('OCN')"
      ],
      "execution_count": 0,
      "outputs": []
    },
    {
      "cell_type": "code",
      "metadata": {
        "id": "zAosamwABB5g",
        "colab_type": "code",
        "outputId": "75dde86f-4ece-429c-9010-8a14127a20fa",
        "colab": {
          "base_uri": "https://localhost:8080/",
          "height": 34
        }
      },
      "source": [
        "Chem.MolToSmiles(Chem.MolFromSmiles('OCN'))"
      ],
      "execution_count": 0,
      "outputs": [
        {
          "output_type": "execute_result",
          "data": {
            "text/plain": [
              "'NCO'"
            ]
          },
          "metadata": {
            "tags": []
          },
          "execution_count": 5
        }
      ]
    },
    {
      "cell_type": "code",
      "metadata": {
        "id": "u5abrBf7BDjz",
        "colab_type": "code",
        "outputId": "665ead5a-cadb-42f5-9fd4-6e3925f4f9f1",
        "colab": {
          "base_uri": "https://localhost:8080/",
          "height": 34
        }
      },
      "source": [
        "Chem.MolToSmiles(Chem.MolFromSmiles('N-C-O'))"
      ],
      "execution_count": 0,
      "outputs": [
        {
          "output_type": "execute_result",
          "data": {
            "text/plain": [
              "'NCO'"
            ]
          },
          "metadata": {
            "tags": []
          },
          "execution_count": 6
        }
      ]
    },
    {
      "cell_type": "code",
      "metadata": {
        "id": "BU5E5RudBFIZ",
        "colab_type": "code",
        "outputId": "e8ed7e3f-201a-45ca-eaf9-adcbe69c570e",
        "colab": {
          "base_uri": "https://localhost:8080/",
          "height": 167
        }
      },
      "source": [
        "a"
      ],
      "execution_count": 0,
      "outputs": [
        {
          "output_type": "execute_result",
          "data": {
            "image/png": "[encoded data removed]",
            "text/plain": [
              "<rdkit.Chem.rdchem.Mol at 0x7fbc25a0d760>"
            ]
          },
          "metadata": {
            "tags": []
          },
          "execution_count": 7
        }
      ]
    },
    {
      "cell_type": "markdown",
      "metadata": {
        "id": "_45P5iQIB456",
        "colab_type": "text"
      },
      "source": [
        "SMILES를 다르게 입력하더라도 결과값은 동일합니다.\n",
        "\n",
        "\n",
        "따라서 어떤 SMILES 을 입력하더라도 유일하게 자체적으로 하나의 SMILES으로 처리하는 것을 ‘unique SMILES'이라 하고 이를 형성하기 위한 알고리즘이 존재합니다.\n",
        "동위원소, 카이랄을 표현하기위한 SMILES를 'isomeric SMILES'이라 합니다. unique SMILES와 isomeric SMILES가 합해진 형태를 'absolute SMILES'이라 합니다.\n",
        "\n",
        "일반적으로 주어진 구조를 나타내는 SMILES구조가 많이 있는데, 모든 유효한 가능성 중에서 하나의 특별한 일반 SMILES를 생성하기 위해 canonical 알고리즘이 존재합니다. 이 특별한 SMILES는 \"unique SMILES\"로 알려져 있습니다. 일반적인 규칙을 따르는 form을 canonical form이라고 생각할 수 있습니다.\n",
        "\n"
      ]
    },
    {
      "cell_type": "markdown",
      "metadata": {
        "id": "1tx4TLEODi2w",
        "colab_type": "text"
      },
      "source": [
        "## **3. SMILES 규칙(SMILES Sepcification Rules)**\n",
        "- SMILES는 띄어쓰기를 사용하지 않고 원자들을 일렬로 나열하여 표현합니다.\n",
        "- 수소원자는 생략하거나, 포함해도 됩니다.\n",
        "- 방향족 물질들은 직관적으로 명시하거나 Kekulé form으로 분류할 수 있습니다.\n",
        "- 대표적으로 5가지의 규칙이 있습니다. \n",
        "  1. 원자(atom) \n",
        "  2. 결합(bond)\n",
        "  3. 가지(branch)\n",
        "  4. 고리닫힘(ring closure)\n",
        "  5. 단절(disconnection) "
      ]
    },
    {
      "cell_type": "markdown",
      "metadata": {
        "id": "Axikd2E7ECLQ",
        "colab_type": "text"
      },
      "source": [
        "### **3.1 원자(atom)** \n",
        "\n",
        "- 수소를 포함하지 않는 단일원자는 [ ]사용합니다.organic subset는 [ ] 없이 쓰이기도 합니다.\n",
        "\n",
        "- 최소 원자가 전자를 갖는다고 인식합니다.\n",
        "\n",
        "      B (3), C (4), N (3,5), O (2), P (3,5), S (2,4,6), 할로겐족(1)\n",
        "\n",
        "- 지방족 탄소는 대문자 'C' 로, 방향족 탄소는 'c'로 명시합니다."
      ]
    },
    {
      "cell_type": "code",
      "metadata": {
        "id": "F8ASoWZvDW3g",
        "colab_type": "code",
        "outputId": "736c38f6-86a9-40fc-e8e7-7e482ea16106",
        "colab": {
          "base_uri": "https://localhost:8080/",
          "height": 167
        }
      },
      "source": [
        "a = Chem.MolFromSmiles('C') # 수소를 생략해도 출력값에 포함됩니다.\n",
        "a"
      ],
      "execution_count": 0,
      "outputs": [
        {
          "output_type": "execute_result",
          "data": {
            "image/png": "[encoded data removed]",
            "text/plain": [
              "<rdkit.Chem.rdchem.Mol at 0x7fbc25a19260>"
            ]
          },
          "metadata": {
            "tags": []
          },
          "execution_count": 8
        }
      ]
    },
    {
      "cell_type": "code",
      "metadata": {
        "id": "qutJF1DTEuxE",
        "colab_type": "code",
        "outputId": "6e08e6dd-7080-41ed-e015-a981fb77f7a9",
        "colab": {
          "base_uri": "https://localhost:8080/",
          "height": 167
        }
      },
      "source": [
        "a = Chem.MolFromSmiles('P')\n",
        "a"
      ],
      "execution_count": 0,
      "outputs": [
        {
          "output_type": "execute_result",
          "data": {
            "image/png": "[encoded data removed]",
            "text/plain": [
              "<rdkit.Chem.rdchem.Mol at 0x7fbc25a19350>"
            ]
          },
          "metadata": {
            "tags": []
          },
          "execution_count": 9
        }
      ]
    },
    {
      "cell_type": "markdown",
      "metadata": {
        "id": "V6m73XNqE-kT",
        "colab_type": "text"
      },
      "source": [
        "- '$[]$'속의 수소와 형식전하는 반드시 명시되어야 합니다. - 결합된 수소의 수는 H 와 숫자로 표현됩니다.\n",
        "- 형식전하는 + 혹은 - 로 표시되어야 합니다. 명시되어 있지 않으면 전하는 0으로 가정합니다.\n",
        "$[Fe++] = [Fe+2]$"
      ]
    },
    {
      "cell_type": "code",
      "metadata": {
        "id": "84B5t-aPFRO-",
        "colab_type": "code",
        "outputId": "fc535a52-266c-45aa-8ebe-aaff53483d4b",
        "colab": {
          "base_uri": "https://localhost:8080/",
          "height": 167
        }
      },
      "source": [
        "a = Chem.MolFromSmiles('[Fe++]')\n",
        "a"
      ],
      "execution_count": 0,
      "outputs": [
        {
          "output_type": "execute_result",
          "data": {
            "image/png": "[encoded data removed]",
            "text/plain": [
              "<rdkit.Chem.rdchem.Mol at 0x7fbc25a19620>"
            ]
          },
          "metadata": {
            "tags": []
          },
          "execution_count": 10
        }
      ]
    },
    {
      "cell_type": "markdown",
      "metadata": {
        "id": "J8RNZL6yFzHu",
        "colab_type": "text"
      },
      "source": [
        "### **3.2 결합(Bonds)**\n",
        "- 단일 결합은 생략하거나 '-'기호를 사용합니다.\n",
        "- 이중 결합은 '='기호를 사용합니다.\n",
        "- 삼중 결합은 '#'기호를 사용합니다.\n",
        "- 방향족 결합은 생락하거나 ':'기호를 사용합니다."
      ]
    },
    {
      "cell_type": "code",
      "metadata": {
        "id": "z23vP53VH4V0",
        "colab_type": "code",
        "outputId": "3d831d50-1eec-4fda-e3d4-7be91db425e0",
        "colab": {
          "base_uri": "https://localhost:8080/",
          "height": 167
        }
      },
      "source": [
        "a  = Chem.MolFromSmiles('CC')\n",
        "a"
      ],
      "execution_count": 0,
      "outputs": [
        {
          "output_type": "execute_result",
          "data": {
            "image/png": "[encoded data removed]",
            "text/plain": [
              "<rdkit.Chem.rdchem.Mol at 0x7fbc25a19760>"
            ]
          },
          "metadata": {
            "tags": []
          },
          "execution_count": 11
        }
      ]
    },
    {
      "cell_type": "code",
      "metadata": {
        "id": "4NYNdCo1FtoQ",
        "colab_type": "code",
        "outputId": "973617be-ef52-40d8-fd12-a3ae2ce64dff",
        "colab": {
          "base_uri": "https://localhost:8080/",
          "height": 167
        }
      },
      "source": [
        "a = Chem.MolFromSmiles('O=C')\n",
        "a"
      ],
      "execution_count": 0,
      "outputs": [
        {
          "output_type": "execute_result",
          "data": {
            "image/png": "[encoded data removed]",
            "text/plain": [
              "<rdkit.Chem.rdchem.Mol at 0x7fbc25a19a80>"
            ]
          },
          "metadata": {
            "tags": []
          },
          "execution_count": 12
        }
      ]
    },
    {
      "cell_type": "code",
      "metadata": {
        "id": "BIaHE9G9F-e7",
        "colab_type": "code",
        "outputId": "b42dcad6-b3cb-4941-cac5-762e93e1ef6e",
        "colab": {
          "base_uri": "https://localhost:8080/",
          "height": 167
        }
      },
      "source": [
        "a = Chem.MolFromSmiles('C#N') \n",
        "a"
      ],
      "execution_count": 0,
      "outputs": [
        {
          "output_type": "execute_result",
          "data": {
            "image/png": "[encoded data removed]",
            "text/plain": [
              "<rdkit.Chem.rdchem.Mol at 0x7fbc25a19c60>"
            ]
          },
          "metadata": {
            "tags": []
          },
          "execution_count": 13
        }
      ]
    },
    {
      "cell_type": "markdown",
      "metadata": {
        "id": "c4ybdYO5GD5m",
        "colab_type": "text"
      },
      "source": [
        "이와 같은 규칙을 이용하여 6-hydroxy-1,4-hexadiene을 표현해보면"
      ]
    },
    {
      "cell_type": "code",
      "metadata": {
        "id": "Bl-C3jJVGC8i",
        "colab_type": "code",
        "outputId": "d29f97e2-ad30-43d4-dc3b-67c5b928e34e",
        "colab": {
          "base_uri": "https://localhost:8080/",
          "height": 167
        }
      },
      "source": [
        "a = Chem.MolFromSmiles('C=CCC=CCO')\n",
        "a"
      ],
      "execution_count": 0,
      "outputs": [
        {
          "output_type": "execute_result",
          "data": {
            "image/png": "[encoded data removed]",
            "text/plain": [
              "<rdkit.Chem.rdchem.Mol at 0x7fbc25a19f30>"
            ]
          },
          "metadata": {
            "tags": []
          },
          "execution_count": 14
        }
      ]
    },
    {
      "cell_type": "markdown",
      "metadata": {
        "id": "KwdB3dvPGP1G",
        "colab_type": "text"
      },
      "source": [
        "### **3.3 가지(Branches ; 치환기, 알킬기)**\n",
        "- 가지들은 중첩되거나 쌓일 수 있으며, 소괄호`()`로 묶어 결합 원소의 오른쪽에 써줍니다."
      ]
    },
    {
      "cell_type": "code",
      "metadata": {
        "id": "2itMd5VPGIfx",
        "colab_type": "code",
        "outputId": "de1c6462-3a09-432a-d8f2-11cedaf1eb9f",
        "colab": {
          "base_uri": "https://localhost:8080/",
          "height": 167
        }
      },
      "source": [
        "Triethylamine = Chem.MolFromSmiles('CCN(CC)CC') \n",
        "Triethylamine"
      ],
      "execution_count": 0,
      "outputs": [
        {
          "output_type": "execute_result",
          "data": {
            "image/png": "[encoded data removed]",
            "text/plain": [
              "<rdkit.Chem.rdchem.Mol at 0x7fbc25a1b080>"
            ]
          },
          "metadata": {
            "tags": []
          },
          "execution_count": 15
        }
      ]
    },
    {
      "cell_type": "code",
      "metadata": {
        "id": "pLT2GiRwIkOr",
        "colab_type": "code",
        "outputId": "b05db36e-00fa-40e4-fbd6-8a35b61a76d7",
        "colab": {
          "base_uri": "https://localhost:8080/",
          "height": 167
        }
      },
      "source": [
        "Isobutyric_acid = Chem.MolFromSmiles('CC(C)C(=O)O')\n",
        "Isobutyric_acid"
      ],
      "execution_count": 0,
      "outputs": [
        {
          "output_type": "execute_result",
          "data": {
            "image/png": "[encoded data removed]",
            "text/plain": [
              "<rdkit.Chem.rdchem.Mol at 0x7fbc25a1b2b0>"
            ]
          },
          "metadata": {
            "tags": []
          },
          "execution_count": 16
        }
      ]
    },
    {
      "cell_type": "code",
      "metadata": {
        "id": "hcOM9HxRIrog",
        "colab_type": "code",
        "outputId": "ae4e85cb-3ac7-4efe-a7ea-28b07deaf731",
        "colab": {
          "base_uri": "https://localhost:8080/",
          "height": 167
        }
      },
      "source": [
        "acetic_acid = Chem.MolFromSmiles('CC(=O)O')\n",
        "acetic_acid"
      ],
      "execution_count": 0,
      "outputs": [
        {
          "output_type": "execute_result",
          "data": {
            "image/png": "[encoded data removed]",
            "text/plain": [
              "<rdkit.Chem.rdchem.Mol at 0x7fbc25a1b3f0>"
            ]
          },
          "metadata": {
            "tags": []
          },
          "execution_count": 17
        }
      ]
    },
    {
      "cell_type": "markdown",
      "metadata": {
        "id": "2z4dmpnwI85Z",
        "colab_type": "text"
      },
      "source": [
        "### **3.4 고리구조(Cyclic Structures)**\n",
        "- 고리형 구조는 고리에서 하나의 결합을 끊어 선형적으로 표시하고, 결합을 끊은 원자 바로 뒤에 숫자를 이용해 고리형 구조를 표현합니다."
      ]
    },
    {
      "cell_type": "code",
      "metadata": {
        "id": "VRgnZI7NI7nw",
        "colab_type": "code",
        "outputId": "13c68bd3-96af-4d63-b3c4-42d8b91b5d4f",
        "colab": {
          "base_uri": "https://localhost:8080/",
          "height": 167
        }
      },
      "source": [
        "cyclopentane = Chem.MolFromSmiles('C1CCCC1')\n",
        "cyclopentane"
      ],
      "execution_count": 0,
      "outputs": [
        {
          "output_type": "execute_result",
          "data": {
            "image/png": "[encoded data removed]",
            "text/plain": [
              "<rdkit.Chem.rdchem.Mol at 0x7fbc25a1b530>"
            ]
          },
          "metadata": {
            "tags": []
          },
          "execution_count": 18
        }
      ]
    },
    {
      "cell_type": "code",
      "metadata": {
        "id": "BlLZlAesJEY6",
        "colab_type": "code",
        "outputId": "4b604044-d252-47d5-f8c8-9965860c6b07",
        "colab": {
          "base_uri": "https://localhost:8080/",
          "height": 167
        }
      },
      "source": [
        "m = Chem.MolFromSmiles('C1CCC(C)C1')\n",
        "m"
      ],
      "execution_count": 0,
      "outputs": [
        {
          "output_type": "execute_result",
          "data": {
            "image/png": "[encoded data removed]",
            "text/plain": [
              "<rdkit.Chem.rdchem.Mol at 0x7fbc25a1b6c0>"
            ]
          },
          "metadata": {
            "tags": []
          },
          "execution_count": 19
        }
      ]
    },
    {
      "cell_type": "markdown",
      "metadata": {
        "id": "k6QIk4iWJ5nO",
        "colab_type": "text"
      },
      "source": [
        "- 동일한 화학물을 여러 방법으로 표현할 수 있고, 한 가지 분자의 다양한 표현은 우선순위가 없습니다."
      ]
    },
    {
      "cell_type": "code",
      "metadata": {
        "id": "qTuG6u23KCHG",
        "colab_type": "code",
        "outputId": "22e98746-bdd2-4cd8-c474-5e3028d5ed95",
        "colab": {
          "base_uri": "https://localhost:8080/",
          "height": 167
        }
      },
      "source": [
        "mbc1 = Chem.MolFromSmiles('CC1=CC(Br)CCC1')\n",
        "mbc1"
      ],
      "execution_count": 0,
      "outputs": [
        {
          "output_type": "execute_result",
          "data": {
            "image/png": "[encoded data removed]",
            "text/plain": [
              "<rdkit.Chem.rdchem.Mol at 0x7fbc25a1b710>"
            ]
          },
          "metadata": {
            "tags": []
          },
          "execution_count": 20
        }
      ]
    },
    {
      "cell_type": "code",
      "metadata": {
        "id": "ajUlmUzLKO6E",
        "colab_type": "code",
        "outputId": "706d62b1-3959-47fb-fd05-10d05969d7f0",
        "colab": {
          "base_uri": "https://localhost:8080/",
          "height": 167
        }
      },
      "source": [
        "mbc2 = Chem.MolFromSmiles('CC1=CC(CCC1)Br')\n",
        "mbc2"
      ],
      "execution_count": 0,
      "outputs": [
        {
          "output_type": "execute_result",
          "data": {
            "image/png": "[encoded data removed]",
            "text/plain": [
              "<rdkit.Chem.rdchem.Mol at 0x7fbc25a1b8a0>"
            ]
          },
          "metadata": {
            "tags": []
          },
          "execution_count": 21
        }
      ]
    },
    {
      "cell_type": "markdown",
      "metadata": {
        "id": "catQBsM8JJS0",
        "colab_type": "text"
      },
      "source": [
        "- 한 원자는 하나 이상의 `ring closure`을 가질 수 있습니다. 아래와 같은구조로 설명할 수 있습니다."
      ]
    },
    {
      "cell_type": "code",
      "metadata": {
        "id": "aRl_YO7AJIAD",
        "colab_type": "code",
        "outputId": "40e97488-318f-469c-c683-c6ac9c2f763f",
        "colab": {
          "base_uri": "https://localhost:8080/",
          "height": 167
        }
      },
      "source": [
        "m = Chem.MolFromSmiles('O1CC(C)CCC1N1CCC(C)CC1')\n",
        "m"
      ],
      "execution_count": 0,
      "outputs": [
        {
          "output_type": "execute_result",
          "data": {
            "image/png": "[encoded data removed]",
            "text/plain": [
              "<rdkit.Chem.rdchem.Mol at 0x7fbc25a1bc60>"
            ]
          },
          "metadata": {
            "tags": []
          },
          "execution_count": 22
        }
      ]
    },
    {
      "cell_type": "markdown",
      "metadata": {
        "id": "Pi-3DzTWJOxX",
        "colab_type": "text"
      },
      "source": [
        "### **3.5 비결합 구조(Disconnected Structures)**\n",
        "- 연결되지 않은 혼합물은 ' . '을 사용하여 각각의 구조들을 분리시킵니다.\n",
        "- 이온 혹은 리간드(ligands)의 연결은 순서에 상관없이 사용가능합니다. 한 전하가 다른 전하로의 연결을 의미하는 것도 아니고, 알짜 전하를 반드시 0으로 가질 필요도 없스니다.\n",
        "- 필요에 따라, 한 이온의 SMILES이 sodium phenoxide(석탄산나트륨)와 같이 다른 이온에 삽입될 수 있습니다.\n",
        "\n"
      ]
    },
    {
      "cell_type": "code",
      "metadata": {
        "id": "l3GbUu7pJNSV",
        "colab_type": "code",
        "outputId": "33ca5c67-6e42-4798-e32d-30f3d95ca38e",
        "colab": {
          "base_uri": "https://localhost:8080/",
          "height": 167
        }
      },
      "source": [
        "m = Chem.MolFromSmiles('[Na+].[O-]c1ccccc1')\n",
        "m"
      ],
      "execution_count": 0,
      "outputs": [
        {
          "output_type": "execute_result",
          "data": {
            "image/png": "[encoded data removed]",
            "text/plain": [
              "<rdkit.Chem.rdchem.Mol at 0x7fbc25a1bd00>"
            ]
          },
          "metadata": {
            "tags": []
          },
          "execution_count": 23
        }
      ]
    },
    {
      "cell_type": "code",
      "metadata": {
        "id": "hkmq5zYpJR67",
        "colab_type": "code",
        "outputId": "943027ca-e203-4ac3-fc44-561464578706",
        "colab": {
          "base_uri": "https://localhost:8080/",
          "height": 167
        }
      },
      "source": [
        "m = Chem.MolFromSmiles('c1cc([O-].[Na+])ccc1')\n",
        "m"
      ],
      "execution_count": 0,
      "outputs": [
        {
          "output_type": "execute_result",
          "data": {
            "image/png": "[encoded data removed]",
            "text/plain": [
              "<rdkit.Chem.rdchem.Mol at 0x7fbc25a1b9e0>"
            ]
          },
          "metadata": {
            "tags": []
          },
          "execution_count": 24
        }
      ]
    },
    {
      "cell_type": "markdown",
      "metadata": {
        "id": "IRlM0Ne6POSC",
        "colab_type": "text"
      },
      "source": [
        "- 원자 명시에 따른 자릿수가 같은 쌍은 서로 결합됨을 의미합니다."
      ]
    },
    {
      "cell_type": "code",
      "metadata": {
        "id": "WRYgv92mJTK5",
        "colab_type": "code",
        "outputId": "070e2efe-f8ee-424b-924a-cf54b0cbfb36",
        "colab": {
          "base_uri": "https://localhost:8080/",
          "height": 167
        }
      },
      "source": [
        "C_C = Chem.MolFromSmiles('C1.C1')\n",
        "C_C"
      ],
      "execution_count": 0,
      "outputs": [
        {
          "output_type": "execute_result",
          "data": {
            "image/png": "[encoded data removed]",
            "text/plain": [
              "<rdkit.Chem.rdchem.Mol at 0x7fbc25a1bf80>"
            ]
          },
          "metadata": {
            "tags": []
          },
          "execution_count": 25
        }
      ]
    },
    {
      "cell_type": "markdown",
      "metadata": {
        "id": "sszGMBdaRaZi",
        "colab_type": "text"
      },
      "source": [
        "## **4. 이성질체 SMILES(Isomeric SMILES)**\n",
        "\n",
        "- 동위원소, 이중결합의 구조, 카이랄성을 규정합니다.\n",
        "- IUPAC 명명법과 CIP 명명법과는 다르게 카이랄성을 명명합니다.\n",
        "- 모든 화합물의 카이랄성이 알려져 있지는 않기 때문에, 가능한 카이랄성만을 표기합니다.\n"
      ]
    },
    {
      "cell_type": "markdown",
      "metadata": {
        "id": "ej0jB9duRd50",
        "colab_type": "text"
      },
      "source": [
        "### **4.1 동위원소(Isotopic Specification)**\n",
        "- 동위원소는 [원자량 + 원자기호] 로 표기합니다."
      ]
    },
    {
      "cell_type": "markdown",
      "metadata": {
        "id": "_8rBRbgjRiSD",
        "colab_type": "text"
      },
      "source": [
        "SMILES | Name\n",
        "---- | ----\n",
        "$[12C]$ | carbon-12\n",
        "$[13C]$ | carbon-13\n",
        "$[C]$ | carbon(unspecified mass)\n",
        "$[13CH4]$ | C-13 methane"
      ]
    },
    {
      "cell_type": "markdown",
      "metadata": {
        "id": "z8BBbSB9RkRC",
        "colab_type": "text"
      },
      "source": [
        "### **4.2 이중결합 배치(Configuration Around Double Bonds)**\n",
        "- 이중결합의 구조 이성질체는 결합의 방향을 나타내며 '/'와'\\'로 명시합니다.\n",
        "- '/'와'\\'는 결합된 원자들 간의 상대적인 위치를 나타내는 것으로, 이중결합으로 연결될 때에만 의미를 갖습니다.\n",
        "\n",
        ">**E,Z체계**<br>\n",
        "E(entgegon) : 반대편이라는 어원, 높은 우선순위를 갖는 탄소가 포함된 치환기가 이중결합의 **반대 위치**에 존재할 경우(≒trans-)<br>\n",
        "Z(zusammen) : 함께라는 어원, 높은 우선순위를 갖는 탄소가 포함된 치환기가 이중결합의 **같은 위치**에 존재할 경우(≒cis-)<br>\n",
        "Ex) E- and Z-1,2-dibromoethene\n"
      ]
    },
    {
      "cell_type": "code",
      "metadata": {
        "id": "U-rtmTbcPxVz",
        "colab_type": "code",
        "outputId": "bd7bb4c7-5ea7-4db1-84bf-d42669553278",
        "colab": {
          "base_uri": "https://localhost:8080/",
          "height": 167
        }
      },
      "source": [
        "E1 = Chem.MolFromSmiles('Br/C=C/Br') # 이중결합 왼쪽과 오른쪽의 슬래쉬가 방향이 같으면 E 방향입니다.\n",
        "E1"
      ],
      "execution_count": 0,
      "outputs": [
        {
          "output_type": "execute_result",
          "data": {
            "image/png": "[encoded data removed]",
            "text/plain": [
              "<rdkit.Chem.rdchem.Mol at 0x7fbc258a1170>"
            ]
          },
          "metadata": {
            "tags": []
          },
          "execution_count": 26
        }
      ]
    },
    {
      "cell_type": "code",
      "metadata": {
        "id": "WBc_FI-PRp4c",
        "colab_type": "code",
        "outputId": "7dfdb22f-adcc-4b01-95de-5cfed328831d",
        "colab": {
          "base_uri": "https://localhost:8080/",
          "height": 167
        }
      },
      "source": [
        "E2 = Chem.MolFromSmiles('Br/C=C\\Br') # 이중결합 왼쪽과 오른쪽의 슬래쉬가 방향이 반대면 Z 방향입니다.\n",
        "E2"
      ],
      "execution_count": 0,
      "outputs": [
        {
          "output_type": "execute_result",
          "data": {
            "image/png": "[encoded data removed]",
            "text/plain": [
              "<rdkit.Chem.rdchem.Mol at 0x7fbc258a13f0>"
            ]
          },
          "metadata": {
            "tags": []
          },
          "execution_count": 27
        }
      ]
    },
    {
      "cell_type": "markdown",
      "metadata": {
        "id": "4qlQzd96Rtmi",
        "colab_type": "text"
      },
      "source": [
        "- SMILES과 CIP의 카이랄표현의 차이점은 SMILES은 국부적인 카이랄성(local chirality)를 표현할 수 있다는 점입니다."
      ]
    },
    {
      "cell_type": "code",
      "metadata": {
        "id": "5DlVY-TERr5O",
        "colab_type": "code",
        "outputId": "afcb53fe-eb61-4d1b-b793-9349418e2c29",
        "colab": {
          "base_uri": "https://localhost:8080/",
          "height": 167
        }
      },
      "source": [
        "S1 = Chem.MolFromSmiles('Br/C=C/C=C/C')\n",
        "S1"
      ],
      "execution_count": 0,
      "outputs": [
        {
          "output_type": "execute_result",
          "data": {
            "image/png": "[encoded data removed]",
            "text/plain": [
              "<rdkit.Chem.rdchem.Mol at 0x7fbc258a1530>"
            ]
          },
          "metadata": {
            "tags": []
          },
          "execution_count": 28
        }
      ]
    },
    {
      "cell_type": "code",
      "metadata": {
        "id": "AWJ07_TKR1iI",
        "colab_type": "code",
        "outputId": "4ed33be1-54da-4e46-84da-6aa795e99fc4",
        "colab": {
          "base_uri": "https://localhost:8080/",
          "height": 167
        }
      },
      "source": [
        "S2 = Chem.MolFromSmiles('Br/C=C/C=CC')\n",
        "S2"
      ],
      "execution_count": 0,
      "outputs": [
        {
          "output_type": "execute_result",
          "data": {
            "image/png": "[encoded data removed]",
            "text/plain": [
              "<rdkit.Chem.rdchem.Mol at 0x7fbc258a1760>"
            ]
          },
          "metadata": {
            "tags": []
          },
          "execution_count": 29
        }
      ]
    },
    {
      "cell_type": "markdown",
      "metadata": {
        "id": "hHQbN2w8Y3xd",
        "colab_type": "text"
      },
      "source": [
        "### **4.3 사면체의 중심의 구조(Configuration Around Tetrahedral Centers)**\n",
        "* SMILES은 국부적 카이랄성을 기반으로한 가장 일반적인 형식의 명시법을 사용합니다.\n",
        "* SMILES에서 사면체의 중심은 카이랄 원자의 원자 기호에 카이랄이라는 명시(@ 혹은 @@)를 합니다. '@'는 이웃하는 원자들이 반시계로 표현되어 있다는 것을 의미하고 '@@'는 이웃하는 원자들이 시계로 표현되어 있다는 것을 의미합니다.\n",
        "* **카이랄성(Chirality):**<br>\n",
        "거울상에 포갤 수 없는 분자를 카이랄(chiral)이라 합니다.<br>\n",
        "같은 분자식이라 하여도 입체구조에 의해 서로 다른 화합물입니다. 이를 입체 이성질체라고 합니다. <br>\n",
        "카이랄성의 가장 일반적인 원인은 네 개의 서로 다른 치환기가 결합된 탄소에서 가장 많이 볼 수 있는 정사면체인 원자 때문입니다.<br>\n",
        "네 개의 서로 다른 치환기체가 결합된 탄소 원자는 두 개의 주요 대칭 요소가 없고 **카이랄 중심(chiral center)**라 불립니다.<br> Ex) 1-Bromo-1-chloro-1-fluoromethane : C에 -Cl, -H, -F, -Br이 결합된 카이랄 중심입니다.<br>\n",
        "![chiral](https://upload.wikimedia.org/wikipedia/commons/thumb/3/3c/Chiral.svg/300px-Chiral.svg.png)<br>\n",
        "(사진출처:위키피디아)\n",
        "\n",
        "* **카이랄 중심의 R or S 배열 결정**<BR> 카이랄 중심을 정하고 4개의 치환기를 확인한 후, 우선순위가 가장 높은 것(1)부터 가장 낮은 것(4)까지 번호를 배정합니다.\n",
        "\n",
        "    ```\n",
        "    우선순위\n",
        "    카이랄 중심에서 결합된 원자의 번호가 클수록 높은 우선순위 \n",
        "    -> 비교가 안된다면 두 번째 쌍을 살펴봅니다 \n",
        "    -> 이중 결합의 경우 결합과 같은 수만큼의 '가상'의 원자들이 단일 결합으로 취급\n",
        "    ```\n",
        "\n",
        "  가장 낮은 우선순위(4)를 갖는 치환기를 자동차의 운전대 기둥처럼 자신으로 부터 가장 멀리 위치하도록 분자를 배치합니다.<br>\n",
        "자신쪽으로 향하고 있는 세 개의 치환기들을 우선순위가 가장 높은(1)치환기 부터 우선순위가 가장 낮은(3) 치환기 순서대로 읽습니다.<br>\n",
        "치환기가 시계방향이면 배열을 R(라틴어 rectus,똑바른, 올바른); SMILES에선 @@, 반시계 방향이라면 S(라틴어 sinister, 왼쪽); SMILES에선 @로 합니다."
      ]
    },
    {
      "cell_type": "code",
      "metadata": {
        "id": "Pv5OTFoXZVeK",
        "colab_type": "code",
        "outputId": "c36d4dcc-92fd-4d5c-89af-edeb44fb0841",
        "colab": {
          "base_uri": "https://localhost:8080/",
          "height": 167
        }
      },
      "source": [
        "bS1 = Chem.MolFromSmiles('NC(C)(F)C(=O)O')\n",
        "S1"
      ],
      "execution_count": 0,
      "outputs": [
        {
          "output_type": "execute_result",
          "data": {
            "image/png": "[encoded data removed]",
            "text/plain": [
              "<rdkit.Chem.rdchem.Mol at 0x7fbc258a1530>"
            ]
          },
          "metadata": {
            "tags": []
          },
          "execution_count": 30
        }
      ]
    },
    {
      "cell_type": "code",
      "metadata": {
        "id": "hHbNm_t9ZYZM",
        "colab_type": "code",
        "outputId": "f33c8e24-b1b2-4797-c21f-91bb1bbfa2d0",
        "colab": {
          "base_uri": "https://localhost:8080/",
          "height": 167
        }
      },
      "source": [
        "m = Chem.MolFromSmiles('N[C@](C)(F)C(=O)O')\n",
        "m"
      ],
      "execution_count": 0,
      "outputs": [
        {
          "output_type": "execute_result",
          "data": {
            "image/png": "[encoded data removed]",
            "text/plain": [
              "<rdkit.Chem.rdchem.Mol at 0x7fbc258a19e0>"
            ]
          },
          "metadata": {
            "tags": []
          },
          "execution_count": 31
        }
      ]
    },
    {
      "cell_type": "code",
      "metadata": {
        "id": "3vkO9pW1Zcy6",
        "colab_type": "code",
        "outputId": "1a2e6ec7-565c-400e-e4bb-aa057db1cdf4",
        "colab": {
          "base_uri": "https://localhost:8080/",
          "height": 167
        }
      },
      "source": [
        "m = Chem.MolFromSmiles('N[C@@](F)(C)C(=O)O')\n",
        "m"
      ],
      "execution_count": 0,
      "outputs": [
        {
          "output_type": "execute_result",
          "data": {
            "image/png": "[encoded data removed]",
            "text/plain": [
              "<rdkit.Chem.rdchem.Mol at 0x7fbc258a1b70>"
            ]
          },
          "metadata": {
            "tags": []
          },
          "execution_count": 32
        }
      ]
    },
    {
      "cell_type": "code",
      "metadata": {
        "id": "OfMy41TSZpJr",
        "colab_type": "code",
        "outputId": "47feae24-d6ce-4025-9218-bb51c9380055",
        "colab": {
          "base_uri": "https://localhost:8080/",
          "height": 34
        }
      },
      "source": [
        "m.HasSubstructMatch(Chem.MolFromSmiles('F[C@](N)(C)C(=O)O'),useChirality=True) # 이 둘의 구조가 같은지 확인"
      ],
      "execution_count": 0,
      "outputs": [
        {
          "output_type": "execute_result",
          "data": {
            "text/plain": [
              "True"
            ]
          },
          "metadata": {
            "tags": []
          },
          "execution_count": 33
        }
      ]
    },
    {
      "cell_type": "markdown",
      "metadata": {
        "id": "GFgj8QtFR4MQ",
        "colab_type": "text"
      },
      "source": [
        "### **4.4 일반적인 카이랄 규칙(General Chiral Sepcification)**\n",
        "\n",
        "* 많은 종류의 카이랄성이 존재하며, '@'기호를 사용함으로써 카이랄을 나타냈습니다.\n",
        "* SMILES에서 사용하는 일반적 카이랄 규격은 3부분이 있습니다:\n",
        "  1. '@'기호\n",
        "  2. 잇따르는 두 글자의 카이랄 표시\n",
        "  3. 잇따르는 수치해석적인 카이랄 지정자\n",
        "* 가장 기초가 되는 카이랄 class는 각각의 degree(연결의 수)입니다.\n",
        "       4개의 연결에 기초가 되는 class는 사면체(TH)입니다.\n",
        "* 대부분의 경우 @1표시는 SMILES의 순서를 기준으로 한 축에 반시계 방향으로 @2표시는 시계방향을 의미합니다.\n",
        "* '@@'와 '@@@'는 각각 '@2','@3'와 같습니다.\n",
        "* 위에서 사용된 '@'와 '@@'는 '@TH1'과 '@TH2'를 간략하게 표현한 것입니다.\n",
        "* SMILES은 모든 범위에 관한 카이랄 규격을 다룹니다.('감소된 카이랄성', '퇴화된 카이랄성') 따라서 정확하게 알고 있는 모든 것을 보장하는 언어입니다.\n",
        "* 이 섹션의 마지막 부분에선 사면체, 알렌식(allen-like), 사각평면, trigonal-bypyramidal, octahedral의 카이랄성에 제한될 것입니다. 비록 많은 카이랄성은 위의 체계로 다룰 수 있겠지만, 이러한 5개의 클래스는 화학에서 매우 흔하고, 자주 다뤄지는 부분입다.\n",
        "\n",
        "* Tetrahedral:TH라는 기호로 표시되며, 4방위가 붙어있는 카이랄 클래스의 default입니다.\n",
        "\n",
        "* Allen-like:AL의 기호로 표시되며, 카이랄 중심이 이중결합으로 연결된 2개가 붙어있는 카이랄 클래스의 default입니다. 비록 C=C=C의 구조가 가장 흔하나, C=C=C=C=C 구조들도 또한 allen-like입니다. 이중결합된 원자가 일렬로 짝수개가 연결된 것입니다."
      ]
    },
    {
      "cell_type": "markdown",
      "metadata": {
        "id": "qFv0fCc0aNij",
        "colab_type": "text"
      },
      "source": [
        "![AL](http://www.daylight.com/dayhtml/doc/theory/theory18.gif) | ![substituted](http://www.daylight.com/dayhtml/doc/theory/theory19.gif)\n",
        "---- | ----\n",
        "OC(Cl)=$[C@]$=C(C)F | OC=$[C@]$=CF\n",
        "OC(Cl)=$[C@AL1]$=C(C)F | OC($[H]$)=$[C@AL1]$=C($[H]$)F"
      ]
    },
    {
      "cell_type": "code",
      "metadata": {
        "id": "KhDakmgbR2kW",
        "colab_type": "code",
        "outputId": "c1c3b095-e580-4b3d-f820-3fa1cc242703",
        "colab": {
          "base_uri": "https://localhost:8080/",
          "height": 34
        }
      },
      "source": [
        "m = Chem.MolFromSmiles('OC(Cl)=[C@]=C(C)F')\n",
        "m.HasSubstructMatch(Chem.MolFromSmiles('OC(Cl)=[C@@]=C(F)C'),useChirality=True) # 카이랄성이 일치하는지 확인"
      ],
      "execution_count": 0,
      "outputs": [
        {
          "output_type": "execute_result",
          "data": {
            "text/plain": [
              "True"
            ]
          },
          "metadata": {
            "tags": []
          },
          "execution_count": 34
        }
      ]
    },
    {
      "cell_type": "markdown",
      "metadata": {
        "id": "gGJ2ctc0aRhS",
        "colab_type": "text"
      },
      "source": [
        "* 사각평면 : SP 기호로 표시\n",
        "@SP1,@SP2, @SP3; 4방위가 연결된 카이랄 class의 default는 아니고, 줄이는 표현 또한 없습니다. 또한 시계와 반시계방향이 없는 점이 특징입니다.\n",
        "\n",
        "![SP](http://www.daylight.com/dayhtml/doc/theory/theory20.gif) | -\n",
        "---- | ----\n",
        "F$[Po@SP1]$(Cl)(Br)I | (SP1 lists in a \"U shape\")\n",
        "F$[Po@SP2]$(Br)(Cl)I | (SP2 lists in a \"4-shape\")\n",
        "F$[Po@SP3]$(Cl)(I)Br | (SP3 lists in a \"Z shape\")\n",
        "\n",
        "* Trigonal-bipyramidal : TB기호로 사용합니다. 5개의 방향의 카이랄 class의 default입니다.\n",
        "\n",
        "  ![TB](http://www.daylight.com/dayhtml/doc/theory/theory21.gif)\n"
      ]
    },
    {
      "cell_type": "code",
      "metadata": {
        "id": "c9cCxAzbaaNM",
        "colab_type": "code",
        "outputId": "bf302b5e-134c-47b8-c32d-03f1a2f6049f",
        "colab": {
          "base_uri": "https://localhost:8080/",
          "height": 34
        }
      },
      "source": [
        "m = Chem.MolFromSmiles('S[As@@](F)(Cl)(Br)C=O')\n",
        "m.HasSubstructMatch(Chem.MolFromSmiles('O=C[As@](Cl)(Br)(F)S'),useChirality=True)"
      ],
      "execution_count": 0,
      "outputs": [
        {
          "output_type": "execute_result",
          "data": {
            "text/plain": [
              "True"
            ]
          },
          "metadata": {
            "tags": []
          },
          "execution_count": 35
        }
      ]
    },
    {
      "cell_type": "code",
      "metadata": {
        "id": "THnQ9KNRfZMK",
        "colab_type": "code",
        "outputId": "532203e9-57d0-495a-f5a9-c2ed826cb621",
        "colab": {
          "base_uri": "https://localhost:8080/",
          "height": 34
        }
      },
      "source": [
        "m.HasSubstructMatch(Chem.MolFromSmiles('O=C[As@](F)(Cl)(Br)S'),useChirality=True)"
      ],
      "execution_count": 0,
      "outputs": [
        {
          "output_type": "execute_result",
          "data": {
            "text/plain": [
              "True"
            ]
          },
          "metadata": {
            "tags": []
          },
          "execution_count": 36
        }
      ]
    },
    {
      "cell_type": "markdown",
      "metadata": {
        "id": "dZOlmwQUfeDV",
        "colab_type": "text"
      },
      "source": [
        "* *Octahedral* : OH기호로 사용. 6개의 방향의 카이랄 class의 default입니다.\n",
        "\n",
        "  가능한 값은 @OH1~ @OH2 : @OH1(or @)는 한 개의 축이 다른 것과 연결을 SMILE에 의해 나열될 때, 4개의 중간, 수평적으로 연결된 원자들을 시계방향으로 나열시킨 것.@OH2(or @@)는 시계방향입니다.\n",
        "</br>![OH](http://www.daylight.com/dayhtml/doc/theory/theory22.gif)\n"
      ]
    },
    {
      "cell_type": "markdown",
      "metadata": {
        "id": "O4KTjoqtblc4",
        "colab_type": "text"
      },
      "source": [
        "## **5. SMILES의 관례(MILES Convention)**\n",
        "\n",
        "\n",
        "\n",
        "### **5.1 Hydrogens**\n",
        "\n",
        "수소 원자는 대부분 생략됩니다.\n",
        "일반적으로 3가지 방법으로 수소 원자를 표시합니다.\n",
        " - 암시적 표시 : '[',     ']' 으로 표시되지 않은 원자가 원소들\n",
        " - 명확한 표시 : '[',     ']' 안에 정확한 갯수와 함께 표시\n",
        " - 하나의 수소 원자 : [H]\n",
        " \n",
        "그리고 반드시 수소원자를 명확히 표시해야할 때가 있습니다.\n",
        " - 전하를 띄는 수소 : [H+]\n",
        " - 수소 분자 : [H][H]\n",
        " - 하나 이상의 다른 원자에 연결된 수소 : bridging hydrogens\n",
        " - 동위원소 수소  : heavy water [2H]O[2H]\n"
      ]
    },
    {
      "cell_type": "code",
      "metadata": {
        "id": "_PDjb-AnbmiW",
        "colab_type": "code",
        "outputId": "3f0654b7-aea2-4537-de20-5bdaa2c0933c",
        "colab": {
          "base_uri": "https://localhost:8080/",
          "height": 184
        }
      },
      "source": [
        "m = Chem.MolFromSmiles('[H+]')\n",
        "m"
      ],
      "execution_count": 0,
      "outputs": [
        {
          "output_type": "stream",
          "text": [
            "RDKit WARNING: [10:53:40] WARNING: not removing hydrogen atom without neighbors\n"
          ],
          "name": "stderr"
        },
        {
          "output_type": "execute_result",
          "data": {
            "image/png": "[encoded data removed]",
            "text/plain": [
              "<rdkit.Chem.rdchem.Mol at 0x7fbc258a8440>"
            ]
          },
          "metadata": {
            "tags": []
          },
          "execution_count": 37
        }
      ]
    },
    {
      "cell_type": "code",
      "metadata": {
        "id": "WtXT5v4ybn96",
        "colab_type": "code",
        "outputId": "42ce7563-71ef-4595-8d50-7b6c12de9564",
        "colab": {
          "base_uri": "https://localhost:8080/",
          "height": 167
        }
      },
      "source": [
        "heavywater = Chem.MolFromSmiles('[2H]O[2H]')\n",
        "heavywater"
      ],
      "execution_count": 0,
      "outputs": [
        {
          "output_type": "execute_result",
          "data": {
            "image/png": "[encoded data removed]",
            "text/plain": [
              "<rdkit.Chem.rdchem.Mol at 0x7fbc258a8530>"
            ]
          },
          "metadata": {
            "tags": []
          },
          "execution_count": 38
        }
      ]
    },
    {
      "cell_type": "markdown",
      "metadata": {
        "id": "XK1qEt7xcS2B",
        "colab_type": "text"
      },
      "source": [
        "### 5.2  **방향족(Aromaticity)**\n",
        "\n",
        "- 분자의 대칭성을 특징짓기 위해서 SMILES 같은 시스템에서 명확한 명명법을 생성할 수 있어야합니다. <br>\n",
        "- 정확한 방향족 판단 알고리즘이 있는 경우에, 사용자가 지방족 구조를 입력하고 싶을때 방향족 구조식으로 입력할 필요가 없습니다.<br>\n",
        "- 원하는 화합물을 짧게 명시할 수 있다.\n",
        "\n",
        "SMILES은 Hueckel 규칙의 확장 된 버전을 사용하여 방향족 분자와 이온을 식별합니다.\n",
        "\n",
        "> Hueckel's Rule\n",
        "> 1. 분자는 고리를 가져야합니다.\n",
        "> 2. 고리의 모든 원자는 같은 평면에 있어야합니다.\n",
        "> 3. 고리의 모든 원자는 **fully conjugated** 이어야합니다.(모든 원자가 p 오비탈을 가진다.)\n",
        "> 4. 분자는 (4n+2)개의 $\\pi$ 전자를 가집니다. ( n은 0 보다 크거나 같은 정수 ) <br>\n",
        "=> 4번만 만족하지 않는 화합물을 **antiaromatic** 이라고 합니다.\n",
        "\n"
      ]
    },
    {
      "cell_type": "code",
      "metadata": {
        "id": "a0STVWKObpOr",
        "colab_type": "code",
        "outputId": "6aa4a156-a2f1-4c75-e770-c5530c9436ad",
        "colab": {
          "base_uri": "https://localhost:8080/",
          "height": 167
        }
      },
      "source": [
        "H = Chem.MolFromSmiles('c1ccccc1') # Aromatic\n",
        "H"
      ],
      "execution_count": 0,
      "outputs": [
        {
          "output_type": "execute_result",
          "data": {
            "image/png": "[encoded data removed]",
            "text/plain": [
              "<rdkit.Chem.rdchem.Mol at 0x7fbc258a8350>"
            ]
          },
          "metadata": {
            "tags": []
          },
          "execution_count": 39
        }
      ]
    },
    {
      "cell_type": "code",
      "metadata": {
        "id": "6XwnTb_LcWYR",
        "colab_type": "code",
        "outputId": "7faf8c61-d592-419b-8cae-470c77ba6aa5",
        "colab": {
          "base_uri": "https://localhost:8080/",
          "height": 167
        }
      },
      "source": [
        "H = Chem.MolFromSmiles('c1ccc1') # Aromatic\n",
        "H"
      ],
      "execution_count": 0,
      "outputs": [
        {
          "output_type": "execute_result",
          "data": {
            "image/png": "[encoded data removed]",
            "text/plain": [
              "<rdkit.Chem.rdchem.Mol at 0x7fbc258a8490>"
            ]
          },
          "metadata": {
            "tags": []
          },
          "execution_count": 40
        }
      ]
    },
    {
      "cell_type": "code",
      "metadata": {
        "id": "TFJHqB5GcYXG",
        "colab_type": "code",
        "outputId": "a6d64640-1682-444e-ba5c-ff2cf94b1791",
        "colab": {
          "base_uri": "https://localhost:8080/",
          "height": 167
        }
      },
      "source": [
        "K = Chem.MolFromSmiles('C1=CC=CC=C1') # Aliphatic\n",
        "K"
      ],
      "execution_count": 0,
      "outputs": [
        {
          "output_type": "execute_result",
          "data": {
            "image/png": "[encoded data removed]",
            "text/plain": [
              "<rdkit.Chem.rdchem.Mol at 0x7fbc258a8800>"
            ]
          },
          "metadata": {
            "tags": []
          },
          "execution_count": 41
        }
      ]
    },
    {
      "cell_type": "markdown",
      "metadata": {
        "id": "NyTPVkKiJSb2",
        "colab_type": "text"
      },
      "source": [
        "# **Ⅱ. 시퀀스-투-시퀀스 (Sequencd-to-Sequence, seq2seq)**\n"
      ]
    },
    {
      "cell_type": "markdown",
      "metadata": {
        "id": "f5Q4J0oNwTgf",
        "colab_type": "text"
      },
      "source": [
        "시퀀스-투-시퀀스(Sequence-to-Sequence)는 입력된 시퀀스로부터 다른 도메인의 시퀀스를 출력하는 다양한 분야에서 사용되는 모델입니다. 대표적으로 챗봇(Chatbot)과 기계 번역(Machine Translation)이 있습니다.  입력 시퀀스와 출력 시퀀스를 각각 질문과 대답으로 구성하면 챗봇으로 만들 수 있고, 입력 시퀀스와 출력 시퀀스를 각각 입력 문장과 번역 문장으로 만들면 번역기로 만들 수 있습니다. 따라서 seq2seq에 대한 구조를 이해하고, 케라스(keras)를 통해 직접 구현해보겠습니다.\n",
        "\n",
        "## **1. 시퀀스 - 투 - 시퀀스  (Sequence-to-Sequence)**\n",
        "\n",
        "![대체 텍스트](https://wikidocs.net/images/page/24996/%EC%8B%9C%ED%80%80%EC%8A%A4%ED%88%AC%EC%8B%9C%ED%80%80%EC%8A%A4.PNG)\n",
        "\n",
        "위의 그림은 seq2seq 모델로 만들어진 번역기가 'I am a student'라는 영어 문장을 입력받아서, 'je suis étudiant'라는 프랑스 문장을 출력하는 모습을 보여줍니다. Seq2Seq의 장점은 전체 input을 훑어본 뒤에 임의의 어떤 시퀀스를 출력할 수 있으며, 효율적인 번역을 위해 input의 특정 부분만을 집중하여 살펴볼 수도 있습니다. Seq2Seq의 한계는 시퀀스의 입력과 출력 길이에 어떠한 제약도 없다는 것이지만, Seq2Seq 모델은 LSTM의 한계때문에 입력 문장이 매우 길면 효율적으로 학습하지 못합니다.\n",
        "\n",
        "![대체 텍스트](https://wikidocs.net/images/page/24996/seq2seq%EB%AA%A8%EB%8D%B811.PNG)\n",
        "\n",
        "seq2seq는 크게 입력을 context vector로 변화하는 인코더와 context vector을 원래의 정보로 출력하는 디코더로 구성되어 있습니다. 인코더와 디코더는 각각 여러개의 LSTM 셀로 구성되어 있습니다.\n",
        "\n",
        "![대체 텍스트](https://wikidocs.net/images/page/24996/%EC%9D%B8%EC%BD%94%EB%8D%94%EB%94%94%EC%BD%94%EB%8D%94%EB%AA%A8%EB%8D%B8.PNG)\n",
        "\n",
        "## **2. 인코더**\n",
        "인코더는 입력 문장을 받는 LSTM 셀입니다.\n",
        "인코더는 입력 문장의 모든 단어들을 순차적으로 입력받은 뒤에 마지막에 이 모든 단어 정보들을 압축해서 하나의 벡터로 만드는데, 이를 context vector라고 합니다. 입력 문장의 정보가 하나의 context vector로 모두 압축되면 인코더는 context vector를 디코더로 전송합니다. \n",
        "\n",
        "![대체 텍스트](https://wikidocs.net/images/page/24996/rnn%EA%B7%BC%ED%99%A9.PNG)\n",
        "\n",
        "현재 시점(time step)을 t라고 할 때, LSTM 셀은 t-1에서의 은닉 상태와 t에서의 입력 벡터를 입력으로 받고, t에서의 은닉 상태를 만듭니다. 이때 t에서의 은닉 상태는 바로 위에 또 다른 은닉층이나 출력층이 존재할 경우에는 위의 층으로 보내거나, 필요없으면 값을 무시할 수 있습니다. 그리고 LSTM 셀은 다음 시점에 해당하는 t+1의 LSTMN 셀의 입력으로 현재 t에서의 은닉 상태를 입력으로 보냅니다.\n",
        "\n",
        "이런 구조에서 현재 시점 t에서의 은닉 상태는 과거 시점의 동일한 LSTM 셀에서의 모든 은닉 상태의 값들의 영향을 누적해서 받아온 값이라고 할 수 있습니다. 그렇기 때문에 앞서 언급했던 context vector는 사실 인코더에서의 마지막 LSTM 셀의 은닉 상태 값을 말하는 것이며, 이는 입력 문장의 모든 단어 토큰들의 정보를 요약해서 담고있다고 할 수 있습니다. 그리고 이 context vector는 디코더의 LSTM 셀의 첫 번째 은닉 상태로 사용됩니다.\n",
        "\n",
        "## **3. 디코더**\n",
        "디코더는 출력 문장을 출력하는 LSTM 셀입니다.\n",
        "디코더는 인코더의 마지막 LSTM 셀의 은닉 상태인 context vector를 첫번째 은닉 상태의 값으로 사용합니다. 디코더는 초기 입력으로 문장의 시작을 의미하는 심볼 <sos>가 들어갑니다. 디코더의 첫번째 LSTM 셀은 이 첫번째 은닉 상태의 값과, 현재 t에서의 입력값인 <'sos'>로부터, 다음에 등장할 단어를 예측합니다. 그리고 이 예측된 단어는 다음 시점인 t+1 LSTM에서의 입력값이 되고, 이 t+1에서의 LSTM 또한 이 입력값과 t에서의 은닉 상태로부터 t+1에서의 출력 벡터. 즉, 또 다시 다음에 등장할 단어를 예측하게 될 것입니다. 이런 식으로 기본적으로 다음에 올 단어를 예측하고, 그 예측한 단어를 다음 시점의 LSTM 셀의 입력으로 넣는 행위를 반복합니다. 이 행위는 문장의 끝을 의미하는 심볼인 <'eos'>가 다음 단어로 예측될 때까지 반복됩니다.\n",
        "\n",
        "![대체 텍스트](https://wikidocs.net/images/page/24996/decodernextwordprediction.PNG)\n",
        "\n",
        "출력 단어로 나올 수 있는 단어들은 다양한 단어들이 있습니다. seq2seq 모델은 선택될 수 있는 모든 단어들로부터 하나의 단어를 골라서 예측해야 합니다. 이를 예측하기 위해서 소프트맥스 함수를 사용합니다. 디코더에서 각 시점(time step)의 LSTM 셀에서 출력 벡터가 나오면, 해당 벡터는 소프트맥스 함수를 통해 출력 시퀀스의 각 단어별 확률값을 반환하고, 디코더는 출력 단어를 결정합니다.\n",
        "\n",
        "## **4. 임베딩 층**\n",
        "단어를 밀집 벡터로 만드는 작업을 워드 임베딩(word embedding)이라고 합니다. 밀집 벡터는 대부분의 값이 실수이고, 상대적으로 저차원입니다. 그리고 워드 임베딩 과정을 통해 나온 결과므로 임베딩 벡터(embedding vector)라고도 합니다. 원-핫 벡터의 차원이 주로 20,000 이상을 넘어가는 것과는 달리 임베딩 벡터는 주로 256, 512, 1024 등의 차원을 가집니다. 임베딩 벡터는 초기에는 랜덤값을 가지지만, 인공 신경망의 가중치가 학습되는 방법과 같은 방식으로 값이 학습되며 변경됩니다.\n",
        "\n",
        "**Embedding()** : 단어를 밀집 벡터로 만드는 역할을 합니다. 인공 신경망 용어로는 임베딩 층(embedding layer)을 만드는 역할을 합니다. Embedding()은 정수 인코딩이 된 단어들을 입력을 받아서 임베딩을 수행합니다. \n",
        "Embedding(첫번째 인자,두번째 인자,input_length)에 넣어야하는 대표적인 인자는 다음과 같습니다.\n",
        "\n",
        ">첫번째 인자 = 단어 집합의 크기. 즉, 총 단어의 개수<br>\n",
        "두번째 인자 = 임베딩 벡터의 출력 차원. 결과로서 나오는 임베딩 벡터의 크기<br>\n",
        "input_length = 입력 시퀀스의 길이\n",
        "\n",
        "seq2seq에서 사용되는 모든 단어들은 워드 임베딩을 통해 임베딩 벡터로서 표현된 임베딩 벡터입니다. 아래 그림은 모든 단어에 대해서 임베딩 과정을 거치게 하는 단계인 임베딩 층(embedding layer)의 모습을 보여줍니다.\n",
        "\n",
        "![대체 텍스트](https://wikidocs.net/images/page/24996/%EB%8B%A8%EC%96%B4%ED%86%A0%ED%81%B0%EB%93%A4%EC%9D%B4.PNG)\n",
        "\n",
        "![대체 텍스트](https://wikidocs.net/images/page/24996/%EC%9E%84%EB%B2%A0%EB%94%A9%EB%B2%A1%ED%84%B0.PNG)\n",
        "\n",
        "예를 들어 I, am, a, student라는 단어들에 대한 임베딩 벡터는 위와 같은 모습을 가집니다. 여기서는 그림으로 표현하고자 사이즈를 4로 하였지만, 보통 실제 임베딩 벡터는 수백 개의 차원을 가질 수 있습니다.\n",
        "\n",
        "## **5. 교사 강요**\n",
        "훈련 과정에서는 이전 시점의 디코더 셀의 출력을 현재 시점의 디코더 셀의 입력으로 넣어주지 않고, 이전 시점의 실제값을 현재 시점의 디코더 셀의 입력값으로 하는 방법을 사용할 겁니다. 그 이유는 이전 시점의 디코더 셀의 예측이 틀렸는데 이를 현재 시점의 디코더 셀의 입력으로 사용하면 현재 시점의 디코더 셀의 예측도 잘못될 가능성이 높고 이는 연쇄 작용으로 디코더 전체의 예측을 어렵게 합니다. 이런 상황이 반복되면 훈련 시간이 느려집니다. 만약 이 상황을 원하지 않는다면 이전 시점의 디코더 셀의 예측값 대신 실제값을 현재 시점의 디코더 셀의 입력으로 사용하는 방법을 사용할 수 있습니다. 이와 같이 LSTM의 모든 시점에 대해서 이전 시점의 예측값 대신 실제값을 입력으로 주는 방법을 교사 강요라고 합니다.\n",
        "\n",
        "지금까지 가장 기본적인 seq2seq에 대해서 배워보았습니다. 사실 seq2seq는 어떻게 구현하느냐에 따라서 충분히 더 복잡해질 수 있습니다. 컨텍스트 벡터를 디코더의 초기 은닉 상태로만 사용할 수도 있고, 거기서 더 나아가 컨텍스트 벡터를 디코더가 단어를 예측하는 매 시점마다 하나의 입력으로 사용할 수도 있으며 거기서 더 나아가면 어텐션 메커니즘이라는 방법을 통해 지금 알고있는 컨텍스트 벡터보다 더욱 문맥을 반영할 수 있는 컨텍스트 벡터를 구하여 매 시점마다 하나의 입력으로 사용할 수도 있습니다.\n",
        "\n"
      ]
    },
    {
      "cell_type": "markdown",
      "metadata": {
        "id": "oPZG-W4oJ20Q",
        "colab_type": "text"
      },
      "source": [
        "# **Ⅲ. Seq2seq Fingerprint : An Unsupervised Deep Molecular Embedding for Drug Discovery**"
      ]
    },
    {
      "cell_type": "markdown",
      "metadata": {
        "id": "8Cg8DGOYVc-o",
        "colab_type": "text"
      },
      "source": [
        "**약물 발견**은 잠재적인 효과가 있는 새로운 의약품을 식별하는 과정입니다. 현대의 약물 발견은 일반적으로 약물 화합물 선택으로 구현되는 반면, 모든 후보 화합물의 화학 물질 특성, 예를 들어 친 화성, 선택성, 대사 안정성은 실험실 환경에서 생물학적으로 테스트됩니다. 약물 요구 사항 테스트를 통과한 모든 특성은 잠재적 약물 후보로 선정됩니다. 그러나 이 과정은 수많은 자본과 노동력이 필요합니다.\n",
        "\n",
        "따라서, machine learning method를 사용하여 화학적 특성을 자동으로 예측하는 것은 최근 약물 발견 커뮤니티에 큰 관심을 불러 일으켰습니다. 그러나 대부분의 machine learning 알고리즘은 길이가 고정된 연속벡터를 입력으로 사용합니다. 일반적으로 분자를 고정 길이 벡터로 표현하기 사용하는 방법은 **fingerprint**입니다. 이 방법은 보통 속도는 효율적이지만 이미지 부분에서 이해도가 떨어지고 다시 분자 구조로 전환할 수 없습니다. 따라서 이 방법은 충분한 정보를 인코딩하는데 제한이 있고, 정확한 정보를 위해서는 인간에 의존합니다.\n",
        "\n",
        "본 논문에서는 **seq2seq fingerprint**이라는 비지도학습 데이터와 딥러닝에 기반하는 분자 fingerprint 방법을 제안합니다. seq2seq 학습 방법은 겉보기에는 관련이 없는 영어-프랑스어 번역모델에서 비롯됩니다. 분자의SMILE 문자열을 고정 크기 벡터에 Mapping 한 다음 원래 SMILE 문자열로 다시 변환합니다. 여기서 중간 고정 크기 벡터는 seq2seq fingerprint로 추출됩니다. 모델이 잘 훈련되면, 중간 특징 벡터는 원래의 분자의 모든 정보를 인코딩했다고 볼 수 있습니다. 따라서 seq2seq fingerprint은 분자 특성을 정확하게 예측할 수 있을 것으로 예상됩니다. 이 방법은 전문 지식이 필요 없고 생성된 fingerproint는 원래 분자 구조로 전환할 수 있으며, 충분한 양의 데이터를 보장합니다. 비용이 많이 드는 레이블 수집 과정이 필요 없고 레이블이 없는 데이터 세트에 대해 비지도학습 데이터를 사용합니다. 그리고 데이터 중심적이며 충분히 많은 양의 데이터로 훈련하기 때문에 특정분야에 강합니다.\n",
        "\n",
        "![대체 텍스트](https://github.com/syeong1218/python/blob/master/%EC%BA%A1%EC%B2%98.PNG?raw=true)\n"
      ]
    },
    {
      "cell_type": "markdown",
      "metadata": {
        "id": "CYkecAMQO7vv",
        "colab_type": "text"
      },
      "source": [
        "## **1. SMILES DATA SET**\n",
        "GDB-11은 간단한 화학적 안정성과 합성 타당성을 따르는 작은 유기화학물 ( C, N, O, F 를 최대 11개 까지 가지는) 분자를 열거 한 data set입니다. Drug discovery에서 GDB의 잠재력은 kinase inhibitors, G protein-coupled receptor, ion-channel modulators 에 대한 가상 스크린을 보여 줍니다.\n",
        "\n",
        " - kinase inhibitors : small molecule kinase inhibitor은 신호전달경로 를 표적으로 하므로 넓은 의미로는 신호전달경로 억제제라고 합니다. 소분자 키나제 억제제는 모두 경구제로서, 2001년 최초로 승인된 BCR-Abl 티로신 키나제 억제제인 imatinib (글리벡, GleevecⓇ)이 만성 골수성 백혈병 환자에게 탁월한 임상 효과를 보입니다.\n",
        "\n",
        " - G protein-coupled receptor : 세포 외의 다양 한 신호에 반응하여 세포 내 신호전달을 매개하는 막단백질 로서 인간에는 약 790여개가 존재한다고 알려져 있습니다. 생체 내 여러 기관에서 그 생리 작용을 조절하고 있고, chemical 에 의해 활성 조절이 용이하기 때문에 GPCR은 매우 훌륭한 drug target으로 각광을 받고 있습니다.\n",
        "\n",
        " - ion-channel modulators : 이온 통로를 조절하는 약물의 한 유형입니다. "
      ]
    },
    {
      "cell_type": "markdown",
      "metadata": {
        "id": "NU27Tsqbj-Yv",
        "colab_type": "text"
      },
      "source": [
        "## **2. SMILES를 사용한 seqseq 모델**"
      ]
    },
    {
      "cell_type": "markdown",
      "metadata": {
        "id": "Ei04ktBNIE-1",
        "colab_type": "text"
      },
      "source": [
        "##### RDkit and tensorflow 2.0 설치"
      ]
    },
    {
      "cell_type": "code",
      "metadata": {
        "id": "GQG7tGiO3QDM",
        "colab_type": "code",
        "colab": {}
      },
      "source": [
        "!wget https://anaconda.org/rdkit/rdkit/2018.09.1.0/download/linux-64/rdkit-2018.09.1.0-py36h71b666b_1.tar.bz2 -O rdkit.tar.bz2 -q\n",
        "!mkdir rdkit\n",
        "!tar xjf rdkit.tar.bz2 -C rdkit\n",
        "\n",
        "!cp -r rdkit/lib/python3.6/site-packages/* /usr/local/lib/python3.6/dist-packages/\n",
        "!cp -r rdkit/lib/*.so.* /usr/lib/x86_64-linux-gnu/\n",
        "\n",
        "!ln -s /usr/lib/x86_64-linux-gnu/libboost_python3-py36.so.1.65.1 /usr/lib/x86_64-linux-gnu/libboost_python3.so.1.65.1"
      ],
      "execution_count": 0,
      "outputs": []
    },
    {
      "cell_type": "code",
      "metadata": {
        "id": "VB5sjATQ3R4g",
        "colab_type": "code",
        "colab": {}
      },
      "source": [
        "from __future__ import print_function\n",
        "import os\n",
        "import pandas as pd\n",
        "import numpy as np\n",
        "from rdkit import Chem\n",
        "from rdkit.Chem import Draw, Descriptors\n",
        "from matplotlib import pyplot as plt\n",
        "%matplotlib inline"
      ],
      "execution_count": 0,
      "outputs": []
    },
    {
      "cell_type": "code",
      "metadata": {
        "id": "v1zKDzRm4A8V",
        "colab_type": "code",
        "outputId": "a86cebf7-6cb7-4ec9-aaf8-3860df6ccb40",
        "colab": {
          "base_uri": "https://localhost:8080/",
          "height": 107
        }
      },
      "source": [
        "try:\n",
        "\n",
        "    %tensorflow_version 2.x  # %tensorflow_version only exists in Colab\n",
        "\n",
        "except Exception:\n",
        "\n",
        "    pass"
      ],
      "execution_count": 0,
      "outputs": [
        {
          "output_type": "stream",
          "text": [
            "`%tensorflow_version` only switches the major version: `1.x` or `2.x`.\n",
            "You set: `2.x  # %tensorflow_version only exists in Colab`. This will be interpreted as: `2.x`.\n",
            "\n",
            "\n",
            "TensorFlow 2.x selected.\n"
          ],
          "name": "stdout"
        }
      ]
    },
    {
      "cell_type": "markdown",
      "metadata": {
        "id": "frqvdvrvIT2P",
        "colab_type": "text"
      },
      "source": [
        "##### seq2seq fingerprint model"
      ]
    },
    {
      "cell_type": "code",
      "metadata": {
        "id": "de-AIVokFu8v",
        "colab_type": "code",
        "outputId": "d74f5941-90c0-4678-d996-f04d06dde488",
        "colab": {
          "base_uri": "https://localhost:8080/",
          "height": 53
        }
      },
      "source": [
        "smifile = \"gdb11_size08.smi\" # GDB11_size08의 SMILES 데이터 세트를 사용.\n",
        "data = pd.read_csv(smifile, delimiter = \"\\t\", names = [\"smiles\",\"No\",\"Int\"]) # 불러온 파일을 csv 파일로 읽음.\n",
        "from sklearn.model_selection import train_test_split #사이킷런을 import.\n",
        "\n",
        "smiles_train, smiles_test = train_test_split(data[\"smiles\"], random_state=42)\n",
        " # train_test_split : train_test_split 함수는 전체 데이터셋 배열을 받아서 랜덤하게 훈련/테스트 데이터 셋으로 분리해주는 함수. \n",
        " # random_state : 여러번 실행해도 같은 값이 나오도록 난수 초기값을 설정.\n",
        "\n",
        "print(smiles_train.shape) # 훈련데이터와 시험데이터를 출력.\n",
        "print(smiles_test.shape)"
      ],
      "execution_count": 0,
      "outputs": [
        {
          "output_type": "stream",
          "text": [
            "(50029,)\n",
            "(16677,)\n"
          ],
          "name": "stdout"
        }
      ]
    },
    {
      "cell_type": "code",
      "metadata": {
        "id": "V4vB1wpbhkyU",
        "colab_type": "code",
        "outputId": "516de9d5-ac6a-453b-ce61-79ff90074d98",
        "colab": {
          "base_uri": "https://localhost:8080/",
          "height": 359
        }
      },
      "source": [
        "data.sample(10) # 데이터 샘플을 10개 출력."
      ],
      "execution_count": 0,
      "outputs": [
        {
          "output_type": "execute_result",
          "data": {
            "text/html": [
              "<div>\n",
              "<style scoped>\n",
              "    .dataframe tbody tr th:only-of-type {\n",
              "        vertical-align: middle;\n",
              "    }\n",
              "\n",
              "    .dataframe tbody tr th {\n",
              "        vertical-align: top;\n",
              "    }\n",
              "\n",
              "    .dataframe thead th {\n",
              "        text-align: right;\n",
              "    }\n",
              "</style>\n",
              "<table border=\"1\" class=\"dataframe\">\n",
              "  <thead>\n",
              "    <tr style=\"text-align: right;\">\n",
              "      <th></th>\n",
              "      <th>smiles</th>\n",
              "      <th>No</th>\n",
              "      <th>Int</th>\n",
              "    </tr>\n",
              "  </thead>\n",
              "  <tbody>\n",
              "    <tr>\n",
              "      <th>55010</th>\n",
              "      <td>OC1CCCC1C=C</td>\n",
              "      <td>55011</td>\n",
              "      <td>1</td>\n",
              "    </tr>\n",
              "    <tr>\n",
              "      <th>755</th>\n",
              "      <td>CC(C)(N)C#CC=C</td>\n",
              "      <td>756</td>\n",
              "      <td>1</td>\n",
              "    </tr>\n",
              "    <tr>\n",
              "      <th>9516</th>\n",
              "      <td>CC=CC(=C)C=CF</td>\n",
              "      <td>9517</td>\n",
              "      <td>1</td>\n",
              "    </tr>\n",
              "    <tr>\n",
              "      <th>33902</th>\n",
              "      <td>CCC1=NOC(=O)C1</td>\n",
              "      <td>33903</td>\n",
              "      <td>1</td>\n",
              "    </tr>\n",
              "    <tr>\n",
              "      <th>45223</th>\n",
              "      <td>NN=Cc1conn1</td>\n",
              "      <td>45224</td>\n",
              "      <td>1</td>\n",
              "    </tr>\n",
              "    <tr>\n",
              "      <th>63508</th>\n",
              "      <td>NCC1OCC2OC12</td>\n",
              "      <td>63509</td>\n",
              "      <td>1</td>\n",
              "    </tr>\n",
              "    <tr>\n",
              "      <th>37079</th>\n",
              "      <td>CC1NC(CO)C1N</td>\n",
              "      <td>37080</td>\n",
              "      <td>1</td>\n",
              "    </tr>\n",
              "    <tr>\n",
              "      <th>22762</th>\n",
              "      <td>CCC(N)C=CCO</td>\n",
              "      <td>22763</td>\n",
              "      <td>1</td>\n",
              "    </tr>\n",
              "    <tr>\n",
              "      <th>50188</th>\n",
              "      <td>NN=CON=CCF</td>\n",
              "      <td>50189</td>\n",
              "      <td>1</td>\n",
              "    </tr>\n",
              "    <tr>\n",
              "      <th>19395</th>\n",
              "      <td>FCC(=C)C(=O)C=C</td>\n",
              "      <td>19396</td>\n",
              "      <td>1</td>\n",
              "    </tr>\n",
              "  </tbody>\n",
              "</table>\n",
              "</div>"
            ],
            "text/plain": [
              "                smiles     No  Int\n",
              "55010      OC1CCCC1C=C  55011    1\n",
              "755     CC(C)(N)C#CC=C    756    1\n",
              "9516     CC=CC(=C)C=CF   9517    1\n",
              "33902   CCC1=NOC(=O)C1  33903    1\n",
              "45223      NN=Cc1conn1  45224    1\n",
              "63508     NCC1OCC2OC12  63509    1\n",
              "37079     CC1NC(CO)C1N  37080    1\n",
              "22762      CCC(N)C=CCO  22763    1\n",
              "50188       NN=CON=CCF  50189    1\n",
              "19395  FCC(=C)C(=O)C=C  19396    1"
            ]
          },
          "metadata": {
            "tags": []
          },
          "execution_count": 5
        }
      ]
    },
    {
      "cell_type": "code",
      "metadata": {
        "id": "4Y5rxiJbIwJB",
        "colab_type": "code",
        "outputId": "bc409436-a3d3-4661-a559-4f48d128068b",
        "colab": {
          "base_uri": "https://localhost:8080/",
          "height": 53
        }
      },
      "source": [
        "charset = set(\"\".join(list(data.smiles))+\"!E\") # ! : start , E : smiles 생성을 종료하라는 의미.\n",
        "char_to_int = dict((c,i) for i,c in enumerate(charset)) # enumerate : 글자에 고유한 정수 인덱스 부여.\n",
        "int_to_char = dict((i,c) for i,c in enumerate(charset))\n",
        "\n",
        "embed = max([len(smile) for smile in data.smiles]) + 5  \n",
        "# smiles 데이터 중에서 가장 코드가 긴 것에 5를 더하고 embeded\n",
        "\n",
        "print (str(charset))\n",
        "print(len(charset), embed)\n",
        "# RNN이 배치 모드에서 학습되고 최대 발생 + 일부 추가된 발생으로 설정되므로 SMILES 문자열의 최대 길이가 필요"
      ],
      "execution_count": 0,
      "outputs": [
        {
          "output_type": "stream",
          "text": [
            "{'E', '(', ']', 'c', '4', 'o', '-', ')', '2', 'N', '+', 'C', 'O', 'n', '3', 'H', 'F', '=', '#', '[', '!', '1'}\n",
            "22 28\n"
          ],
          "name": "stdout"
        }
      ]
    },
    {
      "cell_type": "code",
      "metadata": {
        "id": "C4AtfFtn_5b6",
        "colab_type": "code",
        "outputId": "ab8dfe09-bcb4-429d-b8f8-8bec55890ced",
        "colab": {
          "base_uri": "https://localhost:8080/",
          "height": 53
        }
      },
      "source": [
        "# char_to_int와 int_to_char을 통해 문자와 연결된 인덱스를 확인\n",
        "print(char_to_int)\n",
        "print(int_to_char)"
      ],
      "execution_count": 0,
      "outputs": [
        {
          "output_type": "stream",
          "text": [
            "{'E': 0, '(': 1, ']': 2, 'c': 3, '4': 4, 'o': 5, '-': 6, ')': 7, '2': 8, 'N': 9, '+': 10, 'C': 11, 'O': 12, 'n': 13, '3': 14, 'H': 15, 'F': 16, '=': 17, '#': 18, '[': 19, '!': 20, '1': 21}\n",
            "{0: 'E', 1: '(', 2: ']', 3: 'c', 4: '4', 5: 'o', 6: '-', 7: ')', 8: '2', 9: 'N', 10: '+', 11: 'C', 12: 'O', 13: 'n', 14: '3', 15: 'H', 16: 'F', 17: '=', 18: '#', 19: '[', 20: '!', 21: '1'}\n"
          ],
          "name": "stdout"
        }
      ]
    },
    {
      "cell_type": "code",
      "metadata": {
        "id": "Ifz6pcmwOKX7",
        "colab_type": "code",
        "outputId": "968e2c49-8ea2-4c5d-9e26-e80986740672",
        "colab": {
          "base_uri": "https://localhost:8080/",
          "height": 311
        }
      },
      "source": [
        "def vectorize(smiles):# 벡터 함수를 정의\n",
        "        one_hot =  np.zeros((smiles.shape[0], embed , len(charset)),dtype=np.int8)\n",
        "        # 3차원을 전부 0으로 채움. 거기다가 i번째에 1을 넣어서 하나가 1이 됨. 나머지는 싹다 0.\n",
        "        # 근데 첫번째 따로 빼놓은게 첫번째 시작할때 임베드층 0이고, !가 디코드 시작하라는 사인을 주려는 추가한 문자.\n",
        "       \n",
        "        for i,smile in enumerate(smiles):\n",
        "            # 처음 단어를 인코딩\n",
        "            one_hot[i,0,char_to_int[\"!\"]] = 1\n",
        "            # 나머지 단어를 인코딩\n",
        "            for j,c in enumerate(smile):\n",
        "                one_hot[i,j+1,char_to_int[c]] = 1\n",
        "            # 마지막 단어를 인코딩\n",
        "            one_hot[i,len(smile)+1:,char_to_int[\"E\"]] = 1\n",
        "        # 하나는 input , 다른 하나는 output으로 반환.\n",
        "        return one_hot[:,0:-1,:], one_hot[:,1:,:]\n",
        "\n",
        "X_train, Y_train = vectorize(smiles_train.values)  # 훈련 데이터를 벡터화\n",
        "X_test,Y_test = vectorize(smiles_test.values) # 시험 데이터를 벡터화\n",
        "print (smiles_train.iloc[0]) # iloc[0] : 0번째 행을 출력함.\n",
        "plt.matshow(X_train[0].T)"
      ],
      "execution_count": 0,
      "outputs": [
        {
          "output_type": "stream",
          "text": [
            "N#CC#CC1COC1\n"
          ],
          "name": "stdout"
        },
        {
          "output_type": "execute_result",
          "data": {
            "text/plain": [
              "<matplotlib.image.AxesImage at 0x7ff0236a7c88>"
            ]
          },
          "metadata": {
            "tags": []
          },
          "execution_count": 8
        },
        {
          "output_type": "display_data",
          "data": {
            "image/png": "[encoded data removed]",
            "text/plain": [
              "<Figure size 353.455x288 with 1 Axes>"
            ]
          },
          "metadata": {
            "tags": []
          }
        }
      ]
    },
    {
      "cell_type": "markdown",
      "metadata": {
        "id": "ScenVHR9O1Rm",
        "colab_type": "text"
      },
      "source": [
        "각 글자별 인덱스가 노란 점으로 표시된다. 시작을 나타내는!의 인덱스는 20, 끝을 나타내는 E의 인덱는는 0이다. 벡터의 빈 공간은 E로 채워 0부분에 길게 이어져있는 모습이 보인다."
      ]
    },
    {
      "cell_type": "code",
      "metadata": {
        "id": "vSJyWmPjOVq3",
        "colab_type": "code",
        "outputId": "7542aedd-be19-4cdd-b383-eed97686f006",
        "colab": {
          "base_uri": "https://localhost:8080/",
          "height": 35
        }
      },
      "source": [
        "\"\".join([int_to_char[idx] for idx in np.argmax(X_train[0,:,:], axis=1)])\n",
        "# 훈련세트의 최대값들을 smile코드로 나타낸 것을 축하나로 문자열로 나타냄."
      ],
      "execution_count": 0,
      "outputs": [
        {
          "output_type": "execute_result",
          "data": {
            "text/plain": [
              "'!N#CC#CC1COC1EEEEEEEEEEEEEE'"
            ]
          },
          "metadata": {
            "tags": []
          },
          "execution_count": 9
        }
      ]
    },
    {
      "cell_type": "code",
      "metadata": {
        "id": "P5r83p_4OelN",
        "colab_type": "code",
        "colab": {}
      },
      "source": [
        "# Keras 를 import함\n",
        "from tensorflow.keras.models import Model\n",
        "from tensorflow.keras.layers import Input\n",
        "from tensorflow.keras.layers import LSTM\n",
        "from tensorflow.keras.layers import Dense\n",
        "from tensorflow.keras.layers import Concatenate\n",
        "from tensorflow.keras import regularizers\n",
        "input_shape = X_train.shape[1:]\n",
        "output_dim = Y_train.shape[-1]\n",
        "latent_dim = 64 # 은닉층 : 64층\n",
        "lstm_dim = 64 # LSTM층 : 64층"
      ],
      "execution_count": 0,
      "outputs": []
    },
    {
      "cell_type": "code",
      "metadata": {
        "id": "N8Z8tgy0OjLw",
        "colab_type": "code",
        "colab": {}
      },
      "source": [
        "unroll = False\n",
        "# RNN의 속도를 높이기 위해 False로 지정 만약 True는 데이터 양이 작을 때 사용하므로 False로 지정하였음.\n",
        "\n",
        "encoder_inputs = Input(shape=input_shape) # 인코더에 입력\n",
        "\n",
        "encoder = LSTM(lstm_dim, return_state=True,\n",
        "                unroll=unroll)\n",
        " # 위에서 lstm_dim이 64라고했으므로 64개의 각 층이 입력SMILES 문자열을 읽는 데 사용함.\n",
        "\n",
        "encoder_outputs, state_h, state_c = encoder(encoder_inputs)\n",
        "\n",
        "states = Concatenate(axis=-1)([state_h, state_c])\n",
        "# Concatenate : state h와 state c 를 axis = -1을 기준으로 하나로 연결.\n",
        "\n",
        "neck = Dense(latent_dim, activation=\"relu\")\n",
        "# latent dim을 출력값의 크기로받고 활성화함수로 렐루를 사용하여 neck 부분을 Dense층으로 만듦. \n",
        "\n",
        "neck_outputs = neck(states)\n",
        "\n",
        "#warning 표시 안나도록 함.\n",
        "import warnings\n",
        "warnings.filterwarnings(\"ignore\")"
      ],
      "execution_count": 0,
      "outputs": []
    },
    {
      "cell_type": "code",
      "metadata": {
        "id": "AfUNghUfOoXe",
        "colab_type": "code",
        "outputId": "3e6a27af-a8b2-44f0-e48a-730e570d4565",
        "colab": {
          "base_uri": "https://localhost:8080/",
          "height": 557
        }
      },
      "source": [
        "decode_h = Dense(lstm_dim, activation=\"relu\")\n",
        "decode_c = Dense(lstm_dim, activation=\"relu\")\n",
        "state_h_decoded =  decode_h(neck_outputs) # state h와 state c 에 대해 디코딩을 한 것임.\n",
        "state_c_decoded =  decode_c(neck_outputs)\n",
        "encoder_states = [state_h_decoded, state_c_decoded] # 인코더 아웃풋은 버리고 state_h , state_c만 유지\n",
        "decoder_inputs = Input(shape=input_shape) # state_h 와 state_c를 초기상태로 사용해서 디코더를 설정.\n",
        "\n",
        "decoder_lstm = LSTM(lstm_dim,\n",
        "                    return_sequences=True,\n",
        "                    unroll=unroll\n",
        "                   )\n",
        "#각 sequence마다 출력값을 출력. LSTM 층을 여러개로 쌓아올릴 때는 return_sequence=True 옵션을 사용.\n",
        "\n",
        "decoder_outputs = decoder_lstm(decoder_inputs, initial_state=encoder_states)\n",
        "\n",
        "decoder_dense = Dense(output_dim, activation='softmax') \n",
        "# Decoder 층에 마지막에 softmax 활성화함수 사용하여 확률로 변환.\n",
        "\n",
        "decoder_outputs = decoder_dense(decoder_outputs) # 출력\n",
        "\n",
        "# 두 위치에 대해 훈련 벡터를 입력하고 입력에 앞서 한 문자를 예측하는 모델 정의\n",
        "model = Model([encoder_inputs, decoder_inputs], decoder_outputs)\n",
        "print (model.summary())"
      ],
      "execution_count": 0,
      "outputs": [
        {
          "output_type": "stream",
          "text": [
            "Model: \"model\"\n",
            "__________________________________________________________________________________________________\n",
            "Layer (type)                    Output Shape         Param #     Connected to                     \n",
            "==================================================================================================\n",
            "input_1 (InputLayer)            [(None, 27, 22)]     0                                            \n",
            "__________________________________________________________________________________________________\n",
            "lstm (LSTM)                     [(None, 64), (None,  22272       input_1[0][0]                    \n",
            "__________________________________________________________________________________________________\n",
            "concatenate (Concatenate)       (None, 128)          0           lstm[0][1]                       \n",
            "                                                                 lstm[0][2]                       \n",
            "__________________________________________________________________________________________________\n",
            "dense (Dense)                   (None, 64)           8256        concatenate[0][0]                \n",
            "__________________________________________________________________________________________________\n",
            "input_2 (InputLayer)            [(None, 27, 22)]     0                                            \n",
            "__________________________________________________________________________________________________\n",
            "dense_1 (Dense)                 (None, 64)           4160        dense[0][0]                      \n",
            "__________________________________________________________________________________________________\n",
            "dense_2 (Dense)                 (None, 64)           4160        dense[0][0]                      \n",
            "__________________________________________________________________________________________________\n",
            "lstm_1 (LSTM)                   (None, 27, 64)       22272       input_2[0][0]                    \n",
            "                                                                 dense_1[0][0]                    \n",
            "                                                                 dense_2[0][0]                    \n",
            "__________________________________________________________________________________________________\n",
            "dense_3 (Dense)                 (None, 27, 22)       1430        lstm_1[0][0]                     \n",
            "==================================================================================================\n",
            "Total params: 62,550\n",
            "Trainable params: 62,550\n",
            "Non-trainable params: 0\n",
            "__________________________________________________________________________________________________\n",
            "None\n"
          ],
          "name": "stdout"
        }
      ]
    },
    {
      "cell_type": "code",
      "metadata": {
        "id": "MeznhaJozF9m",
        "colab_type": "code",
        "colab": {}
      },
      "source": [
        "from tensorflow.keras.callbacks import History, ReduceLROnPlateau\n",
        "# History : 케라스는 학습시킬 때 fit함수를 사용하고 History 객체가 반환. \n",
        "# History는 이어지는 epoch 각각에서의 훈련 손실 값과 metric 값을 기록.\n",
        "\n",
        "h = History()\n",
        "\n",
        "rlr = ReduceLROnPlateau(monitor='val_loss', factor=0.5,patience=10, min_lr=0.000001, verbose=1, min_delta=1e-5)\n",
        " # monitor : 모니터를 할 수량. factor : 학습률이 감소하는 요인으로 우리는 0.5로 잡음.\n",
        " # patience : 학습률이 감소한 후 계산되지 않은 에폭 수 . min_lr : 학습률의 하한 \n",
        " # verbose : 1이면 진행상태 막대로 출력, 0이면 아무것도 표시되지 않음. min_delta : 새로운 최적 측정을 위한 임계값"
      ],
      "execution_count": 0,
      "outputs": []
    },
    {
      "cell_type": "code",
      "metadata": {
        "id": "sb6hRr-Nzw1H",
        "colab_type": "code",
        "colab": {}
      },
      "source": [
        "from tensorflow.keras.optimizers import RMSprop, Adam\n",
        "opt=Adam(lr=0.005) # 학습률 0.005로 Adam 최적화 법을 사용.\n",
        "\n",
        "model.compile(optimizer=opt, loss='categorical_crossentropy') \n",
        "# model.compile : 모델 학습 시키기 전에 학습 방식에 대한 환경 설정."
      ],
      "execution_count": 0,
      "outputs": []
    },
    {
      "cell_type": "code",
      "metadata": {
        "id": "p1yHzQb2zN0x",
        "colab_type": "code",
        "outputId": "b11d4258-8aad-47ec-daed-a1e16ce47ae6",
        "colab": {
          "base_uri": "https://localhost:8080/",
          "height": 1000
        }
      },
      "source": [
        "model.fit([X_train,X_train],Y_train,\n",
        "                    epochs=200,\n",
        "                    batch_size=256,\n",
        "                    shuffle=True, # 데이터를 섞어서 1배치에 256개를 뽑아낸다.\n",
        "                    callbacks=[h, rlr],  # callbacks : 특정 단계에서 적용할 함수의 세트\n",
        "                    validation_data=[[X_test,X_test],Y_test ]) # 훈련 데이터와 검증 데이터를 비교."
      ],
      "execution_count": 0,
      "outputs": [
        {
          "output_type": "stream",
          "text": [
            "Train on 50029 samples, validate on 16677 samples\n",
            "Epoch 1/200\n",
            "50029/50029 [==============================] - 8s 150us/sample - loss: 0.9094 - val_loss: 0.6546\n",
            "Epoch 2/200\n",
            "50029/50029 [==============================] - 2s 35us/sample - loss: 0.5862 - val_loss: 0.5470\n",
            "Epoch 3/200\n",
            "50029/50029 [==============================] - 2s 35us/sample - loss: 0.5008 - val_loss: 0.4720\n",
            "Epoch 4/200\n",
            "50029/50029 [==============================] - 2s 36us/sample - loss: 0.4646 - val_loss: 0.4219\n",
            "Epoch 5/200\n",
            "50029/50029 [==============================] - 2s 34us/sample - loss: 0.4085 - val_loss: 0.3876\n",
            "Epoch 6/200\n",
            "50029/50029 [==============================] - 2s 35us/sample - loss: 0.3683 - val_loss: 0.3615\n",
            "Epoch 7/200\n",
            "50029/50029 [==============================] - 2s 35us/sample - loss: 0.3359 - val_loss: 0.3199\n",
            "Epoch 8/200\n",
            "50029/50029 [==============================] - 2s 35us/sample - loss: 0.3157 - val_loss: 0.2900\n",
            "Epoch 9/200\n",
            "50029/50029 [==============================] - 2s 35us/sample - loss: 0.2868 - val_loss: 0.2633\n",
            "Epoch 10/200\n",
            "50029/50029 [==============================] - 2s 36us/sample - loss: 0.2490 - val_loss: 0.2298\n",
            "Epoch 11/200\n",
            "50029/50029 [==============================] - 2s 35us/sample - loss: 0.2395 - val_loss: 0.2037\n",
            "Epoch 12/200\n",
            "50029/50029 [==============================] - 2s 35us/sample - loss: 0.2052 - val_loss: 0.2564\n",
            "Epoch 13/200\n",
            "50029/50029 [==============================] - 2s 35us/sample - loss: 0.1723 - val_loss: 0.1669\n",
            "Epoch 14/200\n",
            "50029/50029 [==============================] - 2s 35us/sample - loss: 0.1510 - val_loss: 0.1405\n",
            "Epoch 15/200\n",
            "50029/50029 [==============================] - 2s 34us/sample - loss: 0.1314 - val_loss: 0.1237\n",
            "Epoch 16/200\n",
            "50029/50029 [==============================] - 2s 34us/sample - loss: 0.1110 - val_loss: 0.1001\n",
            "Epoch 17/200\n",
            "50029/50029 [==============================] - 2s 34us/sample - loss: 0.1133 - val_loss: 0.0881\n",
            "Epoch 18/200\n",
            "50029/50029 [==============================] - 2s 34us/sample - loss: 0.0878 - val_loss: 0.0745\n",
            "Epoch 19/200\n",
            "50029/50029 [==============================] - 2s 35us/sample - loss: 0.0908 - val_loss: 0.1086\n",
            "Epoch 20/200\n",
            "50029/50029 [==============================] - 2s 35us/sample - loss: 0.0631 - val_loss: 0.0570\n",
            "Epoch 21/200\n",
            "50029/50029 [==============================] - 2s 34us/sample - loss: 0.0677 - val_loss: 0.0483\n",
            "Epoch 22/200\n",
            "50029/50029 [==============================] - 2s 34us/sample - loss: 0.0937 - val_loss: 0.0811\n",
            "Epoch 23/200\n",
            "50029/50029 [==============================] - 2s 34us/sample - loss: 0.0473 - val_loss: 0.0399\n",
            "Epoch 24/200\n",
            "50029/50029 [==============================] - 2s 35us/sample - loss: 0.1003 - val_loss: 0.2226\n",
            "Epoch 25/200\n",
            "50029/50029 [==============================] - 2s 35us/sample - loss: 0.0690 - val_loss: 0.0375\n",
            "Epoch 26/200\n",
            "50029/50029 [==============================] - 2s 35us/sample - loss: 0.0340 - val_loss: 0.0445\n",
            "Epoch 27/200\n",
            "50029/50029 [==============================] - 2s 34us/sample - loss: 0.0535 - val_loss: 0.0425\n",
            "Epoch 28/200\n",
            "50029/50029 [==============================] - 2s 35us/sample - loss: 0.0282 - val_loss: 0.0261\n",
            "Epoch 29/200\n",
            "50029/50029 [==============================] - 2s 34us/sample - loss: 0.0489 - val_loss: 0.0387\n",
            "Epoch 30/200\n",
            "50029/50029 [==============================] - 2s 35us/sample - loss: 0.0226 - val_loss: 0.0223\n",
            "Epoch 31/200\n",
            "50029/50029 [==============================] - 2s 34us/sample - loss: 0.0197 - val_loss: 0.0283\n",
            "Epoch 32/200\n",
            "50029/50029 [==============================] - 2s 34us/sample - loss: 0.0241 - val_loss: 0.0180\n",
            "Epoch 33/200\n",
            "50029/50029 [==============================] - 2s 34us/sample - loss: 0.0560 - val_loss: 0.0326\n",
            "Epoch 34/200\n",
            "50029/50029 [==============================] - 2s 34us/sample - loss: 0.0204 - val_loss: 0.0163\n",
            "Epoch 35/200\n",
            "50029/50029 [==============================] - 2s 34us/sample - loss: 0.0332 - val_loss: 0.0737\n",
            "Epoch 36/200\n",
            "50029/50029 [==============================] - 2s 34us/sample - loss: 0.0210 - val_loss: 0.0136\n",
            "Epoch 37/200\n",
            "50029/50029 [==============================] - 2s 34us/sample - loss: 0.0163 - val_loss: 0.0134\n",
            "Epoch 38/200\n",
            "50029/50029 [==============================] - 2s 35us/sample - loss: 0.0822 - val_loss: 0.2464\n",
            "Epoch 39/200\n",
            "50029/50029 [==============================] - 2s 35us/sample - loss: 0.0515 - val_loss: 0.0277\n",
            "Epoch 40/200\n",
            "50029/50029 [==============================] - 2s 35us/sample - loss: 0.0160 - val_loss: 0.0118\n",
            "Epoch 41/200\n",
            "50029/50029 [==============================] - 2s 35us/sample - loss: 0.0905 - val_loss: 0.1096\n",
            "Epoch 42/200\n",
            "50029/50029 [==============================] - 2s 35us/sample - loss: 0.0294 - val_loss: 0.0145\n",
            "Epoch 43/200\n",
            "50029/50029 [==============================] - 2s 35us/sample - loss: 0.0116 - val_loss: 0.0144\n",
            "Epoch 44/200\n",
            "50029/50029 [==============================] - 2s 36us/sample - loss: 0.0177 - val_loss: 0.0126\n",
            "Epoch 45/200\n",
            "50029/50029 [==============================] - 2s 35us/sample - loss: 0.0078 - val_loss: 0.0093\n",
            "Epoch 46/200\n",
            "50029/50029 [==============================] - 2s 35us/sample - loss: 0.0088 - val_loss: 0.0079\n",
            "Epoch 47/200\n",
            "50029/50029 [==============================] - 2s 35us/sample - loss: 0.0228 - val_loss: 0.0138\n",
            "Epoch 48/200\n",
            "50029/50029 [==============================] - 2s 35us/sample - loss: 0.0064 - val_loss: 0.0104\n",
            "Epoch 49/200\n",
            "50029/50029 [==============================] - 2s 34us/sample - loss: 0.0057 - val_loss: 0.0057\n",
            "Epoch 50/200\n",
            "50029/50029 [==============================] - 2s 35us/sample - loss: 0.0478 - val_loss: 0.0164\n",
            "Epoch 51/200\n",
            "50029/50029 [==============================] - 2s 35us/sample - loss: 0.0085 - val_loss: 0.0070\n",
            "Epoch 52/200\n",
            "50029/50029 [==============================] - 2s 35us/sample - loss: 0.0052 - val_loss: 0.0057\n",
            "Epoch 53/200\n",
            "50029/50029 [==============================] - 2s 34us/sample - loss: 0.0908 - val_loss: 0.0393\n",
            "Epoch 54/200\n",
            "50029/50029 [==============================] - 2s 35us/sample - loss: 0.0173 - val_loss: 0.0126\n",
            "Epoch 55/200\n",
            "50029/50029 [==============================] - 2s 35us/sample - loss: 0.0085 - val_loss: 0.0081\n",
            "Epoch 56/200\n",
            "50029/50029 [==============================] - 2s 35us/sample - loss: 0.0120 - val_loss: 0.0061\n",
            "Epoch 57/200\n",
            "50029/50029 [==============================] - 2s 35us/sample - loss: 0.0047 - val_loss: 0.0061\n",
            "Epoch 58/200\n",
            "50029/50029 [==============================] - 2s 34us/sample - loss: 0.0051 - val_loss: 0.0237\n",
            "Epoch 59/200\n",
            "49664/50029 [============================>.] - ETA: 0s - loss: 0.0622\n",
            "Epoch 00059: ReduceLROnPlateau reducing learning rate to 0.0024999999441206455.\n",
            "50029/50029 [==============================] - 2s 34us/sample - loss: 0.0618 - val_loss: 0.0095\n",
            "Epoch 60/200\n",
            "50029/50029 [==============================] - 2s 34us/sample - loss: 0.0066 - val_loss: 0.0060\n",
            "Epoch 61/200\n",
            "50029/50029 [==============================] - 2s 35us/sample - loss: 0.0048 - val_loss: 0.0048\n",
            "Epoch 62/200\n",
            "50029/50029 [==============================] - 2s 34us/sample - loss: 0.0038 - val_loss: 0.0040\n",
            "Epoch 63/200\n",
            "50029/50029 [==============================] - 2s 34us/sample - loss: 0.0032 - val_loss: 0.0035\n",
            "Epoch 64/200\n",
            "50029/50029 [==============================] - 2s 34us/sample - loss: 0.0027 - val_loss: 0.0037\n",
            "Epoch 65/200\n",
            "50029/50029 [==============================] - 2s 35us/sample - loss: 0.0025 - val_loss: 0.0035\n",
            "Epoch 66/200\n",
            "50029/50029 [==============================] - 2s 34us/sample - loss: 0.0024 - val_loss: 0.0043\n",
            "Epoch 67/200\n",
            "50029/50029 [==============================] - 2s 35us/sample - loss: 0.0020 - val_loss: 0.0025\n",
            "Epoch 68/200\n",
            "50029/50029 [==============================] - 2s 35us/sample - loss: 0.0315 - val_loss: 0.0069\n",
            "Epoch 69/200\n",
            "50029/50029 [==============================] - 2s 34us/sample - loss: 0.0037 - val_loss: 0.0033\n",
            "Epoch 70/200\n",
            "50029/50029 [==============================] - 2s 34us/sample - loss: 0.0024 - val_loss: 0.0027\n",
            "Epoch 71/200\n",
            "50029/50029 [==============================] - 2s 34us/sample - loss: 0.0018 - val_loss: 0.0021\n",
            "Epoch 72/200\n",
            "50029/50029 [==============================] - 2s 34us/sample - loss: 0.0015 - val_loss: 0.0020\n",
            "Epoch 73/200\n",
            "50029/50029 [==============================] - 2s 35us/sample - loss: 0.0014 - val_loss: 0.0018\n",
            "Epoch 74/200\n",
            "50029/50029 [==============================] - 2s 35us/sample - loss: 0.0013 - val_loss: 0.0017\n",
            "Epoch 75/200\n",
            "50029/50029 [==============================] - 2s 35us/sample - loss: 0.0011 - val_loss: 0.0015\n",
            "Epoch 76/200\n",
            "50029/50029 [==============================] - 2s 35us/sample - loss: 0.0013 - val_loss: 0.0039\n",
            "Epoch 77/200\n",
            "50029/50029 [==============================] - 2s 34us/sample - loss: 0.0447 - val_loss: 0.0045\n",
            "Epoch 78/200\n",
            "50029/50029 [==============================] - 2s 35us/sample - loss: 0.0029 - val_loss: 0.0030\n",
            "Epoch 79/200\n",
            "50029/50029 [==============================] - 2s 34us/sample - loss: 0.0020 - val_loss: 0.0022\n",
            "Epoch 80/200\n",
            "50029/50029 [==============================] - 2s 34us/sample - loss: 0.0016 - val_loss: 0.0020\n",
            "Epoch 81/200\n",
            "50029/50029 [==============================] - 2s 34us/sample - loss: 0.0013 - val_loss: 0.0020\n",
            "Epoch 82/200\n",
            "50029/50029 [==============================] - 2s 35us/sample - loss: 0.0012 - val_loss: 0.0018\n",
            "Epoch 83/200\n",
            "50029/50029 [==============================] - 2s 34us/sample - loss: 9.6744e-04 - val_loss: 0.0014\n",
            "Epoch 84/200\n",
            "50029/50029 [==============================] - 2s 34us/sample - loss: 9.8856e-04 - val_loss: 0.0015\n",
            "Epoch 85/200\n",
            "50029/50029 [==============================] - 2s 35us/sample - loss: 0.0014 - val_loss: 0.0024\n",
            "Epoch 86/200\n",
            "50029/50029 [==============================] - 2s 34us/sample - loss: 0.0011 - val_loss: 0.0014\n",
            "Epoch 87/200\n",
            "50029/50029 [==============================] - 2s 34us/sample - loss: 8.6832e-04 - val_loss: 0.0014\n",
            "Epoch 88/200\n",
            "50029/50029 [==============================] - 2s 34us/sample - loss: 0.0293 - val_loss: 0.2814\n",
            "Epoch 89/200\n",
            "50029/50029 [==============================] - 2s 34us/sample - loss: 0.0227 - val_loss: 0.0037\n",
            "Epoch 90/200\n",
            "50029/50029 [==============================] - 2s 34us/sample - loss: 0.0021 - val_loss: 0.0022\n",
            "Epoch 91/200\n",
            "50029/50029 [==============================] - 2s 34us/sample - loss: 0.0014 - val_loss: 0.0018\n",
            "Epoch 92/200\n",
            "50029/50029 [==============================] - 2s 34us/sample - loss: 0.0011 - val_loss: 0.0015\n",
            "Epoch 93/200\n",
            "50029/50029 [==============================] - 2s 35us/sample - loss: 8.8867e-04 - val_loss: 0.0014\n",
            "Epoch 94/200\n",
            "50029/50029 [==============================] - 2s 34us/sample - loss: 7.9576e-04 - val_loss: 0.0014\n",
            "Epoch 95/200\n",
            "50029/50029 [==============================] - 2s 34us/sample - loss: 7.1276e-04 - val_loss: 0.0011\n",
            "Epoch 96/200\n",
            "50029/50029 [==============================] - 2s 34us/sample - loss: 6.4676e-04 - val_loss: 0.0011\n",
            "Epoch 97/200\n",
            "50029/50029 [==============================] - 2s 34us/sample - loss: 8.7048e-04 - val_loss: 0.0023\n",
            "Epoch 98/200\n",
            "50029/50029 [==============================] - 2s 34us/sample - loss: 0.0226 - val_loss: 0.0028\n",
            "Epoch 99/200\n",
            "50029/50029 [==============================] - 2s 34us/sample - loss: 0.0015 - val_loss: 0.0016\n",
            "Epoch 100/200\n",
            "50029/50029 [==============================] - 2s 36us/sample - loss: 9.7057e-04 - val_loss: 0.0013\n",
            "Epoch 101/200\n",
            "50029/50029 [==============================] - 2s 35us/sample - loss: 7.6241e-04 - val_loss: 0.0012\n",
            "Epoch 102/200\n",
            "50029/50029 [==============================] - 2s 36us/sample - loss: 6.5681e-04 - val_loss: 0.0011\n",
            "Epoch 103/200\n",
            "50029/50029 [==============================] - 2s 36us/sample - loss: 5.6774e-04 - val_loss: 0.0010\n",
            "Epoch 104/200\n",
            "50029/50029 [==============================] - 2s 36us/sample - loss: 5.1517e-04 - val_loss: 9.6207e-04\n",
            "Epoch 105/200\n",
            "50029/50029 [==============================] - 2s 35us/sample - loss: 4.6495e-04 - val_loss: 8.5439e-04\n",
            "Epoch 106/200\n",
            "50029/50029 [==============================] - 2s 35us/sample - loss: 4.2812e-04 - val_loss: 8.3594e-04\n",
            "Epoch 107/200\n",
            "50029/50029 [==============================] - 2s 33us/sample - loss: 3.9440e-04 - val_loss: 7.5654e-04\n",
            "Epoch 108/200\n",
            "50029/50029 [==============================] - 2s 34us/sample - loss: 0.0440 - val_loss: 0.0041\n",
            "Epoch 109/200\n",
            "50029/50029 [==============================] - 2s 34us/sample - loss: 0.0020 - val_loss: 0.0020\n",
            "Epoch 110/200\n",
            "50029/50029 [==============================] - 2s 34us/sample - loss: 0.0011 - val_loss: 0.0015\n",
            "Epoch 111/200\n",
            "50029/50029 [==============================] - 2s 34us/sample - loss: 8.1528e-04 - val_loss: 0.0012\n",
            "Epoch 112/200\n",
            "50029/50029 [==============================] - 2s 34us/sample - loss: 6.6616e-04 - val_loss: 0.0010\n",
            "Epoch 113/200\n",
            "50029/50029 [==============================] - 2s 35us/sample - loss: 5.6830e-04 - val_loss: 9.4370e-04\n",
            "Epoch 114/200\n",
            "50029/50029 [==============================] - 2s 34us/sample - loss: 4.9914e-04 - val_loss: 9.0492e-04\n",
            "Epoch 115/200\n",
            "50029/50029 [==============================] - 2s 34us/sample - loss: 4.6855e-04 - val_loss: 8.4676e-04\n",
            "Epoch 116/200\n",
            "50029/50029 [==============================] - 2s 34us/sample - loss: 4.1995e-04 - val_loss: 7.5033e-04\n",
            "Epoch 117/200\n",
            "50029/50029 [==============================] - 2s 34us/sample - loss: 3.5737e-04 - val_loss: 7.0285e-04\n",
            "Epoch 118/200\n",
            "50029/50029 [==============================] - 2s 35us/sample - loss: 3.8612e-04 - val_loss: 0.0146\n",
            "Epoch 119/200\n",
            "50029/50029 [==============================] - 2s 34us/sample - loss: 0.0604 - val_loss: 0.0034\n",
            "Epoch 120/200\n",
            "50029/50029 [==============================] - 2s 35us/sample - loss: 0.0019 - val_loss: 0.0019\n",
            "Epoch 121/200\n",
            "50029/50029 [==============================] - 2s 35us/sample - loss: 0.0012 - val_loss: 0.0015\n",
            "Epoch 122/200\n",
            "50029/50029 [==============================] - 2s 35us/sample - loss: 8.7917e-04 - val_loss: 0.0013\n",
            "Epoch 123/200\n",
            "50029/50029 [==============================] - 2s 36us/sample - loss: 7.1728e-04 - val_loss: 0.0012\n",
            "Epoch 124/200\n",
            "50029/50029 [==============================] - 2s 35us/sample - loss: 5.9494e-04 - val_loss: 9.9401e-04\n",
            "Epoch 125/200\n",
            "50029/50029 [==============================] - 2s 34us/sample - loss: 5.2965e-04 - val_loss: 9.3153e-04\n",
            "Epoch 126/200\n",
            "50029/50029 [==============================] - 2s 34us/sample - loss: 4.6127e-04 - val_loss: 9.3048e-04\n",
            "Epoch 127/200\n",
            "48896/50029 [============================>.] - ETA: 0s - loss: 4.2088e-04\n",
            "Epoch 00127: ReduceLROnPlateau reducing learning rate to 0.0012499999720603228.\n",
            "50029/50029 [==============================] - 2s 34us/sample - loss: 4.2136e-04 - val_loss: 7.7736e-04\n",
            "Epoch 128/200\n",
            "50029/50029 [==============================] - 2s 35us/sample - loss: 3.5657e-04 - val_loss: 7.3927e-04\n",
            "Epoch 129/200\n",
            "50029/50029 [==============================] - 2s 34us/sample - loss: 3.3128e-04 - val_loss: 7.1542e-04\n",
            "Epoch 130/200\n",
            "50029/50029 [==============================] - 2s 34us/sample - loss: 3.1756e-04 - val_loss: 6.7931e-04\n",
            "Epoch 131/200\n",
            "50029/50029 [==============================] - 2s 34us/sample - loss: 3.0312e-04 - val_loss: 6.8193e-04\n",
            "Epoch 132/200\n",
            "50029/50029 [==============================] - 2s 34us/sample - loss: 2.8574e-04 - val_loss: 6.3981e-04\n",
            "Epoch 133/200\n",
            "50029/50029 [==============================] - 2s 33us/sample - loss: 2.7075e-04 - val_loss: 6.4676e-04\n",
            "Epoch 134/200\n",
            "50029/50029 [==============================] - 2s 34us/sample - loss: 2.5875e-04 - val_loss: 6.0288e-04\n",
            "Epoch 135/200\n",
            "50029/50029 [==============================] - 2s 34us/sample - loss: 2.4773e-04 - val_loss: 6.0924e-04\n",
            "Epoch 136/200\n",
            "50029/50029 [==============================] - 2s 35us/sample - loss: 2.3956e-04 - val_loss: 6.1252e-04\n",
            "Epoch 137/200\n",
            "50029/50029 [==============================] - 2s 34us/sample - loss: 2.3113e-04 - val_loss: 5.8424e-04\n",
            "Epoch 138/200\n",
            "50029/50029 [==============================] - 2s 34us/sample - loss: 2.3135e-04 - val_loss: 6.4215e-04\n",
            "Epoch 139/200\n",
            "50029/50029 [==============================] - 2s 34us/sample - loss: 2.0451e-04 - val_loss: 6.1663e-04\n",
            "Epoch 140/200\n",
            "50029/50029 [==============================] - 2s 34us/sample - loss: 0.0099 - val_loss: 0.0016\n",
            "Epoch 141/200\n",
            "50029/50029 [==============================] - 2s 33us/sample - loss: 6.2171e-04 - val_loss: 9.1007e-04\n",
            "Epoch 142/200\n",
            "50029/50029 [==============================] - 2s 34us/sample - loss: 3.8857e-04 - val_loss: 7.6731e-04\n",
            "Epoch 143/200\n",
            "50029/50029 [==============================] - 2s 34us/sample - loss: 3.1369e-04 - val_loss: 6.9158e-04\n",
            "Epoch 144/200\n",
            "50029/50029 [==============================] - 2s 34us/sample - loss: 2.7350e-04 - val_loss: 6.5707e-04\n",
            "Epoch 145/200\n",
            "50029/50029 [==============================] - 2s 34us/sample - loss: 2.4661e-04 - val_loss: 6.0467e-04\n",
            "Epoch 146/200\n",
            "50029/50029 [==============================] - 2s 34us/sample - loss: 2.2541e-04 - val_loss: 5.8260e-04\n",
            "Epoch 147/200\n",
            "50029/50029 [==============================] - 2s 33us/sample - loss: 2.0850e-04 - val_loss: 5.5657e-04\n",
            "Epoch 148/200\n",
            "50029/50029 [==============================] - 2s 35us/sample - loss: 1.9473e-04 - val_loss: 5.4055e-04\n",
            "Epoch 149/200\n",
            "50029/50029 [==============================] - 2s 34us/sample - loss: 1.8336e-04 - val_loss: 5.3535e-04\n",
            "Epoch 150/200\n",
            "50029/50029 [==============================] - 2s 33us/sample - loss: 1.7266e-04 - val_loss: 5.3613e-04\n",
            "Epoch 151/200\n",
            "50029/50029 [==============================] - 2s 34us/sample - loss: 1.6433e-04 - val_loss: 5.0247e-04\n",
            "Epoch 152/200\n",
            "50029/50029 [==============================] - 2s 34us/sample - loss: 1.5468e-04 - val_loss: 4.9152e-04\n",
            "Epoch 153/200\n",
            "50029/50029 [==============================] - 2s 34us/sample - loss: 1.5017e-04 - val_loss: 5.2757e-04\n",
            "Epoch 154/200\n",
            "50029/50029 [==============================] - 2s 34us/sample - loss: 1.4204e-04 - val_loss: 4.6831e-04\n",
            "Epoch 155/200\n",
            "50029/50029 [==============================] - 2s 34us/sample - loss: 1.3581e-04 - val_loss: 4.8459e-04\n",
            "Epoch 156/200\n",
            "50029/50029 [==============================] - 2s 33us/sample - loss: 1.2736e-04 - val_loss: 4.5689e-04\n",
            "Epoch 157/200\n",
            "50029/50029 [==============================] - 2s 34us/sample - loss: 1.2174e-04 - val_loss: 4.5116e-04\n",
            "Epoch 158/200\n",
            "50029/50029 [==============================] - 2s 34us/sample - loss: 1.1648e-04 - val_loss: 4.6834e-04\n",
            "Epoch 159/200\n",
            "50029/50029 [==============================] - 2s 34us/sample - loss: 1.1451e-04 - val_loss: 4.4456e-04\n",
            "Epoch 160/200\n",
            "50029/50029 [==============================] - 2s 34us/sample - loss: 0.0175 - val_loss: 0.0058\n",
            "Epoch 161/200\n",
            "50029/50029 [==============================] - 2s 34us/sample - loss: 0.0012 - val_loss: 0.0011\n",
            "Epoch 162/200\n",
            "50029/50029 [==============================] - 2s 33us/sample - loss: 4.0633e-04 - val_loss: 8.1503e-04\n",
            "Epoch 163/200\n",
            "50029/50029 [==============================] - 2s 34us/sample - loss: 2.9530e-04 - val_loss: 7.1084e-04\n",
            "Epoch 164/200\n",
            "50029/50029 [==============================] - 2s 34us/sample - loss: 2.4627e-04 - val_loss: 6.4694e-04\n",
            "Epoch 165/200\n",
            "50029/50029 [==============================] - 2s 34us/sample - loss: 2.1519e-04 - val_loss: 6.0302e-04\n",
            "Epoch 166/200\n",
            "50029/50029 [==============================] - 2s 35us/sample - loss: 1.9335e-04 - val_loss: 5.8459e-04\n",
            "Epoch 167/200\n",
            "50029/50029 [==============================] - 2s 34us/sample - loss: 1.7635e-04 - val_loss: 5.6533e-04\n",
            "Epoch 168/200\n",
            "50029/50029 [==============================] - 2s 34us/sample - loss: 1.6321e-04 - val_loss: 5.4426e-04\n",
            "Epoch 169/200\n",
            "48384/50029 [============================>.] - ETA: 0s - loss: 1.5292e-04\n",
            "Epoch 00169: ReduceLROnPlateau reducing learning rate to 0.0006249999860301614.\n",
            "50029/50029 [==============================] - 2s 34us/sample - loss: 1.5284e-04 - val_loss: 5.2009e-04\n",
            "Epoch 170/200\n",
            "50029/50029 [==============================] - 2s 34us/sample - loss: 1.4142e-04 - val_loss: 5.0754e-04\n",
            "Epoch 171/200\n",
            "50029/50029 [==============================] - 2s 33us/sample - loss: 1.3713e-04 - val_loss: 4.9836e-04\n",
            "Epoch 172/200\n",
            "50029/50029 [==============================] - 2s 33us/sample - loss: 1.3264e-04 - val_loss: 4.8869e-04\n",
            "Epoch 173/200\n",
            "50029/50029 [==============================] - 2s 34us/sample - loss: 1.2849e-04 - val_loss: 4.8723e-04\n",
            "Epoch 174/200\n",
            "50029/50029 [==============================] - 2s 33us/sample - loss: 1.2453e-04 - val_loss: 4.9113e-04\n",
            "Epoch 175/200\n",
            "50029/50029 [==============================] - 2s 33us/sample - loss: 1.2046e-04 - val_loss: 4.7511e-04\n",
            "Epoch 176/200\n",
            "50029/50029 [==============================] - 2s 34us/sample - loss: 1.1647e-04 - val_loss: 4.5750e-04\n",
            "Epoch 177/200\n",
            "50029/50029 [==============================] - 2s 33us/sample - loss: 1.1244e-04 - val_loss: 4.5499e-04\n",
            "Epoch 178/200\n",
            "50029/50029 [==============================] - 2s 34us/sample - loss: 1.0846e-04 - val_loss: 4.4820e-04\n",
            "Epoch 179/200\n",
            "49408/50029 [============================>.] - ETA: 0s - loss: 1.0534e-04\n",
            "Epoch 00179: ReduceLROnPlateau reducing learning rate to 0.0003124999930150807.\n",
            "50029/50029 [==============================] - 2s 34us/sample - loss: 1.0531e-04 - val_loss: 4.4497e-04\n",
            "Epoch 180/200\n",
            "50029/50029 [==============================] - 2s 33us/sample - loss: 1.0011e-04 - val_loss: 4.3110e-04\n",
            "Epoch 181/200\n",
            "50029/50029 [==============================] - 2s 34us/sample - loss: 9.8276e-05 - val_loss: 4.2888e-04\n",
            "Epoch 182/200\n",
            "50029/50029 [==============================] - 2s 33us/sample - loss: 9.6149e-05 - val_loss: 4.3272e-04\n",
            "Epoch 183/200\n",
            "50029/50029 [==============================] - 2s 34us/sample - loss: 9.4279e-05 - val_loss: 4.2548e-04\n",
            "Epoch 184/200\n",
            "50029/50029 [==============================] - 2s 34us/sample - loss: 9.2171e-05 - val_loss: 4.2601e-04\n",
            "Epoch 185/200\n",
            "50029/50029 [==============================] - 2s 33us/sample - loss: 9.0610e-05 - val_loss: 4.1599e-04\n",
            "Epoch 186/200\n",
            "50029/50029 [==============================] - 2s 33us/sample - loss: 8.8141e-05 - val_loss: 4.1212e-04\n",
            "Epoch 187/200\n",
            "50029/50029 [==============================] - 2s 34us/sample - loss: 8.6470e-05 - val_loss: 4.0481e-04\n",
            "Epoch 188/200\n",
            "50029/50029 [==============================] - 2s 34us/sample - loss: 8.4332e-05 - val_loss: 4.0831e-04\n",
            "Epoch 189/200\n",
            "50029/50029 [==============================] - 2s 33us/sample - loss: 8.1748e-05 - val_loss: 4.0830e-04\n",
            "Epoch 190/200\n",
            "50029/50029 [==============================] - 2s 33us/sample - loss: 7.9822e-05 - val_loss: 3.9872e-04\n",
            "Epoch 191/200\n",
            "50029/50029 [==============================] - 2s 34us/sample - loss: 7.7466e-05 - val_loss: 3.8718e-04\n",
            "Epoch 192/200\n",
            "50029/50029 [==============================] - 2s 34us/sample - loss: 7.5525e-05 - val_loss: 3.8776e-04\n",
            "Epoch 193/200\n",
            "50029/50029 [==============================] - 2s 34us/sample - loss: 7.3147e-05 - val_loss: 3.8578e-04\n",
            "Epoch 194/200\n",
            "50029/50029 [==============================] - 2s 34us/sample - loss: 7.1137e-05 - val_loss: 3.7179e-04\n",
            "Epoch 195/200\n",
            "50029/50029 [==============================] - 2s 34us/sample - loss: 6.9003e-05 - val_loss: 4.0673e-04\n",
            "Epoch 196/200\n",
            "50029/50029 [==============================] - 2s 33us/sample - loss: 6.7530e-05 - val_loss: 3.7799e-04\n",
            "Epoch 197/200\n",
            "50029/50029 [==============================] - 2s 34us/sample - loss: 6.4258e-05 - val_loss: 3.7062e-04\n",
            "Epoch 198/200\n",
            "50029/50029 [==============================] - 2s 33us/sample - loss: 6.2503e-05 - val_loss: 3.8485e-04\n",
            "Epoch 199/200\n",
            "50029/50029 [==============================] - 2s 34us/sample - loss: 6.3250e-05 - val_loss: 4.0905e-04\n",
            "Epoch 200/200\n",
            "50029/50029 [==============================] - 2s 33us/sample - loss: 8.3348e-04 - val_loss: 3.9720e-04\n"
          ],
          "name": "stdout"
        },
        {
          "output_type": "execute_result",
          "data": {
            "text/plain": [
              "<tensorflow.python.keras.callbacks.History at 0x7fef82191f28>"
            ]
          },
          "metadata": {
            "tags": []
          },
          "execution_count": 15
        }
      ]
    },
    {
      "cell_type": "code",
      "metadata": {
        "id": "D0UYrs57zhie",
        "colab_type": "code",
        "outputId": "2147a23a-be10-4b23-f8aa-bf40a547495a",
        "colab": {
          "base_uri": "https://localhost:8080/",
          "height": 283
        }
      },
      "source": [
        "plt.plot(h.history[\"loss\"], label=\"Loss\") #감소하다가 일정해지는 경향을 보임.\n",
        "plt.plot(h.history[\"val_loss\"], label=\"Val_Loss\")\n",
        "plt.yscale(\"log\")\n",
        "plt.legend()"
      ],
      "execution_count": 0,
      "outputs": [
        {
          "output_type": "execute_result",
          "data": {
            "text/plain": [
              "<matplotlib.legend.Legend at 0x7fef4a7d2048>"
            ]
          },
          "metadata": {
            "tags": []
          },
          "execution_count": 16
        },
        {
          "output_type": "display_data",
          "data": {
            "image/png": "[encoded data removed]",
            "text/plain": [
              "<Figure size 432x288 with 1 Axes>"
            ]
          },
          "metadata": {
            "tags": []
          }
        }
      ]
    },
    {
      "cell_type": "code",
      "metadata": {
        "id": "En6ngQ__3sFn",
        "colab_type": "code",
        "colab": {}
      },
      "source": [
        "# 아래 코드는 아무것도 출력하지 않으므로 테스트 세트에서 100 개의 테스트 된 SMILES가 완벽하게 재구성됨.\n",
        "for i in range(100):\n",
        "    v = model.predict([X_test[i:i+1], X_test[i:i+1]]) # 모델을 시험데이터로 예측.\n",
        "    idxs = np.argmax(v, axis=2) #axis=2을 기준으로 즉 z축을 기준으로 가장 큰 값의 인텍스를 반환.\n",
        "    pred=  \"\".join([int_to_char[h] for h in idxs[0]])[:-1]\n",
        "    idxs2 = np.argmax(X_test[i:i+1], axis=2)\n",
        "    true =  \"\".join([int_to_char[k] for k in idxs2[0]])[1:]\n",
        "    if true != pred: # 예측값이랑 실제 값이랑 다르다면 둘다 출력함.\n",
        "       print(true, pred)"
      ],
      "execution_count": 0,
      "outputs": []
    },
    {
      "cell_type": "code",
      "metadata": {
        "id": "Tj69GLdGXQD7",
        "colab_type": "code",
        "colab": {}
      },
      "source": [
        "smiles_to_latent_model = Model(encoder_inputs, neck_outputs) # 숨어있는 모델 (은닉모델)"
      ],
      "execution_count": 0,
      "outputs": []
    },
    {
      "cell_type": "code",
      "metadata": {
        "id": "xyeRYx1QXVm8",
        "colab_type": "code",
        "colab": {}
      },
      "source": [
        "latent_input = Input(shape=(latent_dim,))\n",
        "# reuse_layers : 잠재 공간과 일치하는 새로운 입력이 정의되었지만 이전의 층을 재사용하여 h(hidden) 및 c(cell) 상태를 얻을 수 있음. \n",
        "# 그렇게하면 가중치가 훈련 된 모델에서 상속.\n",
        "\n",
        "state_h_decoded_2 =  decode_h(latent_input)\n",
        "state_c_decoded_2 =  decode_c(latent_input)\n",
        "latent_to_states_model = Model(latent_input, [state_h_decoded_2, state_c_decoded_2])"
      ],
      "execution_count": 0,
      "outputs": []
    },
    {
      "cell_type": "code",
      "metadata": {
        "id": "ntNIvwqtXY5k",
        "colab_type": "code",
        "colab": {}
      },
      "source": [
        "# input shape를 변화시켜야만 상태 유지가 가능.\n",
        "inf_decoder_inputs = Input(batch_shape=(1, 1, input_shape[1])) #batch_shape=1 : 한 샘플을 학습한 후 그것을 다음 샘플 학습 시에 전달.\n",
        "inf_decoder_lstm = LSTM(lstm_dim,\n",
        "                    return_sequences=True,\n",
        "                    unroll=unroll,\n",
        "                    stateful=True # 상태유지 LSTM 모델. 여기서 상태유지라는 것은 현재 학습된 상태가 다음 학습시 초기 상태로 전달된다는 것을 의미.\n",
        "                   )  # 마지막 샘플 학습을 마치고, 새로운 에포크 수행 시에는 새로운 샘플 학습을 해야하므로 상태 초기화 필요.\n",
        "inf_decoder_outputs = inf_decoder_lstm(inf_decoder_inputs)\n",
        "inf_decoder_dense = Dense(output_dim, activation='softmax') # 마지막 출력할 때는 소프트맥스 함수로 확률로 변환시킴.\n",
        "inf_decoder_outputs = inf_decoder_dense(inf_decoder_outputs)\n",
        "sample_model = Model(inf_decoder_inputs, inf_decoder_outputs)"
      ],
      "execution_count": 0,
      "outputs": []
    },
    {
      "cell_type": "code",
      "metadata": {
        "id": "pFMylozdXb6J",
        "colab_type": "code",
        "colab": {}
      },
      "source": [
        "#Transfer Weights : 디코더 모델을 정의한 후 학습 된 자동 인코더 모델에서 해당 가중치가 전송됨.\n",
        "for i in range(1,3):\n",
        "    sample_model.layers[i].set_weights(model.layers[i+6].get_weights())\n",
        "    # set weight : 모델 가중치 값을 넘파이 배열리스트로부터 설정한 것.\n",
        "    # layer : 모델을 구성하는 층들이 저장된 1차원 리스트.  \n",
        "    # get weight : 모델가중치 텐서들이 넘파이 배열로 저장된 1차원 리스트."
      ],
      "execution_count": 0,
      "outputs": []
    },
    {
      "cell_type": "code",
      "metadata": {
        "id": "-rBpYTblXfiW",
        "colab_type": "code",
        "outputId": "1d7a6345-d6a4-4cf4-8b82-b2b46030f03e",
        "colab": {
          "base_uri": "https://localhost:8080/",
          "height": 269
        }
      },
      "source": [
        "sample_model.summary()"
      ],
      "execution_count": 0,
      "outputs": [
        {
          "output_type": "stream",
          "text": [
            "Model: \"model_3\"\n",
            "_________________________________________________________________\n",
            "Layer (type)                 Output Shape              Param #   \n",
            "=================================================================\n",
            "input_4 (InputLayer)         [(1, 1, 22)]              0         \n",
            "_________________________________________________________________\n",
            "lstm_2 (LSTM)                (1, 1, 64)                22272     \n",
            "_________________________________________________________________\n",
            "dense_4 (Dense)              (1, 1, 22)                1430      \n",
            "=================================================================\n",
            "Total params: 23,702\n",
            "Trainable params: 23,702\n",
            "Non-trainable params: 0\n",
            "_________________________________________________________________\n"
          ],
          "name": "stdout"
        }
      ]
    },
    {
      "cell_type": "code",
      "metadata": {
        "id": "7X_ZMZU4XiM_",
        "colab_type": "code",
        "colab": {}
      },
      "source": [
        "x_latent = smiles_to_latent_model.predict(X_test)\n",
        "# 잠재 모델에 대한 SMILES은 잠재 공간과 같은 SMILES를 fingerprint로 인코딩하는데 사용할 수 있음."
      ],
      "execution_count": 0,
      "outputs": []
    },
    {
      "cell_type": "code",
      "metadata": {
        "id": "LXUXMGrXXk13",
        "colab_type": "code",
        "outputId": "f7126a86-6a67-43bf-b4f1-f08a72bec949",
        "colab": {
          "base_uri": "https://localhost:8080/",
          "height": 417
        }
      },
      "source": [
        "# 비슷한 분자들은 비슷한 fingerprint를 만든다. 숨겨진 공간에서 비슷한 분자들이 비슷한 벡터들을 만드는 것을 보기 위해서 비슷한 분자들에 대한 간단한 검색의 수행. \n",
        "# 숨겨진 벡터간의 절대값의 차이는 행렬의 유사성을 이용한다. 이 테스트는 빠르게 수행될 수 있음.\n",
        "# 여기서 분자 구조가 비슷한 분자들은 물성이 비슷하다는 과학적인 지식에서 출발한 개념이다.\n",
        "\n",
        "molno = 5 # molno는 원자가 전자수를 의미.\n",
        "latent_mol = smiles_to_latent_model.predict(X_test[molno:molno+1])\n",
        "sorti = np.argsort(np.sum(np.abs(x_latent - latent_mol), axis=1)) # 축 하나로 정렬.\n",
        "print(sorti[0:10]) # 인덱스 값이 0 ~9까지 정렬 후 출력.\n",
        "print(smiles_test.iloc[sorti[0:8]]) # 검증 데이터에서 인덱스 값이 0~7인 데이터를 출력.\n",
        "Draw.MolsToImage(smiles_test.iloc[sorti[0:8]].apply(Chem.MolFromSmiles)) # 0~7번째들을 분자구조식으로 출력. 분자구조가 유사함.\n"
      ],
      "execution_count": 0,
      "outputs": [
        {
          "output_type": "stream",
          "text": [
            "[    5  1243 14589 13509 15472  3034 15039 12643  2751  5247]\n",
            "45051      COCc1cocn1\n",
            "45007      COCc1ccoc1\n",
            "44719      COCc1ccno1\n",
            "35002    COc1coc(O)n1\n",
            "45061      COCc1conn1\n",
            "58397      COc1ocnc1C\n",
            "45069      COCc1ncon1\n",
            "57988      COc1cocc1C\n",
            "Name: smiles, dtype: object\n"
          ],
          "name": "stdout"
        },
        {
          "output_type": "execute_result",
          "data": {
            "image/png": "[encoded data removed]",
            "text/plain": [
              "<PIL.Image.Image image mode=RGBA size=1600x200 at 0x7FEF6ADDFEF0>"
            ]
          },
          "metadata": {
            "tags": []
          },
          "execution_count": 24
        }
      ]
    },
    {
      "cell_type": "code",
      "metadata": {
        "id": "VfJ3llgJXosr",
        "colab_type": "code",
        "outputId": "48cf1761-ee99-423d-d1c8-8f1fd61c7396",
        "colab": {
          "base_uri": "https://localhost:8080/",
          "height": 237
        }
      },
      "source": [
        "Draw.MolsToImage(smiles_test.iloc[sorti[-8:]].apply(Chem.MolFromSmiles)) # 뒤에서 8번째까지 분자구조식 출력. 분자의 구조의 차이가 가장 크다."
      ],
      "execution_count": 0,
      "outputs": [
        {
          "output_type": "execute_result",
          "data": {
            "image/png": "[encoded data removed]",
            "text/plain": [
              "<PIL.Image.Image image mode=RGBA size=1600x200 at 0x7FEF6B734748>"
            ]
          },
          "metadata": {
            "tags": []
          },
          "execution_count": 25
        }
      ]
    },
    {
      "cell_type": "code",
      "metadata": {
        "id": "nhyNNRzzXrvv",
        "colab_type": "code",
        "colab": {}
      },
      "source": [
        "# 이온화되지 않은 화합물의 농도 비율을 logP라 한다. 분배계수(Partition-coefficient)는 섞이지 않는 2종류의 용매 혼합물에 화합물을 섞고 평형상태가 이루어졌을 때 각 용매에서의 화합물 농도 비율을 의미한다.\n",
        "# Octanol과 물에 대한 화합물의 분배계수를 통해 지질친화도를 평가할 수 있기 때문에 신약개발에서 중요하게 보는 물리화학적 성질이다. \n",
        "# 농도 비율에 log를 취한 값을 보통 사용하는데, 이온화 되지 않은 화합물의 농도 비율을 logP라 한다.\n",
        "\n",
        "logp = smiles_test.apply(Chem.MolFromSmiles).apply(Descriptors.MolLogP)"
      ],
      "execution_count": 0,
      "outputs": []
    },
    {
      "cell_type": "code",
      "metadata": {
        "id": "RIi5xGqsXt0m",
        "colab_type": "code",
        "outputId": "67c9d78f-a420-4913-8715-8455f0a4ff58",
        "colab": {
          "base_uri": "https://localhost:8080/",
          "height": 283
        }
      },
      "source": [
        "# 사이킷런 import\n",
        "from sklearn.decomposition import PCA\n",
        "# PCA 를 이용해서 쉽게 차원을 축소시키고, 새로 만들어진 데이터로 dataframe 을 만듦.\n",
        "\n",
        "pca = PCA(n_components = 2)\n",
        "red = pca.fit_transform(x_latent) # 특징행렬을 낮은 차원의 근사행렬로 변화.\n",
        "plt.figure()\n",
        "plt.scatter(red[:,0], red[:,1],marker='.', c= logp) # logP에 대해 그래프 도시.\n",
        "print(pca.explained_variance_ratio_, np.sum(pca.explained_variance_ratio_))"
      ],
      "execution_count": 0,
      "outputs": [
        {
          "output_type": "stream",
          "text": [
            "[0.24207222 0.19338888] 0.4354611\n"
          ],
          "name": "stdout"
        },
        {
          "output_type": "display_data",
          "data": {
            "image/png": "[encoded data removed]",
            "text/plain": [
              "<Figure size 432x288 with 1 Axes>"
            ]
          },
          "metadata": {
            "tags": []
          }
        }
      ]
    },
    {
      "cell_type": "code",
      "metadata": {
        "id": "ZOxDcFxvXwmv",
        "colab_type": "code",
        "outputId": "efac73ce-6669-49dc-b865-28608039c06c",
        "colab": {
          "base_uri": "https://localhost:8080/",
          "height": 283
        }
      },
      "source": [
        "molwt = smiles_test.apply(Chem.MolFromSmiles).apply(Descriptors.MolMR) # 분자량에 따른 특성 분포.\n",
        "plt.figure()\n",
        "plt.scatter(red[:,0], red[:,1],marker='.', c= molwt)  # molwt에 대해 그래프 도시."
      ],
      "execution_count": 0,
      "outputs": [
        {
          "output_type": "execute_result",
          "data": {
            "text/plain": [
              "<matplotlib.collections.PathCollection at 0x7fef46539710>"
            ]
          },
          "metadata": {
            "tags": []
          },
          "execution_count": 28
        },
        {
          "output_type": "display_data",
          "data": {
            "image/png": "[encoded data removed]",
            "text/plain": [
              "<Figure size 432x288 with 1 Axes>"
            ]
          },
          "metadata": {
            "tags": []
          }
        }
      ]
    },
    {
      "cell_type": "markdown",
      "metadata": {
        "colab_type": "text",
        "id": "OsItL5FwB7wF"
      },
      "source": [
        "- QSAR은 Quantitative Structure Activity Relationship의 약어로서, 물질이 가지고 있는 화학 구조를 이용하여 물성 혹은 독성을 계산하는 방법입니다. 데이터를 훈련하여 predicted logP와 experimental logP에 대한 그래프를 그리면 아래와 같습니다.\n",
        "\n",
        "![대체 텍스트](https://www.molinspiration.com/services/logp.png)\n",
        "\n",
        "따라서 QSAR모델 사용하여 분자 구조 유사성 판단에 사용해보겠습니다."
      ]
    },
    {
      "cell_type": "code",
      "metadata": {
        "id": "1rXaj7zbX0eQ",
        "colab_type": "code",
        "colab": {}
      },
      "source": [
        " # QSAR 모델를 기초로 잘 작동하는지 확인.\n",
        "x_train_latent = smiles_to_latent_model.predict(X_train) # 은닉 모델을 예측.\n",
        "logp_train = smiles_train.apply(Chem.MolFromSmiles).apply(Descriptors.MolLogP)  # logP를 가지고 만든 훈련데이터셋."
      ],
      "execution_count": 0,
      "outputs": []
    },
    {
      "cell_type": "code",
      "metadata": {
        "id": "C3XgevOIX3ME",
        "colab_type": "code",
        "colab": {}
      },
      "source": [
        "from tensorflow.keras.models import Sequential # Sequential 모델을 import.\n",
        "logp_model = Sequential()\n",
        "logp_model.add(Dense(128, input_shape=(latent_dim,), activation=\"relu\"))\n",
        "logp_model.add(Dense(128, activation=\"relu\"))\n",
        "logp_model.add(Dense(1))\n",
        "logp_model.compile(optimizer=\"adam\", loss=\"mse\")"
      ],
      "execution_count": 0,
      "outputs": []
    },
    {
      "cell_type": "code",
      "metadata": {
        "id": "vcROs4lAX77d",
        "colab_type": "code",
        "outputId": "b89e70a8-01af-416b-e17b-82274c95ea92",
        "colab": {
          "base_uri": "https://localhost:8080/",
          "height": 1000
        }
      },
      "source": [
        "rlr = ReduceLROnPlateau(monitor='val_loss', factor=0.5,patience=10, min_lr=0.000001, verbose=1, min_dalta=1e-5)\n",
        "#학습률을 최소 0.000001까지 줄임.\n",
        "\n",
        "logp_model.fit(x_train_latent, logp_train, batch_size=128, epochs=200, callbacks = [rlr])"
      ],
      "execution_count": 0,
      "outputs": [
        {
          "output_type": "stream",
          "text": [
            "Train on 50029 samples\n",
            "Epoch 1/200\n",
            "49536/50029 [============================>.] - ETA: 0s - loss: 0.3807WARNING:tensorflow:Reduce LR on plateau conditioned on metric `val_loss` which is not available. Available metrics are: loss,lr\n",
            "50029/50029 [==============================] - 1s 22us/sample - loss: 0.3802\n",
            "Epoch 2/200\n",
            "48128/50029 [===========================>..] - ETA: 0s - loss: 0.3053WARNING:tensorflow:Reduce LR on plateau conditioned on metric `val_loss` which is not available. Available metrics are: loss,lr\n",
            "50029/50029 [==============================] - 1s 18us/sample - loss: 0.3044\n",
            "Epoch 3/200\n",
            "48384/50029 [============================>.] - ETA: 0s - loss: 0.2797WARNING:tensorflow:Reduce LR on plateau conditioned on metric `val_loss` which is not available. Available metrics are: loss,lr\n",
            "50029/50029 [==============================] - 1s 18us/sample - loss: 0.2791\n",
            "Epoch 4/200\n",
            "49664/50029 [============================>.] - ETA: 0s - loss: 0.2589WARNING:tensorflow:Reduce LR on plateau conditioned on metric `val_loss` which is not available. Available metrics are: loss,lr\n",
            "50029/50029 [==============================] - 1s 18us/sample - loss: 0.2589\n",
            "Epoch 5/200\n",
            "47616/50029 [===========================>..] - ETA: 0s - loss: 0.2450WARNING:tensorflow:Reduce LR on plateau conditioned on metric `val_loss` which is not available. Available metrics are: loss,lr\n",
            "50029/50029 [==============================] - 1s 17us/sample - loss: 0.2448\n",
            "Epoch 6/200\n",
            "48384/50029 [============================>.] - ETA: 0s - loss: 0.2343WARNING:tensorflow:Reduce LR on plateau conditioned on metric `val_loss` which is not available. Available metrics are: loss,lr\n",
            "50029/50029 [==============================] - 1s 18us/sample - loss: 0.2341\n",
            "Epoch 7/200\n",
            "49408/50029 [============================>.] - ETA: 0s - loss: 0.2248WARNING:tensorflow:Reduce LR on plateau conditioned on metric `val_loss` which is not available. Available metrics are: loss,lr\n",
            "50029/50029 [==============================] - 1s 18us/sample - loss: 0.2246\n",
            "Epoch 8/200\n",
            "49152/50029 [============================>.] - ETA: 0s - loss: 0.2162WARNING:tensorflow:Reduce LR on plateau conditioned on metric `val_loss` which is not available. Available metrics are: loss,lr\n",
            "50029/50029 [==============================] - 1s 18us/sample - loss: 0.2158\n",
            "Epoch 9/200\n",
            "49152/50029 [============================>.] - ETA: 0s - loss: 0.2101WARNING:tensorflow:Reduce LR on plateau conditioned on metric `val_loss` which is not available. Available metrics are: loss,lr\n",
            "50029/50029 [==============================] - 1s 17us/sample - loss: 0.2095\n",
            "Epoch 10/200\n",
            "48768/50029 [============================>.] - ETA: 0s - loss: 0.2026WARNING:tensorflow:Reduce LR on plateau conditioned on metric `val_loss` which is not available. Available metrics are: loss,lr\n",
            "50029/50029 [==============================] - 1s 17us/sample - loss: 0.2026\n",
            "Epoch 11/200\n",
            "47232/50029 [===========================>..] - ETA: 0s - loss: 0.2006WARNING:tensorflow:Reduce LR on plateau conditioned on metric `val_loss` which is not available. Available metrics are: loss,lr\n",
            "50029/50029 [==============================] - 1s 18us/sample - loss: 0.2004\n",
            "Epoch 12/200\n",
            "49408/50029 [============================>.] - ETA: 0s - loss: 0.1933WARNING:tensorflow:Reduce LR on plateau conditioned on metric `val_loss` which is not available. Available metrics are: loss,lr\n",
            "50029/50029 [==============================] - 1s 18us/sample - loss: 0.1932\n",
            "Epoch 13/200\n",
            "47488/50029 [===========================>..] - ETA: 0s - loss: 0.1901WARNING:tensorflow:Reduce LR on plateau conditioned on metric `val_loss` which is not available. Available metrics are: loss,lr\n",
            "50029/50029 [==============================] - 1s 18us/sample - loss: 0.1898\n",
            "Epoch 14/200\n",
            "47616/50029 [===========================>..] - ETA: 0s - loss: 0.1840WARNING:tensorflow:Reduce LR on plateau conditioned on metric `val_loss` which is not available. Available metrics are: loss,lr\n",
            "50029/50029 [==============================] - 1s 17us/sample - loss: 0.1837\n",
            "Epoch 15/200\n",
            "49280/50029 [============================>.] - ETA: 0s - loss: 0.1778WARNING:tensorflow:Reduce LR on plateau conditioned on metric `val_loss` which is not available. Available metrics are: loss,lr\n",
            "50029/50029 [==============================] - 1s 18us/sample - loss: 0.1779\n",
            "Epoch 16/200\n",
            "48512/50029 [============================>.] - ETA: 0s - loss: 0.1769WARNING:tensorflow:Reduce LR on plateau conditioned on metric `val_loss` which is not available. Available metrics are: loss,lr\n",
            "50029/50029 [==============================] - 1s 17us/sample - loss: 0.1769\n",
            "Epoch 17/200\n",
            "47232/50029 [===========================>..] - ETA: 0s - loss: 0.1713WARNING:tensorflow:Reduce LR on plateau conditioned on metric `val_loss` which is not available. Available metrics are: loss,lr\n",
            "50029/50029 [==============================] - 1s 17us/sample - loss: 0.1709\n",
            "Epoch 18/200\n",
            "47616/50029 [===========================>..] - ETA: 0s - loss: 0.1691WARNING:tensorflow:Reduce LR on plateau conditioned on metric `val_loss` which is not available. Available metrics are: loss,lr\n",
            "50029/50029 [==============================] - 1s 17us/sample - loss: 0.1690\n",
            "Epoch 19/200\n",
            "48768/50029 [============================>.] - ETA: 0s - loss: 0.1648WARNING:tensorflow:Reduce LR on plateau conditioned on metric `val_loss` which is not available. Available metrics are: loss,lr\n",
            "50029/50029 [==============================] - 1s 17us/sample - loss: 0.1647\n",
            "Epoch 20/200\n",
            "49792/50029 [============================>.] - ETA: 0s - loss: 0.1607WARNING:tensorflow:Reduce LR on plateau conditioned on metric `val_loss` which is not available. Available metrics are: loss,lr\n",
            "50029/50029 [==============================] - 1s 18us/sample - loss: 0.1609\n",
            "Epoch 21/200\n",
            "48768/50029 [============================>.] - ETA: 0s - loss: 0.1623WARNING:tensorflow:Reduce LR on plateau conditioned on metric `val_loss` which is not available. Available metrics are: loss,lr\n",
            "50029/50029 [==============================] - 1s 17us/sample - loss: 0.1618\n",
            "Epoch 22/200\n",
            "48000/50029 [===========================>..] - ETA: 0s - loss: 0.1576WARNING:tensorflow:Reduce LR on plateau conditioned on metric `val_loss` which is not available. Available metrics are: loss,lr\n",
            "50029/50029 [==============================] - 1s 17us/sample - loss: 0.1577\n",
            "Epoch 23/200\n",
            "48768/50029 [============================>.] - ETA: 0s - loss: 0.1536WARNING:tensorflow:Reduce LR on plateau conditioned on metric `val_loss` which is not available. Available metrics are: loss,lr\n",
            "50029/50029 [==============================] - 1s 17us/sample - loss: 0.1536\n",
            "Epoch 24/200\n",
            "47872/50029 [===========================>..] - ETA: 0s - loss: 0.1543WARNING:tensorflow:Reduce LR on plateau conditioned on metric `val_loss` which is not available. Available metrics are: loss,lr\n",
            "50029/50029 [==============================] - 1s 17us/sample - loss: 0.1540\n",
            "Epoch 25/200\n",
            "49536/50029 [============================>.] - ETA: 0s - loss: 0.1476WARNING:tensorflow:Reduce LR on plateau conditioned on metric `val_loss` which is not available. Available metrics are: loss,lr\n",
            "50029/50029 [==============================] - 1s 18us/sample - loss: 0.1476\n",
            "Epoch 26/200\n",
            "48384/50029 [============================>.] - ETA: 0s - loss: 0.1503WARNING:tensorflow:Reduce LR on plateau conditioned on metric `val_loss` which is not available. Available metrics are: loss,lr\n",
            "50029/50029 [==============================] - 1s 17us/sample - loss: 0.1505\n",
            "Epoch 27/200\n",
            "48896/50029 [============================>.] - ETA: 0s - loss: 0.1445WARNING:tensorflow:Reduce LR on plateau conditioned on metric `val_loss` which is not available. Available metrics are: loss,lr\n",
            "50029/50029 [==============================] - 1s 17us/sample - loss: 0.1446\n",
            "Epoch 28/200\n",
            "48768/50029 [============================>.] - ETA: 0s - loss: 0.1437WARNING:tensorflow:Reduce LR on plateau conditioned on metric `val_loss` which is not available. Available metrics are: loss,lr\n",
            "50029/50029 [==============================] - 1s 18us/sample - loss: 0.1438\n",
            "Epoch 29/200\n",
            "48000/50029 [===========================>..] - ETA: 0s - loss: 0.1425WARNING:tensorflow:Reduce LR on plateau conditioned on metric `val_loss` which is not available. Available metrics are: loss,lr\n",
            "50029/50029 [==============================] - 1s 17us/sample - loss: 0.1422\n",
            "Epoch 30/200\n",
            "49408/50029 [============================>.] - ETA: 0s - loss: 0.1403WARNING:tensorflow:Reduce LR on plateau conditioned on metric `val_loss` which is not available. Available metrics are: loss,lr\n",
            "50029/50029 [==============================] - 1s 18us/sample - loss: 0.1406\n",
            "Epoch 31/200\n",
            "48512/50029 [============================>.] - ETA: 0s - loss: 0.1382WARNING:tensorflow:Reduce LR on plateau conditioned on metric `val_loss` which is not available. Available metrics are: loss,lr\n",
            "50029/50029 [==============================] - 1s 17us/sample - loss: 0.1384\n",
            "Epoch 32/200\n",
            "49280/50029 [============================>.] - ETA: 0s - loss: 0.1354WARNING:tensorflow:Reduce LR on plateau conditioned on metric `val_loss` which is not available. Available metrics are: loss,lr\n",
            "50029/50029 [==============================] - 1s 18us/sample - loss: 0.1354\n",
            "Epoch 33/200\n",
            "48000/50029 [===========================>..] - ETA: 0s - loss: 0.1358WARNING:tensorflow:Reduce LR on plateau conditioned on metric `val_loss` which is not available. Available metrics are: loss,lr\n",
            "50029/50029 [==============================] - 1s 17us/sample - loss: 0.1357\n",
            "Epoch 34/200\n",
            "47872/50029 [===========================>..] - ETA: 0s - loss: 0.1336WARNING:tensorflow:Reduce LR on plateau conditioned on metric `val_loss` which is not available. Available metrics are: loss,lr\n",
            "50029/50029 [==============================] - 1s 17us/sample - loss: 0.1337\n",
            "Epoch 35/200\n",
            "47488/50029 [===========================>..] - ETA: 0s - loss: 0.1311WARNING:tensorflow:Reduce LR on plateau conditioned on metric `val_loss` which is not available. Available metrics are: loss,lr\n",
            "50029/50029 [==============================] - 1s 17us/sample - loss: 0.1321\n",
            "Epoch 36/200\n",
            "47872/50029 [===========================>..] - ETA: 0s - loss: 0.1314WARNING:tensorflow:Reduce LR on plateau conditioned on metric `val_loss` which is not available. Available metrics are: loss,lr\n",
            "50029/50029 [==============================] - 1s 17us/sample - loss: 0.1309\n",
            "Epoch 37/200\n",
            "49408/50029 [============================>.] - ETA: 0s - loss: 0.1298WARNING:tensorflow:Reduce LR on plateau conditioned on metric `val_loss` which is not available. Available metrics are: loss,lr\n",
            "50029/50029 [==============================] - 1s 18us/sample - loss: 0.1298\n",
            "Epoch 38/200\n",
            "48896/50029 [============================>.] - ETA: 0s - loss: 0.1281WARNING:tensorflow:Reduce LR on plateau conditioned on metric `val_loss` which is not available. Available metrics are: loss,lr\n",
            "50029/50029 [==============================] - 1s 17us/sample - loss: 0.1280\n",
            "Epoch 39/200\n",
            "47872/50029 [===========================>..] - ETA: 0s - loss: 0.1254WARNING:tensorflow:Reduce LR on plateau conditioned on metric `val_loss` which is not available. Available metrics are: loss,lr\n",
            "50029/50029 [==============================] - 1s 17us/sample - loss: 0.1251\n",
            "Epoch 40/200\n",
            "48000/50029 [===========================>..] - ETA: 0s - loss: 0.1254WARNING:tensorflow:Reduce LR on plateau conditioned on metric `val_loss` which is not available. Available metrics are: loss,lr\n",
            "50029/50029 [==============================] - 1s 17us/sample - loss: 0.1260\n",
            "Epoch 41/200\n",
            "48000/50029 [===========================>..] - ETA: 0s - loss: 0.1263WARNING:tensorflow:Reduce LR on plateau conditioned on metric `val_loss` which is not available. Available metrics are: loss,lr\n",
            "50029/50029 [==============================] - 1s 17us/sample - loss: 0.1262\n",
            "Epoch 42/200\n",
            "48512/50029 [============================>.] - ETA: 0s - loss: 0.1230WARNING:tensorflow:Reduce LR on plateau conditioned on metric `val_loss` which is not available. Available metrics are: loss,lr\n",
            "50029/50029 [==============================] - 1s 17us/sample - loss: 0.1229\n",
            "Epoch 43/200\n",
            "46976/50029 [===========================>..] - ETA: 0s - loss: 0.1219WARNING:tensorflow:Reduce LR on plateau conditioned on metric `val_loss` which is not available. Available metrics are: loss,lr\n",
            "50029/50029 [==============================] - 1s 17us/sample - loss: 0.1221\n",
            "Epoch 44/200\n",
            "48384/50029 [============================>.] - ETA: 0s - loss: 0.1206WARNING:tensorflow:Reduce LR on plateau conditioned on metric `val_loss` which is not available. Available metrics are: loss,lr\n",
            "50029/50029 [==============================] - 1s 17us/sample - loss: 0.1212\n",
            "Epoch 45/200\n",
            "49920/50029 [============================>.] - ETA: 0s - loss: 0.1202WARNING:tensorflow:Reduce LR on plateau conditioned on metric `val_loss` which is not available. Available metrics are: loss,lr\n",
            "50029/50029 [==============================] - 1s 17us/sample - loss: 0.1202\n",
            "Epoch 46/200\n",
            "48768/50029 [============================>.] - ETA: 0s - loss: 0.1200WARNING:tensorflow:Reduce LR on plateau conditioned on metric `val_loss` which is not available. Available metrics are: loss,lr\n",
            "50029/50029 [==============================] - 1s 17us/sample - loss: 0.1200\n",
            "Epoch 47/200\n",
            "49920/50029 [============================>.] - ETA: 0s - loss: 0.1172WARNING:tensorflow:Reduce LR on plateau conditioned on metric `val_loss` which is not available. Available metrics are: loss,lr\n",
            "50029/50029 [==============================] - 1s 18us/sample - loss: 0.1172\n",
            "Epoch 48/200\n",
            "48000/50029 [===========================>..] - ETA: 0s - loss: 0.1156WARNING:tensorflow:Reduce LR on plateau conditioned on metric `val_loss` which is not available. Available metrics are: loss,lr\n",
            "50029/50029 [==============================] - 1s 17us/sample - loss: 0.1163\n",
            "Epoch 49/200\n",
            "49536/50029 [============================>.] - ETA: 0s - loss: 0.1161WARNING:tensorflow:Reduce LR on plateau conditioned on metric `val_loss` which is not available. Available metrics are: loss,lr\n",
            "50029/50029 [==============================] - 1s 18us/sample - loss: 0.1160\n",
            "Epoch 50/200\n",
            "49920/50029 [============================>.] - ETA: 0s - loss: 0.1180WARNING:tensorflow:Reduce LR on plateau conditioned on metric `val_loss` which is not available. Available metrics are: loss,lr\n",
            "50029/50029 [==============================] - 1s 18us/sample - loss: 0.1180\n",
            "Epoch 51/200\n",
            "49792/50029 [============================>.] - ETA: 0s - loss: 0.1154WARNING:tensorflow:Reduce LR on plateau conditioned on metric `val_loss` which is not available. Available metrics are: loss,lr\n",
            "50029/50029 [==============================] - 1s 18us/sample - loss: 0.1154\n",
            "Epoch 52/200\n",
            "49024/50029 [============================>.] - ETA: 0s - loss: 0.1121WARNING:tensorflow:Reduce LR on plateau conditioned on metric `val_loss` which is not available. Available metrics are: loss,lr\n",
            "50029/50029 [==============================] - 1s 18us/sample - loss: 0.1124\n",
            "Epoch 53/200\n",
            "47616/50029 [===========================>..] - ETA: 0s - loss: 0.1153WARNING:tensorflow:Reduce LR on plateau conditioned on metric `val_loss` which is not available. Available metrics are: loss,lr\n",
            "50029/50029 [==============================] - 1s 17us/sample - loss: 0.1153\n",
            "Epoch 54/200\n",
            "49664/50029 [============================>.] - ETA: 0s - loss: 0.1111WARNING:tensorflow:Reduce LR on plateau conditioned on metric `val_loss` which is not available. Available metrics are: loss,lr\n",
            "50029/50029 [==============================] - 1s 18us/sample - loss: 0.1111\n",
            "Epoch 55/200\n",
            "47872/50029 [===========================>..] - ETA: 0s - loss: 0.1103WARNING:tensorflow:Reduce LR on plateau conditioned on metric `val_loss` which is not available. Available metrics are: loss,lr\n",
            "50029/50029 [==============================] - 1s 17us/sample - loss: 0.1100\n",
            "Epoch 56/200\n",
            "49024/50029 [============================>.] - ETA: 0s - loss: 0.1098WARNING:tensorflow:Reduce LR on plateau conditioned on metric `val_loss` which is not available. Available metrics are: loss,lr\n",
            "50029/50029 [==============================] - 1s 17us/sample - loss: 0.1099\n",
            "Epoch 57/200\n",
            "48000/50029 [===========================>..] - ETA: 0s - loss: 0.1118WARNING:tensorflow:Reduce LR on plateau conditioned on metric `val_loss` which is not available. Available metrics are: loss,lr\n",
            "50029/50029 [==============================] - 1s 17us/sample - loss: 0.1118\n",
            "Epoch 58/200\n",
            "47872/50029 [===========================>..] - ETA: 0s - loss: 0.1127WARNING:tensorflow:Reduce LR on plateau conditioned on metric `val_loss` which is not available. Available metrics are: loss,lr\n",
            "50029/50029 [==============================] - 1s 17us/sample - loss: 0.1127\n",
            "Epoch 59/200\n",
            "48640/50029 [============================>.] - ETA: 0s - loss: 0.1073WARNING:tensorflow:Reduce LR on plateau conditioned on metric `val_loss` which is not available. Available metrics are: loss,lr\n",
            "50029/50029 [==============================] - 1s 17us/sample - loss: 0.1076\n",
            "Epoch 60/200\n",
            "47488/50029 [===========================>..] - ETA: 0s - loss: 0.1090WARNING:tensorflow:Reduce LR on plateau conditioned on metric `val_loss` which is not available. Available metrics are: loss,lr\n",
            "50029/50029 [==============================] - 1s 17us/sample - loss: 0.1090\n",
            "Epoch 61/200\n",
            "47104/50029 [===========================>..] - ETA: 0s - loss: 0.1067WARNING:tensorflow:Reduce LR on plateau conditioned on metric `val_loss` which is not available. Available metrics are: loss,lr\n",
            "50029/50029 [==============================] - 1s 17us/sample - loss: 0.1066\n",
            "Epoch 62/200\n",
            "47744/50029 [===========================>..] - ETA: 0s - loss: 0.1062WARNING:tensorflow:Reduce LR on plateau conditioned on metric `val_loss` which is not available. Available metrics are: loss,lr\n",
            "50029/50029 [==============================] - 1s 17us/sample - loss: 0.1060\n",
            "Epoch 63/200\n",
            "48256/50029 [===========================>..] - ETA: 0s - loss: 0.1075WARNING:tensorflow:Reduce LR on plateau conditioned on metric `val_loss` which is not available. Available metrics are: loss,lr\n",
            "50029/50029 [==============================] - 1s 17us/sample - loss: 0.1078\n",
            "Epoch 64/200\n",
            "48384/50029 [============================>.] - ETA: 0s - loss: 0.1082WARNING:tensorflow:Reduce LR on plateau conditioned on metric `val_loss` which is not available. Available metrics are: loss,lr\n",
            "50029/50029 [==============================] - 1s 17us/sample - loss: 0.1079\n",
            "Epoch 65/200\n",
            "47360/50029 [===========================>..] - ETA: 0s - loss: 0.1037WARNING:tensorflow:Reduce LR on plateau conditioned on metric `val_loss` which is not available. Available metrics are: loss,lr\n",
            "50029/50029 [==============================] - 1s 17us/sample - loss: 0.1039\n",
            "Epoch 66/200\n",
            "48512/50029 [============================>.] - ETA: 0s - loss: 0.1047WARNING:tensorflow:Reduce LR on plateau conditioned on metric `val_loss` which is not available. Available metrics are: loss,lr\n",
            "50029/50029 [==============================] - 1s 17us/sample - loss: 0.1045\n",
            "Epoch 67/200\n",
            "47872/50029 [===========================>..] - ETA: 0s - loss: 0.1031WARNING:tensorflow:Reduce LR on plateau conditioned on metric `val_loss` which is not available. Available metrics are: loss,lr\n",
            "50029/50029 [==============================] - 1s 17us/sample - loss: 0.1029\n",
            "Epoch 68/200\n",
            "48256/50029 [===========================>..] - ETA: 0s - loss: 0.1012WARNING:tensorflow:Reduce LR on plateau conditioned on metric `val_loss` which is not available. Available metrics are: loss,lr\n",
            "50029/50029 [==============================] - 1s 17us/sample - loss: 0.1015\n",
            "Epoch 69/200\n",
            "48512/50029 [============================>.] - ETA: 0s - loss: 0.1040WARNING:tensorflow:Reduce LR on plateau conditioned on metric `val_loss` which is not available. Available metrics are: loss,lr\n",
            "50029/50029 [==============================] - 1s 17us/sample - loss: 0.1038\n",
            "Epoch 70/200\n",
            "47872/50029 [===========================>..] - ETA: 0s - loss: 0.1019WARNING:tensorflow:Reduce LR on plateau conditioned on metric `val_loss` which is not available. Available metrics are: loss,lr\n",
            "50029/50029 [==============================] - 1s 17us/sample - loss: 0.1017\n",
            "Epoch 71/200\n",
            "47360/50029 [===========================>..] - ETA: 0s - loss: 0.1014WARNING:tensorflow:Reduce LR on plateau conditioned on metric `val_loss` which is not available. Available metrics are: loss,lr\n",
            "50029/50029 [==============================] - 1s 17us/sample - loss: 0.1029\n",
            "Epoch 72/200\n",
            "48128/50029 [===========================>..] - ETA: 0s - loss: 0.1011WARNING:tensorflow:Reduce LR on plateau conditioned on metric `val_loss` which is not available. Available metrics are: loss,lr\n",
            "50029/50029 [==============================] - 1s 17us/sample - loss: 0.1012\n",
            "Epoch 73/200\n",
            "47616/50029 [===========================>..] - ETA: 0s - loss: 0.1018WARNING:tensorflow:Reduce LR on plateau conditioned on metric `val_loss` which is not available. Available metrics are: loss,lr\n",
            "50029/50029 [==============================] - 1s 17us/sample - loss: 0.1020\n",
            "Epoch 74/200\n",
            "48000/50029 [===========================>..] - ETA: 0s - loss: 0.0993WARNING:tensorflow:Reduce LR on plateau conditioned on metric `val_loss` which is not available. Available metrics are: loss,lr\n",
            "50029/50029 [==============================] - 1s 17us/sample - loss: 0.0993\n",
            "Epoch 75/200\n",
            "48384/50029 [============================>.] - ETA: 0s - loss: 0.0992WARNING:tensorflow:Reduce LR on plateau conditioned on metric `val_loss` which is not available. Available metrics are: loss,lr\n",
            "50029/50029 [==============================] - 1s 17us/sample - loss: 0.0992\n",
            "Epoch 76/200\n",
            "47232/50029 [===========================>..] - ETA: 0s - loss: 0.1010WARNING:tensorflow:Reduce LR on plateau conditioned on metric `val_loss` which is not available. Available metrics are: loss,lr\n",
            "50029/50029 [==============================] - 1s 17us/sample - loss: 0.1008\n",
            "Epoch 77/200\n",
            "49408/50029 [============================>.] - ETA: 0s - loss: 0.0975WARNING:tensorflow:Reduce LR on plateau conditioned on metric `val_loss` which is not available. Available metrics are: loss,lr\n",
            "50029/50029 [==============================] - 1s 18us/sample - loss: 0.0975\n",
            "Epoch 78/200\n",
            "48768/50029 [============================>.] - ETA: 0s - loss: 0.0972WARNING:tensorflow:Reduce LR on plateau conditioned on metric `val_loss` which is not available. Available metrics are: loss,lr\n",
            "50029/50029 [==============================] - 1s 17us/sample - loss: 0.0971\n",
            "Epoch 79/200\n",
            "47104/50029 [===========================>..] - ETA: 0s - loss: 0.0984WARNING:tensorflow:Reduce LR on plateau conditioned on metric `val_loss` which is not available. Available metrics are: loss,lr\n",
            "50029/50029 [==============================] - 1s 17us/sample - loss: 0.0986\n",
            "Epoch 80/200\n",
            "47488/50029 [===========================>..] - ETA: 0s - loss: 0.0965WARNING:tensorflow:Reduce LR on plateau conditioned on metric `val_loss` which is not available. Available metrics are: loss,lr\n",
            "50029/50029 [==============================] - 1s 17us/sample - loss: 0.0971\n",
            "Epoch 81/200\n",
            "48128/50029 [===========================>..] - ETA: 0s - loss: 0.0961WARNING:tensorflow:Reduce LR on plateau conditioned on metric `val_loss` which is not available. Available metrics are: loss,lr\n",
            "50029/50029 [==============================] - 1s 17us/sample - loss: 0.0960\n",
            "Epoch 82/200\n",
            "48640/50029 [============================>.] - ETA: 0s - loss: 0.0960WARNING:tensorflow:Reduce LR on plateau conditioned on metric `val_loss` which is not available. Available metrics are: loss,lr\n",
            "50029/50029 [==============================] - 1s 17us/sample - loss: 0.0957\n",
            "Epoch 83/200\n",
            "48768/50029 [============================>.] - ETA: 0s - loss: 0.0961WARNING:tensorflow:Reduce LR on plateau conditioned on metric `val_loss` which is not available. Available metrics are: loss,lr\n",
            "50029/50029 [==============================] - 1s 17us/sample - loss: 0.0960\n",
            "Epoch 84/200\n",
            "48256/50029 [===========================>..] - ETA: 0s - loss: 0.0956WARNING:tensorflow:Reduce LR on plateau conditioned on metric `val_loss` which is not available. Available metrics are: loss,lr\n",
            "50029/50029 [==============================] - 1s 18us/sample - loss: 0.0957\n",
            "Epoch 85/200\n",
            "47488/50029 [===========================>..] - ETA: 0s - loss: 0.0952WARNING:tensorflow:Reduce LR on plateau conditioned on metric `val_loss` which is not available. Available metrics are: loss,lr\n",
            "50029/50029 [==============================] - 1s 17us/sample - loss: 0.0952\n",
            "Epoch 86/200\n",
            "47616/50029 [===========================>..] - ETA: 0s - loss: 0.0944WARNING:tensorflow:Reduce LR on plateau conditioned on metric `val_loss` which is not available. Available metrics are: loss,lr\n",
            "50029/50029 [==============================] - 1s 17us/sample - loss: 0.0945\n",
            "Epoch 87/200\n",
            "48512/50029 [============================>.] - ETA: 0s - loss: 0.0954WARNING:tensorflow:Reduce LR on plateau conditioned on metric `val_loss` which is not available. Available metrics are: loss,lr\n",
            "50029/50029 [==============================] - 1s 17us/sample - loss: 0.0954\n",
            "Epoch 88/200\n",
            "48256/50029 [===========================>..] - ETA: 0s - loss: 0.0932WARNING:tensorflow:Reduce LR on plateau conditioned on metric `val_loss` which is not available. Available metrics are: loss,lr\n",
            "50029/50029 [==============================] - 1s 17us/sample - loss: 0.0931\n",
            "Epoch 89/200\n",
            "47616/50029 [===========================>..] - ETA: 0s - loss: 0.0931WARNING:tensorflow:Reduce LR on plateau conditioned on metric `val_loss` which is not available. Available metrics are: loss,lr\n",
            "50029/50029 [==============================] - 1s 17us/sample - loss: 0.0931\n",
            "Epoch 90/200\n",
            "49024/50029 [============================>.] - ETA: 0s - loss: 0.0953WARNING:tensorflow:Reduce LR on plateau conditioned on metric `val_loss` which is not available. Available metrics are: loss,lr\n",
            "50029/50029 [==============================] - 1s 18us/sample - loss: 0.0952\n",
            "Epoch 91/200\n",
            "49152/50029 [============================>.] - ETA: 0s - loss: 0.0933WARNING:tensorflow:Reduce LR on plateau conditioned on metric `val_loss` which is not available. Available metrics are: loss,lr\n",
            "50029/50029 [==============================] - 1s 18us/sample - loss: 0.0933\n",
            "Epoch 92/200\n",
            "49408/50029 [============================>.] - ETA: 0s - loss: 0.0903WARNING:tensorflow:Reduce LR on plateau conditioned on metric `val_loss` which is not available. Available metrics are: loss,lr\n",
            "50029/50029 [==============================] - 1s 18us/sample - loss: 0.0903\n",
            "Epoch 93/200\n",
            "47616/50029 [===========================>..] - ETA: 0s - loss: 0.0915WARNING:tensorflow:Reduce LR on plateau conditioned on metric `val_loss` which is not available. Available metrics are: loss,lr\n",
            "50029/50029 [==============================] - 1s 17us/sample - loss: 0.0925\n",
            "Epoch 94/200\n",
            "47232/50029 [===========================>..] - ETA: 0s - loss: 0.0925WARNING:tensorflow:Reduce LR on plateau conditioned on metric `val_loss` which is not available. Available metrics are: loss,lr\n",
            "50029/50029 [==============================] - 1s 18us/sample - loss: 0.0928\n",
            "Epoch 95/200\n",
            "48000/50029 [===========================>..] - ETA: 0s - loss: 0.0910WARNING:tensorflow:Reduce LR on plateau conditioned on metric `val_loss` which is not available. Available metrics are: loss,lr\n",
            "50029/50029 [==============================] - 1s 17us/sample - loss: 0.0909\n",
            "Epoch 96/200\n",
            "49664/50029 [============================>.] - ETA: 0s - loss: 0.0907WARNING:tensorflow:Reduce LR on plateau conditioned on metric `val_loss` which is not available. Available metrics are: loss,lr\n",
            "50029/50029 [==============================] - 1s 18us/sample - loss: 0.0907\n",
            "Epoch 97/200\n",
            "47616/50029 [===========================>..] - ETA: 0s - loss: 0.0914WARNING:tensorflow:Reduce LR on plateau conditioned on metric `val_loss` which is not available. Available metrics are: loss,lr\n",
            "50029/50029 [==============================] - 1s 17us/sample - loss: 0.0911\n",
            "Epoch 98/200\n",
            "47744/50029 [===========================>..] - ETA: 0s - loss: 0.0897WARNING:tensorflow:Reduce LR on plateau conditioned on metric `val_loss` which is not available. Available metrics are: loss,lr\n",
            "50029/50029 [==============================] - 1s 17us/sample - loss: 0.0897\n",
            "Epoch 99/200\n",
            "48640/50029 [============================>.] - ETA: 0s - loss: 0.0893WARNING:tensorflow:Reduce LR on plateau conditioned on metric `val_loss` which is not available. Available metrics are: loss,lr\n",
            "50029/50029 [==============================] - 1s 18us/sample - loss: 0.0899\n",
            "Epoch 100/200\n",
            "48512/50029 [============================>.] - ETA: 0s - loss: 0.0903WARNING:tensorflow:Reduce LR on plateau conditioned on metric `val_loss` which is not available. Available metrics are: loss,lr\n",
            "50029/50029 [==============================] - 1s 17us/sample - loss: 0.0905\n",
            "Epoch 101/200\n",
            "48512/50029 [============================>.] - ETA: 0s - loss: 0.0899WARNING:tensorflow:Reduce LR on plateau conditioned on metric `val_loss` which is not available. Available metrics are: loss,lr\n",
            "50029/50029 [==============================] - 1s 17us/sample - loss: 0.0898\n",
            "Epoch 102/200\n",
            "49024/50029 [============================>.] - ETA: 0s - loss: 0.0877WARNING:tensorflow:Reduce LR on plateau conditioned on metric `val_loss` which is not available. Available metrics are: loss,lr\n",
            "50029/50029 [==============================] - 1s 17us/sample - loss: 0.0878\n",
            "Epoch 103/200\n",
            "48000/50029 [===========================>..] - ETA: 0s - loss: 0.0880WARNING:tensorflow:Reduce LR on plateau conditioned on metric `val_loss` which is not available. Available metrics are: loss,lr\n",
            "50029/50029 [==============================] - 1s 17us/sample - loss: 0.0880\n",
            "Epoch 104/200\n",
            "49664/50029 [============================>.] - ETA: 0s - loss: 0.0879WARNING:tensorflow:Reduce LR on plateau conditioned on metric `val_loss` which is not available. Available metrics are: loss,lr\n",
            "50029/50029 [==============================] - 1s 17us/sample - loss: 0.0879\n",
            "Epoch 105/200\n",
            "49024/50029 [============================>.] - ETA: 0s - loss: 0.0878WARNING:tensorflow:Reduce LR on plateau conditioned on metric `val_loss` which is not available. Available metrics are: loss,lr\n",
            "50029/50029 [==============================] - 1s 17us/sample - loss: 0.0877\n",
            "Epoch 106/200\n",
            "49792/50029 [============================>.] - ETA: 0s - loss: 0.0895WARNING:tensorflow:Reduce LR on plateau conditioned on metric `val_loss` which is not available. Available metrics are: loss,lr\n",
            "50029/50029 [==============================] - 1s 18us/sample - loss: 0.0894\n",
            "Epoch 107/200\n",
            "49152/50029 [============================>.] - ETA: 0s - loss: 0.0859WARNING:tensorflow:Reduce LR on plateau conditioned on metric `val_loss` which is not available. Available metrics are: loss,lr\n",
            "50029/50029 [==============================] - 1s 17us/sample - loss: 0.0859\n",
            "Epoch 108/200\n",
            "48000/50029 [===========================>..] - ETA: 0s - loss: 0.0870WARNING:tensorflow:Reduce LR on plateau conditioned on metric `val_loss` which is not available. Available metrics are: loss,lr\n",
            "50029/50029 [==============================] - 1s 17us/sample - loss: 0.0870\n",
            "Epoch 109/200\n",
            "47744/50029 [===========================>..] - ETA: 0s - loss: 0.0867WARNING:tensorflow:Reduce LR on plateau conditioned on metric `val_loss` which is not available. Available metrics are: loss,lr\n",
            "50029/50029 [==============================] - 1s 17us/sample - loss: 0.0865\n",
            "Epoch 110/200\n",
            "47488/50029 [===========================>..] - ETA: 0s - loss: 0.0859WARNING:tensorflow:Reduce LR on plateau conditioned on metric `val_loss` which is not available. Available metrics are: loss,lr\n",
            "50029/50029 [==============================] - 1s 17us/sample - loss: 0.0857\n",
            "Epoch 111/200\n",
            "48512/50029 [============================>.] - ETA: 0s - loss: 0.0861WARNING:tensorflow:Reduce LR on plateau conditioned on metric `val_loss` which is not available. Available metrics are: loss,lr\n",
            "50029/50029 [==============================] - 1s 17us/sample - loss: 0.0861\n",
            "Epoch 112/200\n",
            "47104/50029 [===========================>..] - ETA: 0s - loss: 0.0876WARNING:tensorflow:Reduce LR on plateau conditioned on metric `val_loss` which is not available. Available metrics are: loss,lr\n",
            "50029/50029 [==============================] - 1s 18us/sample - loss: 0.0872\n",
            "Epoch 113/200\n",
            "49536/50029 [============================>.] - ETA: 0s - loss: 0.0852WARNING:tensorflow:Reduce LR on plateau conditioned on metric `val_loss` which is not available. Available metrics are: loss,lr\n",
            "50029/50029 [==============================] - 1s 17us/sample - loss: 0.0851\n",
            "Epoch 114/200\n",
            "49280/50029 [============================>.] - ETA: 0s - loss: 0.0838WARNING:tensorflow:Reduce LR on plateau conditioned on metric `val_loss` which is not available. Available metrics are: loss,lr\n",
            "50029/50029 [==============================] - 1s 17us/sample - loss: 0.0838\n",
            "Epoch 115/200\n",
            "49920/50029 [============================>.] - ETA: 0s - loss: 0.0839WARNING:tensorflow:Reduce LR on plateau conditioned on metric `val_loss` which is not available. Available metrics are: loss,lr\n",
            "50029/50029 [==============================] - 1s 17us/sample - loss: 0.0839\n",
            "Epoch 116/200\n",
            "48640/50029 [============================>.] - ETA: 0s - loss: 0.0840WARNING:tensorflow:Reduce LR on plateau conditioned on metric `val_loss` which is not available. Available metrics are: loss,lr\n",
            "50029/50029 [==============================] - 1s 17us/sample - loss: 0.0839\n",
            "Epoch 117/200\n",
            "48384/50029 [============================>.] - ETA: 0s - loss: 0.0849WARNING:tensorflow:Reduce LR on plateau conditioned on metric `val_loss` which is not available. Available metrics are: loss,lr\n",
            "50029/50029 [==============================] - 1s 17us/sample - loss: 0.0848\n",
            "Epoch 118/200\n",
            "47360/50029 [===========================>..] - ETA: 0s - loss: 0.0846WARNING:tensorflow:Reduce LR on plateau conditioned on metric `val_loss` which is not available. Available metrics are: loss,lr\n",
            "50029/50029 [==============================] - 1s 17us/sample - loss: 0.0847\n",
            "Epoch 119/200\n",
            "49920/50029 [============================>.] - ETA: 0s - loss: 0.0828WARNING:tensorflow:Reduce LR on plateau conditioned on metric `val_loss` which is not available. Available metrics are: loss,lr\n",
            "50029/50029 [==============================] - 1s 18us/sample - loss: 0.0829\n",
            "Epoch 120/200\n",
            "49664/50029 [============================>.] - ETA: 0s - loss: 0.0847WARNING:tensorflow:Reduce LR on plateau conditioned on metric `val_loss` which is not available. Available metrics are: loss,lr\n",
            "50029/50029 [==============================] - 1s 18us/sample - loss: 0.0847\n",
            "Epoch 121/200\n",
            "48896/50029 [============================>.] - ETA: 0s - loss: 0.0815WARNING:tensorflow:Reduce LR on plateau conditioned on metric `val_loss` which is not available. Available metrics are: loss,lr\n",
            "50029/50029 [==============================] - 1s 18us/sample - loss: 0.0815\n",
            "Epoch 122/200\n",
            "48128/50029 [===========================>..] - ETA: 0s - loss: 0.0820WARNING:tensorflow:Reduce LR on plateau conditioned on metric `val_loss` which is not available. Available metrics are: loss,lr\n",
            "50029/50029 [==============================] - 1s 17us/sample - loss: 0.0818\n",
            "Epoch 123/200\n",
            "48768/50029 [============================>.] - ETA: 0s - loss: 0.0820WARNING:tensorflow:Reduce LR on plateau conditioned on metric `val_loss` which is not available. Available metrics are: loss,lr\n",
            "50029/50029 [==============================] - 1s 17us/sample - loss: 0.0820\n",
            "Epoch 124/200\n",
            "47232/50029 [===========================>..] - ETA: 0s - loss: 0.0840WARNING:tensorflow:Reduce LR on plateau conditioned on metric `val_loss` which is not available. Available metrics are: loss,lr\n",
            "50029/50029 [==============================] - 1s 17us/sample - loss: 0.0837\n",
            "Epoch 125/200\n",
            "48384/50029 [============================>.] - ETA: 0s - loss: 0.0815WARNING:tensorflow:Reduce LR on plateau conditioned on metric `val_loss` which is not available. Available metrics are: loss,lr\n",
            "50029/50029 [==============================] - 1s 17us/sample - loss: 0.0817\n",
            "Epoch 126/200\n",
            "47872/50029 [===========================>..] - ETA: 0s - loss: 0.0802WARNING:tensorflow:Reduce LR on plateau conditioned on metric `val_loss` which is not available. Available metrics are: loss,lr\n",
            "50029/50029 [==============================] - 1s 17us/sample - loss: 0.0803\n",
            "Epoch 127/200\n",
            "47744/50029 [===========================>..] - ETA: 0s - loss: 0.0810WARNING:tensorflow:Reduce LR on plateau conditioned on metric `val_loss` which is not available. Available metrics are: loss,lr\n",
            "50029/50029 [==============================] - 1s 17us/sample - loss: 0.0810\n",
            "Epoch 128/200\n",
            "48640/50029 [============================>.] - ETA: 0s - loss: 0.0813WARNING:tensorflow:Reduce LR on plateau conditioned on metric `val_loss` which is not available. Available metrics are: loss,lr\n",
            "50029/50029 [==============================] - 1s 17us/sample - loss: 0.0813\n",
            "Epoch 129/200\n",
            "48384/50029 [============================>.] - ETA: 0s - loss: 0.0816WARNING:tensorflow:Reduce LR on plateau conditioned on metric `val_loss` which is not available. Available metrics are: loss,lr\n",
            "50029/50029 [==============================] - 1s 17us/sample - loss: 0.0816\n",
            "Epoch 130/200\n",
            "48640/50029 [============================>.] - ETA: 0s - loss: 0.0810WARNING:tensorflow:Reduce LR on plateau conditioned on metric `val_loss` which is not available. Available metrics are: loss,lr\n",
            "50029/50029 [==============================] - 1s 17us/sample - loss: 0.0810\n",
            "Epoch 131/200\n",
            "47616/50029 [===========================>..] - ETA: 0s - loss: 0.0797WARNING:tensorflow:Reduce LR on plateau conditioned on metric `val_loss` which is not available. Available metrics are: loss,lr\n",
            "50029/50029 [==============================] - 1s 17us/sample - loss: 0.0797\n",
            "Epoch 132/200\n",
            "48384/50029 [============================>.] - ETA: 0s - loss: 0.0799WARNING:tensorflow:Reduce LR on plateau conditioned on metric `val_loss` which is not available. Available metrics are: loss,lr\n",
            "50029/50029 [==============================] - 1s 18us/sample - loss: 0.0799\n",
            "Epoch 133/200\n",
            "47744/50029 [===========================>..] - ETA: 0s - loss: 0.0792WARNING:tensorflow:Reduce LR on plateau conditioned on metric `val_loss` which is not available. Available metrics are: loss,lr\n",
            "50029/50029 [==============================] - 1s 19us/sample - loss: 0.0790\n",
            "Epoch 134/200\n",
            "48640/50029 [============================>.] - ETA: 0s - loss: 0.0784WARNING:tensorflow:Reduce LR on plateau conditioned on metric `val_loss` which is not available. Available metrics are: loss,lr\n",
            "50029/50029 [==============================] - 1s 18us/sample - loss: 0.0785\n",
            "Epoch 135/200\n",
            "49408/50029 [============================>.] - ETA: 0s - loss: 0.0786WARNING:tensorflow:Reduce LR on plateau conditioned on metric `val_loss` which is not available. Available metrics are: loss,lr\n",
            "50029/50029 [==============================] - 1s 18us/sample - loss: 0.0786\n",
            "Epoch 136/200\n",
            "48000/50029 [===========================>..] - ETA: 0s - loss: 0.0794WARNING:tensorflow:Reduce LR on plateau conditioned on metric `val_loss` which is not available. Available metrics are: loss,lr\n",
            "50029/50029 [==============================] - 1s 18us/sample - loss: 0.0793\n",
            "Epoch 137/200\n",
            "49664/50029 [============================>.] - ETA: 0s - loss: 0.0782WARNING:tensorflow:Reduce LR on plateau conditioned on metric `val_loss` which is not available. Available metrics are: loss,lr\n",
            "50029/50029 [==============================] - 1s 19us/sample - loss: 0.0782\n",
            "Epoch 138/200\n",
            "48640/50029 [============================>.] - ETA: 0s - loss: 0.0795WARNING:tensorflow:Reduce LR on plateau conditioned on metric `val_loss` which is not available. Available metrics are: loss,lr\n",
            "50029/50029 [==============================] - 1s 18us/sample - loss: 0.0798\n",
            "Epoch 139/200\n",
            "47360/50029 [===========================>..] - ETA: 0s - loss: 0.0774WARNING:tensorflow:Reduce LR on plateau conditioned on metric `val_loss` which is not available. Available metrics are: loss,lr\n",
            "50029/50029 [==============================] - 1s 18us/sample - loss: 0.0781\n",
            "Epoch 140/200\n",
            "47616/50029 [===========================>..] - ETA: 0s - loss: 0.0789WARNING:tensorflow:Reduce LR on plateau conditioned on metric `val_loss` which is not available. Available metrics are: loss,lr\n",
            "50029/50029 [==============================] - 1s 18us/sample - loss: 0.0789\n",
            "Epoch 141/200\n",
            "49280/50029 [============================>.] - ETA: 0s - loss: 0.0796WARNING:tensorflow:Reduce LR on plateau conditioned on metric `val_loss` which is not available. Available metrics are: loss,lr\n",
            "50029/50029 [==============================] - 1s 19us/sample - loss: 0.0795\n",
            "Epoch 142/200\n",
            "47360/50029 [===========================>..] - ETA: 0s - loss: 0.0777WARNING:tensorflow:Reduce LR on plateau conditioned on metric `val_loss` which is not available. Available metrics are: loss,lr\n",
            "50029/50029 [==============================] - 1s 19us/sample - loss: 0.0777\n",
            "Epoch 143/200\n",
            "47872/50029 [===========================>..] - ETA: 0s - loss: 0.0766WARNING:tensorflow:Reduce LR on plateau conditioned on metric `val_loss` which is not available. Available metrics are: loss,lr\n",
            "50029/50029 [==============================] - 1s 18us/sample - loss: 0.0767\n",
            "Epoch 144/200\n",
            "47360/50029 [===========================>..] - ETA: 0s - loss: 0.0769WARNING:tensorflow:Reduce LR on plateau conditioned on metric `val_loss` which is not available. Available metrics are: loss,lr\n",
            "50029/50029 [==============================] - 1s 17us/sample - loss: 0.0769\n",
            "Epoch 145/200\n",
            "47616/50029 [===========================>..] - ETA: 0s - loss: 0.0767WARNING:tensorflow:Reduce LR on plateau conditioned on metric `val_loss` which is not available. Available metrics are: loss,lr\n",
            "50029/50029 [==============================] - 1s 17us/sample - loss: 0.0768\n",
            "Epoch 146/200\n",
            "47360/50029 [===========================>..] - ETA: 0s - loss: 0.0781WARNING:tensorflow:Reduce LR on plateau conditioned on metric `val_loss` which is not available. Available metrics are: loss,lr\n",
            "50029/50029 [==============================] - 1s 18us/sample - loss: 0.0783\n",
            "Epoch 147/200\n",
            "47872/50029 [===========================>..] - ETA: 0s - loss: 0.0780WARNING:tensorflow:Reduce LR on plateau conditioned on metric `val_loss` which is not available. Available metrics are: loss,lr\n",
            "50029/50029 [==============================] - 1s 17us/sample - loss: 0.0779\n",
            "Epoch 148/200\n",
            "49408/50029 [============================>.] - ETA: 0s - loss: 0.0764WARNING:tensorflow:Reduce LR on plateau conditioned on metric `val_loss` which is not available. Available metrics are: loss,lr\n",
            "50029/50029 [==============================] - 1s 18us/sample - loss: 0.0764\n",
            "Epoch 149/200\n",
            "48128/50029 [===========================>..] - ETA: 0s - loss: 0.0757WARNING:tensorflow:Reduce LR on plateau conditioned on metric `val_loss` which is not available. Available metrics are: loss,lr\n",
            "50029/50029 [==============================] - 1s 17us/sample - loss: 0.0757\n",
            "Epoch 150/200\n",
            "47744/50029 [===========================>..] - ETA: 0s - loss: 0.0757WARNING:tensorflow:Reduce LR on plateau conditioned on metric `val_loss` which is not available. Available metrics are: loss,lr\n",
            "50029/50029 [==============================] - 1s 17us/sample - loss: 0.0759\n",
            "Epoch 151/200\n",
            "49792/50029 [============================>.] - ETA: 0s - loss: 0.0768WARNING:tensorflow:Reduce LR on plateau conditioned on metric `val_loss` which is not available. Available metrics are: loss,lr\n",
            "50029/50029 [==============================] - 1s 17us/sample - loss: 0.0769\n",
            "Epoch 152/200\n",
            "48128/50029 [===========================>..] - ETA: 0s - loss: 0.0758WARNING:tensorflow:Reduce LR on plateau conditioned on metric `val_loss` which is not available. Available metrics are: loss,lr\n",
            "50029/50029 [==============================] - 1s 17us/sample - loss: 0.0758\n",
            "Epoch 153/200\n",
            "47488/50029 [===========================>..] - ETA: 0s - loss: 0.0765WARNING:tensorflow:Reduce LR on plateau conditioned on metric `val_loss` which is not available. Available metrics are: loss,lr\n",
            "50029/50029 [==============================] - 1s 17us/sample - loss: 0.0764\n",
            "Epoch 154/200\n",
            "48512/50029 [============================>.] - ETA: 0s - loss: 0.0770WARNING:tensorflow:Reduce LR on plateau conditioned on metric `val_loss` which is not available. Available metrics are: loss,lr\n",
            "50029/50029 [==============================] - 1s 17us/sample - loss: 0.0771\n",
            "Epoch 155/200\n",
            "47104/50029 [===========================>..] - ETA: 0s - loss: 0.0748WARNING:tensorflow:Reduce LR on plateau conditioned on metric `val_loss` which is not available. Available metrics are: loss,lr\n",
            "50029/50029 [==============================] - 1s 17us/sample - loss: 0.0748\n",
            "Epoch 156/200\n",
            "49792/50029 [============================>.] - ETA: 0s - loss: 0.0752WARNING:tensorflow:Reduce LR on plateau conditioned on metric `val_loss` which is not available. Available metrics are: loss,lr\n",
            "50029/50029 [==============================] - 1s 18us/sample - loss: 0.0752\n",
            "Epoch 157/200\n",
            "48000/50029 [===========================>..] - ETA: 0s - loss: 0.0735WARNING:tensorflow:Reduce LR on plateau conditioned on metric `val_loss` which is not available. Available metrics are: loss,lr\n",
            "50029/50029 [==============================] - 1s 17us/sample - loss: 0.0736\n",
            "Epoch 158/200\n",
            "49664/50029 [============================>.] - ETA: 0s - loss: 0.0749WARNING:tensorflow:Reduce LR on plateau conditioned on metric `val_loss` which is not available. Available metrics are: loss,lr\n",
            "50029/50029 [==============================] - 1s 18us/sample - loss: 0.0749\n",
            "Epoch 159/200\n",
            "47744/50029 [===========================>..] - ETA: 0s - loss: 0.0748WARNING:tensorflow:Reduce LR on plateau conditioned on metric `val_loss` which is not available. Available metrics are: loss,lr\n",
            "50029/50029 [==============================] - 1s 17us/sample - loss: 0.0749\n",
            "Epoch 160/200\n",
            "47872/50029 [===========================>..] - ETA: 0s - loss: 0.0745WARNING:tensorflow:Reduce LR on plateau conditioned on metric `val_loss` which is not available. Available metrics are: loss,lr\n",
            "50029/50029 [==============================] - 1s 17us/sample - loss: 0.0745\n",
            "Epoch 161/200\n",
            "48512/50029 [============================>.] - ETA: 0s - loss: 0.0741WARNING:tensorflow:Reduce LR on plateau conditioned on metric `val_loss` which is not available. Available metrics are: loss,lr\n",
            "50029/50029 [==============================] - 1s 17us/sample - loss: 0.0742\n",
            "Epoch 162/200\n",
            "48256/50029 [===========================>..] - ETA: 0s - loss: 0.0756WARNING:tensorflow:Reduce LR on plateau conditioned on metric `val_loss` which is not available. Available metrics are: loss,lr\n",
            "50029/50029 [==============================] - 1s 17us/sample - loss: 0.0757\n",
            "Epoch 163/200\n",
            "48640/50029 [============================>.] - ETA: 0s - loss: 0.0727WARNING:tensorflow:Reduce LR on plateau conditioned on metric `val_loss` which is not available. Available metrics are: loss,lr\n",
            "50029/50029 [==============================] - 1s 17us/sample - loss: 0.0728\n",
            "Epoch 164/200\n",
            "49536/50029 [============================>.] - ETA: 0s - loss: 0.0729WARNING:tensorflow:Reduce LR on plateau conditioned on metric `val_loss` which is not available. Available metrics are: loss,lr\n",
            "50029/50029 [==============================] - 1s 17us/sample - loss: 0.0729\n",
            "Epoch 165/200\n",
            "48768/50029 [============================>.] - ETA: 0s - loss: 0.0730WARNING:tensorflow:Reduce LR on plateau conditioned on metric `val_loss` which is not available. Available metrics are: loss,lr\n",
            "50029/50029 [==============================] - 1s 17us/sample - loss: 0.0730\n",
            "Epoch 166/200\n",
            "48640/50029 [============================>.] - ETA: 0s - loss: 0.0745WARNING:tensorflow:Reduce LR on plateau conditioned on metric `val_loss` which is not available. Available metrics are: loss,lr\n",
            "50029/50029 [==============================] - 1s 17us/sample - loss: 0.0743\n",
            "Epoch 167/200\n",
            "48768/50029 [============================>.] - ETA: 0s - loss: 0.0722WARNING:tensorflow:Reduce LR on plateau conditioned on metric `val_loss` which is not available. Available metrics are: loss,lr\n",
            "50029/50029 [==============================] - 1s 17us/sample - loss: 0.0723\n",
            "Epoch 168/200\n",
            "47744/50029 [===========================>..] - ETA: 0s - loss: 0.0735WARNING:tensorflow:Reduce LR on plateau conditioned on metric `val_loss` which is not available. Available metrics are: loss,lr\n",
            "50029/50029 [==============================] - 1s 18us/sample - loss: 0.0736\n",
            "Epoch 169/200\n",
            "49152/50029 [============================>.] - ETA: 0s - loss: 0.0738WARNING:tensorflow:Reduce LR on plateau conditioned on metric `val_loss` which is not available. Available metrics are: loss,lr\n",
            "50029/50029 [==============================] - 1s 18us/sample - loss: 0.0739\n",
            "Epoch 170/200\n",
            "49536/50029 [============================>.] - ETA: 0s - loss: 0.0734WARNING:tensorflow:Reduce LR on plateau conditioned on metric `val_loss` which is not available. Available metrics are: loss,lr\n",
            "50029/50029 [==============================] - 1s 18us/sample - loss: 0.0733\n",
            "Epoch 171/200\n",
            "48512/50029 [============================>.] - ETA: 0s - loss: 0.0718WARNING:tensorflow:Reduce LR on plateau conditioned on metric `val_loss` which is not available. Available metrics are: loss,lr\n",
            "50029/50029 [==============================] - 1s 18us/sample - loss: 0.0719\n",
            "Epoch 172/200\n",
            "47232/50029 [===========================>..] - ETA: 0s - loss: 0.0733WARNING:tensorflow:Reduce LR on plateau conditioned on metric `val_loss` which is not available. Available metrics are: loss,lr\n",
            "50029/50029 [==============================] - 1s 17us/sample - loss: 0.0731\n",
            "Epoch 173/200\n",
            "48896/50029 [============================>.] - ETA: 0s - loss: 0.0728WARNING:tensorflow:Reduce LR on plateau conditioned on metric `val_loss` which is not available. Available metrics are: loss,lr\n",
            "50029/50029 [==============================] - 1s 18us/sample - loss: 0.0729\n",
            "Epoch 174/200\n",
            "48000/50029 [===========================>..] - ETA: 0s - loss: 0.0731WARNING:tensorflow:Reduce LR on plateau conditioned on metric `val_loss` which is not available. Available metrics are: loss,lr\n",
            "50029/50029 [==============================] - 1s 17us/sample - loss: 0.0732\n",
            "Epoch 175/200\n",
            "48384/50029 [============================>.] - ETA: 0s - loss: 0.0707WARNING:tensorflow:Reduce LR on plateau conditioned on metric `val_loss` which is not available. Available metrics are: loss,lr\n",
            "50029/50029 [==============================] - 1s 17us/sample - loss: 0.0706\n",
            "Epoch 176/200\n",
            "47616/50029 [===========================>..] - ETA: 0s - loss: 0.0721WARNING:tensorflow:Reduce LR on plateau conditioned on metric `val_loss` which is not available. Available metrics are: loss,lr\n",
            "50029/50029 [==============================] - 1s 17us/sample - loss: 0.0720\n",
            "Epoch 177/200\n",
            "47232/50029 [===========================>..] - ETA: 0s - loss: 0.0715WARNING:tensorflow:Reduce LR on plateau conditioned on metric `val_loss` which is not available. Available metrics are: loss,lr\n",
            "50029/50029 [==============================] - 1s 17us/sample - loss: 0.0715\n",
            "Epoch 178/200\n",
            "49664/50029 [============================>.] - ETA: 0s - loss: 0.0735WARNING:tensorflow:Reduce LR on plateau conditioned on metric `val_loss` which is not available. Available metrics are: loss,lr\n",
            "50029/50029 [==============================] - 1s 17us/sample - loss: 0.0736\n",
            "Epoch 179/200\n",
            "48000/50029 [===========================>..] - ETA: 0s - loss: 0.0710WARNING:tensorflow:Reduce LR on plateau conditioned on metric `val_loss` which is not available. Available metrics are: loss,lr\n",
            "50029/50029 [==============================] - 1s 17us/sample - loss: 0.0710\n",
            "Epoch 180/200\n",
            "48128/50029 [===========================>..] - ETA: 0s - loss: 0.0706WARNING:tensorflow:Reduce LR on plateau conditioned on metric `val_loss` which is not available. Available metrics are: loss,lr\n",
            "50029/50029 [==============================] - 1s 18us/sample - loss: 0.0705\n",
            "Epoch 181/200\n",
            "47744/50029 [===========================>..] - ETA: 0s - loss: 0.0704WARNING:tensorflow:Reduce LR on plateau conditioned on metric `val_loss` which is not available. Available metrics are: loss,lr\n",
            "50029/50029 [==============================] - 1s 17us/sample - loss: 0.0706\n",
            "Epoch 182/200\n",
            "48000/50029 [===========================>..] - ETA: 0s - loss: 0.0703WARNING:tensorflow:Reduce LR on plateau conditioned on metric `val_loss` which is not available. Available metrics are: loss,lr\n",
            "50029/50029 [==============================] - 1s 17us/sample - loss: 0.0703\n",
            "Epoch 183/200\n",
            "48896/50029 [============================>.] - ETA: 0s - loss: 0.0700WARNING:tensorflow:Reduce LR on plateau conditioned on metric `val_loss` which is not available. Available metrics are: loss,lr\n",
            "50029/50029 [==============================] - 1s 17us/sample - loss: 0.0700\n",
            "Epoch 184/200\n",
            "48256/50029 [===========================>..] - ETA: 0s - loss: 0.0707WARNING:tensorflow:Reduce LR on plateau conditioned on metric `val_loss` which is not available. Available metrics are: loss,lr\n",
            "50029/50029 [==============================] - 1s 17us/sample - loss: 0.0705\n",
            "Epoch 185/200\n",
            "48128/50029 [===========================>..] - ETA: 0s - loss: 0.0703WARNING:tensorflow:Reduce LR on plateau conditioned on metric `val_loss` which is not available. Available metrics are: loss,lr\n",
            "50029/50029 [==============================] - 1s 17us/sample - loss: 0.0704\n",
            "Epoch 186/200\n",
            "47232/50029 [===========================>..] - ETA: 0s - loss: 0.0709WARNING:tensorflow:Reduce LR on plateau conditioned on metric `val_loss` which is not available. Available metrics are: loss,lr\n",
            "50029/50029 [==============================] - 1s 17us/sample - loss: 0.0709\n",
            "Epoch 187/200\n",
            "47872/50029 [===========================>..] - ETA: 0s - loss: 0.0706WARNING:tensorflow:Reduce LR on plateau conditioned on metric `val_loss` which is not available. Available metrics are: loss,lr\n",
            "50029/50029 [==============================] - 1s 17us/sample - loss: 0.0706\n",
            "Epoch 188/200\n",
            "48512/50029 [============================>.] - ETA: 0s - loss: 0.0689WARNING:tensorflow:Reduce LR on plateau conditioned on metric `val_loss` which is not available. Available metrics are: loss,lr\n",
            "50029/50029 [==============================] - 1s 17us/sample - loss: 0.0689\n",
            "Epoch 189/200\n",
            "47360/50029 [===========================>..] - ETA: 0s - loss: 0.0705WARNING:tensorflow:Reduce LR on plateau conditioned on metric `val_loss` which is not available. Available metrics are: loss,lr\n",
            "50029/50029 [==============================] - 1s 17us/sample - loss: 0.0705\n",
            "Epoch 190/200\n",
            "48384/50029 [============================>.] - ETA: 0s - loss: 0.0709WARNING:tensorflow:Reduce LR on plateau conditioned on metric `val_loss` which is not available. Available metrics are: loss,lr\n",
            "50029/50029 [==============================] - 1s 17us/sample - loss: 0.0707\n",
            "Epoch 191/200\n",
            "48640/50029 [============================>.] - ETA: 0s - loss: 0.0694WARNING:tensorflow:Reduce LR on plateau conditioned on metric `val_loss` which is not available. Available metrics are: loss,lr\n",
            "50029/50029 [==============================] - 1s 17us/sample - loss: 0.0694\n",
            "Epoch 192/200\n",
            "47360/50029 [===========================>..] - ETA: 0s - loss: 0.0721WARNING:tensorflow:Reduce LR on plateau conditioned on metric `val_loss` which is not available. Available metrics are: loss,lr\n",
            "50029/50029 [==============================] - 1s 18us/sample - loss: 0.0721\n",
            "Epoch 193/200\n",
            "49920/50029 [============================>.] - ETA: 0s - loss: 0.0691WARNING:tensorflow:Reduce LR on plateau conditioned on metric `val_loss` which is not available. Available metrics are: loss,lr\n",
            "50029/50029 [==============================] - 1s 18us/sample - loss: 0.0691\n",
            "Epoch 194/200\n",
            "46976/50029 [===========================>..] - ETA: 0s - loss: 0.0700WARNING:tensorflow:Reduce LR on plateau conditioned on metric `val_loss` which is not available. Available metrics are: loss,lr\n",
            "50029/50029 [==============================] - 1s 17us/sample - loss: 0.0701\n",
            "Epoch 195/200\n",
            "46848/50029 [===========================>..] - ETA: 0s - loss: 0.0699WARNING:tensorflow:Reduce LR on plateau conditioned on metric `val_loss` which is not available. Available metrics are: loss,lr\n",
            "50029/50029 [==============================] - 1s 17us/sample - loss: 0.0699\n",
            "Epoch 196/200\n",
            "49664/50029 [============================>.] - ETA: 0s - loss: 0.0700WARNING:tensorflow:Reduce LR on plateau conditioned on metric `val_loss` which is not available. Available metrics are: loss,lr\n",
            "50029/50029 [==============================] - 1s 18us/sample - loss: 0.0700\n",
            "Epoch 197/200\n",
            "47488/50029 [===========================>..] - ETA: 0s - loss: 0.0689WARNING:tensorflow:Reduce LR on plateau conditioned on metric `val_loss` which is not available. Available metrics are: loss,lr\n",
            "50029/50029 [==============================] - 1s 17us/sample - loss: 0.0689\n",
            "Epoch 198/200\n",
            "47744/50029 [===========================>..] - ETA: 0s - loss: 0.0687WARNING:tensorflow:Reduce LR on plateau conditioned on metric `val_loss` which is not available. Available metrics are: loss,lr\n",
            "50029/50029 [==============================] - 1s 17us/sample - loss: 0.0686\n",
            "Epoch 199/200\n",
            "49792/50029 [============================>.] - ETA: 0s - loss: 0.0684WARNING:tensorflow:Reduce LR on plateau conditioned on metric `val_loss` which is not available. Available metrics are: loss,lr\n",
            "50029/50029 [==============================] - 1s 18us/sample - loss: 0.0685\n",
            "Epoch 200/200\n",
            "48768/50029 [============================>.] - ETA: 0s - loss: 0.0682WARNING:tensorflow:Reduce LR on plateau conditioned on metric `val_loss` which is not available. Available metrics are: loss,lr\n",
            "50029/50029 [==============================] - 1s 17us/sample - loss: 0.0682\n"
          ],
          "name": "stdout"
        },
        {
          "output_type": "execute_result",
          "data": {
            "text/plain": [
              "<tensorflow.python.keras.callbacks.History at 0x7fef46574940>"
            ]
          },
          "metadata": {
            "tags": []
          },
          "execution_count": 31
        }
      ]
    },
    {
      "cell_type": "code",
      "metadata": {
        "id": "f7H9JtfbX_qx",
        "colab_type": "code",
        "outputId": "55f63c04-9974-48c9-998e-83e6ca2871dd",
        "colab": {
          "base_uri": "https://localhost:8080/",
          "height": 283
        }
      },
      "source": [
        "logp_pred_train = logp_model.predict(x_train_latent) # 은닉 모델을 예측한 값.\n",
        "logp_pred_test = logp_model.predict(x_latent)\n",
        "plt.scatter(logp, logp_pred_test, label=\"Test\")\n",
        "plt.scatter(logp_train, logp_pred_train, label=\"Train\")\n",
        "plt.legend()"
      ],
      "execution_count": 0,
      "outputs": [
        {
          "output_type": "execute_result",
          "data": {
            "text/plain": [
              "<matplotlib.legend.Legend at 0x7fef3ec02908>"
            ]
          },
          "metadata": {
            "tags": []
          },
          "execution_count": 32
        },
        {
          "output_type": "display_data",
          "data": {
            "image/png": "[encoded data removed]",
            "text/plain": [
              "<Figure size 432x288 with 1 Axes>"
            ]
          },
          "metadata": {
            "tags": []
          }
        }
      ]
    },
    {
      "cell_type": "code",
      "metadata": {
        "id": "l77Yz3iMYDtA",
        "colab_type": "code",
        "colab": {}
      },
      "source": [
        "# 은닉공간에서 스마일을 샘플링하려면 두단계가 필요하다. 그래서 latent_to_smiles 정의.\n",
        "def latent_to_smiles(latent):\n",
        "   # 디코더 LSTM 네트워크의 초기 상태를 설정.\n",
        "    states = latent_to_states_model.predict(latent) # states는 latnet_to_states 모델로 예측한 값.\n",
        "    sample_model.layers[1].reset_states(states=[states[0],states[1]])\n",
        "     # 상태유지를 하기 때문에 그 layer에서 reset. 이경우에서는 2층을 reset.\n",
        "\n",
        "    # input char 준비.\n",
        "    startidx = char_to_int[\"!\"]\n",
        "    samplevec = np.zeros((1,1,22))\n",
        "    samplevec[0,0,startidx] = 1\n",
        "    smiles = \"\"\n",
        "\n",
        "    # 입력 문자 벡터가 입력되고 끝 문자 \"E\" 가 나올 때 까지 반복적으로 샘플링.\n",
        "    for i in range(28):\n",
        "        o = sample_model.predict(samplevec)\n",
        "        sampleidx = np.argmax(o)\n",
        "        samplechar = int_to_char[sampleidx]\n",
        "        if samplechar != \"E\":\n",
        "            smiles = smiles + int_to_char[sampleidx]\n",
        "            samplevec = np.zeros((1,1,22)) # (1,1,22)는 stateful을 위해 reshape한 input의 형태.\n",
        "            samplevec[0,0,sampleidx] = 1\n",
        "        else:\n",
        "            break\n",
        "    return smiles"
      ],
      "execution_count": 0,
      "outputs": []
    },
    {
      "cell_type": "code",
      "metadata": {
        "id": "fd72ubkpYGgd",
        "colab_type": "code",
        "outputId": "b1b261c0-bc30-48a7-a838-88ae2844f410",
        "colab": {
          "base_uri": "https://localhost:8080/",
          "height": 53
        }
      },
      "source": [
        "smiles = latent_to_smiles(x_latent[0:1])\n",
        "print(smiles)\n",
        "print(smiles_test.iloc[0]) # 테스트 샘플 출력."
      ],
      "execution_count": 0,
      "outputs": [
        {
          "output_type": "stream",
          "text": [
            "NCCC1OC=NO1\n",
            "NCCC1OC=NO1\n"
          ],
          "name": "stdout"
        }
      ]
    },
    {
      "cell_type": "code",
      "metadata": {
        "id": "7V8THRT9YKQe",
        "colab_type": "code",
        "outputId": "078188d4-202f-4f95-ef60-e6bee835075b",
        "colab": {
          "base_uri": "https://localhost:8080/",
          "height": 53
        }
      },
      "source": [
        "# sampling을 했을 때 실제 데이터와 일치하지 않는 갯수를 구하기 위해 다음과 같이 실행.\n",
        "wrong = 0\n",
        "for i in range(1000):\n",
        "    smiles = latent_to_smiles(x_latent[i:i+1])\n",
        "    mol = Chem.MolFromSmiles(smiles)\n",
        "    if mol:\n",
        "        pass\n",
        "    else:\n",
        "        print(smiles)\n",
        "        wrong = wrong + 1\n",
        "print (\"%0.1F percent wrongly formatted smiles\"%(wrong/float(1000)*100))"
      ],
      "execution_count": 0,
      "outputs": [
        {
          "output_type": "stream",
          "text": [
            "C1OCN2=C1CC=N2\n",
            "0.1 percent wrongly formatted smiles\n"
          ],
          "name": "stdout"
        }
      ]
    },
    {
      "cell_type": "code",
      "metadata": {
        "id": "tJSe6eKZYNdc",
        "colab_type": "code",
        "outputId": "8856debd-6a73-453a-e7a5-fd19769f6977",
        "colab": {
          "base_uri": "https://localhost:8080/",
          "height": 1000
        }
      },
      "source": [
        "# latent_space 에서 선형보간법 : latent_space에서 분자가 보간될 수 있는지 확인.\n",
        "i = 0\n",
        "j= 2\n",
        "latent1 = x_latent[j:j+1]\n",
        "latent0 = x_latent[i:i+1]\n",
        "mols1 = []\n",
        "ratios = np.linspace(0,1,25)\n",
        "for r in ratios:\n",
        "    #print r\n",
        "    rlatent = (1.0-r)*latent0 + r*latent1 # interpolation 한 것.\n",
        "    smiles  = latent_to_smiles(rlatent)\n",
        "    mol = Chem.MolFromSmiles(smiles,sanitize=False)\n",
        "    if mol: # interpolation한 값이 실제와 일치하면 mols1에 추가. 일치하지 않으면 smiles를 출력.\n",
        "        mols1.append(mol)\n",
        "    else:\n",
        "        print(smiles)\n",
        "Draw.MolsToGridImage(mols1, molsPerRow=5)\n",
        "#비슷한 구조를 가지고 있는 분자들이 근접하게 위치함"
      ],
      "execution_count": 0,
      "outputs": [
        {
          "output_type": "stream",
          "text": [
            "NCC1CCN=OC12\n",
            "NCC1CCN=OC12\n",
            "CN(OC1CNC1C\n"
          ],
          "name": "stdout"
        },
        {
          "output_type": "execute_result",
          "data": {
            "image/png": "[encoded data removed]",
            "text/plain": [
              "<PIL.PngImagePlugin.PngImageFile image mode=RGB size=1000x1000 at 0x7FEF3C326EF0>"
            ]
          },
          "metadata": {
            "tags": []
          },
          "execution_count": 36
        }
      ]
    },
    {
      "cell_type": "code",
      "metadata": {
        "id": "zPZwQHFGYSK_",
        "colab_type": "code",
        "outputId": "5036c506-1518-4ae9-ee20-df17f6064f0c",
        "colab": {
          "base_uri": "https://localhost:8080/",
          "height": 761
        }
      },
      "source": [
        "# 은닉벡터 주위의 샘플링을 하면 분자구조가 위의 방법보다 더 유사.\n",
        "latent = x_latent[0:1]\n",
        "scale = 0.40\n",
        "mols = []\n",
        "for i in range(20):\n",
        "    latent_r = latent + scale*(np.random.randn(latent.shape[1])) \n",
        "    smiles = latent_to_smiles(latent_r)\n",
        "    mol = Chem.MolFromSmiles(smiles)\n",
        "    if mol:\n",
        "        mols.append(mol)\n",
        "    else:\n",
        "        print(smiles)\n",
        "Draw.MolsToGridImage(mols, molsPerRow=5)"
      ],
      "execution_count": 0,
      "outputs": [
        {
          "output_type": "stream",
          "text": [
            "COC(CNO)C1O\n",
            "NCC1CNO1C2O\n",
            "NCCOC1C=NO\n",
            "NCC1CO1N=NO\n",
            "NCC(OC1NOC1O\n",
            "OCC(NOC1ON1C\n",
            "NCCC1CON1=O\n",
            "NCCC1=NOC2O1\n"
          ],
          "name": "stdout"
        },
        {
          "output_type": "execute_result",
          "data": {
            "image/png": "[encoded data removed]",
            "text/plain": [
              "<PIL.PngImagePlugin.PngImageFile image mode=RGB size=1000x600 at 0x7FEF3E9CB8D0>"
            ]
          },
          "metadata": {
            "tags": []
          },
          "execution_count": 37
        }
      ]
    },
    {
      "cell_type": "code",
      "metadata": {
        "id": "3krvESWBC1Mb",
        "colab_type": "code",
        "colab": {}
      },
      "source": [
        ""
      ],
      "execution_count": 0,
      "outputs": []
    },
    {
      "cell_type": "markdown",
      "metadata": {
        "id": "1RVLiJ0sXCX8",
        "colab_type": "text"
      },
      "source": [
        "## 3. 결론 \n",
        "\n",
        "SMILES 분자의 LSTM 기반 자동 인코더를 만드는 방법과 교사 강요를 통해 데이터를 효율적으로 훈련하는 과정을 진했습니다. 여기서 이용한 fingerprint의 장점은  유사한 분자의 경우 비슷한 fingerprint을 형성한다는 것입니다. 따라서 latent space에서 유사한 분자가 유사한 fingerprint를 형성한다는 것을 확인했습니다. 따라서 latent space는 SMILES의 구조를 반영 하고, 다양한 화학 구조 파악에 유용합니다. \n"
      ]
    },
    {
      "cell_type": "markdown",
      "metadata": {
        "id": "fOGpQMAbwaXv",
        "colab_type": "text"
      },
      "source": [
        "### **참고문헌**\n",
        "- ZhengXu외3명,『Seq2seqFingerprint:AnUnsupervisedDeepMolecular EmbeddingforDrugDiscovery 』, August 20–23, 2017\n",
        "- [코드구현](https://www.wildcardconsulting.dk/master-your-molecule-generator-seq2seq-rnn-models-with-smiles-in-keras/)\n",
        "- [SMILES_1](https://www.daylight.com/dayhtml_tutorials/languages/smiles/index.html)\n",
        "- [SMILES_2](https://www.daylight.com/dayhtml/doc/theory/theory.smiles.html)\n",
        "- [Data set : GDB11](http://gdb.unibe.ch/downloads/)\n",
        "- [딥 러닝을 이용한 자연어 처리 입문](https://wikidocs.net/book/2155)\n",
        "- 사이토 고키, 『밑바닥부터 시작하는 딥러닝』, 한빛미디어, 2017\n",
        "- 오렐리앙 제롱, 『핸즈 온 머신러닝』, 한빛미디어, 2018\n",
        "- 톰 호프, 예헤즈켈 레셰프, 이타이 리더, 『러닝 텐서플로』, 한빛미디어, 2018\n",
        "- 사이토 고키, 『밑바닥부터 시작하는 딥러닝 2』, 한빛미디어, 2019\n",
        "- 안드레아스 뮐러, 세라 가이도, 『파이썬 라이브러리를 이용한 머신러닝』, 한빛미디어, 2017\n",
        "- 니킬 부두마, 『딥러닝의 정석』, 한빛미디어, 2018\n",
        "- 프랑소와 숄레, 『케라스 창시자에게 배우는 딥러닝』, 길벗, 2018\n",
        "- 안토니오 걸리, 수짓 팔, 『케라스로 구현하는 딥러닝과 강화학습』, 에이콘, 2018\n",
        "- 세바스찬 라시카, 바히드 미자리리『머신러닝 교과서 with 파이썬, 사이킷런, 텐서플로』, 길벗, 2019\n",
        "- 솔라리스, 『텐서플로로 배우는 딥러닝』, 영진닷컴, 2018 \n",
        "- 박해선, 『정직하게 코딩하며 배우는 딥러닝 입문』, 이지스 퍼블리싱, 2019\n",
        "- 전창욱, 최태균, 조중현, 『텐서플로와 머신러닝으로 시작하는 자연어 처리』, 위키북스, 2019\n",
        "- 정가인, 『G protein-coupled receptor 구조 연구의 현재와 미래』, 2012\n",
        "- 최병철, 『표적치료제의 모든 것 소분자 키나제 억제제』\n",
        "- 박철승, 『이온채널과 신약개발』\n",
        "- J. Chem. Inf. Model, 『Virtual Exploration of the Chemical Universe up to 11 Atoms of C, N, O, F: Assembly of 26.4 Million Structures (110.9 Million Stereoisomers) and Analysis for New Ring Systems, Stereochemistry, Physicochemical Properties, Compound Classes, and Drug Discovery』, 2007,47,342-353"
      ]
    },
    {
      "cell_type": "code",
      "metadata": {
        "id": "DE0N4UKH3g4p",
        "colab_type": "code",
        "colab": {}
      },
      "source": [
        ""
      ],
      "execution_count": 0,
      "outputs": []
    }
  ]
}