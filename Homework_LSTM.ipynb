{
  "nbformat": 4,
  "nbformat_minor": 0,
  "metadata": {
    "colab": {
      "name": "Homework_LSTM.ipynb",
      "provenance": [],
      "collapsed_sections": [],
      "include_colab_link": true
    },
    "kernelspec": {
      "name": "python3",
      "display_name": "Python 3"
    }
  },
  "cells": [
    {
      "cell_type": "markdown",
      "metadata": {
        "id": "view-in-github",
        "colab_type": "text"
      },
      "source": [
        "<a href=\"https://colab.research.google.com/github/syeong1218/python/blob/master/Homework_LSTM.ipynb\" target=\"_parent\"><img src=\"https://colab.research.google.com/assets/colab-badge.svg\" alt=\"Open In Colab\"/></a>"
      ]
    },
    {
      "cell_type": "code",
      "metadata": {
        "id": "rWj_gOai1RfB",
        "colab_type": "code",
        "outputId": "7904cf2e-3330-4157-bb89-86e04c3bb6f1",
        "colab": {
          "base_uri": "https://localhost:8080/",
          "height": 111
        }
      },
      "source": [
        "try:\n",
        "\n",
        "    %tensorflow_version 2.x  # %tensorflow_version only exists in Colab\n",
        "\n",
        "except Exception:\n",
        "\n",
        "    pass"
      ],
      "execution_count": 0,
      "outputs": [
        {
          "output_type": "stream",
          "text": [
            "`%tensorflow_version` only switches the major version: `1.x` or `2.x`.\n",
            "You set: `2.x  # %tensorflow_version only exists in Colab`. This will be interpreted as: `2.x`.\n",
            "\n",
            "\n",
            "TensorFlow 2.x selected.\n"
          ],
          "name": "stdout"
        }
      ]
    },
    {
      "cell_type": "code",
      "metadata": {
        "id": "4rwqK9wF1SYM",
        "colab_type": "code",
        "outputId": "c783739c-1894-4905-ca56-9e14c8a42a12",
        "colab": {
          "base_uri": "https://localhost:8080/",
          "height": 36
        }
      },
      "source": [
        "import tensorflow as tf\n",
        "tf.__version__"
      ],
      "execution_count": 0,
      "outputs": [
        {
          "output_type": "execute_result",
          "data": {
            "text/plain": [
              "'2.0.0'"
            ]
          },
          "metadata": {
            "tags": []
          },
          "execution_count": 2
        }
      ]
    },
    {
      "cell_type": "code",
      "metadata": {
        "id": "It2XMGEn1TcP",
        "colab_type": "code",
        "colab": {}
      },
      "source": [
        "from tensorflow.keras.datasets import imdb\n",
        "(x_train_all, y_train_all), (x_test, y_test)=imdb.load_data(skip_top=20, num_words=1000)\n",
        "\n",
        "for i in range(len(x_train_all)):\n",
        "  x_train_all[i]=[w for w in x_train_all[i] if w>2]\n",
        "\n",
        "import numpy as np\n",
        "np.random.seed(42)\n",
        "random_index=np.random.permutation(25000)\n",
        "\n",
        "x_train=x_train_all[random_index[:20000]]\n",
        "y_train=y_train_all[random_index[:20000]]\n",
        "x_val=x_train_all[random_index[20000:]]\n",
        "y_val=y_train_all[random_index[20000:]]\n",
        "\n"
      ],
      "execution_count": 0,
      "outputs": []
    },
    {
      "cell_type": "code",
      "metadata": {
        "id": "66DyyBQI1XOB",
        "colab_type": "code",
        "colab": {}
      },
      "source": [
        "from tensorflow.keras.preprocessing import sequence\n",
        "\n",
        "maxlen=100\n",
        "x_train_seq = sequence.pad_sequences(x_train, maxlen=maxlen)\n",
        "x_val_seq = sequence.pad_sequences(x_val, maxlen=maxlen)"
      ],
      "execution_count": 0,
      "outputs": []
    },
    {
      "cell_type": "code",
      "metadata": {
        "id": "Fvb2K27a1dzX",
        "colab_type": "code",
        "outputId": "b2544bb8-4e9a-48d8-8e94-551f18c40ffb",
        "colab": {
          "base_uri": "https://localhost:8080/",
          "height": 316
        }
      },
      "source": [
        "from tensorflow.keras.models import Sequential\n",
        "from tensorflow.keras.layers import Embedding\n",
        "from tensorflow.keras.layers import Dense\n",
        "from tensorflow.keras.layers import LSTM\n",
        "\n",
        "model_lstm = Sequential()\n",
        "\n",
        "model_lstm.add(Embedding(1000,32))\n",
        "model_lstm.add(LSTM(8, return_sequences=True))\n",
        "model_lstm.add(LSTM(4))\n",
        "model_lstm.add(Dense(1, activation='sigmoid'))\n",
        "\n",
        "model_lstm.summary()"
      ],
      "execution_count": 0,
      "outputs": [
        {
          "output_type": "stream",
          "text": [
            "Model: \"sequential\"\n",
            "_________________________________________________________________\n",
            "Layer (type)                 Output Shape              Param #   \n",
            "=================================================================\n",
            "embedding (Embedding)        (None, None, 32)          32000     \n",
            "_________________________________________________________________\n",
            "lstm (LSTM)                  (None, None, 8)           1312      \n",
            "_________________________________________________________________\n",
            "lstm_1 (LSTM)                (None, 4)                 208       \n",
            "_________________________________________________________________\n",
            "dense (Dense)                (None, 1)                 5         \n",
            "=================================================================\n",
            "Total params: 33,525\n",
            "Trainable params: 33,525\n",
            "Non-trainable params: 0\n",
            "_________________________________________________________________\n"
          ],
          "name": "stdout"
        }
      ]
    },
    {
      "cell_type": "code",
      "metadata": {
        "id": "SHGMG-RK1jmZ",
        "colab_type": "code",
        "outputId": "30b5380a-b840-406b-face-ecd4e4898efe",
        "colab": {
          "base_uri": "https://localhost:8080/",
          "height": 409
        }
      },
      "source": [
        "model_lstm.compile(optimizer='adam', loss='binary_crossentropy', metrics=['accuracy'])\n",
        "history=model_lstm.fit(x_train_seq, y_train, epochs=10, batch_size=32, validation_data=(x_val_seq, y_val))"
      ],
      "execution_count": 0,
      "outputs": [
        {
          "output_type": "stream",
          "text": [
            "Train on 20000 samples, validate on 5000 samples\n",
            "Epoch 1/10\n",
            "20000/20000 [==============================] - 54s 3ms/sample - loss: 0.4632 - accuracy: 0.7855 - val_loss: 0.3843 - val_accuracy: 0.8326\n",
            "Epoch 2/10\n",
            "20000/20000 [==============================] - 49s 2ms/sample - loss: 0.3455 - accuracy: 0.8548 - val_loss: 0.3716 - val_accuracy: 0.8390\n",
            "Epoch 3/10\n",
            "20000/20000 [==============================] - 49s 2ms/sample - loss: 0.3177 - accuracy: 0.8683 - val_loss: 0.3581 - val_accuracy: 0.8468\n",
            "Epoch 4/10\n",
            "20000/20000 [==============================] - 50s 2ms/sample - loss: 0.2988 - accuracy: 0.8741 - val_loss: 0.3937 - val_accuracy: 0.8416\n",
            "Epoch 5/10\n",
            "20000/20000 [==============================] - 50s 3ms/sample - loss: 0.2844 - accuracy: 0.8802 - val_loss: 0.3701 - val_accuracy: 0.8394\n",
            "Epoch 6/10\n",
            "20000/20000 [==============================] - 51s 3ms/sample - loss: 0.2694 - accuracy: 0.8883 - val_loss: 0.3930 - val_accuracy: 0.8386\n",
            "Epoch 7/10\n",
            "20000/20000 [==============================] - 51s 3ms/sample - loss: 0.2627 - accuracy: 0.8900 - val_loss: 0.3844 - val_accuracy: 0.8334\n",
            "Epoch 8/10\n",
            "20000/20000 [==============================] - 50s 3ms/sample - loss: 0.2485 - accuracy: 0.8968 - val_loss: 0.3900 - val_accuracy: 0.8348\n",
            "Epoch 9/10\n",
            "20000/20000 [==============================] - 50s 3ms/sample - loss: 0.2378 - accuracy: 0.9004 - val_loss: 0.3851 - val_accuracy: 0.8402\n",
            "Epoch 10/10\n",
            "20000/20000 [==============================] - 50s 3ms/sample - loss: 0.2299 - accuracy: 0.9042 - val_loss: 0.3916 - val_accuracy: 0.8432\n"
          ],
          "name": "stdout"
        }
      ]
    },
    {
      "cell_type": "code",
      "metadata": {
        "id": "zzBUwsxa1oGj",
        "colab_type": "code",
        "outputId": "0db71235-34d3-493c-b2a3-ffac269a58f3",
        "colab": {
          "base_uri": "https://localhost:8080/",
          "height": 265
        }
      },
      "source": [
        "import matplotlib.pyplot as plt\n",
        "plt.plot(history.history['loss'], color='red')\n",
        "plt.plot(history.history['val_loss'], color='green')\n",
        "plt.show()"
      ],
      "execution_count": 0,
      "outputs": [
        {
          "output_type": "display_data",
          "data": {
            "image/png": "[encoded data removed]",
            "text/plain": [
              "<Figure size 432x288 with 1 Axes>"
            ]
          },
          "metadata": {
            "tags": []
          }
        }
      ]
    },
    {
      "cell_type": "code",
      "metadata": {
        "id": "DrBVrvpU1oZ_",
        "colab_type": "code",
        "outputId": "a3003df9-a777-4088-d662-5e25eb131211",
        "colab": {
          "base_uri": "https://localhost:8080/",
          "height": 265
        }
      },
      "source": [
        "plt.plot(history.history['accuracy'], color='red')\n",
        "plt.plot(history.history['val_accuracy'], color='green')\n",
        "plt.show()"
      ],
      "execution_count": 0,
      "outputs": [
        {
          "output_type": "display_data",
          "data": {
            "image/png": "[encoded data removed]",
            "text/plain": [
              "<Figure size 432x288 with 1 Axes>"
            ]
          },
          "metadata": {
            "tags": []
          }
        }
      ]
    },
    {
      "cell_type": "code",
      "metadata": {
        "id": "s_aCOGxs1qR-",
        "colab_type": "code",
        "outputId": "8afa269a-c28b-49f0-e35b-92a962a89ff0",
        "colab": {
          "base_uri": "https://localhost:8080/",
          "height": 36
        }
      },
      "source": [
        "loss, accuracy = model_lstm.evaluate(x_val_seq, y_val, verbose=0)\n",
        "print(accuracy)"
      ],
      "execution_count": 0,
      "outputs": [
        {
          "output_type": "stream",
          "text": [
            "0.8432\n"
          ],
          "name": "stdout"
        }
      ]
    }
  ]
}