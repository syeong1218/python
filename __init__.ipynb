{
 "cells": [
  {
   "cell_type": "markdown",
   "metadata": {
    "colab_type": "text",
    "id": "6aBqJZ_TbcRu"
   },
   "source": [
    "# __init __.py의 용도\n",
    "\n",
    "패키지에는 __ init __ .py 라는 파일을 가지고 있다. 이 파일은 기본적으로 그 폴더가 일반 폴더가 아닌 패키지임을 표시하기 위해 사용될 뿐만 아니라, 패키지를 초기화하는 파이썬 코드를 넣을 수 있다. 버전 3.3 이상에서는 이 파일이 없어도 패키지로 사용할 수 있지만, 호환성을 위해 두는 것이 좋다. __ init__.py 파일에서 중요한 변수로 __ all__ 이라는 리스트 변수가 있는데, 이 변수는 \"from 패키지명 import *\" 문을 사용할 때, 그 패키지 내에서 import 가능한 모듈들의 리스트를 담고 있다. 즉, __ all__ 에 없는 모듈은 import 되지 않고 에러가 발생한다.\n",
    "\n",
    "### 간단한 예를 들어보자.\n",
    "\n",
    "1. 우선 game 및 기타 서브 디렉터리를 생성하고 .py 파일들을 다음과 같이 만들었다.\n",
    "```\n",
    "C:/Users/유순영/game/__init__.py\n",
    "C:/Users/유순영/sound/__init__.py\n",
    "C:/Users/유순영/sound/echo.py\n",
    "C:/Users/유순영/graphic/__init__.py\n",
    "C:/Users/유순영/graphic/render.py\n",
    "```\n"
   ]
  },
  {
   "cell_type": "code",
   "execution_count": 27,
   "metadata": {},
   "outputs": [
    {
     "name": "stdout",
     "output_type": "stream",
     "text": [
      " C 드라이브의 볼륨에는 이름이 없습니다.\n",
      " 볼륨 일련 번호: E4E8-7655\n",
      "\n",
      " C:\\Users\\유순영\\game 디렉터리\n",
      "\n",
      "2019-10-09  오후 01:55    <DIR>          .\n",
      "2019-10-09  오후 01:55    <DIR>          ..\n",
      "2019-10-09  오후 01:19                 0 __init__.py\n",
      "2019-10-09  오후 01:22    <DIR>          graphic\n",
      "2019-10-09  오후 01:39    <DIR>          sound\n",
      "               1개 파일                   0 바이트\n",
      "               4개 디렉터리  18,269,458,432 바이트 남음\n"
     ]
    }
   ],
   "source": [
    "ls"
   ]
  },
  {
   "cell_type": "markdown",
   "metadata": {},
   "source": [
    "2. 각 디렉터리의 __ init__.py 와 game/sound/__ init __.py를 비워놓는다."
   ]
  },
  {
   "cell_type": "markdown",
   "metadata": {},
   "source": [
    "<img src=\"1.png\" width=\"60%\">"
   ]
  },
  {
   "cell_type": "markdown",
   "metadata": {},
   "source": [
    "3. 아래의 코드를 실행시키면,"
   ]
  },
  {
   "cell_type": "code",
   "execution_count": 28,
   "metadata": {},
   "outputs": [
    {
     "ename": "NameError",
     "evalue": "name 'echo' is not defined",
     "output_type": "error",
     "traceback": [
      "\u001b[1;31m---------------------------------------------------------------------------\u001b[0m",
      "\u001b[1;31mNameError\u001b[0m                                 Traceback (most recent call last)",
      "\u001b[1;32m<ipython-input-28-b76d5b24d74b>\u001b[0m in \u001b[0;36m<module>\u001b[1;34m\u001b[0m\n\u001b[0;32m      1\u001b[0m \u001b[1;32mfrom\u001b[0m \u001b[0mgame\u001b[0m\u001b[1;33m.\u001b[0m\u001b[0msound\u001b[0m \u001b[1;32mimport\u001b[0m \u001b[1;33m*\u001b[0m\u001b[1;33m\u001b[0m\u001b[1;33m\u001b[0m\u001b[0m\n\u001b[1;32m----> 2\u001b[1;33m \u001b[0mecho\u001b[0m\u001b[1;33m.\u001b[0m\u001b[0mecho_test\u001b[0m\u001b[1;33m(\u001b[0m\u001b[1;33m)\u001b[0m\u001b[1;33m\u001b[0m\u001b[1;33m\u001b[0m\u001b[0m\n\u001b[0m",
      "\u001b[1;31mNameError\u001b[0m: name 'echo' is not defined"
     ]
    }
   ],
   "source": [
    "from game.sound import *\n",
    "echo.echo_test()"
   ]
  },
  {
   "cell_type": "markdown",
   "metadata": {},
   "source": [
    "4. echo라는 이름이 정의되지 않았다는 이름 오류(NameError)가 발생한다.\n",
    "이처럼 특정 디렉터리의 모듈을 * 을 사용하여  import 할 때는 해당 디렉터리의 __ init__.py파일에 __all __을 사용하여 변수를 설정해줘야한다.\n",
    "\n",
    "\n",
    "5. 이번에는 다음과 같이 game/sound/__init __.py에  __all __ = ['echo']을 입력한다."
   ]
  },
  {
   "cell_type": "markdown",
   "metadata": {},
   "source": [
    "<img src=\"2.png\" width=\"60%\">"
   ]
  },
  {
   "cell_type": "markdown",
   "metadata": {},
   "source": [
    "            __all __=['echo']이 의미하는 것은 sound 디렉터리에서 * 기호를 사용하여 import할 경우 이곳에 정의된 echo 모듈만 import된다는 의미이다.\n",
    "\n",
    "6. 그 다음 위의 코드를 다시 실행시키면,"
   ]
  },
  {
   "cell_type": "code",
   "execution_count": 1,
   "metadata": {},
   "outputs": [
    {
     "name": "stdout",
     "output_type": "stream",
     "text": [
      "echo\n"
     ]
    }
   ],
   "source": [
    "from game.sound import *\n",
    "echo.echo_test()"
   ]
  },
  {
   "cell_type": "markdown",
   "metadata": {},
   "source": [
    "7. echo라는 결과값이 출력되는 것을 확인할 수 있다.\n",
    "\n"
   ]
  },
  {
   "cell_type": "markdown",
   "metadata": {},
   "source": [
    "### 또 다른 예를 들어보면,\n",
    "1. model 및 기타 서브 디렉터리를 생성하고 .py 파일들을 다음과 같이 만들었다."
   ]
  },
  {
   "cell_type": "code",
   "execution_count": 1,
   "metadata": {},
   "outputs": [
    {
     "name": "stdout",
     "output_type": "stream",
     "text": [
      "C:\\Users\\유순영\\model\n"
     ]
    }
   ],
   "source": [
    "cd model"
   ]
  },
  {
   "cell_type": "code",
   "execution_count": 2,
   "metadata": {},
   "outputs": [
    {
     "name": "stdout",
     "output_type": "stream",
     "text": [
      " C 드라이브의 볼륨에는 이름이 없습니다.\n",
      " 볼륨 일련 번호: E4E8-7655\n",
      "\n",
      " C:\\Users\\유순영\\model 디렉터리\n",
      "\n",
      "2019-10-09  오후 02:41    <DIR>          .\n",
      "2019-10-09  오후 02:41    <DIR>          ..\n",
      "2019-10-09  오후 02:41                23 __init__.py\n",
      "2019-10-09  오후 02:43    <DIR>          character\n",
      "               1개 파일                  23 바이트\n",
      "               3개 디렉터리  19,088,257,024 바이트 남음\n"
     ]
    }
   ],
   "source": [
    "ls"
   ]
  },
  {
   "cell_type": "code",
   "execution_count": 3,
   "metadata": {},
   "outputs": [
    {
     "name": "stdout",
     "output_type": "stream",
     "text": [
      "C:\\Users\\유순영\\model\\character\n"
     ]
    }
   ],
   "source": [
    "cd character"
   ]
  },
  {
   "cell_type": "code",
   "execution_count": 4,
   "metadata": {},
   "outputs": [
    {
     "name": "stdout",
     "output_type": "stream",
     "text": [
      " C 드라이브의 볼륨에는 이름이 없습니다.\n",
      " 볼륨 일련 번호: E4E8-7655\n",
      "\n",
      " C:\\Users\\유순영\\model\\character 디렉터리\n",
      "\n",
      "2019-10-09  오후 02:43    <DIR>          .\n",
      "2019-10-09  오후 02:43    <DIR>          ..\n",
      "2019-10-09  오후 02:42                40 __init__.py\n",
      "2019-10-09  오후 02:42                74 human.py\n",
      "2019-10-09  오후 02:43                64 robot.py\n",
      "               3개 파일                 178 바이트\n",
      "               2개 디렉터리  19,088,195,584 바이트 남음\n"
     ]
    }
   ],
   "source": [
    "ls"
   ]
  },
  {
   "cell_type": "markdown",
   "metadata": {},
   "source": [
    "    * model/__ init__.py 파일\n",
    "\n",
    "   \n",
    "    * model/character/__ init__.py 파일 \n",
    "\n",
    "  \n",
    "    * model/character/human.py 파일\n",
    "\n",
    "    cheoli = {'name': '철이', 'dialog': '또 하나의 별이 사라졌어'}\n",
    "\n",
    "\n",
    "    * model/character/robot.py 파일\n",
    "\n",
    "    maetel = {'name': '메텔', 'dialog': '나는 청춘의 환영'}"
   ]
  },
  {
   "cell_type": "markdown",
   "metadata": {},
   "source": [
    "2. __ init__.py을 아래와 같이 비워두고 아래의 코드를 실행시키면,"
   ]
  },
  {
   "cell_type": "markdown",
   "metadata": {},
   "source": [
    "<img src=\"3.png\" width=\"60%\">"
   ]
  },
  {
   "cell_type": "code",
   "execution_count": 1,
   "metadata": {},
   "outputs": [
    {
     "ename": "AttributeError",
     "evalue": "module 'model' has no attribute 'character'",
     "output_type": "error",
     "traceback": [
      "\u001b[1;31m---------------------------------------------------------------------------\u001b[0m",
      "\u001b[1;31mAttributeError\u001b[0m                            Traceback (most recent call last)",
      "\u001b[1;32m<ipython-input-1-82aa6ecadc50>\u001b[0m in \u001b[0;36m<module>\u001b[1;34m\u001b[0m\n\u001b[0;32m      1\u001b[0m \u001b[1;32mimport\u001b[0m \u001b[0mmodel\u001b[0m\u001b[1;33m\u001b[0m\u001b[1;33m\u001b[0m\u001b[0m\n\u001b[1;32m----> 2\u001b[1;33m \u001b[0mmodel\u001b[0m\u001b[1;33m.\u001b[0m\u001b[0mcharacter\u001b[0m\u001b[1;33m.\u001b[0m\u001b[0mhuman\u001b[0m\u001b[1;33m.\u001b[0m\u001b[0mcheoli\u001b[0m\u001b[1;33m\u001b[0m\u001b[1;33m\u001b[0m\u001b[0m\n\u001b[0m",
      "\u001b[1;31mAttributeError\u001b[0m: module 'model' has no attribute 'character'"
     ]
    }
   ],
   "source": [
    "import model                 \n",
    "model.character.human.cheoli "
   ]
  },
  {
   "cell_type": "markdown",
   "metadata": {},
   "source": [
    "3. 속성오류가 발생한다."
   ]
  },
  {
   "cell_type": "markdown",
   "metadata": {},
   "source": [
    "4. 이번에는 __ init__.py을 아래와 같이 입력하고 코드를 다시 실행 시키면,\n",
    "\n",
    "\n",
    "    * model/__ init__.py 파일\n",
    "\n",
    "        from . import character\n",
    "\n",
    "    * model/character/__ init__.py 파일 \n",
    "\n",
    "        from . import human\n",
    "        from . import robot\n",
    "        \n",
    "<img src=\"4.png\" width=\"60%\">"
   ]
  },
  {
   "cell_type": "code",
   "execution_count": 7,
   "metadata": {},
   "outputs": [
    {
     "data": {
      "text/plain": [
       "{'name': '철이', 'dialog': '또 하나의 별이 사라졌어'}"
      ]
     },
     "execution_count": 7,
     "metadata": {},
     "output_type": "execute_result"
    }
   ],
   "source": [
    "import model                 \n",
    "model.character.human.cheoli  "
   ]
  },
  {
   "cell_type": "markdown",
   "metadata": {},
   "source": [
    "5. 하위 항목의 결과값이 나오는 것을 확인할 수 있다.\n",
    "\n",
    "따라서 앞에서 만든 model 패키지의 __ init__.py 파일에는 from . import character라는 코드가 포함되었는데, 이는 __ init__.py 파일이 있는 위치(패키지의 위치)에서 character 패키지를 임포트하도록 한다. 이 덕분에 model 패키지만 임포트하고도 그 하위 패키지인 model.character 패키지를 가리킬 수 있다."
   ]
  },
  {
   "cell_type": "markdown",
   "metadata": {
    "colab_type": "text",
    "id": "XtvJLXAUkoNU"
   },
   "source": [
    "위에 내용을 요약 하면, __init __.py이란\n",
    "\n",
    "* 해당 디렉토리를 패키지로 취급하도록 하는 파일로서, 어떤 디렉토리를 패키지로서 인식되게 하려면 이 파일을 생성해야 한다.\n",
    "\n",
    "* 내용이 없는 0바이트여도 상관없다.\n",
    "\n",
    "* 패키지를 위한 초기화 코드를 포함하기도 한다. 주로 하위 패키지 모듈을 imort 하는 명령이 포함되어 있다.\n",
    "\n",
    "* __ all __ 변수를 설정하여 import * 할 때 모듈을 가져오는 범위를 정할 수 있다. "
   ]
  }
 ],
 "metadata": {
  "colab": {
   "collapsed_sections": [],
   "name": "__init__.ipynb",
   "provenance": []
  },
  "kernelspec": {
   "display_name": "Python 3",
   "language": "python",
   "name": "python3"
  },
  "language_info": {
   "codemirror_mode": {
    "name": "ipython",
    "version": 3
   },
   "file_extension": ".py",
   "mimetype": "text/x-python",
   "name": "python",
   "nbconvert_exporter": "python",
   "pygments_lexer": "ipython3",
   "version": "3.7.3"
  }
 },
 "nbformat": 4,
 "nbformat_minor": 1
}
