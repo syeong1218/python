{
  "nbformat": 4,
  "nbformat_minor": 0,
  "metadata": {
    "colab": {
      "name": "jump to python-ch4.ipynb",
      "provenance": [],
      "include_colab_link": true
    },
    "kernelspec": {
      "name": "python3",
      "display_name": "Python 3"
    }
  },
  "cells": [
    {
      "cell_type": "markdown",
      "metadata": {
        "id": "view-in-github",
        "colab_type": "text"
      },
      "source": [
        "<a href=\"https://colab.research.google.com/github/syeong1218/python/blob/master/jump_to_python_ch4.ipynb\" target=\"_parent\"><img src=\"https://colab.research.google.com/assets/colab-badge.svg\" alt=\"Open In Colab\"/></a>"
      ]
    },
    {
      "cell_type": "markdown",
      "metadata": {
        "id": "J_Xr72x8-PmJ",
        "colab_type": "text"
      },
      "source": [
        "## 1\n",
        "**주어진 자연수가 홀수인지 짝수인지 판별해 주는 함수(is_odd)를 작성해 보자.**\n"
      ]
    },
    {
      "cell_type": "code",
      "metadata": {
        "id": "f_ePotZw-Sy3",
        "colab_type": "code",
        "colab": {}
      },
      "source": [
        "def is_odd(number):\n",
        "  if number % 2 ==1:\n",
        "    return True\n",
        "  else:\n",
        "    return False"
      ],
      "execution_count": 0,
      "outputs": []
    },
    {
      "cell_type": "markdown",
      "metadata": {
        "id": "ot3tQrBO_ft8",
        "colab_type": "text"
      },
      "source": [
        "홀수이면 True을 짝수이면 False을 나타낸다."
      ]
    },
    {
      "cell_type": "code",
      "metadata": {
        "id": "gdy92AZS_eIU",
        "colab_type": "code",
        "colab": {
          "base_uri": "https://localhost:8080/",
          "height": 34
        },
        "outputId": "879ad54d-dfe6-4a99-d0f0-930809425f08"
      },
      "source": [
        "is_odd(5)"
      ],
      "execution_count": 2,
      "outputs": [
        {
          "output_type": "execute_result",
          "data": {
            "text/plain": [
              "True"
            ]
          },
          "metadata": {
            "tags": []
          },
          "execution_count": 2
        }
      ]
    },
    {
      "cell_type": "code",
      "metadata": {
        "id": "Lo_psgKp_snL",
        "colab_type": "code",
        "colab": {
          "base_uri": "https://localhost:8080/",
          "height": 34
        },
        "outputId": "86485e57-2726-4d61-ea7b-61a19af552a5"
      },
      "source": [
        "is_odd(2)"
      ],
      "execution_count": 3,
      "outputs": [
        {
          "output_type": "execute_result",
          "data": {
            "text/plain": [
              "False"
            ]
          },
          "metadata": {
            "tags": []
          },
          "execution_count": 3
        }
      ]
    },
    {
      "cell_type": "markdown",
      "metadata": {
        "id": "5twbW8gc_vcC",
        "colab_type": "text"
      },
      "source": [
        "람다를 이용하여 더 간단하게 함수를 만들 수도 있다."
      ]
    },
    {
      "cell_type": "code",
      "metadata": {
        "id": "lqkrRuYQ_0Cq",
        "colab_type": "code",
        "colab": {}
      },
      "source": [
        "is_odd = lambda x: True if x % 2 == 1 else False"
      ],
      "execution_count": 0,
      "outputs": []
    },
    {
      "cell_type": "code",
      "metadata": {
        "id": "RCldnuoV_2W2",
        "colab_type": "code",
        "colab": {
          "base_uri": "https://localhost:8080/",
          "height": 34
        },
        "outputId": "9f2835b2-c730-4f7b-f1ed-6fc2d00ce5fb"
      },
      "source": [
        "is_odd(5)"
      ],
      "execution_count": 5,
      "outputs": [
        {
          "output_type": "execute_result",
          "data": {
            "text/plain": [
              "True"
            ]
          },
          "metadata": {
            "tags": []
          },
          "execution_count": 5
        }
      ]
    },
    {
      "cell_type": "markdown",
      "metadata": {
        "id": "ZIM3AJay-Tf0",
        "colab_type": "text"
      },
      "source": [
        "## 2\n",
        "**입력으로 들어오는 모든 수의 평균 값을 계산해 주는 함수를 작성해 보자. (단 입력으로 들어오는 수의 개수는 정해져 있지 않다.)**"
      ]
    },
    {
      "cell_type": "code",
      "metadata": {
        "id": "eumJLWI--Zfy",
        "colab_type": "code",
        "colab": {}
      },
      "source": [
        "def avg_numbers(*args):\n",
        "  result =0\n",
        "  for i in args:\n",
        "    result +=i\n",
        "  return result / len(args)"
      ],
      "execution_count": 0,
      "outputs": []
    },
    {
      "cell_type": "code",
      "metadata": {
        "id": "uw3jtSXYAHKU",
        "colab_type": "code",
        "colab": {
          "base_uri": "https://localhost:8080/",
          "height": 34
        },
        "outputId": "5d3104f1-f0d3-4e64-9652-926f9caa385a"
      },
      "source": [
        "avg_numbers(1,2,3)"
      ],
      "execution_count": 7,
      "outputs": [
        {
          "output_type": "execute_result",
          "data": {
            "text/plain": [
              "2.0"
            ]
          },
          "metadata": {
            "tags": []
          },
          "execution_count": 7
        }
      ]
    },
    {
      "cell_type": "code",
      "metadata": {
        "id": "HMODqdYXAL-M",
        "colab_type": "code",
        "colab": {
          "base_uri": "https://localhost:8080/",
          "height": 34
        },
        "outputId": "6de202c7-6a15-4704-9428-d0d45573f1ca"
      },
      "source": [
        "avg_numbers(2,4,6,8,10)"
      ],
      "execution_count": 8,
      "outputs": [
        {
          "output_type": "execute_result",
          "data": {
            "text/plain": [
              "6.0"
            ]
          },
          "metadata": {
            "tags": []
          },
          "execution_count": 8
        }
      ]
    },
    {
      "cell_type": "markdown",
      "metadata": {
        "id": "su1S2eub-aCk",
        "colab_type": "text"
      },
      "source": [
        "## 3\n",
        "**다음은 두 개의 숫자를 입력받아 더하여 돌려주는 프로그램이다.**\n",
        "\n",
        "```\n",
        "input1 = input(\"첫번째 숫자를 입력하세요:\")\n",
        "input2 = input(\"두번째 숫자를 입력하세요:\")\n",
        "\n",
        "total = input1 + input2\n",
        "print(\"두 수의 합은 %s 입니다\" % total)\n",
        "```\n",
        "\n",
        "**이 프로그램을 수행해 보자.**\n",
        "\n",
        "```\n",
        "첫번째 숫자를 입력하세요:3\n",
        "두번째 숫자를 입력하세요:6\n",
        "두 수의 합은 36 입니다\n",
        "```\n",
        "\n",
        "**3과 6을 입력했을 때 9가 아닌 36이라는 결괏값을 돌려주었다. 이 프로그램의 오류를 수정해 보자.**"
      ]
    },
    {
      "cell_type": "code",
      "metadata": {
        "id": "JF9tWFhC-cfq",
        "colab_type": "code",
        "colab": {
          "base_uri": "https://localhost:8080/",
          "height": 70
        },
        "outputId": "e56ff0dc-02d2-45f7-a12c-8f2a01402b6e"
      },
      "source": [
        "input1 = input(\"첫 번째 숫자를 입력하세요:\")\n",
        "input2 = input(\"두 번째 숫자를 입력하세요:\")\n",
        "\n",
        "total = int(input1) + int(input2) \n",
        "print(\"두수의 합은 %s 입니다\" % total)"
      ],
      "execution_count": 9,
      "outputs": [
        {
          "output_type": "stream",
          "text": [
            "첫 번째 숫자를 입력하세요:3\n",
            "두 번째 숫자를 입력하세요:6\n",
            "두수의 합은 9 입니다\n"
          ],
          "name": "stdout"
        }
      ]
    },
    {
      "cell_type": "markdown",
      "metadata": {
        "id": "IelRI6CdAtSs",
        "colab_type": "text"
      },
      "source": [
        "input은 문자열로 인식하므로 숫자로 바꿔주는 int()를 사용해야한다."
      ]
    },
    {
      "cell_type": "markdown",
      "metadata": {
        "id": "f1qH0ONe-z8z",
        "colab_type": "text"
      },
      "source": [
        "## 4\n",
        "\n",
        "**다음 중 출력 결과가 다른 것 한 개를 골라 보자.**\n",
        "\n",
        "1. print(\"you\" \"need\" \"python\")\n",
        "2. print(\"you\"+\"need\"+\"python\")\n",
        "3. print(\"you\", \"need\", \"python\")\n",
        "4. print(\"\".join([\"you\", \"need\", \"python\"]))"
      ]
    },
    {
      "cell_type": "code",
      "metadata": {
        "id": "gj9ZxHpF-5GK",
        "colab_type": "code",
        "colab": {
          "base_uri": "https://localhost:8080/",
          "height": 34
        },
        "outputId": "d3fcf6b1-f52d-48dd-9cc3-a1efaa39e8be"
      },
      "source": [
        "#1\n",
        "print(\"you\" \"need\" \"python\")"
      ],
      "execution_count": 11,
      "outputs": [
        {
          "output_type": "stream",
          "text": [
            "youneedpython\n"
          ],
          "name": "stdout"
        }
      ]
    },
    {
      "cell_type": "code",
      "metadata": {
        "id": "_tPBxo0vBGnW",
        "colab_type": "code",
        "colab": {
          "base_uri": "https://localhost:8080/",
          "height": 34
        },
        "outputId": "98f9807a-3379-4909-d2da-deddb22797f4"
      },
      "source": [
        "#2\n",
        "print(\"you\"+\"need\"+\"python\")"
      ],
      "execution_count": 12,
      "outputs": [
        {
          "output_type": "stream",
          "text": [
            "youneedpython\n"
          ],
          "name": "stdout"
        }
      ]
    },
    {
      "cell_type": "code",
      "metadata": {
        "id": "czpiPRASBKOb",
        "colab_type": "code",
        "colab": {
          "base_uri": "https://localhost:8080/",
          "height": 34
        },
        "outputId": "e434305b-34de-4edd-9cfb-2b690ef49df4"
      },
      "source": [
        "#3\n",
        "print(\"you\", \"need\", \"python\") "
      ],
      "execution_count": 13,
      "outputs": [
        {
          "output_type": "stream",
          "text": [
            "you need python\n"
          ],
          "name": "stdout"
        }
      ]
    },
    {
      "cell_type": "code",
      "metadata": {
        "id": "j50hajWGBNaL",
        "colab_type": "code",
        "colab": {
          "base_uri": "https://localhost:8080/",
          "height": 34
        },
        "outputId": "b0932a54-e309-47af-9dbc-a6f9bf6b72d4"
      },
      "source": [
        "#4\n",
        "print(\"\".join([\"you\", \"need\", \"python\"]))"
      ],
      "execution_count": 14,
      "outputs": [
        {
          "output_type": "stream",
          "text": [
            "youneedpython\n"
          ],
          "name": "stdout"
        }
      ]
    },
    {
      "cell_type": "markdown",
      "metadata": {
        "id": "zvbKaVPTBSrh",
        "colab_type": "text"
      },
      "source": [
        "3번에 콤마가 있어 문자열 사이에 공백이 삽입되어 나머지들과 출력 결과가 다르다."
      ]
    },
    {
      "cell_type": "markdown",
      "metadata": {
        "id": "ivsutqYL-57c",
        "colab_type": "text"
      },
      "source": [
        "## 5\n",
        "**다음은 \"test.txt\"라는 파일에 \"Life is too short\" 문자열을 저장한 후 다시 그 파일을 읽어서 출력하는 프로그램이다.**\n",
        "\n",
        "```\n",
        "f1 = open(\"test.txt\", 'w')\n",
        "f1.write(\"Life is too short\")\n",
        "\n",
        "f2 = open(\"test.txt\", 'r')\n",
        "print(f2.read())\n",
        "```\n",
        "**이 프로그램은 우리가 예상한 \"Life is too short\"라는 문장을 출력하지 않는다. 우리가 예상한 값을 출력할 수 있도록 프로그램을 수정해 보자.**"
      ]
    },
    {
      "cell_type": "markdown",
      "metadata": {
        "id": "ET5xg8qeBrUz",
        "colab_type": "text"
      },
      "source": [
        "파일을 닫지 않은 상태에서 다시 열면 파일에 저장한 데이터를 읽을 수 없다. 따라서 열린 파일 객체를 close로 닫아준 후 다시 열어서 파일의 내용을 읽어야 한다."
      ]
    },
    {
      "cell_type": "code",
      "metadata": {
        "id": "Cc3VHICdBMtj",
        "colab_type": "code",
        "colab": {
          "base_uri": "https://localhost:8080/",
          "height": 34
        },
        "outputId": "4370a9b2-ac94-4157-d32e-1a90a041d16e"
      },
      "source": [
        "f1 = open(\"test.txt\", 'w')\n",
        "f1.write(\"Life is too short!\")\n",
        "f1.close() \n",
        "\n",
        "f2 = open(\"test.txt\", 'r')\n",
        "print(f2.read())\n",
        "f2.close()"
      ],
      "execution_count": 25,
      "outputs": [
        {
          "output_type": "stream",
          "text": [
            "Life is too short!\n"
          ],
          "name": "stdout"
        }
      ]
    },
    {
      "cell_type": "markdown",
      "metadata": {
        "id": "UGZ_4tg3B3B4",
        "colab_type": "text"
      },
      "source": [
        "아니면 close를 명시적으로 할 필요가 없는 with구문을 사용한다."
      ]
    },
    {
      "cell_type": "code",
      "metadata": {
        "id": "wFg_w8ZX-_eN",
        "colab_type": "code",
        "colab": {
          "base_uri": "https://localhost:8080/",
          "height": 34
        },
        "outputId": "044dc5b7-1905-42a6-88a3-67219d43b7a2"
      },
      "source": [
        "with open(\"test.txt\", 'w') as f1:\n",
        "    f1.write(\"Life is too short! \")\n",
        "with open(\"test.txt\", 'r') as f2:\n",
        "    print(f2.read())"
      ],
      "execution_count": 26,
      "outputs": [
        {
          "output_type": "stream",
          "text": [
            "Life is too short! \n"
          ],
          "name": "stdout"
        }
      ]
    },
    {
      "cell_type": "markdown",
      "metadata": {
        "id": "2Pae4U48_AJ_",
        "colab_type": "text"
      },
      "source": [
        "## 6 \n",
        "**사용자의 입력을 파일(test.txt)에 저장하는 프로그램을 작성해 보자. (단 프로그램을 다시 실행하더라도 기존에 작성한 내용을 유지하고 새로 입력한 내용을 추가해야 한다.)**"
      ]
    },
    {
      "cell_type": "markdown",
      "metadata": {
        "id": "m11glkRAB_h4",
        "colab_type": "text"
      },
      "source": [
        "기존 내용을 유지하고 새로운 내용을 덧붙이기 위해서 다음과 같이 'a' 모드를 사용해야 한다."
      ]
    },
    {
      "cell_type": "code",
      "metadata": {
        "id": "ZJXwAggO_CW0",
        "colab_type": "code",
        "colab": {
          "base_uri": "https://localhost:8080/",
          "height": 34
        },
        "outputId": "5de40f47-26bd-4467-eeea-d2490c72b6c1"
      },
      "source": [
        "user_input = input(\"저장할 내용을 입력하세요:\")\n",
        "f = open('test.txt', 'a')  \n",
        "f.write(user_input)\n",
        "f.write(\"\\n\")             \n",
        "f.close()"
      ],
      "execution_count": 28,
      "outputs": [
        {
          "output_type": "stream",
          "text": [
            "저장할 내용을 입력하세요: you need java\n"
          ],
          "name": "stdout"
        }
      ]
    },
    {
      "cell_type": "code",
      "metadata": {
        "id": "25ntIwZlCLAH",
        "colab_type": "code",
        "colab": {
          "base_uri": "https://localhost:8080/",
          "height": 52
        },
        "outputId": "7cf063d0-eb9c-4735-b3fb-bf08f9e16ff2"
      },
      "source": [
        "!cat test.txt"
      ],
      "execution_count": 29,
      "outputs": [
        {
          "output_type": "stream",
          "text": [
            "Life is too short! \n",
            " you need java\n"
          ],
          "name": "stdout"
        }
      ]
    },
    {
      "cell_type": "markdown",
      "metadata": {
        "id": "Y1iaNHrE_CnG",
        "colab_type": "text"
      },
      "source": [
        "## 7\n",
        "**다음과 같은 내용을 지닌 파일 test.txt가 있다. 이 파일의 내용 중 \"java\"라는 문자열을 \"python\"으로 바꾸어서 저장해 보자.**\n",
        "\n",
        "```\n",
        "Life is too short\n",
        "you need java\n",
        "```"
      ]
    },
    {
      "cell_type": "markdown",
      "metadata": {
        "id": "PwvZsm1iC4q4",
        "colab_type": "text"
      },
      "source": [
        "파일을 모두 읽은 후에 문자열의 replace 함수를 사용하여 java라는 문자열을 python으로 변경한 다음 저장한다."
      ]
    },
    {
      "cell_type": "code",
      "metadata": {
        "id": "I3OQLXpJ_HZr",
        "colab_type": "code",
        "colab": {}
      },
      "source": [
        "f = open('test.txt', 'r')\n",
        "body = f.read()\n",
        "f.close()\n",
        "\n",
        "body = body.replace('java', 'python')\n",
        "\n",
        "f = open('test.txt', 'w')\n",
        "f.write(body)\n",
        "f.close()"
      ],
      "execution_count": 0,
      "outputs": []
    },
    {
      "cell_type": "code",
      "metadata": {
        "id": "lZPatFOwC7zx",
        "colab_type": "code",
        "colab": {
          "base_uri": "https://localhost:8080/",
          "height": 52
        },
        "outputId": "e442c750-1f87-4b53-8445-d9b6bf7e51a6"
      },
      "source": [
        "!cat test.txt"
      ],
      "execution_count": 31,
      "outputs": [
        {
          "output_type": "stream",
          "text": [
            "Life is too short! \n",
            " you need python\n"
          ],
          "name": "stdout"
        }
      ]
    },
    {
      "cell_type": "code",
      "metadata": {
        "id": "TrRPlgQTC-PF",
        "colab_type": "code",
        "colab": {}
      },
      "source": [
        ""
      ],
      "execution_count": 0,
      "outputs": []
    }
  ]
}