{
  "nbformat": 4,
  "nbformat_minor": 0,
  "metadata": {
    "colab": {
      "name": "jump_to_python_ch5.ipynb",
      "provenance": [],
      "collapsed_sections": [],
      "include_colab_link": true
    },
    "kernelspec": {
      "display_name": "Python 3",
      "language": "python",
      "name": "python3"
    },
    "language_info": {
      "codemirror_mode": {
        "name": "ipython",
        "version": 3
      },
      "file_extension": ".py",
      "mimetype": "text/x-python",
      "name": "python",
      "nbconvert_exporter": "python",
      "pygments_lexer": "ipython3",
      "version": "3.7.3"
    }
  },
  "cells": [
    {
      "cell_type": "markdown",
      "metadata": {
        "id": "view-in-github",
        "colab_type": "text"
      },
      "source": [
        "<a href=\"https://colab.research.google.com/github/syeong1218/python/blob/master/jump_to_python_ch5.ipynb\" target=\"_parent\"><img src=\"https://colab.research.google.com/assets/colab-badge.svg\" alt=\"Open In Colab\"/></a>"
      ]
    },
    {
      "cell_type": "markdown",
      "metadata": {
        "colab_type": "text",
        "id": "1lSIUkS9pZA9"
      },
      "source": [
        "## 1\n",
        "\n",
        "다음은 Calculator 클래스이다.\n",
        "```\n",
        "class Calculator:\n",
        "    def __init__(self):\n",
        "        self.value = 0\n",
        "\n",
        "    def add(self, val):\n",
        "        self.value += val\n",
        "```\n",
        "위 클래스를 상속하는 UpgradeCalculator를 만들고 값을 뺄 수 있는 minus 메서드를 추가해 보자. 즉 다음과 같이 동작하는 클래스를 만들어야 한다.\n",
        "```\n",
        "cal = UpgradeCalculator()\n",
        "cal.add(10)\n",
        "cal.minus(7)\n",
        "\n",
        "print(cal.value) # 10에서 7을 뺀 3을 출력\n",
        "```"
      ]
    },
    {
      "cell_type": "code",
      "metadata": {
        "colab_type": "code",
        "id": "08a-22LgppM7",
        "colab": {}
      },
      "source": [
        "class Calculator:\n",
        "    def __init__(self):\n",
        "        self.value = 0\n",
        "\n",
        "    def add(self, val):\n",
        "        self.value += val"
      ],
      "execution_count": 0,
      "outputs": []
    },
    {
      "cell_type": "code",
      "metadata": {
        "id": "7pzPf1y4vofL",
        "colab_type": "code",
        "colab": {}
      },
      "source": [
        "class UpgradeCalculator(Calculator):\n",
        "    def minus(self, val):\n",
        "        self.value -= val"
      ],
      "execution_count": 0,
      "outputs": []
    },
    {
      "cell_type": "code",
      "metadata": {
        "id": "RV-0lWMPvofV",
        "colab_type": "code",
        "colab": {}
      },
      "source": [
        "cal = UpgradeCalculator()"
      ],
      "execution_count": 0,
      "outputs": []
    },
    {
      "cell_type": "code",
      "metadata": {
        "id": "9uvk9mmFvofe",
        "colab_type": "code",
        "colab": {}
      },
      "source": [
        "cal.add(10)\n",
        "cal.minus(7)"
      ],
      "execution_count": 0,
      "outputs": []
    },
    {
      "cell_type": "code",
      "metadata": {
        "id": "U3wZP5LNvofn",
        "colab_type": "code",
        "colab": {},
        "outputId": "ebae2ae9-4150-47db-b0bc-113563ce0c99"
      },
      "source": [
        "print(cal.value)"
      ],
      "execution_count": 0,
      "outputs": [
        {
          "output_type": "stream",
          "text": [
            "3\n"
          ],
          "name": "stdout"
        }
      ]
    },
    {
      "cell_type": "markdown",
      "metadata": {
        "colab_type": "text",
        "id": "xKEFWuwupq1-"
      },
      "source": [
        "## 2\n",
        "\n",
        "객체변수 value가 100 이상의 값은 가질 수 없도록 제한하는 MaxLimitCalculator 클래스를 만들어 보자. 즉 다음과 같이 동작해야 한다.\n",
        "```\n",
        "cal = MaxLimitCalculator()\n",
        "cal.add(50) # 50 더하기\n",
        "cal.add(60) # 60 더하기\n",
        "\n",
        "print(cal.value) # 100 출력\n",
        "```\n",
        "단 반드시 다음과 같은 Calculator 클래스를 상속해서 만들어야 한다.\n",
        "```\n",
        "class Calculator:\n",
        "    def __init__(self):\n",
        "        self.value = 0\n",
        "\n",
        "    def add(self, val):\n",
        "        self.value += val\n",
        "```"
      ]
    },
    {
      "cell_type": "code",
      "metadata": {
        "colab_type": "code",
        "id": "bZdsIzwgpwee",
        "colab": {}
      },
      "source": [
        "class Calculator:\n",
        "    def __init__(self):\n",
        "        self.value = 0\n",
        "\n",
        "    def add(self, val):\n",
        "        self.value += val"
      ],
      "execution_count": 0,
      "outputs": []
    },
    {
      "cell_type": "code",
      "metadata": {
        "id": "YEMxFv9ovogH",
        "colab_type": "code",
        "colab": {}
      },
      "source": [
        "class MaxLimitCalculator(Calculator):\n",
        "    def add(self, val):\n",
        "        self.value += val\n",
        "        if self.value > 100:\n",
        "            self.value = 100"
      ],
      "execution_count": 0,
      "outputs": []
    },
    {
      "cell_type": "code",
      "metadata": {
        "id": "u_jp9oURvogS",
        "colab_type": "code",
        "colab": {}
      },
      "source": [
        "cal = MaxLimitCalculator()\n",
        "cal.add(50) \n",
        "cal.add(60) "
      ],
      "execution_count": 0,
      "outputs": []
    },
    {
      "cell_type": "code",
      "metadata": {
        "id": "8QMB-mvZvogf",
        "colab_type": "code",
        "colab": {},
        "outputId": "a90555c4-ea1e-4a49-c87a-b9a14a55a717"
      },
      "source": [
        "print(cal.value)"
      ],
      "execution_count": 0,
      "outputs": [
        {
          "output_type": "stream",
          "text": [
            "100\n"
          ],
          "name": "stdout"
        }
      ]
    },
    {
      "cell_type": "markdown",
      "metadata": {
        "colab_type": "text",
        "id": "3e7Jzvh5pxz2"
      },
      "source": [
        "## 3\n",
        "\n",
        "다음 결과를 예측해 보자.\n",
        "\n",
        "하나.\n",
        "```\n",
        "\n",
        ">>> all([1, 2, abs(-3)-3])\n",
        "```\n",
        "둘.\n",
        "```\n",
        "\n",
        ">>> chr(ord('a')) == 'a'\n",
        "```"
      ]
    },
    {
      "cell_type": "code",
      "metadata": {
        "colab_type": "code",
        "id": "5p2KvMzDp5rD",
        "colab": {},
        "outputId": "4c2054a9-8430-4214-e59f-e76766f505f2"
      },
      "source": [
        "all([1, 2, abs(-3)-3])"
      ],
      "execution_count": 0,
      "outputs": [
        {
          "output_type": "execute_result",
          "data": {
            "text/plain": [
              "False"
            ]
          },
          "metadata": {
            "tags": []
          },
          "execution_count": 18
        }
      ]
    },
    {
      "cell_type": "markdown",
      "metadata": {
        "id": "euBabkY4vog_",
        "colab_type": "text"
      },
      "source": [
        "abs(-3)은 -3의 절댓값으로 3이 되어 all([1,2,0])이 된다. 리스트의 요소 중 0이 있기 때문에 내장 함수 all의 결과는 False이 된다."
      ]
    },
    {
      "cell_type": "code",
      "metadata": {
        "id": "yJLvt0KCvohC",
        "colab_type": "code",
        "colab": {},
        "outputId": "23b282ab-227a-4192-c51f-f659aa7c6339"
      },
      "source": [
        "chr(ord('a')) == 'a'"
      ],
      "execution_count": 0,
      "outputs": [
        {
          "output_type": "execute_result",
          "data": {
            "text/plain": [
              "True"
            ]
          },
          "metadata": {
            "tags": []
          },
          "execution_count": 19
        }
      ]
    },
    {
      "cell_type": "markdown",
      "metadata": {
        "id": "JOjYqT4hvohP",
        "colab_type": "text"
      },
      "source": [
        "ord('a')는 a의 아스키 코드 값을 돌려주는 함수로 그 값은 97로 chr(97)이 된다. chr(97)은 아스키 코드 값을 입력받아 그 코드에 해당하는 문자를 출력하는 함수로 'a'가 된다. 그 결과 'a'=='a'가 되므로 True이다."
      ]
    },
    {
      "cell_type": "markdown",
      "metadata": {
        "colab_type": "text",
        "id": "it_OPaWOp6b4"
      },
      "source": [
        "## 4\n",
        "\n",
        "filter와 lambda를 사용하여 리스트 [1, -2, 3, -5, 8, -3]에서 음수를 모두 제거해 보자."
      ]
    },
    {
      "cell_type": "markdown",
      "metadata": {
        "id": "fWiEVJNLvohW",
        "colab_type": "text"
      },
      "source": [
        "음수를 제거하기 위해 filter함수를 사용하면 아래와 같이 된다. "
      ]
    },
    {
      "cell_type": "code",
      "metadata": {
        "id": "wX3SIOefvohZ",
        "colab_type": "code",
        "colab": {},
        "outputId": "056b6459-a836-41fe-8853-e228f43aaa58"
      },
      "source": [
        "def positive(x):\n",
        "    return x > 0\n",
        "\n",
        "print(list(filter(positive, [1, -2, 3, -5, 8, -3])))"
      ],
      "execution_count": 0,
      "outputs": [
        {
          "output_type": "stream",
          "text": [
            "[1, 3, 8]\n"
          ],
          "name": "stdout"
        }
      ]
    },
    {
      "cell_type": "markdown",
      "metadata": {
        "id": "2HjlG6g4vohq",
        "colab_type": "text"
      },
      "source": [
        "그리고 위의 코드를 lambda를 사용하여 간편하게 코드를 작성할 수 있다. "
      ]
    },
    {
      "cell_type": "code",
      "metadata": {
        "colab_type": "code",
        "id": "h578Spmfp9U6",
        "colab": {},
        "outputId": "1c39f8e0-5522-4108-eefe-b9d0e0ea5dcb"
      },
      "source": [
        "list(filter(lambda x:x>0, [1, -2, 3, -5, 8, -3]))"
      ],
      "execution_count": 0,
      "outputs": [
        {
          "output_type": "execute_result",
          "data": {
            "text/plain": [
              "[1, 3, 8]"
            ]
          },
          "metadata": {
            "tags": []
          },
          "execution_count": 20
        }
      ]
    },
    {
      "cell_type": "markdown",
      "metadata": {
        "colab_type": "text",
        "id": "L4YjV767p92p"
      },
      "source": [
        "## 5\n",
        "\n",
        "234라는 10진수의 16진수는 다음과 같이 구할 수 있다.\n",
        "```\n",
        ">>> hex(234)\n",
        "'0xea'\n",
        "```\n",
        "이번에는 반대로 16진수 문자열 0xea를 10진수로 변경해 보자."
      ]
    },
    {
      "cell_type": "code",
      "metadata": {
        "colab_type": "code",
        "id": "b_zdqac2qB6r",
        "colab": {},
        "outputId": "617ffea4-3688-4992-c1e0-4b4d14c005d2"
      },
      "source": [
        "int('0xea', 16)"
      ],
      "execution_count": 0,
      "outputs": [
        {
          "output_type": "execute_result",
          "data": {
            "text/plain": [
              "234"
            ]
          },
          "metadata": {
            "tags": []
          },
          "execution_count": 23
        }
      ]
    },
    {
      "cell_type": "markdown",
      "metadata": {
        "colab_type": "text",
        "id": "YyRWbHUZqC_t"
      },
      "source": [
        "## 6\n",
        "\n",
        "map과 lambda를 사용하여 [1, 2, 3, 4] 리스트의 각 요솟값에 3이 곱해진 리스트 [3, 6, 9, 12]를 만들어 보자."
      ]
    },
    {
      "cell_type": "markdown",
      "metadata": {
        "id": "SSYkRZLCvoiJ",
        "colab_type": "text"
      },
      "source": [
        "map함수를 사용한 코드는 아래와 같다."
      ]
    },
    {
      "cell_type": "code",
      "metadata": {
        "id": "-ki9LuxpvoiM",
        "colab_type": "code",
        "colab": {},
        "outputId": "cb94b392-ef0a-46aa-f651-c22ce39c9fa3"
      },
      "source": [
        "def three_times(x): \n",
        "     return x*3\n",
        "\n",
        "list(map(three_times, [1, 2, 3, 4]))"
      ],
      "execution_count": 0,
      "outputs": [
        {
          "output_type": "execute_result",
          "data": {
            "text/plain": [
              "[3, 6, 9, 12]"
            ]
          },
          "metadata": {
            "tags": []
          },
          "execution_count": 24
        }
      ]
    },
    {
      "cell_type": "markdown",
      "metadata": {
        "id": "KBmZsQbVvoiZ",
        "colab_type": "text"
      },
      "source": [
        "위의 코드를 lambda를 사용하여 간략하게 만들 수 있다."
      ]
    },
    {
      "cell_type": "code",
      "metadata": {
        "colab_type": "code",
        "id": "OmqT2re6qFhG",
        "colab": {},
        "outputId": "59df8975-efb0-4d89-cc4a-27c12c36f6b6"
      },
      "source": [
        "list(map(lambda x:x*3, [1,2,3,4]))"
      ],
      "execution_count": 0,
      "outputs": [
        {
          "output_type": "execute_result",
          "data": {
            "text/plain": [
              "[3, 6, 9, 12]"
            ]
          },
          "metadata": {
            "tags": []
          },
          "execution_count": 25
        }
      ]
    },
    {
      "cell_type": "markdown",
      "metadata": {
        "id": "HudiNf5ivoin",
        "colab_type": "text"
      },
      "source": [
        "## 7 \n",
        "\n",
        "다음 리스트의 최댓값과 최솟값의 합을 구해 보자.\n",
        "```\n",
        "[-8, 2, 7, 5, -3, 5, 0, 1]\n",
        "```"
      ]
    },
    {
      "cell_type": "code",
      "metadata": {
        "id": "Uz0DNsx4voir",
        "colab_type": "code",
        "colab": {},
        "outputId": "29f45424-fdfa-4628-bcf6-2979c5fa1ff0"
      },
      "source": [
        "a = [-8, 2, 7, 5, -3, 5, 0, 1]\n",
        "max(a) + min(a)"
      ],
      "execution_count": 0,
      "outputs": [
        {
          "output_type": "execute_result",
          "data": {
            "text/plain": [
              "-1"
            ]
          },
          "metadata": {
            "tags": []
          },
          "execution_count": 26
        }
      ]
    },
    {
      "cell_type": "markdown",
      "metadata": {
        "id": "ei72Fi4yvojE",
        "colab_type": "text"
      },
      "source": [
        "max()는 리스트의 최댓값, min()는 리스트의 최솟값을 읽는 내장함수이다."
      ]
    },
    {
      "cell_type": "markdown",
      "metadata": {
        "colab_type": "text",
        "id": "tPgFEwOlqGn9"
      },
      "source": [
        "## 8\n",
        "\n",
        "17 / 3의 결과는 다음과 같다.\n",
        "```\n",
        ">>> 17 / 3\n",
        "5.666666666666667\n",
        "```\n",
        "위와 같은 결괏값 5.666666666666667을 소숫점 4자리까지만 반올림하여 표시해 보자."
      ]
    },
    {
      "cell_type": "code",
      "metadata": {
        "colab_type": "code",
        "id": "kxnZdkrLqJ5_",
        "colab": {},
        "outputId": "0323ba3c-fbe5-41b0-c0de-ff31ab3e7256"
      },
      "source": [
        " round(17/3, 4)"
      ],
      "execution_count": 0,
      "outputs": [
        {
          "output_type": "execute_result",
          "data": {
            "text/plain": [
              "5.6667"
            ]
          },
          "metadata": {
            "tags": []
          },
          "execution_count": 27
        }
      ]
    },
    {
      "cell_type": "markdown",
      "metadata": {
        "id": "8Et4v4Uivojg",
        "colab_type": "text"
      },
      "source": [
        "round(number,a) 함수는 number를 입력받아 소수점 a자리까지만 반올림해 주는 함수이다."
      ]
    },
    {
      "cell_type": "markdown",
      "metadata": {
        "colab_type": "text",
        "id": "aW8Lsr7WqK-h"
      },
      "source": [
        "## 9\n",
        "\n",
        "다음과 같이 실행할 때 입력값을 모두 더하여 출력하는 스크립트(C:\\doit\\myargv.py)를 작성해 보자.\n",
        "```\n",
        "C:\\> cd doit\n",
        "C:\\doit> python myargv.py 1 2 3 4 5 6 7 8 9 10\n",
        "55\n",
        "```"
      ]
    },
    {
      "cell_type": "code",
      "metadata": {
        "id": "foBYVvOdvojl",
        "colab_type": "code",
        "colab": {}
      },
      "source": [
        "!mkdir doit # 우선 doit 폴더 생성"
      ],
      "execution_count": 0,
      "outputs": []
    },
    {
      "cell_type": "code",
      "metadata": {
        "id": "mykNn6uUvoju",
        "colab_type": "code",
        "colab": {
          "base_uri": "https://localhost:8080/",
          "height": 34
        },
        "outputId": "bb5b587e-c6df-47d0-8dbd-2194b6d17c7c"
      },
      "source": [
        "%%writefile /content/doit/myargv.py\n",
        "\n",
        "import sys\n",
        "\n",
        "numbers = sys.argv[1:] \n",
        "\n",
        "result = 0\n",
        "for number in numbers:\n",
        "    result += int(number)\n",
        "print(result)"
      ],
      "execution_count": 7,
      "outputs": [
        {
          "output_type": "stream",
          "text": [
            "Overwriting /content/doit/myargv.py\n"
          ],
          "name": "stdout"
        }
      ]
    },
    {
      "cell_type": "markdown",
      "metadata": {
        "id": "7wuP8tz3H3w0",
        "colab_type": "text"
      },
      "source": [
        "sys모듈의 argv를 사용하여 명령 행 입력값 모두를 차례대로 더한다.\n",
        "\n",
        "sys.argv[1:] = 파일 이름을 제외한 1자리의 입력부터 수행."
      ]
    },
    {
      "cell_type": "code",
      "metadata": {
        "id": "ory0Vt1BwS4n",
        "colab_type": "code",
        "colab": {
          "base_uri": "https://localhost:8080/",
          "height": 34
        },
        "outputId": "82a95abe-a68e-48b5-a73b-504581814463"
      },
      "source": [
        "%run -i doit/myargv.py 1 2 3 4 5 6 7 8 9 10"
      ],
      "execution_count": 9,
      "outputs": [
        {
          "output_type": "stream",
          "text": [
            "55\n"
          ],
          "name": "stdout"
        }
      ]
    },
    {
      "cell_type": "markdown",
      "metadata": {
        "colab_type": "text",
        "id": "Tzszfx1xqQe_"
      },
      "source": [
        "## 10\n",
        "\n",
        "os 모듈을 사용하여 다음과 같이 동작하도록 코드를 작성해 보자.\n",
        "\n",
        "1. C:\\doit 디렉터리로 이동한다.\n",
        "2. dir 명령을 실행하고 그 결과를 변수에 담는다.\n",
        "3. dir 명령의 결과를 출력한다."
      ]
    },
    {
      "cell_type": "markdown",
      "metadata": {
        "id": "RU1T59p3vokC",
        "colab_type": "text"
      },
      "source": [
        "**C:\\doit는 내 컴퓨터에서 C:\\users\\유순영이다.**\n",
        "\n",
        "os 모듈의 chdir을 사용하여 C:\\users\\유순영 이라는 디렉터리로 이동한다."
      ]
    },
    {
      "cell_type": "code",
      "metadata": {
        "colab_type": "code",
        "id": "XDysUjo_qVfC",
        "colab": {}
      },
      "source": [
        "import os\n",
        "os.chdir(\"c:/users/유순영\")"
      ],
      "execution_count": 0,
      "outputs": []
    },
    {
      "cell_type": "markdown",
      "metadata": {
        "id": "sH0dhm1TvokX",
        "colab_type": "text"
      },
      "source": [
        "그리고 os 모듈의 popen을 사용하여 시스템 명령어인 dir을 수행한다."
      ]
    },
    {
      "cell_type": "code",
      "metadata": {
        "id": "1bsAkXVnvokc",
        "colab_type": "code",
        "colab": {}
      },
      "source": [
        "result = os.popen(\"dir\")"
      ],
      "execution_count": 0,
      "outputs": []
    },
    {
      "cell_type": "markdown",
      "metadata": {
        "id": "uzpMigZwvokl",
        "colab_type": "text"
      },
      "source": [
        "popen의 결과를 출력한다."
      ]
    },
    {
      "cell_type": "code",
      "metadata": {
        "id": "aqE6Gd97vokn",
        "colab_type": "code",
        "colab": {},
        "outputId": "85fe53f2-3cd1-4088-bd64-4c191218cd5c"
      },
      "source": [
        "print(result.read())"
      ],
      "execution_count": 0,
      "outputs": [
        {
          "output_type": "stream",
          "text": [
            " C 드라이브의 볼륨에는 이름이 없습니다.\n",
            " 볼륨 일련 번호: E4E8-7655\n",
            "\n",
            " c:\\users\\유순영 디렉터리\n",
            "\n",
            "2019-10-08  오후 11:33    <DIR>          .\n",
            "2019-10-08  오후 11:33    <DIR>          ..\n",
            "2019-08-27  오후 02:54    <DIR>          .conda\n",
            "2019-08-27  오후 02:05                43 .condarc\n",
            "2019-07-24  오전 11:59               206 .gitconfig\n",
            "2017-10-11  오후 05:45    <DIR>          .idlerc\n",
            "2019-10-08  오후 11:02    <DIR>          .ipynb_checkpoints\n",
            "2019-09-03  오후 06:35    <DIR>          .ipython\n",
            "2019-09-06  오후 01:03    <DIR>          .jupyter\n",
            "2019-09-20  오후 10:03    <DIR>          .matplotlib\n",
            "2019-07-29  오후 08:43    <DIR>          3D Objects\n",
            "2019-09-17  오후 07:09            36,036 Ch3_ysy.ipynb\n",
            "2019-09-28  오후 09:15             4,984 ch5-5.3.ipynb\n",
            "2019-09-17  오후 07:01            11,918 ch_4-4.2.ipynb\n",
            "2019-09-24  오후 07:12           131,877 ch_4.3-.ipynb\n",
            "2019-09-20  오후 10:20    <DIR>          common\n",
            "2019-07-29  오후 08:43    <DIR>          Contacts\n",
            "2019-09-16  오후 10:36    <DIR>          dataset\n",
            "2019-10-05  오후 01:46    <DIR>          Desktop\n",
            "2019-08-24  오후 02:38    <DIR>          Documents\n",
            "2019-10-08  오후 10:59    <DIR>          Downloads\n",
            "2019-08-20  오후 03:08    <DIR>          Favorites\n",
            "2019-01-09  오후 10:41    <DIR>          Intel\n",
            "2019-10-08  오후 11:33            16,623 jump_to_python_ch5.ipynb\n",
            "2019-09-10  오후 06:54    <DIR>          jupyternotebooks\n",
            "2019-07-29  오후 08:43    <DIR>          Links\n",
            "2019-09-08  오후 09:36             7,106 Markdown.ipynb\n",
            "2019-09-08  오후 09:38             7,106 Markdown_17101595 유순영.ipynb\n",
            "2019-07-29  오후 08:43    <DIR>          Music\n",
            "2019-10-05  오전 11:05    <DIR>          OneDrive\n",
            "2019-07-29  오후 08:43    <DIR>          Pictures\n",
            "2019-07-29  오후 08:43    <DIR>          Saved Games\n",
            "2019-07-29  오후 08:43    <DIR>          Searches\n",
            "2016-02-19  오후 05:51    <DIR>          Tracing\n",
            "2019-05-03  오전 06:54             2,436 two_layer_net.py\n",
            "2019-07-20  오후 11:41            15,086 Untitled.ipynb\n",
            "2019-09-03  오후 06:37             1,054 Untitled1.ipynb\n",
            "2019-09-20  오후 10:50               845 Untitled2.ipynb\n",
            "2019-09-22  오전 11:31             3,312 Untitled3.ipynb\n",
            "2019-08-24  오후 03:35    <DIR>          Videos\n",
            "2019-09-22  오전 11:38    <DIR>          __pycache__\n",
            "              14개 파일             238,632 바이트\n",
            "              27개 디렉터리  20,200,202,240 바이트 남음\n",
            "\n"
          ],
          "name": "stdout"
        }
      ]
    },
    {
      "cell_type": "markdown",
      "metadata": {
        "colab_type": "text",
        "id": "yAft_a1_qWkY"
      },
      "source": [
        "## 11\n",
        "\n",
        "glob 모듈을 사용하여 C:\\doit 디렉터리의 파일 중 확장자가 .py인 파일만 출력하는 프로그램을 작성해 보자."
      ]
    },
    {
      "cell_type": "code",
      "metadata": {
        "colab_type": "code",
        "id": "fjOBb9n0qZAH",
        "colab": {},
        "outputId": "b12a7c8b-077b-46de-adc2-b4d345c100d2"
      },
      "source": [
        "import glob\n",
        "glob.glob(\"C:/users/유순영/*.py\")"
      ],
      "execution_count": 0,
      "outputs": [
        {
          "output_type": "execute_result",
          "data": {
            "text/plain": [
              "['C:/users/유순영\\\\two_layer_net.py']"
            ]
          },
          "metadata": {
            "tags": []
          },
          "execution_count": 40
        }
      ]
    },
    {
      "cell_type": "markdown",
      "metadata": {
        "colab_type": "text",
        "id": "i8hXpbEsqaBU"
      },
      "source": [
        "## 12\n",
        "\n",
        "time 모듈을 사용하여 현재 날짜와 시간을 다음과 같은 형식으로 출력해 보자.\n",
        "```\n",
        "2018/04/03 17:20:32\n",
        "```"
      ]
    },
    {
      "cell_type": "code",
      "metadata": {
        "colab_type": "code",
        "id": "paJe-9muqdcl",
        "colab": {},
        "outputId": "ce488f33-241e-4a6a-8605-2e54eac5b804"
      },
      "source": [
        "import time\n",
        "time.strftime(\"%Y/%m/%d %H:%M:%S\")"
      ],
      "execution_count": 0,
      "outputs": [
        {
          "output_type": "execute_result",
          "data": {
            "text/plain": [
              "'2019/10/08 23:38:50'"
            ]
          },
          "metadata": {
            "tags": []
          },
          "execution_count": 41
        }
      ]
    },
    {
      "cell_type": "markdown",
      "metadata": {
        "id": "mZK2_eG-voll",
        "colab_type": "text"
      },
      "source": [
        "%Y:년, %m:월, %d:일, %H:시, %M:분, %S:초"
      ]
    },
    {
      "cell_type": "markdown",
      "metadata": {
        "colab_type": "text",
        "id": "ttaFK7N4qeHj"
      },
      "source": [
        "## 13\n",
        "\n",
        "random 모듈을 사용하여 로또 번호(1~45 사이의 숫자 6개)를 생성해 보자(단 중복된 숫자가 있으면 안 됨)."
      ]
    },
    {
      "cell_type": "code",
      "metadata": {
        "colab_type": "code",
        "id": "Gw8dPsEoqguw",
        "colab": {},
        "outputId": "c16ac97b-bcb8-45d7-c059-388432da8ed0"
      },
      "source": [
        "import random\n",
        "\n",
        "result = []\n",
        "while len(result) < 6:\n",
        "    num = random.randint(1, 45)\n",
        "    if num not in result:\n",
        "        result.append(num)\n",
        "\n",
        "print(result)"
      ],
      "execution_count": 0,
      "outputs": [
        {
          "output_type": "stream",
          "text": [
            "[33, 41, 11, 19, 42, 13]\n"
          ],
          "name": "stdout"
        }
      ]
    },
    {
      "cell_type": "markdown",
      "metadata": {
        "id": "2qQxd-givomD",
        "colab_type": "text"
      },
      "source": [
        "random.randint는 정수 난수 1개의 값을 돌려준다."
      ]
    },
    {
      "cell_type": "code",
      "metadata": {
        "id": "LVAxHQXsvomG",
        "colab_type": "code",
        "colab": {}
      },
      "source": [
        ""
      ],
      "execution_count": 0,
      "outputs": []
    }
  ]
}