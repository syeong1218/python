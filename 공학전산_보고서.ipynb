{
  "nbformat": 4,
  "nbformat_minor": 0,
  "metadata": {
    "colab": {
      "name": "공학전산 보고서",
      "provenance": [],
      "collapsed_sections": [
        "_FejRWp-j5Pa"
      ],
      "machine_shape": "hm",
      "include_colab_link": true
    },
    "kernelspec": {
      "name": "python3",
      "display_name": "Python 3"
    },
    "accelerator": "GPU"
  },
  "cells": [
    {
      "cell_type": "markdown",
      "metadata": {
        "id": "view-in-github",
        "colab_type": "text"
      },
      "source": [
        "<a href=\"https://colab.research.google.com/github/syeong1218/python/blob/master/%EA%B3%B5%ED%95%99%EC%A0%84%EC%82%B0_%EB%B3%B4%EA%B3%A0%EC%84%9C.ipynb\" target=\"_parent\"><img src=\"https://colab.research.google.com/assets/colab-badge.svg\" alt=\"Open In Colab\"/></a>"
      ]
    },
    {
      "cell_type": "markdown",
      "metadata": {
        "id": "um_YY3yt7jVg",
        "colab_type": "text"
      },
      "source": [
        "조원 : 17101595 유순영, 14108307 구교훈, 15108382 임영준"
      ]
    },
    {
      "cell_type": "markdown",
      "metadata": {
        "id": "yCGO8kJ0wDf-",
        "colab_type": "text"
      },
      "source": [
        "# **Ⅰ. SMILES(Simplified Molecular Input Line Entry System)**\n",
        "## **1. SMILES의 정의**\n",
        "SMILES(Simplified Molecular Input Line Entry System)은 화학물질의 구조를 짧은 ASCII를 이용하여 문자열로 나타내는 방법입니다. 즉, 화학정보학을 위해 2차원, 3차원의 구조를 가진 분자와 화학반응을 문자열로 표기한 간단한 화학 언어입니다. 그래서 적은 양의 데이터를 이용하여 화학물질을 나타낼 수 있습니다.\n",
        "\n",
        "RDkit는 화학정보학을 위한 Open-source module로 이를 다운받아야 SMILES를 사용할 수 있다. 코랩에서 아래 코드를 실행시키면 됩니다.\n",
        "\n"
      ]
    },
    {
      "cell_type": "markdown",
      "metadata": {
        "id": "_FejRWp-j5Pa",
        "colab_type": "text"
      },
      "source": [
        "#### RDkit 다운코드"
      ]
    },
    {
      "cell_type": "code",
      "metadata": {
        "id": "m8nEeLqdvBKQ",
        "colab_type": "code",
        "outputId": "9a360f9f-b338-49e1-970e-287075604202",
        "colab": {
          "base_uri": "https://localhost:8080/",
          "height": 1000
        }
      },
      "source": [
        "!wget -c https://repo.continuum.io/miniconda/Miniconda3-latest-Linux-x86_64.sh\n",
        "!chmod +x Miniconda3-latest-Linux-x86_64.sh\n",
        "!time bash ./Miniconda3-latest-Linux-x86_64.sh -b -f -p /usr/local\n",
        "!time conda install -q -y -c conda-forge rdkit"
      ],
      "execution_count": 0,
      "outputs": [
        {
          "output_type": "stream",
          "text": [
            "--2019-12-14 04:50:09--  https://repo.continuum.io/miniconda/Miniconda3-latest-Linux-x86_64.sh\n",
            "Resolving repo.continuum.io (repo.continuum.io)... 104.18.200.79, 104.18.201.79, 2606:4700::6812:c94f, ...\n",
            "Connecting to repo.continuum.io (repo.continuum.io)|104.18.200.79|:443... connected.\n",
            "HTTP request sent, awaiting response... 200 OK\n",
            "Length: 71785000 (68M) [application/x-sh]\n",
            "Saving to: ‘Miniconda3-latest-Linux-x86_64.sh’\n",
            "\n",
            "\r          Miniconda   0%[                    ]       0  --.-KB/s               \r         Miniconda3  64%[===========>        ]  43.93M   220MB/s               \rMiniconda3-latest-L 100%[===================>]  68.46M   210MB/s    in 0.3s    \n",
            "\n",
            "2019-12-14 04:50:09 (210 MB/s) - ‘Miniconda3-latest-Linux-x86_64.sh’ saved [71785000/71785000]\n",
            "\n",
            "PREFIX=/usr/local\n",
            "Unpacking payload ...\n",
            "Collecting package metadata (current_repodata.json): - \b\b\\ \b\bdone\n",
            "Solving environment: / \b\b- \b\bdone\n",
            "\n",
            "## Package Plan ##\n",
            "\n",
            "  environment location: /usr/local\n",
            "\n",
            "  added / updated specs:\n",
            "    - _libgcc_mutex==0.1=main\n",
            "    - asn1crypto==1.2.0=py37_0\n",
            "    - ca-certificates==2019.10.16=0\n",
            "    - certifi==2019.9.11=py37_0\n",
            "    - cffi==1.13.0=py37h2e261b9_0\n",
            "    - chardet==3.0.4=py37_1003\n",
            "    - conda-package-handling==1.6.0=py37h7b6447c_0\n",
            "    - conda==4.7.12=py37_0\n",
            "    - cryptography==2.8=py37h1ba5d50_0\n",
            "    - idna==2.8=py37_0\n",
            "    - libedit==3.1.20181209=hc058e9b_0\n",
            "    - libffi==3.2.1=hd88cf55_4\n",
            "    - libgcc-ng==9.1.0=hdf63c60_0\n",
            "    - libstdcxx-ng==9.1.0=hdf63c60_0\n",
            "    - ncurses==6.1=he6710b0_1\n",
            "    - openssl==1.1.1d=h7b6447c_3\n",
            "    - pip==19.3.1=py37_0\n",
            "    - pycosat==0.6.3=py37h14c3975_0\n",
            "    - pycparser==2.19=py37_0\n",
            "    - pyopenssl==19.0.0=py37_0\n",
            "    - pysocks==1.7.1=py37_0\n",
            "    - python==3.7.4=h265db76_1\n",
            "    - readline==7.0=h7b6447c_5\n",
            "    - requests==2.22.0=py37_0\n",
            "    - ruamel_yaml==0.15.46=py37h14c3975_0\n",
            "    - setuptools==41.4.0=py37_0\n",
            "    - six==1.12.0=py37_0\n",
            "    - sqlite==3.30.0=h7b6447c_0\n",
            "    - tk==8.6.8=hbc83047_0\n",
            "    - tqdm==4.36.1=py_0\n",
            "    - urllib3==1.24.2=py37_0\n",
            "    - wheel==0.33.6=py37_0\n",
            "    - xz==5.2.4=h14c3975_4\n",
            "    - yaml==0.1.7=had09818_2\n",
            "    - zlib==1.2.11=h7b6447c_3\n",
            "\n",
            "\n",
            "The following NEW packages will be INSTALLED:\n",
            "\n",
            "  _libgcc_mutex      pkgs/main/linux-64::_libgcc_mutex-0.1-main\n",
            "  asn1crypto         pkgs/main/linux-64::asn1crypto-1.2.0-py37_0\n",
            "  ca-certificates    pkgs/main/linux-64::ca-certificates-2019.10.16-0\n",
            "  certifi            pkgs/main/linux-64::certifi-2019.9.11-py37_0\n",
            "  cffi               pkgs/main/linux-64::cffi-1.13.0-py37h2e261b9_0\n",
            "  chardet            pkgs/main/linux-64::chardet-3.0.4-py37_1003\n",
            "  conda              pkgs/main/linux-64::conda-4.7.12-py37_0\n",
            "  conda-package-han~ pkgs/main/linux-64::conda-package-handling-1.6.0-py37h7b6447c_0\n",
            "  cryptography       pkgs/main/linux-64::cryptography-2.8-py37h1ba5d50_0\n",
            "  idna               pkgs/main/linux-64::idna-2.8-py37_0\n",
            "  libedit            pkgs/main/linux-64::libedit-3.1.20181209-hc058e9b_0\n",
            "  libffi             pkgs/main/linux-64::libffi-3.2.1-hd88cf55_4\n",
            "  libgcc-ng          pkgs/main/linux-64::libgcc-ng-9.1.0-hdf63c60_0\n",
            "  libstdcxx-ng       pkgs/main/linux-64::libstdcxx-ng-9.1.0-hdf63c60_0\n",
            "  ncurses            pkgs/main/linux-64::ncurses-6.1-he6710b0_1\n",
            "  openssl            pkgs/main/linux-64::openssl-1.1.1d-h7b6447c_3\n",
            "  pip                pkgs/main/linux-64::pip-19.3.1-py37_0\n",
            "  pycosat            pkgs/main/linux-64::pycosat-0.6.3-py37h14c3975_0\n",
            "  pycparser          pkgs/main/linux-64::pycparser-2.19-py37_0\n",
            "  pyopenssl          pkgs/main/linux-64::pyopenssl-19.0.0-py37_0\n",
            "  pysocks            pkgs/main/linux-64::pysocks-1.7.1-py37_0\n",
            "  python             pkgs/main/linux-64::python-3.7.4-h265db76_1\n",
            "  readline           pkgs/main/linux-64::readline-7.0-h7b6447c_5\n",
            "  requests           pkgs/main/linux-64::requests-2.22.0-py37_0\n",
            "  ruamel_yaml        pkgs/main/linux-64::ruamel_yaml-0.15.46-py37h14c3975_0\n",
            "  setuptools         pkgs/main/linux-64::setuptools-41.4.0-py37_0\n",
            "  six                pkgs/main/linux-64::six-1.12.0-py37_0\n",
            "  sqlite             pkgs/main/linux-64::sqlite-3.30.0-h7b6447c_0\n",
            "  tk                 pkgs/main/linux-64::tk-8.6.8-hbc83047_0\n",
            "  tqdm               pkgs/main/noarch::tqdm-4.36.1-py_0\n",
            "  urllib3            pkgs/main/linux-64::urllib3-1.24.2-py37_0\n",
            "  wheel              pkgs/main/linux-64::wheel-0.33.6-py37_0\n",
            "  xz                 pkgs/main/linux-64::xz-5.2.4-h14c3975_4\n",
            "  yaml               pkgs/main/linux-64::yaml-0.1.7-had09818_2\n",
            "  zlib               pkgs/main/linux-64::zlib-1.2.11-h7b6447c_3\n",
            "\n",
            "\n",
            "Preparing transaction: | \b\b/ \b\b- \b\b\\ \b\bdone\n",
            "Executing transaction: / \b\b- \b\b\\ \b\b| \b\b/ \b\b- \b\b\\ \b\b| \b\b/ \b\b- \b\b\\ \b\bdone\n",
            "installation finished.\n",
            "WARNING:\n",
            "    You currently have a PYTHONPATH environment variable set. This may cause\n",
            "    unexpected behavior when running the Python interpreter in Miniconda3.\n",
            "    For best results, please verify that your PYTHONPATH only points to\n",
            "    directories of packages that are compatible with the Python interpreter\n",
            "    in Miniconda3: /usr/local\n",
            "\n",
            "real\t0m14.534s\n",
            "user\t0m8.578s\n",
            "sys\t0m3.669s\n",
            "Collecting package metadata (current_repodata.json): ...working... done\n",
            "Solving environment: ...working... done\n",
            "\n",
            "## Package Plan ##\n",
            "\n",
            "  environment location: /usr/local\n",
            "\n",
            "  added / updated specs:\n",
            "    - rdkit\n",
            "\n",
            "\n",
            "The following packages will be downloaded:\n",
            "\n",
            "    package                    |            build\n",
            "    ---------------------------|-----------------\n",
            "    boost-1.70.0               |   py37h9de70de_1         337 KB  conda-forge\n",
            "    boost-cpp-1.70.0           |       h8e57a91_2        21.1 MB  conda-forge\n",
            "    bzip2-1.0.8                |       h516909a_2         396 KB  conda-forge\n",
            "    ca-certificates-2019.11.28 |       hecc5488_0         145 KB  conda-forge\n",
            "    cairo-1.16.0               |    hfb77d84_1002         1.5 MB  conda-forge\n",
            "    certifi-2019.11.28         |           py37_0         148 KB  conda-forge\n",
            "    conda-4.8.0                |           py37_0         3.0 MB  conda-forge\n",
            "    fontconfig-2.13.1          |    h86ecdb6_1001         340 KB  conda-forge\n",
            "    freetype-2.10.0            |       he983fc9_1         884 KB  conda-forge\n",
            "    gettext-0.19.8.1           |    hc5be6a0_1002         3.6 MB  conda-forge\n",
            "    glib-2.58.3                |py37h6f030ca_1002         3.3 MB  conda-forge\n",
            "    icu-64.2                   |       he1b5a44_1        12.6 MB  conda-forge\n",
            "    jpeg-9c                    |    h14c3975_1001         251 KB  conda-forge\n",
            "    libblas-3.8.0              |      14_openblas          10 KB  conda-forge\n",
            "    libcblas-3.8.0             |      14_openblas          10 KB  conda-forge\n",
            "    libgfortran-ng-7.3.0       |       hdf63c60_2         1.7 MB  conda-forge\n",
            "    libiconv-1.15              |    h516909a_1005         2.0 MB  conda-forge\n",
            "    liblapack-3.8.0            |      14_openblas          10 KB  conda-forge\n",
            "    libopenblas-0.3.7          |       h5ec1e0e_5         7.6 MB  conda-forge\n",
            "    libpng-1.6.37              |       hed695b0_0         343 KB  conda-forge\n",
            "    libtiff-4.1.0              |       hc3755c2_1         609 KB  conda-forge\n",
            "    libuuid-2.32.1             |    h14c3975_1000          26 KB  conda-forge\n",
            "    libxcb-1.13                |    h14c3975_1002         396 KB  conda-forge\n",
            "    libxml2-2.9.10             |       hee79883_0         1.3 MB  conda-forge\n",
            "    lz4-c-1.8.3                |    he1b5a44_1001         187 KB  conda-forge\n",
            "    numpy-1.17.3               |   py37h95a1406_0         5.1 MB  conda-forge\n",
            "    olefile-0.46               |             py_0          31 KB  conda-forge\n",
            "    openssl-1.1.1d             |       h516909a_0         2.1 MB  conda-forge\n",
            "    pandas-0.25.3              |   py37hb3f55d8_0        11.4 MB  conda-forge\n",
            "    pcre-8.43                  |       he1b5a44_0         257 KB  conda-forge\n",
            "    pillow-6.2.1               |   py37h34e0f95_0         643 KB\n",
            "    pixman-0.38.0              |    h516909a_1003         594 KB  conda-forge\n",
            "    pthread-stubs-0.4          |    h14c3975_1001           5 KB  conda-forge\n",
            "    pycairo-1.18.2             |   py37h438ddbb_0          77 KB  conda-forge\n",
            "    python-dateutil-2.8.1      |             py_0         220 KB  conda-forge\n",
            "    pytz-2019.3                |             py_0         237 KB  conda-forge\n",
            "    rdkit-2019.09.2            |   py37hb31dc5d_0        23.8 MB  conda-forge\n",
            "    xorg-kbproto-1.0.7         |    h14c3975_1002          26 KB  conda-forge\n",
            "    xorg-libice-1.0.10         |       h516909a_0          57 KB  conda-forge\n",
            "    xorg-libsm-1.2.3           |    h84519dc_1000          25 KB  conda-forge\n",
            "    xorg-libx11-1.6.9          |       h516909a_0         918 KB  conda-forge\n",
            "    xorg-libxau-1.0.9          |       h14c3975_0          13 KB  conda-forge\n",
            "    xorg-libxdmcp-1.1.3        |       h516909a_0          18 KB  conda-forge\n",
            "    xorg-libxext-1.3.4         |       h516909a_0          51 KB  conda-forge\n",
            "    xorg-libxrender-0.9.10     |    h516909a_1002          31 KB  conda-forge\n",
            "    xorg-renderproto-0.11.1    |    h14c3975_1002           8 KB  conda-forge\n",
            "    xorg-xextproto-7.3.0       |    h14c3975_1002          27 KB  conda-forge\n",
            "    xorg-xproto-7.0.31         |    h14c3975_1007          72 KB  conda-forge\n",
            "    zstd-1.4.4                 |       h3b9ef0a_1         989 KB  conda-forge\n",
            "    ------------------------------------------------------------\n",
            "                                           Total:       108.4 MB\n",
            "\n",
            "The following NEW packages will be INSTALLED:\n",
            "\n",
            "  boost              conda-forge/linux-64::boost-1.70.0-py37h9de70de_1\n",
            "  boost-cpp          conda-forge/linux-64::boost-cpp-1.70.0-h8e57a91_2\n",
            "  bzip2              conda-forge/linux-64::bzip2-1.0.8-h516909a_2\n",
            "  cairo              conda-forge/linux-64::cairo-1.16.0-hfb77d84_1002\n",
            "  fontconfig         conda-forge/linux-64::fontconfig-2.13.1-h86ecdb6_1001\n",
            "  freetype           conda-forge/linux-64::freetype-2.10.0-he983fc9_1\n",
            "  gettext            conda-forge/linux-64::gettext-0.19.8.1-hc5be6a0_1002\n",
            "  glib               conda-forge/linux-64::glib-2.58.3-py37h6f030ca_1002\n",
            "  icu                conda-forge/linux-64::icu-64.2-he1b5a44_1\n",
            "  jpeg               conda-forge/linux-64::jpeg-9c-h14c3975_1001\n",
            "  libblas            conda-forge/linux-64::libblas-3.8.0-14_openblas\n",
            "  libcblas           conda-forge/linux-64::libcblas-3.8.0-14_openblas\n",
            "  libgfortran-ng     conda-forge/linux-64::libgfortran-ng-7.3.0-hdf63c60_2\n",
            "  libiconv           conda-forge/linux-64::libiconv-1.15-h516909a_1005\n",
            "  liblapack          conda-forge/linux-64::liblapack-3.8.0-14_openblas\n",
            "  libopenblas        conda-forge/linux-64::libopenblas-0.3.7-h5ec1e0e_5\n",
            "  libpng             conda-forge/linux-64::libpng-1.6.37-hed695b0_0\n",
            "  libtiff            conda-forge/linux-64::libtiff-4.1.0-hc3755c2_1\n",
            "  libuuid            conda-forge/linux-64::libuuid-2.32.1-h14c3975_1000\n",
            "  libxcb             conda-forge/linux-64::libxcb-1.13-h14c3975_1002\n",
            "  libxml2            conda-forge/linux-64::libxml2-2.9.10-hee79883_0\n",
            "  lz4-c              conda-forge/linux-64::lz4-c-1.8.3-he1b5a44_1001\n",
            "  numpy              conda-forge/linux-64::numpy-1.17.3-py37h95a1406_0\n",
            "  olefile            conda-forge/noarch::olefile-0.46-py_0\n",
            "  pandas             conda-forge/linux-64::pandas-0.25.3-py37hb3f55d8_0\n",
            "  pcre               conda-forge/linux-64::pcre-8.43-he1b5a44_0\n",
            "  pillow             pkgs/main/linux-64::pillow-6.2.1-py37h34e0f95_0\n",
            "  pixman             conda-forge/linux-64::pixman-0.38.0-h516909a_1003\n",
            "  pthread-stubs      conda-forge/linux-64::pthread-stubs-0.4-h14c3975_1001\n",
            "  pycairo            conda-forge/linux-64::pycairo-1.18.2-py37h438ddbb_0\n",
            "  python-dateutil    conda-forge/noarch::python-dateutil-2.8.1-py_0\n",
            "  pytz               conda-forge/noarch::pytz-2019.3-py_0\n",
            "  rdkit              conda-forge/linux-64::rdkit-2019.09.2-py37hb31dc5d_0\n",
            "  xorg-kbproto       conda-forge/linux-64::xorg-kbproto-1.0.7-h14c3975_1002\n",
            "  xorg-libice        conda-forge/linux-64::xorg-libice-1.0.10-h516909a_0\n",
            "  xorg-libsm         conda-forge/linux-64::xorg-libsm-1.2.3-h84519dc_1000\n",
            "  xorg-libx11        conda-forge/linux-64::xorg-libx11-1.6.9-h516909a_0\n",
            "  xorg-libxau        conda-forge/linux-64::xorg-libxau-1.0.9-h14c3975_0\n",
            "  xorg-libxdmcp      conda-forge/linux-64::xorg-libxdmcp-1.1.3-h516909a_0\n",
            "  xorg-libxext       conda-forge/linux-64::xorg-libxext-1.3.4-h516909a_0\n",
            "  xorg-libxrender    conda-forge/linux-64::xorg-libxrender-0.9.10-h516909a_1002\n",
            "  xorg-renderproto   conda-forge/linux-64::xorg-renderproto-0.11.1-h14c3975_1002\n",
            "  xorg-xextproto     conda-forge/linux-64::xorg-xextproto-7.3.0-h14c3975_1002\n",
            "  xorg-xproto        conda-forge/linux-64::xorg-xproto-7.0.31-h14c3975_1007\n",
            "  zstd               conda-forge/linux-64::zstd-1.4.4-h3b9ef0a_1\n",
            "\n",
            "The following packages will be UPDATED:\n",
            "\n",
            "  ca-certificates    pkgs/main::ca-certificates-2019.10.16~ --> conda-forge::ca-certificates-2019.11.28-hecc5488_0\n",
            "  certifi               pkgs/main::certifi-2019.9.11-py37_0 --> conda-forge::certifi-2019.11.28-py37_0\n",
            "  conda                      pkgs/main::conda-4.7.12-py37_0 --> conda-forge::conda-4.8.0-py37_0\n",
            "\n",
            "The following packages will be SUPERSEDED by a higher-priority channel:\n",
            "\n",
            "  openssl              pkgs/main::openssl-1.1.1d-h7b6447c_3 --> conda-forge::openssl-1.1.1d-h516909a_0\n",
            "\n",
            "\n",
            "Preparing transaction: ...working... done\n",
            "Verifying transaction: ...working... done\n",
            "Executing transaction: ...working... done\n",
            "\n",
            "real\t0m42.050s\n",
            "user\t0m36.220s\n",
            "sys\t0m4.399s\n"
          ],
          "name": "stdout"
        }
      ]
    },
    {
      "cell_type": "code",
      "metadata": {
        "id": "9ujtZMyN42fI",
        "colab_type": "code",
        "colab": {}
      },
      "source": [
        "%matplotlib inline\n",
        "import matplotlib.pyplot as plt\n",
        "import sys\n",
        "import os\n",
        "sys.path.append('/usr/local/lib/python3.7/site-packages/')"
      ],
      "execution_count": 0,
      "outputs": []
    },
    {
      "cell_type": "markdown",
      "metadata": {
        "id": "BfmSL4xRkKvK",
        "colab_type": "text"
      },
      "source": [
        "#### RDkit import"
      ]
    },
    {
      "cell_type": "code",
      "metadata": {
        "id": "3DKV9kv95B_M",
        "colab_type": "code",
        "colab": {}
      },
      "source": [
        "from __future__ import print_function\n",
        "from rdkit import Chem\n",
        "from rdkit.Chem import AllChem\n",
        "from rdkit.Chem.Draw import IPythonConsole\n",
        "from rdkit.Chem import Draw"
      ],
      "execution_count": 0,
      "outputs": []
    },
    {
      "cell_type": "markdown",
      "metadata": {
        "id": "0AiTV3WMwAwx",
        "colab_type": "text"
      },
      "source": [
        "위의 Draw는 Python에서 SMILES로 표현한 화학물질을 Output에서 그림으로 출력하게 하는 함수입니다. Draw 함수를 import하지 않으면 SMILES의 저장 위치가 출력됩니다. 그래서 \n",
        "밑에서 두 번째까지의 코드를 default 하겠습니다. 또한 화학적으로 불가능한 화합물의 경우 출력이 되지 않습니다.\n",
        "\n",
        "**SMILES의 활용 분야**\n",
        "  - 데이터베이스 접근의 키\n",
        "  - 연구자들의 화학정보 변환 메커니즘\n",
        "  - 화학 데이터 입력 시스템\n",
        "  - 화학 시스템이나 AI를 위한 언어"
      ]
    },
    {
      "cell_type": "markdown",
      "metadata": {
        "id": "s4uKWDRf7rk4",
        "colab_type": "text"
      },
      "source": [
        "## **2. 정규화(Canonicalization)**\n",
        "분자를 묘사하기 위한 2차원의 그림입니다. 원자와 결합에 대해서만  나타낸 SMILES을 'generic SMILES'라고 합니다. 일반적으로 하나의 화학물질에 대해 결과값은 동일하지만 다양한 SMILES로 입력할 수 있습니다."
      ]
    },
    {
      "cell_type": "code",
      "metadata": {
        "id": "c4gt08Oz6rwH",
        "colab_type": "code",
        "colab": {}
      },
      "source": [
        "a = Chem.MolFromSmiles('OCN')"
      ],
      "execution_count": 0,
      "outputs": []
    },
    {
      "cell_type": "code",
      "metadata": {
        "id": "zAosamwABB5g",
        "colab_type": "code",
        "outputId": "75dde86f-4ece-429c-9010-8a14127a20fa",
        "colab": {
          "base_uri": "https://localhost:8080/",
          "height": 34
        }
      },
      "source": [
        "Chem.MolToSmiles(Chem.MolFromSmiles('OCN'))"
      ],
      "execution_count": 0,
      "outputs": [
        {
          "output_type": "execute_result",
          "data": {
            "text/plain": [
              "'NCO'"
            ]
          },
          "metadata": {
            "tags": []
          },
          "execution_count": 5
        }
      ]
    },
    {
      "cell_type": "code",
      "metadata": {
        "id": "u5abrBf7BDjz",
        "colab_type": "code",
        "outputId": "665ead5a-cadb-42f5-9fd4-6e3925f4f9f1",
        "colab": {
          "base_uri": "https://localhost:8080/",
          "height": 34
        }
      },
      "source": [
        "Chem.MolToSmiles(Chem.MolFromSmiles('N-C-O'))"
      ],
      "execution_count": 0,
      "outputs": [
        {
          "output_type": "execute_result",
          "data": {
            "text/plain": [
              "'NCO'"
            ]
          },
          "metadata": {
            "tags": []
          },
          "execution_count": 6
        }
      ]
    },
    {
      "cell_type": "code",
      "metadata": {
        "id": "BU5E5RudBFIZ",
        "colab_type": "code",
        "outputId": "e8ed7e3f-201a-45ca-eaf9-adcbe69c570e",
        "colab": {
          "base_uri": "https://localhost:8080/",
          "height": 167
        }
      },
      "source": [
        "a"
      ],
      "execution_count": 0,
      "outputs": [
        {
          "output_type": "execute_result",
          "data": {
            "image/png": "[encoded data removed]",
            "text/plain": [
              "<rdkit.Chem.rdchem.Mol at 0x7fbc25a0d760>"
            ]
          },
          "metadata": {
            "tags": []
          },
          "execution_count": 7
        }
      ]
    },
    {
      "cell_type": "markdown",
      "metadata": {
        "id": "_45P5iQIB456",
        "colab_type": "text"
      },
      "source": [
        "SMILES를 다르게 입력하더라도 결과값은 동일합니다.\n",
        "\n",
        "\n",
        "따라서 어떤 SMILES 을 입력하더라도 유일하게 자체적으로 하나의 SMILES으로 처리하는 것을 ‘unique SMILES'이라 하고 이를 형성하기 위한 알고리즘이 존재합니다.\n",
        "동위원소, 카이랄을 표현하기위한 SMILES를 'isomeric SMILES'이라 합니다. unique SMILES와 isomeric SMILES가 합해진 형태를 'absolute SMILES'이라 합니다.\n",
        "\n",
        "일반적으로 주어진 구조를 나타내는 SMILES구조가 많이 있는데, 모든 유효한 가능성 중에서 하나의 특별한 일반 SMILES를 생성하기 위해 canonical 알고리즘이 존재합니다. 이 특별한 SMILES는 \"unique SMILES\"로 알려져 있습니다. 일반적인 규칙을 따르는 form을 canonical form이라고 생각할 수 있습니다.\n",
        "\n"
      ]
    },
    {
      "cell_type": "markdown",
      "metadata": {
        "id": "1tx4TLEODi2w",
        "colab_type": "text"
      },
      "source": [
        "## **3. SMILES 규칙(SMILES Sepcification Rules)**\n",
        "- SMILES는 띄어쓰기를 사용하지 않고 원자들을 일렬로 나열하여 표현합니다.\n",
        "- 수소원자는 생략하거나, 포함해도 됩니다.\n",
        "- 방향족 물질들은 직관적으로 명시하거나 Kekulé form으로 분류할 수 있습니다.\n",
        "- 대표적으로 5가지의 규칙이 있습니다. \n",
        "  1. 원자(atom) \n",
        "  2. 결합(bond)\n",
        "  3. 가지(branch)\n",
        "  4. 고리닫힘(ring closure)\n",
        "  5. 단절(disconnection) "
      ]
    },
    {
      "cell_type": "markdown",
      "metadata": {
        "id": "Axikd2E7ECLQ",
        "colab_type": "text"
      },
      "source": [
        "### **3.1 원자(atom)** \n",
        "\n",
        "- 수소를 포함하지 않는 단일원자는 [ ]사용합니다.organic subset는 [ ] 없이 쓰이기도 합니다.\n",
        "\n",
        "- 최소 원자가 전자를 갖는다고 인식합니다.\n",
        "\n",
        "      B (3), C (4), N (3,5), O (2), P (3,5), S (2,4,6), 할로겐족(1)\n",
        "\n",
        "- 지방족 탄소는 대문자 'C' 로, 방향족 탄소는 'c'로 명시합니다."
      ]
    },
    {
      "cell_type": "code",
      "metadata": {
        "id": "F8ASoWZvDW3g",
        "colab_type": "code",
        "outputId": "736c38f6-86a9-40fc-e8e7-7e482ea16106",
        "colab": {
          "base_uri": "https://localhost:8080/",
          "height": 167
        }
      },
      "source": [
        "a = Chem.MolFromSmiles('C') # 수소를 생략해도 출력값에 포함됩니다.\n",
        "a"
      ],
      "execution_count": 0,
      "outputs": [
        {
          "output_type": "execute_result",
          "data": {
            "image/png": "[encoded data removed]",
            "text/plain": [
              "<rdkit.Chem.rdchem.Mol at 0x7fbc25a19260>"
            ]
          },
          "metadata": {
            "tags": []
          },
          "execution_count": 8
        }
      ]
    },
    {
      "cell_type": "code",
      "metadata": {
        "id": "qutJF1DTEuxE",
        "colab_type": "code",
        "outputId": "6e08e6dd-7080-41ed-e015-a981fb77f7a9",
        "colab": {
          "base_uri": "https://localhost:8080/",
          "height": 167
        }
      },
      "source": [
        "a = Chem.MolFromSmiles('P')\n",
        "a"
      ],
      "execution_count": 0,
      "outputs": [
        {
          "output_type": "execute_result",
          "data": {
            "image/png": "[encoded data removed]",
            "text/plain": [
              "<rdkit.Chem.rdchem.Mol at 0x7fbc25a19350>"
            ]
          },
          "metadata": {
            "tags": []
          },
          "execution_count": 9
        }
      ]
    },
    {
      "cell_type": "markdown",
      "metadata": {
        "id": "V6m73XNqE-kT",
        "colab_type": "text"
      },
      "source": [
        "- '$[]$'속의 수소와 형식전하는 반드시 명시되어야 합니다. - 결합된 수소의 수는 H 와 숫자로 표현됩니다.\n",
        "- 형식전하는 + 혹은 - 로 표시되어야 합니다. 명시되어 있지 않으면 전하는 0으로 가정합니다.\n",
        "$[Fe++] = [Fe+2]$"
      ]
    },
    {
      "cell_type": "code",
      "metadata": {
        "id": "84B5t-aPFRO-",
        "colab_type": "code",
        "outputId": "fc535a52-266c-45aa-8ebe-aaff53483d4b",
        "colab": {
          "base_uri": "https://localhost:8080/",
          "height": 167
        }
      },
      "source": [
        "a = Chem.MolFromSmiles('[Fe++]')\n",
        "a"
      ],
      "execution_count": 0,
      "outputs": [
        {
          "output_type": "execute_result",
          "data": {
            "image/png": "[encoded data removed]",
            "text/plain": [
              "<rdkit.Chem.rdchem.Mol at 0x7fbc25a19620>"
            ]
          },
          "metadata": {
            "tags": []
          },
          "execution_count": 10
        }
      ]
    },
    {
      "cell_type": "markdown",
      "metadata": {
        "id": "J8RNZL6yFzHu",
        "colab_type": "text"
      },
      "source": [
        "### **3.2 결합(Bonds)**\n",
        "- 단일 결합은 생략하거나 '-'기호를 사용한다.\n",
        "- 이중 결합은 '='기호를 사용합니다.\n",
        "- 삼중 결합은 '#'기호를 사용합니다.\n",
        "- 방향족 결합은 생락하거나 ':'기호를 사용합니다."
      ]
    },
    {
      "cell_type": "code",
      "metadata": {
        "id": "z23vP53VH4V0",
        "colab_type": "code",
        "outputId": "3d831d50-1eec-4fda-e3d4-7be91db425e0",
        "colab": {
          "base_uri": "https://localhost:8080/",
          "height": 167
        }
      },
      "source": [
        "a  = Chem.MolFromSmiles('CC')\n",
        "a"
      ],
      "execution_count": 0,
      "outputs": [
        {
          "output_type": "execute_result",
          "data": {
            "image/png": "[encoded data removed]",
            "text/plain": [
              "<rdkit.Chem.rdchem.Mol at 0x7fbc25a19760>"
            ]
          },
          "metadata": {
            "tags": []
          },
          "execution_count": 11
        }
      ]
    },
    {
      "cell_type": "code",
      "metadata": {
        "id": "4NYNdCo1FtoQ",
        "colab_type": "code",
        "outputId": "973617be-ef52-40d8-fd12-a3ae2ce64dff",
        "colab": {
          "base_uri": "https://localhost:8080/",
          "height": 167
        }
      },
      "source": [
        "a = Chem.MolFromSmiles('O=C')\n",
        "a"
      ],
      "execution_count": 0,
      "outputs": [
        {
          "output_type": "execute_result",
          "data": {
            "image/png": "[encoded data removed]",
            "text/plain": [
              "<rdkit.Chem.rdchem.Mol at 0x7fbc25a19a80>"
            ]
          },
          "metadata": {
            "tags": []
          },
          "execution_count": 12
        }
      ]
    },
    {
      "cell_type": "code",
      "metadata": {
        "id": "BIaHE9G9F-e7",
        "colab_type": "code",
        "outputId": "b42dcad6-b3cb-4941-cac5-762e93e1ef6e",
        "colab": {
          "base_uri": "https://localhost:8080/",
          "height": 167
        }
      },
      "source": [
        "a = Chem.MolFromSmiles('C#N') \n",
        "a"
      ],
      "execution_count": 0,
      "outputs": [
        {
          "output_type": "execute_result",
          "data": {
            "image/png": "[encoded data removed]",
            "text/plain": [
              "<rdkit.Chem.rdchem.Mol at 0x7fbc25a19c60>"
            ]
          },
          "metadata": {
            "tags": []
          },
          "execution_count": 13
        }
      ]
    },
    {
      "cell_type": "markdown",
      "metadata": {
        "id": "c4ybdYO5GD5m",
        "colab_type": "text"
      },
      "source": [
        "이와 같은 규칙을 이용하여 6-hydroxy-1,4-hexadiene을 표현해보면"
      ]
    },
    {
      "cell_type": "code",
      "metadata": {
        "id": "Bl-C3jJVGC8i",
        "colab_type": "code",
        "outputId": "d29f97e2-ad30-43d4-dc3b-67c5b928e34e",
        "colab": {
          "base_uri": "https://localhost:8080/",
          "height": 167
        }
      },
      "source": [
        "a = Chem.MolFromSmiles('C=CCC=CCO')\n",
        "a"
      ],
      "execution_count": 0,
      "outputs": [
        {
          "output_type": "execute_result",
          "data": {
            "image/png": "[encoded data removed]",
            "text/plain": [
              "<rdkit.Chem.rdchem.Mol at 0x7fbc25a19f30>"
            ]
          },
          "metadata": {
            "tags": []
          },
          "execution_count": 14
        }
      ]
    },
    {
      "cell_type": "markdown",
      "metadata": {
        "id": "KwdB3dvPGP1G",
        "colab_type": "text"
      },
      "source": [
        "### **3.3 가지(Branches ; 치환기, 알킬기)**\n",
        "- 가지들은 중첩되거나 쌓일 수 있으며, 소괄호`()`로 묶어 결합 원소의 오른쪽에 써줍니다."
      ]
    },
    {
      "cell_type": "code",
      "metadata": {
        "id": "2itMd5VPGIfx",
        "colab_type": "code",
        "outputId": "de1c6462-3a09-432a-d8f2-11cedaf1eb9f",
        "colab": {
          "base_uri": "https://localhost:8080/",
          "height": 167
        }
      },
      "source": [
        "Triethylamine = Chem.MolFromSmiles('CCN(CC)CC') \n",
        "Triethylamine"
      ],
      "execution_count": 0,
      "outputs": [
        {
          "output_type": "execute_result",
          "data": {
            "image/png": "[encoded data removed]",
            "text/plain": [
              "<rdkit.Chem.rdchem.Mol at 0x7fbc25a1b080>"
            ]
          },
          "metadata": {
            "tags": []
          },
          "execution_count": 15
        }
      ]
    },
    {
      "cell_type": "code",
      "metadata": {
        "id": "pLT2GiRwIkOr",
        "colab_type": "code",
        "outputId": "b05db36e-00fa-40e4-fbd6-8a35b61a76d7",
        "colab": {
          "base_uri": "https://localhost:8080/",
          "height": 167
        }
      },
      "source": [
        "Isobutyric_acid = Chem.MolFromSmiles('CC(C)C(=O)O')\n",
        "Isobutyric_acid"
      ],
      "execution_count": 0,
      "outputs": [
        {
          "output_type": "execute_result",
          "data": {
            "image/png": "[encoded data removed]",
            "text/plain": [
              "<rdkit.Chem.rdchem.Mol at 0x7fbc25a1b2b0>"
            ]
          },
          "metadata": {
            "tags": []
          },
          "execution_count": 16
        }
      ]
    },
    {
      "cell_type": "code",
      "metadata": {
        "id": "hcOM9HxRIrog",
        "colab_type": "code",
        "outputId": "ae4e85cb-3ac7-4efe-a7ea-28b07deaf731",
        "colab": {
          "base_uri": "https://localhost:8080/",
          "height": 167
        }
      },
      "source": [
        "acetic_acid = Chem.MolFromSmiles('CC(=O)O')\n",
        "acetic_acid"
      ],
      "execution_count": 0,
      "outputs": [
        {
          "output_type": "execute_result",
          "data": {
            "image/png": "[encoded data removed]",
            "text/plain": [
              "<rdkit.Chem.rdchem.Mol at 0x7fbc25a1b3f0>"
            ]
          },
          "metadata": {
            "tags": []
          },
          "execution_count": 17
        }
      ]
    },
    {
      "cell_type": "markdown",
      "metadata": {
        "id": "2z4dmpnwI85Z",
        "colab_type": "text"
      },
      "source": [
        "### **3.4 고리구조(Cyclic Structures)**\n",
        "- 고리형 구조는 고리에서 하나의 결합을 끊어 선형적으로 표시하고, 결합을 끊은 원자 바로 뒤에 숫자를 이용해 고리형 구조를 표현합니다."
      ]
    },
    {
      "cell_type": "code",
      "metadata": {
        "id": "VRgnZI7NI7nw",
        "colab_type": "code",
        "outputId": "13c68bd3-96af-4d63-b3c4-42d8b91b5d4f",
        "colab": {
          "base_uri": "https://localhost:8080/",
          "height": 167
        }
      },
      "source": [
        "cyclopentane = Chem.MolFromSmiles('C1CCCC1')\n",
        "cyclopentane"
      ],
      "execution_count": 0,
      "outputs": [
        {
          "output_type": "execute_result",
          "data": {
            "image/png": "[encoded data removed]",
            "text/plain": [
              "<rdkit.Chem.rdchem.Mol at 0x7fbc25a1b530>"
            ]
          },
          "metadata": {
            "tags": []
          },
          "execution_count": 18
        }
      ]
    },
    {
      "cell_type": "code",
      "metadata": {
        "id": "BlLZlAesJEY6",
        "colab_type": "code",
        "outputId": "4b604044-d252-47d5-f8c8-9965860c6b07",
        "colab": {
          "base_uri": "https://localhost:8080/",
          "height": 167
        }
      },
      "source": [
        "m = Chem.MolFromSmiles('C1CCC(C)C1')\n",
        "m"
      ],
      "execution_count": 0,
      "outputs": [
        {
          "output_type": "execute_result",
          "data": {
            "image/png": "[encoded data removed]",
            "text/plain": [
              "<rdkit.Chem.rdchem.Mol at 0x7fbc25a1b6c0>"
            ]
          },
          "metadata": {
            "tags": []
          },
          "execution_count": 19
        }
      ]
    },
    {
      "cell_type": "markdown",
      "metadata": {
        "id": "k6QIk4iWJ5nO",
        "colab_type": "text"
      },
      "source": [
        "- 동일한 화학물을 여러 방법으로 표현할 수 있고, 한 가지 분자의 다양한 표현은 우선순위가 없습니다."
      ]
    },
    {
      "cell_type": "code",
      "metadata": {
        "id": "qTuG6u23KCHG",
        "colab_type": "code",
        "outputId": "22e98746-bdd2-4cd8-c474-5e3028d5ed95",
        "colab": {
          "base_uri": "https://localhost:8080/",
          "height": 167
        }
      },
      "source": [
        "mbc1 = Chem.MolFromSmiles('CC1=CC(Br)CCC1')\n",
        "mbc1"
      ],
      "execution_count": 0,
      "outputs": [
        {
          "output_type": "execute_result",
          "data": {
            "image/png": "[encoded data removed]",
            "text/plain": [
              "<rdkit.Chem.rdchem.Mol at 0x7fbc25a1b710>"
            ]
          },
          "metadata": {
            "tags": []
          },
          "execution_count": 20
        }
      ]
    },
    {
      "cell_type": "code",
      "metadata": {
        "id": "ajUlmUzLKO6E",
        "colab_type": "code",
        "outputId": "706d62b1-3959-47fb-fd05-10d05969d7f0",
        "colab": {
          "base_uri": "https://localhost:8080/",
          "height": 167
        }
      },
      "source": [
        "mbc2 = Chem.MolFromSmiles('CC1=CC(CCC1)Br')\n",
        "mbc2"
      ],
      "execution_count": 0,
      "outputs": [
        {
          "output_type": "execute_result",
          "data": {
            "image/png": "[encoded data removed]",
            "text/plain": [
              "<rdkit.Chem.rdchem.Mol at 0x7fbc25a1b8a0>"
            ]
          },
          "metadata": {
            "tags": []
          },
          "execution_count": 21
        }
      ]
    },
    {
      "cell_type": "markdown",
      "metadata": {
        "id": "catQBsM8JJS0",
        "colab_type": "text"
      },
      "source": [
        "- 한 원자는 하나 이상의 `ring closure`을 가질 수 있습니다. 아래와 같은구조로 설명할 수 있습니다."
      ]
    },
    {
      "cell_type": "code",
      "metadata": {
        "id": "aRl_YO7AJIAD",
        "colab_type": "code",
        "outputId": "40e97488-318f-469c-c683-c6ac9c2f763f",
        "colab": {
          "base_uri": "https://localhost:8080/",
          "height": 167
        }
      },
      "source": [
        "m = Chem.MolFromSmiles('O1CC(C)CCC1N1CCC(C)CC1')\n",
        "m"
      ],
      "execution_count": 0,
      "outputs": [
        {
          "output_type": "execute_result",
          "data": {
            "image/png": "[encoded data removed]",
            "text/plain": [
              "<rdkit.Chem.rdchem.Mol at 0x7fbc25a1bc60>"
            ]
          },
          "metadata": {
            "tags": []
          },
          "execution_count": 22
        }
      ]
    },
    {
      "cell_type": "markdown",
      "metadata": {
        "id": "Pi-3DzTWJOxX",
        "colab_type": "text"
      },
      "source": [
        "### **3.5 비결합 구조(Disconnected Structures)**\n",
        "- 연결되지 않은 혼합물은 ' . '을 사용하여 각각의 구조들을 분리시킵니다.\n",
        "- 이온 혹은 리간드(ligands)의 연결은 순서에 상관없이 사용가능합니다. 한 전하가 다른 전하로의 연결을 의미하는 것도 아니고, 알짜 전하를 반드시 0으로 가질 필요도 없스니다.\n",
        "- 필요에 따라, 한 이온의 SMILES이 sodium phenoxide(석탄산나트륨)와 같이 다른 이온에 삽입될 수 있습니다.\n",
        "\n"
      ]
    },
    {
      "cell_type": "code",
      "metadata": {
        "id": "l3GbUu7pJNSV",
        "colab_type": "code",
        "outputId": "33ca5c67-6e42-4798-e32d-30f3d95ca38e",
        "colab": {
          "base_uri": "https://localhost:8080/",
          "height": 167
        }
      },
      "source": [
        "m = Chem.MolFromSmiles('[Na+].[O-]c1ccccc1')\n",
        "m"
      ],
      "execution_count": 0,
      "outputs": [
        {
          "output_type": "execute_result",
          "data": {
            "image/png": "[encoded data removed]",
            "text/plain": [
              "<rdkit.Chem.rdchem.Mol at 0x7fbc25a1bd00>"
            ]
          },
          "metadata": {
            "tags": []
          },
          "execution_count": 23
        }
      ]
    },
    {
      "cell_type": "code",
      "metadata": {
        "id": "hkmq5zYpJR67",
        "colab_type": "code",
        "outputId": "943027ca-e203-4ac3-fc44-561464578706",
        "colab": {
          "base_uri": "https://localhost:8080/",
          "height": 167
        }
      },
      "source": [
        "m = Chem.MolFromSmiles('c1cc([O-].[Na+])ccc1')\n",
        "m"
      ],
      "execution_count": 0,
      "outputs": [
        {
          "output_type": "execute_result",
          "data": {
            "image/png": "[encoded data removed]",
            "text/plain": [
              "<rdkit.Chem.rdchem.Mol at 0x7fbc25a1b9e0>"
            ]
          },
          "metadata": {
            "tags": []
          },
          "execution_count": 24
        }
      ]
    },
    {
      "cell_type": "markdown",
      "metadata": {
        "id": "IRlM0Ne6POSC",
        "colab_type": "text"
      },
      "source": [
        "- 원자 명시에 따른 자릿수가 같은 쌍은 서로 결합됨을 의미합니다."
      ]
    },
    {
      "cell_type": "code",
      "metadata": {
        "id": "WRYgv92mJTK5",
        "colab_type": "code",
        "outputId": "070e2efe-f8ee-424b-924a-cf54b0cbfb36",
        "colab": {
          "base_uri": "https://localhost:8080/",
          "height": 167
        }
      },
      "source": [
        "C_C = Chem.MolFromSmiles('C1.C1')\n",
        "C_C"
      ],
      "execution_count": 0,
      "outputs": [
        {
          "output_type": "execute_result",
          "data": {
            "image/png": "[encoded data removed]",
            "text/plain": [
              "<rdkit.Chem.rdchem.Mol at 0x7fbc25a1bf80>"
            ]
          },
          "metadata": {
            "tags": []
          },
          "execution_count": 25
        }
      ]
    },
    {
      "cell_type": "markdown",
      "metadata": {
        "id": "sszGMBdaRaZi",
        "colab_type": "text"
      },
      "source": [
        "## **4. 이성질체 SMILES(Isomeric SMILES)**\n",
        "\n",
        "- 동위원소, 이중결합의 구조, 카이랄성을 규정합니다.\n",
        "- IUPAC 명명법과 CIP 명명법과는 다르게 카이랄성을 명명합니다.\n",
        "- 모든 화합물의 카이랄성이 알려져 있지는 않기 때문에, 가능한 카이랄성만을 표기합니다.\n"
      ]
    },
    {
      "cell_type": "markdown",
      "metadata": {
        "id": "ej0jB9duRd50",
        "colab_type": "text"
      },
      "source": [
        "### **4.1 동위원소(Isotopic Specification)**\n",
        "- 동위원소는 [원자량 + 원자기호] 로 표기합니다."
      ]
    },
    {
      "cell_type": "markdown",
      "metadata": {
        "id": "_8rBRbgjRiSD",
        "colab_type": "text"
      },
      "source": [
        "SMILES | Name\n",
        "---- | ----\n",
        "$[12C]$ | carbon-12\n",
        "$[13C]$ | carbon-13\n",
        "$[C]$ | carbon(unspecified mass)\n",
        "$[13CH4]$ | C-13 methane"
      ]
    },
    {
      "cell_type": "markdown",
      "metadata": {
        "id": "z8BBbSB9RkRC",
        "colab_type": "text"
      },
      "source": [
        "### **4.2 이중결합 배치(Configuration Around Double Bonds)**\n",
        "- 이중결합의 구조 이성질체는 결합의 방향을 나타내며 '/'와'\\'로 명시합니다.\n",
        "- '/'와'\\'는 결합된 원자들 간의 상대적인 위치를 나타내는 것으로, 이중결합으로 연결될 때에만 의미를 갖습니다.\n",
        "\n",
        ">**E,Z체계**<br>\n",
        "E(entgegon) : 반대편이라는 어원, 높은 우선순위를 갖는 탄소가 포함된 치환기가 이중결합의 **반대 위치**에 존재할 경우(≒trans-)<br>\n",
        "Z(zusammen) : 함께라는 어원, 높은 우선순위를 갖는 탄소가 포함된 치환기가 이중결합의 **같은 위치**에 존재할 경우(≒cis-)<br>\n",
        "Ex) E- and Z-1,2-dibromoethene\n"
      ]
    },
    {
      "cell_type": "code",
      "metadata": {
        "id": "U-rtmTbcPxVz",
        "colab_type": "code",
        "outputId": "bd7bb4c7-5ea7-4db1-84bf-d42669553278",
        "colab": {
          "base_uri": "https://localhost:8080/",
          "height": 167
        }
      },
      "source": [
        "E1 = Chem.MolFromSmiles('Br/C=C/Br') # 이중결합 왼쪽과 오른쪽의 슬래쉬가 방향이 같으면 E 방향입니다.\n",
        "E1"
      ],
      "execution_count": 0,
      "outputs": [
        {
          "output_type": "execute_result",
          "data": {
            "image/png": "[encoded data removed]",
            "text/plain": [
              "<rdkit.Chem.rdchem.Mol at 0x7fbc258a1170>"
            ]
          },
          "metadata": {
            "tags": []
          },
          "execution_count": 26
        }
      ]
    },
    {
      "cell_type": "code",
      "metadata": {
        "id": "WBc_FI-PRp4c",
        "colab_type": "code",
        "outputId": "7dfdb22f-adcc-4b01-95de-5cfed328831d",
        "colab": {
          "base_uri": "https://localhost:8080/",
          "height": 167
        }
      },
      "source": [
        "E2 = Chem.MolFromSmiles('Br/C=C\\Br') # 이중결합 왼쪽과 오른쪽의 슬래쉬가 방향이 반대면 Z 방향입니다.\n",
        "E2"
      ],
      "execution_count": 0,
      "outputs": [
        {
          "output_type": "execute_result",
          "data": {
            "image/png": "[encoded data removed]",
            "text/plain": [
              "<rdkit.Chem.rdchem.Mol at 0x7fbc258a13f0>"
            ]
          },
          "metadata": {
            "tags": []
          },
          "execution_count": 27
        }
      ]
    },
    {
      "cell_type": "markdown",
      "metadata": {
        "id": "4qlQzd96Rtmi",
        "colab_type": "text"
      },
      "source": [
        "- SMILES과 CIP의 카이랄표현의 차이점은 SMILES은 국부적인 카이랄성(local chirality)를 표현할 수 있다는 점입니다."
      ]
    },
    {
      "cell_type": "code",
      "metadata": {
        "id": "5DlVY-TERr5O",
        "colab_type": "code",
        "outputId": "afcb53fe-eb61-4d1b-b793-9349418e2c29",
        "colab": {
          "base_uri": "https://localhost:8080/",
          "height": 167
        }
      },
      "source": [
        "S1 = Chem.MolFromSmiles('Br/C=C/C=C/C')\n",
        "S1"
      ],
      "execution_count": 0,
      "outputs": [
        {
          "output_type": "execute_result",
          "data": {
            "image/png": "[encoded data removed]",
            "text/plain": [
              "<rdkit.Chem.rdchem.Mol at 0x7fbc258a1530>"
            ]
          },
          "metadata": {
            "tags": []
          },
          "execution_count": 28
        }
      ]
    },
    {
      "cell_type": "code",
      "metadata": {
        "id": "AWJ07_TKR1iI",
        "colab_type": "code",
        "outputId": "4ed33be1-54da-4e46-84da-6aa795e99fc4",
        "colab": {
          "base_uri": "https://localhost:8080/",
          "height": 167
        }
      },
      "source": [
        "S2 = Chem.MolFromSmiles('Br/C=C/C=CC')\n",
        "S2"
      ],
      "execution_count": 0,
      "outputs": [
        {
          "output_type": "execute_result",
          "data": {
            "image/png": "[encoded data removed]",
            "text/plain": [
              "<rdkit.Chem.rdchem.Mol at 0x7fbc258a1760>"
            ]
          },
          "metadata": {
            "tags": []
          },
          "execution_count": 29
        }
      ]
    },
    {
      "cell_type": "markdown",
      "metadata": {
        "id": "hHQbN2w8Y3xd",
        "colab_type": "text"
      },
      "source": [
        "### **4.3 사면체의 중심의 구조(Configuration Around Tetrahedral Centers)**\n",
        "* SMILES은 국부적 카이랄성을 기반으로한 가장 일반적인 형식의 명시법을 사용합니다.\n",
        "* SMILES에서 사면체의 중심은 카이랄 원자의 원자 기호에 카이랄이라는 명시(@ 혹은 @@)를 합니다. '@'는 이웃하는 원자들이 반시계로 표현되어 있다는 것을 의미하고 '@@'는 이웃하는 원자들이 시계로 표현되어 있다는 것을 의미합니다.\n",
        "* **카이랄성(Chirality):**<br>\n",
        "거울상에 포갤 수 없는 분자를 카이랄(chiral)이라 합니다.<br>\n",
        "같은 분자식이라 하여도 입체구조에 의해 서로 다른 화합물입니다. 이를 입체 이성질체라고 합니다. <br>\n",
        "카이랄성의 가장 일반적인 원인은 네 개의 서로 다른 치환기가 결합된 탄소에서 가장 많이 볼 수 있는 정사면체인 원자 때문입니다.<br>\n",
        "네 개의 서로 다른 치환기체가 결합된 탄소 원자는 두 개의 주요 대칭 요소가 없고 **카이랄 중심(chiral center)**라 불립니다.<br> Ex) 1-Bromo-1-chloro-1-fluoromethane : C에 -Cl, -H, -F, -Br이 결합된 카이랄 중심입니다.<br>\n",
        "![chiral](https://upload.wikimedia.org/wikipedia/commons/thumb/3/3c/Chiral.svg/300px-Chiral.svg.png)<br>\n",
        "(사진출처:위키피디아)\n",
        "\n",
        "* **카이랄 중심의 R or S 배열 결정**<BR> 카이랄 중심을 정하고 4개의 치환기를 확인한 후, 우선순위가 가장 높은 것(1)부터 가장 낮은 것(4)까지 번호를 배정합니다.\n",
        "\n",
        "    ```\n",
        "    우선순위\n",
        "    카이랄 중심에서 결합된 원자의 번호가 클수록 높은 우선순위 \n",
        "    -> 비교가 안된다면 두 번째 쌍을 살펴봅니다 \n",
        "    -> 이중 결합의 경우 결합과 같은 수만큼의 '가상'의 원자들이 단일 결합으로 취급\n",
        "    ```\n",
        "\n",
        "  가장 낮은 우선순위(4)를 갖는 치환기를 자동차의 운전대 기둥처럼 자신으로 부터 가장 멀리 위치하도록 분자를 배치합니다.<br>\n",
        "자신쪽으로 향하고 있는 세 개의 치환기들을 우선순위가 가장 높은(1)치환기 부터 우선순위가 가장 낮은(3) 치환기 순서대로 읽습니다.<br>\n",
        "치환기가 시계방향이면 배열을 R(라틴어 rectus,똑바른, 올바른); SMILES에선 @@, 반시계 방향이라면 S(라틴어 sinister, 왼쪽); SMILES에선 @로 합니다."
      ]
    },
    {
      "cell_type": "code",
      "metadata": {
        "id": "Pv5OTFoXZVeK",
        "colab_type": "code",
        "outputId": "c36d4dcc-92fd-4d5c-89af-edeb44fb0841",
        "colab": {
          "base_uri": "https://localhost:8080/",
          "height": 167
        }
      },
      "source": [
        "bS1 = Chem.MolFromSmiles('NC(C)(F)C(=O)O')\n",
        "S1"
      ],
      "execution_count": 0,
      "outputs": [
        {
          "output_type": "execute_result",
          "data": {
            "image/png": "[encoded data removed]",
            "text/plain": [
              "<rdkit.Chem.rdchem.Mol at 0x7fbc258a1530>"
            ]
          },
          "metadata": {
            "tags": []
          },
          "execution_count": 30
        }
      ]
    },
    {
      "cell_type": "code",
      "metadata": {
        "id": "hHbNm_t9ZYZM",
        "colab_type": "code",
        "outputId": "f33c8e24-b1b2-4797-c21f-91bb1bbfa2d0",
        "colab": {
          "base_uri": "https://localhost:8080/",
          "height": 167
        }
      },
      "source": [
        "m = Chem.MolFromSmiles('N[C@](C)(F)C(=O)O')\n",
        "m"
      ],
      "execution_count": 0,
      "outputs": [
        {
          "output_type": "execute_result",
          "data": {
            "image/png": "[encoded data removed]",
            "text/plain": [
              "<rdkit.Chem.rdchem.Mol at 0x7fbc258a19e0>"
            ]
          },
          "metadata": {
            "tags": []
          },
          "execution_count": 31
        }
      ]
    },
    {
      "cell_type": "code",
      "metadata": {
        "id": "3vkO9pW1Zcy6",
        "colab_type": "code",
        "outputId": "1a2e6ec7-565c-400e-e4bb-aa057db1cdf4",
        "colab": {
          "base_uri": "https://localhost:8080/",
          "height": 167
        }
      },
      "source": [
        "m = Chem.MolFromSmiles('N[C@@](F)(C)C(=O)O')\n",
        "m"
      ],
      "execution_count": 0,
      "outputs": [
        {
          "output_type": "execute_result",
          "data": {
            "image/png": "[encoded data removed]",
            "text/plain": [
              "<rdkit.Chem.rdchem.Mol at 0x7fbc258a1b70>"
            ]
          },
          "metadata": {
            "tags": []
          },
          "execution_count": 32
        }
      ]
    },
    {
      "cell_type": "code",
      "metadata": {
        "id": "OfMy41TSZpJr",
        "colab_type": "code",
        "outputId": "47feae24-d6ce-4025-9218-bb51c9380055",
        "colab": {
          "base_uri": "https://localhost:8080/",
          "height": 34
        }
      },
      "source": [
        "m.HasSubstructMatch(Chem.MolFromSmiles('F[C@](N)(C)C(=O)O'),useChirality=True) # 이 둘의 구조가 같은지 확인"
      ],
      "execution_count": 0,
      "outputs": [
        {
          "output_type": "execute_result",
          "data": {
            "text/plain": [
              "True"
            ]
          },
          "metadata": {
            "tags": []
          },
          "execution_count": 33
        }
      ]
    },
    {
      "cell_type": "markdown",
      "metadata": {
        "id": "GFgj8QtFR4MQ",
        "colab_type": "text"
      },
      "source": [
        "### **4.4 일반적인 카이랄 규칙(General Chiral Sepcification)**\n",
        "\n",
        "* 많은 종류의 카이랄성이 존재하며, '@'기호를 사용함으로써 카이랄을 나타냈습니다.\n",
        "* SMILES에서 사용하는 일반적 카이랄 규격은 3부분이 있습니다:\n",
        "  1. '@'기호\n",
        "  2. 잇따르는 두 글자의 카이랄 표시\n",
        "  3. 잇따르는 수치해석적인 카이랄 지정자\n",
        "* 가장 기초가 되는 카이랄 class는 각각의 degree(연결의 수)입니다.\n",
        "       4개의 연결에 기초가 되는 class는 사면체(TH)입니다.\n",
        "* 대부분의 경우 @1표시는 SMILES의 순서를 기준으로 한 축에 반시계 방향으로 @2표시는 시계방향을 의미합니다.\n",
        "* '@@'와 '@@@'는 각각 '@2','@3'와 같습니다.\n",
        "* 위에서 사용된 '@'와 '@@'는 '@TH1'과 '@TH2'를 간략하게 표현한 것입니다.\n",
        "* SMILES은 모든 범위에 관한 카이랄 규격을 다룹니다.('감소된 카이랄성', '퇴화된 카이랄성') 따라서 정확하게 알고 있는 모든 것을 보장하는 언어입니다.\n",
        "* 이 섹션의 마지막 부분에선 사면체, 알렌식(allen-like), 사각평면, trigonal-bypyramidal, octahedral의 카이랄성에 제한될 것입니다. 비록 많은 카이랄성은 위의 체계로 다룰 수 있겠지만, 이러한 5개의 클래스는 화학에서 매우 흔하고, 자주 다뤄지는 부분입다.\n",
        "\n",
        "* Tetrahedral:TH라는 기호로 표시되며, 4방위가 붙어있는 카이랄 클래스의 default입니다.\n",
        "\n",
        "* Allen-like:AL의 기호로 표시되며, 카이랄 중심이 이중결합으로 연결된 2개가 붙어있는 카이랄 클래스의 default입니다. 비록 C=C=C의 구조가 가장 흔하나, C=C=C=C=C 구조들도 또한 allen-like입니다. 이중결합된 원자가 일렬로 짝수개가 연결된 것입니다."
      ]
    },
    {
      "cell_type": "markdown",
      "metadata": {
        "id": "qFv0fCc0aNij",
        "colab_type": "text"
      },
      "source": [
        "![AL](http://www.daylight.com/dayhtml/doc/theory/theory18.gif) | ![substituted](http://www.daylight.com/dayhtml/doc/theory/theory19.gif)\n",
        "---- | ----\n",
        "OC(Cl)=$[C@]$=C(C)F | OC=$[C@]$=CF\n",
        "OC(Cl)=$[C@AL1]$=C(C)F | OC($[H]$)=$[C@AL1]$=C($[H]$)F"
      ]
    },
    {
      "cell_type": "code",
      "metadata": {
        "id": "KhDakmgbR2kW",
        "colab_type": "code",
        "outputId": "c1c3b095-e580-4b3d-f820-3fa1cc242703",
        "colab": {
          "base_uri": "https://localhost:8080/",
          "height": 34
        }
      },
      "source": [
        "m = Chem.MolFromSmiles('OC(Cl)=[C@]=C(C)F')\n",
        "m.HasSubstructMatch(Chem.MolFromSmiles('OC(Cl)=[C@@]=C(F)C'),useChirality=True) # 카이랄성이 일치하는지 확인"
      ],
      "execution_count": 0,
      "outputs": [
        {
          "output_type": "execute_result",
          "data": {
            "text/plain": [
              "True"
            ]
          },
          "metadata": {
            "tags": []
          },
          "execution_count": 34
        }
      ]
    },
    {
      "cell_type": "markdown",
      "metadata": {
        "id": "gGJ2ctc0aRhS",
        "colab_type": "text"
      },
      "source": [
        "* 사각평면 : SP 기호로 표시\n",
        "@SP1,@SP2, @SP3; 4방위가 연결된 카이랄 class의 default는 아니고, 줄이는 표현 또한 없습니다. 또한 시계와 반시계방향이 없는 점이 특징입니다.\n",
        "\n",
        "![SP](http://www.daylight.com/dayhtml/doc/theory/theory20.gif) | -\n",
        "---- | ----\n",
        "F$[Po@SP1]$(Cl)(Br)I | (SP1 lists in a \"U shape\")\n",
        "F$[Po@SP2]$(Br)(Cl)I | (SP2 lists in a \"4-shape\")\n",
        "F$[Po@SP3]$(Cl)(I)Br | (SP3 lists in a \"Z shape\")\n",
        "\n",
        "* Trigonal-bipyramidal:TB기호로 사용합니다. 5개의 방향의 카이랄 class의 default입니다.\n",
        "\n",
        "  ![TB](http://www.daylight.com/dayhtml/doc/theory/theory21.gif)\n",
        "\n",
        "  S$[As@@]$(F)(Cl)(Br)C=O<br>\n",
        "  O=C$[As@]$(F)(Cl)(Br)S<br>"
      ]
    },
    {
      "cell_type": "code",
      "metadata": {
        "id": "c9cCxAzbaaNM",
        "colab_type": "code",
        "outputId": "bf302b5e-134c-47b8-c32d-03f1a2f6049f",
        "colab": {
          "base_uri": "https://localhost:8080/",
          "height": 34
        }
      },
      "source": [
        "m = Chem.MolFromSmiles('S[As@@](F)(Cl)(Br)C=O')\n",
        "m.HasSubstructMatch(Chem.MolFromSmiles('O=C[As@](Cl)(Br)(F)S'),useChirality=True)"
      ],
      "execution_count": 0,
      "outputs": [
        {
          "output_type": "execute_result",
          "data": {
            "text/plain": [
              "True"
            ]
          },
          "metadata": {
            "tags": []
          },
          "execution_count": 35
        }
      ]
    },
    {
      "cell_type": "code",
      "metadata": {
        "id": "THnQ9KNRfZMK",
        "colab_type": "code",
        "outputId": "532203e9-57d0-495a-f5a9-c2ed826cb621",
        "colab": {
          "base_uri": "https://localhost:8080/",
          "height": 34
        }
      },
      "source": [
        "m.HasSubstructMatch(Chem.MolFromSmiles('O=C[As@](F)(Cl)(Br)S'),useChirality=True)"
      ],
      "execution_count": 0,
      "outputs": [
        {
          "output_type": "execute_result",
          "data": {
            "text/plain": [
              "True"
            ]
          },
          "metadata": {
            "tags": []
          },
          "execution_count": 36
        }
      ]
    },
    {
      "cell_type": "markdown",
      "metadata": {
        "id": "dZOlmwQUfeDV",
        "colab_type": "text"
      },
      "source": [
        "* *Octahedral* : OH기호로 사용. 6개의 방향의 카이랄 class의 default입니다.\n",
        ">가능한 값은 @OH1~ @OH2 : @OH1(or @)는 한 개의 축이 다른 것과 연결을 SMILE에 의해 나열될 때, 4개의 중간, 수평적으로 연결된 원자들을 시계방향으로 나열시킨 것.<br>@OH2(or @@)는 시계방향\n",
        "</br>![OH](http://www.daylight.com/dayhtml/doc/theory/theory22.gif)\n"
      ]
    },
    {
      "cell_type": "markdown",
      "metadata": {
        "id": "O4KTjoqtblc4",
        "colab_type": "text"
      },
      "source": [
        "## **5. SMILES의 관례(MILES Convention)**\n",
        "\n",
        "\n",
        "\n",
        "### **5.1 Hydrogens**\n",
        "\n",
        "수소 원자는 대부분 생략됩니다.\n",
        "일반적으로 3가지 방법으로 수소 원자를 표시합니다.\n",
        " - 암시적 표시 : '[',     ']' 으로 표시되지 않은 원자가 원소들\n",
        " - 명확한 표시 : '[',     ']' 안에 정확한 갯수와 함께 표시\n",
        " - 하나의 수소 원자 : [H]\n",
        " \n",
        "그리고 반드시 수소원자를 명확히 표시해야할 때가 있습니다.\n",
        " - 전하를 띄는 수소 : [H+]\n",
        " - 수소 분자 : [H][H]\n",
        " - 하나 이상의 다른 원자에 연결된 수소 : bridging hydrogens\n",
        " - 동위원소 수소  : heavy water [2H]O[2H]\n"
      ]
    },
    {
      "cell_type": "code",
      "metadata": {
        "id": "_PDjb-AnbmiW",
        "colab_type": "code",
        "outputId": "3f0654b7-aea2-4537-de20-5bdaa2c0933c",
        "colab": {
          "base_uri": "https://localhost:8080/",
          "height": 184
        }
      },
      "source": [
        "m = Chem.MolFromSmiles('[H+]')\n",
        "m"
      ],
      "execution_count": 0,
      "outputs": [
        {
          "output_type": "stream",
          "text": [
            "RDKit WARNING: [10:53:40] WARNING: not removing hydrogen atom without neighbors\n"
          ],
          "name": "stderr"
        },
        {
          "output_type": "execute_result",
          "data": {
            "image/png": "[encoded data removed]",
            "text/plain": [
              "<rdkit.Chem.rdchem.Mol at 0x7fbc258a8440>"
            ]
          },
          "metadata": {
            "tags": []
          },
          "execution_count": 37
        }
      ]
    },
    {
      "cell_type": "code",
      "metadata": {
        "id": "WtXT5v4ybn96",
        "colab_type": "code",
        "outputId": "42ce7563-71ef-4595-8d50-7b6c12de9564",
        "colab": {
          "base_uri": "https://localhost:8080/",
          "height": 167
        }
      },
      "source": [
        "heavywater = Chem.MolFromSmiles('[2H]O[2H]')\n",
        "heavywater"
      ],
      "execution_count": 0,
      "outputs": [
        {
          "output_type": "execute_result",
          "data": {
            "image/png": "[encoded data removed]",
            "text/plain": [
              "<rdkit.Chem.rdchem.Mol at 0x7fbc258a8530>"
            ]
          },
          "metadata": {
            "tags": []
          },
          "execution_count": 38
        }
      ]
    },
    {
      "cell_type": "markdown",
      "metadata": {
        "id": "XK1qEt7xcS2B",
        "colab_type": "text"
      },
      "source": [
        "### 5.2  **방향족(Aromaticity)**\n",
        "\n",
        "- 분자의 대칭성을 특징짓기 위해서 SMILES 같은 시스템에서 명확한 명명법을 생성할 수 있어야합니다. <br>\n",
        "- 정확한 방향족 판단 알고리즘이 있는 경우에, 사용자가 지방족 구조를 입력하고 싶을때 방향족 구조식으로 입력할 필요가 없습니다.<br>\n",
        "- 원하는 화합물을 짧게 명시할 수 있다.\n",
        "\n",
        "SMILES은 Hueckel 규칙의 확장 된 버전을 사용하여 방향족 분자와 이온을 식별합니다.\n",
        "\n",
        "> Hueckel's Rule\n",
        "> 1. 분자는 고리를 가져야합니다.\n",
        "> 2. 고리의 모든 원자는 같은 평면에 있어야합니다.\n",
        "> 3. 고리의 모든 원자는 **fully conjugated** 이어야합니다.(모든 원자가 p 오비탈을 가진다.)\n",
        "> 4. 분자는 (4n+2)개의 $\\pi$ 전자를 가집니다. ( n은 0 보다 크거나 같은 정수 ) <br>\n",
        "=> 4번만 만족하지 않는 화합물을 **antiaromatic** 이라고 합니다.\n",
        "\n"
      ]
    },
    {
      "cell_type": "code",
      "metadata": {
        "id": "a0STVWKObpOr",
        "colab_type": "code",
        "outputId": "6aa4a156-a2f1-4c75-e770-c5530c9436ad",
        "colab": {
          "base_uri": "https://localhost:8080/",
          "height": 167
        }
      },
      "source": [
        "H = Chem.MolFromSmiles('c1ccccc1') # Aromatic\n",
        "H"
      ],
      "execution_count": 0,
      "outputs": [
        {
          "output_type": "execute_result",
          "data": {
            "image/png": "[encoded data removed]",
            "text/plain": [
              "<rdkit.Chem.rdchem.Mol at 0x7fbc258a8350>"
            ]
          },
          "metadata": {
            "tags": []
          },
          "execution_count": 39
        }
      ]
    },
    {
      "cell_type": "code",
      "metadata": {
        "id": "6XwnTb_LcWYR",
        "colab_type": "code",
        "outputId": "7faf8c61-d592-419b-8cae-470c77ba6aa5",
        "colab": {
          "base_uri": "https://localhost:8080/",
          "height": 167
        }
      },
      "source": [
        "H = Chem.MolFromSmiles('c1ccc1') # Aromatic\n",
        "H"
      ],
      "execution_count": 0,
      "outputs": [
        {
          "output_type": "execute_result",
          "data": {
            "image/png": "[encoded data removed]",
            "text/plain": [
              "<rdkit.Chem.rdchem.Mol at 0x7fbc258a8490>"
            ]
          },
          "metadata": {
            "tags": []
          },
          "execution_count": 40
        }
      ]
    },
    {
      "cell_type": "code",
      "metadata": {
        "id": "TFJHqB5GcYXG",
        "colab_type": "code",
        "outputId": "a6d64640-1682-444e-ba5c-ff2cf94b1791",
        "colab": {
          "base_uri": "https://localhost:8080/",
          "height": 167
        }
      },
      "source": [
        "K = Chem.MolFromSmiles('C1=CC=CC=C1') # Aliphatic\n",
        "K"
      ],
      "execution_count": 0,
      "outputs": [
        {
          "output_type": "execute_result",
          "data": {
            "image/png": "[encoded data removed]",
            "text/plain": [
              "<rdkit.Chem.rdchem.Mol at 0x7fbc258a8800>"
            ]
          },
          "metadata": {
            "tags": []
          },
          "execution_count": 41
        }
      ]
    },
    {
      "cell_type": "markdown",
      "metadata": {
        "id": "2rwJQRQpcqdt",
        "colab_type": "text"
      },
      "source": [
        "특히, c1ccc1 (탄소 4개)와 c1ccccccc1 (탄소 8개)의 입력은 C1=CC=C1 및 C1=CC=CC=CC=CC=C1에 대한 정확한 *anti-aromatic* 구조를 생성할 것입니다. 위의 Hueckel's rule의 4번째 규칙에만 만족하지 않기 떄문입니다. 그러한 경우 SMILES 시스템은 내재된 sp2 혼합, 내재된 수소 수 및 지정된 공식 전하가 있는 경우 보존되는 구조를 찾습니다.<br>\n",
        "그러나 c1cccc1과 같은 일부 입력은 부정확할 뿐만 아니라 불가능할 수도 있습니다. 여기서 c1cccc1은 C1=CCC=C1로 변환할 수 없는데, 그 이유는 탄소 원자 중 하나는 두 개의 히드로겐이 부착된 sp3이기 때문입니다.<br>\n",
        "그러한 구조물에서는 단일 및 이중 결합을 번갈아 배치할 수 없기 때문에 SMILES은 **Impossible**으로 표시할 것입니다.<br>\n",
        "\n",
        "다음 목록에 있는 원자만 방향족으로 고려할 수 있다 : C, N, O, P, S, As, Se 및 *wildcard*.\n",
        "\n",
        "![a](http://www.daylight.com/dayhtml/doc/theory/theory27.gif)|![b](http://www.daylight.com/dayhtml/doc/theory/theory28.gif)|![c](http://www.daylight.com/dayhtml/doc/theory/theory29.gif)\n",
        "----|----|----\n",
        "C1=COC=C1|C1=CN=C[NH]C(=O)1|C1=C*=CC=C1\n",
        "c1cocc1|c1cnc[nH]c(=O)1|c1c*ccc1"
      ]
    },
    {
      "cell_type": "markdown",
      "metadata": {
        "id": "Y9MSxnyUTXA-",
        "colab_type": "text"
      },
      "source": [
        "\n",
        "### **5.3 Aromatic Nitrogen Compounds**\n",
        "\n",
        "방향성 질소는 모두 방향성 질소 기호 n으로 지정할 수 있습니다. \n",
        " - 피리딘 (Pyridine)\n",
        " - 피리딘-N-산화물 (Pyridine-N-oxide)\n",
        " - 피롤 (Methyl and 1H-pyrrole)\n",
        "\n",
        "![a](http://www.daylight.com/dayhtml/doc/theory/theory23.gif)|![b](http://www.daylight.com/dayhtml/doc/theory/theory24.gif)|![c](http://www.daylight.com/dayhtml/doc/theory/theory25.gif)\n",
        "----|----|----\n",
        "n1ccccc1 | O=n1ccccc1 _ _ [O-][n+]1ccccc1\t |  Cn1cccc1 _ _ _ [nH]1cccc1\n",
        "Pyridine | Pyridine-N-oxide\t | Methyl and 1H-pyrrole\n",
        "\n",
        "> 1-1H-pyrrole의 질소는 pyridyl-N와 구별하기 위해 [nH]로 쓰여져 있습니다."
      ]
    },
    {
      "cell_type": "code",
      "metadata": {
        "id": "OZaGD-Ezc2Nu",
        "colab_type": "code",
        "outputId": "5ea97384-b3d5-4f4f-f401-2e211ea2bb6e",
        "colab": {
          "base_uri": "https://localhost:8080/",
          "height": 167
        }
      },
      "source": [
        "N = Chem.MolFromSmiles('n1ccccc1')\n",
        "N"
      ],
      "execution_count": 0,
      "outputs": [
        {
          "output_type": "execute_result",
          "data": {
            "image/png": "[encoded data removed]",
            "text/plain": [
              "<rdkit.Chem.rdchem.Mol at 0x7fbc258a89e0>"
            ]
          },
          "metadata": {
            "tags": []
          },
          "execution_count": 42
        }
      ]
    },
    {
      "cell_type": "code",
      "metadata": {
        "id": "5q5fuQY9c4pA",
        "colab_type": "code",
        "outputId": "f4cbab58-40ec-4683-8d1d-79f67b232b34",
        "colab": {
          "base_uri": "https://localhost:8080/",
          "height": 167
        }
      },
      "source": [
        "N2 = Chem.MolFromSmiles('[nH]1cccc1')\n",
        "N2"
      ],
      "execution_count": 0,
      "outputs": [
        {
          "output_type": "execute_result",
          "data": {
            "image/png": "[encoded data removed]",
            "text/plain": [
              "<rdkit.Chem.rdchem.Mol at 0x7fbc258a8c60>"
            ]
          },
          "metadata": {
            "tags": []
          },
          "execution_count": 43
        }
      ]
    },
    {
      "cell_type": "markdown",
      "metadata": {
        "id": "oWhhm3asc6p7",
        "colab_type": "text"
      },
      "source": [
        "### **5.4 Bonding Conventions**\n",
        "\n",
        "SMILES의 장점 : 동일한 구조를 다양한 모델로 설명, 분자속 어떤 원자의 전하도 나타낼 수 있습니다.\n",
        "> 니트로메탄(Nitromethane) : `CN(=O)=O`    또는   `C[N+](=O)[O-]`"
      ]
    },
    {
      "cell_type": "code",
      "metadata": {
        "id": "qukTNvygdI2c",
        "colab_type": "code",
        "outputId": "cfae6163-f8c3-456d-81d9-7d5f5c52da55",
        "colab": {
          "base_uri": "https://localhost:8080/",
          "height": 167
        }
      },
      "source": [
        "N3 = Chem.MolFromSmiles('CN(=O)=O')\n",
        "N3"
      ],
      "execution_count": 0,
      "outputs": [
        {
          "output_type": "execute_result",
          "data": {
            "image/png": "[encoded data removed]",
            "text/plain": [
              "<rdkit.Chem.rdchem.Mol at 0x7fbc258a8cb0>"
            ]
          },
          "metadata": {
            "tags": []
          },
          "execution_count": 44
        }
      ]
    },
    {
      "cell_type": "code",
      "metadata": {
        "id": "njkrwIXcdPr7",
        "colab_type": "code",
        "outputId": "f20d207f-3959-4f87-b185-9031349a5680",
        "colab": {
          "base_uri": "https://localhost:8080/",
          "height": 167
        }
      },
      "source": [
        "N4 = Chem.MolFromSmiles('C[N+](=O)[O-]')\n",
        "N4"
      ],
      "execution_count": 0,
      "outputs": [
        {
          "output_type": "execute_result",
          "data": {
            "image/png": "[encoded data removed]",
            "text/plain": [
              "<rdkit.Chem.rdchem.Mol at 0x7fbc258a8e40>"
            ]
          },
          "metadata": {
            "tags": []
          },
          "execution_count": 45
        }
      ]
    },
    {
      "cell_type": "markdown",
      "metadata": {
        "id": "jEgDpj4vdQmc",
        "colab_type": "text"
      },
      "source": [
        "### **5.5 Tautomers**\n",
        "\n",
        "![a](http://www.daylight.com/dayhtml/doc/theory/theory26.gif)|-\n",
        "-----------|-----------\n",
        "O=c1[nH]cccc1 _ _ _ _ _ _ _ _ _ _ _ _ _ _ _ | Oc1ncccc1\n",
        "2-pyridone _ _ _ _ _ _ _ _ _ _ _ _ _ _ _ | 2-pyridinol"
      ]
    },
    {
      "cell_type": "code",
      "metadata": {
        "id": "O4l-UmCDdcyv",
        "colab_type": "code",
        "outputId": "1456f6ca-0958-48ed-9187-e90ecc893635",
        "colab": {
          "base_uri": "https://localhost:8080/",
          "height": 167
        }
      },
      "source": [
        "T1 = Chem.MolFromSmiles('O=c1[nH]cccc1')\n",
        "T1"
      ],
      "execution_count": 0,
      "outputs": [
        {
          "output_type": "execute_result",
          "data": {
            "image/png": "[encoded data removed]",
            "text/plain": [
              "<rdkit.Chem.rdchem.Mol at 0x7fbc258ae030>"
            ]
          },
          "metadata": {
            "tags": []
          },
          "execution_count": 46
        }
      ]
    },
    {
      "cell_type": "code",
      "metadata": {
        "id": "roh4kLbBdd6T",
        "colab_type": "code",
        "outputId": "5e3951b4-3b77-4755-bbc4-ba2f7d81578e",
        "colab": {
          "base_uri": "https://localhost:8080/",
          "height": 167
        }
      },
      "source": [
        "T2 = Chem.MolFromSmiles('Oc1ncccc1')\n",
        "T2"
      ],
      "execution_count": 0,
      "outputs": [
        {
          "output_type": "execute_result",
          "data": {
            "image/png": "[encoded data removed]",
            "text/plain": [
              "<rdkit.Chem.rdchem.Mol at 0x7fbc258ae1c0>"
            ]
          },
          "metadata": {
            "tags": []
          },
          "execution_count": 47
        }
      ]
    },
    {
      "cell_type": "markdown",
      "metadata": {
        "id": "NyTPVkKiJSb2",
        "colab_type": "text"
      },
      "source": [
        "# **Ⅱ. 시퀀스-투-시퀀스 (Sequencd-to-Sequence, seq2seq)**\n"
      ]
    },
    {
      "cell_type": "markdown",
      "metadata": {
        "id": "f5Q4J0oNwTgf",
        "colab_type": "text"
      },
      "source": [
        "시퀀스-투-시퀀스(Sequence-to-Sequence)는 입력된 시퀀스로부터 다른 도메인의 시퀀스를 출력하는 다양한 분야에서 사용되는 모델입니다. 대표적으로 챗봇(Chatbot)과 기계 번역(Machine Translation)이 있습니다.  입력 시퀀스와 출력 시퀀스를 각각 질문과 대답으로 구성하면 챗봇으로 만들 수 있고, 입력 시퀀스와 출력 시퀀스를 각각 입력 문장과 번역 문장으로 만들면 번역기로 만들 수 있습니다. 따라서 seq2seq에 대한 구조를 이해하고, 케라스(keras)를 통해 직접 구현해보겠습니다.\n",
        "\n",
        "### **1. 시퀀스 - 투 - 시퀀스  (Sequence-to-Sequence)**\n",
        "\n",
        "![대체 텍스트](https://wikidocs.net/images/page/24996/%EC%8B%9C%ED%80%80%EC%8A%A4%ED%88%AC%EC%8B%9C%ED%80%80%EC%8A%A4.PNG)\n",
        "\n",
        "위의 그림은 seq2seq 모델로 만들어진 번역기가 'I am a student'라는 영어 문장을 입력받아서, 'je suis étudiant'라는 프랑스 문장을 출력하는 모습을 보여줍니다. Seq2Seq의 장점은 전체 input을 훑어본 뒤에 임의의 어떤 시퀀스를 출력할 수 있으며, 효율적인 번역을 위해 input의 특정 부분만을 집중하여 살펴볼 수도 있습니다. Seq2Seq의 한계는 시퀀스의 입력과 출력 길이에 어떠한 제약도 없다는 것이지만, Seq2Seq 모델은 LSTM의 한계때문에 입력 문장이 매우 길면 효율적으로 학습하지 못합니다.\n",
        "\n",
        "![대체 텍스트](https://wikidocs.net/images/page/24996/seq2seq%EB%AA%A8%EB%8D%B811.PNG)\n",
        "\n",
        "seq2seq는 크게 입력을 context vector로 변화하는 인코더와 context vector을 원래의 정보로 출력하는 디코더로 구성되어 있습니다. 인코더와 디코더는 각각 여러개의 LSTM 셀로 구성되어 있습니다.\n",
        "\n",
        "![대체 텍스트](https://wikidocs.net/images/page/24996/%EC%9D%B8%EC%BD%94%EB%8D%94%EB%94%94%EC%BD%94%EB%8D%94%EB%AA%A8%EB%8D%B8.PNG)\n",
        "\n",
        "### **2. 인코더**\n",
        "인코더는 입력 문장을 받는 LSTM 셀입니다.\n",
        "인코더는 입력 문장의 모든 단어들을 순차적으로 입력받은 뒤에 마지막에 이 모든 단어 정보들을 압축해서 하나의 벡터로 만드는데, 이를 context vector라고 합니다. 입력 문장의 정보가 하나의 context vector로 모두 압축되면 인코더는 context vector를 디코더로 전송합니다. \n",
        "\n",
        "![대체 텍스트](https://wikidocs.net/images/page/24996/rnn%EA%B7%BC%ED%99%A9.PNG)\n",
        "\n",
        "현재 시점(time step)을 t라고 할 때, LSTM 셀은 t-1에서의 은닉 상태와 t에서의 입력 벡터를 입력으로 받고, t에서의 은닉 상태를 만듭니다. 이때 t에서의 은닉 상태는 바로 위에 또 다른 은닉층이나 출력층이 존재할 경우에는 위의 층으로 보내거나, 필요없으면 값을 무시할 수 있습니다. 그리고 LSTM 셀은 다음 시점에 해당하는 t+1의 LSTMN 셀의 입력으로 현재 t에서의 은닉 상태를 입력으로 보냅니다.\n",
        "\n",
        "이런 구조에서 현재 시점 t에서의 은닉 상태는 과거 시점의 동일한 LSTM 셀에서의 모든 은닉 상태의 값들의 영향을 누적해서 받아온 값이라고 할 수 있습니다. 그렇기 때문에 앞서 언급했던 context vector는 사실 인코더에서의 마지막 LSTM 셀의 은닉 상태 값을 말하는 것이며, 이는 입력 문장의 모든 단어 토큰들의 정보를 요약해서 담고있다고 할 수 있습니다. 그리고 이 context vector는 디코더의 LSTM 셀의 첫 번째 은닉 상태로 사용됩니다.\n",
        "\n",
        "### **3. 디코더**\n",
        "디코더는 출력 문장을 출력하는 LSTM 셀입니다.\n",
        "디코더는 인코더의 마지막 LSTM 셀의 은닉 상태인 context vector를 첫번째 은닉 상태의 값으로 사용합니다. 디코더는 초기 입력으로 문장의 시작을 의미하는 심볼 <sos>가 들어갑니다. 디코더의 첫번째 LSTM 셀은 이 첫번째 은닉 상태의 값과, 현재 t에서의 입력값인 <sos>로부터, 다음에 등장할 단어를 예측합니다. 그리고 이 예측된 단어는 다음 시점인 t+1 LSTM에서의 입력값이 되고, 이 t+1에서의 LSTM 또한 이 입력값과 t에서의 은닉 상태로부터 t+1에서의 출력 벡터. 즉, 또 다시 다음에 등장할 단어를 예측하게 될 것입니다. 이런 식으로 기본적으로 다음에 올 단어를 예측하고, 그 예측한 단어를 다음 시점의 LSTM 셀의 입력으로 넣는 행위를 반복합니다. 이 행위는 문장의 끝을 의미하는 심볼인 <eos>가 다음 단어로 예측될 때까지 반복됩니다.\n",
        "\n",
        "![대체 텍스트](https://wikidocs.net/images/page/24996/decodernextwordprediction.PNG)\n",
        "\n",
        "출력 단어로 나올 수 있는 단어들은 다양한 단어들이 있습니다. seq2seq 모델은 선택될 수 있는 모든 단어들로부터 하나의 단어를 골라서 예측해야 합니다. 이를 예측하기 위해서 소프트맥스 함수를 사용합니다. 디코더에서 각 시점(time step)의 LSTM 셀에서 출력 벡터가 나오면, 해당 벡터는 소프트맥스 함수를 통해 출력 시퀀스의 각 단어별 확률값을 반환하고, 디코더는 출력 단어를 결정합니다.\n",
        "\n",
        "### **4. 임베딩 층**\n",
        "임베딩 층은 텍스트를 고정된 길이의 숫자 벡터로 바꿉니다. \n",
        "seq2seq에서 사용되는 모든 단어들은 워드 임베딩을 통해 임베딩 벡터로서 표현된 임베딩 벡터입니다. 아래 그림은 모든 단어에 대해서 임베딩 과정을 거치게 하는 단계인 임베딩 층(embedding layer)의 모습을 보여줍니다.\n",
        "\n",
        "![대체 텍스트](https://wikidocs.net/images/page/24996/%EB%8B%A8%EC%96%B4%ED%86%A0%ED%81%B0%EB%93%A4%EC%9D%B4.PNG)\n",
        "\n",
        "![대체 텍스트](https://wikidocs.net/images/page/24996/%EC%9E%84%EB%B2%A0%EB%94%A9%EB%B2%A1%ED%84%B0.PNG)\n",
        "\n",
        "예를 들어 I, am, a, student라는 단어들에 대한 임베딩 벡터는 위와 같은 모습을 가집니다. 여기서는 그림으로 표현하고자 사이즈를 4로 하였지만, 보통 실제 임베딩 벡터는 수백 개의 차원을 가질 수 있습니다.\n",
        "\n",
        "### **5. 교사 강요**\n",
        "훈련 과정에서는 이전 시점의 디코더 셀의 출력을 현재 시점의 디코더 셀의 입력으로 넣어주지 않고, 이전 시점의 실제값을 현재 시점의 디코더 셀의 입력값으로 하는 방법을 사용할 겁니다. 그 이유는 이전 시점의 디코더 셀의 예측이 틀렸는데 이를 현재 시점의 디코더 셀의 입력으로 사용하면 현재 시점의 디코더 셀의 예측도 잘못될 가능성이 높고 이는 연쇄 작용으로 디코더 전체의 예측을 어렵게 합니다. 이런 상황이 반복되면 훈련 시간이 느려집니다. 만약 이 상황을 원하지 않는다면 이전 시점의 디코더 셀의 예측값 대신 실제값을 현재 시점의 디코더 셀의 입력으로 사용하는 방법을 사용할 수 있습니다. 이와 같이 LSTM의 모든 시점에 대해서 이전 시점의 예측값 대신 실제값을 입력으로 주는 방법을 교사 강요라고 합니다.\n",
        "\n",
        "지금까지 가장 기본적인 seq2seq에 대해서 배워보았습니다. 사실 seq2seq는 어떻게 구현하느냐에 따라서 충분히 더 복잡해질 수 있습니다. 컨텍스트 벡터를 디코더의 초기 은닉 상태로만 사용할 수도 있고, 거기서 더 나아가 컨텍스트 벡터를 디코더가 단어를 예측하는 매 시점마다 하나의 입력으로 사용할 수도 있으며 거기서 더 나아가면 어텐션 메커니즘이라는 방법을 통해 지금 알고있는 컨텍스트 벡터보다 더욱 문맥을 반영할 수 있는 컨텍스트 벡터를 구하여 매 시점마다 하나의 입력으로 사용할 수도 있습니다.\n",
        "\n"
      ]
    },
    {
      "cell_type": "markdown",
      "metadata": {
        "id": "oPZG-W4oJ20Q",
        "colab_type": "text"
      },
      "source": [
        "# **Ⅲ. Seq2seq Fingerprint : An Unsupervised Deep Molecular Embedding for Drug Discovery**"
      ]
    },
    {
      "cell_type": "markdown",
      "metadata": {
        "id": "8Cg8DGOYVc-o",
        "colab_type": "text"
      },
      "source": [
        "**약물 발견**은 잠재적인 효과가 있는 새로운 의약품을 식별하는 과정입니다. 현대의 약물 발견은 일반적으로 약물 화합물 선택으로 구현되는 반면, 모든 후보 화합물의 화학 물질 특성, 예를 들어 친 화성, 선택성, 대사 안정성은 실험실 환경에서 생물학적으로 테스트 됩니다. 약물 요구 사항 테스트를 통과한 모든 특성은 잠재적 약물 후보로 선정됩니다. 그러나 이 과정은 수많은 자본과 노동력이 필요합니다.\n",
        "\n",
        "따라서, machine learning method를 사용하여 화학적 특성을 자동으로 예측하는 것은 최근 약물 발견 커뮤니티에 큰 관심을 불러 일으켰습니다. 그러나 대부분의 machine learning 알고리즘은 길이가 고정된 연속벡터를 입력으로 사용합니다. 그러나 분자의 특성상 고정 길이 벡터를 가진 분자를 표현하기가 매우 어렵습니다. 그래서 전반적으로 분자 표현의 선택은 machine learning 기반 약물 발견이 핵심입니다.\n",
        "\n",
        "전통적인 고정 길이 벡터 분자의 fingerprint 표현은 데이터 기반이 아니라 인간의 전문 지식에 관한 것입니다. 그중 하나는 일부 Hashing process(예 : Extended Con-음성 fingerprint (ECFP))입니다. 그 fingerprint들은 보통 속도는 효율적이지만 이미지의 손실 압축과 매우 유사합니다. 다른 비 데이터 기반 fingerprint의 종류는 로컬 하위 구조를 기반으로합니다.  생물 학자들은 여러 가지 관련성이 높은 화학 물질을 찾습니다. 특정 작업을 위한 분자 하위 구조 및 fingerprint 설계에 따라 기능 벡터를 출력합니다. 그러나 이런 종류의 설계에는 분명히 수년간의 전문 지식이 필요합니다. 경험이 풍부하고 작업에 매우 민감합니다. \n",
        "\n",
        "요약하자면, 비 데이터 구동 fingerprint은 충분한 정보를 인코딩하는 데 제한이 있습니다. 비싸고 정확한 인간 지식에 매우 의존합니다. 이 때문에, 데이터 기반 fingerprint에 대한 수요가 크게 증가했습니다. 따라서, 수년간의 인간 지식과 고가의 생물학적 물질이 필요하지 않습니다.\n",
        "\n",
        "본 논문에서는 seq2seq fingerprint 이라는 비지도학습 데이터 중심 심층 학습 분자 fingerprint 방법을 제안합니다. 위에서 언급 한 문제를 해결하기 위해 <br> 1) 제안 된 방법은 인간의 전문 지식이 필요 없습니다.<br> 2) 제안 된 방법에 의해 생성 된 fingerproint는 원래 분자 표현으로 완전히 되돌릴 수있어 fingerprint 벡터에 인코딩 된 정보의 충분성을 보장합니다.<br> 3) 제안 된 방법은 심층 신경망의  레이블이없는 거대한 데이터 세트에 대해 지도학습되지 않은 훈련을 사용합니다.  \n",
        "\n",
        "fingerprint은 시퀀스-시퀀스 학습 (seq2seq 학습)이라는 최신 혁신 모델을 기반으로 설계되었습니다. seq2seq 학습 방법은 겉보기에는 관련이 없는 영어-프랑스어 번역에서 비롯됩니다. seq2seq 학습 방법은 영어 문장을 입력으로 사용하여 의미 벡터로 인코딩 한 다음 출력으로 프랑스어 문장으로 다시 변환합니다. 이 방법의 요점은 비슷하지만 seq2seq 학습의 입력과 출력을 분자의 텍스트 표현 인 동일한 SMILE 문자열로 설정하는 방식이 다릅니다. SMILE 문자열을 고정 크기 벡터에 Mapping 한 다음 원래 SMILE 문자열로 다시 변환합니다. 중간 고정 크기 벡터는 seq2seq fingerprint로 추출됩니다. 모델이 잘 훈련되면, 중간 특징 벡터는 원래의 분자 표현을 회복하기 위해 모든 정보를 인코딩하는 것으로 간주됩니다. 따라서 seq2seq fingerprint은 분자 특성을 정확하게 예측할 수있는 엄격한 정보를 잡아낼 것 으로 예상됩니다. \n",
        "\n",
        "<br>seq2seq fingerprint의 장점은 3 가지입니다. <br>1) seq2seq fingerprint의 교육 단계에는 라벨이 필요 없어서 비용이 많이 드는 노동 집약적 인 라벨 획득 절차가 필요 없습니다.<br> 2) 데이터 중심적이므로 전문가의 주관적 지식에 의존하지 않습니다.<br> 3) 레이블이없는 data는 실제로 거의 무제한이므로 매우 deep learning 시킬 수 있습니다.\n",
        "\n",
        "![대체 텍스트](https://github.com/syeong1218/python/blob/master/%EC%BA%A1%EC%B2%98.PNG?raw=true)\n"
      ]
    },
    {
      "cell_type": "markdown",
      "metadata": {
        "id": "CYkecAMQO7vv",
        "colab_type": "text"
      },
      "source": [
        "## **1. SMILES DATA SET**\n",
        "지금부터는 저희가 사용하려는 Data Base 들에 대한 자료를 소개하겠습니다. Data Base 는 http://moleculenet.ai/datasets-1 에서 찾았으며, 이 곳에서 SIDER 라는 Data set을 사용하겠습니다. 이 Data set은 인체내의 27개의 장기에 대한 시판 약물과 부작용의 Data set 입니다. 이 Data Set을 사용하여 모델을 학습시킬 예정입니다. "
      ]
    },
    {
      "cell_type": "code",
      "metadata": {
        "id": "WC2QvU7oRF9z",
        "colab_type": "code",
        "colab": {}
      },
      "source": [
        "import os\n",
        "import pandas as pd\n",
        "import numpy as np\n",
        "from rdkit import Chem\n",
        "from rdkit.Chem import Draw, Descriptors\n",
        "from matplotlib import pyplot as plt\n",
        "%matplotlib inline"
      ],
      "execution_count": 0,
      "outputs": []
    },
    {
      "cell_type": "code",
      "metadata": {
        "id": "XgSSplUEF_Gw",
        "colab_type": "code",
        "outputId": "18ea56e2-a6bc-4232-d229-2cc6773e57be",
        "colab": {
          "base_uri": "https://localhost:8080/",
          "height": 104
        }
      },
      "source": [
        "try:\n",
        "\n",
        "    %tensorflow_version 2.x  # %tensorflow_version only exists in Colab\n",
        "\n",
        "except Exception:\n",
        "\n",
        "    pass"
      ],
      "execution_count": 0,
      "outputs": [
        {
          "output_type": "stream",
          "text": [
            "`%tensorflow_version` only switches the major version: `1.x` or `2.x`.\n",
            "You set: `2.x  # %tensorflow_version only exists in Colab`. This will be interpreted as: `2.x`.\n",
            "\n",
            "\n",
            "TensorFlow 2.x selected.\n"
          ],
          "name": "stdout"
        }
      ]
    },
    {
      "cell_type": "code",
      "metadata": {
        "id": "de-AIVokFu8v",
        "colab_type": "code",
        "outputId": "fb087658-6e01-4a61-8eb3-80146db71556",
        "colab": {
          "base_uri": "https://localhost:8080/",
          "height": 52
        }
      },
      "source": [
        "smifile = \"gdb11_size08.smi\"\n",
        "data = pd.read_csv(smifile, delimiter = \" \", names = [\"smiles\",\"No\"])\n",
        "from sklearn.model_selection import train_test_split\n",
        "smiles_train, smiles_test = train_test_split(data[\"smiles\"], random_state=42)\n",
        "print(smiles_train.shape)\n",
        "print(smiles_test.shape)"
      ],
      "execution_count": 0,
      "outputs": [
        {
          "output_type": "stream",
          "text": [
            "(50029,)\n",
            "(16677,)\n"
          ],
          "name": "stdout"
        }
      ]
    },
    {
      "cell_type": "code",
      "metadata": {
        "id": "4Y5rxiJbIwJB",
        "colab_type": "code",
        "outputId": "03e7ec6c-eaa8-4285-b3c7-8f56a4a18adf",
        "colab": {
          "base_uri": "https://localhost:8080/",
          "height": 52
        }
      },
      "source": [
        "charset = set(\"\".join(list(data.smiles))+\"!E\")\n",
        "char_to_int = dict((c,i) for i,c in enumerate(charset))\n",
        "int_to_char = dict((i,c) for i,c in enumerate(charset))\n",
        "embed = max([len(smile) for smile in data.smiles]) + 5\n",
        "print (str(charset))\n",
        "print(len(charset), embed)"
      ],
      "execution_count": 0,
      "outputs": [
        {
          "output_type": "stream",
          "text": [
            "{'5', '9', 'n', ')', '!', '8', 'O', '+', '-', '7', '[', 'F', '=', '6', '4', '1', '(', 'N', '3', '\\t', 'E', '#', '2', 'C', 'H', ']', 'c', '0', 'o'}\n",
            "29 36\n"
          ],
          "name": "stdout"
        }
      ]
    },
    {
      "cell_type": "code",
      "metadata": {
        "id": "Ifz6pcmwOKX7",
        "colab_type": "code",
        "outputId": "78074913-3a0b-4b34-ffe5-cf97ee6672c0",
        "colab": {
          "base_uri": "https://localhost:8080/",
          "height": 310
        }
      },
      "source": [
        "def vectorize(smiles):\n",
        "        one_hot =  np.zeros((smiles.shape[0], embed , len(charset)),dtype=np.int8)\n",
        "        for i,smile in enumerate(smiles):\n",
        "            #encode the startchar\n",
        "            one_hot[i,0,char_to_int[\"!\"]] = 1\n",
        "            #encode the rest of the chars\n",
        "            for j,c in enumerate(smile):\n",
        "                one_hot[i,j+1,char_to_int[c]] = 1\n",
        "            #Encode endchar\n",
        "            one_hot[i,len(smile)+1:,char_to_int[\"E\"]] = 1\n",
        "        #Return two, one for input and the other for output\n",
        "        return one_hot[:,0:-1,:], one_hot[:,1:,:]\n",
        "X_train, Y_train = vectorize(smiles_train.values)\n",
        "X_test,Y_test = vectorize(smiles_test.values)\n",
        "print (smiles_train.iloc[0])\n",
        "plt.matshow(X_train[0].T)\n",
        "#print X_train.shape"
      ],
      "execution_count": 0,
      "outputs": [
        {
          "output_type": "stream",
          "text": [
            "N#CC#CC1COC1\t43343\t1\n"
          ],
          "name": "stdout"
        },
        {
          "output_type": "execute_result",
          "data": {
            "text/plain": [
              "<matplotlib.image.AxesImage at 0x7fbd4412f2e8>"
            ]
          },
          "metadata": {
            "tags": []
          },
          "execution_count": 8
        },
        {
          "output_type": "display_data",
          "data": {
            "image/png": "[encoded data removed]",
            "text/plain": [
              "<Figure size 347.586x288 with 1 Axes>"
            ]
          },
          "metadata": {
            "tags": []
          }
        }
      ]
    },
    {
      "cell_type": "code",
      "metadata": {
        "id": "vSJyWmPjOVq3",
        "colab_type": "code",
        "outputId": "a31082d9-138f-4b8c-fc52-89e832b3eb41",
        "colab": {
          "base_uri": "https://localhost:8080/",
          "height": 34
        }
      },
      "source": [
        "\"\".join([int_to_char[idx] for idx in np.argmax(X_train[0,:,:], axis=1)])"
      ],
      "execution_count": 0,
      "outputs": [
        {
          "output_type": "execute_result",
          "data": {
            "text/plain": [
              "'!N#CC#CC1COC1\\t43343\\t1EEEEEEEEEEEEEE'"
            ]
          },
          "metadata": {
            "tags": []
          },
          "execution_count": 9
        }
      ]
    },
    {
      "cell_type": "code",
      "metadata": {
        "id": "P5r83p_4OelN",
        "colab_type": "code",
        "colab": {}
      },
      "source": [
        "#Import Keras objects\n",
        "from tensorflow.keras.models import Model\n",
        "from tensorflow.keras.layers import Input\n",
        "from tensorflow.keras.layers import LSTM\n",
        "from tensorflow.keras.layers import Dense\n",
        "from tensorflow.keras.layers import Concatenate\n",
        "from tensorflow.keras import regularizers\n",
        "input_shape = X_train.shape[1:]\n",
        "output_dim = Y_train.shape[-1]\n",
        "latent_dim = 64\n",
        "lstm_dim = 64"
      ],
      "execution_count": 0,
      "outputs": []
    },
    {
      "cell_type": "code",
      "metadata": {
        "id": "N8Z8tgy0OjLw",
        "colab_type": "code",
        "colab": {}
      },
      "source": [
        "unroll = False\n",
        "encoder_inputs = Input(shape=input_shape)\n",
        "encoder = LSTM(lstm_dim, return_state=True,\n",
        "                unroll=unroll)\n",
        "encoder_outputs, state_h, state_c = encoder(encoder_inputs)\n",
        "states = Concatenate(axis=-1)([state_h, state_c])\n",
        "neck = Dense(latent_dim, activation=\"relu\")\n",
        "neck_outputs = neck(states)\n",
        "import warnings\n",
        " \n",
        "warnings.filterwarnings(\"ignore\")\n"
      ],
      "execution_count": 0,
      "outputs": []
    },
    {
      "cell_type": "code",
      "metadata": {
        "id": "AfUNghUfOoXe",
        "colab_type": "code",
        "outputId": "250be8f2-b96d-466d-e236-b95ffaea6c00",
        "colab": {
          "base_uri": "https://localhost:8080/",
          "height": 542
        }
      },
      "source": [
        "decode_h = Dense(lstm_dim, activation=\"relu\")\n",
        "decode_c = Dense(lstm_dim, activation=\"relu\")\n",
        "state_h_decoded =  decode_h(neck_outputs)\n",
        "state_c_decoded =  decode_c(neck_outputs)\n",
        "encoder_states = [state_h_decoded, state_c_decoded]\n",
        "decoder_inputs = Input(shape=input_shape)\n",
        "decoder_lstm = LSTM(lstm_dim,\n",
        "                    return_sequences=True,\n",
        "                    unroll=unroll\n",
        "                   )\n",
        "decoder_outputs = decoder_lstm(decoder_inputs, initial_state=encoder_states)\n",
        "decoder_dense = Dense(output_dim, activation='softmax')\n",
        "decoder_outputs = decoder_dense(decoder_outputs)\n",
        "#Define the model, that inputs the training vector for two places, and predicts one character ahead of the input\n",
        "model = Model([encoder_inputs, decoder_inputs], decoder_outputs)\n",
        "print (model.summary())"
      ],
      "execution_count": 0,
      "outputs": [
        {
          "output_type": "stream",
          "text": [
            "Model: \"model\"\n",
            "__________________________________________________________________________________________________\n",
            "Layer (type)                    Output Shape         Param #     Connected to                     \n",
            "==================================================================================================\n",
            "input_1 (InputLayer)            [(None, 35, 29)]     0                                            \n",
            "__________________________________________________________________________________________________\n",
            "lstm (LSTM)                     [(None, 64), (None,  24064       input_1[0][0]                    \n",
            "__________________________________________________________________________________________________\n",
            "concatenate (Concatenate)       (None, 128)          0           lstm[0][1]                       \n",
            "                                                                 lstm[0][2]                       \n",
            "__________________________________________________________________________________________________\n",
            "dense (Dense)                   (None, 64)           8256        concatenate[0][0]                \n",
            "__________________________________________________________________________________________________\n",
            "input_2 (InputLayer)            [(None, 35, 29)]     0                                            \n",
            "__________________________________________________________________________________________________\n",
            "dense_1 (Dense)                 (None, 64)           4160        dense[0][0]                      \n",
            "__________________________________________________________________________________________________\n",
            "dense_2 (Dense)                 (None, 64)           4160        dense[0][0]                      \n",
            "__________________________________________________________________________________________________\n",
            "lstm_1 (LSTM)                   (None, 35, 64)       24064       input_2[0][0]                    \n",
            "                                                                 dense_1[0][0]                    \n",
            "                                                                 dense_2[0][0]                    \n",
            "__________________________________________________________________________________________________\n",
            "dense_3 (Dense)                 (None, 35, 29)       1885        lstm_1[0][0]                     \n",
            "==================================================================================================\n",
            "Total params: 66,589\n",
            "Trainable params: 66,589\n",
            "Non-trainable params: 0\n",
            "__________________________________________________________________________________________________\n",
            "None\n"
          ],
          "name": "stdout"
        }
      ]
    },
    {
      "cell_type": "code",
      "metadata": {
        "id": "MeznhaJozF9m",
        "colab_type": "code",
        "colab": {}
      },
      "source": [
        "from tensorflow.keras.callbacks import History, ReduceLROnPlateau\n",
        "h = History()\n",
        "rlr = ReduceLROnPlateau(monitor='val_loss', factor=0.5,patience=10, min_lr=0.000001, verbose=1, min_delta=1e-5)"
      ],
      "execution_count": 0,
      "outputs": []
    },
    {
      "cell_type": "code",
      "metadata": {
        "id": "sb6hRr-Nzw1H",
        "colab_type": "code",
        "colab": {}
      },
      "source": [
        "from tensorflow.keras.optimizers import RMSprop, Adam\n",
        "opt=Adam(lr=0.005) #Default 0.001\n",
        "model.compile(optimizer=opt, loss='categorical_crossentropy')"
      ],
      "execution_count": 0,
      "outputs": []
    },
    {
      "cell_type": "code",
      "metadata": {
        "id": "p1yHzQb2zN0x",
        "colab_type": "code",
        "outputId": "8ca377c9-c7f0-42d8-a56c-4205b74f400b",
        "colab": {
          "base_uri": "https://localhost:8080/",
          "height": 1000
        }
      },
      "source": [
        "model.fit([X_train,X_train],Y_train,\n",
        "                    epochs=100,\n",
        "                    batch_size=256,\n",
        "                    shuffle=True,\n",
        "                    callbacks=[h, rlr],\n",
        "                    validation_data=[[X_test,X_test],Y_test ])"
      ],
      "execution_count": 0,
      "outputs": [
        {
          "output_type": "stream",
          "text": [
            "Train on 50029 samples, validate on 16677 samples\n",
            "Epoch 1/100\n",
            "50029/50029 [==============================] - 11s 211us/sample - loss: 1.1512 - val_loss: 0.8452\n",
            "Epoch 2/100\n",
            "50029/50029 [==============================] - 2s 50us/sample - loss: 0.8035 - val_loss: 0.7697\n",
            "Epoch 3/100\n",
            "50029/50029 [==============================] - 2s 50us/sample - loss: 0.7553 - val_loss: 0.7349\n",
            "Epoch 4/100\n",
            "50029/50029 [==============================] - 2s 50us/sample - loss: 0.7186 - val_loss: 0.7124\n",
            "Epoch 5/100\n",
            "50029/50029 [==============================] - 2s 49us/sample - loss: 0.6989 - val_loss: 0.6791\n",
            "Epoch 6/100\n",
            "50029/50029 [==============================] - 2s 49us/sample - loss: 0.6594 - val_loss: 0.6413\n",
            "Epoch 7/100\n",
            "50029/50029 [==============================] - 2s 50us/sample - loss: 0.6285 - val_loss: 0.6235\n",
            "Epoch 8/100\n",
            "50029/50029 [==============================] - 2s 49us/sample - loss: 0.5988 - val_loss: 0.5778\n",
            "Epoch 9/100\n",
            "50029/50029 [==============================] - 2s 49us/sample - loss: 0.5727 - val_loss: 0.5547\n",
            "Epoch 10/100\n",
            "50029/50029 [==============================] - 2s 49us/sample - loss: 0.5565 - val_loss: 0.5289\n",
            "Epoch 11/100\n",
            "50029/50029 [==============================] - 2s 49us/sample - loss: 0.5191 - val_loss: 0.4975\n",
            "Epoch 12/100\n",
            "50029/50029 [==============================] - 2s 50us/sample - loss: 0.4960 - val_loss: 0.4744\n",
            "Epoch 13/100\n",
            "50029/50029 [==============================] - 2s 50us/sample - loss: 0.4706 - val_loss: 0.4480\n",
            "Epoch 14/100\n",
            "50029/50029 [==============================] - 2s 49us/sample - loss: 0.4448 - val_loss: 0.4933\n",
            "Epoch 15/100\n",
            "50029/50029 [==============================] - 2s 49us/sample - loss: 0.4410 - val_loss: 0.4091\n",
            "Epoch 16/100\n",
            "50029/50029 [==============================] - 2s 50us/sample - loss: 0.4004 - val_loss: 0.4254\n",
            "Epoch 17/100\n",
            "50029/50029 [==============================] - 2s 49us/sample - loss: 0.3849 - val_loss: 0.3846\n",
            "Epoch 18/100\n",
            "50029/50029 [==============================] - 2s 50us/sample - loss: 0.3720 - val_loss: 0.3909\n",
            "Epoch 19/100\n",
            "50029/50029 [==============================] - 2s 50us/sample - loss: 0.3458 - val_loss: 0.3410\n",
            "Epoch 20/100\n",
            "50029/50029 [==============================] - 2s 50us/sample - loss: 0.3270 - val_loss: 0.3066\n",
            "Epoch 21/100\n",
            "50029/50029 [==============================] - 2s 50us/sample - loss: 0.3167 - val_loss: 0.3430\n",
            "Epoch 22/100\n",
            "50029/50029 [==============================] - 3s 50us/sample - loss: 0.2985 - val_loss: 0.2855\n",
            "Epoch 23/100\n",
            "50029/50029 [==============================] - 2s 50us/sample - loss: 0.3044 - val_loss: 0.2927\n",
            "Epoch 24/100\n",
            "50029/50029 [==============================] - 2s 50us/sample - loss: 0.2806 - val_loss: 0.3005\n",
            "Epoch 25/100\n",
            "50029/50029 [==============================] - 2s 49us/sample - loss: 0.2640 - val_loss: 0.2716\n",
            "Epoch 26/100\n",
            "50029/50029 [==============================] - 2s 49us/sample - loss: 0.2651 - val_loss: 0.2471\n",
            "Epoch 27/100\n",
            "50029/50029 [==============================] - 2s 50us/sample - loss: 0.2568 - val_loss: 0.2534\n",
            "Epoch 28/100\n",
            "50029/50029 [==============================] - 3s 50us/sample - loss: 0.2371 - val_loss: 0.2341\n",
            "Epoch 29/100\n",
            "50029/50029 [==============================] - 2s 49us/sample - loss: 0.2297 - val_loss: 0.2419\n",
            "Epoch 30/100\n",
            "50029/50029 [==============================] - 2s 50us/sample - loss: 0.2379 - val_loss: 0.2363\n",
            "Epoch 31/100\n",
            "50029/50029 [==============================] - 2s 49us/sample - loss: 0.2384 - val_loss: 0.2223\n",
            "Epoch 32/100\n",
            "50029/50029 [==============================] - 3s 50us/sample - loss: 0.2071 - val_loss: 0.2113\n",
            "Epoch 33/100\n",
            "50029/50029 [==============================] - 2s 49us/sample - loss: 0.2040 - val_loss: 0.2054\n",
            "Epoch 34/100\n",
            "50029/50029 [==============================] - 2s 50us/sample - loss: 0.2032 - val_loss: 0.1963\n",
            "Epoch 35/100\n",
            "50029/50029 [==============================] - 2s 49us/sample - loss: 0.1931 - val_loss: 0.2206\n",
            "Epoch 36/100\n",
            "50029/50029 [==============================] - 2s 50us/sample - loss: 0.2225 - val_loss: 0.2273\n",
            "Epoch 37/100\n",
            "50029/50029 [==============================] - 3s 50us/sample - loss: 0.1894 - val_loss: 0.1818\n",
            "Epoch 38/100\n",
            "50029/50029 [==============================] - 3s 50us/sample - loss: 0.1844 - val_loss: 0.1853\n",
            "Epoch 39/100\n",
            "50029/50029 [==============================] - 3s 50us/sample - loss: 0.1767 - val_loss: 0.2070\n",
            "Epoch 40/100\n",
            "50029/50029 [==============================] - 2s 50us/sample - loss: 0.1873 - val_loss: 0.2621\n",
            "Epoch 41/100\n",
            "50029/50029 [==============================] - 3s 50us/sample - loss: 0.1777 - val_loss: 0.3229\n",
            "Epoch 42/100\n",
            "50029/50029 [==============================] - 2s 50us/sample - loss: 0.1805 - val_loss: 0.1672\n",
            "Epoch 43/100\n",
            "50029/50029 [==============================] - 2s 50us/sample - loss: 0.1662 - val_loss: 0.1769\n",
            "Epoch 44/100\n",
            "50029/50029 [==============================] - 2s 50us/sample - loss: 0.1693 - val_loss: 0.1596\n",
            "Epoch 45/100\n",
            "50029/50029 [==============================] - 3s 50us/sample - loss: 0.1714 - val_loss: 0.1587\n",
            "Epoch 46/100\n",
            "50029/50029 [==============================] - 2s 49us/sample - loss: 0.1590 - val_loss: 0.1707\n",
            "Epoch 47/100\n",
            "50029/50029 [==============================] - 3s 50us/sample - loss: 0.1552 - val_loss: 0.1635\n",
            "Epoch 48/100\n",
            "50029/50029 [==============================] - 2s 49us/sample - loss: 0.1716 - val_loss: 0.1604\n",
            "Epoch 49/100\n",
            "50029/50029 [==============================] - 2s 50us/sample - loss: 0.1475 - val_loss: 0.1517\n",
            "Epoch 50/100\n",
            "50029/50029 [==============================] - 2s 50us/sample - loss: 0.1927 - val_loss: 0.1558\n",
            "Epoch 51/100\n",
            "50029/50029 [==============================] - 2s 50us/sample - loss: 0.1465 - val_loss: 0.1578\n",
            "Epoch 52/100\n",
            "50029/50029 [==============================] - 3s 50us/sample - loss: 0.1465 - val_loss: 0.1423\n",
            "Epoch 53/100\n",
            "50029/50029 [==============================] - 2s 50us/sample - loss: 0.1406 - val_loss: 0.1423\n",
            "Epoch 54/100\n",
            "50029/50029 [==============================] - 3s 50us/sample - loss: 0.1750 - val_loss: 0.1559\n",
            "Epoch 55/100\n",
            "50029/50029 [==============================] - 2s 50us/sample - loss: 0.1416 - val_loss: 0.1596\n",
            "Epoch 56/100\n",
            "50029/50029 [==============================] - 2s 50us/sample - loss: 0.1380 - val_loss: 0.1385\n",
            "Epoch 57/100\n",
            "50029/50029 [==============================] - 2s 50us/sample - loss: 0.1605 - val_loss: 0.1349\n",
            "Epoch 58/100\n",
            "50029/50029 [==============================] - 2s 49us/sample - loss: 0.1302 - val_loss: 0.1343\n",
            "Epoch 59/100\n",
            "50029/50029 [==============================] - 3s 50us/sample - loss: 0.1364 - val_loss: 0.1305\n",
            "Epoch 60/100\n",
            "50029/50029 [==============================] - 3s 50us/sample - loss: 0.1295 - val_loss: 0.1260\n",
            "Epoch 61/100\n",
            "50029/50029 [==============================] - 2s 50us/sample - loss: 0.1568 - val_loss: 0.1261\n",
            "Epoch 62/100\n",
            "50029/50029 [==============================] - 2s 50us/sample - loss: 0.1222 - val_loss: 0.1292\n",
            "Epoch 63/100\n",
            "50029/50029 [==============================] - 2s 50us/sample - loss: 0.2101 - val_loss: 0.1439\n",
            "Epoch 64/100\n",
            "50029/50029 [==============================] - 3s 50us/sample - loss: 0.1284 - val_loss: 0.1258\n",
            "Epoch 65/100\n",
            "50029/50029 [==============================] - 2s 50us/sample - loss: 0.1487 - val_loss: 0.1331\n",
            "Epoch 66/100\n",
            "50029/50029 [==============================] - 3s 50us/sample - loss: 0.1180 - val_loss: 0.1165\n",
            "Epoch 67/100\n",
            "50029/50029 [==============================] - 2s 49us/sample - loss: 0.1161 - val_loss: 0.1163\n",
            "Epoch 68/100\n",
            "50029/50029 [==============================] - 3s 50us/sample - loss: 0.1183 - val_loss: 0.1317\n",
            "Epoch 69/100\n",
            "50029/50029 [==============================] - 2s 50us/sample - loss: 0.1154 - val_loss: 0.1152\n",
            "Epoch 70/100\n",
            "50029/50029 [==============================] - 2s 50us/sample - loss: 0.1082 - val_loss: 0.1241\n",
            "Epoch 71/100\n",
            "50029/50029 [==============================] - 2s 49us/sample - loss: 0.1208 - val_loss: 0.1192\n",
            "Epoch 72/100\n",
            "50029/50029 [==============================] - 2s 50us/sample - loss: 0.1077 - val_loss: 0.1034\n",
            "Epoch 73/100\n",
            "50029/50029 [==============================] - 3s 50us/sample - loss: 0.0999 - val_loss: 0.0992\n",
            "Epoch 74/100\n",
            "50029/50029 [==============================] - 2s 50us/sample - loss: 0.0974 - val_loss: 0.1039\n",
            "Epoch 75/100\n",
            "50029/50029 [==============================] - 2s 49us/sample - loss: 0.1421 - val_loss: 0.1217\n",
            "Epoch 76/100\n",
            "50029/50029 [==============================] - 3s 50us/sample - loss: 0.0954 - val_loss: 0.0991\n",
            "Epoch 77/100\n",
            "50029/50029 [==============================] - 3s 50us/sample - loss: 0.0936 - val_loss: 0.1134\n",
            "Epoch 78/100\n",
            "50029/50029 [==============================] - 3s 50us/sample - loss: 0.1149 - val_loss: 0.0909\n",
            "Epoch 79/100\n",
            "50029/50029 [==============================] - 2s 50us/sample - loss: 0.0874 - val_loss: 0.1251\n",
            "Epoch 80/100\n",
            "50029/50029 [==============================] - 2s 50us/sample - loss: 0.0989 - val_loss: 0.1257\n",
            "Epoch 81/100\n",
            "50029/50029 [==============================] - 2s 50us/sample - loss: 0.0884 - val_loss: 0.0925\n",
            "Epoch 82/100\n",
            "50029/50029 [==============================] - 3s 50us/sample - loss: 0.0832 - val_loss: 0.1799\n",
            "Epoch 83/100\n",
            "50029/50029 [==============================] - 2s 50us/sample - loss: 0.0942 - val_loss: 0.1081\n",
            "Epoch 84/100\n",
            "50029/50029 [==============================] - 3s 50us/sample - loss: 0.0811 - val_loss: 0.0849\n",
            "Epoch 85/100\n",
            "50029/50029 [==============================] - 2s 50us/sample - loss: 0.0859 - val_loss: 0.1024\n",
            "Epoch 86/100\n",
            "50029/50029 [==============================] - 3s 51us/sample - loss: 0.0774 - val_loss: 0.0870\n",
            "Epoch 87/100\n",
            "50029/50029 [==============================] - 3s 53us/sample - loss: 0.0790 - val_loss: 0.0811\n",
            "Epoch 88/100\n",
            "50029/50029 [==============================] - 3s 53us/sample - loss: 0.1005 - val_loss: 0.0782\n",
            "Epoch 89/100\n",
            "50029/50029 [==============================] - 2s 50us/sample - loss: 0.0722 - val_loss: 0.0770\n",
            "Epoch 90/100\n",
            "50029/50029 [==============================] - 2s 50us/sample - loss: 0.1188 - val_loss: 0.1188\n",
            "Epoch 91/100\n",
            "50029/50029 [==============================] - 2s 49us/sample - loss: 0.0769 - val_loss: 0.0687\n",
            "Epoch 92/100\n",
            "50029/50029 [==============================] - 3s 50us/sample - loss: 0.0706 - val_loss: 0.0747\n",
            "Epoch 93/100\n",
            "50029/50029 [==============================] - 3s 50us/sample - loss: 0.0680 - val_loss: 0.0692\n",
            "Epoch 94/100\n",
            "50029/50029 [==============================] - 3s 50us/sample - loss: 0.0759 - val_loss: 0.5950\n",
            "Epoch 95/100\n",
            "50029/50029 [==============================] - 3s 50us/sample - loss: 0.1018 - val_loss: 0.0790\n",
            "Epoch 96/100\n",
            "50029/50029 [==============================] - 2s 50us/sample - loss: 0.0651 - val_loss: 0.0631\n",
            "Epoch 97/100\n",
            "50029/50029 [==============================] - 3s 50us/sample - loss: 0.0636 - val_loss: 0.0733\n",
            "Epoch 98/100\n",
            "50029/50029 [==============================] - 3s 50us/sample - loss: 0.0648 - val_loss: 0.0664\n",
            "Epoch 99/100\n",
            "50029/50029 [==============================] - 2s 50us/sample - loss: 0.0633 - val_loss: 0.0611\n",
            "Epoch 100/100\n",
            "50029/50029 [==============================] - 2s 50us/sample - loss: 0.0642 - val_loss: 0.0847\n"
          ],
          "name": "stdout"
        },
        {
          "output_type": "execute_result",
          "data": {
            "text/plain": [
              "<tensorflow.python.keras.callbacks.History at 0x7fbc974f19e8>"
            ]
          },
          "metadata": {
            "tags": []
          },
          "execution_count": 15
        }
      ]
    },
    {
      "cell_type": "code",
      "metadata": {
        "id": "D0UYrs57zhie",
        "colab_type": "code",
        "outputId": "8fa5ff44-1a64-4876-ef21-2f6bc99ab370",
        "colab": {
          "base_uri": "https://localhost:8080/",
          "height": 282
        }
      },
      "source": [
        "plt.plot(h.history[\"loss\"], label=\"Loss\")\n",
        "plt.plot(h.history[\"val_loss\"], label=\"Val_Loss\")\n",
        "plt.yscale(\"log\")\n",
        "plt.legend()"
      ],
      "execution_count": 0,
      "outputs": [
        {
          "output_type": "execute_result",
          "data": {
            "text/plain": [
              "<matplotlib.legend.Legend at 0x7fbc73b53860>"
            ]
          },
          "metadata": {
            "tags": []
          },
          "execution_count": 16
        },
        {
          "output_type": "display_data",
          "data": {
            "image/png": "[encoded data removed]",
            "text/plain": [
              "<Figure size 432x288 with 1 Axes>"
            ]
          },
          "metadata": {
            "tags": []
          }
        }
      ]
    },
    {
      "cell_type": "code",
      "metadata": {
        "id": "En6ngQ__3sFn",
        "colab_type": "code",
        "outputId": "d26ca140-1cde-4886-ae7d-a739feea4524",
        "colab": {
          "base_uri": "https://localhost:8080/",
          "height": 133
        }
      },
      "source": [
        "import tensorflow as tf\n",
        "for i in range(100):\n",
        "    v = model.predict([X_test[i:i+1], X_test[i:i+1]]) #Can't be done as output not necessarely 1\n",
        "    idxs = np.argmax(v, axis=2)\n",
        "    pred=  \"\".join([int_to_char[h] for h in idxs[0]])[:-1]\n",
        "    idxs2 = np.argmax(X_test[i:i+1], axis=2)\n",
        "    true =  \"\".join([int_to_char[k] for k in idxs2[0]])[1:]\n",
        "    if true != pred:\n",
        "       print(true, pred)"
      ],
      "execution_count": 0,
      "outputs": [
        {
          "output_type": "error",
          "ename": "SyntaxError",
          "evalue": "ignored",
          "traceback": [
            "\u001b[0;36m  File \u001b[0;32m\"<ipython-input-21-37b8d860b0b4>\"\u001b[0;36m, line \u001b[0;32m3\u001b[0m\n\u001b[0;31m    v = model.predict([X_test[i:i+1,dtype=tf.int32], X_test[i:i+1,dtype=tf.int32]]) #Can't be done as output not necessarely 1\u001b[0m\n\u001b[0m                                         ^\u001b[0m\n\u001b[0;31mSyntaxError\u001b[0m\u001b[0;31m:\u001b[0m invalid syntax\n"
          ]
        }
      ]
    },
    {
      "cell_type": "code",
      "metadata": {
        "id": "Tj69GLdGXQD7",
        "colab_type": "code",
        "colab": {}
      },
      "source": [
        "smiles_to_latent_model = Model(encoder_inputs, neck_outputs)\n",
        "smiles_to_latent_model.save(\"Blog_simple_smi2lat.h5\")"
      ],
      "execution_count": 0,
      "outputs": []
    },
    {
      "cell_type": "code",
      "metadata": {
        "id": "xyeRYx1QXVm8",
        "colab_type": "code",
        "colab": {}
      },
      "source": [
        "latent_input = Input(shape=(latent_dim,))\n",
        "#reuse_layers\n",
        "state_h_decoded_2 =  decode_h(latent_input)\n",
        "state_c_decoded_2 =  decode_c(latent_input)\n",
        "latent_to_states_model = Model(latent_input, [state_h_decoded_2, state_c_decoded_2])\n",
        "latent_to_states_model.save(\"Blog_simple_lat2state.h5\")"
      ],
      "execution_count": 0,
      "outputs": []
    },
    {
      "cell_type": "code",
      "metadata": {
        "id": "ntNIvwqtXY5k",
        "colab_type": "code",
        "colab": {}
      },
      "source": [
        "#Last one is special, we need to change it to stateful, and change the input shape\n",
        "inf_decoder_inputs = Input(batch_shape=(1, 1, input_shape[1]))\n",
        "inf_decoder_lstm = LSTM(lstm_dim,\n",
        "                    return_sequences=True,\n",
        "                    unroll=unroll,\n",
        "                    stateful=True\n",
        "                   )\n",
        "inf_decoder_outputs = inf_decoder_lstm(inf_decoder_inputs)\n",
        "inf_decoder_dense = Dense(output_dim, activation='softmax')\n",
        "inf_decoder_outputs = inf_decoder_dense(inf_decoder_outputs)\n",
        "sample_model = Model(inf_decoder_inputs, inf_decoder_outputs)"
      ],
      "execution_count": 0,
      "outputs": []
    },
    {
      "cell_type": "code",
      "metadata": {
        "id": "pFMylozdXb6J",
        "colab_type": "code",
        "colab": {}
      },
      "source": [
        "#Transfer Weights\n",
        "for i in range(1,3):\n",
        "    sample_model.layers[i].set_weights(model.layers[i+6].get_weights())\n",
        "sample_model.save(\"Blog_simple_samplemodel.h5\")\n"
      ],
      "execution_count": 0,
      "outputs": []
    },
    {
      "cell_type": "code",
      "metadata": {
        "id": "-rBpYTblXfiW",
        "colab_type": "code",
        "outputId": "6cf1ea38-5d48-4777-c2ea-0731af1ee92d",
        "colab": {
          "base_uri": "https://localhost:8080/",
          "height": 262
        }
      },
      "source": [
        "sample_model.summary()"
      ],
      "execution_count": 0,
      "outputs": [
        {
          "output_type": "stream",
          "text": [
            "Model: \"model_3\"\n",
            "_________________________________________________________________\n",
            "Layer (type)                 Output Shape              Param #   \n",
            "=================================================================\n",
            "input_5 (InputLayer)         [(1, 1, 17)]              0         \n",
            "_________________________________________________________________\n",
            "lstm_3 (LSTM)                (1, 1, 64)                20992     \n",
            "_________________________________________________________________\n",
            "dense_5 (Dense)              (1, 1, 17)                1105      \n",
            "=================================================================\n",
            "Total params: 22,097\n",
            "Trainable params: 22,097\n",
            "Non-trainable params: 0\n",
            "_________________________________________________________________\n"
          ],
          "name": "stdout"
        }
      ]
    },
    {
      "cell_type": "code",
      "metadata": {
        "id": "7X_ZMZU4XiM_",
        "colab_type": "code",
        "colab": {}
      },
      "source": [
        "x_latent = smiles_to_latent_model.predict(X_test)"
      ],
      "execution_count": 0,
      "outputs": []
    },
    {
      "cell_type": "code",
      "metadata": {
        "id": "LXUXMGrXXk13",
        "colab_type": "code",
        "outputId": "fe65839e-fe90-4915-9ef1-6435c98a954e",
        "colab": {
          "base_uri": "https://localhost:8080/",
          "height": 412
        }
      },
      "source": [
        "molno = 5\n",
        "latent_mol = smiles_to_latent_model.predict(X_test[molno:molno+1])\n",
        "sorti = np.argsort(np.sum(np.abs(x_latent - latent_mol), axis=1))\n",
        "print(sorti[0:10])\n",
        "print(smiles_test.iloc[sorti[0:8]])\n",
        "Draw.MolsToImage(smiles_test.iloc[sorti[0:8]].apply(Chem.MolFromSmiles))\n"
      ],
      "execution_count": 0,
      "outputs": [
        {
          "output_type": "stream",
          "text": [
            "[     5  83759   8115 190493 190444  20852 193664 118169 185088 201303]\n",
            "296580    C1CCCC2CC3CC4(CCC(CC4)C3CCC1)C2\n",
            "325552    C1CCCC2CCC3(C4CCC3CC4)C(CCC1)C2\n",
            "319916    C1CCCC2CC3CC4(CCCC(C4)C3CCC1)C2\n",
            "287245    C1CCCC2CC3(CCCC4(CC4)C3)CCC2CC1\n",
            "283227    C1CCCC2CCC3CC4(CC4)C(CCC1)CC3C2\n",
            "305052    C1CCCC2CCC3C4(CCC4)CCC3(CCC1)C2\n",
            "257374    C1CCCC2CC3(CCC4CC(C4)C3)CC2CCC1\n",
            "286365    C1CCCC2CC3(CCCC4(CC4)CC3CCC1)C2\n",
            "Name: smiles, dtype: object\n"
          ],
          "name": "stdout"
        },
        {
          "output_type": "execute_result",
          "data": {
            "image/png": "[encoded data removed]",
            "text/plain": [
              "<PIL.Image.Image image mode=RGBA size=1600x200 at 0x7F2FB002AA20>"
            ]
          },
          "metadata": {
            "tags": []
          },
          "execution_count": 26
        }
      ]
    },
    {
      "cell_type": "code",
      "metadata": {
        "id": "VfJ3llgJXosr",
        "colab_type": "code",
        "outputId": "4ebf6f1b-5127-4821-e688-1fa0b58f1e4e",
        "colab": {
          "base_uri": "https://localhost:8080/",
          "height": 237
        }
      },
      "source": [
        "Draw.MolsToImage(smiles_test.iloc[sorti[-8:]].apply(Chem.MolFromSmiles))"
      ],
      "execution_count": 0,
      "outputs": [
        {
          "output_type": "execute_result",
          "data": {
            "image/png": "[encoded data removed]",
            "text/plain": [
              "<PIL.Image.Image image mode=RGBA size=1600x200 at 0x7F2FB002A048>"
            ]
          },
          "metadata": {
            "tags": []
          },
          "execution_count": 27
        }
      ]
    },
    {
      "cell_type": "code",
      "metadata": {
        "id": "nhyNNRzzXrvv",
        "colab_type": "code",
        "colab": {}
      },
      "source": [
        "logp = smiles_test.apply(Chem.MolFromSmiles).apply(Descriptors.MolLogP)"
      ],
      "execution_count": 0,
      "outputs": []
    },
    {
      "cell_type": "code",
      "metadata": {
        "id": "RIi5xGqsXt0m",
        "colab_type": "code",
        "outputId": "76063c2d-8622-4fa0-d120-c7dd67838086",
        "colab": {
          "base_uri": "https://localhost:8080/",
          "height": 282
        }
      },
      "source": [
        "from sklearn.decomposition import PCA\n",
        "pca = PCA(n_components = 2)\n",
        "red = pca.fit_transform(x_latent)\n",
        "plt.figure()\n",
        "plt.scatter(red[:,0], red[:,1],marker='.', c= logp)\n",
        "print(pca.explained_variance_ratio_, np.sum(pca.explained_variance_ratio_))"
      ],
      "execution_count": 0,
      "outputs": [
        {
          "output_type": "stream",
          "text": [
            "[0.53600813 0.19645709] 0.7324652187289207\n"
          ],
          "name": "stdout"
        },
        {
          "output_type": "display_data",
          "data": {
            "image/png": "[encoded data removed]",
            "text/plain": [
              "<Figure size 432x288 with 1 Axes>"
            ]
          },
          "metadata": {
            "tags": []
          }
        }
      ]
    },
    {
      "cell_type": "code",
      "metadata": {
        "id": "ZOxDcFxvXwmv",
        "colab_type": "code",
        "outputId": "6fce8748-b5bd-46c7-a1c2-4f49cd27eb61",
        "colab": {
          "base_uri": "https://localhost:8080/",
          "height": 282
        }
      },
      "source": [
        "molwt = smiles_test.apply(Chem.MolFromSmiles).apply(Descriptors.MolMR)\n",
        "plt.figure()\n",
        "plt.scatter(red[:,0], red[:,1],marker='.', c= molwt)"
      ],
      "execution_count": 0,
      "outputs": [
        {
          "output_type": "execute_result",
          "data": {
            "text/plain": [
              "<matplotlib.collections.PathCollection at 0x7f2f4a05bd30>"
            ]
          },
          "metadata": {
            "tags": []
          },
          "execution_count": 30
        },
        {
          "output_type": "display_data",
          "data": {
            "image/png": "[encoded data removed]",
            "text/plain": [
              "<Figure size 432x288 with 1 Axes>"
            ]
          },
          "metadata": {
            "tags": []
          }
        }
      ]
    },
    {
      "cell_type": "code",
      "metadata": {
        "id": "1rXaj7zbX0eQ",
        "colab_type": "code",
        "colab": {}
      },
      "source": [
        "#Model LogP?\n",
        "x_train_latent = smiles_to_latent_model.predict(X_train)\n",
        "logp_train = smiles_train.apply(Chem.MolFromSmiles).apply(Descriptors.MolLogP)"
      ],
      "execution_count": 0,
      "outputs": []
    },
    {
      "cell_type": "code",
      "metadata": {
        "id": "C3XgevOIX3ME",
        "colab_type": "code",
        "colab": {}
      },
      "source": [
        "from tensorflow.keras.models import Sequential\n",
        "logp_model = Sequential()\n",
        "logp_model.add(Dense(128, input_shape=(latent_dim,), activation=\"relu\"))\n",
        "logp_model.add(Dense(128, activation=\"relu\"))\n",
        "logp_model.add(Dense(1))\n",
        "logp_model.compile(optimizer=\"adam\", loss=\"mse\")"
      ],
      "execution_count": 0,
      "outputs": []
    },
    {
      "cell_type": "code",
      "metadata": {
        "id": "vcROs4lAX77d",
        "colab_type": "code",
        "outputId": "da5fa2e2-3b7a-49e9-8894-0f854dfdd680",
        "colab": {
          "base_uri": "https://localhost:8080/",
          "height": 334
        }
      },
      "source": [
        "rlr = ReduceLROnPlateau(monitor='val_loss', factor=0.5,patience=10, min_lr=0.000001, verbose=1, min_delta=1e-5)\n",
        "logp_model.fit(x_train_latent, logp_train, batch_size=128, epochs=5, callbacks = [rlr])"
      ],
      "execution_count": 0,
      "outputs": [
        {
          "output_type": "stream",
          "text": [
            "Train on 687097 samples\n",
            "Epoch 1/5\n",
            "686080/687097 [============================>.] - ETA: 0s - loss: 0.0645WARNING:tensorflow:Reduce LR on plateau conditioned on metric `val_loss` which is not available. Available metrics are: loss,lr\n",
            "687097/687097 [==============================] - 13s 18us/sample - loss: 0.0645\n",
            "Epoch 2/5\n",
            "685184/687097 [============================>.] - ETA: 0s - loss: 0.0578WARNING:tensorflow:Reduce LR on plateau conditioned on metric `val_loss` which is not available. Available metrics are: loss,lr\n",
            "687097/687097 [==============================] - 13s 18us/sample - loss: 0.0577\n",
            "Epoch 3/5\n",
            "685952/687097 [============================>.] - ETA: 0s - loss: 0.0530WARNING:tensorflow:Reduce LR on plateau conditioned on metric `val_loss` which is not available. Available metrics are: loss,lr\n",
            "687097/687097 [==============================] - 12s 18us/sample - loss: 0.0530\n",
            "Epoch 4/5\n",
            "685056/687097 [============================>.] - ETA: 0s - loss: 0.0500WARNING:tensorflow:Reduce LR on plateau conditioned on metric `val_loss` which is not available. Available metrics are: loss,lr\n",
            "687097/687097 [==============================] - 13s 18us/sample - loss: 0.0500\n",
            "Epoch 5/5\n",
            "685824/687097 [============================>.] - ETA: 0s - loss: 0.0478WARNING:tensorflow:Reduce LR on plateau conditioned on metric `val_loss` which is not available. Available metrics are: loss,lr\n",
            "687097/687097 [==============================] - 13s 19us/sample - loss: 0.0478\n"
          ],
          "name": "stdout"
        },
        {
          "output_type": "execute_result",
          "data": {
            "text/plain": [
              "<tensorflow.python.keras.callbacks.History at 0x7f2eefdbaa58>"
            ]
          },
          "metadata": {
            "tags": []
          },
          "execution_count": 34
        }
      ]
    },
    {
      "cell_type": "code",
      "metadata": {
        "id": "f7H9JtfbX_qx",
        "colab_type": "code",
        "outputId": "f3464296-2d9a-49cb-df04-8a5bcde50900",
        "colab": {
          "base_uri": "https://localhost:8080/",
          "height": 282
        }
      },
      "source": [
        "logp_pred_train = logp_model.predict(x_train_latent)\n",
        "logp_pred_test = logp_model.predict(x_latent)\n",
        "plt.scatter(logp, logp_pred_test, label=\"Test\")\n",
        "plt.scatter(logp_train, logp_pred_train, label=\"Train\")\n",
        "plt.legend()"
      ],
      "execution_count": 0,
      "outputs": [
        {
          "output_type": "execute_result",
          "data": {
            "text/plain": [
              "<matplotlib.legend.Legend at 0x7f2eefdc1550>"
            ]
          },
          "metadata": {
            "tags": []
          },
          "execution_count": 35
        },
        {
          "output_type": "display_data",
          "data": {
            "image/png": "[encoded data removed]",
            "text/plain": [
              "<Figure size 432x288 with 1 Axes>"
            ]
          },
          "metadata": {
            "tags": []
          }
        }
      ]
    },
    {
      "cell_type": "code",
      "metadata": {
        "id": "l77Yz3iMYDtA",
        "colab_type": "code",
        "colab": {}
      },
      "source": [
        "def latent_to_smiles(latent):\n",
        "    #decode states and set Reset the LSTM cells with them\n",
        "    states = latent_to_states_model.predict(latent)\n",
        "    sample_model.layers[1].reset_states(states=[states[0],states[1]])\n",
        "    #Prepare the input char\n",
        "    startidx = char_to_int[\"!\"]\n",
        "    samplevec = np.zeros((1,1,17))\n",
        "    samplevec[0,0,startidx] = 1\n",
        "    smiles = \"\"\n",
        "    #Loop and predict next char\n",
        "    for i in range(28):\n",
        "        o = sample_model.predict(samplevec)\n",
        "        sampleidx = np.argmax(o)\n",
        "        samplechar = int_to_char[sampleidx]\n",
        "        if samplechar != \"E\":\n",
        "            smiles = smiles + int_to_char[sampleidx]\n",
        "            samplevec = np.zeros((1,1,17))\n",
        "            samplevec[0,0,sampleidx] = 1\n",
        "        else:\n",
        "            break\n",
        "    return smiles"
      ],
      "execution_count": 0,
      "outputs": []
    },
    {
      "cell_type": "code",
      "metadata": {
        "id": "fd72ubkpYGgd",
        "colab_type": "code",
        "outputId": "413b2a89-8e55-4d32-f33f-3489fbf868fc",
        "colab": {
          "base_uri": "https://localhost:8080/",
          "height": 52
        }
      },
      "source": [
        "smiles = latent_to_smiles(x_latent[0:1])\n",
        "print(smiles)\n",
        "print(smiles_test.iloc[0])"
      ],
      "execution_count": 0,
      "outputs": [
        {
          "output_type": "stream",
          "text": [
            "C1CCCC2(CCCC3(CC1)CCCC3)CC1C\n",
            "C1CCCc2c([nH]c3c2CCCCC32CCCCC2)CC1\n"
          ],
          "name": "stdout"
        }
      ]
    },
    {
      "cell_type": "code",
      "metadata": {
        "id": "7V8THRT9YKQe",
        "colab_type": "code",
        "outputId": "23e66d05-38a2-44fc-efdd-9e65fb1a06f6",
        "colab": {
          "base_uri": "https://localhost:8080/",
          "height": 1000
        }
      },
      "source": [
        "wrong = 0\n",
        "for i in range(1000):\n",
        "    smiles = latent_to_smiles(x_latent[i:i+1])\n",
        "    mol = Chem.MolFromSmiles(smiles)\n",
        "    if mol:\n",
        "        pass\n",
        "    else:\n",
        "        print(smiles)\n",
        "        wrong = wrong + 1\n",
        "print (\"%0.1F percent wrongly formatted smiles\"%(wrong/float(1000)*100))"
      ],
      "execution_count": 0,
      "outputs": [
        {
          "output_type": "stream",
          "text": [
            "RDKit ERROR: [13:53:51] SMILES Parse Error: unclosed ring for input: 'C1CCCC2(CCCC3(CC1)CCCC3)CC1C'\n",
            "RDKit ERROR: [13:53:51] SMILES Parse Error: unclosed ring for input: 'C1CCCCCC23CC(CCCC1)C2CCC31CC'\n",
            "RDKit ERROR: [13:53:51] SMILES Parse Error: extra open parentheses for input: 'c1ccc2c(c1)CCCCCCCCCC1CC3(CC'\n"
          ],
          "name": "stderr"
        },
        {
          "output_type": "stream",
          "text": [
            "C1CCCC2(CCCC3(CC1)CCCC3)CC1C\n",
            "C1CCCCCC23CC(CCCC1)C2CCC31CC\n",
            "c1ccc2c(c1)CCCCCCCCCC1CC3(CC\n"
          ],
          "name": "stdout"
        },
        {
          "output_type": "stream",
          "text": [
            "RDKit ERROR: [13:53:51] SMILES Parse Error: extra open parentheses for input: 'C1CCCC2(CCCCC2)CCCCCCC3(CCCC'\n",
            "RDKit ERROR: [13:53:51] SMILES Parse Error: unclosed ring for input: 'C1CCC23CCCC(CC2CC1)C(CC3)C1'\n",
            "RDKit ERROR: [13:53:51] SMILES Parse Error: unclosed ring for input: 'C1CCCC2CC3CC(C4CCC(C4)C3)C2C'\n",
            "RDKit ERROR: [13:53:51] SMILES Parse Error: unclosed ring for input: 'C1CCCCC2CCCC3CCC2C2(CCCC1)CC'\n"
          ],
          "name": "stderr"
        },
        {
          "output_type": "stream",
          "text": [
            "C1CCCC2(CCCCC2)CCCCCCC3(CCCC\n",
            "C1CCC23CCCC(CC2CC1)C(CC3)C1\n",
            "C1CCCC2CC3CC(C4CCC(C4)C3)C2C\n",
            "C1CCCCC2CCCC3CCC2C2(CCCC1)CC"
          ],
          "name": "stdout"
        },
        {
          "output_type": "stream",
          "text": [
            "RDKit ERROR: [13:53:52] SMILES Parse Error: unclosed ring for input: 'C1CCC23CC(C1)CCCCC2C1CCC3'\n",
            "RDKit ERROR: [13:53:52] SMILES Parse Error: unclosed ring for input: 'C1CCCC2CCC3(CCCCC3)CC(CCC1)C'\n",
            "RDKit ERROR: [13:53:52] SMILES Parse Error: unclosed ring for input: 'C1CC2CC1CC1CCCCC23CC1'\n",
            "RDKit ERROR: [13:53:52] SMILES Parse Error: extra open parentheses for input: 'C1CCCCC2CCC(CCCC1)C13CCCC(C2'\n"
          ],
          "name": "stderr"
        },
        {
          "output_type": "stream",
          "text": [
            "\n",
            "C1CCC23CC(C1)CCCCC2C1CCC3\n",
            "C1CCCC2CCC3(CCCCC3)CC(CCC1)C\n",
            "C1CC2CC1CC1CCCCC23CC1\n",
            "C1CCCCC2CCC(CCCC1)C13CCCC(C2\n"
          ],
          "name": "stdout"
        },
        {
          "output_type": "stream",
          "text": [
            "RDKit ERROR: [13:53:52] SMILES Parse Error: unclosed ring for input: 'C1CCC2CC3CCC(C3)C2CCCCC2CC1'\n",
            "RDKit ERROR: [13:53:52] SMILES Parse Error: extra open parentheses for input: 'c1ccc2c(c1)CCCCCCCC13CCCC(CC'\n",
            "RDKit ERROR: [13:53:52] SMILES Parse Error: unclosed ring for input: 'C1CCCC2CC(CC1)CC1CCCCC2C2CC1'\n",
            "RDKit ERROR: [13:53:52] SMILES Parse Error: unclosed ring for input: 'C1CCCC2(CCCC2)CC2CCC3CC(CC1)'\n"
          ],
          "name": "stderr"
        },
        {
          "output_type": "stream",
          "text": [
            "C1CCC2CC3CCC(C3)C2CCCCC2CC1\n",
            "c1ccc2c(c1)CCCCCCCC13CCCC(CC\n",
            "C1CCCC2CC(CC1)CC1CCCCC2C2CC1\n",
            "C1CCCC2(CCCC2)CC2CCC3CC(CC1)\n"
          ],
          "name": "stdout"
        },
        {
          "output_type": "stream",
          "text": [
            "RDKit ERROR: [13:53:52] SMILES Parse Error: unclosed ring for input: 'C1CCC2(CCCC2)CC2(CCCC2)CCC2C'\n",
            "RDKit ERROR: [13:53:52] SMILES Parse Error: extra open parentheses for input: 'C1CC2CCC(CCCC3(CCC3)C3(C1)CC'\n",
            "RDKit ERROR: [13:53:52] SMILES Parse Error: unclosed ring for input: 'C1CCCC2CCC2CC2(CCCCC2)C2CCCC'\n",
            "RDKit ERROR: [13:53:52] SMILES Parse Error: unclosed ring for input: 'c1cc2c([nH]1)CCC1CCCCCCC3CCC'\n"
          ],
          "name": "stderr"
        },
        {
          "output_type": "stream",
          "text": [
            "C1CCC2(CCCC2)CC2(CCCC2)CCC2C\n",
            "C1CC2CCC(CCCC3(CCC3)C3(C1)CC\n",
            "C1CCCC2CCC2CC2(CCCCC2)C2CCCC\n",
            "c1cc2c([nH]1)CCC1CCCCCCC3CCC\n"
          ],
          "name": "stdout"
        },
        {
          "output_type": "stream",
          "text": [
            "RDKit ERROR: [13:53:52] SMILES Parse Error: extra open parentheses for input: 'C1CCCCC2(CCCC1)CCC1CC3CCC(CC'\n",
            "RDKit ERROR: [13:53:52] SMILES Parse Error: extra open parentheses for input: 'C1CCCCC2CCCC3CC(CC4CC4)C(CCC'\n",
            "RDKit ERROR: [13:53:52] SMILES Parse Error: unclosed ring for input: 'C1CCCCCC2CCC3CCC4CCCC(CCCC1)'\n",
            "RDKit ERROR: [13:53:53] SMILES Parse Error: unclosed ring for input: 'c1ccc2c(c1)CCCC1CCCCC23CC1'\n"
          ],
          "name": "stderr"
        },
        {
          "output_type": "stream",
          "text": [
            "C1CCCCC2(CCCC1)CCC1CC3CCC(CC\n",
            "C1CCCCC2CCCC3CC(CC4CC4)C(CCC\n",
            "C1CCCCCC2CCC3CCC4CCCC(CCCC1)\n",
            "c1ccc2c(c1)CCCC1CCCCC23CC1\n"
          ],
          "name": "stdout"
        },
        {
          "output_type": "stream",
          "text": [
            "RDKit ERROR: [13:53:53] SMILES Parse Error: extra open parentheses for input: 'C1CCCCCC2C3CCCC(CC3)C3(CCCCC'\n",
            "RDKit ERROR: [13:53:53] SMILES Parse Error: unclosed ring for input: 'c1cc2c([nH]1)CCCCC1CCCC1CC21'\n",
            "RDKit ERROR: [13:53:53] SMILES Parse Error: extra open parentheses for input: 'C1CCCCC2(CCCC1)CCCC1(CCC3CCC'\n"
          ],
          "name": "stderr"
        },
        {
          "output_type": "stream",
          "text": [
            "C1CCCCCC2C3CCCC(CC3)C3(CCCCC\n",
            "c1cc2c([nH]1)CCCCC1CCCC1CC21\n",
            "C1CCCCC2(CCCC1)CCCC1(CCC3CCC\n"
          ],
          "name": "stdout"
        },
        {
          "output_type": "stream",
          "text": [
            "RDKit ERROR: [13:53:53] SMILES Parse Error: extra open parentheses for input: 'C1CCC2(CC1)CC1CC3CCC(CCCCC2C'\n",
            "RDKit ERROR: [13:53:53] SMILES Parse Error: extra open parentheses for input: 'C1CCC2(CCCCC3CCC4(CC1)CCC3C4'\n",
            "RDKit ERROR: [13:53:53] SMILES Parse Error: unclosed ring for input: 'c1ccc2c(c1)CCC1CCCCCC3CCCC2C'\n",
            "RDKit ERROR: [13:53:53] SMILES Parse Error: extra open parentheses for input: 'c1cc2c([nH]1)CCC1CCC3(CCCCCC'\n"
          ],
          "name": "stderr"
        },
        {
          "output_type": "stream",
          "text": [
            "C1CCC2(CC1)CC1CC3CCC(CCCCC2C\n",
            "C1CCC2(CCCCC3CCC4(CC1)CCC3C4\n",
            "c1ccc2c(c1)CCC1CCCCCC3CCCC2C\n",
            "c1cc2c([nH]1)CCC1CCC3(CCCCCC\n"
          ],
          "name": "stdout"
        },
        {
          "output_type": "stream",
          "text": [
            "RDKit ERROR: [13:53:53] SMILES Parse Error: unclosed ring for input: 'C1CCC2CCC3(CCCC3)CC3(CCCC3)C'\n",
            "RDKit ERROR: [13:53:53] SMILES Parse Error: unclosed ring for input: 'C1CCCC2CC(CCCC2)CC2(CCCCCC2)'\n",
            "RDKit ERROR: [13:53:53] SMILES Parse Error: unclosed ring for input: 'C1CCCCC2(CCCCC2)C2CC(CCC1)CC'\n",
            "RDKit ERROR: [13:53:53] SMILES Parse Error: unclosed ring for input: 'C1CCCC2CCC3C(CCC1)CCCCCC3C1C'\n"
          ],
          "name": "stderr"
        },
        {
          "output_type": "stream",
          "text": [
            "C1CCC2CCC3(CCCC3)CC3(CCCC3)C\n",
            "C1CCCC2CC(CCCC2)CC2(CCCCCC2)\n",
            "C1CCCCC2(CCCCC2)C2CC(CCC1)CC\n",
            "C1CCCC2CCC3C(CCC1)CCCCCC3C1C\n"
          ],
          "name": "stdout"
        },
        {
          "output_type": "stream",
          "text": [
            "RDKit ERROR: [13:53:53] SMILES Parse Error: unclosed ring for input: 'C1CCCCC2(CCC3(CCC1)CC3)CCC1C'\n",
            "RDKit ERROR: [13:53:53] SMILES Parse Error: extra open parentheses for input: 'c1cc2c([nH]1)CCCC1(CCCCCCCC3'\n",
            "RDKit ERROR: [13:53:54] SMILES Parse Error: extra open parentheses for input: 'c1ccc2c(c1)CCC1CC(CCCCC3(CCC'\n",
            "RDKit ERROR: [13:53:54] SMILES Parse Error: unclosed ring for input: 'C1CCC2CCC3(CCCCC3)CC2CCCCCC2'\n"
          ],
          "name": "stderr"
        },
        {
          "output_type": "stream",
          "text": [
            "C1CCCCC2(CCC3(CCC1)CC3)CCC1C\n",
            "c1cc2c([nH]1)CCCC1(CCCCCCCC3\n",
            "c1ccc2c(c1)CCC1CC(CCCCC3(CCC\n",
            "C1CCC2CCC3(CCCCC3)CC2CCCCCC2\n"
          ],
          "name": "stdout"
        },
        {
          "output_type": "stream",
          "text": [
            "RDKit ERROR: [13:53:54] SMILES Parse Error: unclosed ring for input: 'C1CCCC2CC3(CCCC4(CCC1)CCCC4)'\n",
            "RDKit ERROR: [13:53:54] SMILES Parse Error: unclosed ring for input: 'c1cc2c([nH]1)CC1CCCC3CCCCCCC'\n",
            "RDKit ERROR: [13:53:54] SMILES Parse Error: extra open parentheses for input: 'c1cc2c([nH]1)CCC1CCCCC(CCCCC'\n",
            "RDKit ERROR: [13:53:54] SMILES Parse Error: unclosed ring for input: 'C1CCCC2CC3(CCC1)CCCC3C1CCCC2'\n"
          ],
          "name": "stderr"
        },
        {
          "output_type": "stream",
          "text": [
            "C1CCCC2CC3(CCCC4(CCC1)CCCC4)\n",
            "c1cc2c([nH]1)CC1CCCC3CCCCCCC\n",
            "c1cc2c([nH]1)CCC1CCCCC(CCCCC\n",
            "C1CCCC2CC3(CCC1)CCCC3C1CCCC2\n"
          ],
          "name": "stdout"
        },
        {
          "output_type": "stream",
          "text": [
            "RDKit ERROR: [13:53:54] SMILES Parse Error: unclosed ring for input: 'C1CCC2CCCCC3(CC1)CCCCC2C1CC3'\n",
            "RDKit ERROR: [13:53:54] SMILES Parse Error: unclosed ring for input: 'C1CCCC2CCCCCC23CCCC(CC1)C1CC'\n",
            "RDKit ERROR: [13:53:54] SMILES Parse Error: unclosed ring for input: 'C1CCC2CCCC(C2)CC2CCC(CC1)CC1'\n",
            "RDKit ERROR: [13:53:54] SMILES Parse Error: extra open parentheses for input: 'C1CCCCCC23CCCC(C4CCC4)C(CCCC'\n"
          ],
          "name": "stderr"
        },
        {
          "output_type": "stream",
          "text": [
            "C1CCC2CCCCC3(CC1)CCCCC2C1CC3\n",
            "C1CCCC2CCCCCC23CCCC(CC1)C1CC\n",
            "C1CCC2CCCC(C2)CC2CCC(CC1)CC1\n",
            "C1CCCCCC23CCCC(C4CCC4)C(CCCC\n"
          ],
          "name": "stdout"
        },
        {
          "output_type": "stream",
          "text": [
            "RDKit ERROR: [13:53:54] SMILES Parse Error: unclosed ring for input: 'C1CCCC2CCCCC3CCCC(CCC1)CC3CC'\n",
            "RDKit ERROR: [13:53:54] SMILES Parse Error: unclosed ring for input: 'C1CCCC2C3CCCCC2(CCC1)CCCC31C'\n",
            "RDKit ERROR: [13:53:54] SMILES Parse Error: unclosed ring for input: 'C1CCCCC2C3CCCC4CCCC3C(C4)C2C'\n"
          ],
          "name": "stderr"
        },
        {
          "output_type": "stream",
          "text": [
            "C1CCCC2CCCCC3CCCC(CCC1)CC3CC\n",
            "C1CCCC2C3CCCCC2(CCC1)CCCC31C\n",
            "C1CCCCC2C3CCCC4CCCC3C(C4)C2C\n"
          ],
          "name": "stdout"
        },
        {
          "output_type": "stream",
          "text": [
            "RDKit ERROR: [13:53:54] SMILES Parse Error: unclosed ring for input: 'c1cc2c([nH]1)CCC1CC(C1)CC1CC'\n",
            "RDKit ERROR: [13:53:55] SMILES Parse Error: unclosed ring for input: 'C1CCCC2CC(CCC3CCCC3C2)C2CC2C'\n",
            "RDKit ERROR: [13:53:55] SMILES Parse Error: unclosed ring for input: 'C1CCCCCC23CCC4(CCCC1)CCC4C2C'\n",
            "RDKit ERROR: [13:53:55] SMILES Parse Error: unclosed ring for input: 'C1CCC2(CCCC2)CCC2(CCCC2)CCC2'\n"
          ],
          "name": "stderr"
        },
        {
          "output_type": "stream",
          "text": [
            "c1cc2c([nH]1)CCC1CC(C1)CC1CC\n",
            "C1CCCC2CC(CCC3CCCC3C2)C2CC2C\n",
            "C1CCCCCC23CCC4(CCCC1)CCC4C2C\n",
            "C1CCC2(CCCC2)CCC2(CCCC2)CCC2\n"
          ],
          "name": "stdout"
        },
        {
          "output_type": "stream",
          "text": [
            "RDKit ERROR: [13:53:55] SMILES Parse Error: unclosed ring for input: 'c1ccc2c(c1)CCCCCCCC1(CCC1)CC'\n",
            "RDKit ERROR: [13:53:55] SMILES Parse Error: extra open parentheses for input: 'c1cc2c([nH]1)CC1(CCCCCCCCC3C'\n",
            "RDKit ERROR: [13:53:55] SMILES Parse Error: extra open parentheses for input: 'c1cc2c3c(cccc3c1)C1(CCCCCCCC'\n"
          ],
          "name": "stderr"
        },
        {
          "output_type": "stream",
          "text": [
            "c1ccc2c(c1)CCCCCCCC1(CCC1)CC\n",
            "c1cc2c([nH]1)CC1(CCCCCCCCC3C\n",
            "c1cc2c3c(cccc3c1)C1(CCCCCCCC\n"
          ],
          "name": "stdout"
        },
        {
          "output_type": "stream",
          "text": [
            "RDKit ERROR: [13:53:55] SMILES Parse Error: unclosed ring for input: 'C1CCCC23CCCC4CCCC(CCC2C4)C3C'\n",
            "RDKit ERROR: [13:53:55] SMILES Parse Error: syntax error while parsing: C1CCC2CC(C1)CCCC1CCC(CC1)C1(\n",
            "RDKit ERROR: [13:53:55] SMILES Parse Error: Failed parsing SMILES 'C1CCC2CC(C1)CCCC1CCC(CC1)C1(' for input: 'C1CCC2CC(C1)CCCC1CCC(CC1)C1('\n",
            "RDKit ERROR: [13:53:55] SMILES Parse Error: unclosed ring for input: 'C1CCCCC2CCCC3CCC4(CCCCC1)CCC'\n",
            "RDKit ERROR: [13:53:55] SMILES Parse Error: unclosed ring for input: 'C1CCCC2CCCCCC2CC2CC(CCC1)CCC'\n"
          ],
          "name": "stderr"
        },
        {
          "output_type": "stream",
          "text": [
            "C1CCCC23CCCC4CCCC(CCC2C4)C3C\n",
            "C1CCC2CC(C1)CCCC1CCC(CC1)C1(\n",
            "C1CCCCC2CCCC3CCC4(CCCCC1)CCC\n",
            "C1CCCC2CCCCCC2CC2CC(CCC1)CCC\n"
          ],
          "name": "stdout"
        },
        {
          "output_type": "stream",
          "text": [
            "RDKit ERROR: [13:53:55] SMILES Parse Error: unclosed ring for input: 'C1CCCC2(CCC1)CCCCCC1(CCC1)CC'\n",
            "RDKit ERROR: [13:53:55] SMILES Parse Error: unclosed ring for input: 'C1CCCCC2CC(CCCC1)CC1CC3CCCCC'\n",
            "RDKit ERROR: [13:53:55] SMILES Parse Error: unclosed ring for input: 'C1CCCCC2C3CC(CC4CCCC4CCCC1)C'\n",
            "RDKit ERROR: [13:53:55] SMILES Parse Error: unclosed ring for input: 'C1CCC2CCC3CCC(CC3)C3CCCCC3CC'\n"
          ],
          "name": "stderr"
        },
        {
          "output_type": "stream",
          "text": [
            "C1CCCC2(CCC1)CCCCCC1(CCC1)CC\n",
            "C1CCCCC2CC(CCCC1)CC1CC3CCCCC\n",
            "C1CCCCC2C3CC(CC4CCCC4CCCC1)C\n",
            "C1CCC2CCC3CCC(CC3)C3CCCCC3CC\n"
          ],
          "name": "stdout"
        },
        {
          "output_type": "stream",
          "text": [
            "RDKit ERROR: [13:53:55] SMILES Parse Error: extra open parentheses for input: 'C1CCC2CCCC3CCC3(CCC3CCCC3CC1'\n",
            "RDKit ERROR: [13:53:56] SMILES Parse Error: unclosed ring for input: 'C1CCCC2CCC3CC(C3)C2CC2CCC2CC'\n",
            "RDKit ERROR: [13:53:56] SMILES Parse Error: unclosed ring for input: 'C1CCC2CCCC3CCCC4CCC(CCCC4C1)'\n",
            "RDKit ERROR: [13:53:56] SMILES Parse Error: extra open parentheses for input: 'c1cc2c([nH]1)CCC1CCCC(CCCCCC'\n"
          ],
          "name": "stderr"
        },
        {
          "output_type": "stream",
          "text": [
            "C1CCC2CCCC3CCC3(CCC3CCCC3CC1\n",
            "C1CCCC2CCC3CC(C3)C2CC2CCC2CC\n",
            "C1CCC2CCCC3CCCC4CCC(CCCC4C1)\n",
            "c1cc2c([nH]1)CCC1CCCC(CCCCCC\n"
          ],
          "name": "stdout"
        },
        {
          "output_type": "stream",
          "text": [
            "RDKit ERROR: [13:53:56] SMILES Parse Error: extra close parentheses while parsing: C1CCCC2C3CCCC(C3)C3(CCC1)C3)\n",
            "RDKit ERROR: [13:53:56] \n",
            "RDKit ERROR: \n",
            "RDKit ERROR: ****\n",
            "RDKit ERROR: Pre-condition Violation\n",
            "RDKit ERROR: no atoms\n",
            "RDKit ERROR: Violation occurred on line 173 in file /home/conda/feedstock_root/build_artifacts/rdkit_1575460121790/work/Code/GraphMol/ROMol.cpp\n",
            "RDKit ERROR: Failed Expression: getNumAtoms() > 0\n",
            "RDKit ERROR: ****\n",
            "RDKit ERROR: \n",
            "RDKit ERROR: [13:53:56] SMILES Parse Error: unclosed ring for input: 'C1CCC2C3CCCCC2CCCC(CCCC32)CC'\n",
            "RDKit ERROR: [13:53:56] SMILES Parse Error: extra open parentheses for input: 'C1CCCC2CCCC3CCCCCC3CCC2(CCCC'\n"
          ],
          "name": "stderr"
        },
        {
          "output_type": "stream",
          "text": [
            "C1CCCC2C3CCCC(C3)C3(CCC1)C3)\n",
            "C1CCC2C3CCCCC2CCCC(CCCC32)CC\n",
            "C1CCCC2CCCC3CCCCCC3CCC2(CCCC\n"
          ],
          "name": "stdout"
        },
        {
          "output_type": "stream",
          "text": [
            "RDKit ERROR: [13:53:56] SMILES Parse Error: ring closure 3 duplicates bond between atom 5 and atom 17 for input: 'C1CCCCC23CCCC4CC(CCC1)CC4C23'\n",
            "RDKit ERROR: [13:53:56] SMILES Parse Error: unclosed ring for input: 'C1CCC2CCC(CC2)C2CCC(CC1)CCCC'\n",
            "RDKit ERROR: [13:53:56] SMILES Parse Error: extra open parentheses for input: 'C1CCCC2CC(CCC1)CC1CC3CCC(CC3'\n",
            "RDKit ERROR: [13:53:56] SMILES Parse Error: extra open parentheses for input: 'c1ccc2c(c1)CCCC1(CCCCCCC23CC'\n"
          ],
          "name": "stderr"
        },
        {
          "output_type": "stream",
          "text": [
            "C1CCCCC23CCCC4CC(CCC1)CC4C23\n",
            "C1CCC2CCC(CC2)C2CCC(CC1)CCCC\n",
            "C1CCCC2CC(CCC1)CC1CC3CCC(CC3\n",
            "c1ccc2c(c1)CCCC1(CCCCCCC23CC\n"
          ],
          "name": "stdout"
        },
        {
          "output_type": "stream",
          "text": [
            "RDKit ERROR: [13:53:56] SMILES Parse Error: unclosed ring for input: 'C1CCCC2CC3CCCCC(CCC1)C3CCC21'\n",
            "RDKit ERROR: [13:53:56] SMILES Parse Error: unclosed ring for input: 'C1CCCCC2(CCCCC3(CCC1)CC3)CCC'\n",
            "RDKit ERROR: [13:53:56] SMILES Parse Error: unclosed ring for input: 'C1CCCCCCC2(CCCCCC1)CCC1C3CCC'\n"
          ],
          "name": "stderr"
        },
        {
          "output_type": "stream",
          "text": [
            "C1CCCC2CC3CCCCC(CCC1)C3CCC21\n",
            "C1CCCCC2(CCCCC3(CCC1)CC3)CCC\n",
            "C1CCCCCCC2(CCCCCC1)CCC1C3CCC\n"
          ],
          "name": "stdout"
        },
        {
          "output_type": "stream",
          "text": [
            "RDKit ERROR: [13:53:57] SMILES Parse Error: unclosed ring for input: 'C1CCCCCC2C(CCCC1)CCC1CCCCCC2'\n",
            "RDKit ERROR: [13:53:57] SMILES Parse Error: unclosed ring for input: 'C1CC2C3CCC4CCCC(C4)C2C1'\n",
            "RDKit ERROR: [13:53:57] SMILES Parse Error: unclosed ring for input: 'C1CCCC2CCCC3CCCCC3CC2CC2CCCC'\n",
            "RDKit ERROR: [13:53:57] SMILES Parse Error: unclosed ring for input: 'C1CCC2CCCCC3CC4CCC(CC3C4CC1)'\n"
          ],
          "name": "stderr"
        },
        {
          "output_type": "stream",
          "text": [
            "C1CCCCCC2C(CCCC1)CCC1CCCCCC2\n",
            "C1CC2C3CCC4CCCC(C4)C2C1\n",
            "C1CCCC2CCCC3CCCCC3CC2CC2CCCC\n",
            "C1CCC2CCCCC3CC4CCC(CC3C4CC1)\n"
          ],
          "name": "stdout"
        },
        {
          "output_type": "stream",
          "text": [
            "RDKit ERROR: [13:53:57] SMILES Parse Error: unclosed ring for input: 'C1CCCC2CC(C2)C2C3CCCC(CCC1)C'\n",
            "RDKit ERROR: [13:53:57] SMILES Parse Error: unclosed ring for input: 'C1CCCC2CC3CC(CCC1)C3C1CCCC2C'\n",
            "RDKit ERROR: [13:53:57] SMILES Parse Error: unclosed ring for input: 'C1CCCCC2CCCC3(CCCCC3)CC2CCCC'\n",
            "RDKit ERROR: [13:53:57] SMILES Parse Error: unclosed ring for input: 'C1CCC2CCCC3(CCC4CC3CCC4CC1)C'\n"
          ],
          "name": "stderr"
        },
        {
          "output_type": "stream",
          "text": [
            "C1CCCC2CC(C2)C2C3CCCC(CCC1)C\n",
            "C1CCCC2CC3CC(CCC1)C3C1CCCC2C\n",
            "C1CCCCC2CCCC3(CCCCC3)CC2CCCC\n",
            "C1CCC2CCCC3(CCC4CC3CCC4CC1)C\n"
          ],
          "name": "stdout"
        },
        {
          "output_type": "stream",
          "text": [
            "RDKit ERROR: [13:53:57] SMILES Parse Error: unclosed ring for input: 'C1CCCCCC2CCCCC3(CCCC1)CCCC3C'\n",
            "RDKit ERROR: [13:53:57] SMILES Parse Error: unclosed ring for input: 'C1CCC2(CC1)CCCCC1CCCCC1CCCC1'\n",
            "RDKit ERROR: [13:53:57] SMILES Parse Error: unclosed ring for input: 'c1cc2c([nH]1)C1CCCCCCC3CCCCC'\n"
          ],
          "name": "stderr"
        },
        {
          "output_type": "stream",
          "text": [
            "C1CCCCCC2CCCCC3(CCCC1)CCCC3C\n",
            "C1CCC2(CC1)CCCCC1CCCCC1CCCC1\n",
            "c1cc2c([nH]1)C1CCCCCCC3CCCCC\n"
          ],
          "name": "stdout"
        },
        {
          "output_type": "stream",
          "text": [
            "RDKit ERROR: [13:53:57] SMILES Parse Error: unclosed ring for input: 'C1CCCCCC2CC3CC(CCCC1)C2CCCC1'\n",
            "RDKit ERROR: [13:53:57] SMILES Parse Error: unclosed ring for input: 'C1CCCCCC2(CCC3CCCCC(CCC1)C3)'\n",
            "RDKit ERROR: [13:53:57] SMILES Parse Error: unclosed ring for input: 'C1CCCC2(CCCCCC2)CCCC2(CCC1)C'\n"
          ],
          "name": "stderr"
        },
        {
          "output_type": "stream",
          "text": [
            "C1CCCCCC2CC3CC(CCCC1)C2CCCC1\n",
            "C1CCCCCC2(CCC3CCCCC(CCC1)C3)\n",
            "C1CCCC2(CCCCCC2)CCCC2(CCC1)C\n"
          ],
          "name": "stdout"
        },
        {
          "output_type": "stream",
          "text": [
            "RDKit ERROR: [13:53:58] SMILES Parse Error: unclosed ring for input: 'c1ccc2c(c1)CCCC13CCCCCCCCCCC'\n",
            "RDKit ERROR: [13:53:58] SMILES Parse Error: extra open parentheses for input: 'C1CCC2(CC1)CCC1(CCCC3(CC3)CC'\n",
            "RDKit ERROR: [13:53:58] SMILES Parse Error: unclosed ring for input: 'C1CCCCCC2CC3CC(CCCC1)CCCCCC1'\n",
            "RDKit ERROR: [13:53:58] SMILES Parse Error: unclosed ring for input: 'C1CCC2CCC3CC(CC1)CCCC1CCCC23'\n"
          ],
          "name": "stderr"
        },
        {
          "output_type": "stream",
          "text": [
            "c1ccc2c(c1)CCCC13CCCCCCCCCCC\n",
            "C1CCC2(CC1)CCC1(CCCC3(CC3)CC\n",
            "C1CCCCCC2CC3CC(CCCC1)CCCCCC1\n",
            "C1CCC2CCC3CC(CC1)CCCC1CCCC23\n"
          ],
          "name": "stdout"
        },
        {
          "output_type": "stream",
          "text": [
            "RDKit ERROR: [13:53:58] SMILES Parse Error: extra open parentheses for input: 'C1CCCC2(CCC1)CCCC1CCCC3(CCC3'\n",
            "RDKit ERROR: [13:53:58] SMILES Parse Error: unclosed ring for input: 'C1CCCC2CC(CC1)CCCCC1CCC(CC1)'\n",
            "RDKit ERROR: [13:53:58] SMILES Parse Error: unclosed ring for input: 'C1CCCCCCC2C(CCCCC1)CCCC1CCCC'\n",
            "RDKit ERROR: [13:53:58] SMILES Parse Error: unclosed ring for input: 'C1CCCC2(CCC3CCC3CC1)CCC1CCC2'\n"
          ],
          "name": "stderr"
        },
        {
          "output_type": "stream",
          "text": [
            "C1CCCC2(CCC1)CCCC1CCCC3(CCC3\n",
            "C1CCCC2CC(CC1)CCCCC1CCC(CC1)\n",
            "C1CCCCCCC2C(CCCCC1)CCCC1CCCC\n",
            "C1CCCC2(CCC3CCC3CC1)CCC1CCC2\n"
          ],
          "name": "stdout"
        },
        {
          "output_type": "stream",
          "text": [
            "RDKit ERROR: [13:53:58] SMILES Parse Error: unclosed ring for input: 'C1CCCC2CC3(CCCCC3)CC2C2CCC2C'\n",
            "RDKit ERROR: [13:53:58] SMILES Parse Error: extra open parentheses for input: 'C1CCCCCC2C3(CCCCC1)CCCCCC3(C'\n",
            "RDKit ERROR: [13:53:58] SMILES Parse Error: unclosed ring for input: 'C1CCC2CC(C1)CCC13CCCCCCCC1C2'\n",
            "RDKit ERROR: [13:53:58] SMILES Parse Error: unclosed ring for input: 'c1cc2c([nH]1)CC1CCC(CC1)CCC1'\n"
          ],
          "name": "stderr"
        },
        {
          "output_type": "stream",
          "text": [
            "C1CCCC2CC3(CCCCC3)CC2C2CCC2C\n",
            "C1CCCCCC2C3(CCCCC1)CCCCCC3(C\n",
            "C1CCC2CC(C1)CCC13CCCCCCCC1C2\n",
            "c1cc2c([nH]1)CC1CCC(CC1)CCC1\n"
          ],
          "name": "stdout"
        },
        {
          "output_type": "stream",
          "text": [
            "RDKit ERROR: [13:53:58] SMILES Parse Error: unclosed ring for input: 'c1ccc2c(c1)CCCCC1(CCCCC1)CCC'\n",
            "RDKit ERROR: [13:53:58] SMILES Parse Error: unclosed ring for input: 'C1CCCC2CCCC3CC4(CCCC4)CC2C3C'\n",
            "RDKit ERROR: [13:53:59] SMILES Parse Error: unclosed ring for input: 'C1CCC2CC3CC(CC2C3)CCC2CCCC2C'\n",
            "RDKit ERROR: [13:53:59] SMILES Parse Error: extra open parentheses for input: 'C1CCC2(CC1)CCCC1(CCCC3CCCCCC'\n"
          ],
          "name": "stderr"
        },
        {
          "output_type": "stream",
          "text": [
            "c1ccc2c(c1)CCCCC1(CCCCC1)CCC\n",
            "C1CCCC2CCCC3CC4(CCCC4)CC2C3C\n",
            "C1CCC2CC3CC(CC2C3)CCC2CCCC2C\n",
            "C1CCC2(CC1)CCCC1(CCCC3CCCCCC\n"
          ],
          "name": "stdout"
        },
        {
          "output_type": "stream",
          "text": [
            "RDKit ERROR: [13:53:59] SMILES Parse Error: unclosed ring for input: 'c1cc2c3c(c1)C1CCCCCCCCCCCC21'\n",
            "RDKit ERROR: [13:53:59] SMILES Parse Error: unclosed ring for input: 'C1CCC23CCC(CC2CC1)C(CCC3)CC1'\n",
            "RDKit ERROR: [13:53:59] SMILES Parse Error: extra open parentheses for input: 'C1CCCCCC2CC(CCCC1)CCC1CCC(C1'\n",
            "RDKit ERROR: [13:53:59] SMILES Parse Error: extra open parentheses for input: 'C1CCC2CC3CCCC(CCCC4CCC(C1)C4'\n"
          ],
          "name": "stderr"
        },
        {
          "output_type": "stream",
          "text": [
            "c1cc2c3c(c1)C1CCCCCCCCCCCC21\n",
            "C1CCC23CCC(CC2CC1)C(CCC3)CC1\n",
            "C1CCCCCC2CC(CCCC1)CCC1CCC(C1\n",
            "C1CCC2CC3CCCC(CCCC4CCC(C1)C4\n"
          ],
          "name": "stdout"
        },
        {
          "output_type": "stream",
          "text": [
            "RDKit ERROR: [13:53:59] SMILES Parse Error: unclosed ring for input: 'C1CCC2(CC1)CCCCCC1CC3CCCCCC2'\n",
            "RDKit ERROR: [13:53:59] SMILES Parse Error: unclosed ring for input: 'c1[nH]c2c3c1CC1CCCCCCCC2C3'\n",
            "RDKit ERROR: [13:53:59] SMILES Parse Error: extra open parentheses for input: 'C1CC2CCC(CCCCC3(CCCC3)CC3CC3'\n",
            "RDKit ERROR: [13:53:59] SMILES Parse Error: unclosed ring for input: 'c1ccc2c(c1)CC1CCCCCCCCC3CCCC'\n"
          ],
          "name": "stderr"
        },
        {
          "output_type": "stream",
          "text": [
            "C1CCC2(CC1)CCCCCC1CC3CCCCCC2\n",
            "c1[nH]c2c3c1CC1CCCCCCCC2C3\n",
            "C1CC2CCC(CCCCC3(CCCC3)CC3CC3\n",
            "c1ccc2c(c1)CC1CCCCCCCCC3CCCC\n"
          ],
          "name": "stdout"
        },
        {
          "output_type": "stream",
          "text": [
            "RDKit ERROR: [13:53:59] SMILES Parse Error: unclosed ring for input: 'C1CCC2CCC3(CCCC4(CCCC4)C3)CC'\n",
            "RDKit ERROR: [13:53:59] SMILES Parse Error: unclosed ring for input: 'C1CCCCC2CCC3(CCC3)C3(CCCC1)C'\n",
            "RDKit ERROR: [13:53:59] SMILES Parse Error: unclosed ring for input: 'C1CCCCC2(CCCCC3(CCC1)CCC3)CC'\n",
            "RDKit ERROR: [13:53:59] SMILES Parse Error: unclosed ring for input: 'C1CCCC23CCCCCC2CCCCC3C2CCCC2'\n"
          ],
          "name": "stderr"
        },
        {
          "output_type": "stream",
          "text": [
            "C1CCC2CCC3(CCCC4(CCCC4)C3)CC\n",
            "C1CCCCC2CCC3(CCC3)C3(CCCC1)C\n",
            "C1CCCCC2(CCCCC3(CCC1)CCC3)CC\n",
            "C1CCCC23CCCCCC2CCCCC3C2CCCC2\n"
          ],
          "name": "stdout"
        },
        {
          "output_type": "stream",
          "text": [
            "RDKit ERROR: [13:53:59] SMILES Parse Error: unclosed ring for input: 'C1CCC2CCCC(CC1)C1CCCCCC23CCC'\n",
            "RDKit ERROR: [13:54:00] SMILES Parse Error: unclosed ring for input: 'C1CCCCCCC2CC3(CCCCC1)CCCCC3C'\n",
            "RDKit ERROR: [13:54:00] SMILES Parse Error: unclosed ring for input: 'c1ccc2c(c1)CCCCCC1CCCCC1CCCC'\n"
          ],
          "name": "stderr"
        },
        {
          "output_type": "stream",
          "text": [
            "C1CCC2CCCC(CC1)C1CCCCCC23CCC\n",
            "C1CCCCCCC2CC3(CCCCC1)CCCCC3C\n",
            "c1ccc2c(c1)CCCCCC1CCCCC1CCCC\n"
          ],
          "name": "stdout"
        },
        {
          "output_type": "stream",
          "text": [
            "RDKit ERROR: [13:54:00] SMILES Parse Error: unclosed ring for input: 'C1CCCCC23CCC(CCC1)C2CCCC31CC'\n",
            "RDKit ERROR: [13:54:00] SMILES Parse Error: extra open parentheses for input: 'C1CCCC2(CCCCC2)CC2(CCC3CCCC3'\n",
            "RDKit ERROR: [13:54:00] SMILES Parse Error: extra open parentheses for input: 'C1CCCCC2(CCCCCC2)CC2(CCCCCCC'\n",
            "RDKit ERROR: [13:54:00] SMILES Parse Error: unclosed ring for input: 'C1CCC2CC3CCCC(CCC2C3)C2CCCC2'\n"
          ],
          "name": "stderr"
        },
        {
          "output_type": "stream",
          "text": [
            "C1CCCCC23CCC(CCC1)C2CCCC31CC\n",
            "C1CCCC2(CCCCC2)CC2(CCC3CCCC3\n",
            "C1CCCCC2(CCCCCC2)CC2(CCCCCCC\n",
            "C1CCC2CC3CCCC(CCC2C3)C2CCCC2\n"
          ],
          "name": "stdout"
        },
        {
          "output_type": "stream",
          "text": [
            "RDKit ERROR: [13:54:00] SMILES Parse Error: unclosed ring for input: 'C1CCCCCC2CCC3(CCCCC3)CCCC2C2'\n",
            "RDKit ERROR: [13:54:00] SMILES Parse Error: extra open parentheses for input: 'c1ccc2c(c1)CCC1(CCCCCC3CCCCC'\n",
            "RDKit ERROR: [13:54:00] SMILES Parse Error: unclosed ring for input: 'C1CCCCC23CCC(CCC1)CC1(CCCC1)'\n"
          ],
          "name": "stderr"
        },
        {
          "output_type": "stream",
          "text": [
            "C1CCCCCC2CCC3(CCCCC3)CCCC2C2\n",
            "c1ccc2c(c1)CCC1(CCCCCC3CCCCC\n",
            "C1CCCCC23CCC(CCC1)CC1(CCCC1)\n"
          ],
          "name": "stdout"
        },
        {
          "output_type": "stream",
          "text": [
            "RDKit ERROR: [13:54:00] SMILES Parse Error: unclosed ring for input: 'c1ccc2c(c1)CCCCCC1CCCCC1CCCC'\n",
            "RDKit ERROR: [13:54:00] SMILES Parse Error: unclosed ring for input: 'c1cc2c([nH]1)C1CCCCCCCCCCCC2'\n",
            "RDKit ERROR: [13:54:00] SMILES Parse Error: unclosed ring for input: 'C1CCCCC2CCCC3C(CCCC1)CCCCCC2'\n",
            "RDKit ERROR: [13:54:00] SMILES Parse Error: extra open parentheses for input: 'C1CCCC2(CCCC2)C2CCCCC2C2(CCC'\n"
          ],
          "name": "stderr"
        },
        {
          "output_type": "stream",
          "text": [
            "c1ccc2c(c1)CCCCCC1CCCCC1CCCC\n",
            "c1cc2c([nH]1)C1CCCCCCCCCCCC2\n",
            "C1CCCCC2CCCC3C(CCCC1)CCCCCC2\n",
            "C1CCCC2(CCCC2)C2CCCCC2C2(CCC\n"
          ],
          "name": "stdout"
        },
        {
          "output_type": "stream",
          "text": [
            "RDKit ERROR: [13:54:01] SMILES Parse Error: unclosed ring for input: 'C1CCCC2(CCC1)CCCCC1CCCCC1CCC'\n",
            "RDKit ERROR: [13:54:01] SMILES Parse Error: unclosed ring for input: 'C1CCCC23CCCCCC4(CCCCC2CC1)CC'\n",
            "RDKit ERROR: [13:54:01] SMILES Parse Error: unclosed ring for input: 'C1CCCC2(CCC1)CCCCC1CCCCC1CCC'\n"
          ],
          "name": "stderr"
        },
        {
          "output_type": "stream",
          "text": [
            "C1CCCC2(CCC1)CCCCC1CCCCC1CCC\n",
            "C1CCCC23CCCCCC4(CCCCC2CC1)CC\n",
            "C1CCCC2(CCC1)CCCCC1CCCCC1CCC\n"
          ],
          "name": "stdout"
        },
        {
          "output_type": "stream",
          "text": [
            "RDKit ERROR: [13:54:01] SMILES Parse Error: extra open parentheses for input: 'c1cc2c([nH]1)CCCC1(CCCCCC3CC'\n",
            "RDKit ERROR: [13:54:01] SMILES Parse Error: extra open parentheses for input: 'C1CCC23CCCC(CC4CC4)C(CCC2CC1'\n"
          ],
          "name": "stderr"
        },
        {
          "output_type": "stream",
          "text": [
            "c1cc2c([nH]1)CCCC1(CCCCCC3CC\n",
            "C1CCC23CCCC(CC4CC4)C(CCC2CC1\n"
          ],
          "name": "stdout"
        },
        {
          "output_type": "stream",
          "text": [
            "RDKit ERROR: [13:54:01] SMILES Parse Error: unclosed ring for input: 'C1CCCC2CCC3(CCC1)CCCCCC3C1CC'\n",
            "RDKit ERROR: [13:54:01] SMILES Parse Error: unclosed ring for input: 'C1CCCC2(CCCCC3(CC1)CCCC3)CCC'\n",
            "RDKit ERROR: [13:54:01] SMILES Parse Error: unclosed ring for input: 'C1CCC2CC3(CCCCC4CCCC(CC1)C4)'\n",
            "RDKit ERROR: [13:54:01] SMILES Parse Error: extra open parentheses for input: 'C1CCCCC2CC3(CCCCC3)C3CC(CCC1'\n"
          ],
          "name": "stderr"
        },
        {
          "output_type": "stream",
          "text": [
            "C1CCCC2CCC3(CCC1)CCCCCC3C1CC\n",
            "C1CCCC2(CCCCC3(CC1)CCCC3)CCC\n",
            "C1CCC2CC3(CCCCC4CCCC(CC1)C4)\n",
            "C1CCCCC2CC3(CCCCC3)C3CC(CCC1\n"
          ],
          "name": "stdout"
        },
        {
          "output_type": "stream",
          "text": [
            "RDKit ERROR: [13:54:01] SMILES Parse Error: unclosed ring for input: 'C1CC2CC(CCCC3(C1)CCC3)CCCC1C'\n",
            "RDKit ERROR: [13:54:01] SMILES Parse Error: unclosed ring for input: 'C1CCC2CCCCC3CC(CC1)CCCC2C1CC'\n",
            "RDKit ERROR: [13:54:02] SMILES Parse Error: unclosed ring for input: 'C1CC2CCC(C1)CC1CCCCCC1CCCC1C'\n"
          ],
          "name": "stderr"
        },
        {
          "output_type": "stream",
          "text": [
            "C1CC2CC(CCCC3(C1)CCC3)CCCC1C\n",
            "C1CCC2CCCCC3CC(CC1)CCCC2C1CC\n",
            "C1CC2CCC(C1)CC1CCCCCC1CCCC1C\n"
          ],
          "name": "stdout"
        },
        {
          "output_type": "stream",
          "text": [
            "RDKit ERROR: [13:54:02] SMILES Parse Error: syntax error while parsing: c1ccc2c(c1)CCCCCCCCC1CCCCC3(\n",
            "RDKit ERROR: [13:54:02] SMILES Parse Error: Failed parsing SMILES 'c1ccc2c(c1)CCCCCCCCC1CCCCC3(' for input: 'c1ccc2c(c1)CCCCCCCCC1CCCCC3('\n",
            "RDKit ERROR: [13:54:02] SMILES Parse Error: unclosed ring for input: 'C1CC2CCCC3(CC3)C3CCC3C1'\n",
            "RDKit ERROR: [13:54:02] SMILES Parse Error: unclosed ring for input: 'c1cc2c3c(cccc3c1)C1(CCCCC1)C'\n"
          ],
          "name": "stderr"
        },
        {
          "output_type": "stream",
          "text": [
            "c1ccc2c(c1)CCCCCCCCC1CCCCC3(\n",
            "C1CC2CCCC3(CC3)C3CCC3C1\n",
            "c1cc2c3c(cccc3c1)C1(CCCCC1)C\n"
          ],
          "name": "stdout"
        },
        {
          "output_type": "stream",
          "text": [
            "RDKit ERROR: [13:54:02] SMILES Parse Error: extra open parentheses for input: 'C1CCCCC23CCC(CCC1)CCCCCC1(CC'\n",
            "RDKit ERROR: [13:54:02] SMILES Parse Error: extra open parentheses for input: 'c1ccc2c3c(ccc2c1)CCCCCCCC1(C'\n",
            "RDKit ERROR: [13:54:02] SMILES Parse Error: unclosed ring for input: 'C1CCCC2CCC3CCC(CCC1)C3CCCC21'\n",
            "RDKit ERROR: [13:54:02] SMILES Parse Error: unclosed ring for input: 'c1ccc2c(c1)CCCCC1(CCCC1)CCCC'\n"
          ],
          "name": "stderr"
        },
        {
          "output_type": "stream",
          "text": [
            "C1CCCCC23CCC(CCC1)CCCCCC1(CC\n",
            "c1ccc2c3c(ccc2c1)CCCCCCCC1(C\n",
            "C1CCCC2CCC3CCC(CCC1)C3CCCC21\n",
            "c1ccc2c(c1)CCCCC1(CCCC1)CCCC\n"
          ],
          "name": "stdout"
        },
        {
          "output_type": "stream",
          "text": [
            "RDKit ERROR: [13:54:02] SMILES Parse Error: extra open parentheses for input: 'C1CCC2CCCC3(CCC4(CCCC4)C3CC1'\n",
            "RDKit ERROR: [13:54:02] SMILES Parse Error: extra open parentheses for input: 'C1CCCCCC2C3(CCCCC1)CCCC3(CCC'\n",
            "RDKit ERROR: [13:54:02] SMILES Parse Error: unclosed ring for input: 'C1CCCC2CCC(CC1)C1CCC2C12'\n",
            "RDKit ERROR: [13:54:02] SMILES Parse Error: unclosed ring for input: 'C1CCCC2CCCC3CC4CC(CC1)CCC4C2'\n"
          ],
          "name": "stderr"
        },
        {
          "output_type": "stream",
          "text": [
            "C1CCC2CCCC3(CCC4(CCCC4)C3CC1\n",
            "C1CCCCCC2C3(CCCCC1)CCCC3(CCC\n",
            "C1CCCC2CCC(CC1)C1CCC2C12\n",
            "C1CCCC2CCCC3CC4CC(CC1)CCC4C2\n"
          ],
          "name": "stdout"
        },
        {
          "output_type": "stream",
          "text": [
            "RDKit ERROR: [13:54:03] SMILES Parse Error: unclosed ring for input: 'C1CCC2(CC1)CCCCC1CCCCC1CCCCC'\n",
            "RDKit ERROR: [13:54:03] SMILES Parse Error: unclosed ring for input: 'C1CC2CCC3CC(CC3)C3(CCCC3)CC2'\n",
            "RDKit ERROR: [13:54:03] SMILES Parse Error: unclosed ring for input: 'C1CCC2CCCC3(CCC(CC1)C3)CCCC1'\n"
          ],
          "name": "stderr"
        },
        {
          "output_type": "stream",
          "text": [
            "C1CCC2(CC1)CCCCC1CCCCC1CCCCC\n",
            "C1CC2CCC3CC(CC3)C3(CCCC3)CC2\n",
            "C1CCC2CCCC3(CCC(CC1)C3)CCCC1\n"
          ],
          "name": "stdout"
        },
        {
          "output_type": "stream",
          "text": [
            "RDKit ERROR: [13:54:03] SMILES Parse Error: unclosed ring for input: 'c1cc2c([nH]1)CCCC1CCCCCCCC1C'\n",
            "RDKit ERROR: [13:54:03] SMILES Parse Error: unclosed ring for input: 'c1cc2c(c3c1CCCCCC3)CCCCCCCCC'\n",
            "RDKit ERROR: [13:54:03] SMILES Parse Error: unclosed ring for input: 'C1CCCC2(CCCC3CCCC(CC1)C3)C21'\n"
          ],
          "name": "stderr"
        },
        {
          "output_type": "stream",
          "text": [
            "c1cc2c([nH]1)CCCC1CCCCCCCC1C\n",
            "c1cc2c(c3c1CCCCCC3)CCCCCCCCC\n",
            "C1CCCC2(CCCC3CCCC(CC1)C3)C21\n"
          ],
          "name": "stdout"
        },
        {
          "output_type": "stream",
          "text": [
            "RDKit ERROR: [13:54:03] SMILES Parse Error: unclosed ring for input: 'c1ccc2c(c1)CCC1CCCCCCCCCC3CC'\n",
            "RDKit ERROR: [13:54:03] SMILES Parse Error: unclosed ring for input: 'C1CCCC2(CCCC3CCC4CCCC4C3CC1)'\n",
            "RDKit ERROR: [13:54:03] SMILES Parse Error: unclosed ring for input: 'c1ccc2c(c1)CCCC1CCCCC23CC1'\n",
            "RDKit ERROR: [13:54:03] SMILES Parse Error: extra open parentheses for input: 'c1cc2c([nH]1)CCCCCCCC1CCC(CC'\n"
          ],
          "name": "stderr"
        },
        {
          "output_type": "stream",
          "text": [
            "c1ccc2c(c1)CCC1CCCCCCCCCC3CC\n",
            "C1CCCC2(CCCC3CCC4CCCC4C3CC1)\n",
            "c1ccc2c(c1)CCCC1CCCCC23CC1\n",
            "c1cc2c([nH]1)CCCCCCCC1CCC(CC\n"
          ],
          "name": "stdout"
        },
        {
          "output_type": "stream",
          "text": [
            "RDKit ERROR: [13:54:03] SMILES Parse Error: unclosed ring for input: 'C1CCCCCC23CCC(CCC1)(C3)C21CC'\n",
            "RDKit ERROR: [13:54:03] SMILES Parse Error: unclosed ring for input: 'C1CCCCC2CCC3CCCCC4CCC(CCC1)C'\n",
            "RDKit ERROR: [13:54:03] SMILES Parse Error: unclosed ring for input: 'C1CCCCCC2CCCC3CCCCC2C2CCCCC2'\n"
          ],
          "name": "stderr"
        },
        {
          "output_type": "stream",
          "text": [
            "C1CCCCCC23CCC(CCC1)(C3)C21CC\n",
            "C1CCCCC2CCC3CCCCC4CCC(CCC1)C\n",
            "C1CCCCCC2CCCC3CCCCC2C2CCCCC2\n"
          ],
          "name": "stdout"
        },
        {
          "output_type": "stream",
          "text": [
            "RDKit ERROR: [13:54:04] SMILES Parse Error: unclosed ring for input: 'C1CCCCC2CC3CCC4CCC(CCCC1)CC4'\n",
            "RDKit ERROR: [13:54:04] SMILES Parse Error: unclosed ring for input: 'C1CCCCC2(CCCC1)CCC1(CCCC1)CC'\n",
            "RDKit ERROR: [13:54:04] SMILES Parse Error: extra open parentheses for input: 'c1cc2c([nH]1)CCCCCC1CCC3(CCC'\n",
            "RDKit ERROR: [13:54:04] SMILES Parse Error: extra open parentheses for input: 'c1[nH]c2c3c1CCCCCC1(CCCCCCCC'\n"
          ],
          "name": "stderr"
        },
        {
          "output_type": "stream",
          "text": [
            "C1CCCCC2CC3CCC4CCC(CCCC1)CC4\n",
            "C1CCCCC2(CCCC1)CCC1(CCCC1)CC\n",
            "c1cc2c([nH]1)CCCCCC1CCC3(CCC\n",
            "c1[nH]c2c3c1CCCCCC1(CCCCCCCC\n"
          ],
          "name": "stdout"
        },
        {
          "output_type": "stream",
          "text": [
            "RDKit ERROR: [13:54:04] SMILES Parse Error: unclosed ring for input: 'C1CCCC2CCCCC2CCC23CCCCC2CCC3'\n",
            "RDKit ERROR: [13:54:04] SMILES Parse Error: unclosed ring for input: 'C1CCC2CCCCC2CCCCC3(CCC3)C2CC'\n",
            "RDKit ERROR: [13:54:04] SMILES Parse Error: extra open parentheses for input: 'C1CCCCCC2C3CCCCCC3CCCC3(CCCC'\n"
          ],
          "name": "stderr"
        },
        {
          "output_type": "stream",
          "text": [
            "C1CCCC2CCCCC2CCC23CCCCC2CCC3\n",
            "C1CCC2CCCCC2CCCCC3(CCC3)C2CC\n",
            "C1CCCCCC2C3CCCCCC3CCCC3(CCCC\n"
          ],
          "name": "stdout"
        },
        {
          "output_type": "stream",
          "text": [
            "RDKit ERROR: [13:54:04] SMILES Parse Error: unclosed ring for input: 'C1CCCCCCC2(CCCCCC1)CCCC1CCCC'\n",
            "RDKit ERROR: [13:54:04] SMILES Parse Error: unclosed ring for input: 'c1cc2c([nH]1)CCC1CCCC3CCCCCC'\n",
            "RDKit ERROR: [13:54:04] SMILES Parse Error: unclosed ring for input: 'c1cc2c([nH]1)C1CC3CCCCCCCCC2'\n"
          ],
          "name": "stderr"
        },
        {
          "output_type": "stream",
          "text": [
            "C1CCCCCCC2(CCCCCC1)CCCC1CCCC\n",
            "c1cc2c([nH]1)CCC1CCCC3CCCCCC\n",
            "c1cc2c([nH]1)C1CC3CCCCCCCCC2\n"
          ],
          "name": "stdout"
        },
        {
          "output_type": "stream",
          "text": [
            "RDKit ERROR: [13:54:04] SMILES Parse Error: unclosed ring for input: 'C1CCC23CCCCC(CCCC24CCC4)CCC3'\n",
            "RDKit ERROR: [13:54:04] SMILES Parse Error: unclosed ring for input: 'C1CCCCCCC2(CCCCCC1)CCC1CCCC2'\n",
            "RDKit ERROR: [13:54:05] SMILES Parse Error: unclosed ring for input: 'C1CCCC2CCCC3CC2C(CCC1)CCC1CC'\n",
            "RDKit ERROR: [13:54:05] SMILES Parse Error: extra open parentheses for input: 'C1CCC2CC(C1)CCCC13CCC(CCCCC2'\n"
          ],
          "name": "stderr"
        },
        {
          "output_type": "stream",
          "text": [
            "C1CCC23CCCCC(CCCC24CCC4)CCC3\n",
            "C1CCCCCCC2(CCCCCC1)CCC1CCCC2\n",
            "C1CCCC2CCCC3CC2C(CCC1)CCC1CC\n",
            "C1CCC2CC(C1)CCCC13CCC(CCCCC2\n"
          ],
          "name": "stdout"
        },
        {
          "output_type": "stream",
          "text": [
            "RDKit ERROR: [13:54:05] SMILES Parse Error: unclosed ring for input: 'C1CC2CCC3CCC(CCC3)C2CC2CC1'\n",
            "RDKit ERROR: [13:54:05] SMILES Parse Error: unclosed ring for input: 'C1CCC2(CC1)CCC1(CCCC3CCC3C1)'\n",
            "RDKit ERROR: [13:54:05] SMILES Parse Error: unclosed ring for input: 'C1CCCCCC2CCC(CCCC1)CC1CCCC1C'\n",
            "RDKit ERROR: [13:54:05] SMILES Parse Error: unclosed ring for input: 'C1CC2CCCC3CCC4CCC(CCCC2C1)C4'\n"
          ],
          "name": "stderr"
        },
        {
          "output_type": "stream",
          "text": [
            "C1CC2CCC3CCC(CCC3)C2CC2CC1\n",
            "C1CCC2(CC1)CCC1(CCCC3CCC3C1)\n",
            "C1CCCCCC2CCC(CCCC1)CC1CCCC1C\n",
            "C1CC2CCCC3CCC4CCC(CCCC2C1)C4\n"
          ],
          "name": "stdout"
        },
        {
          "output_type": "stream",
          "text": [
            "RDKit ERROR: [13:54:05] SMILES Parse Error: unclosed ring for input: 'C1CCCC2CC(CC3CCCC(CC1)C3)CCC'\n",
            "RDKit ERROR: [13:54:05] SMILES Parse Error: unclosed ring for input: 'C1CCCC2CCC3(CCC3)C3CCCC3CC2C'\n",
            "RDKit ERROR: [13:54:05] SMILES Parse Error: unclosed ring for input: 'C1CCCC2(CCC1)CCCCC1(CCCC1)CC'\n",
            "RDKit ERROR: [13:54:05] SMILES Parse Error: unclosed ring for input: 'c1ccc2c(c1)CC1CC3CCCCCCCCCCC'\n"
          ],
          "name": "stderr"
        },
        {
          "output_type": "stream",
          "text": [
            "C1CCCC2CC(CC3CCCC(CC1)C3)CCC\n",
            "C1CCCC2CCC3(CCC3)C3CCCC3CC2C\n",
            "C1CCCC2(CCC1)CCCCC1(CCCC1)CC\n",
            "c1ccc2c(c1)CC1CC3CCCCCCCCCCC\n"
          ],
          "name": "stdout"
        },
        {
          "output_type": "stream",
          "text": [
            "RDKit ERROR: [13:54:05] SMILES Parse Error: unclosed ring for input: 'C1CCC2CCC3(CCC3)C3CCCC3CCCC2'\n",
            "RDKit ERROR: [13:54:05] SMILES Parse Error: unclosed ring for input: 'C1CCCCC2CCCCC2CCCC2CC3CCCCCC'\n",
            "RDKit ERROR: [13:54:05] SMILES Parse Error: unclosed ring for input: 'C1CCC2CCC3CC(CC1)CCCCC1CCC23'\n",
            "RDKit ERROR: [13:54:05] SMILES Parse Error: extra open parentheses for input: 'C1CCCCCC2(CCCC3CCCC34CCCCCCC'\n"
          ],
          "name": "stderr"
        },
        {
          "output_type": "stream",
          "text": [
            "C1CCC2CCC3(CCC3)C3CCCC3CCCC2\n",
            "C1CCCCC2CCCCC2CCCC2CC3CCCCCC\n",
            "C1CCC2CCC3CC(CC1)CCCCC1CCC23\n",
            "C1CCCCCC2(CCCC3CCCC34CCCCCCC\n"
          ],
          "name": "stdout"
        },
        {
          "output_type": "stream",
          "text": [
            "RDKit ERROR: [13:54:05] SMILES Parse Error: extra open parentheses for input: 'c1cc2c([nH]1)CCCC1(CCCCCCCCC'\n",
            "RDKit ERROR: [13:54:06] SMILES Parse Error: unclosed ring for input: 'C1CCC2(CCCC2)CCC2CC(C1)CC21C'\n",
            "RDKit ERROR: [13:54:06] SMILES Parse Error: unclosed ring for input: 'C1CCCC2(CC1)CCCC1CCC3(CCCC3)'\n",
            "RDKit ERROR: [13:54:06] SMILES Parse Error: unclosed ring for input: 'C1CCCC2CCCCC2CCC2(CCC1)CCCCC'\n"
          ],
          "name": "stderr"
        },
        {
          "output_type": "stream",
          "text": [
            "c1cc2c([nH]1)CCCC1(CCCCCCCCC\n",
            "C1CCC2(CCCC2)CCC2CC(C1)CC21C\n",
            "C1CCCC2(CC1)CCCC1CCC3(CCCC3)\n",
            "C1CCCC2CCCCC2CCC2(CCC1)CCCCC\n"
          ],
          "name": "stdout"
        },
        {
          "output_type": "stream",
          "text": [
            "RDKit ERROR: [13:54:06] SMILES Parse Error: unclosed ring for input: 'C1CCCC2CC3(CCC1)CCCCCC1(C2)C'\n",
            "RDKit ERROR: [13:54:06] SMILES Parse Error: ring closure 3 duplicates bond between atom 3 and atom 15 for input: 'C1CCC23CCCC(CC4CCC(C1)C4)C23'\n",
            "RDKit ERROR: [13:54:06] SMILES Parse Error: unclosed ring for input: 'C1CCC2CCCCC2CCC2CCCC3CCCC3C2'\n",
            "RDKit ERROR: [13:54:06] SMILES Parse Error: extra open parentheses for input: 'C1CCCCCCC2(CCCCCC1)CCC1CC3(C'\n"
          ],
          "name": "stderr"
        },
        {
          "output_type": "stream",
          "text": [
            "C1CCCC2CC3(CCC1)CCCCCC1(C2)C\n",
            "C1CCC23CCCC(CC4CCC(C1)C4)C23\n",
            "C1CCC2CCCCC2CCC2CCCC3CCCC3C2\n",
            "C1CCCCCCC2(CCCCCC1)CCC1CC3(C\n"
          ],
          "name": "stdout"
        },
        {
          "output_type": "stream",
          "text": [
            "RDKit ERROR: [13:54:06] SMILES Parse Error: unclosed ring for input: 'C1CCCC2(CCCCC2)C2CCC(CC1)CCC'\n",
            "RDKit ERROR: [13:54:06] SMILES Parse Error: extra open parentheses for input: 'c1ccc2c(c1)CCCCCCCCCC13CCC(C'\n",
            "RDKit ERROR: [13:54:06] SMILES Parse Error: unclosed ring for input: 'C1CCCC2(CCC3CCCC4CCCC4C3)C2C'\n"
          ],
          "name": "stderr"
        },
        {
          "output_type": "stream",
          "text": [
            "C1CCCC2(CCCCC2)C2CCC(CC1)CCC\n",
            "c1ccc2c(c1)CCCCCCCCCC13CCC(C\n",
            "C1CCCC2(CCC3CCCC4CCCC4C3)C2C\n"
          ],
          "name": "stdout"
        },
        {
          "output_type": "stream",
          "text": [
            "RDKit ERROR: [13:54:06] SMILES Parse Error: extra open parentheses for input: 'c1cc2c([nH]1)CCCCCC1CC(CCCC3'\n",
            "RDKit ERROR: [13:54:06] SMILES Parse Error: unclosed ring for input: 'C1CCC2CC(C1)CCCCC1(CCCC1)CCC'\n",
            "RDKit ERROR: [13:54:06] SMILES Parse Error: unclosed ring for input: 'C1CCC2CCCCC3(CCCCC3)CC3CCCC3'\n"
          ],
          "name": "stderr"
        },
        {
          "output_type": "stream",
          "text": [
            "c1cc2c([nH]1)CCCCCC1CC(CCCC3\n",
            "C1CCC2CC(C1)CCCCC1(CCCC1)CCC\n",
            "C1CCC2CCCCC3(CCCCC3)CC3CCCC3\n"
          ],
          "name": "stdout"
        },
        {
          "output_type": "stream",
          "text": [
            "RDKit ERROR: [13:54:06] SMILES Parse Error: unclosed ring for input: 'C1CCC2(CC1)CCCCCC1CCC(CC1)C1'\n",
            "RDKit ERROR: [13:54:06] SMILES Parse Error: unclosed ring for input: 'c1[nH]c2c3c1CCC(CCCCCCC3)C21'\n",
            "RDKit ERROR: [13:54:07] SMILES Parse Error: extra open parentheses for input: 'c1cc2c([nH]1)CCCCC1(CCCCCCCC'\n"
          ],
          "name": "stderr"
        },
        {
          "output_type": "stream",
          "text": [
            "C1CCC2(CC1)CCCCCC1CCC(CC1)C1\n",
            "c1[nH]c2c3c1CCC(CCCCCCC3)C21\n",
            "c1cc2c([nH]1)CCCCC1(CCCCCCCC\n",
            "C1CCCC2C3CCC(CC1)CC1CCCC23\n"
          ],
          "name": "stdout"
        },
        {
          "output_type": "stream",
          "text": [
            "RDKit ERROR: [13:54:07] SMILES Parse Error: unclosed ring for input: 'C1CCCC2C3CCC(CC1)CC1CCCC23'\n",
            "RDKit ERROR: [13:54:07] SMILES Parse Error: unclosed ring for input: 'C1CCCC2CCCC3(CCCCCC3)C2CC2CC'\n",
            "RDKit ERROR: [13:54:07] SMILES Parse Error: extra open parentheses for input: 'C1CCCCC2CC(CCCC3CCCC(CCC1)CC'\n"
          ],
          "name": "stderr"
        },
        {
          "output_type": "stream",
          "text": [
            "C1CCCC2CCCC3(CCCCCC3)C2CC2CC\n",
            "C1CCCCC2CC(CCCC3CCCC(CCC1)CC\n"
          ],
          "name": "stdout"
        },
        {
          "output_type": "stream",
          "text": [
            "RDKit ERROR: [13:54:07] SMILES Parse Error: unclosed ring for input: 'C1CCCC23CC(CC4CCC4CC1)C(CC2)'\n",
            "RDKit ERROR: [13:54:07] SMILES Parse Error: unclosed ring for input: 'C1CC2CCC3CCC4CCC(C4)CC3C1CC1'\n",
            "RDKit ERROR: [13:54:07] SMILES Parse Error: extra open parentheses for input: 'c1cc2c3c([nH]c3c1)CCCC1(CCCC'\n"
          ],
          "name": "stderr"
        },
        {
          "output_type": "stream",
          "text": [
            "C1CCCC23CC(CC4CCC4CC1)C(CC2)\n",
            "C1CC2CCC3CCC4CCC(C4)CC3C1CC1\n",
            "c1cc2c3c([nH]c3c1)CCCC1(CCCC\n"
          ],
          "name": "stdout"
        },
        {
          "output_type": "stream",
          "text": [
            "RDKit ERROR: [13:54:07] SMILES Parse Error: extra open parentheses for input: 'c1ccc2c(c1)CCCC1CCCC3(CCCC23'\n",
            "RDKit ERROR: [13:54:07] SMILES Parse Error: unclosed ring for input: 'c1cc2c([nH]1)C1CCCCCCCC3CCCC'\n",
            "RDKit ERROR: [13:54:07] SMILES Parse Error: extra open parentheses for input: 'C1CCCC2CCCC2CCC2CC3CCCC2(CC1'\n",
            "RDKit ERROR: [13:54:08] SMILES Parse Error: unclosed ring for input: 'c1cc2c3c(c1)CCCCC1CCCCCC1CCC'\n"
          ],
          "name": "stderr"
        },
        {
          "output_type": "stream",
          "text": [
            "c1ccc2c(c1)CCCC1CCCC3(CCCC23\n",
            "c1cc2c([nH]1)C1CCCCCCCC3CCCC\n",
            "C1CCCC2CCCC2CCC2CC3CCCC2(CC1\n",
            "c1cc2c3c(c1)CCCCC1CCCCCC1CCC\n"
          ],
          "name": "stdout"
        },
        {
          "output_type": "stream",
          "text": [
            "RDKit ERROR: [13:54:08] SMILES Parse Error: unclosed ring for input: 'C1CC2CC3CCCC(CCC3)C3(C1)CC2'\n",
            "RDKit ERROR: [13:54:08] SMILES Parse Error: unclosed ring for input: 'C1CCC2CCCCC2CCCC23CCCC(CC1)C'\n",
            "RDKit ERROR: [13:54:08] SMILES Parse Error: extra open parentheses for input: 'C1CCCCC2CCC3CCC(CC4(CCCCC4)C'\n"
          ],
          "name": "stderr"
        },
        {
          "output_type": "stream",
          "text": [
            "C1CC2CC3CCCC(CCC3)C3(C1)CC2\n",
            "C1CCC2CCCCC2CCCC23CCCC(CC1)C\n",
            "C1CCCCC2CCC3CCC(CC4(CCCCC4)C\n",
            "C1CCC2(CCCC2)C2(CCCC2)C2CCCC\n",
            "C1CCCCC2CCC(CC3(CCCC1)C3)CCC\n",
            "C1CCCCCC2CC(CCCC1)CCC1CCCCC2\n"
          ],
          "name": "stdout"
        },
        {
          "output_type": "stream",
          "text": [
            "RDKit ERROR: [13:54:08] SMILES Parse Error: unclosed ring for input: 'C1CCC2(CCCC2)C2(CCCC2)C2CCCC'\n",
            "RDKit ERROR: [13:54:08] SMILES Parse Error: unclosed ring for input: 'C1CCCCC2CCC(CC3(CCCC1)C3)CCC'\n",
            "RDKit ERROR: [13:54:08] SMILES Parse Error: unclosed ring for input: 'C1CCCCCC2CC(CCCC1)CCC1CCCCC2'\n",
            "RDKit ERROR: [13:54:08] SMILES Parse Error: extra open parentheses for input: 'C1CCCCCC2(CCCCC1)CCC13CCCC(C'\n"
          ],
          "name": "stderr"
        },
        {
          "output_type": "stream",
          "text": [
            "C1CCCCCC2(CCCCC1)CCC13CCCC(C\n",
            "C1CCCC2CCCCC2CCCC2CCCC3CCCC3\n",
            "c1cc2c([nH]1)CCC3CCCCCCCCCCC\n"
          ],
          "name": "stdout"
        },
        {
          "output_type": "stream",
          "text": [
            "RDKit ERROR: [13:54:08] SMILES Parse Error: unclosed ring for input: 'C1CCCC2CCCCC2CCCC2CCCC3CCCC3'\n",
            "RDKit ERROR: [13:54:08] SMILES Parse Error: unclosed ring for input: 'c1cc2c([nH]1)CCC3CCCCCCCCCCC'\n",
            "RDKit ERROR: [13:54:08] SMILES Parse Error: extra open parentheses for input: 'c1cc2c([nH]1)CCCCCCC1CCCC(C1'\n",
            "RDKit ERROR: [13:54:08] SMILES Parse Error: unclosed ring for input: 'C1CCC2CCCCC2CCC2CCC3(CCCC3)C'\n"
          ],
          "name": "stderr"
        },
        {
          "output_type": "stream",
          "text": [
            "c1cc2c([nH]1)CCCCCCC1CCCC(C1\n",
            "C1CCC2CCCCC2CCC2CCC3(CCCC3)C\n",
            "c1cc2c([nH]1)CCCCCCCC1CCCCC1\n"
          ],
          "name": "stdout"
        },
        {
          "output_type": "stream",
          "text": [
            "RDKit ERROR: [13:54:08] SMILES Parse Error: unclosed ring for input: 'c1cc2c([nH]1)CCCCCCCC1CCCCC1'\n",
            "RDKit ERROR: [13:54:09] SMILES Parse Error: unclosed ring for input: 'C1CCC2(CCCC2)CC2(CCCCC2)CCCC'\n",
            "RDKit ERROR: [13:54:09] SMILES Parse Error: unclosed ring for input: 'C1CCCC2(CCC2)C2CC(CC1)C21CCC'\n"
          ],
          "name": "stderr"
        },
        {
          "output_type": "stream",
          "text": [
            "C1CCC2(CCCC2)CC2(CCCCC2)CCCC\n",
            "C1CCCC2(CCC2)C2CC(CC1)C21CCC\n",
            "c1cc2c([nH]1)CCCCCCC1CCCCC1C\n"
          ],
          "name": "stdout"
        },
        {
          "output_type": "stream",
          "text": [
            "RDKit ERROR: [13:54:09] SMILES Parse Error: unclosed ring for input: 'c1cc2c([nH]1)CCCCCCC1CCCCC1C'\n",
            "RDKit ERROR: [13:54:09] SMILES Parse Error: unclosed ring for input: 'C1CCCCC2C3CC(CC3)C3(CCCC1)CC'\n",
            "RDKit ERROR: [13:54:09] SMILES Parse Error: extra open parentheses for input: 'C1CCCCC2(CCCC2)CC2CC3CCC(CCC'\n",
            "RDKit ERROR: [13:54:09] SMILES Parse Error: unclosed ring for input: 'C1CC2CCC34CCC(C3)CCC4C1'\n"
          ],
          "name": "stderr"
        },
        {
          "output_type": "stream",
          "text": [
            "C1CCCCC2C3CC(CC3)C3(CCCC1)CC\n",
            "C1CCCCC2(CCCC2)CC2CC3CCC(CCC\n",
            "C1CC2CCC34CCC(C3)CCC4C1\n",
            "C1CCC2CCCCCC2CCC2(CCCCC2)CCC\n"
          ],
          "name": "stdout"
        },
        {
          "output_type": "stream",
          "text": [
            "RDKit ERROR: [13:54:09] SMILES Parse Error: unclosed ring for input: 'C1CCC2CCCCCC2CCC2(CCCCC2)CCC'\n",
            "RDKit ERROR: [13:54:09] SMILES Parse Error: unclosed ring for input: 'c1ccc2c(c1)C1CCCCC3(CCCC3)C2'\n",
            "RDKit ERROR: [13:54:09] SMILES Parse Error: unclosed ring for input: 'c1ccc2c3c([nH]c2c1)CCCCCCC1C'\n",
            "RDKit ERROR: [13:54:09] SMILES Parse Error: unclosed ring for input: 'C1CCCC2(CCC1)CCCC1(CCC1)CCC1'\n"
          ],
          "name": "stderr"
        },
        {
          "output_type": "stream",
          "text": [
            "c1ccc2c(c1)C1CCCCC3(CCCC3)C2\n",
            "c1ccc2c3c([nH]c2c1)CCCCCCC1C\n",
            "C1CCCC2(CCC1)CCCC1(CCC1)CCC1\n",
            "C1CCCC2(CCC1)CCCCCC1CCCCC1CC\n"
          ],
          "name": "stdout"
        },
        {
          "output_type": "stream",
          "text": [
            "RDKit ERROR: [13:54:09] SMILES Parse Error: unclosed ring for input: 'C1CCCC2(CCC1)CCCCCC1CCCCC1CC'\n",
            "RDKit ERROR: [13:54:09] SMILES Parse Error: unclosed ring for input: 'C1CCCC2(CCCC3CCCC(CC1)C3)C21'\n",
            "RDKit ERROR: [13:54:09] SMILES Parse Error: unclosed ring for input: 'C1CCC2CCCCCC3(CCCCC3)C23CCC3'\n"
          ],
          "name": "stderr"
        },
        {
          "output_type": "stream",
          "text": [
            "C1CCCC2(CCCC3CCCC(CC1)C3)C21\n",
            "C1CCC2CCCCCC3(CCCCC3)C23CCC3\n",
            "C1CCC2CCCCC3(CCCCC2C1)CCCC1(\n"
          ],
          "name": "stdout"
        },
        {
          "output_type": "stream",
          "text": [
            "RDKit ERROR: [13:54:09] SMILES Parse Error: syntax error while parsing: C1CCC2CCCCC3(CCCCC2C1)CCCC1(\n",
            "RDKit ERROR: [13:54:09] SMILES Parse Error: Failed parsing SMILES 'C1CCC2CCCCC3(CCCCC2C1)CCCC1(' for input: 'C1CCC2CCCCC3(CCCCC2C1)CCCC1('\n",
            "RDKit ERROR: [13:54:10] SMILES Parse Error: unclosed ring for input: 'C1CCCC2CC(CC1)CC1CCCC3CCCC3C'\n",
            "RDKit ERROR: [13:54:10] SMILES Parse Error: extra open parentheses for input: 'c1cc2c([nH]1)CCCCC1CC3(CCCCC'\n",
            "RDKit ERROR: [13:54:10] SMILES Parse Error: extra open parentheses for input: 'C1CCCCC2CCCC3CCC(CCC1)CC1(CC'\n"
          ],
          "name": "stderr"
        },
        {
          "output_type": "stream",
          "text": [
            "C1CCCC2CC(CC1)CC1CCCC3CCCC3C\n",
            "c1cc2c([nH]1)CCCCC1CC3(CCCCC\n",
            "C1CCCCC2CCCC3CCC(CCC1)CC1(CC\n",
            "C1CCCCC2CC(CCCC1)C1CCCC23CC3\n"
          ],
          "name": "stdout"
        },
        {
          "output_type": "stream",
          "text": [
            "RDKit ERROR: [13:54:10] SMILES Parse Error: unclosed ring for input: 'C1CCCCC2CC(CCCC1)C1CCCC23CC3'\n",
            "RDKit ERROR: [13:54:10] SMILES Parse Error: unclosed ring for input: 'C1CCCC2CCCC(CCC1)C1CCC3CCCCC'\n",
            "RDKit ERROR: [13:54:10] SMILES Parse Error: unclosed ring for input: 'C1CCCCCC2(CCCCC1)CCC13CCCCC1'\n",
            "RDKit ERROR: [13:54:10] SMILES Parse Error: unclosed ring for input: 'c1ccc2c(c1)CCCCC1(CCC1)CCCC1'\n"
          ],
          "name": "stderr"
        },
        {
          "output_type": "stream",
          "text": [
            "C1CCCC2CCCC(CCC1)C1CCC3CCCCC\n",
            "C1CCCCCC2(CCCCC1)CCC13CCCCC1\n",
            "c1ccc2c(c1)CCCCC1(CCC1)CCCC1\n"
          ],
          "name": "stdout"
        },
        {
          "output_type": "stream",
          "text": [
            "RDKit ERROR: [13:54:10] SMILES Parse Error: extra open parentheses for input: 'C1CCCC2CCCCC2CCCC23CCCCC(CCC'\n",
            "RDKit ERROR: [13:54:10] SMILES Parse Error: unclosed ring for input: 'C1CCCCC2CC3CCC4(CCCCC1)CC4C2'\n",
            "RDKit ERROR: [13:54:10] SMILES Parse Error: unclosed ring for input: 'C1CCCC2(CCC1)CCCCC1(CCCC1)CC'\n"
          ],
          "name": "stderr"
        },
        {
          "output_type": "stream",
          "text": [
            "C1CCCC2CCCCC2CCCC23CCCCC(CCC\n",
            "C1CCCCC2CC3CCC4(CCCCC1)CC4C2\n",
            "C1CCCC2(CCC1)CCCCC1(CCCC1)CC\n"
          ],
          "name": "stdout"
        },
        {
          "output_type": "stream",
          "text": [
            "RDKit ERROR: [13:54:10] SMILES Parse Error: unclosed ring for input: 'C1CCC2CCCCC2CCCC2CCCC3CCC2C3'\n",
            "RDKit ERROR: [13:54:10] SMILES Parse Error: unclosed ring for input: 'C1CCCCC23CCCC4CCCC(CCC1)C4C2'\n",
            "RDKit ERROR: [13:54:10] SMILES Parse Error: unclosed ring for input: 'c1cc2c([nH]1)CCCCC1CCCCC1CCC'\n",
            "RDKit ERROR: [13:54:10] SMILES Parse Error: extra open parentheses for input: 'C1CCC2CC3CCCCCC4CCCC(CCCC4C1'\n"
          ],
          "name": "stderr"
        },
        {
          "output_type": "stream",
          "text": [
            "C1CCC2CCCCC2CCCC2CCCC3CCC2C3\n",
            "C1CCCCC23CCCC4CCCC(CCC1)C4C2\n",
            "c1cc2c([nH]1)CCCCC1CCCCC1CCC\n",
            "C1CCC2CC3CCCCCC4CCCC(CCCC4C1\n"
          ],
          "name": "stdout"
        },
        {
          "output_type": "stream",
          "text": [
            "RDKit ERROR: [13:54:10] SMILES Parse Error: unclosed ring for input: 'c1ccc2c(c1)CCCCC1(CCCC1)CCCC'\n",
            "RDKit ERROR: [13:54:11] SMILES Parse Error: extra open parentheses for input: 'c1cc2c([nH]1)CCCCCC1CCC3(CCC'\n",
            "RDKit ERROR: [13:54:11] SMILES Parse Error: ring closure 2 duplicates bond between atom 3 and atom 14 for input: 'C1CCC2(CCC3CCC4CC3C4C1)C2'\n"
          ],
          "name": "stderr"
        },
        {
          "output_type": "stream",
          "text": [
            "c1ccc2c(c1)CCCCC1(CCCC1)CCCC\n",
            "c1cc2c([nH]1)CCCCCC1CCC3(CCC\n",
            "C1CCC2(CCC3CCC4CC3C4C1)C2\n"
          ],
          "name": "stdout"
        },
        {
          "output_type": "stream",
          "text": [
            "RDKit ERROR: [13:54:11] SMILES Parse Error: extra open parentheses for input: 'C1CCCC2(CCC3CCCCC3C2)C2(CCC1'\n",
            "RDKit ERROR: [13:54:11] SMILES Parse Error: unclosed ring for input: 'c1cc2c([nH]1)CC1CCCCCCCCC1CC'\n",
            "RDKit ERROR: [13:54:11] SMILES Parse Error: unclosed ring for input: 'C1CCC2CC3(CCCCC3)CCC2CCCCCC2'\n",
            "RDKit ERROR: [13:54:11] SMILES Parse Error: unclosed ring for input: 'C1CCCCC23CCCC(CCC1)C2CCCC31C'\n"
          ],
          "name": "stderr"
        },
        {
          "output_type": "stream",
          "text": [
            "C1CCCC2(CCC3CCCCC3C2)C2(CCC1\n",
            "c1cc2c([nH]1)CC1CCCCCCCCC1CC\n",
            "C1CCC2CC3(CCCCC3)CCC2CCCCCC2\n",
            "C1CCCCC23CCCC(CCC1)C2CCCC31C\n"
          ],
          "name": "stdout"
        },
        {
          "output_type": "stream",
          "text": [
            "RDKit ERROR: [13:54:11] SMILES Parse Error: unclosed ring for input: 'C1CCCCC2CCCCC2C2CC3CCCCCC3CC'\n",
            "RDKit ERROR: [13:54:11] SMILES Parse Error: unclosed ring for input: 'C1CCC2(CCCCC3CCCC(C1)CC3)CCC'\n",
            "RDKit ERROR: [13:54:11] SMILES Parse Error: ring closure 2 duplicates bond between atom 6 and atom 17 for input: 'C1CCCCCC2(CCCC3CC(CCC1)C3)C2'\n",
            "RDKit ERROR: [13:54:11] SMILES Parse Error: unclosed ring for input: 'C1CC2CCC(CC2)C2CC(C1)CC21CCC'\n"
          ],
          "name": "stderr"
        },
        {
          "output_type": "stream",
          "text": [
            "C1CCCCC2CCCCC2C2CC3CCCCCC3CC\n",
            "C1CCC2(CCCCC3CCCC(C1)CC3)CCC\n",
            "C1CCCCCC2(CCCC3CC(CCC1)C3)C2\n",
            "C1CC2CCC(CC2)C2CC(C1)CC21CCC\n"
          ],
          "name": "stdout"
        },
        {
          "output_type": "stream",
          "text": [
            "RDKit ERROR: [13:54:11] SMILES Parse Error: extra open parentheses for input: 'c1cc2c([nH]1)CCCC1CCCC(CCCCC'\n",
            "RDKit ERROR: [13:54:11] SMILES Parse Error: unclosed ring for input: 'C1CCCCCC2C3CCC4CC(CCCC1)CC4C'\n",
            "RDKit ERROR: [13:54:11] SMILES Parse Error: unclosed ring for input: 'C1CC2CCC3CCCCC34CCCC(C1)C23'\n"
          ],
          "name": "stderr"
        },
        {
          "output_type": "stream",
          "text": [
            "c1cc2c([nH]1)CCCC1CCCC(CCCCC\n",
            "C1CCCCCC2C3CCC4CC(CCCC1)CC4C\n",
            "C1CC2CCC3CCCCC34CCCC(C1)C23\n"
          ],
          "name": "stdout"
        },
        {
          "output_type": "stream",
          "text": [
            "RDKit ERROR: [13:54:12] SMILES Parse Error: unclosed ring for input: 'C1CCCC2CCCCC3(CCC4(CCCC4)C3)'\n",
            "RDKit ERROR: [13:54:12] SMILES Parse Error: unclosed ring for input: 'c1ccc2c(c1)CCCCC1CCC3CCCCC23'\n",
            "RDKit ERROR: [13:54:12] SMILES Parse Error: unclosed ring for input: 'C1CCCC2(CCC3CCC(CC1)C3)CCCCC'\n"
          ],
          "name": "stderr"
        },
        {
          "output_type": "stream",
          "text": [
            "C1CCCC2CCCCC3(CCC4(CCCC4)C3)\n",
            "c1ccc2c(c1)CCCCC1CCC3CCCCC23\n",
            "C1CCCC2(CCC3CCC(CC1)C3)CCCCC\n"
          ],
          "name": "stdout"
        },
        {
          "output_type": "stream",
          "text": [
            "RDKit ERROR: [13:54:12] SMILES Parse Error: extra open parentheses for input: 'c1cc2c([nH]1)CCCCCCCCC1(CCC1'\n",
            "RDKit ERROR: [13:54:12] SMILES Parse Error: unclosed ring for input: 'C1CCCCC2(CCCCC2)C2CC3CCCCCCC'\n",
            "RDKit ERROR: [13:54:12] SMILES Parse Error: unclosed ring for input: 'C1CCCC2(CCCC3CCCC(CC1)C3)CCC'\n",
            "RDKit ERROR: [13:54:12] SMILES Parse Error: extra open parentheses for input: 'C1CCCCCC23CC(CCCC1)CCCCC1(C2'\n"
          ],
          "name": "stderr"
        },
        {
          "output_type": "stream",
          "text": [
            "c1cc2c([nH]1)CCCCCCCCC1(CCC1\n",
            "C1CCCCC2(CCCCC2)C2CC3CCCCCCC\n",
            "C1CCCC2(CCCC3CCCC(CC1)C3)CCC\n",
            "C1CCCCCC23CC(CCCC1)CCCCC1(C2\n"
          ],
          "name": "stdout"
        },
        {
          "output_type": "stream",
          "text": [
            "RDKit ERROR: [13:54:12] SMILES Parse Error: extra open parentheses for input: 'c1ccc2c(c1)CCC1CCCCCCCCC3(CC'\n",
            "RDKit ERROR: [13:54:12] SMILES Parse Error: extra open parentheses for input: 'C1CCCC23CCCC4CCCC(CCCC4C2CC1'\n",
            "RDKit ERROR: [13:54:12] SMILES Parse Error: unclosed ring for input: 'C1CCCCCC2(CCC3CCCC(CCC1)C3)C'\n",
            "RDKit ERROR: [13:54:12] SMILES Parse Error: unclosed ring for input: 'C1CCC2CCCCC3(CCCCC3CC1)CCCCC'\n"
          ],
          "name": "stderr"
        },
        {
          "output_type": "stream",
          "text": [
            "c1ccc2c(c1)CCC1CCCCCCCCC3(CC\n",
            "C1CCCC23CCCC4CCCC(CCCC4C2CC1\n",
            "C1CCCCCC2(CCC3CCCC(CCC1)C3)C\n",
            "C1CCC2CCCCC3(CCCCC3CC1)CCCCC\n"
          ],
          "name": "stdout"
        },
        {
          "output_type": "stream",
          "text": [
            "RDKit ERROR: [13:54:12] SMILES Parse Error: unclosed ring for input: 'c1cc2c3c(cccc3c1)C1(CCCCC1)C'\n",
            "RDKit ERROR: [13:54:12] SMILES Parse Error: unclosed ring for input: 'C1CCCC2(CCC1)CCCCCC1(CCCC1)C'\n",
            "RDKit ERROR: [13:54:12] SMILES Parse Error: unclosed ring for input: 'c1cc2c([nH]1)CCCCCCCCC1CCCC2'\n",
            "RDKit ERROR: [13:54:13] SMILES Parse Error: unclosed ring for input: 'C1CCCC2(CCCC3(CC1)CCCC3)CCC1'\n"
          ],
          "name": "stderr"
        },
        {
          "output_type": "stream",
          "text": [
            "c1cc2c3c(cccc3c1)C1(CCCCC1)C\n",
            "C1CCCC2(CCC1)CCCCCC1(CCCC1)C\n",
            "c1cc2c([nH]1)CCCCCCCCC1CCCC2\n",
            "C1CCCC2(CCCC3(CC1)CCCC3)CCC1\n"
          ],
          "name": "stdout"
        },
        {
          "output_type": "stream",
          "text": [
            "RDKit ERROR: [13:54:13] SMILES Parse Error: unclosed ring for input: 'C1CCC2CC(CC1)CC1(CCCC1)CCCC1'\n",
            "RDKit ERROR: [13:54:13] SMILES Parse Error: unclosed ring for input: 'c1cc2c([nH]1)CCCCCCCCC1CC3CC'\n",
            "RDKit ERROR: [13:54:13] SMILES Parse Error: unclosed ring for input: 'C1CCCC2(CCCC2)C2CCC3CCC(CC1)'\n",
            "RDKit ERROR: [13:54:13] SMILES Parse Error: ring closure 3 duplicates bond between atom 14 and atom 17 for input: 'C1CCC2CCCC3CCCCC3CC3(CC1)C23'\n"
          ],
          "name": "stderr"
        },
        {
          "output_type": "stream",
          "text": [
            "C1CCC2CC(CC1)CC1(CCCC1)CCCC1\n",
            "c1cc2c([nH]1)CCCCCCCCC1CC3CC\n",
            "C1CCCC2(CCCC2)C2CCC3CCC(CC1)\n",
            "C1CCC2CCCC3CCCCC3CC3(CC1)C23\n"
          ],
          "name": "stdout"
        },
        {
          "output_type": "stream",
          "text": [
            "RDKit ERROR: [13:54:13] SMILES Parse Error: unclosed ring for input: 'C1CCC2(CC1)CCCC1CCCC(CC1)CC1'\n",
            "RDKit ERROR: [13:54:13] SMILES Parse Error: unclosed ring for input: 'C1CCCCC2CCC2CC2(CCCCC1)CCCC1'\n",
            "RDKit ERROR: [13:54:13] SMILES Parse Error: extra open parentheses for input: 'C1CCCC23CCCCCC2CC(CCCC3)C2(C'\n"
          ],
          "name": "stderr"
        },
        {
          "output_type": "stream",
          "text": [
            "C1CCC2(CC1)CCCC1CCCC(CC1)CC1\n",
            "C1CCCCC2CCC2CC2(CCCCC1)CCCC1\n",
            "C1CCCC23CCCCCC2CC(CCCC3)C2(C\n"
          ],
          "name": "stdout"
        },
        {
          "output_type": "stream",
          "text": [
            "RDKit ERROR: [13:54:13] SMILES Parse Error: extra open parentheses for input: 'C1CCCC2CCCC3(CCCCC3)CC3(CCC1'\n",
            "RDKit ERROR: [13:54:13] SMILES Parse Error: unclosed ring for input: 'C1CCCCC2CCC3CC(CCC1)C3CCCC1C'\n",
            "RDKit ERROR: [13:54:13] SMILES Parse Error: unclosed ring for input: 'C1CCC2CCC(CCC3CCC(CC1)C3)CCC'\n"
          ],
          "name": "stderr"
        },
        {
          "output_type": "stream",
          "text": [
            "C1CCCC2CCCC3(CCCCC3)CC3(CCC1\n",
            "C1CCCCC2CCC3CC(CCC1)C3CCCC1C\n",
            "C1CCC2CCC(CCC3CCC(CC1)C3)CCC\n"
          ],
          "name": "stdout"
        },
        {
          "output_type": "stream",
          "text": [
            "RDKit ERROR: [13:54:13] SMILES Parse Error: unclosed ring for input: 'C1CCC2CCC2CC2CC3CCC(CC1)CC3C'\n",
            "RDKit ERROR: [13:54:14] SMILES Parse Error: unclosed ring for input: 'C1CCC2CCC3(CC1)CCCC1CCC23'\n",
            "RDKit ERROR: [13:54:14] SMILES Parse Error: extra open parentheses for input: 'C1CCC2(CC1)CCC1CCCC(CCCC3CCC'\n",
            "RDKit ERROR: [13:54:14] SMILES Parse Error: unclosed ring for input: 'C1CCC2CCCCC2CCCC2CCCC(CC1)CC'\n"
          ],
          "name": "stderr"
        },
        {
          "output_type": "stream",
          "text": [
            "C1CCC2CCC2CC2CC3CCC(CC1)CC3C\n",
            "C1CCC2CCC3(CC1)CCCC1CCC23\n",
            "C1CCC2(CC1)CCC1CCCC(CCCC3CCC\n",
            "C1CCC2CCCCC2CCCC2CCCC(CC1)CC\n"
          ],
          "name": "stdout"
        },
        {
          "output_type": "stream",
          "text": [
            "RDKit ERROR: [13:54:14] SMILES Parse Error: unclosed ring for input: 'C1CCC2(CC1)CCC1CCCC(C1)C1CCC'\n",
            "RDKit ERROR: [13:54:14] SMILES Parse Error: extra open parentheses for input: 'C1CCCCC2CC3CCC(CC4(CCCC1)CC3'\n",
            "RDKit ERROR: [13:54:14] SMILES Parse Error: extra open parentheses for input: 'C1CCCCCC23CCC(CCC1)CC1(CCCCC'\n",
            "RDKit ERROR: [13:54:14] SMILES Parse Error: extra open parentheses for input: 'c1cc2c([nH]1)CCC1(CCCCCCC3CC'\n"
          ],
          "name": "stderr"
        },
        {
          "output_type": "stream",
          "text": [
            "C1CCC2(CC1)CCC1CCCC(C1)C1CCC\n",
            "C1CCCCC2CC3CCC(CC4(CCCC1)CC3\n",
            "C1CCCCCC23CCC(CCC1)CC1(CCCCC\n",
            "c1cc2c([nH]1)CCC1(CCCCCCC3CC\n"
          ],
          "name": "stdout"
        },
        {
          "output_type": "stream",
          "text": [
            "RDKit ERROR: [13:54:14] SMILES Parse Error: unclosed ring for input: 'C1CCC2CCC(CCCC3(CC1)CCCCC3)C'\n",
            "RDKit ERROR: [13:54:14] SMILES Parse Error: unclosed ring for input: 'C1CCC2CC(CC1)C1CCCC(CCC3CC3)'\n",
            "RDKit ERROR: [13:54:14] SMILES Parse Error: unclosed ring for input: 'C1CCCCCC2C3CCCC4CC2C3CCCC4CC'\n",
            "RDKit ERROR: [13:54:14] SMILES Parse Error: extra open parentheses for input: 'C1CC2CCCC3CCCC4CCCC4(CCCC2C1'\n"
          ],
          "name": "stderr"
        },
        {
          "output_type": "stream",
          "text": [
            "C1CCC2CCC(CCCC3(CC1)CCCCC3)C\n",
            "C1CCC2CC(CC1)C1CCCC(CCC3CC3)\n",
            "C1CCCCCC2C3CCCC4CC2C3CCCC4CC\n",
            "C1CC2CCCC3CCCC4CCCC4(CCCC2C1\n"
          ],
          "name": "stdout"
        },
        {
          "output_type": "stream",
          "text": [
            "RDKit ERROR: [13:54:14] SMILES Parse Error: unclosed ring for input: 'C1CCCCC2CC3CCCC3C23CC(CCC1)C'\n",
            "RDKit ERROR: [13:54:15] SMILES Parse Error: extra open parentheses for input: 'C1CCC2(CC1)CC1CCCCCCC2C2(CCC'\n",
            "RDKit ERROR: [13:54:15] SMILES Parse Error: unclosed ring for input: 'C1CCCC23CCCCCC4(CC1)CCCCC2C3'\n"
          ],
          "name": "stderr"
        },
        {
          "output_type": "stream",
          "text": [
            "C1CCCCC2CC3CCCC3C23CC(CCC1)C\n",
            "C1CCC2(CC1)CC1CCCCCCC2C2(CCC\n",
            "C1CCCC23CCCCCC4(CC1)CCCCC2C3\n"
          ],
          "name": "stdout"
        },
        {
          "output_type": "stream",
          "text": [
            "RDKit ERROR: [13:54:15] SMILES Parse Error: unclosed ring for input: 'C1CC2C3CCC(C23)CC2CC1'\n",
            "RDKit ERROR: [13:54:15] SMILES Parse Error: unclosed ring for input: 'C1CCCCCCC23CCCC4(CCCCC1)CCCC'\n",
            "RDKit ERROR: [13:54:15] SMILES Parse Error: extra open parentheses for input: 'c1cc2c([nH]1)CCCCCC1CCCC(CCC'\n"
          ],
          "name": "stderr"
        },
        {
          "output_type": "stream",
          "text": [
            "C1CC2C3CCC(C23)CC2CC1\n",
            "C1CCCCCCC23CCCC4(CCCCC1)CCCC\n",
            "c1cc2c([nH]1)CCCCCC1CCCC(CCC\n"
          ],
          "name": "stdout"
        },
        {
          "output_type": "stream",
          "text": [
            "RDKit ERROR: [13:54:15] SMILES Parse Error: extra open parentheses for input: 'C1CCCCCCC23CCC(C2)C3CC2(CCCC'\n",
            "RDKit ERROR: [13:54:15] SMILES Parse Error: unclosed ring for input: 'c1ccc2c(c1)CCCCCCC1(CCCCCC1)'\n",
            "RDKit ERROR: [13:54:15] SMILES Parse Error: unclosed ring for input: 'C1CCCC2CCCC3(CCC1)CCCCC3C1CC'\n",
            "RDKit ERROR: [13:54:15] SMILES Parse Error: unclosed ring for input: 'c1ccc2c(c1)CCCC1CCC3CCCCCCC2'\n"
          ],
          "name": "stderr"
        },
        {
          "output_type": "stream",
          "text": [
            "C1CCCCCCC23CCC(C2)C3CC2(CCCC\n",
            "c1ccc2c(c1)CCCCCCC1(CCCCCC1)\n",
            "C1CCCC2CCCC3(CCC1)CCCCC3C1CC\n",
            "c1ccc2c(c1)CCCC1CCC3CCCCCCC2\n"
          ],
          "name": "stdout"
        },
        {
          "output_type": "stream",
          "text": [
            "RDKit ERROR: [13:54:15] SMILES Parse Error: unclosed ring for input: 'C1CCCC2CC(CCC1)C1CCCCC23CCCC'\n",
            "RDKit ERROR: [13:54:15] SMILES Parse Error: unclosed ring for input: 'C1CCCCC2(CCCC1)CC1CCC3CCC2C3'\n",
            "RDKit ERROR: [13:54:15] SMILES Parse Error: extra open parentheses for input: 'c1ccc2c(c1)CCCCC1(CCCC3(CCC1'\n",
            "RDKit ERROR: [13:54:15] SMILES Parse Error: unclosed ring for input: 'c1ccc2c(c1)CCC1CCC3CCCCCCCCC'\n"
          ],
          "name": "stderr"
        },
        {
          "output_type": "stream",
          "text": [
            "C1CCCC2CC(CCC1)C1CCCCC23CCCC\n",
            "C1CCCCC2(CCCC1)CC1CCC3CCC2C3\n",
            "c1ccc2c(c1)CCCCC1(CCCC3(CCC1\n",
            "c1ccc2c(c1)CCC1CCC3CCCCCCCCC\n"
          ],
          "name": "stdout"
        },
        {
          "output_type": "stream",
          "text": [
            "RDKit ERROR: [13:54:15] SMILES Parse Error: unclosed ring for input: 'c1cc2c([nH]1)C1CCCC3CCCCCCCC'\n",
            "RDKit ERROR: [13:54:16] SMILES Parse Error: unclosed ring for input: 'C1CCCC2(CCCCC2)CCCC2CCCC3CC2'\n",
            "RDKit ERROR: [13:54:16] SMILES Parse Error: extra open parentheses for input: 'C1CCCC2CC2CCCCC(C2)CC2(CCCC1'\n",
            "RDKit ERROR: [13:54:16] SMILES Parse Error: unclosed ring for input: 'C1CCCCCCC2C(CCCCC1)CCC1C3CCC'\n"
          ],
          "name": "stderr"
        },
        {
          "output_type": "stream",
          "text": [
            "c1cc2c([nH]1)C1CCCC3CCCCCCCC\n",
            "C1CCCC2(CCCCC2)CCCC2CCCC3CC2\n",
            "C1CCCC2CC2CCCCC(C2)CC2(CCCC1\n",
            "C1CCCCCCC2C(CCCCC1)CCC1C3CCC\n"
          ],
          "name": "stdout"
        },
        {
          "output_type": "stream",
          "text": [
            "RDKit ERROR: [13:54:16] SMILES Parse Error: unclosed ring for input: 'C1CCCC2CCC3(CCCCC3)C3(CCC1)C'\n",
            "RDKit ERROR: [13:54:16] SMILES Parse Error: unclosed ring for input: 'C1CCCCC2(CCC2)C2(CCCCC2)C2CC'\n",
            "RDKit ERROR: [13:54:16] SMILES Parse Error: extra open parentheses for input: 'C1CCC2(CC1)CCC1CCCC3CCCC(CCC'\n",
            "RDKit ERROR: [13:54:16] SMILES Parse Error: unclosed ring for input: 'c1ccc2c(c1)CCCCCC13CCCCCCCCC'\n"
          ],
          "name": "stderr"
        },
        {
          "output_type": "stream",
          "text": [
            "C1CCCC2CCC3(CCCCC3)C3(CCC1)C\n",
            "C1CCCCC2(CCC2)C2(CCCCC2)C2CC\n",
            "C1CCC2(CC1)CCC1CCCC3CCCC(CCC\n",
            "c1ccc2c(c1)CCCCCC13CCCCCCCCC\n"
          ],
          "name": "stdout"
        },
        {
          "output_type": "stream",
          "text": [
            "RDKit ERROR: [13:54:16] SMILES Parse Error: extra open parentheses for input: 'C1CCC2CCC3(CCCC2C1)CCCC1(CC1'\n",
            "RDKit ERROR: [13:54:16] SMILES Parse Error: extra open parentheses for input: 'c1[nH]c2c3c1CCCCCCCCC1(CCCCC'\n",
            "RDKit ERROR: [13:54:16] SMILES Parse Error: unclosed ring for input: 'C1CCCCC23CC(C2)CC2(CCC1)CCC3'\n",
            "RDKit ERROR: [13:54:16] SMILES Parse Error: unclosed ring for input: 'C1CCC2(CCC2)CC2CC(C1)CCC1CCC'\n"
          ],
          "name": "stderr"
        },
        {
          "output_type": "stream",
          "text": [
            "C1CCC2CCC3(CCCC2C1)CCCC1(CC1\n",
            "c1[nH]c2c3c1CCCCCCCCC1(CCCCC\n",
            "C1CCCCC23CC(C2)CC2(CCC1)CCC3\n",
            "C1CCC2(CCC2)CC2CC(C1)CCC1CCC\n"
          ],
          "name": "stdout"
        },
        {
          "output_type": "stream",
          "text": [
            "RDKit ERROR: [13:54:16] SMILES Parse Error: unclosed ring for input: 'C1CCCC2CCCC23CCCC2(CCCC1)CCC'\n",
            "RDKit ERROR: [13:54:16] SMILES Parse Error: unclosed ring for input: 'C1CCCCC2CCC23CCCC2CCC2CC3CCC'\n",
            "RDKit ERROR: [13:54:16] SMILES Parse Error: extra open parentheses for input: 'c1[nH]c2c3c1CCCCCCC1(CCCCCCC'\n",
            "RDKit ERROR: [13:54:16] SMILES Parse Error: unclosed ring for input: 'C1CCC2CCCC3(CC1)CCC1(CCC1)C2'\n"
          ],
          "name": "stderr"
        },
        {
          "output_type": "stream",
          "text": [
            "C1CCCC2CCCC23CCCC2(CCCC1)CCC\n",
            "C1CCCCC2CCC23CCCC2CCC2CC3CCC\n",
            "c1[nH]c2c3c1CCCCCCC1(CCCCCCC\n",
            "C1CCC2CCCC3(CC1)CCC1(CCC1)C2\n"
          ],
          "name": "stdout"
        },
        {
          "output_type": "stream",
          "text": [
            "RDKit ERROR: [13:54:16] SMILES Parse Error: unclosed ring for input: 'C1CCCC2(CCC1)C1CCC3CC2C3'\n",
            "RDKit ERROR: [13:54:17] SMILES Parse Error: extra open parentheses for input: 'C1CCC2CCCCC3CC4CCCCC(CCCC4C1'\n",
            "RDKit ERROR: [13:54:17] SMILES Parse Error: unclosed ring for input: 'C1CCCCC2CCC3CC4CCCCC4C3C2CCC'\n"
          ],
          "name": "stderr"
        },
        {
          "output_type": "stream",
          "text": [
            "C1CCCC2(CCC1)C1CCC3CC2C3\n",
            "C1CCC2CCCCC3CC4CCCCC(CCCC4C1\n",
            "C1CCCCC2CCC3CC4CCCCC4C3C2CCC\n"
          ],
          "name": "stdout"
        },
        {
          "output_type": "stream",
          "text": [
            "RDKit ERROR: [13:54:17] SMILES Parse Error: extra open parentheses for input: 'C1CCCC2(CCCCCC2)CCC2CC3(CCCC'\n",
            "RDKit ERROR: [13:54:17] SMILES Parse Error: extra open parentheses for input: 'C1CCCCCC2(CCCCC1)CCC1CCC3(CC'\n",
            "RDKit ERROR: [13:54:17] SMILES Parse Error: unclosed ring for input: 'C1CCC2(CC1)CCCCC1CC3CCCCCC3C'\n",
            "RDKit ERROR: [13:54:17] SMILES Parse Error: extra open parentheses for input: 'c1ccc2c(c1)CCCCCCC1(CCCCCCCC'\n"
          ],
          "name": "stderr"
        },
        {
          "output_type": "stream",
          "text": [
            "C1CCCC2(CCCCCC2)CCC2CC3(CCCC\n",
            "C1CCCCCC2(CCCCC1)CCC1CCC3(CC\n",
            "C1CCC2(CC1)CCCCC1CC3CCCCCC3C\n",
            "c1ccc2c(c1)CCCCCCC1(CCCCCCCC\n"
          ],
          "name": "stdout"
        },
        {
          "output_type": "stream",
          "text": [
            "RDKit ERROR: [13:54:17] SMILES Parse Error: unclosed ring for input: 'c1ccc2c(c1)CC1CCCCC3(CCCC23)'\n",
            "RDKit ERROR: [13:54:17] SMILES Parse Error: unclosed ring for input: 'C1CCCCCC2C3CCCC(CCCC1)CCCCCC'\n",
            "RDKit ERROR: [13:54:17] SMILES Parse Error: extra open parentheses for input: 'C1CC2CCC3CCCC4(CCCCC4)CCC(C1'\n",
            "RDKit ERROR: [13:54:17] SMILES Parse Error: extra open parentheses for input: 'C1CCCC2CCCCC3(CCC4(CCCCC4)C3'\n"
          ],
          "name": "stderr"
        },
        {
          "output_type": "stream",
          "text": [
            "c1ccc2c(c1)CC1CCCCC3(CCCC23)\n",
            "C1CCCCCC2C3CCCC(CCCC1)CCCCCC\n",
            "C1CC2CCC3CCCC4(CCCCC4)CCC(C1\n",
            "C1CCCC2CCCCC3(CCC4(CCCCC4)C3\n"
          ],
          "name": "stdout"
        },
        {
          "output_type": "stream",
          "text": [
            "RDKit ERROR: [13:54:17] SMILES Parse Error: unclosed ring for input: 'C1CCC2CCCC2CCC2CCCC3(CCCC3)C'\n",
            "RDKit ERROR: [13:54:17] SMILES Parse Error: unclosed ring for input: 'C1CCCCC2(CCCC3CCCC(CCC1)C3)C'\n",
            "RDKit ERROR: [13:54:17] SMILES Parse Error: unclosed ring for input: 'C1CCCC2CCCCC3(CCC1)CCCCCC3C1'\n",
            "RDKit ERROR: [13:54:17] SMILES Parse Error: unclosed ring for input: 'c1ccc2c(c1)CCCCCCC1CCCC3CCCC'\n"
          ],
          "name": "stderr"
        },
        {
          "output_type": "stream",
          "text": [
            "C1CCC2CCCC2CCC2CCCC3(CCCC3)C\n",
            "C1CCCCC2(CCCC3CCCC(CCC1)C3)C\n",
            "C1CCCC2CCCCC3(CCC1)CCCCCC3C1\n",
            "c1ccc2c(c1)CCCCCCC1CCCC3CCCC\n"
          ],
          "name": "stdout"
        },
        {
          "output_type": "stream",
          "text": [
            "RDKit ERROR: [13:54:18] SMILES Parse Error: unclosed ring for input: 'C1CCC23CCCCC2CCCC3CC2(CC1)CC'\n",
            "RDKit ERROR: [13:54:18] SMILES Parse Error: unclosed ring for input: 'C1CCCC2CC2CCCCC2(CCCCCCCC2)C'\n",
            "RDKit ERROR: [13:54:18] SMILES Parse Error: unclosed ring for input: 'C1CCCCC2(CCCCCC3(CCC1)CC3)CC'\n",
            "RDKit ERROR: [13:54:18] SMILES Parse Error: unclosed ring for input: 'c1ccc2c(c1)CCCC1(CCCC1)CCCC1'\n"
          ],
          "name": "stderr"
        },
        {
          "output_type": "stream",
          "text": [
            "C1CCC23CCCCC2CCCC3CC2(CC1)CC\n",
            "C1CCCC2CC2CCCCC2(CCCCCCCC2)C\n",
            "C1CCCCC2(CCCCCC3(CCC1)CC3)CC\n",
            "c1ccc2c(c1)CCCC1(CCCC1)CCCC1\n"
          ],
          "name": "stdout"
        },
        {
          "output_type": "stream",
          "text": [
            "RDKit ERROR: [13:54:18] SMILES Parse Error: unclosed ring for input: 'C1CCC2CCCC2C23CCCCC(CC1)CCCC'\n",
            "RDKit ERROR: [13:54:18] SMILES Parse Error: extra open parentheses for input: 'C1CCCC23CCC(CC1)CCCCCC1(CCCC'\n",
            "RDKit ERROR: [13:54:18] SMILES Parse Error: unclosed ring for input: 'c1ccc2c(c1)CCCC1CCC(CCCCCC2)'\n",
            "RDKit ERROR: [13:54:18] SMILES Parse Error: unclosed ring for input: 'C1CCCC2(CCC1)CCCCC1CCCCC1CCC'\n"
          ],
          "name": "stderr"
        },
        {
          "output_type": "stream",
          "text": [
            "C1CCC2CCCC2C23CCCCC(CC1)CCCC\n",
            "C1CCCC23CCC(CC1)CCCCCC1(CCCC\n",
            "c1ccc2c(c1)CCCC1CCC(CCCCCC2)\n",
            "C1CCCC2(CCC1)CCCCC1CCCCC1CCC\n"
          ],
          "name": "stdout"
        },
        {
          "output_type": "stream",
          "text": [
            "RDKit ERROR: [13:54:18] SMILES Parse Error: unclosed ring for input: 'c1cc2c([nH]1)CC1CCCCCCCC23CC'\n",
            "RDKit ERROR: [13:54:18] SMILES Parse Error: unclosed ring for input: 'C1CCCCC2CC3(CCCC3)CCCCC2CCC2'\n",
            "RDKit ERROR: [13:54:18] SMILES Parse Error: ring closure 2 duplicates bond between atom 2 and atom 13 for input: 'C1CC2(CCCC3CCCCC3C1)C21CCC1'\n"
          ],
          "name": "stderr"
        },
        {
          "output_type": "stream",
          "text": [
            "c1cc2c([nH]1)CC1CCCCCCCC23CC\n",
            "C1CCCCC2CC3(CCCC3)CCCCC2CCC2\n",
            "C1CC2(CCCC3CCCCC3C1)C21CCC1\n"
          ],
          "name": "stdout"
        },
        {
          "output_type": "stream",
          "text": [
            "RDKit ERROR: [13:54:18] SMILES Parse Error: unclosed ring for input: 'C1CCCC2(CCCCCC2)CCC2(CCC1)CC'\n",
            "RDKit ERROR: [13:54:18] SMILES Parse Error: extra open parentheses for input: 'c1cc2c([nH]1)CCCCCC1CCC(CCCC'\n",
            "RDKit ERROR: [13:54:18] SMILES Parse Error: unclosed ring for input: 'C1CCCCC2CCC3CC(CCC1)C3CCCC1C'\n",
            "RDKit ERROR: [13:54:18] SMILES Parse Error: extra open parentheses for input: 'C1CCC2(CC1)CCCC1CCCCC3(CCCC3'\n"
          ],
          "name": "stderr"
        },
        {
          "output_type": "stream",
          "text": [
            "C1CCCC2(CCCCCC2)CCC2(CCC1)CC\n",
            "c1cc2c([nH]1)CCCCCC1CCC(CCCC\n",
            "C1CCCCC2CCC3CC(CCC1)C3CCCC1C\n",
            "C1CCC2(CC1)CCCC1CCCCC3(CCCC3\n"
          ],
          "name": "stdout"
        },
        {
          "output_type": "stream",
          "text": [
            "RDKit ERROR: [13:54:19] SMILES Parse Error: unclosed ring for input: 'C1CCCCC2CC3(CCCCC3)C3(CCCC1)'\n",
            "RDKit ERROR: [13:54:19] SMILES Parse Error: extra open parentheses for input: 'C1CCCCCC2CCCC3(CCC4(CCCCC4)C'\n",
            "RDKit ERROR: [13:54:19] SMILES Parse Error: unclosed ring for input: 'C1CCC2CCC3CCC4(CCCC4)CC2C3CC'\n",
            "RDKit ERROR: [13:54:19] SMILES Parse Error: unclosed ring for input: 'C1CCC2CCC(CC2)CC2CCCC3(CC1)C'\n"
          ],
          "name": "stderr"
        },
        {
          "output_type": "stream",
          "text": [
            "C1CCCCC2CC3(CCCCC3)C3(CCCC1)\n",
            "C1CCCCCC2CCCC3(CCC4(CCCCC4)C\n",
            "C1CCC2CCC3CCC4(CCCC4)CC2C3CC\n",
            "C1CCC2CCC(CC2)CC2CCCC3(CC1)C\n"
          ],
          "name": "stdout"
        },
        {
          "output_type": "stream",
          "text": [
            "RDKit ERROR: [13:54:19] SMILES Parse Error: unclosed ring for input: 'C1CCCCCCC2(CCCCCC1)CC1CCCCCC'\n",
            "RDKit ERROR: [13:54:19] SMILES Parse Error: unclosed ring for input: 'C1CCCCCCC2(CCC3CCCCC3CCCC1)C'\n",
            "RDKit ERROR: [13:54:19] SMILES Parse Error: syntax error while parsing: c1ccc2c3c(ccc2c1)CCCCCCCCC1(\n",
            "RDKit ERROR: [13:54:19] SMILES Parse Error: Failed parsing SMILES 'c1ccc2c3c(ccc2c1)CCCCCCCCC1(' for input: 'c1ccc2c3c(ccc2c1)CCCCCCCCC1('\n",
            "RDKit ERROR: [13:54:19] SMILES Parse Error: extra open parentheses for input: 'c1ccc2c(c1)CCC1(CCCCCCCCC3(C'\n"
          ],
          "name": "stderr"
        },
        {
          "output_type": "stream",
          "text": [
            "C1CCCCCCC2(CCCCCC1)CC1CCCCCC\n",
            "C1CCCCCCC2(CCC3CCCCC3CCCC1)C\n",
            "c1ccc2c3c(ccc2c1)CCCCCCCCC1(\n",
            "c1ccc2c(c1)CCC1(CCCCCCCCC3(C\n"
          ],
          "name": "stdout"
        },
        {
          "output_type": "stream",
          "text": [
            "RDKit ERROR: [13:54:19] SMILES Parse Error: unclosed ring for input: 'c1ccc2c(c1)CCCCCC1CCCCC1CCCC'\n",
            "RDKit ERROR: [13:54:19] SMILES Parse Error: unclosed ring for input: 'C1CCC2CCCCC2CCC2CCCCC2C2CCCC'\n",
            "RDKit ERROR: [13:54:19] SMILES Parse Error: unclosed ring for input: 'C1CCCC2CCC3C(CCC1)CCCCCC3C12'\n"
          ],
          "name": "stderr"
        },
        {
          "output_type": "stream",
          "text": [
            "c1ccc2c(c1)CCCCCC1CCCCC1CCCC\n",
            "C1CCC2CCCCC2CCC2CCCCC2C2CCCC\n",
            "C1CCCC2CCC3C(CCC1)CCCCCC3C12\n"
          ],
          "name": "stdout"
        },
        {
          "output_type": "stream",
          "text": [
            "RDKit ERROR: [13:54:19] SMILES Parse Error: extra open parentheses for input: 'C1CCCCC2CCCCC3(CCC4(CCCC1)CC'\n",
            "RDKit ERROR: [13:54:19] SMILES Parse Error: unclosed ring for input: 'C1CCCC2CC2CC2CCCCC2C2(CCC1)C'\n",
            "RDKit ERROR: [13:54:19] SMILES Parse Error: unclosed ring for input: 'c1ccc2c(c1)CCCCCCC1(CCCC1)CC'\n"
          ],
          "name": "stderr"
        },
        {
          "output_type": "stream",
          "text": [
            "C1CCCCC2CCCCC3(CCC4(CCCC1)CC\n",
            "C1CCCC2CC2CC2CCCCC2C2(CCC1)C\n",
            "c1ccc2c(c1)CCCCCCC1(CCCC1)CC\n"
          ],
          "name": "stdout"
        },
        {
          "output_type": "stream",
          "text": [
            "RDKit ERROR: [13:54:20] SMILES Parse Error: unclosed ring for input: 'c1ccc2c(c1)CCCCC1CC3CCCCCC2C'\n",
            "RDKit ERROR: [13:54:20] SMILES Parse Error: unclosed ring for input: 'c1ccc2c(c1)CCCC13CCCCCCCCCCC'\n",
            "RDKit ERROR: [13:54:20] SMILES Parse Error: extra open parentheses for input: 'c1ccc2c(c1)CCC1(CCCC3CCCCCCC'\n"
          ],
          "name": "stderr"
        },
        {
          "output_type": "stream",
          "text": [
            "c1ccc2c(c1)CCCCC1CC3CCCCCC2C\n",
            "c1ccc2c(c1)CCCC13CCCCCCCCCCC\n",
            "c1ccc2c(c1)CCC1(CCCC3CCCCCCC\n"
          ],
          "name": "stdout"
        },
        {
          "output_type": "stream",
          "text": [
            "RDKit ERROR: [13:54:20] SMILES Parse Error: unclosed ring for input: 'C1CCCC2CCC2C2(CCCCC2)CC2CCC2'\n",
            "RDKit ERROR: [13:54:20] SMILES Parse Error: unclosed ring for input: 'C1CCC2(CC1)CCCCCC1(CCCC1)CCC'\n",
            "RDKit ERROR: [13:54:20] SMILES Parse Error: unclosed ring for input: 'C1CCCCCC2CC3CCC4CCC4C2C3CCCC'\n",
            "RDKit ERROR: [13:54:20] SMILES Parse Error: unclosed ring for input: 'c1cc2c([nH]1)CCCCC1CCCCCCC1C'\n"
          ],
          "name": "stderr"
        },
        {
          "output_type": "stream",
          "text": [
            "C1CCCC2CCC2C2(CCCCC2)CC2CCC2\n",
            "C1CCC2(CC1)CCCCCC1(CCCC1)CCC\n",
            "C1CCCCCC2CC3CCC4CCC4C2C3CCCC\n",
            "c1cc2c([nH]1)CCCCC1CCCCCCC1C\n"
          ],
          "name": "stdout"
        },
        {
          "output_type": "stream",
          "text": [
            "RDKit ERROR: [13:54:20] SMILES Parse Error: extra open parentheses for input: 'C1CCCCCC2(CCCCC1)CCC1(CCCC3C'\n",
            "RDKit ERROR: [13:54:20] SMILES Parse Error: unclosed ring for input: 'C1CCCCCC2(CCCCC3CCCCC3CCC1)C'\n",
            "RDKit ERROR: [13:54:20] SMILES Parse Error: extra open parentheses for input: 'C1CCC2CCCC3(CCCCC23)CCCCC2(C'\n",
            "RDKit ERROR: [13:54:20] SMILES Parse Error: unclosed ring for input: 'C1CCCCCC2CCCC3CCCC(CCCC1)C3C'\n"
          ],
          "name": "stderr"
        },
        {
          "output_type": "stream",
          "text": [
            "C1CCCCCC2(CCCCC1)CCC1(CCCC3C\n",
            "C1CCCCCC2(CCCCC3CCCCC3CCC1)C\n",
            "C1CCC2CCCC3(CCCCC23)CCCCC2(C\n",
            "C1CCCCCC2CCCC3CCCC(CCCC1)C3C\n"
          ],
          "name": "stdout"
        },
        {
          "output_type": "stream",
          "text": [
            "RDKit ERROR: [13:54:20] SMILES Parse Error: unclosed ring for input: 'c1ccc2c(c1)C1CCCCCCCCCCCC23C'\n",
            "RDKit ERROR: [13:54:20] SMILES Parse Error: unclosed ring for input: 'C1CCCCC2CC3CCC4CCC(CCCC1)C4C'\n",
            "RDKit ERROR: [13:54:21] SMILES Parse Error: unclosed ring for input: 'c1cc2cc3c([nH]c2c1)CCCCCCCCC'\n",
            "RDKit ERROR: [13:54:21] SMILES Parse Error: unclosed ring for input: 'C1CCCCC23CCCCC4(CCC4)CC2CCC3'\n"
          ],
          "name": "stderr"
        },
        {
          "output_type": "stream",
          "text": [
            "c1ccc2c(c1)C1CCCCCCCCCCCC23C\n",
            "C1CCCCC2CC3CCC4CCC(CCCC1)C4C\n",
            "c1cc2cc3c([nH]c2c1)CCCCCCCCC\n",
            "C1CCCCC23CCCCC4(CCC4)CC2CCC3\n"
          ],
          "name": "stdout"
        },
        {
          "output_type": "stream",
          "text": [
            "RDKit ERROR: [13:54:21] SMILES Parse Error: unclosed ring for input: 'c1cc2c([nH]1)CC1CCC(CCC2)C2C'\n",
            "RDKit ERROR: [13:54:21] SMILES Parse Error: extra open parentheses for input: 'c1[nH]c2c3c1CCCCCCCCCCC1(CC2'\n",
            "RDKit ERROR: [13:54:21] SMILES Parse Error: unclosed ring for input: 'C1CCC2CCCC3(CCC(CC1)C3)CCCCC'\n",
            "RDKit ERROR: [13:54:21] SMILES Parse Error: unclosed ring for input: 'C1CCCC2(CCCC2)C2CC3CCCCC3CCC'\n"
          ],
          "name": "stderr"
        },
        {
          "output_type": "stream",
          "text": [
            "c1cc2c([nH]1)CC1CCC(CCC2)C2C\n",
            "c1[nH]c2c3c1CCCCCCCCCCC1(CC2\n",
            "C1CCC2CCCC3(CCC(CC1)C3)CCCCC\n",
            "C1CCCC2(CCCC2)C2CC3CCCCC3CCC\n"
          ],
          "name": "stdout"
        },
        {
          "output_type": "stream",
          "text": [
            "RDKit ERROR: [13:54:21] SMILES Parse Error: unclosed ring for input: 'C1CCCCCC2C3CCC4CCC(CCCC1)CC2'\n",
            "RDKit ERROR: [13:54:21] SMILES Parse Error: unclosed ring for input: 'C1CCCC2(CCC1)CCCC1(CCCC1)CCC'\n",
            "RDKit ERROR: [13:54:21] SMILES Parse Error: unclosed ring for input: 'C1CCCCC2CCC3(CCC4CC3C4)C2CCC'\n",
            "RDKit ERROR: [13:54:21] SMILES Parse Error: unclosed ring for input: 'C1CC2CCC3CC(CC4CCC(C1)C4)C3C'\n"
          ],
          "name": "stderr"
        },
        {
          "output_type": "stream",
          "text": [
            "C1CCCCCC2C3CCC4CCC(CCCC1)CC2\n",
            "C1CCCC2(CCC1)CCCC1(CCCC1)CCC\n",
            "C1CCCCC2CCC3(CCC4CC3C4)C2CCC\n",
            "C1CC2CCC3CC(CC4CCC(C1)C4)C3C\n"
          ],
          "name": "stdout"
        },
        {
          "output_type": "stream",
          "text": [
            "RDKit ERROR: [13:54:21] SMILES Parse Error: unclosed ring for input: 'C1CCCC2CCCC3(CCC(CC1)C3)C21C'\n",
            "RDKit ERROR: [13:54:21] SMILES Parse Error: extra open parentheses for input: 'c1ccc2c(c1)CCCCCCCC1CCCCC3(C'\n",
            "RDKit ERROR: [13:54:21] SMILES Parse Error: unclosed ring for input: 'C1CCCC2(CC1)CC1CCCCC3(CCC3)C'\n"
          ],
          "name": "stderr"
        },
        {
          "output_type": "stream",
          "text": [
            "C1CCCC2CCCC3(CCC(CC1)C3)C21C\n",
            "c1ccc2c(c1)CCCCCCCC1CCCCC3(C\n",
            "C1CCCC2(CC1)CC1CCCCC3(CCC3)C\n"
          ],
          "name": "stdout"
        },
        {
          "output_type": "stream",
          "text": [
            "RDKit ERROR: [13:54:22] SMILES Parse Error: unclosed ring for input: 'C1CCCCCC2CC3CCC(C3)C23CCCCCC'\n",
            "RDKit ERROR: [13:54:22] SMILES Parse Error: unclosed ring for input: 'C1CCCCC2CCCCC2C2(CCCC1)CCCCC'\n",
            "RDKit ERROR: [13:54:22] SMILES Parse Error: unclosed ring for input: 'C1CCCCC2C3CCCC4CCC(CCCC1)CC4'\n",
            "RDKit ERROR: [13:54:22] SMILES Parse Error: unclosed ring for input: 'C1CCCCCC2CC3CCCC4CCC(CCCC1)C'\n"
          ],
          "name": "stderr"
        },
        {
          "output_type": "stream",
          "text": [
            "C1CCCCCC2CC3CCC(C3)C23CCCCCC\n",
            "C1CCCCC2CCCCC2C2(CCCC1)CCCCC\n",
            "C1CCCCC2C3CCCC4CCC(CCCC1)CC4\n",
            "C1CCCCCC2CC3CCCC4CCC(CCCC1)C\n"
          ],
          "name": "stdout"
        },
        {
          "output_type": "stream",
          "text": [
            "RDKit ERROR: [13:54:22] SMILES Parse Error: unclosed ring for input: 'C1CCC2(CCC2)CC2CCC3CCC(C1)C3'\n",
            "RDKit ERROR: [13:54:22] SMILES Parse Error: unclosed ring for input: 'C1CCCC2CCCC3(CCCC(CC1)C3)CCC'\n",
            "RDKit ERROR: [13:54:22] SMILES Parse Error: unclosed ring for input: 'C1CCCC2(CCCCC2)CC2(CCC1)CCCC'\n",
            "RDKit ERROR: [13:54:22] SMILES Parse Error: unclosed ring for input: 'c1ccc2c(c1)CC1(CCCCCCCCCC2)C'\n"
          ],
          "name": "stderr"
        },
        {
          "output_type": "stream",
          "text": [
            "C1CCC2(CCC2)CC2CCC3CCC(C1)C3\n",
            "C1CCCC2CCCC3(CCCC(CC1)C3)CCC\n",
            "C1CCCC2(CCCCC2)CC2(CCC1)CCCC\n",
            "c1ccc2c(c1)CC1(CCCCCCCCCC2)C\n"
          ],
          "name": "stdout"
        },
        {
          "output_type": "stream",
          "text": [
            "RDKit ERROR: [13:54:22] SMILES Parse Error: unclosed ring for input: 'C1CCCC2CCCCC2C2(CCCCC2)C2CCC'\n",
            "RDKit ERROR: [13:54:22] SMILES Parse Error: unclosed ring for input: 'c1ccc2c(c1)CCC1CCCCCCCC2CCCC'\n",
            "RDKit ERROR: [13:54:22] SMILES Parse Error: unclosed ring for input: 'C1CCCCC2CC3CCC4(CCCC4)C2CC3C'\n"
          ],
          "name": "stderr"
        },
        {
          "output_type": "stream",
          "text": [
            "C1CCCC2CCCCC2C2(CCCCC2)C2CCC\n",
            "c1ccc2c(c1)CCC1CCCCCCCC2CCCC\n",
            "C1CCCCC2CC3CCC4(CCCC4)C2CC3C\n"
          ],
          "name": "stdout"
        },
        {
          "output_type": "stream",
          "text": [
            "RDKit ERROR: [13:54:22] SMILES Parse Error: unclosed ring for input: 'C1CCCCC2(CCCCC2)C2CC(CCC1)CC'\n",
            "RDKit ERROR: [13:54:22] SMILES Parse Error: unclosed ring for input: 'C1CCCC2(CC1)CC1CC3(CCCC3)C1C'\n",
            "RDKit ERROR: [13:54:22] SMILES Parse Error: unclosed ring for input: 'C1CCCC2(CCCCCC3CCCCCC3CC1)CC'\n",
            "RDKit ERROR: [13:54:23] SMILES Parse Error: unclosed ring for input: 'C1CCC2CCC3CCCC4(CCCCC4C1)CCC'\n"
          ],
          "name": "stderr"
        },
        {
          "output_type": "stream",
          "text": [
            "C1CCCCC2(CCCCC2)C2CC(CCC1)CC\n",
            "C1CCCC2(CC1)CC1CC3(CCCC3)C1C\n",
            "C1CCCC2(CCCCCC3CCCCCC3CC1)CC\n",
            "C1CCC2CCC3CCCC4(CCCCC4C1)CCC\n"
          ],
          "name": "stdout"
        },
        {
          "output_type": "stream",
          "text": [
            "RDKit ERROR: [13:54:23] SMILES Parse Error: unclosed ring for input: 'C1CCC2CCCCC2CCCCC23CCCCCC2CC'\n",
            "RDKit ERROR: [13:54:23] SMILES Parse Error: extra open parentheses for input: 'C1CCCC23CCCCC(CC2CC1)C(CCCC3'\n",
            "RDKit ERROR: [13:54:23] SMILES Parse Error: unclosed ring for input: 'C1CCCCCC2CC(CCCC1)C1CCC3CCCC'\n",
            "RDKit ERROR: [13:54:23] SMILES Parse Error: extra open parentheses for input: 'C1CCCCC23CCC(C2)CC3CCC2(CCC1'\n"
          ],
          "name": "stderr"
        },
        {
          "output_type": "stream",
          "text": [
            "C1CCC2CCCCC2CCCCC23CCCCCC2CC\n",
            "C1CCCC23CCCCC(CC2CC1)C(CCCC3\n",
            "C1CCCCCC2CC(CCCC1)C1CCC3CCCC\n",
            "C1CCCCC23CCC(C2)CC3CCC2(CCC1\n"
          ],
          "name": "stdout"
        },
        {
          "output_type": "stream",
          "text": [
            "RDKit ERROR: [13:54:23] SMILES Parse Error: unclosed ring for input: 'C1CCCC2CCCC2C23CCCC(CCC1)CCC'\n",
            "RDKit ERROR: [13:54:23] SMILES Parse Error: unclosed ring for input: 'c1ccc2c3c([nH]c2c1)CCCCCCCC1'\n",
            "RDKit ERROR: [13:54:23] SMILES Parse Error: extra open parentheses for input: 'C1CCC2(CC1)CCC1(CCCCCC3CCC3C'\n",
            "RDKit ERROR: [13:54:23] SMILES Parse Error: extra open parentheses for input: 'C1CCC2(CC1)CCCCCC1CCC(CCCC3C'\n"
          ],
          "name": "stderr"
        },
        {
          "output_type": "stream",
          "text": [
            "C1CCCC2CCCC2C23CCCC(CCC1)CCC\n",
            "c1ccc2c3c([nH]c2c1)CCCCCCCC1\n",
            "C1CCC2(CC1)CCC1(CCCCCC3CCC3C\n",
            "C1CCC2(CC1)CCCCCC1CCC(CCCC3C\n"
          ],
          "name": "stdout"
        },
        {
          "output_type": "stream",
          "text": [
            "RDKit ERROR: [13:54:23] SMILES Parse Error: extra open parentheses for input: 'c1cc2c([nH]1)CCC1CCC(CCCCCCC'\n",
            "RDKit ERROR: [13:54:23] SMILES Parse Error: extra open parentheses for input: 'C1CCCCC2CCC3(CCCC1)CCCCCC1(C'\n"
          ],
          "name": "stderr"
        },
        {
          "output_type": "stream",
          "text": [
            "c1cc2c([nH]1)CCC1CCC(CCCCCCC\n",
            "C1CCCCC2CCC3(CCCC1)CCCCCC1(C\n"
          ],
          "name": "stdout"
        },
        {
          "output_type": "stream",
          "text": [
            "RDKit ERROR: [13:54:23] SMILES Parse Error: unclosed ring for input: 'C1CCC2CC(CCCC3(CC1)CCC3)CC1C'\n",
            "RDKit ERROR: [13:54:23] SMILES Parse Error: unclosed ring for input: 'C1CCCC2CC3CCC(CC4CCC(CC1)C4)'\n",
            "RDKit ERROR: [13:54:23] SMILES Parse Error: unclosed ring for input: 'c1ccc2c(c1)CCCC1CCCCCCC2C12C'\n",
            "RDKit ERROR: [13:54:24] SMILES Parse Error: unclosed ring for input: 'C1CCCC2CC3CCC(CCC1)CC1(CC1)C'\n"
          ],
          "name": "stderr"
        },
        {
          "output_type": "stream",
          "text": [
            "C1CCC2CC(CCCC3(CC1)CCC3)CC1C\n",
            "C1CCCC2CC3CCC(CC4CCC(CC1)C4)\n",
            "c1ccc2c(c1)CCCC1CCCCCCC2C12C\n",
            "C1CCCC2CC3CCC(CCC1)CC1(CC1)C\n"
          ],
          "name": "stdout"
        },
        {
          "output_type": "stream",
          "text": [
            "RDKit ERROR: [13:54:24] SMILES Parse Error: unclosed ring for input: 'C1CCCCCC2(CCCCC1)CCC1CCCCC23'\n",
            "RDKit ERROR: [13:54:24] SMILES Parse Error: unclosed ring for input: 'C1CC2CCC3(CCCC3)CC2CCCCC2CC1'\n",
            "RDKit ERROR: [13:54:24] SMILES Parse Error: unclosed ring for input: 'C1CCCCC2(CCCC1)CC1(CCCCC1)CC'\n",
            "RDKit ERROR: [13:54:24] SMILES Parse Error: extra open parentheses for input: 'C1CCC2CCC(CCCC3CCC4(CCCCC4)C'\n"
          ],
          "name": "stderr"
        },
        {
          "output_type": "stream",
          "text": [
            "C1CCCCCC2(CCCCC1)CCC1CCCCC23\n",
            "C1CC2CCC3(CCCC3)CC2CCCCC2CC1\n",
            "C1CCCCC2(CCCC1)CC1(CCCCC1)CC\n",
            "C1CCC2CCC(CCCC3CCC4(CCCCC4)C\n"
          ],
          "name": "stdout"
        },
        {
          "output_type": "stream",
          "text": [
            "RDKit ERROR: [13:54:24] SMILES Parse Error: unclosed ring for input: 'C1CCCCC23CCC(CCC1)CCCCCCCCC1'\n",
            "RDKit ERROR: [13:54:24] SMILES Parse Error: unclosed ring for input: 'C1CCCC2(CCCC2)C2(CCC1)CCCCC1'\n",
            "RDKit ERROR: [13:54:24] SMILES Parse Error: unclosed ring for input: 'C1CCCC2(CCC1)CCCCC1CC3(CC3)C'\n",
            "RDKit ERROR: [13:54:24] SMILES Parse Error: extra open parentheses for input: 'C1CCC2CC3(CCCCC3)CC3CCCC(CC1'\n"
          ],
          "name": "stderr"
        },
        {
          "output_type": "stream",
          "text": [
            "C1CCCCC23CCC(CCC1)CCCCCCCCC1\n",
            "C1CCCC2(CCCC2)C2(CCC1)CCCCC1\n",
            "C1CCCC2(CCC1)CCCCC1CC3(CC3)C\n",
            "C1CCC2CC3(CCCCC3)CC3CCCC(CC1\n"
          ],
          "name": "stdout"
        },
        {
          "output_type": "stream",
          "text": [
            "RDKit ERROR: [13:54:24] SMILES Parse Error: extra open parentheses for input: 'C1CCCCC2(CCCCC2)C2(CCC2)C2(C'\n",
            "RDKit ERROR: [13:54:24] SMILES Parse Error: extra open parentheses for input: 'c1ccc2c(c1)CCC1CCCCCC(CCCC3C'\n",
            "RDKit ERROR: [13:54:24] SMILES Parse Error: unclosed ring for input: 'C1CC2C3CCC(C3)C2CCC2C1'\n"
          ],
          "name": "stderr"
        },
        {
          "output_type": "stream",
          "text": [
            "C1CCCCC2(CCCCC2)C2(CCC2)C2(C\n",
            "c1ccc2c(c1)CCC1CCCCCC(CCCC3C\n",
            "C1CC2C3CCC(C3)C2CCC2C1\n"
          ],
          "name": "stdout"
        },
        {
          "output_type": "stream",
          "text": [
            "RDKit ERROR: [13:54:24] SMILES Parse Error: extra open parentheses for input: 'C1CCCCC23CCCCC2(CCCC1)CC1(CC'\n",
            "RDKit ERROR: [13:54:25] SMILES Parse Error: unclosed ring for input: 'c1cc2c([nH]1)CCCCCC1CC3CCCC2'\n",
            "RDKit ERROR: [13:54:25] SMILES Parse Error: unclosed ring for input: 'C1CCCCC23CCCC2CC(CCC1)C1CCCC'\n"
          ],
          "name": "stderr"
        },
        {
          "output_type": "stream",
          "text": [
            "C1CCCCC23CCCCC2(CCCC1)CC1(CC\n",
            "c1cc2c([nH]1)CCCCCC1CC3CCCC2\n",
            "C1CCCCC23CCCC2CC(CCC1)C1CCCC"
          ],
          "name": "stdout"
        },
        {
          "output_type": "stream",
          "text": [
            "RDKit ERROR: [13:54:25] SMILES Parse Error: unclosed ring for input: 'C1CCCC2(CCCC2)C2CCC3CCC(CC1)'\n",
            "RDKit ERROR: [13:54:25] SMILES Parse Error: unclosed ring for input: 'C1CCC2CC(C1)CCC1CCCC3(CC3)CC'\n",
            "RDKit ERROR: [13:54:25] SMILES Parse Error: syntax error while parsing: C1CCCCCC2CC3CC(CCCC1)CCCCC1(\n",
            "RDKit ERROR: [13:54:25] SMILES Parse Error: Failed parsing SMILES 'C1CCCCCC2CC3CC(CCCC1)CCCCC1(' for input: 'C1CCCCCC2CC3CC(CCCC1)CCCCC1('\n"
          ],
          "name": "stderr"
        },
        {
          "output_type": "stream",
          "text": [
            "\n",
            "C1CCCC2(CCCC2)C2CCC3CCC(CC1)\n",
            "C1CCC2CC(C1)CCC1CCCC3(CC3)CC\n",
            "C1CCCCCC2CC3CC(CCCC1)CCCCC1(\n"
          ],
          "name": "stdout"
        },
        {
          "output_type": "stream",
          "text": [
            "RDKit ERROR: [13:54:25] SMILES Parse Error: unclosed ring for input: 'C1CCCCC2C3CCC(CCC1)C3C1CCCC2'\n",
            "RDKit ERROR: [13:54:25] SMILES Parse Error: unclosed ring for input: 'C1CCCCC2(CCCC3(CCC1)CCCC3)CC'\n",
            "RDKit ERROR: [13:54:25] SMILES Parse Error: extra open parentheses for input: 'c1ccc2c(c1)CCCCC1(CCCCCCCCCC'\n",
            "RDKit ERROR: [13:54:25] SMILES Parse Error: syntax error while parsing: C1CCCCCC2(CCCC3(CCCC3)C2)C2(\n",
            "RDKit ERROR: [13:54:25] SMILES Parse Error: Failed parsing SMILES 'C1CCCCCC2(CCCC3(CCCC3)C2)C2(' for input: 'C1CCCCCC2(CCCC3(CCCC3)C2)C2('\n"
          ],
          "name": "stderr"
        },
        {
          "output_type": "stream",
          "text": [
            "C1CCCCC2C3CCC(CCC1)C3C1CCCC2\n",
            "C1CCCCC2(CCCC3(CCC1)CCCC3)CC\n",
            "c1ccc2c(c1)CCCCC1(CCCCCCCCCC\n",
            "C1CCCCCC2(CCCC3(CCCC3)C2)C2(\n"
          ],
          "name": "stdout"
        },
        {
          "output_type": "stream",
          "text": [
            "RDKit ERROR: [13:54:25] SMILES Parse Error: unclosed ring for input: 'c1ccc2c(c1)CCC1(CCC1)C1CCCC2'\n",
            "RDKit ERROR: [13:54:25] SMILES Parse Error: unclosed ring for input: 'C1CCCC2(CCCCCC3CCCC(CC1)C3)C'\n",
            "RDKit ERROR: [13:54:25] SMILES Parse Error: unclosed ring for input: 'C1CCC2CCC(CCCC3CC4CCCC3C4C1)'\n",
            "RDKit ERROR: [13:54:25] SMILES Parse Error: unclosed ring for input: 'C1CCC2CCCCC2CCCC2CCCC(CC1)CC'\n"
          ],
          "name": "stderr"
        },
        {
          "output_type": "stream",
          "text": [
            "c1ccc2c(c1)CCC1(CCC1)C1CCCC2\n",
            "C1CCCC2(CCCCCC3CCCC(CC1)C3)C\n",
            "C1CCC2CCC(CCCC3CC4CCCC3C4C1)\n",
            "C1CCC2CCCCC2CCCC2CCCC(CC1)CC\n"
          ],
          "name": "stdout"
        },
        {
          "output_type": "stream",
          "text": [
            "RDKit ERROR: [13:54:25] SMILES Parse Error: unclosed ring for input: 'C1CC2(C1)CCCC1CC3CCC(CCC23)C'\n",
            "RDKit ERROR: [13:54:25] SMILES Parse Error: unclosed ring for input: 'C1CCC2CC(C2)CC2CCCCC3(CC1)CC'\n",
            "RDKit ERROR: [13:54:26] SMILES Parse Error: unclosed ring for input: 'C1CCCC2CCC(CCC1)C1CC3(CCCC3)'\n",
            "RDKit ERROR: [13:54:26] SMILES Parse Error: extra open parentheses for input: 'c1cc2c([nH]1)CC1CCCCC3(CCCCC'\n"
          ],
          "name": "stderr"
        },
        {
          "output_type": "stream",
          "text": [
            "C1CC2(C1)CCCC1CC3CCC(CCC23)C\n",
            "C1CCC2CC(C2)CC2CCCCC3(CC1)CC\n",
            "C1CCCC2CCC(CCC1)C1CC3(CCCC3)\n",
            "c1cc2c([nH]1)CC1CCCCC3(CCCCC\n"
          ],
          "name": "stdout"
        },
        {
          "output_type": "stream",
          "text": [
            "RDKit ERROR: [13:54:26] SMILES Parse Error: unclosed ring for input: 'c1ccc2c(c1)CCCCCC1(CCCC1)CCC'\n",
            "RDKit ERROR: [13:54:26] SMILES Parse Error: unclosed ring for input: 'C1CCC2CC3CCC4CCC(CCCC2C4)C3C'\n",
            "RDKit ERROR: [13:54:26] SMILES Parse Error: unclosed ring for input: 'C1CCC2(CC1)CC1CCC3CCCCCCC2C3'\n",
            "RDKit ERROR: [13:54:26] SMILES Parse Error: unclosed ring for input: 'C1CCCC2CCCCCC2CCC2CCC3CCC2CC'\n"
          ],
          "name": "stderr"
        },
        {
          "output_type": "stream",
          "text": [
            "c1ccc2c(c1)CCCCCC1(CCCC1)CCC\n",
            "C1CCC2CC3CCC4CCC(CCCC2C4)C3C\n",
            "C1CCC2(CC1)CC1CCC3CCCCCCC2C3\n",
            "C1CCCC2CCCCCC2CCC2CCC3CCC2CC\n"
          ],
          "name": "stdout"
        },
        {
          "output_type": "stream",
          "text": [
            "RDKit ERROR: [13:54:26] SMILES Parse Error: extra open parentheses for input: 'C1CCC2(CCC2)CC2CCC(CC3CCCC3C'\n",
            "RDKit ERROR: [13:54:26] SMILES Parse Error: unclosed ring for input: 'C1CCC2(CC1)CCCCC1CCCCC3CCCCC'\n",
            "RDKit ERROR: [13:54:26] SMILES Parse Error: unclosed ring for input: 'C1CC2CCC3CCCC4CCC(CCCC4C1)C3'\n"
          ],
          "name": "stderr"
        },
        {
          "output_type": "stream",
          "text": [
            "C1CCC2(CCC2)CC2CCC(CC3CCCC3C\n",
            "C1CCC2(CC1)CCCCC1CCCCC3CCCCC\n",
            "C1CC2CCC3CCCC4CCC(CCCC4C1)C3\n"
          ],
          "name": "stdout"
        },
        {
          "output_type": "stream",
          "text": [
            "RDKit ERROR: [13:54:26] SMILES Parse Error: unclosed ring for input: 'C1CCCC2CCC3CC4CCCC4(CCC1)C3C'\n",
            "RDKit ERROR: [13:54:26] SMILES Parse Error: unclosed ring for input: 'C1CCCC2CCCC2CCCC2(CCC1)CCCCC'\n",
            "RDKit ERROR: [13:54:26] SMILES Parse Error: unclosed ring for input: 'C1CC2(C1)CCCC1CC3CCC(CCC21)C'\n"
          ],
          "name": "stderr"
        },
        {
          "output_type": "stream",
          "text": [
            "C1CCCC2CCC3CC4CCCC4(CCC1)C3C\n",
            "C1CCCC2CCCC2CCCC2(CCC1)CCCCC\n",
            "C1CC2(C1)CCCC1CC3CCC(CCC21)C\n"
          ],
          "name": "stdout"
        },
        {
          "output_type": "stream",
          "text": [
            "RDKit ERROR: [13:54:26] SMILES Parse Error: unclosed ring for input: 'C1CCCCCC23CCC4CCC(CCCC1)CCCC'\n",
            "RDKit ERROR: [13:54:27] SMILES Parse Error: unclosed ring for input: 'C1CC2CC3CCCC(C1)C3C1CC2'\n",
            "RDKit ERROR: [13:54:27] SMILES Parse Error: unclosed ring for input: 'C1CCC2CCCCC2CCCC2CCCC3CCCC3C'\n",
            "RDKit ERROR: [13:54:27] SMILES Parse Error: unclosed ring for input: 'c1cc2c([nH]1)CC13CCCCCCCCCCC'\n"
          ],
          "name": "stderr"
        },
        {
          "output_type": "stream",
          "text": [
            "C1CCCCCC23CCC4CCC(CCCC1)CCCC\n",
            "C1CC2CC3CCCC(C1)C3C1CC2\n",
            "C1CCC2CCCCC2CCCC2CCCC3CCCC3C\n",
            "c1cc2c([nH]1)CC13CCCCCCCCCCC\n"
          ],
          "name": "stdout"
        },
        {
          "output_type": "stream",
          "text": [
            "RDKit ERROR: [13:54:27] SMILES Parse Error: extra open parentheses for input: 'C1CCC2CCCCC2CCCC2CCCC3CCC(CC'\n",
            "RDKit ERROR: [13:54:27] SMILES Parse Error: unclosed ring for input: 'C1CCC2CC3CCCC4CCCC(CCCC4C1)C'\n",
            "RDKit ERROR: [13:54:27] SMILES Parse Error: unclosed ring for input: 'C1CCC23CCCC4CCCC(C4)CC(C1)C2'\n",
            "RDKit ERROR: [13:54:27] SMILES Parse Error: extra open parentheses for input: 'C1CCCCCC2CC(CCCCC1)CC1(CCCCC'\n"
          ],
          "name": "stderr"
        },
        {
          "output_type": "stream",
          "text": [
            "C1CCC2CCCCC2CCCC2CCCC3CCC(CC\n",
            "C1CCC2CC3CCCC4CCCC(CCCC4C1)C\n",
            "C1CCC23CCCC4CCCC(C4)CC(C1)C2\n",
            "C1CCCCCC2CC(CCCCC1)CC1(CCCCC\n"
          ],
          "name": "stdout"
        },
        {
          "output_type": "stream",
          "text": [
            "RDKit ERROR: [13:54:27] SMILES Parse Error: extra open parentheses for input: 'C1CCCCCCC2(CCCCCC1)CCC1CC3(C'\n",
            "RDKit ERROR: [13:54:27] SMILES Parse Error: unclosed ring for input: 'C1CCCC2CCCCC23CCCC2CCCC2CC3C'\n",
            "RDKit ERROR: [13:54:27] SMILES Parse Error: unclosed ring for input: 'C1CCCC2(CCCCC2)CCC2(CCC1)CCC'\n",
            "RDKit ERROR: [13:54:27] SMILES Parse Error: unclosed ring for input: 'c1cc2c([nH]1)CC1CCC3CCCCCCCC'\n"
          ],
          "name": "stderr"
        },
        {
          "output_type": "stream",
          "text": [
            "C1CCCCCCC2(CCCCCC1)CCC1CC3(C\n",
            "C1CCCC2CCCCC23CCCC2CCCC2CC3C\n",
            "C1CCCC2(CCCCC2)CCC2(CCC1)CCC\n",
            "c1cc2c([nH]1)CC1CCC3CCCCCCCC"
          ],
          "name": "stdout"
        },
        {
          "output_type": "stream",
          "text": [
            "RDKit ERROR: [13:54:27] SMILES Parse Error: unclosed ring for input: 'C1CCCCC2(CCCCC2)C2(CCCCCC2)C'\n",
            "RDKit ERROR: [13:54:27] SMILES Parse Error: unclosed ring for input: 'C1CC2CC(C1)CC1CC3CCCCC(CC2)C'\n",
            "RDKit ERROR: [13:54:27] SMILES Parse Error: unclosed ring for input: 'c1cc2c([nH]1)CCC1(CCCC1)CCCC'\n"
          ],
          "name": "stderr"
        },
        {
          "output_type": "stream",
          "text": [
            "\n",
            "C1CCCCC2(CCCCC2)C2(CCCCCC2)C\n",
            "C1CC2CC(C1)CC1CC3CCCCC(CC2)C\n",
            "c1cc2c([nH]1)CCC1(CCCC1)CCCC\n"
          ],
          "name": "stdout"
        },
        {
          "output_type": "stream",
          "text": [
            "RDKit ERROR: [13:54:27] SMILES Parse Error: extra open parentheses for input: 'C1CCCC2CCCCC3(CCCC3)C3(CCCC1'\n",
            "RDKit ERROR: [13:54:28] SMILES Parse Error: unclosed ring for input: 'c1cc2c([nH]1)CC1CCCCCCCC2C2C'\n",
            "RDKit ERROR: [13:54:28] SMILES Parse Error: unclosed ring for input: 'C1CCCCC2CCCCC2CCC2CCCC3CCCCC'\n"
          ],
          "name": "stderr"
        },
        {
          "output_type": "stream",
          "text": [
            "C1CCCC2CCCCC3(CCCC3)C3(CCCC1\n",
            "c1cc2c([nH]1)CC1CCCCCCCC2C2C\n",
            "C1CCCCC2CCCCC2CCC2CCCC3CCCCC\n"
          ],
          "name": "stdout"
        },
        {
          "output_type": "stream",
          "text": [
            "RDKit ERROR: [13:54:28] SMILES Parse Error: unclosed ring for input: 'C1CCCC2(CCC2)CC2CCC(CC1)CC21'\n",
            "RDKit ERROR: [13:54:28] SMILES Parse Error: unclosed ring for input: 'C1CCCC2CCC3CCC4(CCCCC4)CCC23'\n",
            "RDKit ERROR: [13:54:28] SMILES Parse Error: extra open parentheses for input: 'c1ccc2c(c1)CCCCCCCC13CCC(CCC'\n",
            "RDKit ERROR: [13:54:28] SMILES Parse Error: unclosed ring for input: 'C1CCCC2(CCC3CCCC3C3CCC3CC1)C'\n"
          ],
          "name": "stderr"
        },
        {
          "output_type": "stream",
          "text": [
            "C1CCCC2(CCC2)CC2CCC(CC1)CC21\n",
            "C1CCCC2CCC3CCC4(CCCCC4)CCC23\n",
            "c1ccc2c(c1)CCCCCCCC13CCC(CCC\n",
            "C1CCCC2(CCC3CCCC3C3CCC3CC1)C\n"
          ],
          "name": "stdout"
        },
        {
          "output_type": "stream",
          "text": [
            "RDKit ERROR: [13:54:28] SMILES Parse Error: extra open parentheses for input: 'C1CCCCC2CCCCC2CCCC23CCCCC2(C'\n",
            "RDKit ERROR: [13:54:28] SMILES Parse Error: unclosed ring for input: 'c1ccc2c(c1)CCCCC1CCCCCCC1CCC'\n",
            "RDKit ERROR: [13:54:28] SMILES Parse Error: unclosed ring for input: 'C1CCC2(CC1)CCC1(CCCCCC23CC3)'\n"
          ],
          "name": "stderr"
        },
        {
          "output_type": "stream",
          "text": [
            "C1CCCCC2CCCCC2CCCC23CCCCC2(C\n",
            "c1ccc2c(c1)CCCCC1CCCCCCC1CCC\n",
            "C1CCC2(CC1)CCC1(CCCCCC23CC3)\n"
          ],
          "name": "stdout"
        },
        {
          "output_type": "stream",
          "text": [
            "RDKit ERROR: [13:54:28] SMILES Parse Error: unclosed ring for input: 'c1cc2c3c(c1)CCCCC1CCCCCC1CC2'\n",
            "RDKit ERROR: [13:54:28] SMILES Parse Error: extra open parentheses for input: 'C1CCCCCC2CC3CC(CCC4CCCC4)C(C'\n",
            "RDKit ERROR: [13:54:28] SMILES Parse Error: extra open parentheses for input: 'C1CCCC2CCC3CCC(CCC1)CC1(CCCC'\n",
            "RDKit ERROR: [13:54:28] SMILES Parse Error: unclosed ring for input: 'C1CC2CCC3CCC4(CCC4)CC3C1'\n"
          ],
          "name": "stderr"
        },
        {
          "output_type": "stream",
          "text": [
            "c1cc2c3c(c1)CCCCC1CCCCCC1CC2\n",
            "C1CCCCCC2CC3CC(CCC4CCCC4)C(C\n",
            "C1CCCC2CCC3CCC(CCC1)CC1(CCCC\n",
            "C1CC2CCC3CCC4(CCC4)CC3C1\n"
          ],
          "name": "stdout"
        },
        {
          "output_type": "stream",
          "text": [
            "RDKit ERROR: [13:54:29] SMILES Parse Error: extra open parentheses for input: 'C1CCCCCC2(CCCCC1)CCCC1CCC3(C'\n",
            "RDKit ERROR: [13:54:29] SMILES Parse Error: unclosed ring for input: 'c1ccc2c(c1)CC1CCCCCCCCC3CC2C'\n",
            "RDKit ERROR: [13:54:29] SMILES Parse Error: unclosed ring for input: 'C1CCC2CCCC3(CCCCC3)C3(CCCC3)'\n"
          ],
          "name": "stderr"
        },
        {
          "output_type": "stream",
          "text": [
            "C1CCCCCC2(CCCCC1)CCCC1CCC3(C\n",
            "c1ccc2c(c1)CC1CCCCCCCCC3CC2C\n",
            "C1CCC2CCCC3(CCCCC3)C3(CCCC3)\n"
          ],
          "name": "stdout"
        },
        {
          "output_type": "stream",
          "text": [
            "RDKit ERROR: [13:54:29] SMILES Parse Error: unclosed ring for input: 'C1CCC2CCC(CC2)C2CCC3(CCCC3)C'\n",
            "RDKit ERROR: [13:54:29] SMILES Parse Error: extra open parentheses for input: 'C1CCC2CCC3(CCCCC3)CCCC3(CCCC'\n",
            "RDKit ERROR: [13:54:29] SMILES Parse Error: unclosed ring for input: 'c1cc2c([nH]1)CCCCC1(CCCC1)C1'\n",
            "RDKit ERROR: [13:54:29] SMILES Parse Error: unclosed ring for input: 'C1CCCCC2CCCC3C4CCC(CCCC1)CC3'\n"
          ],
          "name": "stderr"
        },
        {
          "output_type": "stream",
          "text": [
            "C1CCC2CCC(CC2)C2CCC3(CCCC3)C\n",
            "C1CCC2CCC3(CCCCC3)CCCC3(CCCC\n",
            "c1cc2c([nH]1)CCCCC1(CCCC1)C1\n",
            "C1CCCCC2CCCC3C4CCC(CCCC1)CC3\n"
          ],
          "name": "stdout"
        },
        {
          "output_type": "stream",
          "text": [
            "RDKit ERROR: [13:54:29] SMILES Parse Error: unclosed ring for input: 'c1ccc2c(c1)CCC1(CCCCC1)C1CCC'\n",
            "RDKit ERROR: [13:54:29] SMILES Parse Error: unclosed ring for input: 'C1CCCCC2(CCCC1)CCC1CCCC3CCC3'\n",
            "RDKit ERROR: [13:54:29] SMILES Parse Error: extra open parentheses for input: 'C1CCCCCCC23CCC(CCCC1)CC1(CCC'\n",
            "RDKit ERROR: [13:54:29] SMILES Parse Error: extra open parentheses for input: 'C1CCCC2(CCCCC3(CCCC3)C2)C2(C'\n"
          ],
          "name": "stderr"
        },
        {
          "output_type": "stream",
          "text": [
            "c1ccc2c(c1)CCC1(CCCCC1)C1CCC\n",
            "C1CCCCC2(CCCC1)CCC1CCCC3CCC3\n",
            "C1CCCCCCC23CCC(CCCC1)CC1(CCC\n",
            "C1CCCC2(CCCCC3(CCCC3)C2)C2(C\n"
          ],
          "name": "stdout"
        },
        {
          "output_type": "stream",
          "text": [
            "RDKit ERROR: [13:54:29] SMILES Parse Error: extra open parentheses for input: 'C1CCC2(CC1)CC1CCC3CCC(CCCC23'\n",
            "RDKit ERROR: [13:54:29] SMILES Parse Error: extra open parentheses for input: 'C1CCCCC2(CCCC3CCCCC3(CCC1)C2'\n",
            "RDKit ERROR: [13:54:29] SMILES Parse Error: unclosed ring for input: 'c1[nH]c2c3c1CC1(CCCCCCCCC2)C'\n",
            "RDKit ERROR: [13:54:29] SMILES Parse Error: unclosed ring for input: 'C1CCCCC2CCCC3CC4CCC(CCC1)CCC'\n"
          ],
          "name": "stderr"
        },
        {
          "output_type": "stream",
          "text": [
            "C1CCC2(CC1)CC1CCC3CCC(CCCC23\n",
            "C1CCCCC2(CCCC3CCCCC3(CCC1)C2\n",
            "c1[nH]c2c3c1CC1(CCCCCCCCC2)C\n",
            "C1CCCCC2CCCC3CC4CCC(CCC1)CCC\n"
          ],
          "name": "stdout"
        },
        {
          "output_type": "stream",
          "text": [
            "RDKit ERROR: [13:54:30] SMILES Parse Error: unclosed ring for input: 'C1CCC2CCC2CCCC2CC3(CCCC3)CCC'\n",
            "RDKit ERROR: [13:54:30] SMILES Parse Error: unclosed ring for input: 'C1CCCC2(CCCCC3(CC1)CCCC3)CCC'\n",
            "RDKit ERROR: [13:54:30] SMILES Parse Error: extra open parentheses for input: 'c1cc2c([nH]1)CCC1(CCCCC3(CC3'\n"
          ],
          "name": "stderr"
        },
        {
          "output_type": "stream",
          "text": [
            "C1CCC2CCC2CCCC2CC3(CCCC3)CCC\n",
            "C1CCCC2(CCCCC3(CC1)CCCC3)CCC\n",
            "c1cc2c([nH]1)CCC1(CCCCC3(CC3\n"
          ],
          "name": "stdout"
        },
        {
          "output_type": "stream",
          "text": [
            "RDKit ERROR: [13:54:30] SMILES Parse Error: extra open parentheses for input: 'C1CCCC2CC3CCCCCC3CC2CC2(CCC1'\n",
            "RDKit ERROR: [13:54:30] SMILES Parse Error: extra open parentheses for input: 'c1cc2c([nH]1)C1CC3CCC(CCCCC2'\n",
            "RDKit ERROR: [13:54:30] SMILES Parse Error: unclosed ring for input: 'C1CCCCC2CCC3(CCCC4(CCCC4)C3)'\n",
            "RDKit ERROR: [13:54:30] SMILES Parse Error: unclosed ring for input: 'C1CCC2(CC1)CCCCC1CCCCC1CCCC1'\n"
          ],
          "name": "stderr"
        },
        {
          "output_type": "stream",
          "text": [
            "C1CCCC2CC3CCCCCC3CC2CC2(CCC1\n",
            "c1cc2c([nH]1)C1CC3CCC(CCCCC2\n",
            "C1CCCCC2CCC3(CCCC4(CCCC4)C3)\n",
            "C1CCC2(CC1)CCCCC1CCCCC1CCCC1\n"
          ],
          "name": "stdout"
        },
        {
          "output_type": "stream",
          "text": [
            "RDKit ERROR: [13:54:30] SMILES Parse Error: extra open parentheses for input: 'C1CCC2CCCCC2CCCCC3(CCCC4(CC1'\n",
            "RDKit ERROR: [13:54:30] SMILES Parse Error: unclosed ring for input: 'C1CCC2CCCC23CCCC2CCCC2CCC3CC'\n",
            "RDKit ERROR: [13:54:30] SMILES Parse Error: extra open parentheses for input: 'C1CCC2(CC1)CCC1(CCCCC3CCCC3C'\n",
            "RDKit ERROR: [13:54:30] SMILES Parse Error: extra open parentheses for input: 'C1CCCCCC2(CCCCC1)CC1(CCCCCC2'\n"
          ],
          "name": "stderr"
        },
        {
          "output_type": "stream",
          "text": [
            "C1CCC2CCCCC2CCCCC3(CCCC4(CC1\n",
            "C1CCC2CCCC23CCCC2CCCC2CCC3CC\n",
            "C1CCC2(CC1)CCC1(CCCCC3CCCC3C\n",
            "C1CCCCCC2(CCCCC1)CC1(CCCCCC2"
          ],
          "name": "stdout"
        },
        {
          "output_type": "stream",
          "text": [
            "RDKit ERROR: [13:54:30] SMILES Parse Error: unclosed ring for input: 'c1ccc2c(c1)CCC1(CCCC1)CCCC1C'\n",
            "RDKit ERROR: [13:54:30] SMILES Parse Error: unclosed ring for input: 'C1CCCC2C(CCC1)C1CC3CCCCCC3C2'\n"
          ],
          "name": "stderr"
        },
        {
          "output_type": "stream",
          "text": [
            "\n",
            "c1ccc2c(c1)CCC1(CCCC1)CCCC1C\n",
            "C1CCCC2C(CCC1)C1CC3CCCCCC3C2\n"
          ],
          "name": "stdout"
        },
        {
          "output_type": "stream",
          "text": [
            "RDKit ERROR: [13:54:31] SMILES Parse Error: unclosed ring for input: 'C1CCC2(CCC2)CC2CCCC3(CCCC3)C'\n",
            "RDKit ERROR: [13:54:31] SMILES Parse Error: unclosed ring for input: 'C1CCCCCCC2C(CCCCC1)CCCC1CCCC'\n",
            "RDKit ERROR: [13:54:31] SMILES Parse Error: unclosed ring for input: 'C1CCC2CCCCC2CCCC(C2)CCC(CC2)'\n",
            "RDKit ERROR: [13:54:31] SMILES Parse Error: unclosed ring for input: 'C1CCC2C3CCC(CC1)CC1(CCCCC1)C'\n"
          ],
          "name": "stderr"
        },
        {
          "output_type": "stream",
          "text": [
            "C1CCC2(CCC2)CC2CCCC3(CCCC3)C\n",
            "C1CCCCCCC2C(CCCCC1)CCCC1CCCC\n",
            "C1CCC2CCCCC2CCCC(C2)CCC(CC2)\n",
            "C1CCC2C3CCC(CC1)CC1(CCCCC1)C\n",
            "C1CCC2(CC1)CCCCCC1(CCCC1)CCC\n",
            "C1CC2CCC(CCCC3CC4(CCCC4C1)C3\n",
            "C1CCC2CC3(CCCCC3)CCC2CCCCC2C\n"
          ],
          "name": "stdout"
        },
        {
          "output_type": "stream",
          "text": [
            "RDKit ERROR: [13:54:31] SMILES Parse Error: unclosed ring for input: 'C1CCC2(CC1)CCCCCC1(CCCC1)CCC'\n",
            "RDKit ERROR: [13:54:31] SMILES Parse Error: extra open parentheses for input: 'C1CC2CCC(CCCC3CC4(CCCC4C1)C3'\n",
            "RDKit ERROR: [13:54:31] SMILES Parse Error: unclosed ring for input: 'C1CCC2CC3(CCCCC3)CCC2CCCCC2C'\n",
            "RDKit ERROR: [13:54:31] SMILES Parse Error: extra open parentheses for input: 'c1cc2c(c3[nH]c1CCCC1CCCCCCCC'\n"
          ],
          "name": "stderr"
        },
        {
          "output_type": "stream",
          "text": [
            "c1cc2c(c3[nH]c1CCCC1CCCCCCCC\n",
            "C1CCC2CCCC2CCCC2CCC3CCCC(CC1\n",
            "C1CCCC23CCCCC2(CCCCC2CCCC2CC\n",
            "C1CCCCC2CCCC2C23CCCCCC2(CCCC\n"
          ],
          "name": "stdout"
        },
        {
          "output_type": "stream",
          "text": [
            "RDKit ERROR: [13:54:31] SMILES Parse Error: extra open parentheses for input: 'C1CCC2CCCC2CCCC2CCC3CCCC(CC1'\n",
            "RDKit ERROR: [13:54:31] SMILES Parse Error: extra open parentheses for input: 'C1CCCC23CCCCC2(CCCCC2CCCC2CC'\n",
            "RDKit ERROR: [13:54:31] SMILES Parse Error: extra open parentheses for input: 'C1CCCCC2CCCC2C23CCCCCC2(CCCC'\n",
            "RDKit ERROR: [13:54:31] SMILES Parse Error: unclosed ring for input: 'C1CCC2CC3(CCCC3)CCC2CC2CCCC2'\n"
          ],
          "name": "stderr"
        },
        {
          "output_type": "stream",
          "text": [
            "C1CCC2CC3(CCCC3)CCC2CC2CCCC2\n",
            "C1CCCC2(CCCCC2)CCCC2CCCCC23C\n",
            "C1CCCCCC2(CCCCC1)CC1CCC3CC2C\n",
            "C1CCCC2(CCC3CCC4(CCC4)C3)CC2\n"
          ],
          "name": "stdout"
        },
        {
          "output_type": "stream",
          "text": [
            "RDKit ERROR: [13:54:31] SMILES Parse Error: unclosed ring for input: 'C1CCCC2(CCCCC2)CCCC2CCCCC23C'\n",
            "RDKit ERROR: [13:54:31] SMILES Parse Error: unclosed ring for input: 'C1CCCCCC2(CCCCC1)CC1CCC3CC2C'\n",
            "RDKit ERROR: [13:54:32] SMILES Parse Error: unclosed ring for input: 'C1CCCC2(CCC3CCC4(CCC4)C3)CC2'\n",
            "RDKit ERROR: [13:54:32] SMILES Parse Error: unclosed ring for input: 'C1CCCCC23CCCCC4(CCCCC24)CCC3'\n"
          ],
          "name": "stderr"
        },
        {
          "output_type": "stream",
          "text": [
            "C1CCCCC23CCCCC4(CCCCC24)CCC3\n",
            "c1ccc2c(c1)CCC1C3CCCCCCCCCCC\n",
            "C1CCC2CC2CCCC2CCCC(CC1)C21CC\n",
            "C1CCC2CCC3CCCCC(CCC4CCC(C1)C\n"
          ],
          "name": "stdout"
        },
        {
          "output_type": "stream",
          "text": [
            "RDKit ERROR: [13:54:32] SMILES Parse Error: unclosed ring for input: 'c1ccc2c(c1)CCC1C3CCCCCCCCCCC'\n",
            "RDKit ERROR: [13:54:32] SMILES Parse Error: unclosed ring for input: 'C1CCC2CC2CCCC2CCCC(CC1)C21CC'\n",
            "RDKit ERROR: [13:54:32] SMILES Parse Error: extra open parentheses for input: 'C1CCC2CCC3CCCCC(CCC4CCC(C1)C'\n",
            "RDKit ERROR: [13:54:32] SMILES Parse Error: unclosed ring for input: 'C1CCCCC2(CCCCC3CCC4CCCC4C3)C'\n",
            "RDKit ERROR: [13:54:32] SMILES Parse Error: unclosed ring for input: 'c1ccc2c(c1)CC1CCCC3(CCCCC3)C'\n",
            "RDKit ERROR: [13:54:32] SMILES Parse Error: unclosed ring for input: 'C1CCCC2(CCC1)CCC1CCC3(CC3)C1'\n"
          ],
          "name": "stderr"
        },
        {
          "output_type": "stream",
          "text": [
            "C1CCCCC2(CCCCC3CCC4CCCC4C3)C\n",
            "c1ccc2c(c1)CC1CCCC3(CCCCC3)C\n",
            "C1CCCC2(CCC1)CCC1CCC3(CC3)C1\n"
          ],
          "name": "stdout"
        },
        {
          "output_type": "stream",
          "text": [
            "RDKit ERROR: [13:54:32] SMILES Parse Error: unclosed ring for input: 'C1CCCC2C(CCCC2)CC2CCC(CC1)CC'\n",
            "RDKit ERROR: [13:54:32] SMILES Parse Error: extra open parentheses for input: 'C1CC2CCC(CC2)C2(CCCC3(C1)CC3'\n",
            "RDKit ERROR: [13:54:32] SMILES Parse Error: extra open parentheses for input: 'C1CCCC2(CCCCC2)CCC23CCCC(CCC'\n",
            "RDKit ERROR: [13:54:32] SMILES Parse Error: unclosed ring for input: 'C1CCCCC2(CCC1)C1CCCCCC2C12'\n"
          ],
          "name": "stderr"
        },
        {
          "output_type": "stream",
          "text": [
            "C1CCCC2C(CCCC2)CC2CCC(CC1)CC\n",
            "C1CC2CCC(CC2)C2(CCCC3(C1)CC3\n",
            "C1CCCC2(CCCCC2)CCC23CCCC(CCC\n",
            "C1CCCCC2(CCC1)C1CCCCCC2C12\n",
            "C1CCC2CCC3CCCC4CCCC(CCCC4C1)\n"
          ],
          "name": "stdout"
        },
        {
          "output_type": "stream",
          "text": [
            "RDKit ERROR: [13:54:32] SMILES Parse Error: unclosed ring for input: 'C1CCC2CCC3CCCC4CCCC(CCCC4C1)'\n",
            "RDKit ERROR: [13:54:32] SMILES Parse Error: unclosed ring for input: 'C1CCC2CCCCC3(CCCCC2CC1)CCCC1'\n",
            "RDKit ERROR: [13:54:32] SMILES Parse Error: unclosed ring for input: 'c1ccc2c(c1)CCC1CC3CCCCCCCCCC'\n"
          ],
          "name": "stderr"
        },
        {
          "output_type": "stream",
          "text": [
            "C1CCC2CCCCC3(CCCCC2CC1)CCCC1\n",
            "c1ccc2c(c1)CCC1CC3CCCCCCCCCC\n",
            "C1CCC2(CC1)CCC1CCCC3(CCCC3)C\n"
          ],
          "name": "stdout"
        },
        {
          "output_type": "stream",
          "text": [
            "RDKit ERROR: [13:54:33] SMILES Parse Error: unclosed ring for input: 'C1CCC2(CC1)CCC1CCCC3(CCCC3)C'\n",
            "RDKit ERROR: [13:54:33] SMILES Parse Error: unclosed ring for input: 'C1CCC2CCC3(CCCC2CC1)CCC1CCC1'\n",
            "RDKit ERROR: [13:54:33] SMILES Parse Error: unclosed ring for input: 'C1CCC2(CCCC2)CC2CCC3CCCC(C1)'\n"
          ],
          "name": "stderr"
        },
        {
          "output_type": "stream",
          "text": [
            "C1CCC2CCC3(CCCC2CC1)CCC1CCC1\n",
            "C1CCC2(CCCC2)CC2CCC3CCCC(C1)\n",
            "c1cc2c([nH]1)CCCC1CCCC(C1)C1\n"
          ],
          "name": "stdout"
        },
        {
          "output_type": "stream",
          "text": [
            "RDKit ERROR: [13:54:33] SMILES Parse Error: unclosed ring for input: 'c1cc2c([nH]1)CCCC1CCCC(C1)C1'\n",
            "RDKit ERROR: [13:54:33] SMILES Parse Error: unclosed ring for input: 'C1CCCC2(CCC1)CCC1(CCCC1)CCCC'\n",
            "RDKit ERROR: [13:54:33] SMILES Parse Error: unclosed ring for input: 'C1CCCCC23CCCC4CCCC(CCC1)CCC4'\n",
            "RDKit ERROR: [13:54:33] SMILES Parse Error: unclosed ring for input: 'C1CCC2CCC3(CCCCC3)CCC2CCCC2C'\n"
          ],
          "name": "stderr"
        },
        {
          "output_type": "stream",
          "text": [
            "C1CCCC2(CCC1)CCC1(CCCC1)CCCC\n",
            "C1CCCCC23CCCC4CCCC(CCC1)CCC4\n",
            "C1CCC2CCC3(CCCCC3)CCC2CCCC2C\n",
            "c1cc2c([nH]1)CCCCCC1(CCCC1)C\n"
          ],
          "name": "stdout"
        },
        {
          "output_type": "stream",
          "text": [
            "RDKit ERROR: [13:54:33] SMILES Parse Error: unclosed ring for input: 'c1cc2c([nH]1)CCCCCC1(CCCC1)C'\n",
            "RDKit ERROR: [13:54:33] SMILES Parse Error: unclosed ring for input: 'C1CCCC2(CCCC2)CC2CC(CC1)CC21'\n",
            "RDKit ERROR: [13:54:33] SMILES Parse Error: unclosed ring for input: 'C1CCCCCCC2CC3CC4CCCC(CCCCC1)'\n",
            "RDKit ERROR: [13:54:33] SMILES Parse Error: unclosed ring for input: 'C1CCC2(CCCC3CCC(C1)CC3)CCCC1'\n"
          ],
          "name": "stderr"
        },
        {
          "output_type": "stream",
          "text": [
            "C1CCCC2(CCCC2)CC2CC(CC1)CC21\n",
            "C1CCCCCCC2CC3CC4CCCC(CCCCC1)\n",
            "C1CCC2(CCCC3CCC(C1)CC3)CCCC1\n",
            "C1CCCC2(CC1)CC1CCCCCCC3(C1)C\n"
          ],
          "name": "stdout"
        },
        {
          "output_type": "stream",
          "text": [
            "RDKit ERROR: [13:54:33] SMILES Parse Error: unclosed ring for input: 'C1CCCC2(CC1)CC1CCCCCCC3(C1)C'\n",
            "RDKit ERROR: [13:54:33] SMILES Parse Error: extra open parentheses for input: 'C1CCCCC2CC(CCCC1)C1(CCCCCCCC'\n",
            "RDKit ERROR: [13:54:33] SMILES Parse Error: unclosed ring for input: 'C1CCCCC2CCC3CC2C2(CCCC1)CCC3'\n",
            "RDKit ERROR: [13:54:34] SMILES Parse Error: unclosed ring for input: 'c1cc2c3c([nH]c2[nH]1)CCCCCCC'\n"
          ],
          "name": "stderr"
        },
        {
          "output_type": "stream",
          "text": [
            "C1CCCCC2CC(CCCC1)C1(CCCCCCCC\n",
            "C1CCCCC2CCC3CC2C2(CCCC1)CCC3\n",
            "c1cc2c3c([nH]c2[nH]1)CCCCCCC\n",
            "c1ccc2c(c1)CCCC1CCC(C1)C1CC2\n"
          ],
          "name": "stdout"
        },
        {
          "output_type": "stream",
          "text": [
            "RDKit ERROR: [13:54:34] SMILES Parse Error: unclosed ring for input: 'c1ccc2c(c1)CCCC1CCC(C1)C1CC2'\n",
            "RDKit ERROR: [13:54:34] SMILES Parse Error: unclosed ring for input: 'C1CCCC2(CCCCC3CCCC(CC1)C3)CC'\n",
            "RDKit ERROR: [13:54:34] SMILES Parse Error: unclosed ring for input: 'C1CCC2CC(C2)C2CCC(CC1)C1CCCC'\n"
          ],
          "name": "stderr"
        },
        {
          "output_type": "stream",
          "text": [
            "C1CCCC2(CCCCC3CCCC(CC1)C3)CC\n",
            "C1CCC2CC(C2)C2CCC(CC1)C1CCCC\n"
          ],
          "name": "stdout"
        },
        {
          "output_type": "stream",
          "text": [
            "RDKit ERROR: [13:54:34] SMILES Parse Error: unclosed ring for input: 'C1CCC2CCC3(CCCCC3)C3CCCC3CCC'\n",
            "RDKit ERROR: [13:54:34] SMILES Parse Error: unclosed ring for input: 'C1CC2CCC3CCC(CC4(CCC4)C3)C2C'\n",
            "RDKit ERROR: [13:54:34] SMILES Parse Error: unclosed ring for input: 'C1CC2CCC3(CCCCC4(CCCC3)C4C1)'\n"
          ],
          "name": "stderr"
        },
        {
          "output_type": "stream",
          "text": [
            "C1CCC2CCC3(CCCCC3)C3CCCC3CCC\n",
            "C1CC2CCC3CCC(CC4(CCC4)C3)C2C\n",
            "C1CC2CCC3(CCCCC4(CCCC3)C4C1)\n"
          ],
          "name": "stdout"
        },
        {
          "output_type": "stream",
          "text": [
            "RDKit ERROR: [13:54:34] SMILES Parse Error: extra open parentheses for input: 'c1cc2c3c(cccc3c1)C1(CCCCCCCC'\n",
            "RDKit ERROR: [13:54:34] SMILES Parse Error: unclosed ring for input: 'c1cc2c([nH]1)CCCCCCC1CCC3CCC'\n",
            "RDKit ERROR: [13:54:34] SMILES Parse Error: unclosed ring for input: 'C1CCC2(CC2)CC2(CCCC2)CCCC2CC'\n",
            "RDKit ERROR: [13:54:34] SMILES Parse Error: unclosed ring for input: 'c1ccc2c(c1)CC1CCCCCCCCC23CCC'\n"
          ],
          "name": "stderr"
        },
        {
          "output_type": "stream",
          "text": [
            "c1cc2c3c(cccc3c1)C1(CCCCCCCC\n",
            "c1cc2c([nH]1)CCCCCCC1CCC3CCC\n",
            "C1CCC2(CC2)CC2(CCCC2)CCCC2CC\n",
            "c1ccc2c(c1)CC1CCCCCCCCC23CCC\n"
          ],
          "name": "stdout"
        },
        {
          "output_type": "stream",
          "text": [
            "RDKit ERROR: [13:54:34] SMILES Parse Error: unclosed ring for input: 'C1CCC2(CCC3CC(C1)C3)CCCCCCCC'\n",
            "RDKit ERROR: [13:54:35] SMILES Parse Error: unclosed ring for input: 'C1CCC2CCC3CCC(CCC4(CC1)CCC4)'\n",
            "RDKit ERROR: [13:54:35] SMILES Parse Error: unclosed ring for input: 'C1CCCC23CCCCC2CC(CC1)CC1CCC1'\n",
            "RDKit ERROR: [13:54:35] SMILES Parse Error: unclosed ring for input: 'C1CCCC2CC3(CCC1)CCCCCC1(CC1)'\n"
          ],
          "name": "stderr"
        },
        {
          "output_type": "stream",
          "text": [
            "C1CCC2(CCC3CC(C1)C3)CCCCCCCC\n",
            "C1CCC2CCC3CCC(CCC4(CC1)CCC4)\n",
            "C1CCCC23CCCCC2CC(CC1)CC1CCC1\n",
            "C1CCCC2CC3(CCC1)CCCCCC1(CC1)\n"
          ],
          "name": "stdout"
        },
        {
          "output_type": "stream",
          "text": [
            "RDKit ERROR: [13:54:35] SMILES Parse Error: unclosed ring for input: 'C1CCCCC2CC3CCCCCC3CC3(CCCC1)'\n",
            "RDKit ERROR: [13:54:35] SMILES Parse Error: extra open parentheses for input: 'C1CCCCC2(CCCCC2)C23CCCCCC2(C'\n",
            "RDKit ERROR: [13:54:35] SMILES Parse Error: extra open parentheses for input: 'C1CCC2CC3CCC(CCCC4(CC1)CCCC4'\n",
            "RDKit ERROR: [13:54:35] SMILES Parse Error: unclosed ring for input: 'C1CCC2CC(C1)CCCC1CC(CC1)C1CC'\n"
          ],
          "name": "stderr"
        },
        {
          "output_type": "stream",
          "text": [
            "C1CCCCC2CC3CCCCCC3CC3(CCCC1)\n",
            "C1CCCCC2(CCCCC2)C23CCCCCC2(C\n",
            "C1CCC2CC3CCC(CCCC4(CC1)CCCC4\n",
            "C1CCC2CC(C1)CCCC1CC(CC1)C1CC\n"
          ],
          "name": "stdout"
        },
        {
          "output_type": "stream",
          "text": [
            "RDKit ERROR: [13:54:35] SMILES Parse Error: unclosed ring for input: 'C1CCCCC23CCCC2CC(CCC1)C1CCCC'\n",
            "RDKit ERROR: [13:54:35] SMILES Parse Error: unclosed ring for input: 'C1CCCCCC2C(CCCC1)CC1(CCCC1)C'\n",
            "RDKit ERROR: [13:54:35] SMILES Parse Error: unclosed ring for input: 'c1ccc2c(c1)CCCCCC1(CCCC1)CCC'\n"
          ],
          "name": "stderr"
        },
        {
          "output_type": "stream",
          "text": [
            "C1CCCCC23CCCC2CC(CCC1)C1CCCC\n",
            "C1CCCCCC2C(CCCC1)CC1(CCCC1)C\n",
            "c1ccc2c(c1)CCCCCC1(CCCC1)CCC\n"
          ],
          "name": "stdout"
        },
        {
          "output_type": "stream",
          "text": [
            "RDKit ERROR: [13:54:35] SMILES Parse Error: unclosed ring for input: 'C1CCC2CCC(CC2)C2CCC(CC1)CCC1'\n",
            "RDKit ERROR: [13:54:35] SMILES Parse Error: unclosed ring for input: 'C1CCCCC2CCC3CC4(CCCCC1)CCCC4'\n",
            "RDKit ERROR: [13:54:35] SMILES Parse Error: unclosed ring for input: 'C1CCCC2(CCC2)C2CCC(CC1)CC21C'\n",
            "RDKit ERROR: [13:54:35] SMILES Parse Error: unclosed ring for input: 'c1cc2c([nH]1)CCCCCCCCC1CCCCC'\n"
          ],
          "name": "stderr"
        },
        {
          "output_type": "stream",
          "text": [
            "C1CCC2CCC(CC2)C2CCC(CC1)CCC1\n",
            "C1CCCCC2CCC3CC4(CCCCC1)CCCC4\n",
            "C1CCCC2(CCC2)C2CCC(CC1)CC21C\n",
            "c1cc2c([nH]1)CCCCCCCCC1CCCCC\n"
          ],
          "name": "stdout"
        },
        {
          "output_type": "stream",
          "text": [
            "RDKit ERROR: [13:54:36] SMILES Parse Error: extra open parentheses for input: 'c1cc2c([nH]1)CCCCC1CCCC(CCCC'\n",
            "RDKit ERROR: [13:54:36] SMILES Parse Error: unclosed ring for input: 'C1CC2CCC3(CCCCC4CCC(C1)C4)CC'\n",
            "RDKit ERROR: [13:54:36] SMILES Parse Error: extra open parentheses for input: 'C1CCCCCCC2(CCCCCC1)CCCC1(CCC'\n",
            "RDKit ERROR: [13:54:36] SMILES Parse Error: extra open parentheses for input: 'C1CCCCC23CCCCC2CC(CCC1)C1(CC'\n"
          ],
          "name": "stderr"
        },
        {
          "output_type": "stream",
          "text": [
            "c1cc2c([nH]1)CCCCC1CCCC(CCCC\n",
            "C1CC2CCC3(CCCCC4CCC(C1)C4)CC\n",
            "C1CCCCCCC2(CCCCCC1)CCCC1(CCC\n",
            "C1CCCCC23CCCCC2CC(CCC1)C1(CC\n"
          ],
          "name": "stdout"
        },
        {
          "output_type": "stream",
          "text": [
            "RDKit ERROR: [13:54:36] SMILES Parse Error: unclosed ring for input: 'C1CCC2CCCC3(CCCCCC3)CCCCC2CC'\n",
            "RDKit ERROR: [13:54:36] SMILES Parse Error: extra open parentheses for input: 'C1CCCCC2C(CCCC1)CCC13CCCCC(C'\n",
            "RDKit ERROR: [13:54:36] SMILES Parse Error: unclosed ring for input: 'c1ccc2c(c1)C1CCCCC3CCCCCCC23'\n",
            "RDKit ERROR: [13:54:36] SMILES Parse Error: extra open parentheses for input: 'c1ccc2c(c1)CCC1CCCCCCCCC3(CC'\n"
          ],
          "name": "stderr"
        },
        {
          "output_type": "stream",
          "text": [
            "C1CCC2CCCC3(CCCCCC3)CCCCC2CC\n",
            "C1CCCCC2C(CCCC1)CCC13CCCCC(C\n",
            "c1ccc2c(c1)C1CCCCC3CCCCCCC23\n",
            "c1ccc2c(c1)CCC1CCCCCCCCC3(CC\n"
          ],
          "name": "stdout"
        },
        {
          "output_type": "stream",
          "text": [
            "RDKit ERROR: [13:54:36] SMILES Parse Error: unclosed ring for input: 'C1CCCCCCC23CCCCC2C2(CCCCC1)C'\n",
            "RDKit ERROR: [13:54:36] SMILES Parse Error: unclosed ring for input: 'C1CC2CCC3CC(CC4CCC(C1)C4)C3C'\n",
            "RDKit ERROR: [13:54:36] SMILES Parse Error: extra open parentheses for input: 'c1cc2c3c(cccc3c1)C1(CCCCCCCC'\n",
            "RDKit ERROR: [13:54:36] SMILES Parse Error: extra open parentheses for input: 'C1CCC2CC3CCCCCCC(CCCC4CCCC4C'\n"
          ],
          "name": "stderr"
        },
        {
          "output_type": "stream",
          "text": [
            "C1CCCCCCC23CCCCC2C2(CCCCC1)C\n",
            "C1CC2CCC3CC(CC4CCC(C1)C4)C3C\n",
            "c1cc2c3c(cccc3c1)C1(CCCCCCCC\n",
            "C1CCC2CC3CCCCCCC(CCCC4CCCC4C\n"
          ],
          "name": "stdout"
        },
        {
          "output_type": "stream",
          "text": [
            "RDKit ERROR: [13:54:36] SMILES Parse Error: unclosed ring for input: 'C1CCCCCCC2(CCCCCC1)CCCC13CCC'\n",
            "RDKit ERROR: [13:54:36] SMILES Parse Error: unclosed ring for input: 'C1CC2CC3CCC(C1)CCCCC23C1'\n",
            "RDKit ERROR: [13:54:36] SMILES Parse Error: unclosed ring for input: 'C1CCC23CCCCC4(CCC(C1)CCC4)C2'\n",
            "RDKit ERROR: [13:54:37] SMILES Parse Error: extra open parentheses for input: 'C1CCCCC2(CCCC1)CCCC1(CCCC3(C'\n"
          ],
          "name": "stderr"
        },
        {
          "output_type": "stream",
          "text": [
            "C1CCCCCCC2(CCCCCC1)CCCC13CCC\n",
            "C1CC2CC3CCC(C1)CCCCC23C1\n",
            "C1CCC23CCCCC4(CCC(C1)CCC4)C2\n",
            "C1CCCCC2(CCCC1)CCCC1(CCCC3(C\n"
          ],
          "name": "stdout"
        },
        {
          "output_type": "stream",
          "text": [
            "RDKit ERROR: [13:54:37] SMILES Parse Error: unclosed ring for input: 'C1CCCCCCC2C(CCCCC1)C1CCC3CCC'\n",
            "RDKit ERROR: [13:54:37] SMILES Parse Error: unclosed ring for input: 'c1[nH]c2c3c1CCC1(CCCCCC2)C3'\n",
            "RDKit ERROR: [13:54:37] SMILES Parse Error: unclosed ring for input: 'C1CCC2CCC3CCCCC3CCC3CC3CCC2C'\n",
            "RDKit ERROR: [13:54:37] SMILES Parse Error: unclosed ring for input: 'c1cc2c3c(ccc2[nH]1)CCCCCCCCC'\n"
          ],
          "name": "stderr"
        },
        {
          "output_type": "stream",
          "text": [
            "C1CCCCCCC2C(CCCCC1)C1CCC3CCC\n",
            "c1[nH]c2c3c1CCC1(CCCCCC2)C3\n",
            "C1CCC2CCC3CCCCC3CCC3CC3CCC2C\n",
            "c1cc2c3c(ccc2[nH]1)CCCCCCCCC\n"
          ],
          "name": "stdout"
        },
        {
          "output_type": "stream",
          "text": [
            "RDKit ERROR: [13:54:37] SMILES Parse Error: ring closure 2 duplicates bond between atom 3 and atom 12 for input: 'C1CCC2(CCC3CCC(C1)C3)C21CCC1'\n",
            "RDKit ERROR: [13:54:37] SMILES Parse Error: unclosed ring for input: 'C1CCC2(CC1)CCCC1CCC3(CCCC3)C'\n",
            "RDKit ERROR: [13:54:37] SMILES Parse Error: extra open parentheses for input: 'C1CCC2(CC1)CCC1CCCC3CCCCC(CC'\n",
            "RDKit ERROR: [13:54:37] SMILES Parse Error: extra open parentheses for input: 'C1CCCC2(CC1)CCCC1(CCCCCC3(CC'\n"
          ],
          "name": "stderr"
        },
        {
          "output_type": "stream",
          "text": [
            "C1CCC2(CCC3CCC(C1)C3)C21CCC1\n",
            "C1CCC2(CC1)CCCC1CCC3(CCCC3)C\n",
            "C1CCC2(CC1)CCC1CCCC3CCCCC(CC\n",
            "C1CCCC2(CC1)CCCC1(CCCCCC3(CC\n"
          ],
          "name": "stdout"
        },
        {
          "output_type": "stream",
          "text": [
            "RDKit ERROR: [13:54:37] SMILES Parse Error: unclosed ring for input: 'C1CCCC2CCCC2CCCC2CCCC3(CCC1)'\n",
            "RDKit ERROR: [13:54:37] SMILES Parse Error: unclosed ring for input: 'C1CC2C3CCC(C3)CC2CCCCC2CCC1C'\n",
            "RDKit ERROR: [13:54:37] SMILES Parse Error: extra open parentheses for input: 'c1ccc2c(c1)CCCC1(CCCCCC3(C1)'\n"
          ],
          "name": "stderr"
        },
        {
          "output_type": "stream",
          "text": [
            "C1CCCC2CCCC2CCCC2CCCC3(CCC1)\n",
            "C1CC2C3CCC(C3)CC2CCCCC2CCC1C\n",
            "c1ccc2c(c1)CCCC1(CCCCCC3(C1)\n"
          ],
          "name": "stdout"
        },
        {
          "output_type": "stream",
          "text": [
            "RDKit ERROR: [13:54:37] SMILES Parse Error: unclosed ring for input: 'C1CCCC2C(CCCCCC2)CCCCC(C2)CC'\n",
            "RDKit ERROR: [13:54:37] SMILES Parse Error: unclosed ring for input: 'C1CCC2(CC1)CCCC1CCCC3(CC3)C1'\n",
            "RDKit ERROR: [13:54:37] SMILES Parse Error: unclosed ring for input: 'C1CCCCCC2CC(CCCC1)CC1CCCCC2C'\n",
            "RDKit ERROR: [13:54:38] SMILES Parse Error: unclosed ring for input: 'C1CCCC2(CCCCC2)C2(CCC1)CCCCC'\n"
          ],
          "name": "stderr"
        },
        {
          "output_type": "stream",
          "text": [
            "C1CCCC2C(CCCCCC2)CCCCC(C2)CC\n",
            "C1CCC2(CC1)CCCC1CCCC3(CC3)C1\n",
            "C1CCCCCC2CC(CCCC1)CC1CCCCC2C\n",
            "C1CCCC2(CCCCC2)C2(CCC1)CCCCC\n"
          ],
          "name": "stdout"
        },
        {
          "output_type": "stream",
          "text": [
            "RDKit ERROR: [13:54:38] SMILES Parse Error: unclosed ring for input: 'C1CCCC2(CC1)CCCC1CCC3(CCCC3)'\n",
            "RDKit ERROR: [13:54:38] SMILES Parse Error: extra open parentheses for input: 'C1CCC2CCC2CC2(CCCCC2)CCCC2(C'\n",
            "RDKit ERROR: [13:54:38] SMILES Parse Error: extra open parentheses for input: 'C1CCCC2(CC1)CCCC1(CCCCC3CC3C'\n"
          ],
          "name": "stderr"
        },
        {
          "output_type": "stream",
          "text": [
            "C1CCCC2(CC1)CCCC1CCC3(CCCC3)\n",
            "C1CCC2CCC2CC2(CCCCC2)CCCC2(C\n",
            "C1CCCC2(CC1)CCCC1(CCCCC3CC3C\n"
          ],
          "name": "stdout"
        },
        {
          "output_type": "stream",
          "text": [
            "RDKit ERROR: [13:54:38] SMILES Parse Error: extra open parentheses for input: 'C1CCCC2CC(CCC1)CC1(CCCC3(CCC'\n",
            "RDKit ERROR: [13:54:38] SMILES Parse Error: unclosed ring for input: 'C1CCC2(CC1)CCCC1CCCCC1CCCC1C'\n",
            "RDKit ERROR: [13:54:38] SMILES Parse Error: unclosed ring for input: 'C1CCC23CC(CCCC4(CCCC4)CC2C1)'\n"
          ],
          "name": "stderr"
        },
        {
          "output_type": "stream",
          "text": [
            "C1CCCC2CC(CCC1)CC1(CCCC3(CCC\n",
            "C1CCC2(CC1)CCCC1CCCCC1CCCC1C\n",
            "C1CCC23CC(CCCC4(CCCC4)CC2C1)\n"
          ],
          "name": "stdout"
        },
        {
          "output_type": "stream",
          "text": [
            "RDKit ERROR: [13:54:38] SMILES Parse Error: extra open parentheses for input: 'C1CCC2(CC1)CCCC1CCC(CC1)C1(C'\n",
            "RDKit ERROR: [13:54:38] SMILES Parse Error: unclosed ring for input: 'C1CCC2(CCC3CCCC3C3(CC1)CC3)C'\n",
            "RDKit ERROR: [13:54:38] SMILES Parse Error: extra open parentheses for input: 'c1ccc2c(c1)CCC1(CCCCCCCCCCC3'\n",
            "RDKit ERROR: [13:54:38] SMILES Parse Error: unclosed ring for input: 'C1CCCC2CCC(C2)C2C3CCCC(CCC1)'\n"
          ],
          "name": "stderr"
        },
        {
          "output_type": "stream",
          "text": [
            "C1CCC2(CC1)CCCC1CCC(CC1)C1(C\n",
            "C1CCC2(CCC3CCCC3C3(CC1)CC3)C\n",
            "c1ccc2c(c1)CCC1(CCCCCCCCCCC3\n",
            "C1CCCC2CCC(C2)C2C3CCCC(CCC1)\n"
          ],
          "name": "stdout"
        },
        {
          "output_type": "stream",
          "text": [
            "RDKit ERROR: [13:54:38] SMILES Parse Error: unclosed ring for input: 'C1CCC2CC3CCCC4(CCCC4)CC2C3CC'\n",
            "RDKit ERROR: [13:54:38] SMILES Parse Error: extra open parentheses for input: 'C1CCC2CCCC3CCCCC34CCCC(CCCC4'\n",
            "RDKit ERROR: [13:54:38] SMILES Parse Error: unclosed ring for input: 'C1CCCCC2(CCCC1)CCCC1CCCCCC23'\n",
            "RDKit ERROR: [13:54:39] SMILES Parse Error: unclosed ring for input: 'C1CCCCC2CCCC3CCCC4CCCCC23CC4'\n"
          ],
          "name": "stderr"
        },
        {
          "output_type": "stream",
          "text": [
            "C1CCC2CC3CCCC4(CCCC4)CC2C3CC\n",
            "C1CCC2CCCC3CCCCC34CCCC(CCCC4\n",
            "C1CCCCC2(CCCC1)CCCC1CCCCCC23\n",
            "C1CCCCC2CCCC3CCCC4CCCCC23CC4\n"
          ],
          "name": "stdout"
        },
        {
          "output_type": "stream",
          "text": [
            "RDKit ERROR: [13:54:39] SMILES Parse Error: unclosed ring for input: 'C1CCCCC2(CCCC1)CCC1CC3CCCC21'\n",
            "RDKit ERROR: [13:54:39] SMILES Parse Error: unclosed ring for input: 'C1CCCC2CC(CCC3(CCC1)CCCCC3)C'\n",
            "RDKit ERROR: [13:54:39] SMILES Parse Error: ring closure 4 duplicates bond between atom 6 and atom 12 for input: 'C1CC2CC3CC4(CCCC2C1)C4C3'\n",
            "RDKit ERROR: [13:54:39] SMILES Parse Error: unclosed ring for input: 'c1ccc2c(c1)CCCCC1CCC3CC2C3'\n"
          ],
          "name": "stderr"
        },
        {
          "output_type": "stream",
          "text": [
            "C1CCCCC2(CCCC1)CCC1CC3CCCC21\n",
            "C1CCCC2CC(CCC3(CCC1)CCCCC3)C\n",
            "C1CC2CC3CC4(CCCC2C1)C4C3\n",
            "c1ccc2c(c1)CCCCC1CCC3CC2C3\n"
          ],
          "name": "stdout"
        },
        {
          "output_type": "stream",
          "text": [
            "RDKit ERROR: [13:54:39] SMILES Parse Error: unclosed ring for input: 'C1CCC2CCC2CCC2CCCC(CC1)C21CC'\n",
            "RDKit ERROR: [13:54:39] SMILES Parse Error: unclosed ring for input: 'C1CCCCCC2CCC3C(CCCC1)CCCCCC2'\n",
            "RDKit ERROR: [13:54:39] SMILES Parse Error: unclosed ring for input: 'C1CCCCC23CCCCC4(CCCC1)CCCC4C'\n",
            "RDKit ERROR: [13:54:39] SMILES Parse Error: extra open parentheses for input: 'C1CCCC23CCCC(CCC2CCCCC2(CC1)'\n"
          ],
          "name": "stderr"
        },
        {
          "output_type": "stream",
          "text": [
            "C1CCC2CCC2CCC2CCCC(CC1)C21CC\n",
            "C1CCCCCC2CCC3C(CCCC1)CCCCCC2\n",
            "C1CCCCC23CCCCC4(CCCC1)CCCC4C\n",
            "C1CCCC23CCCC(CCC2CCCCC2(CC1)\n"
          ],
          "name": "stdout"
        },
        {
          "output_type": "stream",
          "text": [
            "RDKit ERROR: [13:54:39] SMILES Parse Error: extra open parentheses for input: 'C1CCCCCC2C3CC(CCCC4(CCCCC1)C'\n",
            "RDKit ERROR: [13:54:39] SMILES Parse Error: extra open parentheses for input: 'C1CCCC2CCCCCC2CCC2CCCC3(CCC1'\n",
            "RDKit ERROR: [13:54:39] SMILES Parse Error: extra open parentheses for input: 'C1CCC2CCCC3CC(CC1)CCCC1(CCCC'\n",
            "RDKit ERROR: [13:54:39] SMILES Parse Error: unclosed ring for input: 'C1CCC2(CCC3CCC4CC4CC3CC1)C4'\n"
          ],
          "name": "stderr"
        },
        {
          "output_type": "stream",
          "text": [
            "C1CCCCCC2C3CC(CCCC4(CCCCC1)C\n",
            "C1CCCC2CCCCCC2CCC2CCCC3(CCC1\n",
            "C1CCC2CCCC3CC(CC1)CCCC1(CCCC\n",
            "C1CCC2(CCC3CCC4CC4CC3CC1)C4\n"
          ],
          "name": "stdout"
        },
        {
          "output_type": "stream",
          "text": [
            "RDKit ERROR: [13:54:39] SMILES Parse Error: extra open parentheses for input: 'C1CCCCCCC2(CCCCCC1)CCC1CCC(C'\n",
            "RDKit ERROR: [13:54:39] SMILES Parse Error: unclosed ring for input: 'C1CCC2CCC3CC(CC3)C3CCCC3CC2C'\n"
          ],
          "name": "stderr"
        },
        {
          "output_type": "stream",
          "text": [
            "C1CCCCCCC2(CCCCCC1)CCC1CCC(C\n",
            "C1CCC2CCC3CC(CC3)C3CCCC3CC2C\n"
          ],
          "name": "stdout"
        },
        {
          "output_type": "stream",
          "text": [
            "RDKit ERROR: [13:54:40] SMILES Parse Error: unclosed ring for input: 'C1CCCC2CC(CCC3CCCCCC3CC1)CCC'\n",
            "RDKit ERROR: [13:54:40] SMILES Parse Error: unclosed ring for input: 'C1CCCCC2CC3(CCC3)CC3(CCCC1)C'\n",
            "RDKit ERROR: [13:54:40] SMILES Parse Error: unclosed ring for input: 'c1ccc2c(c1)CC1CC(CCCCC2)C2CC'\n",
            "RDKit ERROR: [13:54:40] SMILES Parse Error: unclosed ring for input: 'C1CC2CCC(C1)CC1CCCCC1CCC1CCC'\n"
          ],
          "name": "stderr"
        },
        {
          "output_type": "stream",
          "text": [
            "C1CCCC2CC(CCC3CCCCCC3CC1)CCC\n",
            "C1CCCCC2CC3(CCC3)CC3(CCCC1)C\n",
            "c1ccc2c(c1)CC1CC(CCCCC2)C2CC\n",
            "C1CC2CCC(C1)CC1CCCCC1CCC1CCC\n"
          ],
          "name": "stdout"
        },
        {
          "output_type": "stream",
          "text": [
            "RDKit ERROR: [13:54:40] SMILES Parse Error: unclosed ring for input: 'C1CCC2CC3(CCCCC3)CCCCC3CCC3C'\n",
            "RDKit ERROR: [13:54:40] SMILES Parse Error: unclosed ring for input: 'c1ccc2c(c1)CCC1CCC3CCCCCCCCC'\n",
            "RDKit ERROR: [13:54:40] SMILES Parse Error: unclosed ring for input: 'C1CCCCC2(CCCC1)CCC1(CCCC1)CC'\n",
            "RDKit ERROR: [13:54:40] SMILES Parse Error: ring closure 2 duplicates bond between atom 5 and atom 17 for input: 'C1CCCCC2(CCCC3CCC(CCC1)C3)C2'\n"
          ],
          "name": "stderr"
        },
        {
          "output_type": "stream",
          "text": [
            "C1CCC2CC3(CCCCC3)CCCCC3CCC3C\n",
            "c1ccc2c(c1)CCC1CCC3CCCCCCCCC\n",
            "C1CCCCC2(CCCC1)CCC1(CCCC1)CC\n",
            "C1CCCCC2(CCCC3CCC(CCC1)C3)C2\n"
          ],
          "name": "stdout"
        },
        {
          "output_type": "stream",
          "text": [
            "RDKit ERROR: [13:54:40] SMILES Parse Error: unclosed ring for input: 'c1cc2c3c(c1)CCC1CCCCCCCCC1C2'\n",
            "RDKit ERROR: [13:54:40] SMILES Parse Error: unclosed ring for input: 'C1CCC2C(C1)CCC1CCCCC23CC1'\n",
            "RDKit ERROR: [13:54:40] SMILES Parse Error: extra open parentheses for input: 'c1cc2c([nH]1)C1(CCCCCCCCCC(C'\n",
            "RDKit ERROR: [13:54:40] SMILES Parse Error: unclosed ring for input: 'C1CCC2CCC3(CC2)CC(CC1)CCCC1C'\n"
          ],
          "name": "stderr"
        },
        {
          "output_type": "stream",
          "text": [
            "c1cc2c3c(c1)CCC1CCCCCCCCC1C2\n",
            "C1CCC2C(C1)CCC1CCCCC23CC1\n",
            "c1cc2c([nH]1)C1(CCCCCCCCCC(C\n",
            "C1CCC2CCC3(CC2)CC(CC1)CCCC1C\n"
          ],
          "name": "stdout"
        },
        {
          "output_type": "stream",
          "text": [
            "RDKit ERROR: [13:54:40] SMILES Parse Error: unclosed ring for input: 'C1CCCC2C(CC1)CCC1C3CCCCCCC21'\n",
            "RDKit ERROR: [13:54:41] SMILES Parse Error: extra open parentheses for input: 'C1CCCC2CCC(CCC3CCC4(CCCC4)C3'\n"
          ],
          "name": "stderr"
        },
        {
          "output_type": "stream",
          "text": [
            "C1CCCC2C(CC1)CCC1C3CCCCCCC21\n",
            "C1CCCC2CCC(CCC3CCC4(CCCC4)C3\n"
          ],
          "name": "stdout"
        },
        {
          "output_type": "stream",
          "text": [
            "RDKit ERROR: [13:54:41] SMILES Parse Error: extra open parentheses for input: 'c1ccc2c(c1)CCCC1(CCCCCCCCCCC'\n",
            "RDKit ERROR: [13:54:41] SMILES Parse Error: unclosed ring for input: 'C1CCCC23CCCCC(CC2CC1)CCCC31C'\n",
            "RDKit ERROR: [13:54:41] SMILES Parse Error: unclosed ring for input: 'C1CCCCCC2C3CCCC4CCCC4C2C3CCC'\n",
            "RDKit ERROR: [13:54:41] SMILES Parse Error: unclosed ring for input: 'C1CCCC2CC3CCCC2C3CCC2(CCC1)C'\n"
          ],
          "name": "stderr"
        },
        {
          "output_type": "stream",
          "text": [
            "c1ccc2c(c1)CCCC1(CCCCCCCCCCC\n",
            "C1CCCC23CCCCC(CC2CC1)CCCC31C\n",
            "C1CCCCCC2C3CCCC4CCCC4C2C3CCC\n",
            "C1CCCC2CC3CCCC2C3CCC2(CCC1)C\n"
          ],
          "name": "stdout"
        },
        {
          "output_type": "stream",
          "text": [
            "RDKit ERROR: [13:54:41] SMILES Parse Error: unclosed ring for input: 'C1CCCCC23CCCCCC2CCC(CCC1)CC1'\n",
            "RDKit ERROR: [13:54:41] SMILES Parse Error: unclosed ring for input: 'c1ccc2c(c1)CCCC1(CCCCC1)CCCC'\n"
          ],
          "name": "stderr"
        },
        {
          "output_type": "stream",
          "text": [
            "C1CCCCC23CCCCCC2CCC(CCC1)CC1\n",
            "c1ccc2c(c1)CCCC1(CCCCC1)CCCC\n"
          ],
          "name": "stdout"
        },
        {
          "output_type": "stream",
          "text": [
            "RDKit ERROR: [13:54:41] SMILES Parse Error: unclosed ring for input: 'C1CCCC2CC3C(CCC1)CCCC1CCC23'\n",
            "RDKit ERROR: [13:54:41] SMILES Parse Error: unclosed ring for input: 'C1CC2CCC(CCC3(CCC3)C3CC1)C3'\n",
            "RDKit ERROR: [13:54:41] SMILES Parse Error: syntax error while parsing: C1CCCCC23CCCCC2(CCCC1)CCCC1(\n",
            "RDKit ERROR: [13:54:41] SMILES Parse Error: Failed parsing SMILES 'C1CCCCC23CCCCC2(CCCC1)CCCC1(' for input: 'C1CCCCC23CCCCC2(CCCC1)CCCC1('\n",
            "RDKit ERROR: [13:54:41] SMILES Parse Error: extra open parentheses for input: 'C1CCC2(CC1)CCC1(CCCC3CCCC3C1'\n"
          ],
          "name": "stderr"
        },
        {
          "output_type": "stream",
          "text": [
            "C1CCCC2CC3C(CCC1)CCCC1CCC23\n",
            "C1CC2CCC(CCC3(CCC3)C3CC1)C3\n",
            "C1CCCCC23CCCCC2(CCCC1)CCCC1(\n",
            "C1CCC2(CC1)CCC1(CCCC3CCCC3C1\n"
          ],
          "name": "stdout"
        },
        {
          "output_type": "stream",
          "text": [
            "RDKit ERROR: [13:54:41] SMILES Parse Error: unclosed ring for input: 'C1CCCCC2CCC3(CC2)CCC3CCC2CCC'\n",
            "RDKit ERROR: [13:54:42] SMILES Parse Error: unclosed ring for input: 'C1CC2CCC3CCCC4CCC(CC4)CC2CC1'\n",
            "RDKit ERROR: [13:54:42] SMILES Parse Error: unclosed ring for input: 'C1CCCC2CCC(CCC3(CCC1)CCCC3)C'\n",
            "RDKit ERROR: [13:54:42] SMILES Parse Error: extra open parentheses for input: 'C1CCCC2(CCCCC2)CC2CCCCCC3(CC'\n"
          ],
          "name": "stderr"
        },
        {
          "output_type": "stream",
          "text": [
            "C1CCCCC2CCC3(CC2)CCC3CCC2CCC\n",
            "C1CC2CCC3CCCC4CCC(CC4)CC2CC1\n",
            "C1CCCC2CCC(CCC3(CCC1)CCCC3)C\n",
            "C1CCCC2(CCCCC2)CC2CCCCCC3(CC\n"
          ],
          "name": "stdout"
        },
        {
          "output_type": "stream",
          "text": [
            "RDKit ERROR: [13:54:42] SMILES Parse Error: unclosed ring for input: 'C1CCCC2CCCC3(CCCC3)C2CCC2CCC'\n",
            "RDKit ERROR: [13:54:42] SMILES Parse Error: unclosed ring for input: 'C1CCC2CCCCC2CCC2(CC1)CCCC21C'\n",
            "RDKit ERROR: [13:54:42] SMILES Parse Error: extra open parentheses for input: 'c1cc2c([nH]1)CC1CC(CCCC3(CC3'\n",
            "RDKit ERROR: [13:54:42] SMILES Parse Error: unclosed ring for input: 'C1CCCCC2CCCCC2C23CCC(CCCC1)C'\n"
          ],
          "name": "stderr"
        },
        {
          "output_type": "stream",
          "text": [
            "C1CCCC2CCCC3(CCCC3)C2CCC2CCC\n",
            "C1CCC2CCCCC2CCC2(CC1)CCCC21C\n",
            "c1cc2c([nH]1)CC1CC(CCCC3(CC3\n",
            "C1CCCCC2CCCCC2C23CCC(CCCC1)C\n"
          ],
          "name": "stdout"
        },
        {
          "output_type": "stream",
          "text": [
            "RDKit ERROR: [13:54:42] SMILES Parse Error: extra open parentheses for input: 'C1CCC2CCCC3CCC4(CCCCC4)CCC(C'\n",
            "RDKit ERROR: [13:54:42] SMILES Parse Error: unclosed ring for input: 'C1CCC2(CC1)CCC1CCCCC3(CCCC3)'\n",
            "RDKit ERROR: [13:54:42] SMILES Parse Error: unclosed ring for input: 'C1CCCCC23CCCC2CCCCC(CCC1)C31'\n"
          ],
          "name": "stderr"
        },
        {
          "output_type": "stream",
          "text": [
            "C1CCC2CCCC3CCC4(CCCCC4)CCC(C\n",
            "C1CCC2(CC1)CCC1CCCCC3(CCCC3)\n",
            "C1CCCCC23CCCC2CCCCC(CCC1)C31\n"
          ],
          "name": "stdout"
        },
        {
          "output_type": "stream",
          "text": [
            "RDKit ERROR: [13:54:42] SMILES Parse Error: extra open parentheses for input: 'C1CCCC2CCCC2CCCC2CCCCCC2C2(C'\n",
            "RDKit ERROR: [13:54:42] SMILES Parse Error: unclosed ring for input: 'C1CC2CC3(CCCC3)CC2CCCC2CCC1C'\n",
            "RDKit ERROR: [13:54:42] SMILES Parse Error: extra open parentheses for input: 'C1CCCC2(CCCCC3(CCC3)C3(CC1)C'\n"
          ],
          "name": "stderr"
        },
        {
          "output_type": "stream",
          "text": [
            "C1CCCC2CCCC2CCCC2CCCCCC2C2(C\n",
            "C1CC2CC3(CCCC3)CC2CCCC2CCC1C\n",
            "C1CCCC2(CCCCC3(CCC3)C3(CC1)C\n"
          ],
          "name": "stdout"
        },
        {
          "output_type": "stream",
          "text": [
            "RDKit ERROR: [13:54:42] SMILES Parse Error: unclosed ring for input: 'C1CC2CCC(C1)CC1(CCCC1)CCCC1C'\n",
            "RDKit ERROR: [13:54:43] SMILES Parse Error: unclosed ring for input: 'C1CCCCCCC2(CCCCCC1)CCC13CCCC'\n",
            "RDKit ERROR: [13:54:43] SMILES Parse Error: unclosed ring for input: 'C1CCCC2CCCC3CCC4(CCCCC4CC1)C'\n",
            "RDKit ERROR: [13:54:43] SMILES Parse Error: unclosed ring for input: 'c1cc2c([nH]1)CCCC1C3CCCCC2C3'\n"
          ],
          "name": "stderr"
        },
        {
          "output_type": "stream",
          "text": [
            "C1CC2CCC(C1)CC1(CCCC1)CCCC1C\n",
            "C1CCCCCCC2(CCCCCC1)CCC13CCCC\n",
            "C1CCCC2CCCC3CCC4(CCCCC4CC1)C\n",
            "c1cc2c([nH]1)CCCC1C3CCCCC2C3\n"
          ],
          "name": "stdout"
        },
        {
          "output_type": "stream",
          "text": [
            "RDKit ERROR: [13:54:43] SMILES Parse Error: unclosed ring for input: 'C1CCC2CCCCC(CCCCC3(CC1)CC3)C'\n",
            "RDKit ERROR: [13:54:43] SMILES Parse Error: unclosed ring for input: 'C1CCCC2CCC2C23CCCCC(CCC1)CCC'\n",
            "RDKit ERROR: [13:54:43] SMILES Parse Error: extra open parentheses for input: 'C1CCCCC2CC3(CCCC3)C2CCC2(CCC'\n",
            "RDKit ERROR: [13:54:43] SMILES Parse Error: unclosed ring for input: 'C1CCC2CCCC2CCCC2CCCC23CCC3CC'\n"
          ],
          "name": "stderr"
        },
        {
          "output_type": "stream",
          "text": [
            "C1CCC2CCCCC(CCCCC3(CC1)CC3)C\n",
            "C1CCCC2CCC2C23CCCCC(CCC1)CCC\n",
            "C1CCCCC2CC3(CCCC3)C2CCC2(CCC\n",
            "C1CCC2CCCC2CCCC2CCCC23CCC3CC\n"
          ],
          "name": "stdout"
        },
        {
          "output_type": "stream",
          "text": [
            "RDKit ERROR: [13:54:43] SMILES Parse Error: unclosed ring for input: 'c1ccc2c(c1)CCCCCC1CCCCC1C21C'\n",
            "RDKit ERROR: [13:54:43] SMILES Parse Error: extra open parentheses for input: 'C1CCCCCC2(CCCCCC2)C2(CCCCCCC'\n",
            "RDKit ERROR: [13:54:43] SMILES Parse Error: unclosed ring for input: 'C1CCCC2CC3CC(CCC1)CCCC1CCC23'\n"
          ],
          "name": "stderr"
        },
        {
          "output_type": "stream",
          "text": [
            "c1ccc2c(c1)CCCCCC1CCCCC1C21C\n",
            "C1CCCCCC2(CCCCCC2)C2(CCCCCCC\n",
            "C1CCCC2CC3CC(CCC1)CCCC1CCC23\n"
          ],
          "name": "stdout"
        },
        {
          "output_type": "stream",
          "text": [
            "RDKit ERROR: [13:54:43] SMILES Parse Error: unclosed ring for input: 'C1CCCC2CCCC3CC(CCC1)C3C21CCC'\n",
            "RDKit ERROR: [13:54:43] SMILES Parse Error: syntax error while parsing: C1CCCC2CC3CCCCCCC3CCCC23CCC(\n",
            "RDKit ERROR: [13:54:43] SMILES Parse Error: Failed parsing SMILES 'C1CCCC2CC3CCCCCCC3CCCC23CCC(' for input: 'C1CCCC2CC3CCCCCCC3CCCC23CCC('\n",
            "RDKit ERROR: [13:54:43] SMILES Parse Error: extra open parentheses for input: 'C1CCCCCC23CC(CC(CCCC4(CCC1)C'\n"
          ],
          "name": "stderr"
        },
        {
          "output_type": "stream",
          "text": [
            "C1CCCC2CCCC3CC(CCC1)C3C21CCC\n",
            "C1CCCC2CC3CCCCCCC3CCCC23CCC(\n",
            "C1CCCCCC23CC(CC(CCCC4(CCC1)C\n"
          ],
          "name": "stdout"
        },
        {
          "output_type": "stream",
          "text": [
            "RDKit ERROR: [13:54:43] SMILES Parse Error: extra open parentheses for input: 'C1CCCCCC2(CCCCC1)CC1CCCC3(CC'\n",
            "RDKit ERROR: [13:54:44] SMILES Parse Error: unclosed ring for input: 'C1CCCCCCC2(CCCCCC1)CCC1CCCCC'\n",
            "RDKit ERROR: [13:54:44] SMILES Parse Error: unclosed ring for input: 'C1CCCC2CC3CC(CC1)CCCCC1(CC1)'\n"
          ],
          "name": "stderr"
        },
        {
          "output_type": "stream",
          "text": [
            "C1CCCCCC2(CCCCC1)CC1CCCC3(CC\n",
            "C1CCCCCCC2(CCCCCC1)CCC1CCCCC\n",
            "C1CCCC2CC3CC(CC1)CCCCC1(CC1)\n"
          ],
          "name": "stdout"
        },
        {
          "output_type": "stream",
          "text": [
            "RDKit ERROR: [13:54:44] SMILES Parse Error: unclosed ring for input: 'C1CCCC2(CCCCC2)C2CCC(CC1)C1C'\n",
            "RDKit ERROR: [13:54:44] SMILES Parse Error: unclosed ring for input: 'C1CCCC2CC3(CCCC(CC1)C3)CCCC1'\n",
            "RDKit ERROR: [13:54:44] SMILES Parse Error: unclosed ring for input: 'C1CCC2CC(CCCC3CCCC3CC1)CCCCC'\n",
            "RDKit ERROR: [13:54:44] SMILES Parse Error: unclosed ring for input: 'C1CCCCC2CC3CCC4(CCCC4C3CCC1)'\n"
          ],
          "name": "stderr"
        },
        {
          "output_type": "stream",
          "text": [
            "C1CCCC2(CCCCC2)C2CCC(CC1)C1C\n",
            "C1CCCC2CC3(CCCC(CC1)C3)CCCC1\n",
            "C1CCC2CC(CCCC3CCCC3CC1)CCCCC\n",
            "C1CCCCC2CC3CCC4(CCCC4C3CCC1)\n"
          ],
          "name": "stdout"
        },
        {
          "output_type": "stream",
          "text": [
            "RDKit ERROR: [13:54:44] SMILES Parse Error: extra open parentheses for input: 'C1CCC2CC3CCC(CCC3)C3(CCCC3C1'\n",
            "RDKit ERROR: [13:54:44] SMILES Parse Error: unclosed ring for input: 'C1CCC2CCC3CCCCC3CCCC3(CC1)CC'\n",
            "RDKit ERROR: [13:54:44] SMILES Parse Error: unclosed ring for input: 'C1CCCC2C3CCCCC3CCCC2CC2CCCC1'\n"
          ],
          "name": "stderr"
        },
        {
          "output_type": "stream",
          "text": [
            "C1CCC2CC3CCC(CCC3)C3(CCCC3C1\n",
            "C1CCC2CCC3CCCCC3CCCC3(CC1)CC\n",
            "C1CCCC2C3CCCCC3CCCC2CC2CCCC1\n"
          ],
          "name": "stdout"
        },
        {
          "output_type": "stream",
          "text": [
            "RDKit ERROR: [13:54:44] SMILES Parse Error: extra open parentheses for input: 'C1CCCCC2CC(CCCC1)C1(CCCCCC3C'\n",
            "RDKit ERROR: [13:54:44] SMILES Parse Error: extra open parentheses for input: 'C1CCCC2(CCCCC3CCC4(CCCC4CC1)'\n",
            "RDKit ERROR: [13:54:44] SMILES Parse Error: extra open parentheses for input: 'C1CCCCC23CCCC(CCC1)CC1(CCCCC'\n",
            "RDKit ERROR: [13:54:44] SMILES Parse Error: unclosed ring for input: 'C1CCCC2CC(CCCC3CCC(CC1)CC3)C'\n"
          ],
          "name": "stderr"
        },
        {
          "output_type": "stream",
          "text": [
            "C1CCCCC2CC(CCCC1)C1(CCCCCC3C\n",
            "C1CCCC2(CCCCC3CCC4(CCCC4CC1)\n",
            "C1CCCCC23CCCC(CCC1)CC1(CCCCC\n",
            "C1CCCC2CC(CCCC3CCC(CC1)CC3)C\n"
          ],
          "name": "stdout"
        },
        {
          "output_type": "stream",
          "text": [
            "RDKit ERROR: [13:54:45] SMILES Parse Error: unclosed ring for input: 'C1CCCC2(CCC1)CCCC1CCCCC3CC2C'\n",
            "RDKit ERROR: [13:54:45] SMILES Parse Error: unclosed ring for input: 'C1CCCCCC23CCCC2C2CCCC(CCC1)C'\n",
            "RDKit ERROR: [13:54:45] SMILES Parse Error: unclosed ring for input: 'C1CC2CCC(C1)C1CCCC3(CCCC3)C2'\n",
            "RDKit ERROR: [13:54:45] SMILES Parse Error: extra open parentheses for input: 'c1cc2c([nH]1)CCCCC1CCCC3(CCC'\n"
          ],
          "name": "stderr"
        },
        {
          "output_type": "stream",
          "text": [
            "C1CCCC2(CCC1)CCCC1CCCCC3CC2C\n",
            "C1CCCCCC23CCCC2C2CCCC(CCC1)C\n",
            "C1CC2CCC(C1)C1CCCC3(CCCC3)C2\n",
            "c1cc2c([nH]1)CCCCC1CCCC3(CCC\n"
          ],
          "name": "stdout"
        },
        {
          "output_type": "stream",
          "text": [
            "RDKit ERROR: [13:54:45] SMILES Parse Error: extra close parentheses while parsing: C1CC2CC3CCC4CC4CC2C3C1)C4\n",
            "RDKit ERROR: [13:54:45] \n",
            "RDKit ERROR: \n",
            "RDKit ERROR: ****\n",
            "RDKit ERROR: Pre-condition Violation\n",
            "RDKit ERROR: no atoms\n",
            "RDKit ERROR: Violation occurred on line 173 in file /home/conda/feedstock_root/build_artifacts/rdkit_1575460121790/work/Code/GraphMol/ROMol.cpp\n",
            "RDKit ERROR: Failed Expression: getNumAtoms() > 0\n",
            "RDKit ERROR: ****\n",
            "RDKit ERROR: \n",
            "RDKit ERROR: [13:54:45] SMILES Parse Error: unclosed ring for input: 'C1CCC2CCCC(CC2)CC2CC(CC1)CCC'\n",
            "RDKit ERROR: [13:54:45] SMILES Parse Error: unclosed ring for input: 'C1CCCC2CC(CC1)CCC1(CC1)CC1CC'\n"
          ],
          "name": "stderr"
        },
        {
          "output_type": "stream",
          "text": [
            "C1CC2CC3CCC4CC4CC2C3C1)C4\n",
            "C1CCC2CCCC(CC2)CC2CC(CC1)CCC\n",
            "C1CCCC2CC(CC1)CCC1(CC1)CC1CC\n"
          ],
          "name": "stdout"
        },
        {
          "output_type": "stream",
          "text": [
            "RDKit ERROR: [13:54:45] SMILES Parse Error: unclosed ring for input: 'C1CCCCCCC2(CCCCCC1)CC1CCC3CC'\n",
            "RDKit ERROR: [13:54:45] SMILES Parse Error: syntax error while parsing: C1CCCCCCC2C(CCCCC1)CCC1CCC3(\n",
            "RDKit ERROR: [13:54:45] SMILES Parse Error: Failed parsing SMILES 'C1CCCCCCC2C(CCCCC1)CCC1CCC3(' for input: 'C1CCCCCCC2C(CCCCC1)CCC1CCC3('\n",
            "RDKit ERROR: [13:54:45] SMILES Parse Error: extra open parentheses for input: 'C1CCCCCCC2(CCCCCC1)CCCC1(CCC'\n",
            "RDKit ERROR: [13:54:45] SMILES Parse Error: unclosed ring for input: 'C1CCCCC23CCCC4(CCCCC4)C2CCC3'\n"
          ],
          "name": "stderr"
        },
        {
          "output_type": "stream",
          "text": [
            "C1CCCCCCC2(CCCCCC1)CC1CCC3CC\n",
            "C1CCCCCCC2C(CCCCC1)CCC1CCC3(\n",
            "C1CCCCCCC2(CCCCCC1)CCCC1(CCC\n",
            "C1CCCCC23CCCC4(CCCCC4)C2CCC3\n"
          ],
          "name": "stdout"
        },
        {
          "output_type": "stream",
          "text": [
            "RDKit ERROR: [13:54:45] SMILES Parse Error: unclosed ring for input: 'c1ccc2c(c1)CC1CCCCC3CCCCCCCC'\n",
            "RDKit ERROR: [13:54:46] SMILES Parse Error: unclosed ring for input: 'C1CCC2CCCC3(CCCCC3)CCCC2CCCC'\n",
            "RDKit ERROR: [13:54:46] SMILES Parse Error: ring closure 1 duplicates bond between atom 14 and atom 15 for input: 'C1CCC2CCC3(CC2CC1)CCCC1(C1)C'\n"
          ],
          "name": "stderr"
        },
        {
          "output_type": "stream",
          "text": [
            "c1ccc2c(c1)CC1CCCCC3CCCCCCCC\n",
            "C1CCC2CCCC3(CCCCC3)CCCC2CCCC\n",
            "C1CCC2CCC3(CC2CC1)CCCC1(C1)C\n"
          ],
          "name": "stdout"
        },
        {
          "output_type": "stream",
          "text": [
            "RDKit ERROR: [13:54:46] SMILES Parse Error: unclosed ring for input: 'C1CCCC2CCC(CC2)C2CCC3CCCCC3C'\n",
            "RDKit ERROR: [13:54:46] SMILES Parse Error: unclosed ring for input: 'C1CCC2CCC3(CC2)CC(CC1)CCC31C'\n"
          ],
          "name": "stderr"
        },
        {
          "output_type": "stream",
          "text": [
            "C1CCCC2CCC(CC2)C2CCC3CCCCC3C\n",
            "C1CCC2CCC3(CC2)CC(CC1)CCC31C\n"
          ],
          "name": "stdout"
        },
        {
          "output_type": "stream",
          "text": [
            "RDKit ERROR: [13:54:46] SMILES Parse Error: unclosed ring for input: 'C1CCCC2CC3(CCCCC2CCC1)CCCCC1'\n",
            "RDKit ERROR: [13:54:46] SMILES Parse Error: unclosed ring for input: 'C1CCCC2CCC3(CCC1)CCC1(CCCC1)'\n",
            "RDKit ERROR: [13:54:46] SMILES Parse Error: unclosed ring for input: 'C1CCC2(CC1)CCCCCC1CCCCC3CCCC'\n",
            "RDKit ERROR: [13:54:46] SMILES Parse Error: unclosed ring for input: 'C1CCCC2(CCCCC3(CC1)CCCC3)CCC'\n"
          ],
          "name": "stderr"
        },
        {
          "output_type": "stream",
          "text": [
            "C1CCCC2CC3(CCCCC2CCC1)CCCCC1\n",
            "C1CCCC2CCC3(CCC1)CCC1(CCCC1)\n",
            "C1CCC2(CC1)CCCCCC1CCCCC3CCCC\n",
            "C1CCCC2(CCCCC3(CC1)CCCC3)CCC\n"
          ],
          "name": "stdout"
        },
        {
          "output_type": "stream",
          "text": [
            "RDKit ERROR: [13:54:46] SMILES Parse Error: unclosed ring for input: 'c1ccc2c(c1)CC1CCCC3CCCCCCCCC'\n",
            "RDKit ERROR: [13:54:46] SMILES Parse Error: unclosed ring for input: 'C1CCCC2CCC3CC4(CCCCC4)CCC23C'\n",
            "RDKit ERROR: [13:54:46] SMILES Parse Error: unclosed ring for input: 'C1CCCCCC2CCCC3CCCC2C2CCCC2C3'\n"
          ],
          "name": "stderr"
        },
        {
          "output_type": "stream",
          "text": [
            "c1ccc2c(c1)CC1CCCC3CCCCCCCCC\n",
            "C1CCCC2CCC3CC4(CCCCC4)CCC23C\n",
            "C1CCCCCC2CCCC3CCCC2C2CCCC2C3\n"
          ],
          "name": "stdout"
        },
        {
          "output_type": "stream",
          "text": [
            "RDKit ERROR: [13:54:47] SMILES Parse Error: unclosed ring for input: 'C1CCC2CC(C2)C2CC3CCC(CC1)C3C'\n",
            "RDKit ERROR: [13:54:47] SMILES Parse Error: unclosed ring for input: 'c1cc2c([nH]1)CC1CCCCCCCCCCC2'\n",
            "RDKit ERROR: [13:54:47] SMILES Parse Error: unclosed ring for input: 'C1CC2CCC(C1)CC1CCCC3(C2)C3'\n"
          ],
          "name": "stderr"
        },
        {
          "output_type": "stream",
          "text": [
            "C1CCC2CC(C2)C2CC3CCC(CC1)C3C\n",
            "c1cc2c([nH]1)CC1CCCCCCCCCCC2\n",
            "C1CC2CCC(C1)CC1CCCC3(C2)C3\n"
          ],
          "name": "stdout"
        },
        {
          "output_type": "stream",
          "text": [
            "RDKit ERROR: [13:54:47] SMILES Parse Error: unclosed ring for input: 'C1CCC2CC3CC(CC1)CC1(CCCC1)C2'\n",
            "RDKit ERROR: [13:54:47] SMILES Parse Error: extra open parentheses for input: 'c1ccc2c3c(ccc2c1)CCCCCC1(CCC'\n",
            "RDKit ERROR: [13:54:47] SMILES Parse Error: unclosed ring for input: 'C1CCCCC2CC(CCCC1)C1CCCC3(C1)'\n"
          ],
          "name": "stderr"
        },
        {
          "output_type": "stream",
          "text": [
            "C1CCC2CC3CC(CC1)CC1(CCCC1)C2\n",
            "c1ccc2c3c(ccc2c1)CCCCCC1(CCC\n",
            "C1CCCCC2CC(CCCC1)C1CCCC3(C1)\n"
          ],
          "name": "stdout"
        },
        {
          "output_type": "stream",
          "text": [
            "RDKit ERROR: [13:54:47] SMILES Parse Error: extra open parentheses for input: 'c1cc2c3c(c1)C1(CCCCCCCCCCCC1'\n",
            "RDKit ERROR: [13:54:47] SMILES Parse Error: unclosed ring for input: 'C1CCC2CC(CC3CCCCC(CC1)C3)CCC'\n",
            "RDKit ERROR: [13:54:47] SMILES Parse Error: extra open parentheses for input: 'C1CCCC2CC3CC(CCC1)CC1(CCCCC1'\n",
            "RDKit ERROR: [13:54:47] SMILES Parse Error: unclosed ring for input: 'c1cc2c([nH]1)CCCCCC1CCCCCCCC'\n"
          ],
          "name": "stderr"
        },
        {
          "output_type": "stream",
          "text": [
            "c1cc2c3c(c1)C1(CCCCCCCCCCCC1\n",
            "C1CCC2CC(CC3CCCCC(CC1)C3)CCC\n",
            "C1CCCC2CC3CC(CCC1)CC1(CCCCC1\n",
            "c1cc2c([nH]1)CCCCCC1CCCCCCCC\n"
          ],
          "name": "stdout"
        },
        {
          "output_type": "stream",
          "text": [
            "RDKit ERROR: [13:54:47] SMILES Parse Error: unclosed ring for input: 'C1CCC2CC3CCC(CC1)CC1(CCCC1)C'\n",
            "RDKit ERROR: [13:54:47] SMILES Parse Error: extra open parentheses for input: 'C1CCC2(CCCCC3CCC(CCC3)C3(CC1'\n",
            "RDKit ERROR: [13:54:47] SMILES Parse Error: unclosed ring for input: 'C1CCCC2CC3CCC4(CCCCC4)CC2C3C'\n"
          ],
          "name": "stderr"
        },
        {
          "output_type": "stream",
          "text": [
            "C1CCC2CC3CCC(CC1)CC1(CCCC1)C\n",
            "C1CCC2(CCCCC3CCC(CCC3)C3(CC1\n",
            "C1CCCC2CC3CCC4(CCCCC4)CC2C3C\n"
          ],
          "name": "stdout"
        },
        {
          "output_type": "stream",
          "text": [
            "RDKit ERROR: [13:54:48] SMILES Parse Error: unclosed ring for input: 'C1CCC2CCCCC2CCC2(CCC2)CC2CCC'\n",
            "RDKit ERROR: [13:54:48] SMILES Parse Error: unclosed ring for input: 'C1CCCCC2(CCCCC3(CCC1)CC3)CCC'\n",
            "RDKit ERROR: [13:54:48] SMILES Parse Error: unclosed ring for input: 'C1CCCC2(CC1)CCCC1CCCCC1CCCC1'\n",
            "RDKit ERROR: [13:54:48] SMILES Parse Error: unclosed ring for input: 'c1[nH]c2c3c1CCCCC3C1CCCCCCCC'\n",
            "RDKit ERROR: [13:54:48] SMILES Parse Error: extra open parentheses for input: 'c1ccc2c(c1)CCCCCC1CCCCC3(CC3'\n"
          ],
          "name": "stderr"
        },
        {
          "output_type": "stream",
          "text": [
            "C1CCC2CCCCC2CCC2(CCC2)CC2CCC\n",
            "C1CCCCC2(CCCCC3(CCC1)CC3)CCC\n",
            "C1CCCC2(CC1)CCCC1CCCCC1CCCC1\n",
            "c1[nH]c2c3c1CCCCC3C1CCCCCCCC\n",
            "c1ccc2c(c1)CCCCCC1CCCCC3(CC3\n"
          ],
          "name": "stdout"
        },
        {
          "output_type": "stream",
          "text": [
            "RDKit ERROR: [13:54:48] SMILES Parse Error: extra open parentheses for input: 'C1CCCC2CCC3(CCC4(CCC1)CCCC3C'\n",
            "RDKit ERROR: [13:54:48] SMILES Parse Error: unclosed ring for input: 'C1CCCC2(CCCCC2)CC2(CCC1)CCCC'\n",
            "RDKit ERROR: [13:54:48] SMILES Parse Error: extra open parentheses for input: 'C1CCCC2(CCCCC2)CC2CC3CCCC(CC'\n",
            "RDKit ERROR: [13:54:48] SMILES Parse Error: unclosed ring for input: 'C1CCCCCC2(CCCC2)C2CC(CCCC1)C'\n"
          ],
          "name": "stderr"
        },
        {
          "output_type": "stream",
          "text": [
            "C1CCCC2CCC3(CCC4(CCC1)CCCC3C\n",
            "C1CCCC2(CCCCC2)CC2(CCC1)CCCC\n",
            "C1CCCC2(CCCCC2)CC2CC3CCCC(CC\n",
            "C1CCCCCC2(CCCC2)C2CC(CCCC1)C\n"
          ],
          "name": "stdout"
        },
        {
          "output_type": "stream",
          "text": [
            "RDKit ERROR: [13:54:48] SMILES Parse Error: unclosed ring for input: 'c1cc2c3c(c1)CCC1CCCCCCCCCC1C'\n",
            "RDKit ERROR: [13:54:48] SMILES Parse Error: unclosed ring for input: 'C1CCC2CCC3CCC(CC3)C3(CC1)C3C'\n",
            "RDKit ERROR: [13:54:48] SMILES Parse Error: extra open parentheses for input: 'C1CCCCC2CCCCCC2C2CC3CCCCC(CC'\n",
            "RDKit ERROR: [13:54:48] SMILES Parse Error: unclosed ring for input: 'C1CCCCC2C3CC(CCC1)CCCCC3C1CC'\n"
          ],
          "name": "stderr"
        },
        {
          "output_type": "stream",
          "text": [
            "c1cc2c3c(c1)CCC1CCCCCCCCCC1C\n",
            "C1CCC2CCC3CCC(CC3)C3(CC1)C3C\n",
            "C1CCCCC2CCCCCC2C2CC3CCCCC(CC\n",
            "C1CCCCC2C3CC(CCC1)CCCCC3C1CC\n"
          ],
          "name": "stdout"
        },
        {
          "output_type": "stream",
          "text": [
            "RDKit ERROR: [13:54:48] SMILES Parse Error: extra open parentheses for input: 'c1cc2c([nH]1)CCC1(CCCCCCCCCC'\n",
            "RDKit ERROR: [13:54:49] SMILES Parse Error: unclosed ring for input: 'C1CCC2(CC1)CCCC1CCCC3(CC3)C1'\n"
          ],
          "name": "stderr"
        },
        {
          "output_type": "stream",
          "text": [
            "c1cc2c([nH]1)CCC1(CCCCCCCCCC\n",
            "C1CCC2(CC1)CCCC1CCCC3(CC3)C1\n"
          ],
          "name": "stdout"
        },
        {
          "output_type": "stream",
          "text": [
            "RDKit ERROR: [13:54:49] SMILES Parse Error: unclosed ring for input: 'C1CCCC2CCC2CC2(CCC1)CCCCC1CC'\n",
            "RDKit ERROR: [13:54:49] SMILES Parse Error: unclosed ring for input: 'c1ccc2c(c1)CCCCC1(CCCCC1)CCC'\n",
            "RDKit ERROR: [13:54:49] SMILES Parse Error: syntax error while parsing: C1CCCCCC2CCC(CCCC1)CCC3CCCC(\n",
            "RDKit ERROR: [13:54:49] SMILES Parse Error: Failed parsing SMILES 'C1CCCCCC2CCC(CCCC1)CCC3CCCC(' for input: 'C1CCCCCC2CCC(CCCC1)CCC3CCCC('\n"
          ],
          "name": "stderr"
        },
        {
          "output_type": "stream",
          "text": [
            "C1CCCC2CCC2CC2(CCC1)CCCCC1CC\n",
            "c1ccc2c(c1)CCCCC1(CCCCC1)CCC\n",
            "C1CCCCCC2CCC(CCCC1)CCC3CCCC(\n"
          ],
          "name": "stdout"
        },
        {
          "output_type": "stream",
          "text": [
            "RDKit ERROR: [13:54:49] SMILES Parse Error: unclosed ring for input: 'C1CCC2CCCC2CCCC2CC(CC1)C21CC'\n",
            "RDKit ERROR: [13:54:49] SMILES Parse Error: extra open parentheses for input: 'C1CCCCC2C3CCC(CC4(CCCC1)CC34'\n",
            "RDKit ERROR: [13:54:49] SMILES Parse Error: unclosed ring for input: 'C1CCC2CCCC3(CC1)CCCCC1CCC23'\n"
          ],
          "name": "stderr"
        },
        {
          "output_type": "stream",
          "text": [
            "C1CCC2CCCC2CCCC2CC(CC1)C21CC\n",
            "C1CCCCC2C3CCC(CC4(CCCC1)CC34\n",
            "C1CCC2CCCC3(CC1)CCCCC1CCC23\n"
          ],
          "name": "stdout"
        },
        {
          "output_type": "stream",
          "text": [
            "RDKit ERROR: [13:54:49] SMILES Parse Error: extra open parentheses for input: 'C1CCC2(CC1)CCCC1CCCC3CCCC(CC'\n",
            "RDKit ERROR: [13:54:49] SMILES Parse Error: unclosed ring for input: 'C1CCCCC2(CCC3(CCC1)CCCC3)CCC'\n",
            "RDKit ERROR: [13:54:49] SMILES Parse Error: unclosed ring for input: 'C1CCC2CCCC2CCCC23CCCCC2CCC3C'\n",
            "RDKit ERROR: [13:54:50] SMILES Parse Error: unclosed ring for input: 'C1CCCC2(CC1)CCCCC1(CCCC1)CCC'\n"
          ],
          "name": "stderr"
        },
        {
          "output_type": "stream",
          "text": [
            "C1CCC2(CC1)CCCC1CCCC3CCCC(CC\n",
            "C1CCCCC2(CCC3(CCC1)CCCC3)CCC\n",
            "C1CCC2CCCC2CCCC23CCCCC2CCC3C\n",
            "C1CCCC2(CC1)CCCCC1(CCCC1)CCC\n"
          ],
          "name": "stdout"
        },
        {
          "output_type": "stream",
          "text": [
            "RDKit ERROR: [13:54:50] SMILES Parse Error: extra open parentheses for input: 'C1CCC2(CC1)CCCC1CCCC3CCC(CCC'\n",
            "RDKit ERROR: [13:54:50] SMILES Parse Error: unclosed ring for input: 'C1CCCCCC2(CCCC2)C2CC(CCCC1)C'\n",
            "RDKit ERROR: [13:54:50] SMILES Parse Error: unclosed ring for input: 'C1CCC2(CCC2)CC2CCC3(CCCC3)CC'\n",
            "RDKit ERROR: [13:54:50] SMILES Parse Error: unclosed ring for input: 'C1CCC2CC(CC2)C2(CCCCC2)CCC2C'\n"
          ],
          "name": "stderr"
        },
        {
          "output_type": "stream",
          "text": [
            "C1CCC2(CC1)CCCC1CCCC3CCC(CCC\n",
            "C1CCCCCC2(CCCC2)C2CC(CCCC1)C\n",
            "C1CCC2(CCC2)CC2CCC3(CCCC3)CC\n",
            "C1CCC2CC(CC2)C2(CCCCC2)CCC2C\n"
          ],
          "name": "stdout"
        },
        {
          "output_type": "stream",
          "text": [
            "RDKit ERROR: [13:54:50] SMILES Parse Error: unclosed ring for input: 'C1CCCCC2CCCCC23CCCCC2CCCC2C3'\n",
            "RDKit ERROR: [13:54:50] SMILES Parse Error: unclosed ring for input: 'c1ccc2c(c1)CCC13CCCCCCCCCCCC'\n",
            "RDKit ERROR: [13:54:50] SMILES Parse Error: unclosed ring for input: 'c1ccc2c(c1)CCCCCCCC1CC3CCCCC'\n"
          ],
          "name": "stderr"
        },
        {
          "output_type": "stream",
          "text": [
            "C1CCCCC2CCCCC23CCCCC2CCCC2C3\n",
            "c1ccc2c(c1)CCC13CCCCCCCCCCCC\n",
            "c1ccc2c(c1)CCCCCCCC1CC3CCCCC\n"
          ],
          "name": "stdout"
        },
        {
          "output_type": "stream",
          "text": [
            "RDKit ERROR: [13:54:50] SMILES Parse Error: unclosed ring for input: 'C1CCCCC23CCCCC2C2(CCCC1)CCCC'\n",
            "RDKit ERROR: [13:54:50] SMILES Parse Error: unclosed ring for input: 'C1CCCC2CCC3CCCCC4CC2C3CCC1'\n",
            "RDKit ERROR: [13:54:50] SMILES Parse Error: extra open parentheses for input: 'C1CCCCC23CCCC(CCC1)C2C1(CCCC'\n",
            "RDKit ERROR: [13:54:50] SMILES Parse Error: unclosed ring for input: 'C1CCCCCC2(CCCCC1)CC1CC3CCCC2'\n"
          ],
          "name": "stderr"
        },
        {
          "output_type": "stream",
          "text": [
            "C1CCCCC23CCCCC2C2(CCCC1)CCCC\n",
            "C1CCCC2CCC3CCCCC4CC2C3CCC1\n",
            "C1CCCCC23CCCC(CCC1)C2C1(CCCC\n",
            "C1CCCCCC2(CCCCC1)CC1CC3CCCC2\n"
          ],
          "name": "stdout"
        },
        {
          "output_type": "stream",
          "text": [
            "RDKit ERROR: [13:54:50] SMILES Parse Error: unclosed ring for input: 'C1CCCC2(CCCC3(CCCCC3)C2)CC2C'\n",
            "RDKit ERROR: [13:54:50] SMILES Parse Error: unclosed ring for input: 'C1CC2CCC2CC23CCCC(CCC2C1)CCC'\n",
            "RDKit ERROR: [13:54:50] SMILES Parse Error: unclosed ring for input: 'C1CCC2(CC1)CCCC1CC3CCCCCC2C3'\n"
          ],
          "name": "stderr"
        },
        {
          "output_type": "stream",
          "text": [
            "C1CCCC2(CCCC3(CCCCC3)C2)CC2C\n",
            "C1CC2CCC2CC23CCCC(CCC2C1)CCC\n",
            "C1CCC2(CC1)CCCC1CC3CCCCCC2C3\n"
          ],
          "name": "stdout"
        },
        {
          "output_type": "stream",
          "text": [
            "RDKit ERROR: [13:54:51] SMILES Parse Error: extra open parentheses for input: 'C1CCCCC2(CCCCC3CCC(CC1)CCCC3'\n",
            "RDKit ERROR: [13:54:51] SMILES Parse Error: unclosed ring for input: 'C1CCCCC2CCCCC23CC2(CCCCC1)CC'\n",
            "RDKit ERROR: [13:54:51] SMILES Parse Error: unclosed ring for input: 'C1CCCCC2CC3(CCCCCC3)CCCC2CCC'\n",
            "RDKit ERROR: [13:54:51] SMILES Parse Error: unclosed ring for input: 'C1CCCCCC2CC3(CCCCC4CCC4C3)C2'\n"
          ],
          "name": "stderr"
        },
        {
          "output_type": "stream",
          "text": [
            "C1CCCCC2(CCCCC3CCC(CC1)CCCC3\n",
            "C1CCCCC2CCCCC23CC2(CCCCC1)CC\n",
            "C1CCCCC2CC3(CCCCCC3)CCCC2CCC\n",
            "C1CCCCCC2CC3(CCCCC4CCC4C3)C2\n"
          ],
          "name": "stdout"
        },
        {
          "output_type": "stream",
          "text": [
            "RDKit ERROR: [13:54:51] SMILES Parse Error: unclosed ring for input: 'C1CCCC2CC(CC1)CC1CCCC2C2CC1'\n",
            "RDKit ERROR: [13:54:51] SMILES Parse Error: extra open parentheses for input: 'C1CCCC2CCCCC2CCCC(C2)CC2(CCC'\n",
            "RDKit ERROR: [13:54:51] SMILES Parse Error: unclosed ring for input: 'C1CCCCCC23CCCC4CCCC4(CCCC1)C'\n"
          ],
          "name": "stderr"
        },
        {
          "output_type": "stream",
          "text": [
            "C1CCCC2CC(CC1)CC1CCCC2C2CC1\n",
            "C1CCCC2CCCCC2CCCC(C2)CC2(CCC\n",
            "C1CCCCCC23CCCC4CCCC4(CCCC1)C\n"
          ],
          "name": "stdout"
        },
        {
          "output_type": "stream",
          "text": [
            "RDKit ERROR: [13:54:51] SMILES Parse Error: extra open parentheses for input: 'c1ccc2c(c1)CCCCCC1CCC3(CCCC3'\n",
            "RDKit ERROR: [13:54:51] SMILES Parse Error: unclosed ring for input: 'C1CCCC2CCCCC23CC(CC1)CC1CCC1'\n",
            "RDKit ERROR: [13:54:51] SMILES Parse Error: unclosed ring for input: 'C1CCC2CCC(CCCC3(CC1)CCCC3)CC'\n",
            "RDKit ERROR: [13:54:51] SMILES Parse Error: extra open parentheses for input: 'C1CCC2CCC3(CCC4(CCCCC4)C3CC1'\n"
          ],
          "name": "stderr"
        },
        {
          "output_type": "stream",
          "text": [
            "c1ccc2c(c1)CCCCCC1CCC3(CCCC3\n",
            "C1CCCC2CCCCC23CC(CC1)CC1CCC1\n",
            "C1CCC2CCC(CCCC3(CC1)CCCC3)CC\n",
            "C1CCC2CCC3(CCC4(CCCCC4)C3CC1\n"
          ],
          "name": "stdout"
        },
        {
          "output_type": "stream",
          "text": [
            "RDKit ERROR: [13:54:51] SMILES Parse Error: unclosed ring for input: 'C1CCCCCC2CC(CCCC1)CC1(CC1)CC'\n",
            "RDKit ERROR: [13:54:51] SMILES Parse Error: unclosed ring for input: 'C1CCCC2CCCC3CCC2C(CCC1)CCC1C'\n",
            "RDKit ERROR: [13:54:52] SMILES Parse Error: unclosed ring for input: 'C1CCCC2CC3CCCC4(CCCC4)C2CC3C'\n",
            "RDKit ERROR: [13:54:52] SMILES Parse Error: ring closure 3 duplicates bond between atom 3 and atom 16 for input: 'C1CCC23CCC(C1)CC1CCCCCC1C23'\n"
          ],
          "name": "stderr"
        },
        {
          "output_type": "stream",
          "text": [
            "C1CCCCCC2CC(CCCC1)CC1(CC1)CC\n",
            "C1CCCC2CCCC3CCC2C(CCC1)CCC1C\n",
            "C1CCCC2CC3CCCC4(CCCC4)C2CC3C\n",
            "C1CCC23CCC(C1)CC1CCCCCC1C23\n"
          ],
          "name": "stdout"
        },
        {
          "output_type": "stream",
          "text": [
            "RDKit ERROR: [13:54:52] SMILES Parse Error: extra open parentheses for input: 'C1CCCCCC23CCC(CC4CCC4)C(CCCC'\n",
            "RDKit ERROR: [13:54:52] SMILES Parse Error: extra open parentheses for input: 'C1CCCCC2CCC3(CCCC1)CCCCC1(CC'\n",
            "RDKit ERROR: [13:54:52] SMILES Parse Error: unclosed ring for input: 'C1CCCCCC2(CCCCC1)CCCC1CCCC23'\n",
            "RDKit ERROR: [13:54:52] SMILES Parse Error: unclosed ring for input: 'c1ccc2c(c1)CCCC1CCCCCC1CCC1C'\n"
          ],
          "name": "stderr"
        },
        {
          "output_type": "stream",
          "text": [
            "C1CCCCCC23CCC(CC4CCC4)C(CCCC\n",
            "C1CCCCC2CCC3(CCCC1)CCCCC1(CC\n",
            "C1CCCCCC2(CCCCC1)CCCC1CCCC23\n",
            "c1ccc2c(c1)CCCC1CCCCCC1CCC1C\n"
          ],
          "name": "stdout"
        },
        {
          "output_type": "stream",
          "text": [
            "RDKit ERROR: [13:54:52] SMILES Parse Error: unclosed ring for input: 'c1ccc2c(c1)CCC1CCCCCCCCC13CC'\n",
            "RDKit ERROR: [13:54:52] SMILES Parse Error: unclosed ring for input: 'C1CCCC23CCCC(CCC4(CC1)CCCC4)'\n",
            "RDKit ERROR: [13:54:52] SMILES Parse Error: unclosed ring for input: 'C1CCCC2C3CCCCCC3C2CC2(CCC1)C'\n",
            "RDKit ERROR: [13:54:52] SMILES Parse Error: unclosed ring for input: 'C1CCCC2(CCCC2)CC2(CCC1)CCCCC'\n"
          ],
          "name": "stderr"
        },
        {
          "output_type": "stream",
          "text": [
            "c1ccc2c(c1)CCC1CCCCCCCCC13CC\n",
            "C1CCCC23CCCC(CCC4(CC1)CCCC4)\n",
            "C1CCCC2C3CCCCCC3C2CC2(CCC1)C\n",
            "C1CCCC2(CCCC2)CC2(CCC1)CCCCC\n"
          ],
          "name": "stdout"
        },
        {
          "output_type": "stream",
          "text": [
            "RDKit ERROR: [13:54:52] SMILES Parse Error: unclosed ring for input: 'C1CCCC2CCC3(CCCCC3)C2CCC2CCC'\n",
            "RDKit ERROR: [13:54:52] SMILES Parse Error: extra open parentheses for input: 'c1ccc2c(c1)CCC1CC3(CCCCCCCCC'\n",
            "RDKit ERROR: [13:54:52] SMILES Parse Error: unclosed ring for input: 'C1CCCC2(CCCCCC3CCC(CC1)C3)CC'\n"
          ],
          "name": "stderr"
        },
        {
          "output_type": "stream",
          "text": [
            "C1CCCC2CCC3(CCCCC3)C2CCC2CCC\n",
            "c1ccc2c(c1)CCC1CC3(CCCCCCCCC\n",
            "C1CCCC2(CCCCCC3CCC(CC1)C3)CC\n"
          ],
          "name": "stdout"
        },
        {
          "output_type": "stream",
          "text": [
            "RDKit ERROR: [13:54:52] SMILES Parse Error: unclosed ring for input: 'c1cc2c([nH]1)CCCCCC1(CCCCC1)'\n"
          ],
          "name": "stderr"
        },
        {
          "output_type": "stream",
          "text": [
            "c1cc2c([nH]1)CCCCCC1(CCCCC1)\n"
          ],
          "name": "stdout"
        },
        {
          "output_type": "stream",
          "text": [
            "RDKit ERROR: [13:54:53] SMILES Parse Error: unclosed ring for input: 'c1cc2c([nH]1)CC1CCCCCCC3CCCC'\n",
            "RDKit ERROR: [13:54:53] SMILES Parse Error: unclosed ring for input: 'C1CCCC2(CCCCC3(CC1)CC3)CCC21'\n",
            "RDKit ERROR: [13:54:53] SMILES Parse Error: unclosed ring for input: 'C1CCCCCC2(CCCCCC2)C2CCC3CCCC'\n"
          ],
          "name": "stderr"
        },
        {
          "output_type": "stream",
          "text": [
            "c1cc2c([nH]1)CC1CCCCCCC3CCCC\n",
            "C1CCCC2(CCCCC3(CC1)CC3)CCC21\n",
            "C1CCCCCC2(CCCCCC2)C2CCC3CCCC\n"
          ],
          "name": "stdout"
        },
        {
          "output_type": "stream",
          "text": [
            "RDKit ERROR: [13:54:53] SMILES Parse Error: unclosed ring for input: 'c1cc2c([nH]1)CCCCCC1(CCCCC1)'\n",
            "RDKit ERROR: [13:54:53] SMILES Parse Error: extra open parentheses for input: 'C1CCCC2(CCCCCC2)CCC2CCCC3(CC'\n",
            "RDKit ERROR: [13:54:53] SMILES Parse Error: extra open parentheses for input: 'C1CCC2CCCC2CC23CCCCC(CCC2CC1'\n",
            "RDKit ERROR: [13:54:53] SMILES Parse Error: unclosed ring for input: 'c1cc2c([nH]1)CCCCCC1CCCCC1CC'\n"
          ],
          "name": "stderr"
        },
        {
          "output_type": "stream",
          "text": [
            "c1cc2c([nH]1)CCCCCC1(CCCCC1)\n",
            "C1CCCC2(CCCCCC2)CCC2CCCC3(CC\n",
            "C1CCC2CCCC2CC23CCCCC(CCC2CC1\n",
            "c1cc2c([nH]1)CCCCCC1CCCCC1CC\n"
          ],
          "name": "stdout"
        },
        {
          "output_type": "stream",
          "text": [
            "RDKit ERROR: [13:54:53] SMILES Parse Error: unclosed ring for input: 'c1ccc2c(c1)CC1(CCCCC1)CCCCC1'\n",
            "RDKit ERROR: [13:54:53] SMILES Parse Error: unclosed ring for input: 'c1[nH]c2c3c1CCCC(CCCCCC3)C21'\n",
            "RDKit ERROR: [13:54:53] SMILES Parse Error: unclosed ring for input: 'c1cc2c([nH]1)CCCCC1CCCCCCC1C'\n",
            "RDKit ERROR: [13:54:53] SMILES Parse Error: unclosed ring for input: 'C1CCC23CCCC(C1)CCCCC1CCCC23'\n"
          ],
          "name": "stderr"
        },
        {
          "output_type": "stream",
          "text": [
            "c1ccc2c(c1)CC1(CCCCC1)CCCCC1\n",
            "c1[nH]c2c3c1CCCC(CCCCCC3)C21\n",
            "c1cc2c([nH]1)CCCCC1CCCCCCC1C\n",
            "C1CCC23CCCC(C1)CCCCC1CCCC23\n"
          ],
          "name": "stdout"
        },
        {
          "output_type": "stream",
          "text": [
            "RDKit ERROR: [13:54:54] SMILES Parse Error: unclosed ring for input: 'C1CCCC2CCCC3(CCC1)CCCCCCC3C1'\n",
            "RDKit ERROR: [13:54:54] SMILES Parse Error: extra open parentheses for input: 'C1CCCCCCC2(CCCCCC1)CCC1(CCCC'\n",
            "RDKit ERROR: [13:54:54] SMILES Parse Error: extra open parentheses for input: 'C1CCCCCC2C3CC(CCCC4CCCCC4CCC'\n"
          ],
          "name": "stderr"
        },
        {
          "output_type": "stream",
          "text": [
            "C1CCCC2CCCC3(CCC1)CCCCCCC3C1\n",
            "C1CCCCCCC2(CCCCCC1)CCC1(CCCC\n",
            "C1CCCCCC2C3CC(CCCC4CCCCC4CCC\n"
          ],
          "name": "stdout"
        },
        {
          "output_type": "stream",
          "text": [
            "RDKit ERROR: [13:54:54] SMILES Parse Error: unclosed ring for input: 'c1cc2c([nH]1)CCC1CCCCCCCCCC1'\n",
            "RDKit ERROR: [13:54:54] SMILES Parse Error: extra open parentheses for input: 'c1cc2c([nH]1)CC1(CCCCCCCCCC3'\n",
            "RDKit ERROR: [13:54:54] SMILES Parse Error: extra open parentheses for input: 'C1CCC2(CCCCC3CCC(CC3)C3(CC1)'\n",
            "RDKit ERROR: [13:54:54] SMILES Parse Error: unclosed ring for input: 'C1CCCC2(CCCCC3CCCC(CC1)C3)CC'\n"
          ],
          "name": "stderr"
        },
        {
          "output_type": "stream",
          "text": [
            "c1cc2c([nH]1)CCC1CCCCCCCCCC1\n",
            "c1cc2c([nH]1)CC1(CCCCCCCCCC3\n",
            "C1CCC2(CCCCC3CCC(CC3)C3(CC1)\n",
            "C1CCCC2(CCCCC3CCCC(CC1)C3)CC\n"
          ],
          "name": "stdout"
        },
        {
          "output_type": "stream",
          "text": [
            "RDKit ERROR: [13:54:54] SMILES Parse Error: unclosed ring for input: 'C1CCCC2CC3CCC4(CCCC4)CC2C3CC'\n",
            "RDKit ERROR: [13:54:54] SMILES Parse Error: unclosed ring for input: 'C1CCCC2CCC3C(CCC1)CCCCC3C1C2'\n",
            "RDKit ERROR: [13:54:54] SMILES Parse Error: unclosed ring for input: 'C1CC2CCC3CC(CCCC3)CCCCC3CCC3'\n"
          ],
          "name": "stderr"
        },
        {
          "output_type": "stream",
          "text": [
            "C1CCCC2CC3CCC4(CCCC4)CC2C3CC\n",
            "C1CCCC2CCC3C(CCC1)CCCCC3C1C2\n",
            "C1CC2CCC3CC(CCCC3)CCCCC3CCC3\n"
          ],
          "name": "stdout"
        },
        {
          "output_type": "stream",
          "text": [
            "RDKit ERROR: [13:54:54] SMILES Parse Error: unclosed ring for input: 'C1CCC2(CC1)CCCC1CCC3CCCCC3C2'\n",
            "RDKit ERROR: [13:54:54] SMILES Parse Error: unclosed ring for input: 'C1CCCCC2CCC3(CCCC1)CCCCCC3C1'\n",
            "RDKit ERROR: [13:54:54] SMILES Parse Error: extra open parentheses for input: 'C1CCCCC2(CCC1)CC1CC(CC1)C1(C'\n",
            "RDKit ERROR: [13:54:55] SMILES Parse Error: unclosed ring for input: 'c1cc2c([nH]1)CCCCCCCC13CCCCC'\n"
          ],
          "name": "stderr"
        },
        {
          "output_type": "stream",
          "text": [
            "C1CCC2(CC1)CCCC1CCC3CCCCC3C2\n",
            "C1CCCCC2CCC3(CCCC1)CCCCCC3C1\n",
            "C1CCCCC2(CCC1)CC1CC(CC1)C1(C\n",
            "c1cc2c([nH]1)CCCCCCCC13CCCCC\n"
          ],
          "name": "stdout"
        },
        {
          "output_type": "stream",
          "text": [
            "RDKit ERROR: [13:54:55] SMILES Parse Error: extra open parentheses for input: 'C1CCCCC2(CCCC1)CCC13CCC(CCCC'\n",
            "RDKit ERROR: [13:54:55] SMILES Parse Error: unclosed ring for input: 'C1CCCC2(CCCCC2)C2(CCCCC2)CCC'\n",
            "RDKit ERROR: [13:54:55] SMILES Parse Error: unclosed ring for input: 'C1CCC2CCC(CCCC3(CC1)CC3)CCCC'\n"
          ],
          "name": "stderr"
        },
        {
          "output_type": "stream",
          "text": [
            "C1CCCCC2(CCCC1)CCC13CCC(CCCC\n",
            "C1CCCC2(CCCCC2)C2(CCCCC2)CCC\n",
            "C1CCC2CCC(CCCC3(CC1)CC3)CCCC\n"
          ],
          "name": "stdout"
        },
        {
          "output_type": "stream",
          "text": [
            "RDKit ERROR: [13:54:55] SMILES Parse Error: extra open parentheses for input: 'C1CCCCCC2(CCCCC1)CCCC1CCC3(C'\n",
            "RDKit ERROR: [13:54:55] SMILES Parse Error: extra open parentheses for input: 'C1CCC2CCC(CCCC3CCC4CCC(CC1)C'\n",
            "RDKit ERROR: [13:54:55] SMILES Parse Error: unclosed ring for input: 'C1CCCC2CCC(CCC1)C1CCCC1C21'\n",
            "RDKit ERROR: [13:54:55] SMILES Parse Error: extra open parentheses for input: 'C1CCC2(CCCC2)CC2CCCC2C2CCC(C'\n"
          ],
          "name": "stderr"
        },
        {
          "output_type": "stream",
          "text": [
            "C1CCCCCC2(CCCCC1)CCCC1CCC3(C\n",
            "C1CCC2CCC(CCCC3CCC4CCC(CC1)C\n",
            "C1CCCC2CCC(CCC1)C1CCCC1C21\n",
            "C1CCC2(CCCC2)CC2CCCC2C2CCC(C\n"
          ],
          "name": "stdout"
        },
        {
          "output_type": "stream",
          "text": [
            "RDKit ERROR: [13:54:55] SMILES Parse Error: unclosed ring for input: 'C1CCC2(CC1)CCC13CCC(CCCC21)C'\n",
            "RDKit ERROR: [13:54:55] SMILES Parse Error: unclosed ring for input: 'C1CCCC23CCCC(CC4(CC1)CCC4)C2'\n",
            "RDKit ERROR: [13:54:55] SMILES Parse Error: unclosed ring for input: 'c1cc2c([nH]1)CC1CCCCCCCCCCC3'\n",
            "RDKit ERROR: [13:54:55] SMILES Parse Error: unclosed ring for input: 'C1CCCCC2(CCCC2)C2CCC3CCCCC3C'\n"
          ],
          "name": "stderr"
        },
        {
          "output_type": "stream",
          "text": [
            "C1CCC2(CC1)CCC13CCC(CCCC21)C\n",
            "C1CCCC23CCCC(CC4(CC1)CCC4)C2\n",
            "c1cc2c([nH]1)CC1CCCCCCCCCCC3\n",
            "C1CCCCC2(CCCC2)C2CCC3CCCCC3C\n",
            "C1CCCC2(CCCC2)CC2(CCCCC2)CCC\n",
            "C1CCC2(CC1)CCCC1CCC(CC1)C1(C\n",
            "87.3 percent wrongly formatted smiles\n"
          ],
          "name": "stdout"
        },
        {
          "output_type": "stream",
          "text": [
            "RDKit ERROR: [13:54:55] SMILES Parse Error: unclosed ring for input: 'C1CCCC2(CCCC2)CC2(CCCCC2)CCC'\n",
            "RDKit ERROR: [13:54:55] SMILES Parse Error: extra open parentheses for input: 'C1CCC2(CC1)CCCC1CCC(CC1)C1(C'\n"
          ],
          "name": "stderr"
        }
      ]
    },
    {
      "cell_type": "code",
      "metadata": {
        "id": "tJSe6eKZYNdc",
        "colab_type": "code",
        "outputId": "c1328732-a29d-4fe7-b960-e450012a9fbc",
        "colab": {
          "base_uri": "https://localhost:8080/",
          "height": 1000
        }
      },
      "source": [
        "#Interpolation test in latent_space\n",
        "i = 0\n",
        "j= 2\n",
        "latent1 = x_latent[j:j+1]\n",
        "latent0 = x_latent[i:i+1]\n",
        "mols1 = []\n",
        "ratios = np.linspace(0,1,25)\n",
        "for r in ratios:\n",
        "    #print r\n",
        "    rlatent = (1.0-r)*latent0 + r*latent1\n",
        "    smiles  = latent_to_smiles(rlatent)\n",
        "    mol = Chem.MolFromSmiles(smiles)\n",
        "    if mol:\n",
        "        mols1.append(mol)\n",
        "    else:\n",
        "        print(smiles)\n",
        "Draw.MolsToGridImage(mols1, molsPerRow=5)"
      ],
      "execution_count": 0,
      "outputs": [
        {
          "output_type": "stream",
          "text": [
            "RDKit ERROR: [13:55:29] SMILES Parse Error: unclosed ring for input: 'C1CCCC2(CCCC3(CC1)CCCC3)CC1C'\n",
            "RDKit ERROR: [13:55:29] SMILES Parse Error: unclosed ring for input: 'C1CCCC2(CCCC3(CC1)CCCC3)CC1C'\n",
            "RDKit ERROR: [13:55:29] SMILES Parse Error: unclosed ring for input: 'C1CCCC2(CCCCC3(CC1)CCCC3)CC1'\n",
            "RDKit ERROR: [13:55:29] SMILES Parse Error: unclosed ring for input: 'C1CCCC2(CCCCC3(CC1)CCCCC3)C1'\n"
          ],
          "name": "stderr"
        },
        {
          "output_type": "stream",
          "text": [
            "C1CCCC2(CCCC3(CC1)CCCC3)CC1C\n",
            "C1CCCC2(CCCC3(CC1)CCCC3)CC1C\n",
            "C1CCCC2(CCCCC3(CC1)CCCC3)CC1\n",
            "C1CCCC2(CCCCC3(CC1)CCCCC3)C1\n"
          ],
          "name": "stdout"
        },
        {
          "output_type": "stream",
          "text": [
            "RDKit ERROR: [13:55:29] SMILES Parse Error: unclosed ring for input: 'C1CCCC2(CCCCC23CCCC1)CCCCC31'\n",
            "RDKit ERROR: [13:55:30] SMILES Parse Error: unclosed ring for input: 'C1CCCC2(CCCCC23CCCC1)CCCCC31'\n",
            "RDKit ERROR: [13:55:30] SMILES Parse Error: extra open parentheses for input: 'C1CCCC2(CCCCC23CCCC(CC1)CCCC'\n"
          ],
          "name": "stderr"
        },
        {
          "output_type": "stream",
          "text": [
            "C1CCCC2(CCCCC23CCCC1)CCCCC31\n",
            "C1CCCC2(CCCCC23CCCC1)CCCCC31\n",
            "C1CCCC2(CCCCC23CCCC(CC1)CCCC\n"
          ],
          "name": "stdout"
        },
        {
          "output_type": "stream",
          "text": [
            "RDKit ERROR: [13:55:30] SMILES Parse Error: extra open parentheses for input: 'c1ccc2c(c1)CCCCCC1C3(CCCCCCC'\n",
            "RDKit ERROR: [13:55:30] SMILES Parse Error: extra open parentheses for input: 'c1ccc2c(c1)CCCCCC1CC3(CCCCC3'\n",
            "RDKit ERROR: [13:55:30] SMILES Parse Error: extra open parentheses for input: 'c1ccc2c(c1)CCCCCC1CC3(CCCCC3'\n",
            "RDKit ERROR: [13:55:30] SMILES Parse Error: extra open parentheses for input: 'c1ccc2c(c1)CCCCCCC1C3(CCCCCC'\n"
          ],
          "name": "stderr"
        },
        {
          "output_type": "stream",
          "text": [
            "c1ccc2c(c1)CCCCCC1C3(CCCCCCC\n",
            "c1ccc2c(c1)CCCCCC1CC3(CCCCC3\n",
            "c1ccc2c(c1)CCCCCC1CC3(CCCCC3\n",
            "c1ccc2c(c1)CCCCCCC1C3(CCCCCC\n"
          ],
          "name": "stdout"
        },
        {
          "output_type": "stream",
          "text": [
            "RDKit ERROR: [13:55:30] SMILES Parse Error: extra open parentheses for input: 'c1ccc2c(c1)CCCCCCC1CC3(CCCCC'\n",
            "RDKit ERROR: [13:55:30] SMILES Parse Error: extra open parentheses for input: 'c1ccc2c(c1)CCCCCCC1CC3(CCCCC'\n",
            "RDKit ERROR: [13:55:30] SMILES Parse Error: extra open parentheses for input: 'c1ccc2c(c1)CCCCCCC1CC3(CCCCC'\n",
            "RDKit ERROR: [13:55:30] SMILES Parse Error: extra open parentheses for input: 'c1ccc2c(c1)CCCCCCCC1CC3(CCCC'\n"
          ],
          "name": "stderr"
        },
        {
          "output_type": "stream",
          "text": [
            "c1ccc2c(c1)CCCCCCC1CC3(CCCCC\n",
            "c1ccc2c(c1)CCCCCCC1CC3(CCCCC\n",
            "c1ccc2c(c1)CCCCCCC1CC3(CCCCC\n",
            "c1ccc2c(c1)CCCCCCCC1CC3(CCCC\n"
          ],
          "name": "stdout"
        },
        {
          "output_type": "stream",
          "text": [
            "RDKit ERROR: [13:55:30] SMILES Parse Error: extra open parentheses for input: 'c1ccc2c(c1)CCCCCCCC1CC3(CCCC'\n",
            "RDKit ERROR: [13:55:30] SMILES Parse Error: extra open parentheses for input: 'c1ccc2c(c1)CCCCCCCC1CC3(CCCC'\n",
            "RDKit ERROR: [13:55:30] SMILES Parse Error: extra open parentheses for input: 'c1ccc2c(c1)CCCCCCCC1CC3(CCCC'\n",
            "RDKit ERROR: [13:55:31] SMILES Parse Error: extra open parentheses for input: 'c1ccc2c(c1)CCCCCCCCC1CC3(CCC'\n"
          ],
          "name": "stderr"
        },
        {
          "output_type": "stream",
          "text": [
            "c1ccc2c(c1)CCCCCCCC1CC3(CCCC\n",
            "c1ccc2c(c1)CCCCCCCC1CC3(CCCC\n",
            "c1ccc2c(c1)CCCCCCCC1CC3(CCCC\n",
            "c1ccc2c(c1)CCCCCCCCC1CC3(CCC\n"
          ],
          "name": "stdout"
        },
        {
          "output_type": "stream",
          "text": [
            "RDKit ERROR: [13:55:31] SMILES Parse Error: extra open parentheses for input: 'c1ccc2c(c1)CCCCCCCCC1CC3(CCC'\n",
            "RDKit ERROR: [13:55:31] SMILES Parse Error: extra open parentheses for input: 'c1ccc2c(c1)CCCCCCCCC1CC3(CCC'\n",
            "RDKit ERROR: [13:55:31] SMILES Parse Error: extra open parentheses for input: 'c1ccc2c(c1)CCCCCCCCC1CC3(CCC'\n",
            "RDKit ERROR: [13:55:31] SMILES Parse Error: extra open parentheses for input: 'c1ccc2c(c1)CCCCCCCCCC1CC3(CC'\n"
          ],
          "name": "stderr"
        },
        {
          "output_type": "stream",
          "text": [
            "c1ccc2c(c1)CCCCCCCCC1CC3(CCC\n",
            "c1ccc2c(c1)CCCCCCCCC1CC3(CCC\n",
            "c1ccc2c(c1)CCCCCCCCC1CC3(CCC\n",
            "c1ccc2c(c1)CCCCCCCCCC1CC3(CC\n"
          ],
          "name": "stdout"
        },
        {
          "output_type": "execute_result",
          "data": {
            "image/png": "[encoded data removed]",
            "text/plain": [
              "<PIL.PngImagePlugin.PngImageFile image mode=RGB size=1000x200 at 0x7F2EE7F09DD8>"
            ]
          },
          "metadata": {
            "tags": []
          },
          "execution_count": 45
        }
      ]
    },
    {
      "cell_type": "code",
      "metadata": {
        "id": "zPZwQHFGYSK_",
        "colab_type": "code",
        "outputId": "6109c800-d4cd-401e-adc2-029e4205d3ca",
        "colab": {
          "base_uri": "https://localhost:8080/",
          "height": 422
        }
      },
      "source": [
        "#Sample around the latent vector \n",
        "latent = x_latent[0:1]\n",
        "scale = 0.40\n",
        "mols = []\n",
        "for i in range(20):\n",
        "    latent_r = latent + scale*(np.random.randn(latent.shape[1])) #TODO, try with\n",
        "    smiles = latent_to_smiles(latent_r)\n",
        "    mol = Chem.MolFromSmiles(smiles)\n",
        "    if mol:\n",
        "        mols.append(mol)\n",
        "    else:\n",
        "        print(smiles)\n",
        "Draw.MolsToGridImage(mols, molsPerRow=5)"
      ],
      "execution_count": 0,
      "outputs": [
        {
          "output_type": "stream",
          "text": [
            "RDKit ERROR: [13:55:45] SMILES Parse Error: unclosed ring for input: 'C1CCCC2(CCCC3(CC1)CCCC3)CC1C'\n",
            "RDKit ERROR: [13:55:45] SMILES Parse Error: unclosed ring for input: 'C1CCCC2(CCCC3(CC1)CCCC3)CC1C'\n",
            "RDKit ERROR: [13:55:45] SMILES Parse Error: unclosed ring for input: 'C1CCCC2(CCCC3(CC1)CCCC3)CC1C'\n",
            "RDKit ERROR: [13:55:45] SMILES Parse Error: unclosed ring for input: 'C1CCCC2(CCCC3(CC1)CCCC3)CC1C'\n"
          ],
          "name": "stderr"
        },
        {
          "output_type": "stream",
          "text": [
            "C1CCCC2(CCCC3(CC1)CCCC3)CC1C\n",
            "C1CCCC2(CCCC3(CC1)CCCC3)CC1C\n",
            "C1CCCC2(CCCC3(CC1)CCCC3)CC1C\n",
            "C1CCCC2(CCCC3(CC1)CCCC3)CC1C\n"
          ],
          "name": "stdout"
        },
        {
          "output_type": "stream",
          "text": [
            "RDKit ERROR: [13:55:45] SMILES Parse Error: unclosed ring for input: 'C1CCCC2(CCCC3(CC1)CCCC3)CC1C'\n",
            "RDKit ERROR: [13:55:45] SMILES Parse Error: unclosed ring for input: 'C1CCCC2(CCCC23CCCC3)CCCCC2CC'\n",
            "RDKit ERROR: [13:55:45] SMILES Parse Error: unclosed ring for input: 'C1CCCC2(CCCC3(CC1)CCCCC3)C1C'\n"
          ],
          "name": "stderr"
        },
        {
          "output_type": "stream",
          "text": [
            "C1CCCC2(CCCC3(CC1)CCCC3)CC1C\n",
            "C1CCCC2(CCCC23CCCC3)CCCCC2CC\n",
            "C1CCCC2(CCCC3(CC1)CCCCC3)C1C\n"
          ],
          "name": "stdout"
        },
        {
          "output_type": "stream",
          "text": [
            "RDKit ERROR: [13:55:45] SMILES Parse Error: unclosed ring for input: 'C1CCCC2(CCCC3(CC1)CCCC3)CC1C'\n",
            "RDKit ERROR: [13:55:46] SMILES Parse Error: unclosed ring for input: 'C1CCCC2(CCCC3(CC1)CCCC3)CC1C'\n",
            "RDKit ERROR: [13:55:46] SMILES Parse Error: unclosed ring for input: 'C1CCCC2(CCCC3(CC1)CCCC3)CC1C'\n",
            "RDKit ERROR: [13:55:46] SMILES Parse Error: unclosed ring for input: 'C1CCCC2(CCCC3(CC1)CCCC3)CC1C'\n"
          ],
          "name": "stderr"
        },
        {
          "output_type": "stream",
          "text": [
            "C1CCCC2(CCCC3(CC1)CCCC3)CC1C\n",
            "C1CCCC2(CCCC3(CC1)CCCC3)CC1C\n",
            "C1CCCC2(CCCC3(CC1)CCCC3)CC1C\n",
            "C1CCCC2(CCCC3(CC1)CCCC3)CC1C\n"
          ],
          "name": "stdout"
        },
        {
          "output_type": "stream",
          "text": [
            "RDKit ERROR: [13:55:46] SMILES Parse Error: unclosed ring for input: 'C1CCCC2(CCCC3(CC1)CCCC3)CC1C'\n",
            "RDKit ERROR: [13:55:46] SMILES Parse Error: unclosed ring for input: 'C1CCCC2(CCCC3(CC1)CCCC3)CCC1'\n",
            "RDKit ERROR: [13:55:46] SMILES Parse Error: unclosed ring for input: 'C1CCCC2(CCCC3(CC1)CCCC3)CC1C'\n",
            "RDKit ERROR: [13:55:46] SMILES Parse Error: unclosed ring for input: 'C1CCCC2(CCCC3(CC1)CCCC3)CC1C'\n"
          ],
          "name": "stderr"
        },
        {
          "output_type": "stream",
          "text": [
            "C1CCCC2(CCCC3(CC1)CCCC3)CC1C\n",
            "C1CCCC2(CCCC3(CC1)CCCC3)CCC1\n",
            "C1CCCC2(CCCC3(CC1)CCCC3)CC1C\n",
            "C1CCCC2(CCCC3(CC1)CCCC3)CC1C\n"
          ],
          "name": "stdout"
        },
        {
          "output_type": "stream",
          "text": [
            "RDKit ERROR: [13:55:46] SMILES Parse Error: unclosed ring for input: 'C1CCCC2(CCCC3(CC1)CCCC3)CC1C'\n",
            "RDKit ERROR: [13:55:46] SMILES Parse Error: unclosed ring for input: 'C1CCCC2(CCCC3(CC1)CCCC3)CC1C'\n",
            "RDKit ERROR: [13:55:46] SMILES Parse Error: unclosed ring for input: 'C1CCCC2(CCCC3(CC1)CCCC3)CC1C'\n",
            "RDKit ERROR: [13:55:46] SMILES Parse Error: unclosed ring for input: 'C1CCCC2(CCCC3(CC1)CCCC3)CC1C'\n"
          ],
          "name": "stderr"
        },
        {
          "output_type": "stream",
          "text": [
            "C1CCCC2(CCCC3(CC1)CCCC3)CC1C\n",
            "C1CCCC2(CCCC3(CC1)CCCC3)CC1C\n",
            "C1CCCC2(CCCC3(CC1)CCCC3)CC1C\n",
            "C1CCCC2(CCCC3(CC1)CCCC3)CC1C\n"
          ],
          "name": "stdout"
        },
        {
          "output_type": "execute_result",
          "data": {
            "image/png": "[encoded data removed]",
            "text/plain": [
              "<PIL.PngImagePlugin.PngImageFile image mode=RGB size=1000x200 at 0x7F2EE7ED9780>"
            ]
          },
          "metadata": {
            "tags": []
          },
          "execution_count": 46
        }
      ]
    },
    {
      "cell_type": "code",
      "metadata": {
        "id": "cqqGE_cTiz4l",
        "colab_type": "code",
        "colab": {}
      },
      "source": [
        ""
      ],
      "execution_count": 0,
      "outputs": []
    }
  ]
}