{
  "nbformat": 4,
  "nbformat_minor": 0,
  "metadata": {
    "colab": {
      "name": "공학전산응용 중간보고서2 .ipynb",
      "provenance": [],
      "collapsed_sections": [
        "_FejRWp-j5Pa"
      ],
      "include_colab_link": true
    },
    "kernelspec": {
      "name": "python3",
      "display_name": "Python 3"
    },
    "accelerator": "GPU"
  },
  "cells": [
    {
      "cell_type": "markdown",
      "metadata": {
        "id": "view-in-github",
        "colab_type": "text"
      },
      "source": [
        "<a href=\"https://colab.research.google.com/github/syeong1218/python/blob/master/%EA%B3%B5%ED%95%99%EC%A0%84%EC%82%B0%EC%9D%91%EC%9A%A9_%EC%A4%91%EA%B0%84%EB%B3%B4%EA%B3%A0%EC%84%9C2_.ipynb\" target=\"_parent\"><img src=\"https://colab.research.google.com/assets/colab-badge.svg\" alt=\"Open In Colab\"/></a>"
      ]
    },
    {
      "cell_type": "markdown",
      "metadata": {
        "id": "um_YY3yt7jVg",
        "colab_type": "text"
      },
      "source": [
        "조원 : 17101595 유순영, 14108307 구교훈, 15108382 임영준"
      ]
    },
    {
      "cell_type": "markdown",
      "metadata": {
        "id": "yCGO8kJ0wDf-",
        "colab_type": "text"
      },
      "source": [
        "# **Ⅰ. SMILES(Simplified Molecular Input Line Entry System)**\n",
        "## **1. SMILES의 정의**\n",
        "SMILES(Simplified Molecular Input Line Entry System)은 화학물질의 구조를 짧은 ASCII를 이용하여 문자열로 나타내는 방법입니다. 즉, 화학정보학을 위해 2차원, 3차원의 구조를 가진 분자와 화학반응을 문자열로 표기한 간단한 화학 언어입니다. 그래서 적은 양의 데이터를 이용하여 화학물질을 나타낼 수 있습니다.\n",
        "\n",
        "RDkit는 화학정보학을 위한 Open-source module로 이를 다운받아야 SMILES를 사용할 수 있다. 코랩에서 아래 코드를 실행시키면 됩니다.\n",
        "\n"
      ]
    },
    {
      "cell_type": "markdown",
      "metadata": {
        "id": "_FejRWp-j5Pa",
        "colab_type": "text"
      },
      "source": [
        "#### RDkit 다운코드"
      ]
    },
    {
      "cell_type": "code",
      "metadata": {
        "id": "m8nEeLqdvBKQ",
        "colab_type": "code",
        "outputId": "f449beec-07fa-4ecf-d7c3-5806788b0a67",
        "colab": {
          "base_uri": "https://localhost:8080/",
          "height": 1000
        }
      },
      "source": [
        "!wget -c https://repo.continuum.io/miniconda/Miniconda3-latest-Linux-x86_64.sh\n",
        "!chmod +x Miniconda3-latest-Linux-x86_64.sh\n",
        "!time bash ./Miniconda3-latest-Linux-x86_64.sh -b -f -p /usr/local\n",
        "!time conda install -q -y -c conda-forge rdkit"
      ],
      "execution_count": 0,
      "outputs": [
        {
          "output_type": "stream",
          "text": [
            "--2019-11-30 05:18:13--  https://repo.continuum.io/miniconda/Miniconda3-latest-Linux-x86_64.sh\n",
            "Resolving repo.continuum.io (repo.continuum.io)... 104.18.201.79, 104.18.200.79, 2606:4700::6812:c94f, ...\n",
            "Connecting to repo.continuum.io (repo.continuum.io)|104.18.201.79|:443... connected.\n",
            "HTTP request sent, awaiting response... 200 OK\n",
            "Length: 71785000 (68M) [application/x-sh]\n",
            "Saving to: ‘Miniconda3-latest-Linux-x86_64.sh’\n",
            "\n",
            "\r          Miniconda   0%[                    ]       0  --.-KB/s               \r         Miniconda3  64%[===========>        ]  44.46M   222MB/s               \rMiniconda3-latest-L 100%[===================>]  68.46M   234MB/s    in 0.3s    \n",
            "\n",
            "2019-11-30 05:18:13 (234 MB/s) - ‘Miniconda3-latest-Linux-x86_64.sh’ saved [71785000/71785000]\n",
            "\n",
            "PREFIX=/usr/local\n",
            "Unpacking payload ...\n",
            "Collecting package metadata (current_repodata.json): - \b\b\\ \b\bdone\n",
            "Solving environment: / \b\b- \b\bdone\n",
            "\n",
            "## Package Plan ##\n",
            "\n",
            "  environment location: /usr/local\n",
            "\n",
            "  added / updated specs:\n",
            "    - _libgcc_mutex==0.1=main\n",
            "    - asn1crypto==1.2.0=py37_0\n",
            "    - ca-certificates==2019.10.16=0\n",
            "    - certifi==2019.9.11=py37_0\n",
            "    - cffi==1.13.0=py37h2e261b9_0\n",
            "    - chardet==3.0.4=py37_1003\n",
            "    - conda-package-handling==1.6.0=py37h7b6447c_0\n",
            "    - conda==4.7.12=py37_0\n",
            "    - cryptography==2.8=py37h1ba5d50_0\n",
            "    - idna==2.8=py37_0\n",
            "    - libedit==3.1.20181209=hc058e9b_0\n",
            "    - libffi==3.2.1=hd88cf55_4\n",
            "    - libgcc-ng==9.1.0=hdf63c60_0\n",
            "    - libstdcxx-ng==9.1.0=hdf63c60_0\n",
            "    - ncurses==6.1=he6710b0_1\n",
            "    - openssl==1.1.1d=h7b6447c_3\n",
            "    - pip==19.3.1=py37_0\n",
            "    - pycosat==0.6.3=py37h14c3975_0\n",
            "    - pycparser==2.19=py37_0\n",
            "    - pyopenssl==19.0.0=py37_0\n",
            "    - pysocks==1.7.1=py37_0\n",
            "    - python==3.7.4=h265db76_1\n",
            "    - readline==7.0=h7b6447c_5\n",
            "    - requests==2.22.0=py37_0\n",
            "    - ruamel_yaml==0.15.46=py37h14c3975_0\n",
            "    - setuptools==41.4.0=py37_0\n",
            "    - six==1.12.0=py37_0\n",
            "    - sqlite==3.30.0=h7b6447c_0\n",
            "    - tk==8.6.8=hbc83047_0\n",
            "    - tqdm==4.36.1=py_0\n",
            "    - urllib3==1.24.2=py37_0\n",
            "    - wheel==0.33.6=py37_0\n",
            "    - xz==5.2.4=h14c3975_4\n",
            "    - yaml==0.1.7=had09818_2\n",
            "    - zlib==1.2.11=h7b6447c_3\n",
            "\n",
            "\n",
            "The following NEW packages will be INSTALLED:\n",
            "\n",
            "  _libgcc_mutex      pkgs/main/linux-64::_libgcc_mutex-0.1-main\n",
            "  asn1crypto         pkgs/main/linux-64::asn1crypto-1.2.0-py37_0\n",
            "  ca-certificates    pkgs/main/linux-64::ca-certificates-2019.10.16-0\n",
            "  certifi            pkgs/main/linux-64::certifi-2019.9.11-py37_0\n",
            "  cffi               pkgs/main/linux-64::cffi-1.13.0-py37h2e261b9_0\n",
            "  chardet            pkgs/main/linux-64::chardet-3.0.4-py37_1003\n",
            "  conda              pkgs/main/linux-64::conda-4.7.12-py37_0\n",
            "  conda-package-han~ pkgs/main/linux-64::conda-package-handling-1.6.0-py37h7b6447c_0\n",
            "  cryptography       pkgs/main/linux-64::cryptography-2.8-py37h1ba5d50_0\n",
            "  idna               pkgs/main/linux-64::idna-2.8-py37_0\n",
            "  libedit            pkgs/main/linux-64::libedit-3.1.20181209-hc058e9b_0\n",
            "  libffi             pkgs/main/linux-64::libffi-3.2.1-hd88cf55_4\n",
            "  libgcc-ng          pkgs/main/linux-64::libgcc-ng-9.1.0-hdf63c60_0\n",
            "  libstdcxx-ng       pkgs/main/linux-64::libstdcxx-ng-9.1.0-hdf63c60_0\n",
            "  ncurses            pkgs/main/linux-64::ncurses-6.1-he6710b0_1\n",
            "  openssl            pkgs/main/linux-64::openssl-1.1.1d-h7b6447c_3\n",
            "  pip                pkgs/main/linux-64::pip-19.3.1-py37_0\n",
            "  pycosat            pkgs/main/linux-64::pycosat-0.6.3-py37h14c3975_0\n",
            "  pycparser          pkgs/main/linux-64::pycparser-2.19-py37_0\n",
            "  pyopenssl          pkgs/main/linux-64::pyopenssl-19.0.0-py37_0\n",
            "  pysocks            pkgs/main/linux-64::pysocks-1.7.1-py37_0\n",
            "  python             pkgs/main/linux-64::python-3.7.4-h265db76_1\n",
            "  readline           pkgs/main/linux-64::readline-7.0-h7b6447c_5\n",
            "  requests           pkgs/main/linux-64::requests-2.22.0-py37_0\n",
            "  ruamel_yaml        pkgs/main/linux-64::ruamel_yaml-0.15.46-py37h14c3975_0\n",
            "  setuptools         pkgs/main/linux-64::setuptools-41.4.0-py37_0\n",
            "  six                pkgs/main/linux-64::six-1.12.0-py37_0\n",
            "  sqlite             pkgs/main/linux-64::sqlite-3.30.0-h7b6447c_0\n",
            "  tk                 pkgs/main/linux-64::tk-8.6.8-hbc83047_0\n",
            "  tqdm               pkgs/main/noarch::tqdm-4.36.1-py_0\n",
            "  urllib3            pkgs/main/linux-64::urllib3-1.24.2-py37_0\n",
            "  wheel              pkgs/main/linux-64::wheel-0.33.6-py37_0\n",
            "  xz                 pkgs/main/linux-64::xz-5.2.4-h14c3975_4\n",
            "  yaml               pkgs/main/linux-64::yaml-0.1.7-had09818_2\n",
            "  zlib               pkgs/main/linux-64::zlib-1.2.11-h7b6447c_3\n",
            "\n",
            "\n",
            "Preparing transaction: | \b\b/ \b\b- \b\b\\ \b\bdone\n",
            "Executing transaction: / \b\b- \b\b\\ \b\b| \b\b/ \b\b- \b\b\\ \b\b| \b\b/ \b\b- \b\b\\ \b\bdone\n",
            "installation finished.\n",
            "WARNING:\n",
            "    You currently have a PYTHONPATH environment variable set. This may cause\n",
            "    unexpected behavior when running the Python interpreter in Miniconda3.\n",
            "    For best results, please verify that your PYTHONPATH only points to\n",
            "    directories of packages that are compatible with the Python interpreter\n",
            "    in Miniconda3: /usr/local\n",
            "\n",
            "real\t0m16.685s\n",
            "user\t0m8.855s\n",
            "sys\t0m3.728s\n",
            "Collecting package metadata (current_repodata.json): ...working... done\n",
            "Solving environment: ...working... done\n",
            "\n",
            "## Package Plan ##\n",
            "\n",
            "  environment location: /usr/local\n",
            "\n",
            "  added / updated specs:\n",
            "    - rdkit\n",
            "\n",
            "\n",
            "The following packages will be downloaded:\n",
            "\n",
            "    package                    |            build\n",
            "    ---------------------------|-----------------\n",
            "    boost-1.70.0               |   py37h9de70de_1         337 KB  conda-forge\n",
            "    boost-cpp-1.70.0           |       h8e57a91_2        21.1 MB  conda-forge\n",
            "    bzip2-1.0.8                |       h516909a_1         397 KB  conda-forge\n",
            "    ca-certificates-2019.11.28 |       hecc5488_0         145 KB  conda-forge\n",
            "    cairo-1.16.0               |    hfb77d84_1002         1.5 MB  conda-forge\n",
            "    certifi-2019.11.28         |           py37_0         148 KB  conda-forge\n",
            "    conda-4.7.12               |           py37_0         3.0 MB  conda-forge\n",
            "    fontconfig-2.13.1          |    h86ecdb6_1001         340 KB  conda-forge\n",
            "    freetype-2.10.0            |       he983fc9_1         884 KB  conda-forge\n",
            "    gettext-0.19.8.1           |    hc5be6a0_1002         3.6 MB  conda-forge\n",
            "    glib-2.58.3                |py37h6f030ca_1002         3.3 MB  conda-forge\n",
            "    icu-64.2                   |       he1b5a44_1        12.6 MB  conda-forge\n",
            "    jpeg-9c                    |    h14c3975_1001         251 KB  conda-forge\n",
            "    libblas-3.8.0              |      14_openblas          10 KB  conda-forge\n",
            "    libcblas-3.8.0             |      14_openblas          10 KB  conda-forge\n",
            "    libgfortran-ng-7.3.0       |       hdf63c60_2         1.7 MB  conda-forge\n",
            "    libiconv-1.15              |    h516909a_1005         2.0 MB  conda-forge\n",
            "    liblapack-3.8.0            |      14_openblas          10 KB  conda-forge\n",
            "    libopenblas-0.3.7          |       h6e990d7_3         7.6 MB  conda-forge\n",
            "    libpng-1.6.37              |       hed695b0_0         343 KB  conda-forge\n",
            "    libtiff-4.1.0              |       hc3755c2_1         609 KB  conda-forge\n",
            "    libuuid-2.32.1             |    h14c3975_1000          26 KB  conda-forge\n",
            "    libxcb-1.13                |    h14c3975_1002         396 KB  conda-forge\n",
            "    libxml2-2.9.10             |       hee79883_0         1.3 MB  conda-forge\n",
            "    lz4-c-1.8.3                |    he1b5a44_1001         187 KB  conda-forge\n",
            "    numpy-1.17.3               |   py37h95a1406_0         5.1 MB  conda-forge\n",
            "    olefile-0.46               |             py_0          31 KB  conda-forge\n",
            "    openssl-1.1.1d             |       h516909a_0         2.1 MB  conda-forge\n",
            "    pandas-0.25.3              |   py37hb3f55d8_0        11.4 MB  conda-forge\n",
            "    pcre-8.43                  |       he1b5a44_0         257 KB  conda-forge\n",
            "    pillow-6.2.1               |   py37h34e0f95_0         643 KB\n",
            "    pixman-0.38.0              |    h516909a_1003         594 KB  conda-forge\n",
            "    pthread-stubs-0.4          |    h14c3975_1001           5 KB  conda-forge\n",
            "    pycairo-1.18.2             |   py37h438ddbb_0          77 KB  conda-forge\n",
            "    python-dateutil-2.8.1      |             py_0         220 KB  conda-forge\n",
            "    pytz-2019.3                |             py_0         237 KB  conda-forge\n",
            "    rdkit-2019.09.1            |   py37hb31dc5d_0        23.8 MB  conda-forge\n",
            "    xorg-kbproto-1.0.7         |    h14c3975_1002          26 KB  conda-forge\n",
            "    xorg-libice-1.0.10         |       h516909a_0          57 KB  conda-forge\n",
            "    xorg-libsm-1.2.3           |    h84519dc_1000          25 KB  conda-forge\n",
            "    xorg-libx11-1.6.9          |       h516909a_0         918 KB  conda-forge\n",
            "    xorg-libxau-1.0.9          |       h14c3975_0          13 KB  conda-forge\n",
            "    xorg-libxdmcp-1.1.3        |       h516909a_0          18 KB  conda-forge\n",
            "    xorg-libxext-1.3.4         |       h516909a_0          51 KB  conda-forge\n",
            "    xorg-libxrender-0.9.10     |    h516909a_1002          31 KB  conda-forge\n",
            "    xorg-renderproto-0.11.1    |    h14c3975_1002           8 KB  conda-forge\n",
            "    xorg-xextproto-7.3.0       |    h14c3975_1002          27 KB  conda-forge\n",
            "    xorg-xproto-7.0.31         |    h14c3975_1007          72 KB  conda-forge\n",
            "    zstd-1.4.4                 |       h3b9ef0a_1         989 KB  conda-forge\n",
            "    ------------------------------------------------------------\n",
            "                                           Total:       108.3 MB\n",
            "\n",
            "The following NEW packages will be INSTALLED:\n",
            "\n",
            "  boost              conda-forge/linux-64::boost-1.70.0-py37h9de70de_1\n",
            "  boost-cpp          conda-forge/linux-64::boost-cpp-1.70.0-h8e57a91_2\n",
            "  bzip2              conda-forge/linux-64::bzip2-1.0.8-h516909a_1\n",
            "  cairo              conda-forge/linux-64::cairo-1.16.0-hfb77d84_1002\n",
            "  fontconfig         conda-forge/linux-64::fontconfig-2.13.1-h86ecdb6_1001\n",
            "  freetype           conda-forge/linux-64::freetype-2.10.0-he983fc9_1\n",
            "  gettext            conda-forge/linux-64::gettext-0.19.8.1-hc5be6a0_1002\n",
            "  glib               conda-forge/linux-64::glib-2.58.3-py37h6f030ca_1002\n",
            "  icu                conda-forge/linux-64::icu-64.2-he1b5a44_1\n",
            "  jpeg               conda-forge/linux-64::jpeg-9c-h14c3975_1001\n",
            "  libblas            conda-forge/linux-64::libblas-3.8.0-14_openblas\n",
            "  libcblas           conda-forge/linux-64::libcblas-3.8.0-14_openblas\n",
            "  libgfortran-ng     conda-forge/linux-64::libgfortran-ng-7.3.0-hdf63c60_2\n",
            "  libiconv           conda-forge/linux-64::libiconv-1.15-h516909a_1005\n",
            "  liblapack          conda-forge/linux-64::liblapack-3.8.0-14_openblas\n",
            "  libopenblas        conda-forge/linux-64::libopenblas-0.3.7-h6e990d7_3\n",
            "  libpng             conda-forge/linux-64::libpng-1.6.37-hed695b0_0\n",
            "  libtiff            conda-forge/linux-64::libtiff-4.1.0-hc3755c2_1\n",
            "  libuuid            conda-forge/linux-64::libuuid-2.32.1-h14c3975_1000\n",
            "  libxcb             conda-forge/linux-64::libxcb-1.13-h14c3975_1002\n",
            "  libxml2            conda-forge/linux-64::libxml2-2.9.10-hee79883_0\n",
            "  lz4-c              conda-forge/linux-64::lz4-c-1.8.3-he1b5a44_1001\n",
            "  numpy              conda-forge/linux-64::numpy-1.17.3-py37h95a1406_0\n",
            "  olefile            conda-forge/noarch::olefile-0.46-py_0\n",
            "  pandas             conda-forge/linux-64::pandas-0.25.3-py37hb3f55d8_0\n",
            "  pcre               conda-forge/linux-64::pcre-8.43-he1b5a44_0\n",
            "  pillow             pkgs/main/linux-64::pillow-6.2.1-py37h34e0f95_0\n",
            "  pixman             conda-forge/linux-64::pixman-0.38.0-h516909a_1003\n",
            "  pthread-stubs      conda-forge/linux-64::pthread-stubs-0.4-h14c3975_1001\n",
            "  pycairo            conda-forge/linux-64::pycairo-1.18.2-py37h438ddbb_0\n",
            "  python-dateutil    conda-forge/noarch::python-dateutil-2.8.1-py_0\n",
            "  pytz               conda-forge/noarch::pytz-2019.3-py_0\n",
            "  rdkit              conda-forge/linux-64::rdkit-2019.09.1-py37hb31dc5d_0\n",
            "  xorg-kbproto       conda-forge/linux-64::xorg-kbproto-1.0.7-h14c3975_1002\n",
            "  xorg-libice        conda-forge/linux-64::xorg-libice-1.0.10-h516909a_0\n",
            "  xorg-libsm         conda-forge/linux-64::xorg-libsm-1.2.3-h84519dc_1000\n",
            "  xorg-libx11        conda-forge/linux-64::xorg-libx11-1.6.9-h516909a_0\n",
            "  xorg-libxau        conda-forge/linux-64::xorg-libxau-1.0.9-h14c3975_0\n",
            "  xorg-libxdmcp      conda-forge/linux-64::xorg-libxdmcp-1.1.3-h516909a_0\n",
            "  xorg-libxext       conda-forge/linux-64::xorg-libxext-1.3.4-h516909a_0\n",
            "  xorg-libxrender    conda-forge/linux-64::xorg-libxrender-0.9.10-h516909a_1002\n",
            "  xorg-renderproto   conda-forge/linux-64::xorg-renderproto-0.11.1-h14c3975_1002\n",
            "  xorg-xextproto     conda-forge/linux-64::xorg-xextproto-7.3.0-h14c3975_1002\n",
            "  xorg-xproto        conda-forge/linux-64::xorg-xproto-7.0.31-h14c3975_1007\n",
            "  zstd               conda-forge/linux-64::zstd-1.4.4-h3b9ef0a_1\n",
            "\n",
            "The following packages will be UPDATED:\n",
            "\n",
            "  ca-certificates    pkgs/main::ca-certificates-2019.10.16~ --> conda-forge::ca-certificates-2019.11.28-hecc5488_0\n",
            "  certifi               pkgs/main::certifi-2019.9.11-py37_0 --> conda-forge::certifi-2019.11.28-py37_0\n",
            "\n",
            "The following packages will be SUPERSEDED by a higher-priority channel:\n",
            "\n",
            "  conda                                           pkgs/main --> conda-forge\n",
            "  openssl              pkgs/main::openssl-1.1.1d-h7b6447c_3 --> conda-forge::openssl-1.1.1d-h516909a_0\n",
            "\n",
            "\n",
            "Preparing transaction: ...working... done\n",
            "Verifying transaction: ...working... done\n",
            "Executing transaction: ...working... done\n",
            "\n",
            "real\t0m41.988s\n",
            "user\t0m35.856s\n",
            "sys\t0m4.381s\n"
          ],
          "name": "stdout"
        }
      ]
    },
    {
      "cell_type": "code",
      "metadata": {
        "id": "9ujtZMyN42fI",
        "colab_type": "code",
        "colab": {}
      },
      "source": [
        "%matplotlib inline\n",
        "import matplotlib.pyplot as plt\n",
        "import sys\n",
        "import os\n",
        "sys.path.append('/usr/local/lib/python3.7/site-packages/')"
      ],
      "execution_count": 0,
      "outputs": []
    },
    {
      "cell_type": "markdown",
      "metadata": {
        "id": "BfmSL4xRkKvK",
        "colab_type": "text"
      },
      "source": [
        "#### RDkit import"
      ]
    },
    {
      "cell_type": "code",
      "metadata": {
        "id": "3DKV9kv95B_M",
        "colab_type": "code",
        "colab": {}
      },
      "source": [
        "from __future__ import print_function\n",
        "from rdkit import Chem\n",
        "from rdkit.Chem import AllChem\n",
        "from rdkit.Chem.Draw import IPythonConsole\n",
        "from rdkit.Chem import Draw"
      ],
      "execution_count": 0,
      "outputs": []
    },
    {
      "cell_type": "markdown",
      "metadata": {
        "id": "0AiTV3WMwAwx",
        "colab_type": "text"
      },
      "source": [
        "위의 Draw는 Python에서 SMILES로 표현한 화학물질을 Output에서 그림으로 출력하게 하는 함수입니다. Draw 함수를 import하지 않으면 SMILES의 저장 위치가 출력됩니다. 그래서 \n",
        "밑에서 두 번째까지의 코드를 default 하겠습니다. 또한 화학적으로 불가능한 화합물의 경우 출력이 되지 않습니다.\n",
        "\n",
        "**SMILES의 활용 분야**\n",
        "  - 데이터베이스 접근의 키\n",
        "  - 연구자들의 화학정보 변환 메커니즘\n",
        "  - 화학 데이터 입력 시스템\n",
        "  - 화학 시스템이나 AI를 위한 언어"
      ]
    },
    {
      "cell_type": "markdown",
      "metadata": {
        "id": "s4uKWDRf7rk4",
        "colab_type": "text"
      },
      "source": [
        "## **2. 정규화(Canonicalization)**\n",
        "분자를 묘사하기 위한 2차원의 그림입니다. 원자와 결합에 대해서만  나타낸 SMILES을 'generic SMILES'라고 합니다. 일반적으로 하나의 화학물질에 대해 결과값은 동일하지만 다양한 SMILES로 입력할 수 있습니다."
      ]
    },
    {
      "cell_type": "code",
      "metadata": {
        "id": "c4gt08Oz6rwH",
        "colab_type": "code",
        "colab": {}
      },
      "source": [
        "a = Chem.MolFromSmiles('OCN')"
      ],
      "execution_count": 0,
      "outputs": []
    },
    {
      "cell_type": "code",
      "metadata": {
        "id": "zAosamwABB5g",
        "colab_type": "code",
        "outputId": "eec967ab-038d-4c87-fc12-a6f5d8955a09",
        "colab": {
          "base_uri": "https://localhost:8080/",
          "height": 35
        }
      },
      "source": [
        "Chem.MolToSmiles(Chem.MolFromSmiles('OCN'))"
      ],
      "execution_count": 0,
      "outputs": [
        {
          "output_type": "execute_result",
          "data": {
            "text/plain": [
              "'NCO'"
            ]
          },
          "metadata": {
            "tags": []
          },
          "execution_count": 18
        }
      ]
    },
    {
      "cell_type": "code",
      "metadata": {
        "id": "u5abrBf7BDjz",
        "colab_type": "code",
        "outputId": "0e8ca848-3359-4f9f-e600-20a7b49c64bb",
        "colab": {
          "base_uri": "https://localhost:8080/",
          "height": 35
        }
      },
      "source": [
        "Chem.MolToSmiles(Chem.MolFromSmiles('N-C-O'))"
      ],
      "execution_count": 0,
      "outputs": [
        {
          "output_type": "execute_result",
          "data": {
            "text/plain": [
              "'NCO'"
            ]
          },
          "metadata": {
            "tags": []
          },
          "execution_count": 19
        }
      ]
    },
    {
      "cell_type": "code",
      "metadata": {
        "id": "BU5E5RudBFIZ",
        "colab_type": "code",
        "outputId": "374abd31-1da3-4582-9bf3-c8f72aa49b22",
        "colab": {
          "base_uri": "https://localhost:8080/",
          "height": 167
        }
      },
      "source": [
        "a"
      ],
      "execution_count": 0,
      "outputs": [
        {
          "output_type": "execute_result",
          "data": {
            "image/png": "[encoded data removed]",
            "text/plain": [
              "<rdkit.Chem.rdchem.Mol at 0x7f8c2711b800>"
            ]
          },
          "metadata": {
            "tags": []
          },
          "execution_count": 20
        }
      ]
    },
    {
      "cell_type": "markdown",
      "metadata": {
        "id": "_45P5iQIB456",
        "colab_type": "text"
      },
      "source": [
        "SMILES를 다르게 입력하더라도 결과값은 동일합니다.\n",
        "\n",
        "\n",
        "따라서 어떤 SMILES 을 입력하더라도 유일하게 자체적으로 하나의 SMILES으로 처리하는 것을 ‘unique SMILES'이라 하고 이를 형성하기 위한 알고리즘이 존재합니다.\n",
        "동위원소, 카이랄을 표현하기위한 SMILES를 'isomeric SMILES'이라 합니다. unique SMILES와 isomeric SMILES가 합해진 형태를 'absolute SMILES'이라 합니다.\n",
        "\n",
        "일반적으로 주어진 구조를 나타내는 SMILES구조가 많이 있는데, 모든 유효한 가능성 중에서 하나의 특별한 일반 SMILES를 생성하기 위해 canonical 알고리즘이 존재합니다. 이 특별한 SMILES는 \"unique SMILES\"로 알려져 있습니다. 일반적인 규칙을 따르는 form을 canonical form이라고 생각할 수 있습니다.\n",
        "\n"
      ]
    },
    {
      "cell_type": "markdown",
      "metadata": {
        "id": "1tx4TLEODi2w",
        "colab_type": "text"
      },
      "source": [
        "## **3. SMILES 규칙(SMILES Sepcification Rules)**\n",
        "- SMILES는 띄어쓰기를 사용하지 않고 원자들을 일렬로 나열하여 표현합니다.\n",
        "- 수소원자는 생략하거나, 포함해도 됩니다.\n",
        "- 방향족 물질들은 직관적으로 명시하거나 Kekulé form으로 분류할 수 있습니다.\n",
        "- 대표적으로 5가지의 규칙이 있습니다. \n",
        "  1. 원자(atom) \n",
        "  2. 결합(bond)\n",
        "  3. 가지(branch)\n",
        "  4. 고리닫힘(ring closure)\n",
        "  5. 단절(disconnection) "
      ]
    },
    {
      "cell_type": "markdown",
      "metadata": {
        "id": "Axikd2E7ECLQ",
        "colab_type": "text"
      },
      "source": [
        "### **3.1 원자(atom)** \n",
        "\n",
        "- 수소를 포함하지 않는 단일원자는 [ ]사용합니다.organic subset는 [ ] 없이 쓰이기도 합니다.\n",
        "\n",
        "- 최소 원자가 전자를 갖는다고 인식합니다.\n",
        "\n",
        "      B (3), C (4), N (3,5), O (2), P (3,5), S (2,4,6), 할로겐족(1)\n",
        "\n",
        "- 지방족 탄소는 대문자 'C' 로, 방향족 탄소는 'c'로 명시합니다."
      ]
    },
    {
      "cell_type": "code",
      "metadata": {
        "id": "F8ASoWZvDW3g",
        "colab_type": "code",
        "outputId": "6cfd3117-845c-4604-93a4-dd7f13b57a09",
        "colab": {
          "base_uri": "https://localhost:8080/",
          "height": 167
        }
      },
      "source": [
        "a = Chem.MolFromSmiles('C') # 수소를 생략해도 출력값에 포함됩니다.\n",
        "a"
      ],
      "execution_count": 0,
      "outputs": [
        {
          "output_type": "execute_result",
          "data": {
            "image/png": "[encoded data removed]",
            "text/plain": [
              "<rdkit.Chem.rdchem.Mol at 0x7f8c2711b260>"
            ]
          },
          "metadata": {
            "tags": []
          },
          "execution_count": 21
        }
      ]
    },
    {
      "cell_type": "code",
      "metadata": {
        "id": "qutJF1DTEuxE",
        "colab_type": "code",
        "outputId": "59c4d6a2-db0c-4430-a322-4c97c93fdfec",
        "colab": {
          "base_uri": "https://localhost:8080/",
          "height": 167
        }
      },
      "source": [
        "a = Chem.MolFromSmiles('P')\n",
        "a"
      ],
      "execution_count": 0,
      "outputs": [
        {
          "output_type": "execute_result",
          "data": {
            "image/png": "[encoded data removed]",
            "text/plain": [
              "<rdkit.Chem.rdchem.Mol at 0x7f8c27128260>"
            ]
          },
          "metadata": {
            "tags": []
          },
          "execution_count": 22
        }
      ]
    },
    {
      "cell_type": "markdown",
      "metadata": {
        "id": "V6m73XNqE-kT",
        "colab_type": "text"
      },
      "source": [
        "- '$[]$'속의 수소와 형식전하는 반드시 명시되어야 합니다. - 결합된 수소의 수는 H 와 숫자로 표현됩니다.\n",
        "- 형식전하는 + 혹은 - 로 표시되어야 합니다. 명시되어 있지 않으면 전하는 0으로 가정합니다.\n",
        "$[Fe++] = [Fe+2]$"
      ]
    },
    {
      "cell_type": "code",
      "metadata": {
        "id": "84B5t-aPFRO-",
        "colab_type": "code",
        "outputId": "0087d9bf-c769-4b06-bf83-84890d10761e",
        "colab": {
          "base_uri": "https://localhost:8080/",
          "height": 167
        }
      },
      "source": [
        "a = Chem.MolFromSmiles('[Fe++]')\n",
        "a"
      ],
      "execution_count": 0,
      "outputs": [
        {
          "output_type": "execute_result",
          "data": {
            "image/png": "[encoded data removed]",
            "text/plain": [
              "<rdkit.Chem.rdchem.Mol at 0x7f8c27144710>"
            ]
          },
          "metadata": {
            "tags": []
          },
          "execution_count": 31
        }
      ]
    },
    {
      "cell_type": "markdown",
      "metadata": {
        "id": "J8RNZL6yFzHu",
        "colab_type": "text"
      },
      "source": [
        "### **3.2 결합(Bonds)**\n",
        "- 단일 결합은 생략하거나 '-'기호를 사용한다.\n",
        "- 이중 결합은 '='기호를 사용합니다.\n",
        "- 삼중 결합은 '#'기호를 사용합니다.\n",
        "- 방향족 결합은 생락하거나 ':'기호를 사용합니다."
      ]
    },
    {
      "cell_type": "code",
      "metadata": {
        "id": "z23vP53VH4V0",
        "colab_type": "code",
        "outputId": "8feaabb2-c315-4f90-9c40-1db3e2c8dc3c",
        "colab": {
          "base_uri": "https://localhost:8080/",
          "height": 167
        }
      },
      "source": [
        "a  = Chem.MolFromSmiles('CC')\n",
        "a"
      ],
      "execution_count": 0,
      "outputs": [
        {
          "output_type": "execute_result",
          "data": {
            "image/png": "[encoded data removed]",
            "text/plain": [
              "<rdkit.Chem.rdchem.Mol at 0x7f8c27128e40>"
            ]
          },
          "metadata": {
            "tags": []
          },
          "execution_count": 33
        }
      ]
    },
    {
      "cell_type": "code",
      "metadata": {
        "id": "4NYNdCo1FtoQ",
        "colab_type": "code",
        "outputId": "88c74375-13df-426f-c1fd-4b6611dc2f53",
        "colab": {
          "base_uri": "https://localhost:8080/",
          "height": 167
        }
      },
      "source": [
        "a = Chem.MolFromSmiles('O=C')\n",
        "a"
      ],
      "execution_count": 0,
      "outputs": [
        {
          "output_type": "execute_result",
          "data": {
            "image/png": "[encoded data removed]",
            "text/plain": [
              "<rdkit.Chem.rdchem.Mol at 0x7f8c2714b850>"
            ]
          },
          "metadata": {
            "tags": []
          },
          "execution_count": 34
        }
      ]
    },
    {
      "cell_type": "code",
      "metadata": {
        "id": "BIaHE9G9F-e7",
        "colab_type": "code",
        "outputId": "c1b2e349-a3b8-47f2-d902-3a03b09bec90",
        "colab": {
          "base_uri": "https://localhost:8080/",
          "height": 167
        }
      },
      "source": [
        "a = Chem.MolFromSmiles('C#N') \n",
        "a"
      ],
      "execution_count": 0,
      "outputs": [
        {
          "output_type": "execute_result",
          "data": {
            "image/png": "[encoded data removed]",
            "text/plain": [
              "<rdkit.Chem.rdchem.Mol at 0x7f8c2712ba80>"
            ]
          },
          "metadata": {
            "tags": []
          },
          "execution_count": 26
        }
      ]
    },
    {
      "cell_type": "markdown",
      "metadata": {
        "id": "c4ybdYO5GD5m",
        "colab_type": "text"
      },
      "source": [
        "이와 같은 규칙을 이용하여 6-hydroxy-1,4-hexadiene을 표현해보면"
      ]
    },
    {
      "cell_type": "code",
      "metadata": {
        "id": "Bl-C3jJVGC8i",
        "colab_type": "code",
        "outputId": "59228ee5-c58b-4e8c-c3a1-ff15d6a8f059",
        "colab": {
          "base_uri": "https://localhost:8080/",
          "height": 167
        }
      },
      "source": [
        "a = Chem.MolFromSmiles('C=CCC=CCO')\n",
        "a"
      ],
      "execution_count": 0,
      "outputs": [
        {
          "output_type": "execute_result",
          "data": {
            "image/png": "[encoded data removed]",
            "text/plain": [
              "<rdkit.Chem.rdchem.Mol at 0x7f8c27144f30>"
            ]
          },
          "metadata": {
            "tags": []
          },
          "execution_count": 27
        }
      ]
    },
    {
      "cell_type": "markdown",
      "metadata": {
        "id": "KwdB3dvPGP1G",
        "colab_type": "text"
      },
      "source": [
        "### **3.3 가지(Branches ; 치환기, 알킬기)**\n",
        "- 가지들은 중첩되거나 쌓일 수 있으며, 소괄호`()`로 묶어 결합 원소의 오른쪽에 써줍니다."
      ]
    },
    {
      "cell_type": "code",
      "metadata": {
        "id": "2itMd5VPGIfx",
        "colab_type": "code",
        "outputId": "1e4a130c-a61c-41cd-8af2-3faf488901da",
        "colab": {
          "base_uri": "https://localhost:8080/",
          "height": 167
        }
      },
      "source": [
        "Triethylamine = Chem.MolFromSmiles('CCN(CC)CC') \n",
        "Triethylamine"
      ],
      "execution_count": 0,
      "outputs": [
        {
          "output_type": "execute_result",
          "data": {
            "image/png": "[encoded data removed]",
            "text/plain": [
              "<rdkit.Chem.rdchem.Mol at 0x7f8c2714b580>"
            ]
          },
          "metadata": {
            "tags": []
          },
          "execution_count": 39
        }
      ]
    },
    {
      "cell_type": "code",
      "metadata": {
        "id": "pLT2GiRwIkOr",
        "colab_type": "code",
        "outputId": "441539c9-b924-41bf-ce30-0a134686e5d4",
        "colab": {
          "base_uri": "https://localhost:8080/",
          "height": 167
        }
      },
      "source": [
        "Isobutyric_acid = Chem.MolFromSmiles('CC(C)C(=O)O')\n",
        "Isobutyric_acid"
      ],
      "execution_count": 0,
      "outputs": [
        {
          "output_type": "execute_result",
          "data": {
            "image/png": "[encoded data removed]",
            "text/plain": [
              "<rdkit.Chem.rdchem.Mol at 0x7f8c2714b490>"
            ]
          },
          "metadata": {
            "tags": []
          },
          "execution_count": 38
        }
      ]
    },
    {
      "cell_type": "code",
      "metadata": {
        "id": "hcOM9HxRIrog",
        "colab_type": "code",
        "outputId": "58bc206d-eb71-46c9-beb8-6bedc280299d",
        "colab": {
          "base_uri": "https://localhost:8080/",
          "height": 167
        }
      },
      "source": [
        "acetic_acid = Chem.MolFromSmiles('CC(=O)O')\n",
        "acetic_acid"
      ],
      "execution_count": 0,
      "outputs": [
        {
          "output_type": "execute_result",
          "data": {
            "image/png": "[encoded data removed]",
            "text/plain": [
              "<rdkit.Chem.rdchem.Mol at 0x7f8c2714b530>"
            ]
          },
          "metadata": {
            "tags": []
          },
          "execution_count": 40
        }
      ]
    },
    {
      "cell_type": "markdown",
      "metadata": {
        "id": "2z4dmpnwI85Z",
        "colab_type": "text"
      },
      "source": [
        "### **3.4 고리구조(Cyclic Structures)**\n",
        "- 고리형 구조는 고리에서 하나의 결합을 끊어 선형적으로 표시하고, 결합을 끊은 원자 바로 뒤에 숫자를 이용해 고리형 구조를 표현합니다."
      ]
    },
    {
      "cell_type": "code",
      "metadata": {
        "id": "VRgnZI7NI7nw",
        "colab_type": "code",
        "outputId": "bdc0c4f2-6648-4542-8d42-699b656d5e2f",
        "colab": {
          "base_uri": "https://localhost:8080/",
          "height": 167
        }
      },
      "source": [
        "cyclopentane = Chem.MolFromSmiles('C1CCCC1')\n",
        "cyclopentane"
      ],
      "execution_count": 0,
      "outputs": [
        {
          "output_type": "execute_result",
          "data": {
            "image/png": "[encoded data removed]",
            "text/plain": [
              "<rdkit.Chem.rdchem.Mol at 0x7f8c2714b170>"
            ]
          },
          "metadata": {
            "tags": []
          },
          "execution_count": 41
        }
      ]
    },
    {
      "cell_type": "code",
      "metadata": {
        "id": "BlLZlAesJEY6",
        "colab_type": "code",
        "outputId": "31050db2-9f8e-4ce6-d8f7-c61b4292f0f5",
        "colab": {
          "base_uri": "https://localhost:8080/",
          "height": 167
        }
      },
      "source": [
        "m = Chem.MolFromSmiles('C1CCC(C)C1')\n",
        "m"
      ],
      "execution_count": 0,
      "outputs": [
        {
          "output_type": "execute_result",
          "data": {
            "image/png": "[encoded data removed]",
            "text/plain": [
              "<rdkit.Chem.rdchem.Mol at 0x7f8c2714b030>"
            ]
          },
          "metadata": {
            "tags": []
          },
          "execution_count": 42
        }
      ]
    },
    {
      "cell_type": "markdown",
      "metadata": {
        "id": "k6QIk4iWJ5nO",
        "colab_type": "text"
      },
      "source": [
        "- 동일한 화학물을 여러 방법으로 표현할 수 있고, 한 가지 분자의 다양한 표현은 우선순위가 없습니다."
      ]
    },
    {
      "cell_type": "code",
      "metadata": {
        "id": "qTuG6u23KCHG",
        "colab_type": "code",
        "outputId": "1e93090c-987b-47cc-e9aa-72cf0d653c9b",
        "colab": {
          "base_uri": "https://localhost:8080/",
          "height": 167
        }
      },
      "source": [
        "mbc1 = Chem.MolFromSmiles('CC1=CC(Br)CCC1')\n",
        "mbc1"
      ],
      "execution_count": 0,
      "outputs": [
        {
          "output_type": "execute_result",
          "data": {
            "image/png": "[encoded data removed]",
            "text/plain": [
              "<rdkit.Chem.rdchem.Mol at 0x7f8c2703a210>"
            ]
          },
          "metadata": {
            "tags": []
          },
          "execution_count": 46
        }
      ]
    },
    {
      "cell_type": "code",
      "metadata": {
        "id": "ajUlmUzLKO6E",
        "colab_type": "code",
        "outputId": "f7111852-5000-471c-e1e9-3d96f9ff2611",
        "colab": {
          "base_uri": "https://localhost:8080/",
          "height": 167
        }
      },
      "source": [
        "mbc2 = Chem.MolFromSmiles('CC1=CC(CCC1)Br')\n",
        "mbc2"
      ],
      "execution_count": 0,
      "outputs": [
        {
          "output_type": "execute_result",
          "data": {
            "image/png": "[encoded data removed]",
            "text/plain": [
              "<rdkit.Chem.rdchem.Mol at 0x7f8c2703a300>"
            ]
          },
          "metadata": {
            "tags": []
          },
          "execution_count": 49
        }
      ]
    },
    {
      "cell_type": "markdown",
      "metadata": {
        "id": "catQBsM8JJS0",
        "colab_type": "text"
      },
      "source": [
        "- 한 원자는 하나 이상의 `ring closure`을 가질 수 있습니다. 아래와 같은구조로 설명할 수 있습니다."
      ]
    },
    {
      "cell_type": "code",
      "metadata": {
        "id": "aRl_YO7AJIAD",
        "colab_type": "code",
        "outputId": "b076db23-c288-4950-841e-d4f4df7baa9b",
        "colab": {
          "base_uri": "https://localhost:8080/",
          "height": 167
        }
      },
      "source": [
        "m = Chem.MolFromSmiles('O1CC(C)CCC1N1CCC(C)CC1')\n",
        "m"
      ],
      "execution_count": 0,
      "outputs": [
        {
          "output_type": "execute_result",
          "data": {
            "image/png": "[encoded data removed]",
            "text/plain": [
              "<rdkit.Chem.rdchem.Mol at 0x7f8c2703aad0>"
            ]
          },
          "metadata": {
            "tags": []
          },
          "execution_count": 51
        }
      ]
    },
    {
      "cell_type": "markdown",
      "metadata": {
        "id": "Pi-3DzTWJOxX",
        "colab_type": "text"
      },
      "source": [
        "### **3.5 비결합 구조(Disconnected Structures)**\n",
        "- 연결되지 않은 혼합물은 ' . '을 사용하여 각각의 구조들을 분리시킵니다.\n",
        "- 이온 혹은 리간드(ligands)의 연결은 순서에 상관없이 사용가능합니다. 한 전하가 다른 전하로의 연결을 의미하는 것도 아니고, 알짜 전하를 반드시 0으로 가질 필요도 없스니다.\n",
        "- 필요에 따라, 한 이온의 SMILES이 sodium phenoxide(석탄산나트륨)와 같이 다른 이온에 삽입될 수 있습니다.\n",
        "\n"
      ]
    },
    {
      "cell_type": "code",
      "metadata": {
        "id": "l3GbUu7pJNSV",
        "colab_type": "code",
        "outputId": "16841ac9-0c55-4f4e-8cc1-9b95676c1dfe",
        "colab": {
          "base_uri": "https://localhost:8080/",
          "height": 167
        }
      },
      "source": [
        "m = Chem.MolFromSmiles('[Na+].[O-]c1ccccc1')\n",
        "m"
      ],
      "execution_count": 0,
      "outputs": [
        {
          "output_type": "execute_result",
          "data": {
            "image/png": "[encoded data removed]",
            "text/plain": [
              "<rdkit.Chem.rdchem.Mol at 0x7f8c2714bb20>"
            ]
          },
          "metadata": {
            "tags": []
          },
          "execution_count": 44
        }
      ]
    },
    {
      "cell_type": "code",
      "metadata": {
        "id": "hkmq5zYpJR67",
        "colab_type": "code",
        "outputId": "851ce0b2-e6a4-4db4-a237-084448b6aad2",
        "colab": {
          "base_uri": "https://localhost:8080/",
          "height": 167
        }
      },
      "source": [
        "m = Chem.MolFromSmiles('c1cc([O-].[Na+])ccc1')\n",
        "m"
      ],
      "execution_count": 0,
      "outputs": [
        {
          "output_type": "execute_result",
          "data": {
            "image/png": "[encoded data removed]",
            "text/plain": [
              "<rdkit.Chem.rdchem.Mol at 0x7f8c2703a080>"
            ]
          },
          "metadata": {
            "tags": []
          },
          "execution_count": 45
        }
      ]
    },
    {
      "cell_type": "markdown",
      "metadata": {
        "id": "IRlM0Ne6POSC",
        "colab_type": "text"
      },
      "source": [
        "- 원자 명시에 따른 자릿수가 같은 쌍은 서로 결합됨을 의미합니다."
      ]
    },
    {
      "cell_type": "code",
      "metadata": {
        "id": "WRYgv92mJTK5",
        "colab_type": "code",
        "outputId": "c0671b40-5294-46d7-f0c6-78bee5fe8e29",
        "colab": {
          "base_uri": "https://localhost:8080/",
          "height": 167
        }
      },
      "source": [
        "C_C = Chem.MolFromSmiles('C1.C1')\n",
        "C_C"
      ],
      "execution_count": 0,
      "outputs": [
        {
          "output_type": "execute_result",
          "data": {
            "image/png": "[encoded data removed]",
            "text/plain": [
              "<rdkit.Chem.rdchem.Mol at 0x7f8c2703ac10>"
            ]
          },
          "metadata": {
            "tags": []
          },
          "execution_count": 52
        }
      ]
    },
    {
      "cell_type": "markdown",
      "metadata": {
        "id": "sszGMBdaRaZi",
        "colab_type": "text"
      },
      "source": [
        "## **4. 이성질체 SMILES(Isomeric SMILES)**\n",
        "\n",
        "- 동위원소, 이중결합의 구조, 카이랄성을 규정합니다.\n",
        "- IUPAC 명명법과 CIP 명명법과는 다르게 카이랄성을 명명합니다.\n",
        "- 모든 화합물의 카이랄성이 알려져 있지는 않기 때문에, 가능한 카이랄성만을 표기합니다.\n"
      ]
    },
    {
      "cell_type": "markdown",
      "metadata": {
        "id": "ej0jB9duRd50",
        "colab_type": "text"
      },
      "source": [
        "### **4.1 동위원소(Isotopic Specification)**\n",
        "- 동위원소는 [원자량 + 원자기호] 로 표기합니다."
      ]
    },
    {
      "cell_type": "markdown",
      "metadata": {
        "id": "_8rBRbgjRiSD",
        "colab_type": "text"
      },
      "source": [
        "SMILES | Name\n",
        "---- | ----\n",
        "$[12C]$ | carbon-12\n",
        "$[13C]$ | carbon-13\n",
        "$[C]$ | carbon(unspecified mass)\n",
        "$[13CH4]$ | C-13 methane"
      ]
    },
    {
      "cell_type": "markdown",
      "metadata": {
        "id": "z8BBbSB9RkRC",
        "colab_type": "text"
      },
      "source": [
        "### **4.2 이중결합 배치(Configuration Around Double Bonds)**\n",
        "- 이중결합의 구조 이성질체는 결합의 방향을 나타내며 '/'와'\\'로 명시합니다.\n",
        "- '/'와'\\'는 결합된 원자들 간의 상대적인 위치를 나타내는 것으로, 이중결합으로 연결될 때에만 의미를 갖습니다.\n",
        "\n",
        ">**E,Z체계**<br>\n",
        "E(entgegon) : 반대편이라는 어원, 높은 우선순위를 갖는 탄소가 포함된 치환기가 이중결합의 **반대 위치**에 존재할 경우(≒trans-)<br>\n",
        "Z(zusammen) : 함께라는 어원, 높은 우선순위를 갖는 탄소가 포함된 치환기가 이중결합의 **같은 위치**에 존재할 경우(≒cis-)<br>\n",
        "Ex) E- and Z-1,2-dibromoethene\n"
      ]
    },
    {
      "cell_type": "code",
      "metadata": {
        "id": "U-rtmTbcPxVz",
        "colab_type": "code",
        "outputId": "c6a85890-e7fc-45de-b502-a0b570dab3b1",
        "colab": {
          "base_uri": "https://localhost:8080/",
          "height": 167
        }
      },
      "source": [
        "E1 = Chem.MolFromSmiles('Br/C=C/Br') # 이중결합 왼쪽과 오른쪽의 슬래쉬가 방향이 같으면 E 방향입니다.\n",
        "E1"
      ],
      "execution_count": 0,
      "outputs": [
        {
          "output_type": "execute_result",
          "data": {
            "image/png": "[encoded data removed]",
            "text/plain": [
              "<rdkit.Chem.rdchem.Mol at 0x7f8c2703af30>"
            ]
          },
          "metadata": {
            "tags": []
          },
          "execution_count": 57
        }
      ]
    },
    {
      "cell_type": "code",
      "metadata": {
        "id": "WBc_FI-PRp4c",
        "colab_type": "code",
        "outputId": "b29687a3-79ca-4b58-9f52-e5f780c158ab",
        "colab": {
          "base_uri": "https://localhost:8080/",
          "height": 167
        }
      },
      "source": [
        "E2 = Chem.MolFromSmiles('Br/C=C\\Br') # 이중결합 왼쪽과 오른쪽의 슬래쉬가 방향이 반대면 Z 방향입니다.\n",
        "E2"
      ],
      "execution_count": 0,
      "outputs": [
        {
          "output_type": "execute_result",
          "data": {
            "image/png": "[encoded data removed]",
            "text/plain": [
              "<rdkit.Chem.rdchem.Mol at 0x7f8c27041030>"
            ]
          },
          "metadata": {
            "tags": []
          },
          "execution_count": 58
        }
      ]
    },
    {
      "cell_type": "markdown",
      "metadata": {
        "id": "4qlQzd96Rtmi",
        "colab_type": "text"
      },
      "source": [
        "- SMILES과 CIP의 카이랄표현의 차이점은 SMILES은 국부적인 카이랄성(local chirality)를 표현할 수 있다는 점입니다."
      ]
    },
    {
      "cell_type": "code",
      "metadata": {
        "id": "5DlVY-TERr5O",
        "colab_type": "code",
        "outputId": "3f5796dc-2659-4e56-9d17-53abdf86fc2d",
        "colab": {
          "base_uri": "https://localhost:8080/",
          "height": 167
        }
      },
      "source": [
        "S1 = Chem.MolFromSmiles('Br/C=C/C=C/C')\n",
        "S1"
      ],
      "execution_count": 0,
      "outputs": [
        {
          "output_type": "execute_result",
          "data": {
            "image/png": "[encoded data removed]",
            "text/plain": [
              "<rdkit.Chem.rdchem.Mol at 0x7f8c2703ae40>"
            ]
          },
          "metadata": {
            "tags": []
          },
          "execution_count": 55
        }
      ]
    },
    {
      "cell_type": "code",
      "metadata": {
        "id": "AWJ07_TKR1iI",
        "colab_type": "code",
        "outputId": "bbf54401-fba3-4277-d7e7-576c2ea8a09c",
        "colab": {
          "base_uri": "https://localhost:8080/",
          "height": 167
        }
      },
      "source": [
        "S2 = Chem.MolFromSmiles('Br/C=C/C=CC')\n",
        "S2"
      ],
      "execution_count": 0,
      "outputs": [
        {
          "output_type": "execute_result",
          "data": {
            "image/png": "[encoded data removed]",
            "text/plain": [
              "<rdkit.Chem.rdchem.Mol at 0x7f8c2703aee0>"
            ]
          },
          "metadata": {
            "tags": []
          },
          "execution_count": 56
        }
      ]
    },
    {
      "cell_type": "markdown",
      "metadata": {
        "id": "hHQbN2w8Y3xd",
        "colab_type": "text"
      },
      "source": [
        "### **4.3 사면체의 중심의 구조(Configuration Around Tetrahedral Centers)**\n",
        "* SMILES은 국부적 카이랄성을 기반으로한 가장 일반적인 형식의 명시법을 사용합니다.\n",
        "* SMILES에서 사면체의 중심은 카이랄 원자의 원자 기호에 카이랄이라는 명시(@ 혹은 @@)를 합니다. '@'는 이웃하는 원자들이 반시계로 표현되어 있다는 것을 의미하고 '@@'는 이웃하는 원자들이 시계로 표현되어 있다는 것을 의미합니다.\n",
        "* **카이랄성(Chirality):**<br>\n",
        "거울상에 포갤 수 없는 분자를 카이랄(chiral)이라 합니다.<br>\n",
        "같은 분자식이라 하여도 입체구조에 의해 서로 다른 화합물입니다. 이를 입체 이성질체라고 합니다. <br>\n",
        "카이랄성의 가장 일반적인 원인은 네 개의 서로 다른 치환기가 결합된 탄소에서 가장 많이 볼 수 있는 정사면체인 원자 때문입니다.<br>\n",
        "네 개의 서로 다른 치환기체가 결합된 탄소 원자는 두 개의 주요 대칭 요소가 없고 **카이랄 중심(chiral center)**라 불립니다.<br> Ex) 1-Bromo-1-chloro-1-fluoromethane : C에 -Cl, -H, -F, -Br이 결합된 카이랄 중심입니다.<br>\n",
        "![chiral](https://upload.wikimedia.org/wikipedia/commons/thumb/3/3c/Chiral.svg/300px-Chiral.svg.png)<br>\n",
        "(사진출처:위키피디아)\n",
        "\n",
        "* **카이랄 중심의 R or S 배열 결정**<BR> 카이랄 중심을 정하고 4개의 치환기를 확인한 후, 우선순위가 가장 높은 것(1)부터 가장 낮은 것(4)까지 번호를 배정합니다.\n",
        "\n",
        "    ```\n",
        "    우선순위\n",
        "    카이랄 중심에서 결합된 원자의 번호가 클수록 높은 우선순위 \n",
        "    -> 비교가 안된다면 두 번째 쌍을 살펴봅니다 \n",
        "    -> 이중 결합의 경우 결합과 같은 수만큼의 '가상'의 원자들이 단일 결합으로 취급\n",
        "    ```\n",
        "\n",
        "  가장 낮은 우선순위(4)를 갖는 치환기를 자동차의 운전대 기둥처럼 자신으로 부터 가장 멀리 위치하도록 분자를 배치합니다.<br>\n",
        "자신쪽으로 향하고 있는 세 개의 치환기들을 우선순위가 가장 높은(1)치환기 부터 우선순위가 가장 낮은(3) 치환기 순서대로 읽습니다.<br>\n",
        "치환기가 시계방향이면 배열을 R(라틴어 rectus,똑바른, 올바른); SMILES에선 @@, 반시계 방향이라면 S(라틴어 sinister, 왼쪽); SMILES에선 @로 합니다."
      ]
    },
    {
      "cell_type": "code",
      "metadata": {
        "id": "Pv5OTFoXZVeK",
        "colab_type": "code",
        "outputId": "7929d3de-38ee-4093-bdeb-e595a0243fe5",
        "colab": {
          "base_uri": "https://localhost:8080/",
          "height": 167
        }
      },
      "source": [
        "bS1 = Chem.MolFromSmiles('NC(C)(F)C(=O)O')\n",
        "S1"
      ],
      "execution_count": 0,
      "outputs": [
        {
          "output_type": "execute_result",
          "data": {
            "image/png": "[encoded data removed]",
            "text/plain": [
              "<rdkit.Chem.rdchem.Mol at 0x7f8c270410d0>"
            ]
          },
          "metadata": {
            "tags": []
          },
          "execution_count": 59
        }
      ]
    },
    {
      "cell_type": "code",
      "metadata": {
        "id": "hHbNm_t9ZYZM",
        "colab_type": "code",
        "outputId": "168222bd-ad19-4f07-e6e2-2c924b3bae76",
        "colab": {
          "base_uri": "https://localhost:8080/",
          "height": 167
        }
      },
      "source": [
        "m = Chem.MolFromSmiles('N[C@](C)(F)C(=O)O')\n",
        "m"
      ],
      "execution_count": 0,
      "outputs": [
        {
          "output_type": "execute_result",
          "data": {
            "image/png": "[encoded data removed]",
            "text/plain": [
              "<rdkit.Chem.rdchem.Mol at 0x7f8c27041260>"
            ]
          },
          "metadata": {
            "tags": []
          },
          "execution_count": 60
        }
      ]
    },
    {
      "cell_type": "code",
      "metadata": {
        "id": "3vkO9pW1Zcy6",
        "colab_type": "code",
        "outputId": "36185abd-6257-4af0-974a-eb425f78eab5",
        "colab": {
          "base_uri": "https://localhost:8080/",
          "height": 167
        }
      },
      "source": [
        "m = Chem.MolFromSmiles('N[C@@](F)(C)C(=O)O')\n",
        "m"
      ],
      "execution_count": 0,
      "outputs": [
        {
          "output_type": "execute_result",
          "data": {
            "image/png": "[encoded data removed]",
            "text/plain": [
              "<rdkit.Chem.rdchem.Mol at 0x7f8c27041300>"
            ]
          },
          "metadata": {
            "tags": []
          },
          "execution_count": 61
        }
      ]
    },
    {
      "cell_type": "code",
      "metadata": {
        "id": "OfMy41TSZpJr",
        "colab_type": "code",
        "outputId": "3590849c-87e9-4c51-edaa-b8e5c7aa67f0",
        "colab": {
          "base_uri": "https://localhost:8080/",
          "height": 35
        }
      },
      "source": [
        "m.HasSubstructMatch(Chem.MolFromSmiles('F[C@](N)(C)C(=O)O'),useChirality=True) # 이 둘의 구조가 같은지 확인"
      ],
      "execution_count": 0,
      "outputs": [
        {
          "output_type": "execute_result",
          "data": {
            "text/plain": [
              "True"
            ]
          },
          "metadata": {
            "tags": []
          },
          "execution_count": 62
        }
      ]
    },
    {
      "cell_type": "markdown",
      "metadata": {
        "id": "GFgj8QtFR4MQ",
        "colab_type": "text"
      },
      "source": [
        "### **4.4 일반적인 카이랄 규칙(General Chiral Sepcification)**\n",
        "\n",
        "* 많은 종류의 카이랄성이 존재하며, '@'기호를 사용함으로써 카이랄을 나타냈습니다.\n",
        "* SMILES에서 사용하는 일반적 카이랄 규격은 3부분이 있습니다:\n",
        "  1. '@'기호\n",
        "  2. 잇따르는 두 글자의 카이랄 표시\n",
        "  3. 잇따르는 수치해석적인 카이랄 지정자\n",
        "* 가장 기초가 되는 카이랄 class는 각각의 degree(연결의 수)입니다.\n",
        "       4개의 연결에 기초가 되는 class는 사면체(TH)입니다.\n",
        "* 대부분의 경우 @1표시는 SMILES의 순서를 기준으로 한 축에 반시계 방향으로 @2표시는 시계방향을 의미합니다.\n",
        "* '@@'와 '@@@'는 각각 '@2','@3'와 같습니다.\n",
        "* 위에서 사용된 '@'와 '@@'는 '@TH1'과 '@TH2'를 간략하게 표현한 것입니다.\n",
        "* SMILES은 모든 범위에 관한 카이랄 규격을 다룹니다.('감소된 카이랄성', '퇴화된 카이랄성') 따라서 정확하게 알고 있는 모든 것을 보장하는 언어입니다.\n",
        "* 이 섹션의 마지막 부분에선 사면체, 알렌식(allen-like), 사각평면, trigonal-bypyramidal, octahedral의 카이랄성에 제한될 것입니다. 비록 많은 카이랄성은 위의 체계로 다룰 수 있겠지만, 이러한 5개의 클래스는 화학에서 매우 흔하고, 자주 다뤄지는 부분입다.\n",
        "\n",
        "* Tetrahedral:TH라는 기호로 표시되며, 4방위가 붙어있는 카이랄 클래스의 default입니다.\n",
        "\n",
        "* Allen-like:AL의 기호로 표시되며, 카이랄 중심이 이중결합으로 연결된 2개가 붙어있는 카이랄 클래스의 default입니다. 비록 C=C=C의 구조가 가장 흔하나, C=C=C=C=C 구조들도 또한 allen-like입니다. 이중결합된 원자가 일렬로 짝수개가 연결된 것입니다."
      ]
    },
    {
      "cell_type": "markdown",
      "metadata": {
        "id": "qFv0fCc0aNij",
        "colab_type": "text"
      },
      "source": [
        "![AL](http://www.daylight.com/dayhtml/doc/theory/theory18.gif) | ![substituted](http://www.daylight.com/dayhtml/doc/theory/theory19.gif)\n",
        "---- | ----\n",
        "OC(Cl)=$[C@]$=C(C)F | OC=$[C@]$=CF\n",
        "OC(Cl)=$[C@AL1]$=C(C)F | OC($[H]$)=$[C@AL1]$=C($[H]$)F"
      ]
    },
    {
      "cell_type": "code",
      "metadata": {
        "id": "KhDakmgbR2kW",
        "colab_type": "code",
        "outputId": "a4732005-9809-42ce-b024-cc299b3a355d",
        "colab": {
          "base_uri": "https://localhost:8080/",
          "height": 35
        }
      },
      "source": [
        "m = Chem.MolFromSmiles('OC(Cl)=[C@]=C(C)F')\n",
        "m.HasSubstructMatch(Chem.MolFromSmiles('OC(Cl)=[C@@]=C(F)C'),useChirality=True) # 카이랄성이 일치하는지 확인"
      ],
      "execution_count": 0,
      "outputs": [
        {
          "output_type": "execute_result",
          "data": {
            "text/plain": [
              "True"
            ]
          },
          "metadata": {
            "tags": []
          },
          "execution_count": 63
        }
      ]
    },
    {
      "cell_type": "markdown",
      "metadata": {
        "id": "gGJ2ctc0aRhS",
        "colab_type": "text"
      },
      "source": [
        "* 사각평면 : SP 기호로 표시\n",
        "@SP1,@SP2, @SP3; 4방위가 연결된 카이랄 class의 default는 아니고, 줄이는 표현 또한 없습니다. 또한 시계와 반시계방향이 없는 점이 특징입니다.\n",
        "\n",
        "![SP](http://www.daylight.com/dayhtml/doc/theory/theory20.gif) | -\n",
        "---- | ----\n",
        "F$[Po@SP1]$(Cl)(Br)I | (SP1 lists in a \"U shape\")\n",
        "F$[Po@SP2]$(Br)(Cl)I | (SP2 lists in a \"4-shape\")\n",
        "F$[Po@SP3]$(Cl)(I)Br | (SP3 lists in a \"Z shape\")\n",
        "\n",
        "* Trigonal-bipyramidal:TB기호로 사용합니다. 5개의 방향의 카이랄 class의 default입니다.\n",
        "\n",
        "  ![TB](http://www.daylight.com/dayhtml/doc/theory/theory21.gif)\n",
        "\n",
        "  S$[As@@]$(F)(Cl)(Br)C=O<br>\n",
        "  O=C$[As@]$(F)(Cl)(Br)S<br>"
      ]
    },
    {
      "cell_type": "code",
      "metadata": {
        "id": "c9cCxAzbaaNM",
        "colab_type": "code",
        "outputId": "c2597b24-3230-44dd-f2b9-702c056ddb11",
        "colab": {
          "base_uri": "https://localhost:8080/",
          "height": 35
        }
      },
      "source": [
        "m = Chem.MolFromSmiles('S[As@@](F)(Cl)(Br)C=O')\n",
        "m.HasSubstructMatch(Chem.MolFromSmiles('O=C[As@](Cl)(Br)(F)S'),useChirality=True)"
      ],
      "execution_count": 0,
      "outputs": [
        {
          "output_type": "execute_result",
          "data": {
            "text/plain": [
              "True"
            ]
          },
          "metadata": {
            "tags": []
          },
          "execution_count": 64
        }
      ]
    },
    {
      "cell_type": "code",
      "metadata": {
        "id": "THnQ9KNRfZMK",
        "colab_type": "code",
        "outputId": "c3a4cdc5-5673-40a8-d949-c137d305374c",
        "colab": {
          "base_uri": "https://localhost:8080/",
          "height": 35
        }
      },
      "source": [
        "m.HasSubstructMatch(Chem.MolFromSmiles('O=C[As@](F)(Cl)(Br)S'),useChirality=True)"
      ],
      "execution_count": 0,
      "outputs": [
        {
          "output_type": "execute_result",
          "data": {
            "text/plain": [
              "True"
            ]
          },
          "metadata": {
            "tags": []
          },
          "execution_count": 65
        }
      ]
    },
    {
      "cell_type": "markdown",
      "metadata": {
        "id": "dZOlmwQUfeDV",
        "colab_type": "text"
      },
      "source": [
        "* *Octahedral* : OH기호로 사용. 6개의 방향의 카이랄 class의 default입니다.\n",
        ">가능한 값은 @OH1~ @OH2 : @OH1(or @)는 한 개의 축이 다른 것과 연결을 SMILE에 의해 나열될 때, 4개의 중간, 수평적으로 연결된 원자들을 시계방향으로 나열시킨 것.<br>@OH2(or @@)는 시계방향\n",
        "</br>![OH](http://www.daylight.com/dayhtml/doc/theory/theory22.gif)\n"
      ]
    },
    {
      "cell_type": "markdown",
      "metadata": {
        "id": "O4KTjoqtblc4",
        "colab_type": "text"
      },
      "source": [
        "## **5. SMILES의 관례(MILES Convention)**\n",
        "\n",
        "\n",
        "\n",
        "### **5.1 Hydrogens**\n",
        "\n",
        "수소 원자는 대부분 생략됩니다.\n",
        "일반적으로 3가지 방법으로 수소 원자를 표시합니다.\n",
        " - 암시적 표시 : '[',     ']' 으로 표시되지 않은 원자가 원소들\n",
        " - 명확한 표시 : '[',     ']' 안에 정확한 갯수와 함께 표시\n",
        " - 하나의 수소 원자 : [H]\n",
        " \n",
        "그리고 반드시 수소원자를 명확히 표시해야할 때가 있습니다.\n",
        " - 전하를 띄는 수소 : [H+]\n",
        " - 수소 분자 : [H][H]\n",
        " - 하나 이상의 다른 원자에 연결된 수소 : bridging hydrogens\n",
        " - 동위원소 수소  : heavy water [2H]O[2H]\n"
      ]
    },
    {
      "cell_type": "code",
      "metadata": {
        "id": "_PDjb-AnbmiW",
        "colab_type": "code",
        "outputId": "2e2e0093-7fe3-44aa-e312-8dcf0dbe51cb",
        "colab": {
          "base_uri": "https://localhost:8080/",
          "height": 185
        }
      },
      "source": [
        "m = Chem.MolFromSmiles('[H+]')\n",
        "m"
      ],
      "execution_count": 0,
      "outputs": [
        {
          "output_type": "stream",
          "text": [
            "RDKit WARNING: [08:30:10] WARNING: not removing hydrogen atom without neighbors\n"
          ],
          "name": "stderr"
        },
        {
          "output_type": "execute_result",
          "data": {
            "image/png": "[encoded data removed]",
            "text/plain": [
              "<rdkit.Chem.rdchem.Mol at 0x7fd9f685b850>"
            ]
          },
          "metadata": {
            "tags": []
          },
          "execution_count": 142
        }
      ]
    },
    {
      "cell_type": "code",
      "metadata": {
        "id": "WtXT5v4ybn96",
        "colab_type": "code",
        "outputId": "259cd9dc-b516-4982-e8c8-0733a691939c",
        "colab": {
          "base_uri": "https://localhost:8080/",
          "height": 167
        }
      },
      "source": [
        "heavywater = Chem.MolFromSmiles('[2H]O[2H]')\n",
        "heavywater"
      ],
      "execution_count": 0,
      "outputs": [
        {
          "output_type": "execute_result",
          "data": {
            "image/png": "[encoded data removed]",
            "text/plain": [
              "<rdkit.Chem.rdchem.Mol at 0x7fd9f6850b70>"
            ]
          },
          "metadata": {
            "tags": []
          },
          "execution_count": 143
        }
      ]
    },
    {
      "cell_type": "markdown",
      "metadata": {
        "id": "XK1qEt7xcS2B",
        "colab_type": "text"
      },
      "source": [
        "### 5.2  **방향족(Aromaticity)**\n",
        "\n",
        "- 분자의 대칭성을 특징짓기 위해서 SMILES 같은 시스템에서 명확한 명명법을 생성할 수 있어야합니다. <br>\n",
        "- 정확한 방향족 판단 알고리즘이 있는 경우에, 사용자가 지방족 구조를 입력하고 싶을때 방향족 구조식으로 입력할 필요가 없습니다.<br>\n",
        "- 원하는 화합물을 짧게 명시할 수 있다.\n",
        "\n",
        "SMILES은 Hueckel 규칙의 확장 된 버전을 사용하여 방향족 분자와 이온을 식별합니다.\n",
        "\n",
        "> Hueckel's Rule\n",
        "> 1. 분자는 고리를 가져야합니다.\n",
        "> 2. 고리의 모든 원자는 같은 평면에 있어야합니다.\n",
        "> 3. 고리의 모든 원자는 **fully conjugated** 이어야합니다.(모든 원자가 p 오비탈을 가진다.)\n",
        "> 4. 분자는 (4n+2)개의 $\\pi$ 전자를 가집니다. ( n은 0 보다 크거나 같은 정수 ) <br>\n",
        "=> 4번만 만족하지 않는 화합물을 **antiaromatic** 이라고 합니다.\n",
        "\n"
      ]
    },
    {
      "cell_type": "code",
      "metadata": {
        "id": "a0STVWKObpOr",
        "colab_type": "code",
        "outputId": "fa10aad8-1af6-489f-a2d8-7dd5a35396be",
        "colab": {
          "base_uri": "https://localhost:8080/",
          "height": 167
        }
      },
      "source": [
        "H = Chem.MolFromSmiles('c1ccccc1') # Aromatic\n",
        "H"
      ],
      "execution_count": 0,
      "outputs": [
        {
          "output_type": "execute_result",
          "data": {
            "image/png": "[encoded data removed]",
            "text/plain": [
              "<rdkit.Chem.rdchem.Mol at 0x7fd9f6850cb0>"
            ]
          },
          "metadata": {
            "tags": []
          },
          "execution_count": 144
        }
      ]
    },
    {
      "cell_type": "code",
      "metadata": {
        "id": "6XwnTb_LcWYR",
        "colab_type": "code",
        "outputId": "2cf7eaa2-1a6a-481a-9871-594eae1f44f3",
        "colab": {
          "base_uri": "https://localhost:8080/",
          "height": 167
        }
      },
      "source": [
        "H = Chem.MolFromSmiles('c1ccc1') # Aromatic\n",
        "H"
      ],
      "execution_count": 0,
      "outputs": [
        {
          "output_type": "execute_result",
          "data": {
            "image/png": "[encoded data removed]",
            "text/plain": [
              "<rdkit.Chem.rdchem.Mol at 0x7fd9f6850c10>"
            ]
          },
          "metadata": {
            "tags": []
          },
          "execution_count": 145
        }
      ]
    },
    {
      "cell_type": "code",
      "metadata": {
        "id": "TFJHqB5GcYXG",
        "colab_type": "code",
        "outputId": "b0dd18f2-918e-4425-c884-75c4d6890c3d",
        "colab": {
          "base_uri": "https://localhost:8080/",
          "height": 167
        }
      },
      "source": [
        "K = Chem.MolFromSmiles('C1=CC=CC=C1') # Aliphatic\n",
        "K"
      ],
      "execution_count": 0,
      "outputs": [
        {
          "output_type": "execute_result",
          "data": {
            "image/png": "[encoded data removed]",
            "text/plain": [
              "<rdkit.Chem.rdchem.Mol at 0x7fd9f68258f0>"
            ]
          },
          "metadata": {
            "tags": []
          },
          "execution_count": 147
        }
      ]
    },
    {
      "cell_type": "markdown",
      "metadata": {
        "id": "2rwJQRQpcqdt",
        "colab_type": "text"
      },
      "source": [
        "특히, c1ccc1 (탄소 4개)와 c1ccccccc1 (탄소 8개)의 입력은 C1=CC=C1 및 C1=CC=CC=CC=CC=C1에 대한 정확한 *anti-aromatic* 구조를 생성할 것입니다. 위의 Hueckel's rule의 4번째 규칙에만 만족하지 않기 떄문입니다. 그러한 경우 SMILES 시스템은 내재된 sp2 혼합, 내재된 수소 수 및 지정된 공식 전하가 있는 경우 보존되는 구조를 찾습니다.<br>\n",
        "그러나 c1cccc1과 같은 일부 입력은 부정확할 뿐만 아니라 불가능할 수도 있습니다. 여기서 c1cccc1은 C1=CCC=C1로 변환할 수 없는데, 그 이유는 탄소 원자 중 하나는 두 개의 히드로겐이 부착된 sp3이기 때문입니다.<br>\n",
        "그러한 구조물에서는 단일 및 이중 결합을 번갈아 배치할 수 없기 때문에 SMILES은 **Impossible**으로 표시할 것입니다.<br>\n",
        "\n",
        "다음 목록에 있는 원자만 방향족으로 고려할 수 있다 : C, N, O, P, S, As, Se 및 *wildcard*.\n",
        "\n",
        "![a](http://www.daylight.com/dayhtml/doc/theory/theory27.gif)|![b](http://www.daylight.com/dayhtml/doc/theory/theory28.gif)|![c](http://www.daylight.com/dayhtml/doc/theory/theory29.gif)\n",
        "----|----|----\n",
        "C1=COC=C1|C1=CN=C[NH]C(=O)1|C1=C*=CC=C1\n",
        "c1cocc1|c1cnc[nH]c(=O)1|c1c*ccc1"
      ]
    },
    {
      "cell_type": "markdown",
      "metadata": {
        "id": "Y9MSxnyUTXA-",
        "colab_type": "text"
      },
      "source": [
        "\n",
        "### **5.3 Aromatic Nitrogen Compounds**\n",
        "\n",
        "방향성 질소는 모두 방향성 질소 기호 n으로 지정할 수 있습니다. \n",
        " - 피리딘 (Pyridine)\n",
        " - 피리딘-N-산화물 (Pyridine-N-oxide)\n",
        " - 피롤 (Methyl and 1H-pyrrole)\n",
        "\n",
        "![a](http://www.daylight.com/dayhtml/doc/theory/theory23.gif)|![b](http://www.daylight.com/dayhtml/doc/theory/theory24.gif)|![c](http://www.daylight.com/dayhtml/doc/theory/theory25.gif)\n",
        "----|----|----\n",
        "n1ccccc1 | O=n1ccccc1 _ _ [O-][n+]1ccccc1\t |  Cn1cccc1 _ _ _ [nH]1cccc1\n",
        "Pyridine | Pyridine-N-oxide\t | Methyl and 1H-pyrrole\n",
        "\n",
        "> 1-1H-pyrrole의 질소는 pyridyl-N와 구별하기 위해 [nH]로 쓰여져 있습니다."
      ]
    },
    {
      "cell_type": "code",
      "metadata": {
        "id": "OZaGD-Ezc2Nu",
        "colab_type": "code",
        "outputId": "b7bcec57-2919-4c26-fdfc-97ede1522386",
        "colab": {
          "base_uri": "https://localhost:8080/",
          "height": 167
        }
      },
      "source": [
        "N = Chem.MolFromSmiles('n1ccccc1')\n",
        "N"
      ],
      "execution_count": 0,
      "outputs": [
        {
          "output_type": "execute_result",
          "data": {
            "image/png": "[encoded data removed]",
            "text/plain": [
              "<rdkit.Chem.rdchem.Mol at 0x7fd9f685b9e0>"
            ]
          },
          "metadata": {
            "tags": []
          },
          "execution_count": 149
        }
      ]
    },
    {
      "cell_type": "code",
      "metadata": {
        "id": "5q5fuQY9c4pA",
        "colab_type": "code",
        "outputId": "1bd52c09-b049-4c8d-d761-152d510dbe3c",
        "colab": {
          "base_uri": "https://localhost:8080/",
          "height": 167
        }
      },
      "source": [
        "N2 = Chem.MolFromSmiles('[nH]1cccc1')\n",
        "N2"
      ],
      "execution_count": 0,
      "outputs": [
        {
          "output_type": "execute_result",
          "data": {
            "image/png": "[encoded data removed]",
            "text/plain": [
              "<rdkit.Chem.rdchem.Mol at 0x7fd9f6825d00>"
            ]
          },
          "metadata": {
            "tags": []
          },
          "execution_count": 150
        }
      ]
    },
    {
      "cell_type": "markdown",
      "metadata": {
        "id": "oWhhm3asc6p7",
        "colab_type": "text"
      },
      "source": [
        "### **5.4 Bonding Conventions**\n",
        "\n",
        "SMILES의 장점 : 동일한 구조를 다양한 모델로 설명, 분자속 어떤 원자의 전하도 나타낼 수 있습니다.\n",
        "> 니트로메탄(Nitromethane) : `CN(=O)=O`    또는   `C[N+](=O)[O-]`"
      ]
    },
    {
      "cell_type": "code",
      "metadata": {
        "id": "qukTNvygdI2c",
        "colab_type": "code",
        "outputId": "b79f1c2a-7070-4f1d-da17-19aa2ffa4a3e",
        "colab": {
          "base_uri": "https://localhost:8080/",
          "height": 167
        }
      },
      "source": [
        "N3 = Chem.MolFromSmiles('CN(=O)=O')\n",
        "N3"
      ],
      "execution_count": 0,
      "outputs": [
        {
          "output_type": "execute_result",
          "data": {
            "image/png": "[encoded data removed]",
            "text/plain": [
              "<rdkit.Chem.rdchem.Mol at 0x7fd9f6844940>"
            ]
          },
          "metadata": {
            "tags": []
          },
          "execution_count": 151
        }
      ]
    },
    {
      "cell_type": "code",
      "metadata": {
        "id": "njkrwIXcdPr7",
        "colab_type": "code",
        "outputId": "e97c9228-4298-4c68-9949-85abb701491d",
        "colab": {
          "base_uri": "https://localhost:8080/",
          "height": 167
        }
      },
      "source": [
        "N4 = Chem.MolFromSmiles('C[N+](=O)[O-]')\n",
        "N4"
      ],
      "execution_count": 0,
      "outputs": [
        {
          "output_type": "execute_result",
          "data": {
            "image/png": "[encoded data removed]",
            "text/plain": [
              "<rdkit.Chem.rdchem.Mol at 0x7fd9f68440d0>"
            ]
          },
          "metadata": {
            "tags": []
          },
          "execution_count": 152
        }
      ]
    },
    {
      "cell_type": "markdown",
      "metadata": {
        "id": "jEgDpj4vdQmc",
        "colab_type": "text"
      },
      "source": [
        "### **5.5 Tautomers**\n",
        "\n",
        "![a](http://www.daylight.com/dayhtml/doc/theory/theory26.gif)|-\n",
        "-----------|-----------\n",
        "O=c1[nH]cccc1 _ _ _ _ _ _ _ _ _ _ _ _ _ _ _ | Oc1ncccc1\n",
        "2-pyridone _ _ _ _ _ _ _ _ _ _ _ _ _ _ _ | 2-pyridinol"
      ]
    },
    {
      "cell_type": "code",
      "metadata": {
        "id": "O4l-UmCDdcyv",
        "colab_type": "code",
        "outputId": "de31c97a-aa51-453a-a726-10fe00c2c6d1",
        "colab": {
          "base_uri": "https://localhost:8080/",
          "height": 167
        }
      },
      "source": [
        "T1 = Chem.MolFromSmiles('O=c1[nH]cccc1')\n",
        "T1"
      ],
      "execution_count": 0,
      "outputs": [
        {
          "output_type": "execute_result",
          "data": {
            "image/png": "[encoded data removed]",
            "text/plain": [
              "<rdkit.Chem.rdchem.Mol at 0x7fd9f6850c60>"
            ]
          },
          "metadata": {
            "tags": []
          },
          "execution_count": 153
        }
      ]
    },
    {
      "cell_type": "code",
      "metadata": {
        "id": "roh4kLbBdd6T",
        "colab_type": "code",
        "outputId": "178cd664-5f37-42ea-f3ce-267220c1b181",
        "colab": {
          "base_uri": "https://localhost:8080/",
          "height": 167
        }
      },
      "source": [
        "T2 = Chem.MolFromSmiles('Oc1ncccc1')\n",
        "T2"
      ],
      "execution_count": 0,
      "outputs": [
        {
          "output_type": "execute_result",
          "data": {
            "image/png": "[encoded data removed]",
            "text/plain": [
              "<rdkit.Chem.rdchem.Mol at 0x7fd9f6850ee0>"
            ]
          },
          "metadata": {
            "tags": []
          },
          "execution_count": 154
        }
      ]
    },
    {
      "cell_type": "markdown",
      "metadata": {
        "id": "NyTPVkKiJSb2",
        "colab_type": "text"
      },
      "source": [
        "# **Ⅱ. 시퀀스-투-시퀀스 (Sequencd-to-Sequence, seq2seq)**\n"
      ]
    },
    {
      "cell_type": "markdown",
      "metadata": {
        "id": "f5Q4J0oNwTgf",
        "colab_type": "text"
      },
      "source": [
        "시퀀스-투-시퀀스(Sequence-to-Sequence)는 입력된 시퀀스로부터 다른 도메인의 시퀀스를 출력하는 다양한 분야에서 사용되는 모델입니다. 예를 들어 챗봇(Chatbot)과 기계 번역(Machine Translation)이 그러한 대표적인 예인데, 입력 시퀀스와 출력 시퀀스를 각각 질문과 대답으로 구성하면 챗봇으로 만들 수 있고, 입력 시퀀스와 출력 시퀀스를 각각 입력 문장과 번역 문장으로 만들면 번역기로 만들 수 있습니다. 따라서 seq2seq에 대한 구조를 이해하고, 케라스(keras)를 통해 직접 구현해보겠습니다.\n",
        "\n",
        "## **1. 시퀀스 - 투 - 시퀀스  (Sequence-to-Sequence)**\n",
        "\n",
        "<img src=\"https://github.com/KyoHoon998/hello-world/blob/master/images/1.PNG?raw=true\" width = \"30%\">\n",
        "\n",
        "위의 그림은 seq2seq 모델로 만들어진 번역기가 'I am a student'라는 영어 문장을 입력받아서, 'je suis étudiant'라는 프랑스 문장을 출력하는 모습을 보여줍니다. 그렇다면, seq2seq 모델 내부의 모습을 알아봅시다.\n",
        "\n",
        "<img src=\"https://github.com/KyoHoon998/hello-world/blob/master/images/2.PNG?raw=true\" width = \"60%\"> <br>\n",
        "seq2seq는 크게 두 개로 구성된 아키텍처로 구성되는데, 바로 인코더와 디코더입니다. 인코더는 입력 문장의 모든 단어들을 순차적으로 입력받은 뒤에 마지막에 이 모든 단어 정보들을 압축해서 하나의 벡터로 만드는데, 이를 컨텍스트 벡터(context vector)라고 합니다. 입력 문장의 정보가 하나의 컨텍스트 벡터로 모두 압축되면 인코더는 컨텍스트 벡터를 디코더로 전송합니다. 디코더는 컨텍스트 벡터를 받아서 번역된 단어를 한 개씩 순차적으로 출력합니다.<br>\n",
        "<img src=\"https://github.com/KyoHoon998/hello-world/blob/master/images/3.PNG?raw=true\" width = \"290\">\n",
        "\n",
        "컨텍스트 벡터에 대해서는 뒤에서 다시 언급하겠습니다만, 위의 그림에서는 컨텍스트 벡터를 4의 사이즈로 표현하였습니다. 그러나 실제로 사용되는 seq2seq 모델에서는 보통 수백 이상의 차원을 갖고있습니다. 이제 인코더와 디코더의 내부를 좀 더 확대해보겠습니다.<br>\n",
        "<img src= \"https://github.com/KyoHoon998/hello-world/blob/master/images/4.PNG?raw=true\" width = \"600\">\n",
        "\n",
        "인코더 아키텍처와 디코더 아키텍처의 내부는 사실 두 개의 LSTM 아키텍처 입니다. 입력 문장을 받는 LSTM 셀을 인코더라고 하고, 출력 문장을 출력하는 LSTM 셀을 디코더라고 합니다. 이번 챕터에서는 인코더의 LSTM 셀을 주황색으로, 디코더의 LSTM 셀을 초록색으로 표현합니다. 우선 인코더를 자세히보면, 입력 문장은 단어 토큰화를 통해서 단어 단위로 쪼개지고 단어 토큰 각각은 LSTM 셀의 각 시점의 입력이 됩니다. 인코더 LSTM 셀은 모든 단어를 입력받은 뒤에 인코더 LSTM 셀의 마지막 시점의 은닉 상태를 디코더 LSTM 셀로 넘겨주는데 이를 컨텍스트 벡터라고 합니다. 컨텍스트 벡터는 디코더 LSTM 셀의 첫번째 은닉 상태로 사용됩니다.\n",
        "\n",
        "디코더는 기본적으로 RNNLM(RNN Language Model)입니다.\n",
        "디코더는 초기 입력으로 문장의 시작을 의미하는 심볼 `<sos>` 가 들어갑니다. 디코더는 `<sos>`가 입력되면, 다음에 등장할 확률이 높은 단어를 예측합니다. 첫번째 시점(time step)의 디코더 LSTM 셀은 다음에 등장할 단어로 je를 예측하였습니다. 첫번째 시점의 디코더 LSTM 셀은 예측된 단어 je를 다음 시점의 LSTM 셀의 입력으로 입력합니다. 그리고 두번째 시점의 디코더 LSTM 셀은 입력된 단어 je로부터 다시 다음에 올 단어인 suis를 예측하고, 또 다시 이것을 다음 시점의 LSTM 셀의 입력으로 보냅니다. 디코더는 이런 식으로 기본적으로 다음에 올 단어를 예측하고, 그 예측한 단어를 다음 시점의 LSTM 셀의 입력으로 넣는 행위를 반복합니다. 이 행위는 문장의 끝을 의미하는 심볼인 `<eos>`가 다음 단어로 예측될 때까지 반복됩니다. 지금 설명하는 것은 테스트 과정 동안의 이야기입니다. \n",
        "\n",
        "seq2seq는 훈련 과정과 테스트 과정(또는 실제 번역기를 사람이 쓸 때)의 작동 방식이 조금 다릅니다. 훈련 과정에서는 디코더에게 인코더가 보낸 컨텍스트 벡터와 실제 정답인 상황인 `<sos>` je suis étudiant를 입력 받았을 때, je suis étudiant `<eos>`가 나와야 된다고 정답을 알려주면서 훈련합니다. 이에 대해서는 뒤에 교사 강요(teacher forcing)를 설명하면서 다시 언급하겠습니다. 반면 테스트 과정에서는 앞서 설명한 과정과 같이 디코더는 오직 컨텍스트 벡터와 <go>만을 입력으로 받은 후에 다음에 올 단어를 예측하고, 그 단어를 다음 시점의 LSTM 셀의 입력으로 넣는 행위를 반복합니다. 즉, 앞서 설명한 과정과 위의 그림은 테스트 과정에 해당됩니다. 이번에는 입, 출력에 쓰이는 단어 토큰들이 있는 부분을 좀 더 확대해보겠습니다. <br>\n",
        "<img src  = \"https://github.com/KyoHoon998/hello-world/blob/master/images/5.PNG?raw=true\" width = \"700\">\n",
        "\n",
        "기계는 텍스트보다 숫자를 잘 처리합니다. 그리고 자연어 처리에서 텍스트를 벡터로 바꾸는 방법으로 워드 임베딩이 사용됍니다. 즉, seq2seq에서 사용되는 모든 단어들은 워드 임베딩을 통해 임베딩 벡터로서 표현된 임베딩 벡터입니다. 위 그림은 모든 단어에 대해서 임베딩 과정을 거치게 하는 단계인 임베딩 층(embedding layer)의 모습을 보여줍니다. <br>\n",
        "<img src = \"https://github.com/KyoHoon998/hello-world/blob/master/images/6.PNG?raw=true\" width = \"700\">\n",
        "\n",
        "예를 들어 I, am, a, student라는 단어들에 대한 임베딩 벡터는 위와 같은 모습을 가집니다. 여기서는 그림으로 표현하고자 사이즈를 4로 하였지만, 보통 실제 임베딩 벡터는 수백 개의 차원을 가질 수 있습니다. 이제 LSTM 셀에 대해서 확대해보겠습니다.\n",
        "\n",
        "하나의 LSTM 셀은 각각의 시점(time step)마다 두 개의 입력을 받습니다. <br>\n",
        "<img src = \"https://github.com/KyoHoon998/hello-world/blob/master/images/7.PNG?raw=true\" width= \"700\"><br>\n",
        "현재 시점(time step)을 t라고 할 때, LSTM 셀은 t-1에서의 은닉 상태와 t에서의 입력 벡터를 입력으로 받고, t에서의 은닉 상태를 만듭니다. 이때 t에서의 은닉 상태는 바로 위에 또 다른 은닉층이나 출력층이 존재할 경우에는 위의 층으로 보내거나, 필요없으면 값을 무시할 수 있습니다. 그리고 LSTM 셀은 다음 시점에 해당하는 t+1의 LSTM 셀의 입력으로 현재 t에서의 은닉 상태를 입력으로 보냅니다.\n",
        "\n",
        "이런 구조에서 현재 시점 t에서의 은닉 상태는 과거 시점의 동일한 LSTM 셀에서의 모든 은닉 상태의 값들의 영향을 누적해서 받아온 값이라고 할 수 있습니다. 그렇기 때문에 앞서 우리가 언급했던 컨텍스트 벡터는 사실 인코더에서의 마지막 LSTM 셀의 은닉 상태값을 말하는 것이며, 이는 입력 문장의 모든 단어 토큰들의 정보를 요약해서 담고있다고 할 수 있습니다.\n",
        "\n",
        "디코더는 인코더의 마지막 LSTM 셀의 은닉 상태인 컨텍스트 벡터를 첫번째 은닉 상태의 값으로 사용합니다. 디코더의 첫번째 LSTM 셀은 이 첫번째 은닉 상태의 값과, 현재 t에서의 입력값인`<sos>`로부터, 다음에 등장할 단어를 예측합니다. 그리고 이 예측된 단어는 다음 시점인 t+1 LSTM에서의 입력값이 되고, 이 t+1에서의 LSTM 또한 이 입력값과 t에서의 은닉 상태로부터 t+1에서의 출력 벡터. 즉, 또 다시 다음에 등장할 단어를 예측하게 될 것입니다. 이제 디코더가 다음에 등장할 단어를 예측하는 부분을 확대해보도록 하겠습니다. <br>\n",
        "<img src = \"https://github.com/KyoHoon998/hello-world/blob/master/images/8.PNG?raw=true\" width = \"400\"><br>\n",
        "출력 단어로 나올 수 있는 단어들은 다양한 단어들이 있습니다. seq2seq 모델은 선택될 수 있는 모든 단어들로부터 하나의 단어를 골라서 예측해야 합니다. 이를 예측하기 위해서 쓸 수 있는 함수로는 뭐가 있을까요? 바로 소프트맥스 함수입니다. 디코더에서 각 시점(time step)의 LSTM 셀에서 출력 벡터가 나오면, 해당 벡터는 소프트맥스 함수를 통해 출력 시퀀스의 각 단어별 확률값을 반환하고, 디코더는 출력 단어를 결정합니다.\n",
        "\n",
        "지금까지 가장 기본적인 seq2seq에 대해서 배워보았습니다. 사실 seq2seq는 어떻게 구현하느냐에 따라서 충분히 더 복잡해질 수 있습니다. 컨텍스트 벡터를 디코더의 초기 은닉 상태로만 사용할 수도 있고, 거기서 더 나아가 컨텍스트 벡터를 디코더가 단어를 예측하는 매 시점마다 하나의 입력으로 사용할 수도 있으며 거기서 더 나아가면 어텐션 메커니즘이라는 방법을 통해 지금 알고있는 컨텍스트 벡터보다 더욱 문맥을 반영할 수 있는 컨텍스트 벡터를 구하여 매 시점마다 하나의 입력으로 사용할 수도 있습니다.\n",
        "\n"
      ]
    },
    {
      "cell_type": "markdown",
      "metadata": {
        "id": "oPZG-W4oJ20Q",
        "colab_type": "text"
      },
      "source": [
        "# **Ⅲ. Seq2seq Fingerprint : An Unsupervised Deep Molecular Embedding for Drug Discovery**"
      ]
    },
    {
      "cell_type": "markdown",
      "metadata": {
        "id": "8Cg8DGOYVc-o",
        "colab_type": "text"
      },
      "source": [
        "**약물 발견**은 잠재적인 효과가 있는 새로운 의약품을 식별하는 과정입니다. 현대의 약물 발견은 일반적으로 약물 화합물 선택으로 구현되는 반면, 모든 후보 화합물의 화학 물질 특성, 예를 들어 친 화성, 선택성, 대사 안정성은 실험실 환경에서 생물학적으로 테스트 됩니다. 약물 요구 사항 테스트를 통과한 모든 특성은 잠재적 약물 후보로 선정됩니다. 그러나 이 과정은 수많은 자본과 노동력이 필요합니다.\n",
        "\n",
        "따라서, machine learning method를 사용하여 화학적 특성을 자동으로 예측하는 것은 최근 약물 발견 커뮤니티에 큰 관심을 불러 일으켰습니다. 그러나 대부분의 machine learning 알고리즘은 길이가 고정된 연속벡터를 입력으로 사용합니다. 그러나 분자의 특성상 고정 길이 벡터를 가진 분자를 표현하기가 매우 어렵습니다. 그래서 전반적으로 분자 표현의 선택은 machine learning 기반 약물 발견이 핵심입니다.\n",
        "\n",
        "전통적인 고정 길이 벡터 분자의 fingerprint 표현은 데이터 기반이 아니라 인간의 전문 지식에 관한 것입니다. 그중 하나는 일부 Hashing process(예 : Extended Con-음성 fingerprint (ECFP))입니다. 그 fingerprint들은 보통 속도는 효율적이지만 이미지의 손실 압축과 매우 유사합니다. 다른 비 데이터 기반 fingerprint의 종류는 로컬 하위 구조를 기반으로합니다.  생물 학자들은 여러 가지 관련성이 높은 화학 물질을 찾습니다. 특정 작업을 위한 분자 하위 구조 및 fingerprint 설계에 따라 기능 벡터를 출력합니다. 그러나 이런 종류의 설계에는 분명히 수년간의 전문 지식이 필요합니다. 경험이 풍부하고 작업에 매우 민감합니다. \n",
        "\n",
        "요약하자면, 비 데이터 구동 fingerprint은 충분한 정보를 인코딩하는 데 제한이 있습니다. 비싸고 정확한 인간 지식에 매우 의존합니다. 이 때문에, 데이터 기반 fingerprint에 대한 수요가 크게 증가했습니다. 따라서, 수년간의 인간 지식과 고가의 생물학적 물질이 필요하지 않습니다.\n",
        "\n",
        "본 논문에서는 seq2seq fingerprint 이라는 비지도학습 데이터 중심 심층 학습 분자 fingerprint 방법을 제안합니다. 위에서 언급 한 문제를 해결하기 위해 <br> 1) 제안 된 방법은 인간의 전문 지식이 필요 없습니다.<br> 2) 제안 된 방법에 의해 생성 된 fingerproint는 원래 분자 표현으로 완전히 되돌릴 수있어 fingerprint 벡터에 인코딩 된 정보의 충분성을 보장합니다.<br> 3) 제안 된 방법은 심층 신경망의  레이블이없는 거대한 데이터 세트에 대해 지도학습되지 않은 훈련을 사용합니다.  \n",
        "\n",
        "fingerprint은 시퀀스-시퀀스 학습 (seq2seq 학습)이라는 최신 혁신 모델을 기반으로 설계되었습니다. seq2seq 학습 방법은 겉보기에는 관련이 없는 영어-프랑스어 번역에서 비롯됩니다. seq2seq 학습 방법은 영어 문장을 입력으로 사용하여 의미 벡터로 인코딩 한 다음 출력으로 프랑스어 문장으로 다시 변환합니다. 이 방법의 요점은 비슷하지만 seq2seq 학습의 입력과 출력을 분자의 텍스트 표현 인 동일한 SMILE 문자열로 설정하는 방식이 다릅니다. SMILE 문자열을 고정 크기 벡터에 Mapping 한 다음 원래 SMILE 문자열로 다시 변환합니다. 중간 고정 크기 벡터는 seq2seq fingerprint로 추출됩니다. 모델이 잘 훈련되면, 중간 특징 벡터는 원래의 분자 표현을 회복하기 위해 모든 정보를 인코딩하는 것으로 간주됩니다. 따라서 seq2seq fingerprint은 분자 특성을 정확하게 예측할 수있는 엄격한 정보를 잡아낼 것 으로 예상됩니다. \n",
        "\n",
        "<br>seq2seq fingerprint의 장점은 3 가지입니다. <br>1) seq2seq fingerprint의 교육 단계에는 라벨이 필요 없어서 비용이 많이 드는 노동 집약적 인 라벨 획득 절차가 필요 없습니다.<br> 2) 데이터 중심적이므로 전문가의 주관적 지식에 의존하지 않습니다.<br> 3) 레이블이없는 data는 실제로 거의 무제한이므로 매우 deep learning 시킬 수 있습니다.\n",
        "\n",
        "![대체 텍스트](https://github.com/syeong1218/python/blob/master/%EC%BA%A1%EC%B2%98.PNG?raw=true)\n"
      ]
    },
    {
      "cell_type": "markdown",
      "metadata": {
        "id": "CYkecAMQO7vv",
        "colab_type": "text"
      },
      "source": [
        "## **1. SMILES DATA SET**\n",
        "지금부터는 저희가 사용하려는 Data Base 들에 대한 자료를 소개하겠습니다. Data Base 는 http://moleculenet.ai/datasets-1 에서 찾았으며, 이 곳에서 SIDER 라는 Data set을 사용하겠습니다. 이 Data set은 인체내의 27개의 장기에 대한 시판 약물과 부작용의 Data set 입니다. 이 Data Set을 사용하여 모델을 학습시킬 예정입니다. "
      ]
    },
    {
      "cell_type": "code",
      "metadata": {
        "id": "TFaWhwU2POgE",
        "colab_type": "code",
        "colab": {
          "resources": {
            "http://localhost:8080/nbextensions/google.colab/files.js": {
              "data": "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",
              "ok": true,
              "headers": [
                [
                  "content-type",
                  "application/javascript"
                ]
              ],
              "status": 200,
              "status_text": ""
            }
          },
          "base_uri": "https://localhost:8080/",
          "height": 77
        },
        "outputId": "e96d4604-ee26-4b8f-cfcd-e6c7c78cc641"
      },
      "source": [
        "from google.colab import files\n",
        "uploaded = files.upload()"
      ],
      "execution_count": 3,
      "outputs": [
        {
          "output_type": "display_data",
          "data": {
            "text/html": [
              "\n",
              "     <input type=\"file\" id=\"files-b6fbc714-5a79-490a-a7dc-54a396bd5e77\" name=\"files[]\" multiple disabled />\n",
              "     <output id=\"result-b6fbc714-5a79-490a-a7dc-54a396bd5e77\">\n",
              "      Upload widget is only available when the cell has been executed in the\n",
              "      current browser session. Please rerun this cell to enable.\n",
              "      </output>\n",
              "      <script src=\"/nbextensions/google.colab/files.js\"></script> "
            ],
            "text/plain": [
              "<IPython.core.display.HTML object>"
            ]
          },
          "metadata": {
            "tags": []
          }
        },
        {
          "output_type": "stream",
          "text": [
            "Saving sider.csv to sider.csv\n"
          ],
          "name": "stdout"
        }
      ]
    },
    {
      "cell_type": "code",
      "metadata": {
        "id": "FI1VUyVhPRuE",
        "colab_type": "code",
        "colab": {}
      },
      "source": [
        "import pandas as pd # 판다스를 통한 파일 읽기 및 확인\n",
        "import io\n",
        "DB = pd.read_csv(io.StringIO(uploaded['sider.csv'].decode('utf-8')))"
      ],
      "execution_count": 0,
      "outputs": []
    },
    {
      "cell_type": "code",
      "metadata": {
        "id": "72RcZ485P9n7",
        "colab_type": "code",
        "colab": {
          "base_uri": "https://localhost:8080/",
          "height": 262
        },
        "outputId": "e6d09388-1269-4009-c9df-cd0b9769f15b"
      },
      "source": [
        "print(DB)"
      ],
      "execution_count": 6,
      "outputs": [
        {
          "output_type": "stream",
          "text": [
            "                                                 smiles  ...  Injury, poisoning and procedural complications\n",
            "0                                       C(CNCCNCCNCCN)N  ...                                               0\n",
            "1     CC(C)(C)C1=CC(=C(C=C1NC(=O)C2=CNC3=CC=CC=C3C2=...  ...                                               0\n",
            "2     CC[C@]12CC(=C)[C@H]3[C@H]([C@@H]1CC[C@]2(C#C)O...  ...                                               0\n",
            "3       CCC12CC(=C)C3C(C1CC[C@]2(C#C)O)CCC4=CC(=O)CCC34  ...                                               1\n",
            "4                C1C(C2=CC=CC=C2N(C3=CC=CC=C31)C(=O)N)O  ...                                               0\n",
            "...                                                 ...  ...                                             ...\n",
            "1422  C[C@H]1CN(CC[C@@]1(C)C2=CC(=CC=C2)O)C[C@H](CC3...  ...                                               0\n",
            "1423  CC[C@@H]1[C@@]2([C@@H]([C@@H](C(=O)[C@@H](C[C@...  ...                                               1\n",
            "1424  CCOC1=CC=C(C=C1)CC2=C(C=CC(=C2)[C@H]3[C@@H]([C...  ...                                               1\n",
            "1425  C1CN(CCC1N2C3=CC=CC=C3NC2=O)CCCC(C4=CC=C(C=C4)...  ...                                               1\n",
            "1426       CCC(=O)C(CC(C)N(C)C)(C1=CC=CC=C1)C2=CC=CC=C2  ...                                               1\n",
            "\n",
            "[1427 rows x 28 columns]\n"
          ],
          "name": "stdout"
        }
      ]
    },
    {
      "cell_type": "code",
      "metadata": {
        "id": "WgQQdgORRBaz",
        "colab_type": "code",
        "colab": {
          "base_uri": "https://localhost:8080/",
          "height": 467
        },
        "outputId": "a9528458-0a5a-4a22-87b9-3847191c2ab8"
      },
      "source": [
        "DB.sample(10) #10개의 샘플 확인"
      ],
      "execution_count": 7,
      "outputs": [
        {
          "output_type": "execute_result",
          "data": {
            "text/html": [
              "<div>\n",
              "<style scoped>\n",
              "    .dataframe tbody tr th:only-of-type {\n",
              "        vertical-align: middle;\n",
              "    }\n",
              "\n",
              "    .dataframe tbody tr th {\n",
              "        vertical-align: top;\n",
              "    }\n",
              "\n",
              "    .dataframe thead th {\n",
              "        text-align: right;\n",
              "    }\n",
              "</style>\n",
              "<table border=\"1\" class=\"dataframe\">\n",
              "  <thead>\n",
              "    <tr style=\"text-align: right;\">\n",
              "      <th></th>\n",
              "      <th>smiles</th>\n",
              "      <th>Hepatobiliary disorders</th>\n",
              "      <th>Metabolism and nutrition disorders</th>\n",
              "      <th>Product issues</th>\n",
              "      <th>Eye disorders</th>\n",
              "      <th>Investigations</th>\n",
              "      <th>Musculoskeletal and connective tissue disorders</th>\n",
              "      <th>Gastrointestinal disorders</th>\n",
              "      <th>Social circumstances</th>\n",
              "      <th>Immune system disorders</th>\n",
              "      <th>Reproductive system and breast disorders</th>\n",
              "      <th>Neoplasms benign, malignant and unspecified (incl cysts and polyps)</th>\n",
              "      <th>General disorders and administration site conditions</th>\n",
              "      <th>Endocrine disorders</th>\n",
              "      <th>Surgical and medical procedures</th>\n",
              "      <th>Vascular disorders</th>\n",
              "      <th>Blood and lymphatic system disorders</th>\n",
              "      <th>Skin and subcutaneous tissue disorders</th>\n",
              "      <th>Congenital, familial and genetic disorders</th>\n",
              "      <th>Infections and infestations</th>\n",
              "      <th>Respiratory, thoracic and mediastinal disorders</th>\n",
              "      <th>Psychiatric disorders</th>\n",
              "      <th>Renal and urinary disorders</th>\n",
              "      <th>Pregnancy, puerperium and perinatal conditions</th>\n",
              "      <th>Ear and labyrinth disorders</th>\n",
              "      <th>Cardiac disorders</th>\n",
              "      <th>Nervous system disorders</th>\n",
              "      <th>Injury, poisoning and procedural complications</th>\n",
              "    </tr>\n",
              "  </thead>\n",
              "  <tbody>\n",
              "    <tr>\n",
              "      <th>37</th>\n",
              "      <td>CCCN(CCC1=CC=CS1)C2CCC3=C(C2)C=CC=C3O</td>\n",
              "      <td>0</td>\n",
              "      <td>1</td>\n",
              "      <td>0</td>\n",
              "      <td>1</td>\n",
              "      <td>1</td>\n",
              "      <td>1</td>\n",
              "      <td>1</td>\n",
              "      <td>0</td>\n",
              "      <td>1</td>\n",
              "      <td>1</td>\n",
              "      <td>1</td>\n",
              "      <td>1</td>\n",
              "      <td>0</td>\n",
              "      <td>0</td>\n",
              "      <td>1</td>\n",
              "      <td>0</td>\n",
              "      <td>1</td>\n",
              "      <td>0</td>\n",
              "      <td>1</td>\n",
              "      <td>1</td>\n",
              "      <td>1</td>\n",
              "      <td>0</td>\n",
              "      <td>0</td>\n",
              "      <td>1</td>\n",
              "      <td>0</td>\n",
              "      <td>1</td>\n",
              "      <td>1</td>\n",
              "    </tr>\n",
              "    <tr>\n",
              "      <th>51</th>\n",
              "      <td>[Ca+2]</td>\n",
              "      <td>0</td>\n",
              "      <td>1</td>\n",
              "      <td>0</td>\n",
              "      <td>0</td>\n",
              "      <td>0</td>\n",
              "      <td>0</td>\n",
              "      <td>1</td>\n",
              "      <td>0</td>\n",
              "      <td>1</td>\n",
              "      <td>0</td>\n",
              "      <td>0</td>\n",
              "      <td>1</td>\n",
              "      <td>0</td>\n",
              "      <td>1</td>\n",
              "      <td>1</td>\n",
              "      <td>0</td>\n",
              "      <td>1</td>\n",
              "      <td>0</td>\n",
              "      <td>1</td>\n",
              "      <td>0</td>\n",
              "      <td>1</td>\n",
              "      <td>0</td>\n",
              "      <td>0</td>\n",
              "      <td>0</td>\n",
              "      <td>1</td>\n",
              "      <td>1</td>\n",
              "      <td>0</td>\n",
              "    </tr>\n",
              "    <tr>\n",
              "      <th>91</th>\n",
              "      <td>[H+].[H+].CNC[C@@H]([C@H]([C@@H]([C@@H](CO)O)O...</td>\n",
              "      <td>1</td>\n",
              "      <td>1</td>\n",
              "      <td>0</td>\n",
              "      <td>1</td>\n",
              "      <td>1</td>\n",
              "      <td>1</td>\n",
              "      <td>1</td>\n",
              "      <td>0</td>\n",
              "      <td>1</td>\n",
              "      <td>0</td>\n",
              "      <td>0</td>\n",
              "      <td>1</td>\n",
              "      <td>0</td>\n",
              "      <td>1</td>\n",
              "      <td>1</td>\n",
              "      <td>1</td>\n",
              "      <td>1</td>\n",
              "      <td>0</td>\n",
              "      <td>1</td>\n",
              "      <td>1</td>\n",
              "      <td>1</td>\n",
              "      <td>1</td>\n",
              "      <td>0</td>\n",
              "      <td>1</td>\n",
              "      <td>1</td>\n",
              "      <td>1</td>\n",
              "      <td>1</td>\n",
              "    </tr>\n",
              "    <tr>\n",
              "      <th>501</th>\n",
              "      <td>CC(=O)OC1C(SC2=CC=CC=C2N(C1=O)CC[NH+](C)C)C3=C...</td>\n",
              "      <td>1</td>\n",
              "      <td>1</td>\n",
              "      <td>1</td>\n",
              "      <td>1</td>\n",
              "      <td>1</td>\n",
              "      <td>1</td>\n",
              "      <td>1</td>\n",
              "      <td>1</td>\n",
              "      <td>1</td>\n",
              "      <td>1</td>\n",
              "      <td>1</td>\n",
              "      <td>1</td>\n",
              "      <td>0</td>\n",
              "      <td>1</td>\n",
              "      <td>1</td>\n",
              "      <td>1</td>\n",
              "      <td>1</td>\n",
              "      <td>0</td>\n",
              "      <td>1</td>\n",
              "      <td>1</td>\n",
              "      <td>1</td>\n",
              "      <td>1</td>\n",
              "      <td>0</td>\n",
              "      <td>1</td>\n",
              "      <td>1</td>\n",
              "      <td>1</td>\n",
              "      <td>1</td>\n",
              "    </tr>\n",
              "    <tr>\n",
              "      <th>909</th>\n",
              "      <td>CC1=CC=CC=C1C(C2=CC=CC=C2)OCCN(C)C</td>\n",
              "      <td>0</td>\n",
              "      <td>0</td>\n",
              "      <td>0</td>\n",
              "      <td>1</td>\n",
              "      <td>0</td>\n",
              "      <td>0</td>\n",
              "      <td>1</td>\n",
              "      <td>0</td>\n",
              "      <td>1</td>\n",
              "      <td>0</td>\n",
              "      <td>0</td>\n",
              "      <td>1</td>\n",
              "      <td>0</td>\n",
              "      <td>0</td>\n",
              "      <td>0</td>\n",
              "      <td>1</td>\n",
              "      <td>1</td>\n",
              "      <td>0</td>\n",
              "      <td>0</td>\n",
              "      <td>0</td>\n",
              "      <td>1</td>\n",
              "      <td>1</td>\n",
              "      <td>0</td>\n",
              "      <td>0</td>\n",
              "      <td>1</td>\n",
              "      <td>1</td>\n",
              "      <td>0</td>\n",
              "    </tr>\n",
              "    <tr>\n",
              "      <th>844</th>\n",
              "      <td>CC(CN1C2=CC=CC=C2SC3=CC=CC=C31)CN(C)C.CC(=O)[C...</td>\n",
              "      <td>1</td>\n",
              "      <td>1</td>\n",
              "      <td>0</td>\n",
              "      <td>0</td>\n",
              "      <td>1</td>\n",
              "      <td>1</td>\n",
              "      <td>1</td>\n",
              "      <td>0</td>\n",
              "      <td>0</td>\n",
              "      <td>1</td>\n",
              "      <td>0</td>\n",
              "      <td>1</td>\n",
              "      <td>1</td>\n",
              "      <td>0</td>\n",
              "      <td>1</td>\n",
              "      <td>1</td>\n",
              "      <td>1</td>\n",
              "      <td>0</td>\n",
              "      <td>1</td>\n",
              "      <td>1</td>\n",
              "      <td>1</td>\n",
              "      <td>0</td>\n",
              "      <td>0</td>\n",
              "      <td>0</td>\n",
              "      <td>1</td>\n",
              "      <td>1</td>\n",
              "      <td>1</td>\n",
              "    </tr>\n",
              "    <tr>\n",
              "      <th>527</th>\n",
              "      <td>C1=CC(=CC=C1COC(CN2C=CN=C2)C3=C(C=C(C=C3)Cl)Cl)Cl</td>\n",
              "      <td>0</td>\n",
              "      <td>0</td>\n",
              "      <td>0</td>\n",
              "      <td>0</td>\n",
              "      <td>0</td>\n",
              "      <td>0</td>\n",
              "      <td>0</td>\n",
              "      <td>0</td>\n",
              "      <td>0</td>\n",
              "      <td>0</td>\n",
              "      <td>0</td>\n",
              "      <td>1</td>\n",
              "      <td>0</td>\n",
              "      <td>0</td>\n",
              "      <td>0</td>\n",
              "      <td>0</td>\n",
              "      <td>1</td>\n",
              "      <td>0</td>\n",
              "      <td>0</td>\n",
              "      <td>0</td>\n",
              "      <td>0</td>\n",
              "      <td>0</td>\n",
              "      <td>0</td>\n",
              "      <td>0</td>\n",
              "      <td>0</td>\n",
              "      <td>1</td>\n",
              "      <td>0</td>\n",
              "    </tr>\n",
              "    <tr>\n",
              "      <th>29</th>\n",
              "      <td>CC[C@H](C)[C@@H](C(=O)N[C@@H](CCC(=O)O)C(=O)N[...</td>\n",
              "      <td>1</td>\n",
              "      <td>1</td>\n",
              "      <td>0</td>\n",
              "      <td>1</td>\n",
              "      <td>1</td>\n",
              "      <td>1</td>\n",
              "      <td>1</td>\n",
              "      <td>1</td>\n",
              "      <td>1</td>\n",
              "      <td>0</td>\n",
              "      <td>1</td>\n",
              "      <td>1</td>\n",
              "      <td>0</td>\n",
              "      <td>0</td>\n",
              "      <td>1</td>\n",
              "      <td>1</td>\n",
              "      <td>1</td>\n",
              "      <td>0</td>\n",
              "      <td>1</td>\n",
              "      <td>1</td>\n",
              "      <td>1</td>\n",
              "      <td>1</td>\n",
              "      <td>0</td>\n",
              "      <td>1</td>\n",
              "      <td>1</td>\n",
              "      <td>1</td>\n",
              "      <td>1</td>\n",
              "    </tr>\n",
              "    <tr>\n",
              "      <th>1135</th>\n",
              "      <td>C1CN(CCN1CCCN2C(=O)N3C=CC=CC3=N2)C4=CC(=CC=C4)Cl</td>\n",
              "      <td>1</td>\n",
              "      <td>1</td>\n",
              "      <td>0</td>\n",
              "      <td>1</td>\n",
              "      <td>1</td>\n",
              "      <td>1</td>\n",
              "      <td>1</td>\n",
              "      <td>1</td>\n",
              "      <td>1</td>\n",
              "      <td>1</td>\n",
              "      <td>0</td>\n",
              "      <td>1</td>\n",
              "      <td>1</td>\n",
              "      <td>1</td>\n",
              "      <td>1</td>\n",
              "      <td>1</td>\n",
              "      <td>1</td>\n",
              "      <td>0</td>\n",
              "      <td>0</td>\n",
              "      <td>1</td>\n",
              "      <td>1</td>\n",
              "      <td>1</td>\n",
              "      <td>0</td>\n",
              "      <td>1</td>\n",
              "      <td>1</td>\n",
              "      <td>1</td>\n",
              "      <td>1</td>\n",
              "    </tr>\n",
              "    <tr>\n",
              "      <th>951</th>\n",
              "      <td>C1CN(CCC1O)CCCN2C3=CC=CC=C3SC4=C2C=C(C=C4)C#N</td>\n",
              "      <td>1</td>\n",
              "      <td>1</td>\n",
              "      <td>0</td>\n",
              "      <td>1</td>\n",
              "      <td>1</td>\n",
              "      <td>1</td>\n",
              "      <td>1</td>\n",
              "      <td>0</td>\n",
              "      <td>1</td>\n",
              "      <td>1</td>\n",
              "      <td>0</td>\n",
              "      <td>1</td>\n",
              "      <td>1</td>\n",
              "      <td>0</td>\n",
              "      <td>1</td>\n",
              "      <td>1</td>\n",
              "      <td>1</td>\n",
              "      <td>0</td>\n",
              "      <td>1</td>\n",
              "      <td>1</td>\n",
              "      <td>1</td>\n",
              "      <td>0</td>\n",
              "      <td>0</td>\n",
              "      <td>0</td>\n",
              "      <td>1</td>\n",
              "      <td>1</td>\n",
              "      <td>1</td>\n",
              "    </tr>\n",
              "  </tbody>\n",
              "</table>\n",
              "</div>"
            ],
            "text/plain": [
              "                                                 smiles  ...  Injury, poisoning and procedural complications\n",
              "37                CCCN(CCC1=CC=CS1)C2CCC3=C(C2)C=CC=C3O  ...                                               1\n",
              "51                                               [Ca+2]  ...                                               0\n",
              "91    [H+].[H+].CNC[C@@H]([C@H]([C@@H]([C@@H](CO)O)O...  ...                                               1\n",
              "501   CC(=O)OC1C(SC2=CC=CC=C2N(C1=O)CC[NH+](C)C)C3=C...  ...                                               1\n",
              "909                  CC1=CC=CC=C1C(C2=CC=CC=C2)OCCN(C)C  ...                                               0\n",
              "844   CC(CN1C2=CC=CC=C2SC3=CC=CC=C31)CN(C)C.CC(=O)[C...  ...                                               1\n",
              "527   C1=CC(=CC=C1COC(CN2C=CN=C2)C3=C(C=C(C=C3)Cl)Cl)Cl  ...                                               0\n",
              "29    CC[C@H](C)[C@@H](C(=O)N[C@@H](CCC(=O)O)C(=O)N[...  ...                                               1\n",
              "1135   C1CN(CCN1CCCN2C(=O)N3C=CC=CC3=N2)C4=CC(=CC=C4)Cl  ...                                               1\n",
              "951       C1CN(CCC1O)CCCN2C3=CC=CC=C3SC4=C2C=C(C=C4)C#N  ...                                               1\n",
              "\n",
              "[10 rows x 28 columns]"
            ]
          },
          "metadata": {
            "tags": []
          },
          "execution_count": 7
        }
      ]
    },
    {
      "cell_type": "code",
      "metadata": {
        "id": "WC2QvU7oRF9z",
        "colab_type": "code",
        "colab": {}
      },
      "source": [
        ""
      ],
      "execution_count": 0,
      "outputs": []
    }
  ]
}